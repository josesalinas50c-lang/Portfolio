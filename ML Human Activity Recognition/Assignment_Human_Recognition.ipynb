{
  "cells": [
    {
      "cell_type": "code",
      "execution_count": null,
      "metadata": {
        "id": "ScH5STv2p5Cj"
      },
      "outputs": [],
      "source": [
        "import pandas                                     as pd\n",
        "import math\n",
        "import numpy                                      as np\n",
        "import seaborn                                    as sns\n",
        "import matplotlib.pyplot                          as plt\n",
        "import matplotlib.gridspec                        as gridspec\n",
        "\n",
        "import datetime\n",
        "from IPython.display       import Image\n",
        "from IPython.core.display  import HTML\n",
        "\n",
        "from imblearn              import over_sampling   as os\n",
        "from imblearn              import combine         as c\n",
        "from sklearn.manifold      import TSNE\n",
        "from sklearn               import model_selection as ms\n",
        "from sklearn               import ensemble        as en\n",
        "import random\n",
        "from sklearn               import metrics         as m\n",
        "from sklearn               import neighbors       as nb\n",
        "from sklearn               import linear_model    as lm\n",
        "from sklearn               import svm\n",
        "\n",
        "import pickle\n",
        "\n",
        "import pandas as pd\n",
        "import numpy as np\n",
        "import matplotlib.pyplot as plt\n",
        "from sklearn.decomposition import PCA\n",
        "from sklearn.preprocessing import StandardScaler\n",
        "%matplotlib inline\n",
        "import os\n",
        "cwd = os.getcwd()\n",
        "import numpy as np\n",
        "import pandas as pd\n",
        "import matplotlib as mp\n",
        "import sklearn as sk\n",
        "import matplotlib.pyplot as plt\n",
        "import seaborn as sns"
      ]
    },
    {
      "cell_type": "code",
      "execution_count": null,
      "metadata": {
        "id": "sXOGckLU3a6U"
      },
      "outputs": [],
      "source": [
        "import numpy as np\n",
        "import pandas as pd\n",
        "\n",
        "# get the features from the file features.txt\n",
        "df_cols_name = pd.read_csv('/content/features.txt', sep=\"          \", header=None)\n",
        "cols_name = df_cols_name[0].tolist()"
      ]
    },
    {
      "cell_type": "code",
      "execution_count": null,
      "metadata": {
        "id": "kwFW3KPZ3lvh"
      },
      "outputs": [],
      "source": [
        "df_X_raw = pd.read_csv('/content/X_train.txt', sep=\" \", header=None)\n",
        "df_y_raw = pd.read_csv('/content/y_train.txt', sep=\" \", header=None)\n",
        "df_subject_raw = pd.read_csv('/content/subject_id_train.txt', sep=\" \", header=None)\n",
        "\n",
        "\n",
        "df2_X_raw=pd.read_csv('/content/X_test.txt', sep=\" \", header=None)\n",
        "df2_y_raw = pd.read_csv('/content/y_test.txt', sep=\" \", header=None)\n",
        "df2_subject_raw = pd.read_csv('/content/subject_id_test.txt', sep=\" \", header=None)\n",
        "\n",
        "df_X_raw.columns = cols_name\n",
        "df2_X_raw.columns = cols_name\n",
        "# join\n",
        "df_raw = df_X_raw\n",
        "df_raw['subject'] = df_subject_raw\n",
        "df_raw['position'] = df_y_raw\n",
        "\n",
        "df2_raw = df2_X_raw\n",
        "df2_raw['subject'] = df2_subject_raw\n",
        "df2_raw['position'] = df2_y_raw"
      ]
    },
    {
      "cell_type": "code",
      "source": [
        "df_X_raw.isna().sum()\n",
        "df_y_raw.isna().sum()\n",
        "df2_raw.isna().sum()\n",
        "#there are no missing values therefore we wont be using imputations technniques"
      ],
      "metadata": {
        "colab": {
          "base_uri": "https://localhost:8080/"
        },
        "id": "lz-OkIvkWZ0u",
        "outputId": "9b0e3069-10d6-4f81-d566-26c786eb0913"
      },
      "execution_count": null,
      "outputs": [
        {
          "output_type": "execute_result",
          "data": {
            "text/plain": [
              "tBodyAcc-Mean-1                0\n",
              "tBodyAcc-Mean-2                0\n",
              "tBodyAcc-Mean-3                0\n",
              "tBodyAcc-STD-1                 0\n",
              "tBodyAcc-STD-2                 0\n",
              "                              ..\n",
              "tXAxisAcc-AngleWRTGravity-1    0\n",
              "tYAxisAcc-AngleWRTGravity-1    0\n",
              "tZAxisAcc-AngleWRTGravity-1    0\n",
              "subject                        0\n",
              "position                       0\n",
              "Length: 563, dtype: int64"
            ]
          },
          "metadata": {},
          "execution_count": 549
        }
      ]
    },
    {
      "cell_type": "code",
      "source": [
        "#This will help us later when we want to divide the datasets between the different activities\n",
        "df_transition=df_raw\n",
        "df_moving=df_raw\n",
        "df_stationary=df_raw"
      ],
      "metadata": {
        "id": "GMTUBfYcUeqq"
      },
      "execution_count": null,
      "outputs": []
    },
    {
      "cell_type": "code",
      "execution_count": null,
      "metadata": {
        "id": "hE9APN5VrcjG"
      },
      "outputs": [],
      "source": [
        "# To make the exploration of the data that we are going to do later on, I will replace the numbers contained in the target column with their respective references.\n",
        "# This relation is contained in the file \"activity_labels\"\n",
        "\n",
        "df_raw['position'] = df_raw['position'].map( {  1 : 'WALKING',\n",
        "                                            2 : 'WALKING_UPSTAIRS',\n",
        "                                            3 : 'WALKING_DOWNSTAIRS',\n",
        "                                            4 : 'SITTING',\n",
        "                                            5 : 'STANDING',\n",
        "                                            6 : 'LAYING',\n",
        "                                            7 : 'STAND_TO_SIT',\n",
        "                                            8 : 'SIT_TO_STAND',\n",
        "                                            9 : 'SIT_TO_LIE',\n",
        "                                            10 : 'LIE_TO_SIT',\n",
        "                                            11 : 'STAND_TO_LIE',\n",
        "                                            12 : 'LIE_TO_STAND' } )"
      ]
    },
    {
      "cell_type": "code",
      "execution_count": null,
      "metadata": {
        "id": "ca1S0J5bryEL"
      },
      "outputs": [],
      "source": [
        "df1 = df_raw.copy()"
      ]
    },
    {
      "cell_type": "code",
      "execution_count": null,
      "metadata": {
        "id": "PZ77T3AhsqkG"
      },
      "outputs": [],
      "source": [
        "df_balance = df1[['subject', 'position']].groupby( 'position' ).count().sort_values( 'subject' ).reset_index()\n",
        "df_balance['perc%'] = 100*np.round( ( df_balance['subject'] / np.sum( df_balance['subject'] ) ), 4 )"
      ]
    },
    {
      "cell_type": "code",
      "execution_count": null,
      "metadata": {
        "colab": {
          "base_uri": "https://localhost:8080/",
          "height": 425
        },
        "id": "9Zbc9xU116eE",
        "outputId": "0da9d639-07f9-4e91-dc89-6f90f209c5a6"
      },
      "outputs": [
        {
          "output_type": "execute_result",
          "data": {
            "text/plain": [
              "              position  subject  perc%\n",
              "0         SIT_TO_STAND       23   0.30\n",
              "1         STAND_TO_SIT       47   0.61\n",
              "2         LIE_TO_STAND       57   0.73\n",
              "3           LIE_TO_SIT       60   0.77\n",
              "4           SIT_TO_LIE       75   0.97\n",
              "5         STAND_TO_LIE       90   1.16\n",
              "6   WALKING_DOWNSTAIRS      987  12.71\n",
              "7     WALKING_UPSTAIRS     1073  13.81\n",
              "8              WALKING     1226  15.78\n",
              "9              SITTING     1293  16.65\n",
              "10              LAYING     1413  18.19\n",
              "11            STANDING     1423  18.32"
            ],
            "text/html": [
              "\n",
              "  <div id=\"df-6af0f62d-af2a-46b3-a3f0-27ee0c9d68dd\">\n",
              "    <div class=\"colab-df-container\">\n",
              "      <div>\n",
              "<style scoped>\n",
              "    .dataframe tbody tr th:only-of-type {\n",
              "        vertical-align: middle;\n",
              "    }\n",
              "\n",
              "    .dataframe tbody tr th {\n",
              "        vertical-align: top;\n",
              "    }\n",
              "\n",
              "    .dataframe thead th {\n",
              "        text-align: right;\n",
              "    }\n",
              "</style>\n",
              "<table border=\"1\" class=\"dataframe\">\n",
              "  <thead>\n",
              "    <tr style=\"text-align: right;\">\n",
              "      <th></th>\n",
              "      <th>position</th>\n",
              "      <th>subject</th>\n",
              "      <th>perc%</th>\n",
              "    </tr>\n",
              "  </thead>\n",
              "  <tbody>\n",
              "    <tr>\n",
              "      <th>0</th>\n",
              "      <td>SIT_TO_STAND</td>\n",
              "      <td>23</td>\n",
              "      <td>0.30</td>\n",
              "    </tr>\n",
              "    <tr>\n",
              "      <th>1</th>\n",
              "      <td>STAND_TO_SIT</td>\n",
              "      <td>47</td>\n",
              "      <td>0.61</td>\n",
              "    </tr>\n",
              "    <tr>\n",
              "      <th>2</th>\n",
              "      <td>LIE_TO_STAND</td>\n",
              "      <td>57</td>\n",
              "      <td>0.73</td>\n",
              "    </tr>\n",
              "    <tr>\n",
              "      <th>3</th>\n",
              "      <td>LIE_TO_SIT</td>\n",
              "      <td>60</td>\n",
              "      <td>0.77</td>\n",
              "    </tr>\n",
              "    <tr>\n",
              "      <th>4</th>\n",
              "      <td>SIT_TO_LIE</td>\n",
              "      <td>75</td>\n",
              "      <td>0.97</td>\n",
              "    </tr>\n",
              "    <tr>\n",
              "      <th>5</th>\n",
              "      <td>STAND_TO_LIE</td>\n",
              "      <td>90</td>\n",
              "      <td>1.16</td>\n",
              "    </tr>\n",
              "    <tr>\n",
              "      <th>6</th>\n",
              "      <td>WALKING_DOWNSTAIRS</td>\n",
              "      <td>987</td>\n",
              "      <td>12.71</td>\n",
              "    </tr>\n",
              "    <tr>\n",
              "      <th>7</th>\n",
              "      <td>WALKING_UPSTAIRS</td>\n",
              "      <td>1073</td>\n",
              "      <td>13.81</td>\n",
              "    </tr>\n",
              "    <tr>\n",
              "      <th>8</th>\n",
              "      <td>WALKING</td>\n",
              "      <td>1226</td>\n",
              "      <td>15.78</td>\n",
              "    </tr>\n",
              "    <tr>\n",
              "      <th>9</th>\n",
              "      <td>SITTING</td>\n",
              "      <td>1293</td>\n",
              "      <td>16.65</td>\n",
              "    </tr>\n",
              "    <tr>\n",
              "      <th>10</th>\n",
              "      <td>LAYING</td>\n",
              "      <td>1413</td>\n",
              "      <td>18.19</td>\n",
              "    </tr>\n",
              "    <tr>\n",
              "      <th>11</th>\n",
              "      <td>STANDING</td>\n",
              "      <td>1423</td>\n",
              "      <td>18.32</td>\n",
              "    </tr>\n",
              "  </tbody>\n",
              "</table>\n",
              "</div>\n",
              "      <button class=\"colab-df-convert\" onclick=\"convertToInteractive('df-6af0f62d-af2a-46b3-a3f0-27ee0c9d68dd')\"\n",
              "              title=\"Convert this dataframe to an interactive table.\"\n",
              "              style=\"display:none;\">\n",
              "        \n",
              "  <svg xmlns=\"http://www.w3.org/2000/svg\" height=\"24px\"viewBox=\"0 0 24 24\"\n",
              "       width=\"24px\">\n",
              "    <path d=\"M0 0h24v24H0V0z\" fill=\"none\"/>\n",
              "    <path d=\"M18.56 5.44l.94 2.06.94-2.06 2.06-.94-2.06-.94-.94-2.06-.94 2.06-2.06.94zm-11 1L8.5 8.5l.94-2.06 2.06-.94-2.06-.94L8.5 2.5l-.94 2.06-2.06.94zm10 10l.94 2.06.94-2.06 2.06-.94-2.06-.94-.94-2.06-.94 2.06-2.06.94z\"/><path d=\"M17.41 7.96l-1.37-1.37c-.4-.4-.92-.59-1.43-.59-.52 0-1.04.2-1.43.59L10.3 9.45l-7.72 7.72c-.78.78-.78 2.05 0 2.83L4 21.41c.39.39.9.59 1.41.59.51 0 1.02-.2 1.41-.59l7.78-7.78 2.81-2.81c.8-.78.8-2.07 0-2.86zM5.41 20L4 18.59l7.72-7.72 1.47 1.35L5.41 20z\"/>\n",
              "  </svg>\n",
              "      </button>\n",
              "      \n",
              "  <style>\n",
              "    .colab-df-container {\n",
              "      display:flex;\n",
              "      flex-wrap:wrap;\n",
              "      gap: 12px;\n",
              "    }\n",
              "\n",
              "    .colab-df-convert {\n",
              "      background-color: #E8F0FE;\n",
              "      border: none;\n",
              "      border-radius: 50%;\n",
              "      cursor: pointer;\n",
              "      display: none;\n",
              "      fill: #1967D2;\n",
              "      height: 32px;\n",
              "      padding: 0 0 0 0;\n",
              "      width: 32px;\n",
              "    }\n",
              "\n",
              "    .colab-df-convert:hover {\n",
              "      background-color: #E2EBFA;\n",
              "      box-shadow: 0px 1px 2px rgba(60, 64, 67, 0.3), 0px 1px 3px 1px rgba(60, 64, 67, 0.15);\n",
              "      fill: #174EA6;\n",
              "    }\n",
              "\n",
              "    [theme=dark] .colab-df-convert {\n",
              "      background-color: #3B4455;\n",
              "      fill: #D2E3FC;\n",
              "    }\n",
              "\n",
              "    [theme=dark] .colab-df-convert:hover {\n",
              "      background-color: #434B5C;\n",
              "      box-shadow: 0px 1px 3px 1px rgba(0, 0, 0, 0.15);\n",
              "      filter: drop-shadow(0px 1px 2px rgba(0, 0, 0, 0.3));\n",
              "      fill: #FFFFFF;\n",
              "    }\n",
              "  </style>\n",
              "\n",
              "      <script>\n",
              "        const buttonEl =\n",
              "          document.querySelector('#df-6af0f62d-af2a-46b3-a3f0-27ee0c9d68dd button.colab-df-convert');\n",
              "        buttonEl.style.display =\n",
              "          google.colab.kernel.accessAllowed ? 'block' : 'none';\n",
              "\n",
              "        async function convertToInteractive(key) {\n",
              "          const element = document.querySelector('#df-6af0f62d-af2a-46b3-a3f0-27ee0c9d68dd');\n",
              "          const dataTable =\n",
              "            await google.colab.kernel.invokeFunction('convertToInteractive',\n",
              "                                                     [key], {});\n",
              "          if (!dataTable) return;\n",
              "\n",
              "          const docLinkHtml = 'Like what you see? Visit the ' +\n",
              "            '<a target=\"_blank\" href=https://colab.research.google.com/notebooks/data_table.ipynb>data table notebook</a>'\n",
              "            + ' to learn more about interactive tables.';\n",
              "          element.innerHTML = '';\n",
              "          dataTable['output_type'] = 'display_data';\n",
              "          await google.colab.output.renderOutput(dataTable, element);\n",
              "          const docLink = document.createElement('div');\n",
              "          docLink.innerHTML = docLinkHtml;\n",
              "          element.appendChild(docLink);\n",
              "        }\n",
              "      </script>\n",
              "    </div>\n",
              "  </div>\n",
              "  "
            ]
          },
          "metadata": {},
          "execution_count": 469
        }
      ],
      "source": [
        "df_balance\n",
        "#As you can see the model will have a great bias between absolute movements(such as sitting,standing,laying)and transitioning movements\n",
        "#such as sitting to stand or standing to sit"
      ]
    },
    {
      "cell_type": "code",
      "source": [
        "df_raw.duplicated().any()\n",
        "df2_raw.duplicated().any()\n",
        "#There are no duplicates no elimination techniques"
      ],
      "metadata": {
        "colab": {
          "base_uri": "https://localhost:8080/"
        },
        "id": "oiWKpWATPVhL",
        "outputId": "0e8aa358-e955-484d-b3f5-f980fed323aa"
      },
      "execution_count": null,
      "outputs": [
        {
          "output_type": "execute_result",
          "data": {
            "text/plain": [
              "False"
            ]
          },
          "metadata": {},
          "execution_count": 554
        }
      ]
    },
    {
      "cell_type": "code",
      "execution_count": null,
      "metadata": {
        "id": "pSBM-uQQDaQk"
      },
      "outputs": [],
      "source": [
        "import pandas as pd\n",
        "import numpy as np\n",
        "from imblearn.pipeline import Pipeline\n",
        "import matplotlib.pyplot as plt\n",
        "from sklearn.datasets import make_classification\n",
        "from sklearn.model_selection import cross_validate\n",
        "from sklearn.model_selection import RepeatedStratifiedKFold\n",
        "from sklearn.ensemble import RandomForestClassifier\n",
        "from imblearn.combine import SMOTETomek\n",
        "from imblearn.under_sampling import TomekLinks"
      ]
    },
    {
      "cell_type": "code",
      "execution_count": null,
      "metadata": {
        "id": "iOn6s034FGhT"
      },
      "outputs": [],
      "source": [
        "df51=df_raw"
      ]
    },
    {
      "cell_type": "code",
      "execution_count": null,
      "metadata": {
        "id": "Y0BUFNPKFFZU"
      },
      "outputs": [],
      "source": [
        "X_for_tsne = df51.drop(['subject', 'position'], axis=1)\n",
        "%time\n",
        "tsne = TSNE(random_state = 42, n_components=2, verbose=1, perplexity=50, n_iter=1000).fit_transform(X_for_tsne)"
      ]
    },
    {
      "cell_type": "code",
      "execution_count": null,
      "metadata": {
        "colab": {
          "base_uri": "https://localhost:8080/",
          "height": 283
        },
        "id": "hvd5MHzt1wCk",
        "outputId": "b61d1862-ae21-4686-f12b-edc0eac3c677"
      },
      "outputs": [
        {
          "output_type": "execute_result",
          "data": {
            "text/plain": [
              "<matplotlib.axes._subplots.AxesSubplot at 0x7f31948d7fd0>"
            ]
          },
          "metadata": {},
          "execution_count": 557
        },
        {
          "output_type": "display_data",
          "data": {
            "text/plain": [
              "<Figure size 432x288 with 1 Axes>"
            ],
            "image/png": "[encoded data removed]"
          },
          "metadata": {
            "needs_background": "light"
          }
        }
      ],
      "source": [
        "sns.scatterplot(x =tsne[:, 0], y = tsne[:, 1], hue = df51[\"position\"],palette=\"bright\")\n",
        "#There are no categorical variables therefore we cant do correlations between them"
      ]
    },
    {
      "cell_type": "code",
      "execution_count": null,
      "metadata": {
        "id": "-XRx5moa_1QQ"
      },
      "outputs": [],
      "source": [
        "df_featureselection=df_raw"
      ]
    },
    {
      "cell_type": "code",
      "execution_count": null,
      "metadata": {
        "id": "8oIER-OC-4ZA"
      },
      "outputs": [],
      "source": [
        "from sklearn.model_selection import train_test_split\n",
        "\n",
        "X, y = df_featureselection.iloc[:, 1:].values, df_y_raw.iloc[:,0].values\n",
        "\n",
        "X_train, y_train, X_test, y_test =\\\n",
        "    train_test_split(X, y,\n",
        "                     test_size=0.3,\n",
        "                     random_state=0,\n",
        "                     stratify=y)\n"
      ]
    },
    {
      "cell_type": "code",
      "source": [
        "\n",
        "X_train = df_raw.drop(['subject', 'position'], axis=1)\n",
        "X_test= df2_raw.drop(['subject', 'position'], axis=1)"
      ],
      "metadata": {
        "id": "zaJbkAIsRI2b"
      },
      "execution_count": null,
      "outputs": []
    },
    {
      "cell_type": "code",
      "execution_count": null,
      "metadata": {
        "id": "MRNlvB9NBohR"
      },
      "outputs": [],
      "source": [
        "from sklearn.preprocessing import StandardScaler\n",
        "sc = StandardScaler()\n",
        "X_train_std = sc.fit_transform(X_train)\n",
        "X_test_std = sc.transform(X_test)"
      ]
    },
    {
      "cell_type": "code",
      "execution_count": null,
      "metadata": {
        "id": "ytFVl403Rhvh"
      },
      "outputs": [],
      "source": [
        "\n",
        "from sklearn.model_selection import train_test_split\n",
        "from sklearn.preprocessing import StandardScaler\n",
        "from sklearn.utils import shuffle\n",
        "from sklearn.ensemble import RandomForestClassifier, StackingClassifier, GradientBoostingClassifier\n",
        "from sklearn.linear_model import RidgeClassifier\n",
        "from sklearn.svm import SVC\n",
        "from sklearn.metrics import f1_score, confusion_matrix, roc_auc_score, roc_curve\n",
        "from sklearn.neighbors import KNeighborsClassifier\n",
        "from sklearn.tree import DecisionTreeClassifier\n",
        "from sklearn.linear_model import LogisticRegression\n",
        "from sklearn.naive_bayes import GaussianNB\n",
        "import plotly.figure_factory as ff\n",
        "import plotly.graph_objects as go\n",
        "import plotly.io as pio\n",
        "pio.renderers.default='browser'\n",
        "import pandas as pd\n",
        "import warnings\n",
        "warnings.filterwarnings(\"ignore\")"
      ]
    },
    {
      "cell_type": "code",
      "execution_count": null,
      "metadata": {
        "id": "oQp-bML7VOWc"
      },
      "outputs": [],
      "source": [
        "test=df2_raw\n",
        "train=df_raw"
      ]
    },
    {
      "cell_type": "code",
      "source": [
        "from sklearn.model_selection import train_test_split\n",
        "from sklearn.feature_selection import SelectKBest\n",
        "from sklearn.feature_selection import f_classif\n",
        "from sklearn.feature_selection import mutual_info_classif\n",
        "from matplotlib import pyplot"
      ],
      "metadata": {
        "id": "dnS5teuwj6Sd"
      },
      "execution_count": null,
      "outputs": []
    },
    {
      "cell_type": "code",
      "execution_count": null,
      "metadata": {
        "id": "iXQRbufTV_m1"
      },
      "outputs": [],
      "source": [
        "\n",
        "x = train.drop(['position'],axis=1)\n",
        "x = StandardScaler().fit_transform(x)\n",
        "y = train['position']\n",
        "x_train, x_test, y_train, y_test = train_test_split(x, y, test_size=0.2, random_state=40)\n",
        "\n",
        "xTest = test.drop(['position'],axis=1)\n",
        "xTest = StandardScaler().fit_transform(xTest)\n",
        "yTest = test['position']\n",
        "labels = ['WALKING','WALKING_UPSTAIRS','WALKING_DOWNSTAIRS','SITTING','STANDING','LAYING','STAND_TO_SIT','SIT_TO_STAND','SIT_TO_LIE','LIE_TO_SIT','STAND_TO_LIE','LIE_TO_STAND']\n"
      ]
    },
    {
      "cell_type": "code",
      "source": [
        "# configure to select all features\n",
        "fs = SelectKBest(score_func=f_classif, k='all')\n",
        "# learn relationship from training data\n",
        "fs.fit(x_train, y_train)\n",
        "# transform train input data\n",
        "X_train_fs = fs.transform(x_train)\n",
        "# transform test input data\n",
        "X_test_fs = fs.transform(x_test)"
      ],
      "metadata": {
        "id": "aDqJlTz7j-NV"
      },
      "execution_count": null,
      "outputs": []
    },
    {
      "cell_type": "code",
      "source": [
        "# what are scores for the features\n",
        "for i in range(len(fs.scores_)):\n",
        "    print('Feature %d: %f' % (i, fs.scores_[i]))\n",
        "# plot the scores\n",
        "pyplot.bar([i for i in range(len(fs.scores_))], fs.scores_)\n",
        "pyplot.show()"
      ],
      "metadata": {
        "colab": {
          "base_uri": "https://localhost:8080/",
          "height": 1000
        },
        "id": "VfogCCQKkVV8",
        "outputId": "f7ff67b8-665c-459f-90d7-d4842c03b2a0"
      },
      "execution_count": null,
      "outputs": [
        {
          "output_type": "stream",
          "name": "stdout",
          "text": [
            "Feature 0: 1846.141886\n",
            "Feature 1: 994.276974\n",
            "Feature 2: 482.324757\n",
            "Feature 3: 6101.227645\n",
            "Feature 4: 3602.956706\n",
            "Feature 5: 1991.801000\n",
            "Feature 6: 5285.261559\n",
            "Feature 7: 3282.558718\n",
            "Feature 8: 1940.587314\n",
            "Feature 9: 7061.053851\n",
            "Feature 10: 2344.844160\n",
            "Feature 11: 1581.414224\n",
            "Feature 12: 3121.650240\n",
            "Feature 13: 2560.269784\n",
            "Feature 14: 1316.167103\n",
            "Feature 15: 5369.897721\n",
            "Feature 16: 1841.009886\n",
            "Feature 17: 1151.842763\n",
            "Feature 18: 604.588464\n",
            "Feature 19: 3124.492623\n",
            "Feature 20: 2252.421369\n",
            "Feature 21: 1616.274431\n",
            "Feature 22: 1669.936494\n",
            "Feature 23: 1578.748094\n",
            "Feature 24: 945.749381\n",
            "Feature 25: 790.756632\n",
            "Feature 26: 327.291159\n",
            "Feature 27: 106.585999\n",
            "Feature 28: 82.581196\n",
            "Feature 29: 348.643459\n",
            "Feature 30: 275.621028\n",
            "Feature 31: 43.368624\n",
            "Feature 32: 16.404284\n",
            "Feature 33: 359.534288\n",
            "Feature 34: 271.087434\n",
            "Feature 35: 69.895934\n",
            "Feature 36: 50.877132\n",
            "Feature 37: 217.333398\n",
            "Feature 38: 39.961299\n",
            "Feature 39: 187.243154\n",
            "Feature 40: 9632.338437\n",
            "Feature 41: 2050.293458\n",
            "Feature 42: 609.171564\n",
            "Feature 43: 978.271308\n",
            "Feature 44: 844.534498\n",
            "Feature 45: 559.715476\n",
            "Feature 46: 927.312750\n",
            "Feature 47: 807.202224\n",
            "Feature 48: 539.539453\n",
            "Feature 49: 8594.338928\n",
            "Feature 50: 2165.622317\n",
            "Feature 51: 619.496456\n",
            "Feature 52: 8732.169925\n",
            "Feature 53: 1910.696059\n",
            "Feature 54: 597.462482\n",
            "Feature 55: 138.228496\n",
            "Feature 56: 8471.702463\n",
            "Feature 57: 1220.709111\n",
            "Feature 58: 828.550315\n",
            "Feature 59: 725.286292\n",
            "Feature 60: 656.581948\n",
            "Feature 61: 460.065190\n",
            "Feature 62: 510.753046\n",
            "Feature 63: 549.739075\n",
            "Feature 64: 129.139936\n",
            "Feature 65: 258.856053\n",
            "Feature 66: 270.775483\n",
            "Feature 67: 297.366089\n",
            "Feature 68: 336.522898\n",
            "Feature 69: 230.750413\n",
            "Feature 70: 195.637664\n",
            "Feature 71: 163.712019\n",
            "Feature 72: 138.195591\n",
            "Feature 73: 209.277649\n",
            "Feature 74: 192.259441\n",
            "Feature 75: 176.490183\n",
            "Feature 76: 162.593434\n",
            "Feature 77: 125.774538\n",
            "Feature 78: 57.899393\n",
            "Feature 79: 129.662795\n",
            "Feature 80: 9.233445\n",
            "Feature 81: 43.258502\n",
            "Feature 82: 22.020678\n",
            "Feature 83: 4557.254745\n",
            "Feature 84: 4047.274083\n",
            "Feature 85: 1952.865892\n",
            "Feature 86: 4540.623483\n",
            "Feature 87: 4150.072302\n",
            "Feature 88: 1973.954653\n",
            "Feature 89: 3179.921131\n",
            "Feature 90: 2203.726867\n",
            "Feature 91: 1451.263711\n",
            "Feature 92: 2644.629314\n",
            "Feature 93: 2406.430910\n",
            "Feature 94: 1569.307949\n",
            "Feature 95: 4698.177508\n",
            "Feature 96: 1443.330897\n",
            "Feature 97: 1265.180509\n",
            "Feature 98: 522.984872\n",
            "Feature 99: 3607.754033\n",
            "Feature 100: 3336.638951\n",
            "Feature 101: 1792.612027\n",
            "Feature 102: 7469.783075\n",
            "Feature 103: 6266.943357\n",
            "Feature 104: 6407.810924\n",
            "Feature 105: 787.313786\n",
            "Feature 106: 17.179978\n",
            "Feature 107: 154.009704\n",
            "Feature 108: 151.054833\n",
            "Feature 109: 359.323484\n",
            "Feature 110: 44.220507\n",
            "Feature 111: 34.545495\n",
            "Feature 112: 60.478738\n",
            "Feature 113: 379.473059\n",
            "Feature 114: 58.678824\n",
            "Feature 115: 77.536079\n",
            "Feature 116: 103.665664\n",
            "Feature 117: 108.522430\n",
            "Feature 118: 34.851384\n",
            "Feature 119: 67.414936\n",
            "Feature 120: 37.870448\n",
            "Feature 121: 51.436209\n",
            "Feature 122: 271.187004\n",
            "Feature 123: 2115.426936\n",
            "Feature 124: 1615.058921\n",
            "Feature 125: 2333.875790\n",
            "Feature 126: 2134.798044\n",
            "Feature 127: 1696.849798\n",
            "Feature 128: 2184.478114\n",
            "Feature 129: 1129.069789\n",
            "Feature 130: 1017.683112\n",
            "Feature 131: 1734.349333\n",
            "Feature 132: 1301.591366\n",
            "Feature 133: 1140.418146\n",
            "Feature 134: 1724.091621\n",
            "Feature 135: 3545.837736\n",
            "Feature 136: 832.823393\n",
            "Feature 137: 409.831985\n",
            "Feature 138: 603.024502\n",
            "Feature 139: 1904.412710\n",
            "Feature 140: 1606.501482\n",
            "Feature 141: 1678.095640\n",
            "Feature 142: 266.783840\n",
            "Feature 143: 330.191614\n",
            "Feature 144: 468.671071\n",
            "Feature 145: 283.176330\n",
            "Feature 146: 239.464091\n",
            "Feature 147: 55.914110\n",
            "Feature 148: 84.753821\n",
            "Feature 149: 120.712476\n",
            "Feature 150: 147.957108\n",
            "Feature 151: 60.201116\n",
            "Feature 152: 42.902513\n",
            "Feature 153: 502.530658\n",
            "Feature 154: 633.645656\n",
            "Feature 155: 302.844746\n",
            "Feature 156: 97.703604\n",
            "Feature 157: 28.975317\n",
            "Feature 158: 40.233852\n",
            "Feature 159: 200.145340\n",
            "Feature 160: 8.771698\n",
            "Feature 161: 3.895237\n",
            "Feature 162: 6.950443\n",
            "Feature 163: 2282.887665\n",
            "Feature 164: 1089.507896\n",
            "Feature 165: 2453.684588\n",
            "Feature 166: 2401.342897\n",
            "Feature 167: 1174.027422\n",
            "Feature 168: 2695.400641\n",
            "Feature 169: 1589.100492\n",
            "Feature 170: 802.723052\n",
            "Feature 171: 1951.978848\n",
            "Feature 172: 1483.656630\n",
            "Feature 173: 826.730071\n",
            "Feature 174: 1316.035356\n",
            "Feature 175: 2402.530637\n",
            "Feature 176: 547.754551\n",
            "Feature 177: 238.253108\n",
            "Feature 178: 583.522500\n",
            "Feature 179: 2251.056814\n",
            "Feature 180: 1225.685617\n",
            "Feature 181: 2660.960925\n",
            "Feature 182: 3273.277594\n",
            "Feature 183: 2786.175225\n",
            "Feature 184: 4641.165587\n",
            "Feature 185: 242.853823\n",
            "Feature 186: 110.198089\n",
            "Feature 187: 65.097467\n",
            "Feature 188: 38.306135\n",
            "Feature 189: 137.370679\n",
            "Feature 190: 75.007024\n",
            "Feature 191: 33.774864\n",
            "Feature 192: 31.655886\n",
            "Feature 193: 582.878863\n",
            "Feature 194: 309.500890\n",
            "Feature 195: 120.223869\n",
            "Feature 196: 82.475559\n",
            "Feature 197: 39.417914\n",
            "Feature 198: 26.425394\n",
            "Feature 199: 41.984520\n",
            "Feature 200: 5448.216564\n",
            "Feature 201: 3417.106575\n",
            "Feature 202: 2963.709615\n",
            "Feature 203: 4562.992927\n",
            "Feature 204: 728.068419\n",
            "Feature 205: 5448.216564\n",
            "Feature 206: 2121.469583\n",
            "Feature 207: 2031.727890\n",
            "Feature 208: 2634.894638\n",
            "Feature 209: 295.237964\n",
            "Feature 210: 304.522163\n",
            "Feature 211: 171.648403\n",
            "Feature 212: 121.912607\n",
            "Feature 213: 5448.216564\n",
            "Feature 214: 3417.106575\n",
            "Feature 215: 2963.709615\n",
            "Feature 216: 4562.992927\n",
            "Feature 217: 728.068419\n",
            "Feature 218: 5448.216564\n",
            "Feature 219: 2121.469583\n",
            "Feature 220: 2031.727890\n",
            "Feature 221: 2634.894638\n",
            "Feature 222: 295.237964\n",
            "Feature 223: 304.522163\n",
            "Feature 224: 171.648403\n",
            "Feature 225: 121.912607\n",
            "Feature 226: 4782.081580\n",
            "Feature 227: 4292.202882\n",
            "Feature 228: 4611.031727\n",
            "Feature 229: 3273.178867\n",
            "Feature 230: 1207.816542\n",
            "Feature 231: 4782.081580\n",
            "Feature 232: 1474.765549\n",
            "Feature 233: 4263.360008\n",
            "Feature 234: 7712.821318\n",
            "Feature 235: 314.300720\n",
            "Feature 236: 278.257379\n",
            "Feature 237: 10.592466\n",
            "Feature 238: 23.596470\n",
            "Feature 239: 3591.569196\n",
            "Feature 240: 1798.578108\n",
            "Feature 241: 1914.525682\n",
            "Feature 242: 1864.815357\n",
            "Feature 243: 739.758788\n",
            "Feature 244: 3591.569196\n",
            "Feature 245: 1043.464108\n",
            "Feature 246: 1857.189106\n",
            "Feature 247: 294.707805\n",
            "Feature 248: 98.265918\n",
            "Feature 249: 80.686270\n",
            "Feature 250: 46.831991\n",
            "Feature 251: 42.666798\n",
            "Feature 252: 2227.642790\n",
            "Feature 253: 1271.505907\n",
            "Feature 254: 1420.232481\n",
            "Feature 255: 1122.849895\n",
            "Feature 256: 1136.626995\n",
            "Feature 257: 2227.642790\n",
            "Feature 258: 419.800512\n",
            "Feature 259: 1615.172943\n",
            "Feature 260: 3356.068575\n",
            "Feature 261: 60.115497\n",
            "Feature 262: 73.815540\n",
            "Feature 263: 11.670735\n",
            "Feature 264: 30.072719\n",
            "Feature 265: 5753.932900\n",
            "Feature 266: 4186.188477\n",
            "Feature 267: 2259.146987\n",
            "Feature 268: 5538.458788\n",
            "Feature 269: 3199.560982\n",
            "Feature 270: 1788.499022\n",
            "Feature 271: 6360.300448\n",
            "Feature 272: 4264.237724\n",
            "Feature 273: 2248.959080\n",
            "Feature 274: 3286.556251\n",
            "Feature 275: 2006.211245\n",
            "Feature 276: 1266.822137\n",
            "Feature 277: 352.080583\n",
            "Feature 278: 254.436247\n",
            "Feature 279: 214.416862\n",
            "Feature 280: 6109.700179\n",
            "Feature 281: 2167.121292\n",
            "Feature 282: 1167.379673\n",
            "Feature 283: 589.408138\n",
            "Feature 284: 3084.753061\n",
            "Feature 285: 2971.276246\n",
            "Feature 286: 1846.674977\n",
            "Feature 287: 7444.771562\n",
            "Feature 288: 5099.199694\n",
            "Feature 289: 4431.815718\n",
            "Feature 290: 66.436042\n",
            "Feature 291: 88.263989\n",
            "Feature 292: 65.303187\n",
            "Feature 293: 405.571032\n",
            "Feature 294: 165.010014\n",
            "Feature 295: 241.700032\n",
            "Feature 296: 308.710315\n",
            "Feature 297: 239.118265\n",
            "Feature 298: 158.587702\n",
            "Feature 299: 170.521169\n",
            "Feature 300: 123.403152\n",
            "Feature 301: 115.749577\n",
            "Feature 302: 1861.818878\n",
            "Feature 303: 1030.271523\n",
            "Feature 304: 664.485704\n",
            "Feature 305: 532.832969\n",
            "Feature 306: 702.295721\n",
            "Feature 307: 643.491276\n",
            "Feature 308: 398.517100\n",
            "Feature 309: 158.247565\n",
            "Feature 310: 2082.879420\n",
            "Feature 311: 735.779693\n",
            "Feature 312: 796.162155\n",
            "Feature 313: 311.294601\n",
            "Feature 314: 2158.496445\n",
            "Feature 315: 719.792895\n",
            "Feature 316: 969.698376\n",
            "Feature 317: 740.733516\n",
            "Feature 318: 767.744134\n",
            "Feature 319: 502.045480\n",
            "Feature 320: 417.465830\n",
            "Feature 321: 504.233782\n",
            "Feature 322: 383.162396\n",
            "Feature 323: 141.678169\n",
            "Feature 324: 1076.869094\n",
            "Feature 325: 835.468389\n",
            "Feature 326: 524.580866\n",
            "Feature 327: 283.880508\n",
            "Feature 328: 1147.459549\n",
            "Feature 329: 590.755915\n",
            "Feature 330: 539.896478\n",
            "Feature 331: 481.911141\n",
            "Feature 332: 382.365639\n",
            "Feature 333: 273.173594\n",
            "Feature 334: 253.734072\n",
            "Feature 335: 350.870612\n",
            "Feature 336: 276.822377\n",
            "Feature 337: 124.164547\n",
            "Feature 338: 562.270393\n",
            "Feature 339: 402.026440\n",
            "Feature 340: 314.711733\n",
            "Feature 341: 227.333633\n",
            "Feature 342: 581.203642\n",
            "Feature 343: 309.760543\n",
            "Feature 344: 4385.977826\n",
            "Feature 345: 4022.851796\n",
            "Feature 346: 2007.915096\n",
            "Feature 347: 4312.040125\n",
            "Feature 348: 3749.825084\n",
            "Feature 349: 1799.364253\n",
            "Feature 350: 4274.580154\n",
            "Feature 351: 3930.565776\n",
            "Feature 352: 1910.191860\n",
            "Feature 353: 3293.830639\n",
            "Feature 354: 2640.708341\n",
            "Feature 355: 1395.262848\n",
            "Feature 356: 428.376808\n",
            "Feature 357: 389.279173\n",
            "Feature 358: 336.005085\n",
            "Feature 359: 4603.467417\n",
            "Feature 360: 1442.364050\n",
            "Feature 361: 1264.902359\n",
            "Feature 362: 522.883850\n",
            "Feature 363: 3298.542112\n",
            "Feature 364: 3182.899143\n",
            "Feature 365: 1783.056458\n",
            "Feature 366: 11485.599736\n",
            "Feature 367: 8898.309540\n",
            "Feature 368: 6288.213098\n",
            "Feature 369: 363.898258\n",
            "Feature 370: 56.590629\n",
            "Feature 371: 126.324489\n",
            "Feature 372: 907.541627\n",
            "Feature 373: 348.392488\n",
            "Feature 374: 403.022553\n",
            "Feature 375: 306.763544\n",
            "Feature 376: 194.001388\n",
            "Feature 377: 245.930358\n",
            "Feature 378: 129.825393\n",
            "Feature 379: 189.698172\n",
            "Feature 380: 103.865997\n",
            "Feature 381: 1414.817081\n",
            "Feature 382: 951.897811\n",
            "Feature 383: 638.938162\n",
            "Feature 384: 509.410254\n",
            "Feature 385: 688.315213\n",
            "Feature 386: 701.857407\n",
            "Feature 387: 467.977765\n",
            "Feature 388: 81.253649\n",
            "Feature 389: 1552.633805\n",
            "Feature 390: 711.941413\n",
            "Feature 391: 842.085367\n",
            "Feature 392: 465.985096\n",
            "Feature 393: 1514.631391\n",
            "Feature 394: 756.723616\n",
            "Feature 395: 1138.517117\n",
            "Feature 396: 715.235835\n",
            "Feature 397: 799.136707\n",
            "Feature 398: 492.739810\n",
            "Feature 399: 416.231761\n",
            "Feature 400: 559.847050\n",
            "Feature 401: 526.575292\n",
            "Feature 402: 82.057104\n",
            "Feature 403: 939.414061\n",
            "Feature 404: 855.021132\n",
            "Feature 405: 564.363747\n",
            "Feature 406: 523.813782\n",
            "Feature 407: 1224.754641\n",
            "Feature 408: 613.577559\n",
            "Feature 409: 424.849440\n",
            "Feature 410: 482.211450\n",
            "Feature 411: 401.211390\n",
            "Feature 412: 271.692962\n",
            "Feature 413: 242.277578\n",
            "Feature 414: 345.961234\n",
            "Feature 415: 346.295734\n",
            "Feature 416: 80.976629\n",
            "Feature 417: 532.756399\n",
            "Feature 418: 399.392429\n",
            "Feature 419: 310.619805\n",
            "Feature 420: 347.826239\n",
            "Feature 421: 554.240685\n",
            "Feature 422: 311.952941\n",
            "Feature 423: 2505.650236\n",
            "Feature 424: 1619.476433\n",
            "Feature 425: 2807.332829\n",
            "Feature 426: 1847.571536\n",
            "Feature 427: 1483.925496\n",
            "Feature 428: 2061.995229\n",
            "Feature 429: 2412.943292\n",
            "Feature 430: 1586.956157\n",
            "Feature 431: 2711.204623\n",
            "Feature 432: 1322.930720\n",
            "Feature 433: 1056.259111\n",
            "Feature 434: 1400.716335\n",
            "Feature 435: 206.447878\n",
            "Feature 436: 287.762819\n",
            "Feature 437: 221.455849\n",
            "Feature 438: 3253.602749\n",
            "Feature 439: 591.369063\n",
            "Feature 440: 397.925616\n",
            "Feature 441: 571.117477\n",
            "Feature 442: 1760.798284\n",
            "Feature 443: 1139.785005\n",
            "Feature 444: 2208.535498\n",
            "Feature 445: 3423.964273\n",
            "Feature 446: 3253.838133\n",
            "Feature 447: 3789.212287\n",
            "Feature 448: 17.790812\n",
            "Feature 449: 139.958328\n",
            "Feature 450: 189.536673\n",
            "Feature 451: 134.573520\n",
            "Feature 452: 94.888080\n",
            "Feature 453: 197.467370\n",
            "Feature 454: 40.272683\n",
            "Feature 455: 32.317469\n",
            "Feature 456: 102.337435\n",
            "Feature 457: 96.844565\n",
            "Feature 458: 132.995628\n",
            "Feature 459: 128.217116\n",
            "Feature 460: 485.914554\n",
            "Feature 461: 461.654109\n",
            "Feature 462: 425.372036\n",
            "Feature 463: 222.027279\n",
            "Feature 464: 218.886815\n",
            "Feature 465: 277.492546\n",
            "Feature 466: 175.697603\n",
            "Feature 467: 98.531820\n",
            "Feature 468: 560.039015\n",
            "Feature 469: 427.593227\n",
            "Feature 470: 260.506924\n",
            "Feature 471: 145.292620\n",
            "Feature 472: 584.010483\n",
            "Feature 473: 252.582398\n",
            "Feature 474: 380.981727\n",
            "Feature 475: 175.525384\n",
            "Feature 476: 135.596097\n",
            "Feature 477: 166.791019\n",
            "Feature 478: 156.320231\n",
            "Feature 479: 231.914161\n",
            "Feature 480: 190.738593\n",
            "Feature 481: 82.720422\n",
            "Feature 482: 393.451444\n",
            "Feature 483: 158.208123\n",
            "Feature 484: 187.496123\n",
            "Feature 485: 173.729772\n",
            "Feature 486: 397.339464\n",
            "Feature 487: 181.998392\n",
            "Feature 488: 478.069861\n",
            "Feature 489: 394.292524\n",
            "Feature 490: 332.678969\n",
            "Feature 491: 220.185531\n",
            "Feature 492: 195.961770\n",
            "Feature 493: 254.504333\n",
            "Feature 494: 192.879239\n",
            "Feature 495: 84.241696\n",
            "Feature 496: 522.139174\n",
            "Feature 497: 355.444792\n",
            "Feature 498: 226.940390\n",
            "Feature 499: 144.194142\n",
            "Feature 500: 561.989819\n",
            "Feature 501: 238.699708\n",
            "Feature 502: 4203.063097\n",
            "Feature 503: 2871.807296\n",
            "Feature 504: 4202.322854\n",
            "Feature 505: 1854.308508\n",
            "Feature 506: 269.553572\n",
            "Feature 507: 4203.063097\n",
            "Feature 508: 1444.099392\n",
            "Feature 509: 3562.694735\n",
            "Feature 510: 4957.504160\n",
            "Feature 511: 207.602893\n",
            "Feature 512: 129.323225\n",
            "Feature 513: 165.356858\n",
            "Feature 514: 197.228953\n",
            "Feature 515: 4164.866780\n",
            "Feature 516: 3867.345844\n",
            "Feature 517: 3975.732570\n",
            "Feature 518: 2821.455011\n",
            "Feature 519: 678.249703\n",
            "Feature 520: 4164.866780\n",
            "Feature 521: 1431.911283\n",
            "Feature 522: 3395.984170\n",
            "Feature 523: 7606.046884\n",
            "Feature 524: 6.800785\n",
            "Feature 525: 124.596582\n",
            "Feature 526: 212.874085\n",
            "Feature 527: 174.187867\n",
            "Feature 528: 1916.514419\n",
            "Feature 529: 1537.711932\n",
            "Feature 530: 1852.582226\n",
            "Feature 531: 1120.254202\n",
            "Feature 532: 221.639195\n",
            "Feature 533: 1916.514419\n",
            "Feature 534: 526.089410\n",
            "Feature 535: 1688.178243\n",
            "Feature 536: 3093.820595\n",
            "Feature 537: 144.712070\n",
            "Feature 538: 158.582474\n",
            "Feature 539: 69.359071\n",
            "Feature 540: 61.727760\n",
            "Feature 541: 1338.529608\n",
            "Feature 542: 1122.652654\n",
            "Feature 543: 1182.462338\n",
            "Feature 544: 1030.919530\n",
            "Feature 545: 498.110500\n",
            "Feature 546: 1338.529608\n",
            "Feature 547: 272.250202\n",
            "Feature 548: 1216.145787\n",
            "Feature 549: 3975.706784\n",
            "Feature 550: 16.666740\n",
            "Feature 551: 23.530321\n",
            "Feature 552: 67.762668\n",
            "Feature 553: 64.222360\n",
            "Feature 554: 10.396164\n",
            "Feature 555: 17.005401\n",
            "Feature 556: 17.943236\n",
            "Feature 557: 5.770665\n",
            "Feature 558: 6109.027510\n",
            "Feature 559: 1806.001323\n",
            "Feature 560: 595.345147\n",
            "Feature 561: 2.730735\n"
          ]
        },
        {
          "output_type": "display_data",
          "data": {
            "text/plain": [
              "<Figure size 432x288 with 1 Axes>"
            ],
            "image/png": "[encoded data removed]"
          },
          "metadata": {
            "needs_background": "light"
          }
        }
      ]
    },
    {
      "cell_type": "code",
      "source": [
        "for i in range(len(df_cols_name)):\n",
        "  print(df_cols_name[0][i])"
      ],
      "metadata": {
        "id": "lVQag2CXqnv6"
      },
      "execution_count": null,
      "outputs": []
    },
    {
      "cell_type": "code",
      "source": [
        "# configure to select all features\n",
        "fs = SelectKBest(score_func=mutual_info_classif, k='all')\n",
        "# learn relationship from training data\n",
        "fs.fit(x_train, y_train)\n",
        "# transform train input data\n",
        "X_train_fs = fs.transform(x_train)\n",
        "# transform test input data\n",
        "X_test_fs = fs.transform(x_test)\n",
        "ft=[]\n",
        "\n",
        "# what are scores for the features\n",
        "for i in range(len(fs.scores_)):\n",
        "  if fs.scores_[i] >0.9:\n",
        "    print('Feature %d: %f' % (i, fs.scores_[i]))\n",
        "    ft+=[df_cols_name[0][i]]\n",
        "# plot the scores\n",
        "pyplot.bar([i for i in range(len(fs.scores_))], fs.scores_)\n",
        "pyplot.show()"
      ],
      "metadata": {
        "id": "XvHvubC7O6x4",
        "colab": {
          "base_uri": "https://localhost:8080/",
          "height": 575
        },
        "outputId": "38d96a7b-82c3-4f31-90ff-1e27b5752317"
      },
      "execution_count": null,
      "outputs": [
        {
          "output_type": "stream",
          "name": "stdout",
          "text": [
            "Feature 3: 0.909832\n",
            "Feature 9: 1.024256\n",
            "Feature 50: 0.914213\n",
            "Feature 53: 0.920910\n",
            "Feature 83: 0.906538\n",
            "Feature 89: 0.959000\n",
            "Feature 96: 0.905287\n",
            "Feature 268: 0.912095\n",
            "Feature 271: 0.923572\n",
            "Feature 281: 0.909939\n",
            "Feature 302: 0.911392\n",
            "Feature 310: 0.917370\n",
            "Feature 314: 0.911575\n",
            "Feature 360: 0.905521\n",
            "Feature 381: 0.966483\n",
            "Feature 389: 0.953626\n",
            "Feature 393: 0.915821\n"
          ]
        },
        {
          "output_type": "display_data",
          "data": {
            "text/plain": [
              "<Figure size 432x288 with 1 Axes>"
            ],
            "image/png": "[encoded data removed]"
          },
          "metadata": {
            "needs_background": "light"
          }
        }
      ]
    },
    {
      "cell_type": "code",
      "source": [
        "def is_duplicate(anylist):\n",
        "    if type(anylist) != 'list':\n",
        "        return(\"Error. Passed parameter is Not a list\")\n",
        "    if len(anylist) != len(set(anylist)):\n",
        "        return True\n",
        "    else:\n",
        "        return False\n",
        "if is_duplicate(ft):\n",
        "    print(\"duplicates found in list\")\n",
        "else:\n",
        "    print(\"no duplicates found in list\")"
      ],
      "metadata": {
        "colab": {
          "base_uri": "https://localhost:8080/"
        },
        "id": "XNu6I7xoyE7i",
        "outputId": "bdac8868-721c-4d17-c461-6325f53a6576"
      },
      "execution_count": null,
      "outputs": [
        {
          "output_type": "stream",
          "name": "stdout",
          "text": [
            "duplicates found in list\n"
          ]
        }
      ]
    },
    {
      "cell_type": "code",
      "source": [
        "\n",
        "myunique = set(ft) # prints the final list without any duplicates\n",
        "print(myunique)"
      ],
      "metadata": {
        "colab": {
          "base_uri": "https://localhost:8080/"
        },
        "id": "jFQtIOlvyOJj",
        "outputId": "ce7ce831-544d-455c-e6f4-f856fbd39af8"
      },
      "execution_count": null,
      "outputs": [
        {
          "output_type": "stream",
          "name": "stdout",
          "text": [
            "{'fBodyAccJerk-Energy-1', 'tBodyAccJerk-STD-1', 'fBodyAcc-Energy-1', 'tGravityAcc-Max-2', 'tBodyAccJerk-Energy-1', 'tBodyAcc-Max-1', 'fBodyAcc-Mad-1', 'fBodyAcc-BandsEnergyOld-1', 'fBodyAcc-BandsEnergyOld-9', 'fBodyAccJerk-BandsEnergyOld-9', 'fBodyAccJerk-BandsEnergyOld-13', 'fBodyAcc-BandsEnergyOld-13', 'tBodyAcc-STD-1', 'fBodyAccJerk-BandsEnergyOld-1', 'tGravityAcc-Min-2', 'fBodyAcc-STD-1', 'tBodyAccJerk-Max-1'}\n"
          ]
        }
      ]
    },
    {
      "cell_type": "code",
      "source": [
        "#for some reason removing duplicates did not work at all so I did it the hard way, this code wont run I just put it at evidence\n",
        "x1, xTest1 = train.filter(items=myunique), test.filter(items=myunique)"
      ],
      "metadata": {
        "id": "kOZ3m4l_w0XK",
        "colab": {
          "base_uri": "https://localhost:8080/",
          "height": 341
        },
        "outputId": "f1ad180f-f8fa-4162-c01f-8e38d22059f2"
      },
      "execution_count": null,
      "outputs": [
        {
          "output_type": "error",
          "ename": "ValueError",
          "evalue": "ignored",
          "traceback": [
            "\u001b[0;31m---------------------------------------------------------------------------\u001b[0m",
            "\u001b[0;31mValueError\u001b[0m                                Traceback (most recent call last)",
            "\u001b[0;32m<ipython-input-511-4206bd4d711a>\u001b[0m in \u001b[0;36m<module>\u001b[0;34m\u001b[0m\n\u001b[1;32m      1\u001b[0m \u001b[0;31m#for some reason removing duplicates did not work at all so I did it the hard way, this code wont run I just put it at evidence\u001b[0m\u001b[0;34m\u001b[0m\u001b[0;34m\u001b[0m\u001b[0;34m\u001b[0m\u001b[0m\n\u001b[0;32m----> 2\u001b[0;31m \u001b[0mx1\u001b[0m\u001b[0;34m,\u001b[0m \u001b[0mxTest1\u001b[0m \u001b[0;34m=\u001b[0m \u001b[0mtrain\u001b[0m\u001b[0;34m.\u001b[0m\u001b[0mfilter\u001b[0m\u001b[0;34m(\u001b[0m\u001b[0mitems\u001b[0m\u001b[0;34m=\u001b[0m\u001b[0mmyunique\u001b[0m\u001b[0;34m)\u001b[0m\u001b[0;34m,\u001b[0m \u001b[0mtest\u001b[0m\u001b[0;34m.\u001b[0m\u001b[0mfilter\u001b[0m\u001b[0;34m(\u001b[0m\u001b[0mitems\u001b[0m\u001b[0;34m=\u001b[0m\u001b[0mmyunique\u001b[0m\u001b[0;34m)\u001b[0m\u001b[0;34m\u001b[0m\u001b[0;34m\u001b[0m\u001b[0m\n\u001b[0m",
            "\u001b[0;32m/usr/local/lib/python3.8/dist-packages/pandas/core/generic.py\u001b[0m in \u001b[0;36mfilter\u001b[0;34m(self, items, like, regex, axis)\u001b[0m\n\u001b[1;32m   4980\u001b[0m         \u001b[0;32mif\u001b[0m \u001b[0mitems\u001b[0m \u001b[0;32mis\u001b[0m \u001b[0;32mnot\u001b[0m \u001b[0;32mNone\u001b[0m\u001b[0;34m:\u001b[0m\u001b[0;34m\u001b[0m\u001b[0;34m\u001b[0m\u001b[0m\n\u001b[1;32m   4981\u001b[0m             \u001b[0mname\u001b[0m \u001b[0;34m=\u001b[0m \u001b[0mself\u001b[0m\u001b[0;34m.\u001b[0m\u001b[0m_get_axis_name\u001b[0m\u001b[0;34m(\u001b[0m\u001b[0maxis\u001b[0m\u001b[0;34m)\u001b[0m\u001b[0;34m\u001b[0m\u001b[0;34m\u001b[0m\u001b[0m\n\u001b[0;32m-> 4982\u001b[0;31m             \u001b[0;32mreturn\u001b[0m \u001b[0mself\u001b[0m\u001b[0;34m.\u001b[0m\u001b[0mreindex\u001b[0m\u001b[0;34m(\u001b[0m\u001b[0;34m**\u001b[0m\u001b[0;34m{\u001b[0m\u001b[0mname\u001b[0m\u001b[0;34m:\u001b[0m \u001b[0;34m[\u001b[0m\u001b[0mr\u001b[0m \u001b[0;32mfor\u001b[0m \u001b[0mr\u001b[0m \u001b[0;32min\u001b[0m \u001b[0mitems\u001b[0m \u001b[0;32mif\u001b[0m \u001b[0mr\u001b[0m \u001b[0;32min\u001b[0m \u001b[0mlabels\u001b[0m\u001b[0;34m]\u001b[0m\u001b[0;34m}\u001b[0m\u001b[0;34m)\u001b[0m\u001b[0;34m\u001b[0m\u001b[0;34m\u001b[0m\u001b[0m\n\u001b[0m\u001b[1;32m   4983\u001b[0m         \u001b[0;32melif\u001b[0m \u001b[0mlike\u001b[0m\u001b[0;34m:\u001b[0m\u001b[0;34m\u001b[0m\u001b[0;34m\u001b[0m\u001b[0m\n\u001b[1;32m   4984\u001b[0m \u001b[0;34m\u001b[0m\u001b[0m\n",
            "\u001b[0;32m/usr/local/lib/python3.8/dist-packages/pandas/util/_decorators.py\u001b[0m in \u001b[0;36mwrapper\u001b[0;34m(*args, **kwargs)\u001b[0m\n\u001b[1;32m    322\u001b[0m         \u001b[0;34m@\u001b[0m\u001b[0mwraps\u001b[0m\u001b[0;34m(\u001b[0m\u001b[0mfunc\u001b[0m\u001b[0;34m)\u001b[0m\u001b[0;34m\u001b[0m\u001b[0;34m\u001b[0m\u001b[0m\n\u001b[1;32m    323\u001b[0m         \u001b[0;32mdef\u001b[0m \u001b[0mwrapper\u001b[0m\u001b[0;34m(\u001b[0m\u001b[0;34m*\u001b[0m\u001b[0margs\u001b[0m\u001b[0;34m,\u001b[0m \u001b[0;34m**\u001b[0m\u001b[0mkwargs\u001b[0m\u001b[0;34m)\u001b[0m \u001b[0;34m->\u001b[0m \u001b[0mCallable\u001b[0m\u001b[0;34m[\u001b[0m\u001b[0;34m...\u001b[0m\u001b[0;34m,\u001b[0m \u001b[0mAny\u001b[0m\u001b[0;34m]\u001b[0m\u001b[0;34m:\u001b[0m\u001b[0;34m\u001b[0m\u001b[0;34m\u001b[0m\u001b[0m\n\u001b[0;32m--> 324\u001b[0;31m             \u001b[0;32mreturn\u001b[0m \u001b[0mfunc\u001b[0m\u001b[0;34m(\u001b[0m\u001b[0;34m*\u001b[0m\u001b[0margs\u001b[0m\u001b[0;34m,\u001b[0m \u001b[0;34m**\u001b[0m\u001b[0mkwargs\u001b[0m\u001b[0;34m)\u001b[0m\u001b[0;34m\u001b[0m\u001b[0;34m\u001b[0m\u001b[0m\n\u001b[0m\u001b[1;32m    325\u001b[0m \u001b[0;34m\u001b[0m\u001b[0m\n\u001b[1;32m    326\u001b[0m         \u001b[0mkind\u001b[0m \u001b[0;34m=\u001b[0m \u001b[0minspect\u001b[0m\u001b[0;34m.\u001b[0m\u001b[0mParameter\u001b[0m\u001b[0;34m.\u001b[0m\u001b[0mPOSITIONAL_OR_KEYWORD\u001b[0m\u001b[0;34m\u001b[0m\u001b[0;34m\u001b[0m\u001b[0m\n",
            "\u001b[0;32m/usr/local/lib/python3.8/dist-packages/pandas/core/frame.py\u001b[0m in \u001b[0;36mreindex\u001b[0;34m(self, *args, **kwargs)\u001b[0m\n\u001b[1;32m   4770\u001b[0m         \u001b[0mkwargs\u001b[0m\u001b[0;34m.\u001b[0m\u001b[0mpop\u001b[0m\u001b[0;34m(\u001b[0m\u001b[0;34m\"axis\"\u001b[0m\u001b[0;34m,\u001b[0m \u001b[0;32mNone\u001b[0m\u001b[0;34m)\u001b[0m\u001b[0;34m\u001b[0m\u001b[0;34m\u001b[0m\u001b[0m\n\u001b[1;32m   4771\u001b[0m         \u001b[0mkwargs\u001b[0m\u001b[0;34m.\u001b[0m\u001b[0mpop\u001b[0m\u001b[0;34m(\u001b[0m\u001b[0;34m\"labels\"\u001b[0m\u001b[0;34m,\u001b[0m \u001b[0;32mNone\u001b[0m\u001b[0;34m)\u001b[0m\u001b[0;34m\u001b[0m\u001b[0;34m\u001b[0m\u001b[0m\n\u001b[0;32m-> 4772\u001b[0;31m         \u001b[0;32mreturn\u001b[0m \u001b[0msuper\u001b[0m\u001b[0;34m(\u001b[0m\u001b[0;34m)\u001b[0m\u001b[0;34m.\u001b[0m\u001b[0mreindex\u001b[0m\u001b[0;34m(\u001b[0m\u001b[0;34m**\u001b[0m\u001b[0mkwargs\u001b[0m\u001b[0;34m)\u001b[0m\u001b[0;34m\u001b[0m\u001b[0;34m\u001b[0m\u001b[0m\n\u001b[0m\u001b[1;32m   4773\u001b[0m \u001b[0;34m\u001b[0m\u001b[0m\n\u001b[1;32m   4774\u001b[0m     \u001b[0;34m@\u001b[0m\u001b[0mdeprecate_nonkeyword_arguments\u001b[0m\u001b[0;34m(\u001b[0m\u001b[0mversion\u001b[0m\u001b[0;34m=\u001b[0m\u001b[0;32mNone\u001b[0m\u001b[0;34m,\u001b[0m \u001b[0mallowed_args\u001b[0m\u001b[0;34m=\u001b[0m\u001b[0;34m[\u001b[0m\u001b[0;34m\"self\"\u001b[0m\u001b[0;34m,\u001b[0m \u001b[0;34m\"labels\"\u001b[0m\u001b[0;34m]\u001b[0m\u001b[0;34m)\u001b[0m\u001b[0;34m\u001b[0m\u001b[0;34m\u001b[0m\u001b[0m\n",
            "\u001b[0;32m/usr/local/lib/python3.8/dist-packages/pandas/core/generic.py\u001b[0m in \u001b[0;36mreindex\u001b[0;34m(self, *args, **kwargs)\u001b[0m\n\u001b[1;32m   4816\u001b[0m \u001b[0;34m\u001b[0m\u001b[0m\n\u001b[1;32m   4817\u001b[0m         \u001b[0;31m# perform the reindex on the axes\u001b[0m\u001b[0;34m\u001b[0m\u001b[0;34m\u001b[0m\u001b[0;34m\u001b[0m\u001b[0m\n\u001b[0;32m-> 4818\u001b[0;31m         return self._reindex_axes(\n\u001b[0m\u001b[1;32m   4819\u001b[0m             \u001b[0maxes\u001b[0m\u001b[0;34m,\u001b[0m \u001b[0mlevel\u001b[0m\u001b[0;34m,\u001b[0m \u001b[0mlimit\u001b[0m\u001b[0;34m,\u001b[0m \u001b[0mtolerance\u001b[0m\u001b[0;34m,\u001b[0m \u001b[0mmethod\u001b[0m\u001b[0;34m,\u001b[0m \u001b[0mfill_value\u001b[0m\u001b[0;34m,\u001b[0m \u001b[0mcopy\u001b[0m\u001b[0;34m\u001b[0m\u001b[0;34m\u001b[0m\u001b[0m\n\u001b[1;32m   4820\u001b[0m         ).__finalize__(self, method=\"reindex\")\n",
            "\u001b[0;32m/usr/local/lib/python3.8/dist-packages/pandas/core/frame.py\u001b[0m in \u001b[0;36m_reindex_axes\u001b[0;34m(self, axes, level, limit, tolerance, method, fill_value, copy)\u001b[0m\n\u001b[1;32m   4589\u001b[0m         \u001b[0mcolumns\u001b[0m \u001b[0;34m=\u001b[0m \u001b[0maxes\u001b[0m\u001b[0;34m[\u001b[0m\u001b[0;34m\"columns\"\u001b[0m\u001b[0;34m]\u001b[0m\u001b[0;34m\u001b[0m\u001b[0;34m\u001b[0m\u001b[0m\n\u001b[1;32m   4590\u001b[0m         \u001b[0;32mif\u001b[0m \u001b[0mcolumns\u001b[0m \u001b[0;32mis\u001b[0m \u001b[0;32mnot\u001b[0m \u001b[0;32mNone\u001b[0m\u001b[0;34m:\u001b[0m\u001b[0;34m\u001b[0m\u001b[0;34m\u001b[0m\u001b[0m\n\u001b[0;32m-> 4591\u001b[0;31m             frame = frame._reindex_columns(\n\u001b[0m\u001b[1;32m   4592\u001b[0m                 \u001b[0mcolumns\u001b[0m\u001b[0;34m,\u001b[0m \u001b[0mmethod\u001b[0m\u001b[0;34m,\u001b[0m \u001b[0mcopy\u001b[0m\u001b[0;34m,\u001b[0m \u001b[0mlevel\u001b[0m\u001b[0;34m,\u001b[0m \u001b[0mfill_value\u001b[0m\u001b[0;34m,\u001b[0m \u001b[0mlimit\u001b[0m\u001b[0;34m,\u001b[0m \u001b[0mtolerance\u001b[0m\u001b[0;34m\u001b[0m\u001b[0;34m\u001b[0m\u001b[0m\n\u001b[1;32m   4593\u001b[0m             )\n",
            "\u001b[0;32m/usr/local/lib/python3.8/dist-packages/pandas/core/frame.py\u001b[0m in \u001b[0;36m_reindex_columns\u001b[0;34m(self, new_columns, method, copy, level, fill_value, limit, tolerance)\u001b[0m\n\u001b[1;32m   4634\u001b[0m             \u001b[0mnew_columns\u001b[0m\u001b[0;34m,\u001b[0m \u001b[0mmethod\u001b[0m\u001b[0;34m=\u001b[0m\u001b[0mmethod\u001b[0m\u001b[0;34m,\u001b[0m \u001b[0mlevel\u001b[0m\u001b[0;34m=\u001b[0m\u001b[0mlevel\u001b[0m\u001b[0;34m,\u001b[0m \u001b[0mlimit\u001b[0m\u001b[0;34m=\u001b[0m\u001b[0mlimit\u001b[0m\u001b[0;34m,\u001b[0m \u001b[0mtolerance\u001b[0m\u001b[0;34m=\u001b[0m\u001b[0mtolerance\u001b[0m\u001b[0;34m\u001b[0m\u001b[0;34m\u001b[0m\u001b[0m\n\u001b[1;32m   4635\u001b[0m         )\n\u001b[0;32m-> 4636\u001b[0;31m         return self._reindex_with_indexers(\n\u001b[0m\u001b[1;32m   4637\u001b[0m             \u001b[0;34m{\u001b[0m\u001b[0;36m1\u001b[0m\u001b[0;34m:\u001b[0m \u001b[0;34m[\u001b[0m\u001b[0mnew_columns\u001b[0m\u001b[0;34m,\u001b[0m \u001b[0mindexer\u001b[0m\u001b[0;34m]\u001b[0m\u001b[0;34m}\u001b[0m\u001b[0;34m,\u001b[0m\u001b[0;34m\u001b[0m\u001b[0;34m\u001b[0m\u001b[0m\n\u001b[1;32m   4638\u001b[0m             \u001b[0mcopy\u001b[0m\u001b[0;34m=\u001b[0m\u001b[0mcopy\u001b[0m\u001b[0;34m,\u001b[0m\u001b[0;34m\u001b[0m\u001b[0;34m\u001b[0m\u001b[0m\n",
            "\u001b[0;32m/usr/local/lib/python3.8/dist-packages/pandas/core/generic.py\u001b[0m in \u001b[0;36m_reindex_with_indexers\u001b[0;34m(self, reindexers, fill_value, copy, allow_dups)\u001b[0m\n\u001b[1;32m   4881\u001b[0m \u001b[0;34m\u001b[0m\u001b[0m\n\u001b[1;32m   4882\u001b[0m             \u001b[0;31m# TODO: speed up on homogeneous DataFrame objects\u001b[0m\u001b[0;34m\u001b[0m\u001b[0;34m\u001b[0m\u001b[0;34m\u001b[0m\u001b[0m\n\u001b[0;32m-> 4883\u001b[0;31m             new_data = new_data.reindex_indexer(\n\u001b[0m\u001b[1;32m   4884\u001b[0m                 \u001b[0mindex\u001b[0m\u001b[0;34m,\u001b[0m\u001b[0;34m\u001b[0m\u001b[0;34m\u001b[0m\u001b[0m\n\u001b[1;32m   4885\u001b[0m                 \u001b[0mindexer\u001b[0m\u001b[0;34m,\u001b[0m\u001b[0;34m\u001b[0m\u001b[0;34m\u001b[0m\u001b[0m\n",
            "\u001b[0;32m/usr/local/lib/python3.8/dist-packages/pandas/core/internals/managers.py\u001b[0m in \u001b[0;36mreindex_indexer\u001b[0;34m(self, new_axis, indexer, axis, fill_value, allow_dups, copy, consolidate, only_slice)\u001b[0m\n\u001b[1;32m    668\u001b[0m         \u001b[0;31m# some axes don't allow reindexing with dups\u001b[0m\u001b[0;34m\u001b[0m\u001b[0;34m\u001b[0m\u001b[0;34m\u001b[0m\u001b[0m\n\u001b[1;32m    669\u001b[0m         \u001b[0;32mif\u001b[0m \u001b[0;32mnot\u001b[0m \u001b[0mallow_dups\u001b[0m\u001b[0;34m:\u001b[0m\u001b[0;34m\u001b[0m\u001b[0;34m\u001b[0m\u001b[0m\n\u001b[0;32m--> 670\u001b[0;31m             \u001b[0mself\u001b[0m\u001b[0;34m.\u001b[0m\u001b[0maxes\u001b[0m\u001b[0;34m[\u001b[0m\u001b[0maxis\u001b[0m\u001b[0;34m]\u001b[0m\u001b[0;34m.\u001b[0m\u001b[0m_validate_can_reindex\u001b[0m\u001b[0;34m(\u001b[0m\u001b[0mindexer\u001b[0m\u001b[0;34m)\u001b[0m\u001b[0;34m\u001b[0m\u001b[0;34m\u001b[0m\u001b[0m\n\u001b[0m\u001b[1;32m    671\u001b[0m \u001b[0;34m\u001b[0m\u001b[0m\n\u001b[1;32m    672\u001b[0m         \u001b[0;32mif\u001b[0m \u001b[0maxis\u001b[0m \u001b[0;34m>=\u001b[0m \u001b[0mself\u001b[0m\u001b[0;34m.\u001b[0m\u001b[0mndim\u001b[0m\u001b[0;34m:\u001b[0m\u001b[0;34m\u001b[0m\u001b[0;34m\u001b[0m\u001b[0m\n",
            "\u001b[0;32m/usr/local/lib/python3.8/dist-packages/pandas/core/indexes/base.py\u001b[0m in \u001b[0;36m_validate_can_reindex\u001b[0;34m(self, indexer)\u001b[0m\n\u001b[1;32m   3783\u001b[0m         \u001b[0;31m# trying to reindex on an axis with duplicates\u001b[0m\u001b[0;34m\u001b[0m\u001b[0;34m\u001b[0m\u001b[0;34m\u001b[0m\u001b[0m\n\u001b[1;32m   3784\u001b[0m         \u001b[0;32mif\u001b[0m \u001b[0;32mnot\u001b[0m \u001b[0mself\u001b[0m\u001b[0;34m.\u001b[0m\u001b[0m_index_as_unique\u001b[0m \u001b[0;32mand\u001b[0m \u001b[0mlen\u001b[0m\u001b[0;34m(\u001b[0m\u001b[0mindexer\u001b[0m\u001b[0;34m)\u001b[0m\u001b[0;34m:\u001b[0m\u001b[0;34m\u001b[0m\u001b[0;34m\u001b[0m\u001b[0m\n\u001b[0;32m-> 3785\u001b[0;31m             \u001b[0;32mraise\u001b[0m \u001b[0mValueError\u001b[0m\u001b[0;34m(\u001b[0m\u001b[0;34m\"cannot reindex from a duplicate axis\"\u001b[0m\u001b[0;34m)\u001b[0m\u001b[0;34m\u001b[0m\u001b[0;34m\u001b[0m\u001b[0m\n\u001b[0m\u001b[1;32m   3786\u001b[0m \u001b[0;34m\u001b[0m\u001b[0m\n\u001b[1;32m   3787\u001b[0m     def reindex(\n",
            "\u001b[0;31mValueError\u001b[0m: cannot reindex from a duplicate axis"
          ]
        }
      ]
    },
    {
      "cell_type": "code",
      "source": [
        "for i in myunique:\n",
        "  print(\"'\"+i+\"'\"+\",\")"
      ],
      "metadata": {
        "colab": {
          "base_uri": "https://localhost:8080/"
        },
        "id": "_d8DGKTEj8ui",
        "outputId": "9ddf18cc-b701-405d-f6f6-b5987c0faa5a"
      },
      "execution_count": null,
      "outputs": [
        {
          "output_type": "stream",
          "name": "stdout",
          "text": [
            "'fBodyAccJerk-Energy-1',\n",
            "'tBodyAccJerk-STD-1',\n",
            "'fBodyAcc-Energy-1',\n",
            "'tGravityAcc-Max-2',\n",
            "'tBodyAccJerk-Energy-1',\n",
            "'tBodyAcc-Max-1',\n",
            "'fBodyAcc-Mad-1',\n",
            "'fBodyAcc-BandsEnergyOld-1',\n",
            "'fBodyAcc-BandsEnergyOld-9',\n",
            "'fBodyAccJerk-BandsEnergyOld-9',\n",
            "'fBodyAccJerk-BandsEnergyOld-13',\n",
            "'fBodyAcc-BandsEnergyOld-13',\n",
            "'tBodyAcc-STD-1',\n",
            "'fBodyAccJerk-BandsEnergyOld-1',\n",
            "'tGravityAcc-Min-2',\n",
            "'fBodyAcc-STD-1',\n",
            "'tBodyAccJerk-Max-1',\n"
          ]
        }
      ]
    },
    {
      "cell_type": "code",
      "source": [
        "xfirstrain=df1[['fBodyAccJerk-Energy-1',\n",
        "'fBodyAccJerk-BandsEnergyOld-1',\n",
        "'fBodyAcc-STD-1',\n",
        "'fBodyAcc-Mad-1',\n",
        "'tBodyAccJerk-STD-1',\n",
        "'fBodyAcc-Energy-1',\n",
        "'tGravityAcc-Min-2',\n",
        "'fBodyAcc-BandsEnergyOld-13',\n",
        "'fBodyAccJerk-BandsEnergyOld-9',\n",
        "'tBodyAcc-STD-1',\n",
        "'tBodyAccJerk-Max-1',\n",
        "'tBodyAccJerk-Energy-1',\n",
        "'fBodyAcc-BandsEnergyOld-1',\n",
        "'fBodyAccJerk-BandsEnergyOld-13',\n",
        "'fBodyAcc-BandsEnergyOld-9',\n",
        "'tBodyAcc-Max-1',\n",
        "'tGravityAcc-Max-2']]"
      ],
      "metadata": {
        "id": "Wmz_TLPYzCI1"
      },
      "execution_count": null,
      "outputs": []
    },
    {
      "cell_type": "code",
      "source": [
        "xfirstrain = xfirstrain.loc[:,~xfirstrain.columns.duplicated()]"
      ],
      "metadata": {
        "id": "G88fj59n0DXi"
      },
      "execution_count": null,
      "outputs": []
    },
    {
      "cell_type": "code",
      "source": [
        "xfirstest=df2_raw[['fBodyAccJerk-Energy-1',\n",
        "'fBodyAccJerk-BandsEnergyOld-1',\n",
        "'fBodyAcc-STD-1',\n",
        "'fBodyAcc-Mad-1',\n",
        "'tBodyAccJerk-STD-1',\n",
        "'fBodyAcc-Energy-1',\n",
        "'tGravityAcc-Min-2',\n",
        "'fBodyAcc-BandsEnergyOld-13',\n",
        "'fBodyAccJerk-BandsEnergyOld-9',\n",
        "'tBodyAcc-STD-1',\n",
        "'tBodyAccJerk-Max-1',\n",
        "'tBodyAccJerk-Energy-1',\n",
        "'fBodyAcc-BandsEnergyOld-1',\n",
        "'fBodyAccJerk-BandsEnergyOld-13',\n",
        "'fBodyAcc-BandsEnergyOld-9',\n",
        "'tBodyAcc-Max-1',\n",
        "'tGravityAcc-Max-2']]"
      ],
      "metadata": {
        "id": "vPoLZhyEzc8y"
      },
      "execution_count": null,
      "outputs": []
    },
    {
      "cell_type": "code",
      "source": [
        "xfirstest = xfirstest.loc[:,~xfirstest.columns.duplicated()]\n",
        "y=pd.read_csv('/content/y_train.txt', sep=\" \", header=None)\n",
        "y2=pd.read_csv('/content/y_test.txt', sep=\" \", header=None)"
      ],
      "metadata": {
        "id": "RSBPMslr0MW4"
      },
      "execution_count": null,
      "outputs": []
    },
    {
      "cell_type": "code",
      "source": [
        "from matplotlib import pyplot as plt\n",
        "from sklearn.linear_model import LogisticRegression\n",
        "from sklearn.metrics import roc_auc_score\n",
        "from sklearn.tree import DecisionTreeClassifier\n",
        "from sklearn.neighbors import KNeighborsClassifier\n",
        "from xgboost import XGBClassifier\n",
        "from sklearn.ensemble import VotingClassifier\n",
        "from sklearn.datasets import make_classification\n",
        "from sklearn.model_selection import train_test_split\n",
        "import seaborn as sns\n",
        "from sklearn.metrics import roc_curve\n",
        "import pandas as pd"
      ],
      "metadata": {
        "id": "cmQpfq9HLInR"
      },
      "execution_count": null,
      "outputs": []
    },
    {
      "cell_type": "code",
      "source": [
        "# Create an instance of the logistic regression, decision tree, and gradient boosting classifiers.\n",
        "\n",
        "# Supervised learning algorithm used for classification, to model the probability such as win/lose or healthy/sick\n",
        "log_clf = LogisticRegression()\n",
        "\n",
        "# Supervised learning algorithm used for classification\n",
        "tree_clf = DecisionTreeClassifier()\n",
        "\n",
        "# Supervised learning algorithm can be used for both classification and regression problems.\n",
        "xgb_clf = XGBClassifier()\n",
        "\n",
        "#upervised learning algorithm  can be used for both classification and regression problems.\n",
        "knn_clf = KNeighborsClassifier()"
      ],
      "metadata": {
        "id": "ipMou-C3I49b"
      },
      "execution_count": null,
      "outputs": []
    },
    {
      "cell_type": "code",
      "source": [
        "\n",
        "voting_clf = VotingClassifier(estimators=[('lr', log_clf), ('dt', tree_clf), ('xgb', xgb_clf), ('knn', knn_clf)], voting='soft')\n",
        "voting_clf.fit(xfirstrain,y)"
      ],
      "metadata": {
        "id": "6rLWn_akLT41",
        "colab": {
          "base_uri": "https://localhost:8080/"
        },
        "outputId": "7d5724f0-4e62-494e-988c-abb4c53fa18b"
      },
      "execution_count": null,
      "outputs": [
        {
          "output_type": "execute_result",
          "data": {
            "text/plain": [
              "VotingClassifier(estimators=[('lr', LogisticRegression()),\n",
              "                             ('dt', DecisionTreeClassifier()),\n",
              "                             ('xgb', XGBClassifier()),\n",
              "                             ('knn', KNeighborsClassifier())],\n",
              "                 voting='soft')"
            ]
          },
          "metadata": {},
          "execution_count": 578
        }
      ]
    },
    {
      "cell_type": "code",
      "source": [
        "X_train, X_test, y_train, y_test = train_test_split(xfirstrain, y, test_size=0.2)\n",
        "y_pred_proba = voting_clf.predict_proba(xfirstrain)"
      ],
      "metadata": {
        "id": "lyDmnn7745B8"
      },
      "execution_count": null,
      "outputs": []
    },
    {
      "cell_type": "code",
      "source": [
        "clf = LogisticRegression(solver=\"liblinear\").fit(xfirstrain, y)\n",
        "preds = clf.predict_proba(xfirstrain)\n",
        "roc_auc = roc_auc_score(y,preds, multi_class='ovr')\n",
        "print(roc_auc)\n",
        "#after using the features the model has a logistic regression performance of 98.5% which is pretty solid"
      ],
      "metadata": {
        "colab": {
          "base_uri": "https://localhost:8080/"
        },
        "id": "qGl_gSOp5TjI",
        "outputId": "83b316af-0942-4547-af38-ba399454a5ac"
      },
      "execution_count": null,
      "outputs": [
        {
          "output_type": "stream",
          "name": "stdout",
          "text": [
            "0.985199333040958\n"
          ]
        }
      ]
    },
    {
      "cell_type": "code",
      "source": [
        "accuracy = voting_clf.score(X_test, y_test)\n",
        "accuracy\n",
        "#the accuracy of the logistic model is of 98.5% after the implementation of the features which is pretty neat"
      ],
      "metadata": {
        "colab": {
          "base_uri": "https://localhost:8080/"
        },
        "id": "whN6eEXOSn7Q",
        "outputId": "6948cf5d-a55f-4216-f136-20a054e9a371"
      },
      "execution_count": null,
      "outputs": [
        {
          "output_type": "execute_result",
          "data": {
            "text/plain": [
              "0.9813384813384813"
            ]
          },
          "metadata": {},
          "execution_count": 581
        }
      ]
    },
    {
      "cell_type": "code",
      "source": [
        "# model definition\n",
        "model_lg = lm.LogisticRegression( n_jobs=-1, random_state=32 )\n",
        "\n",
        "# train model\n",
        "model_lg.fit( X_train, y_train )"
      ],
      "metadata": {
        "colab": {
          "base_uri": "https://localhost:8080/"
        },
        "id": "XoMPk0gAf1uZ",
        "outputId": "3d201a1e-ef82-4da4-80b3-42be5be9d9a9"
      },
      "execution_count": null,
      "outputs": [
        {
          "output_type": "execute_result",
          "data": {
            "text/plain": [
              "LogisticRegression(n_jobs=-1, random_state=32)"
            ]
          },
          "metadata": {},
          "execution_count": 582
        }
      ]
    },
    {
      "cell_type": "code",
      "source": [
        "%pip install scikit-plot\n",
        "from scikitplot            import metrics         as mt"
      ],
      "metadata": {
        "colab": {
          "base_uri": "https://localhost:8080/"
        },
        "id": "jpIX16czgSEP",
        "outputId": "8e113c57-dbf5-42c1-8404-8f74886adb1e"
      },
      "execution_count": null,
      "outputs": [
        {
          "output_type": "stream",
          "name": "stdout",
          "text": [
            "Looking in indexes: https://pypi.org/simple, https://us-python.pkg.dev/colab-wheels/public/simple/\n",
            "Requirement already satisfied: scikit-plot in /usr/local/lib/python3.8/dist-packages (0.3.7)\n",
            "Requirement already satisfied: scikit-learn>=0.18 in /usr/local/lib/python3.8/dist-packages (from scikit-plot) (1.0.2)\n",
            "Requirement already satisfied: joblib>=0.10 in /usr/local/lib/python3.8/dist-packages (from scikit-plot) (1.2.0)\n",
            "Requirement already satisfied: scipy>=0.9 in /usr/local/lib/python3.8/dist-packages (from scikit-plot) (1.7.3)\n",
            "Requirement already satisfied: matplotlib>=1.4.0 in /usr/local/lib/python3.8/dist-packages (from scikit-plot) (3.2.2)\n",
            "Requirement already satisfied: numpy>=1.11 in /usr/local/lib/python3.8/dist-packages (from matplotlib>=1.4.0->scikit-plot) (1.21.6)\n",
            "Requirement already satisfied: cycler>=0.10 in /usr/local/lib/python3.8/dist-packages (from matplotlib>=1.4.0->scikit-plot) (0.11.0)\n",
            "Requirement already satisfied: kiwisolver>=1.0.1 in /usr/local/lib/python3.8/dist-packages (from matplotlib>=1.4.0->scikit-plot) (1.4.4)\n",
            "Requirement already satisfied: python-dateutil>=2.1 in /usr/local/lib/python3.8/dist-packages (from matplotlib>=1.4.0->scikit-plot) (2.8.2)\n",
            "Requirement already satisfied: pyparsing!=2.0.4,!=2.1.2,!=2.1.6,>=2.0.1 in /usr/local/lib/python3.8/dist-packages (from matplotlib>=1.4.0->scikit-plot) (3.0.9)\n",
            "Requirement already satisfied: threadpoolctl>=2.0.0 in /usr/local/lib/python3.8/dist-packages (from scikit-learn>=0.18->scikit-plot) (3.1.0)\n",
            "Requirement already satisfied: six>=1.5 in /usr/local/lib/python3.8/dist-packages (from python-dateutil>=2.1->matplotlib>=1.4.0->scikit-plot) (1.15.0)\n"
          ]
        }
      ]
    },
    {
      "cell_type": "code",
      "source": [
        "# prediction\n",
        "yhat = model_lg.predict( X_test )\n",
        "# Confusion Matrix\n",
        "mt.plot_confusion_matrix( y_test, yhat, normalize=True, figsize=( 12, 12 ) )\n",
        "plt.xticks(rotation ='vertical')\n",
        "# Accuracy - Precision - Recall - F1 Score - Kappa Metrics - Confusion Matrix\n",
        "print( m.classification_report( y_test, yhat, digits=3 ) )\n",
        "\n",
        "# =========== Balanced Dataframe Metrics =============\n",
        "# Accuracy\n",
        "acc = m.accuracy_score( y_test, yhat )\n",
        "print( 'Accuracy: {}'.format( acc ) )\n",
        "\n",
        "# =========== Unbalanced Dataframe Metrics =============\n",
        "# Weighted F1-Score\n",
        "f1_score = m.f1_score( y_test, yhat, average='weighted' )\n",
        "print( 'Weighted F1-Score: {}'.format( f1_score ) )\n",
        "\n",
        "# Balanced Accuracy Score\n",
        "balanced_acc = m.balanced_accuracy_score( y_test, yhat )\n",
        "print( 'Balanced Accuracy Score: {}'.format( balanced_acc ) )\n",
        "\n",
        "# Kappa Metrics\n",
        "print( 'Kappa Score: {}'.format( m.cohen_kappa_score( y_test, yhat ) ) )\n",
        "#the accuracy in the\n",
        "\n",
        "#The accuracy is 83% which is not bad but not perfect, activity number 7 stando to sit is hard to predict."
      ],
      "metadata": {
        "colab": {
          "base_uri": "https://localhost:8080/",
          "height": 1000
        },
        "id": "ph4gPhw4Znc4",
        "outputId": "8ad43585-2bed-4dda-ef7b-b2aea560957d"
      },
      "execution_count": null,
      "outputs": [
        {
          "output_type": "stream",
          "name": "stdout",
          "text": [
            "              precision    recall  f1-score   support\n",
            "\n",
            "           1      0.877     0.902     0.890       246\n",
            "           2      0.842     0.854     0.848       212\n",
            "           3      0.898     0.912     0.905       194\n",
            "           4      0.817     0.722     0.766       266\n",
            "           5      0.796     0.889     0.840       280\n",
            "           6      0.863     0.893     0.878       281\n",
            "           7      0.000     0.000     0.000         7\n",
            "           8      0.000     0.000     0.000         5\n",
            "           9      0.571     0.533     0.552        15\n",
            "          10      0.455     0.714     0.556        14\n",
            "          11      0.833     0.263     0.400        19\n",
            "          12      0.286     0.133     0.182        15\n",
            "\n",
            "    accuracy                          0.835      1554\n",
            "   macro avg      0.603     0.568     0.568      1554\n",
            "weighted avg      0.828     0.835     0.828      1554\n",
            "\n",
            "Accuracy: 0.8346203346203346\n",
            "Weighted F1-Score: 0.8277171374999786\n",
            "Balanced Accuracy Score: 0.5680852232277798\n",
            "Kappa Score: 0.8038625587180135\n"
          ]
        },
        {
          "output_type": "display_data",
          "data": {
            "text/plain": [
              "<Figure size 864x864 with 2 Axes>"
            ],
            "image/png": "[encoded data removed]"
          },
          "metadata": {
            "needs_background": "light"
          }
        }
      ]
    },
    {
      "cell_type": "code",
      "source": [
        "# model definition\n",
        "model_knn = nb.KNeighborsClassifier( n_neighbors=2, n_jobs=-1 )\n",
        "\n",
        "# train model\n",
        "model_knn.fit( xfirstrain, y )"
      ],
      "metadata": {
        "colab": {
          "base_uri": "https://localhost:8080/"
        },
        "id": "4osWg_35hNOh",
        "outputId": "d67e7f09-e199-4e60-e935-3f3c4d9fff49"
      },
      "execution_count": null,
      "outputs": [
        {
          "output_type": "execute_result",
          "data": {
            "text/plain": [
              "KNeighborsClassifier(n_jobs=-1, n_neighbors=2)"
            ]
          },
          "metadata": {},
          "execution_count": 584
        }
      ]
    },
    {
      "cell_type": "code",
      "source": [
        "# prediction\n",
        "yhat = model_knn.predict( X_test )"
      ],
      "metadata": {
        "id": "g3jzWvFHhQdx"
      },
      "execution_count": null,
      "outputs": []
    },
    {
      "cell_type": "code",
      "source": [
        "# Confusion Matrix\n",
        "mt.plot_confusion_matrix( y_test, yhat, normalize=True, figsize=( 12, 12 ) )\n",
        "plt.xticks(rotation ='vertical')\n",
        "\n",
        "# Accuracy - Precision - Recall - F1 Score - Kappa Metrics - Confusion Matrix\n",
        "print( m.classification_report( y_test, yhat, digits=3 ) )\n",
        "\n",
        "# =========== Balanced Dataframe Metrics =============\n",
        "# Accuracy\n",
        "acc = m.accuracy_score( y_test, yhat )\n",
        "print( 'Accuracy: {}'.format( acc ) )\n",
        "\n",
        "# =========== Unbalanced Dataframe Metrics =============\n",
        "# Weighted F1-Score\n",
        "f1_score = m.f1_score( y_test, yhat, average='weighted' )\n",
        "print( 'Weighted F1-Score: {}'.format( f1_score ) )\n",
        "\n",
        "# Balanced Accuracy Score\n",
        "balanced_acc = m.balanced_accuracy_score( y_test, yhat )\n",
        "print( 'Balanced Accuracy Score: {}'.format( balanced_acc ) )\n",
        "\n",
        "# Kappa Metrics\n",
        "print( 'Kappa Score: {}'.format( m.cohen_kappa_score( y_test, yhat ) ) )\n",
        "\n",
        "#Activity number is better represent but it is still giving a lot of trouble compared to the rest, and activity number 11 and 12 are not well represented at all.\n",
        "#These are stand to lie and lie to stand"
      ],
      "metadata": {
        "colab": {
          "base_uri": "https://localhost:8080/",
          "height": 1000
        },
        "id": "gerIxMW_hdOB",
        "outputId": "445b30fe-9c1b-4458-acde-00e15b04e1c1"
      },
      "execution_count": null,
      "outputs": [
        {
          "output_type": "stream",
          "name": "stdout",
          "text": [
            "              precision    recall  f1-score   support\n",
            "\n",
            "           1      0.946     1.000     0.972       246\n",
            "           2      0.981     0.953     0.967       212\n",
            "           3      1.000     0.964     0.982       194\n",
            "           4      0.914     1.000     0.955       266\n",
            "           5      0.978     0.946     0.962       280\n",
            "           6      0.985     0.954     0.969       281\n",
            "           7      0.750     0.857     0.800         7\n",
            "           8      0.800     0.800     0.800         5\n",
            "           9      0.667     0.800     0.727        15\n",
            "          10      0.560     1.000     0.718        14\n",
            "          11      1.000     0.421     0.593        19\n",
            "          12      1.000     0.200     0.333        15\n",
            "\n",
            "    accuracy                          0.953      1554\n",
            "   macro avg      0.882     0.825     0.815      1554\n",
            "weighted avg      0.959     0.953     0.951      1554\n",
            "\n",
            "Accuracy: 0.953024453024453\n",
            "Weighted F1-Score: 0.9505146227615661\n",
            "Balanced Accuracy Score: 0.8245923691172572\n",
            "Kappa Score: 0.9444018055371767\n"
          ]
        },
        {
          "output_type": "display_data",
          "data": {
            "text/plain": [
              "<Figure size 864x864 with 2 Axes>"
            ],
            "image/png": "[encoded data removed]"
          },
          "metadata": {
            "needs_background": "light"
          }
        }
      ]
    },
    {
      "cell_type": "code",
      "source": [
        "balanced_acc_list = []\n",
        "for i in range( 1, 30 ):\n",
        "    print( 'K-value: {}'.format( i ) )\n",
        "    # model definition\n",
        "    model_knn = nb.KNeighborsClassifier( n_neighbors=i, n_jobs=-1 )\n",
        "\n",
        "    # train model\n",
        "    model_knn.fit( xfirstrain, y )\n",
        "\n",
        "    # prediction\n",
        "    yhat = model_knn.predict( X_test )\n",
        "\n",
        "    # Balanced Accuracy Score\n",
        "    balanced_acc_list.append( m.balanced_accuracy_score( y_test, yhat ) )"
      ],
      "metadata": {
        "id": "k46CGonxhl9f",
        "colab": {
          "base_uri": "https://localhost:8080/"
        },
        "outputId": "f2f1f70a-0996-46e1-98da-ef465991a76e"
      },
      "execution_count": null,
      "outputs": [
        {
          "output_type": "stream",
          "name": "stdout",
          "text": [
            "K-value: 1\n",
            "K-value: 2\n",
            "K-value: 3\n",
            "K-value: 4\n",
            "K-value: 5\n",
            "K-value: 6\n",
            "K-value: 7\n",
            "K-value: 8\n",
            "K-value: 9\n",
            "K-value: 10\n",
            "K-value: 11\n",
            "K-value: 12\n",
            "K-value: 13\n",
            "K-value: 14\n",
            "K-value: 15\n",
            "K-value: 16\n",
            "K-value: 17\n",
            "K-value: 18\n",
            "K-value: 19\n",
            "K-value: 20\n",
            "K-value: 21\n",
            "K-value: 22\n",
            "K-value: 23\n",
            "K-value: 24\n",
            "K-value: 25\n",
            "K-value: 26\n",
            "K-value: 27\n",
            "K-value: 28\n",
            "K-value: 29\n"
          ]
        }
      ]
    },
    {
      "cell_type": "code",
      "source": [
        "plt.figure( figsize=(12, 6) )\n",
        "plt.plot( range( 1, 30 ), balanced_acc_list, color='red', linestyle='dashed', marker='o',\n",
        "                                             markerfacecolor='blue', markersize=10 )\n",
        "plt.xlabel( 'K Value' )\n",
        "plt.ylabel( 'Balanced Accuracy' )\n",
        "#As we can see the balance accuracy is not great so I dont use this model"
      ],
      "metadata": {
        "colab": {
          "base_uri": "https://localhost:8080/",
          "height": 406
        },
        "id": "C4xoLxOkh6B2",
        "outputId": "03df5af5-d1b6-47bd-a8c0-89168cf0a686"
      },
      "execution_count": null,
      "outputs": [
        {
          "output_type": "execute_result",
          "data": {
            "text/plain": [
              "Text(0, 0.5, 'Balanced Accuracy')"
            ]
          },
          "metadata": {},
          "execution_count": 588
        },
        {
          "output_type": "display_data",
          "data": {
            "text/plain": [
              "<Figure size 864x432 with 1 Axes>"
            ],
            "image/png": "[encoded data removed]"
          },
          "metadata": {
            "needs_background": "light"
          }
        }
      ]
    },
    {
      "cell_type": "code",
      "source": [
        "# model definition\n",
        "model_svm = svm.SVC(random_state=32)\n",
        "\n",
        "# model training\n",
        "model_svm.fit( xfirstrain, y )"
      ],
      "metadata": {
        "colab": {
          "base_uri": "https://localhost:8080/"
        },
        "id": "GO8NWq0liDah",
        "outputId": "5cbb7c04-464e-493e-ba69-8725f3acc4a6"
      },
      "execution_count": null,
      "outputs": [
        {
          "output_type": "execute_result",
          "data": {
            "text/plain": [
              "SVC(random_state=32)"
            ]
          },
          "metadata": {},
          "execution_count": 589
        }
      ]
    },
    {
      "cell_type": "code",
      "source": [
        "# prediction\n",
        "yhat = model_svm.predict( X_test )\n",
        "# Confusion Matrix\n",
        "mt.plot_confusion_matrix( y_test, yhat, normalize=True, figsize=( 12, 12 ) )\n",
        "plt.xticks(rotation ='vertical')\n",
        "\n",
        "# Accuracy - Precision - Recall - F1 Score - Kappa Metrics - Confusion Matrix\n",
        "print( m.classification_report( y_test, yhat, digits=3 ) )\n",
        "\n",
        "# =========== Balanced Dataframe Metrics =============\n",
        "# Accuracy\n",
        "acc = m.accuracy_score( y_test, yhat )\n",
        "print( 'Accuracy: {}'.format( acc ) )\n",
        "\n",
        "# =========== Unbalanced Dataframe Metrics =============\n",
        "# Weighted F1-Score\n",
        "f1_score = m.f1_score( y_test, yhat, average='weighted' )\n",
        "print( 'Weighted F1-Score: {}'.format( f1_score ) )\n",
        "\n",
        "# Balanced Accuracy Score\n",
        "balanced_acc = m.balanced_accuracy_score( y_test, yhat )\n",
        "print( 'Balanced Accuracy Score: {}'.format( balanced_acc ) )\n",
        "\n",
        "# Kappa Metrics\n",
        "print( 'Kappa Score: {}'.format( m.cohen_kappa_score( y_test, yhat ) ) )\n",
        "#The accuracy for SVM is good but not the best"
      ],
      "metadata": {
        "colab": {
          "base_uri": "https://localhost:8080/",
          "height": 1000
        },
        "id": "Jbs72J4diDTi",
        "outputId": "3dd814af-2b84-48a7-a94e-8c2a69c55405"
      },
      "execution_count": null,
      "outputs": [
        {
          "output_type": "stream",
          "name": "stdout",
          "text": [
            "              precision    recall  f1-score   support\n",
            "\n",
            "           1      0.888     0.939     0.913       246\n",
            "           2      0.869     0.844     0.856       212\n",
            "           3      0.926     0.907     0.917       194\n",
            "           4      0.776     0.756     0.766       266\n",
            "           5      0.808     0.889     0.847       280\n",
            "           6      0.901     0.840     0.869       281\n",
            "           7      0.444     0.571     0.500         7\n",
            "           8      1.000     0.400     0.571         5\n",
            "           9      0.500     0.600     0.545        15\n",
            "          10      0.562     0.643     0.600        14\n",
            "          11      0.636     0.368     0.467        19\n",
            "          12      0.615     0.533     0.571        15\n",
            "\n",
            "    accuracy                          0.844      1554\n",
            "   macro avg      0.744     0.691     0.702      1554\n",
            "weighted avg      0.845     0.844     0.843      1554\n",
            "\n",
            "Accuracy: 0.8436293436293436\n",
            "Weighted F1-Score: 0.8426442389211792\n",
            "Balanced Accuracy Score: 0.6909502559380855\n",
            "Kappa Score: 0.8149544003837904\n"
          ]
        },
        {
          "output_type": "display_data",
          "data": {
            "text/plain": [
              "<Figure size 864x864 with 2 Axes>"
            ],
            "image/png": "[encoded data removed]"
          },
          "metadata": {
            "needs_background": "light"
          }
        }
      ]
    },
    {
      "cell_type": "code",
      "source": [
        "y_movements=pd.read_csv('/content/y_train.txt', sep=\" \", header=None)"
      ],
      "metadata": {
        "id": "bWnONVnJdIwo"
      },
      "execution_count": null,
      "outputs": []
    },
    {
      "cell_type": "code",
      "source": [
        "dfmovements=pd.read_csv('/content/X_train.txt', sep=\" \", header=None)\n",
        "dfmovements.columns = cols_name\n",
        "dfmovements['position'] = y_movements\n"
      ],
      "metadata": {
        "id": "ZSaBOReykNP_"
      },
      "execution_count": null,
      "outputs": []
    },
    {
      "cell_type": "code",
      "source": [
        "df_moving= dfmovements[dfmovements['position'].between(0,3)]\n",
        "y_moving= y_movements[y_movements[0].between(0,3)]"
      ],
      "metadata": {
        "id": "RF1iJHcoYUqu"
      },
      "execution_count": null,
      "outputs": []
    },
    {
      "cell_type": "code",
      "source": [
        "df_stationary=dfmovements[dfmovements['position'].between(4,6)]\n",
        "y_stationary=y_movements[y_movements[0].between(4,6)]"
      ],
      "metadata": {
        "id": "o9TArCzkcJNm"
      },
      "execution_count": null,
      "outputs": []
    },
    {
      "cell_type": "code",
      "source": [
        "df_transitions=dfmovements[dfmovements['position'].between(7,13)]\n",
        "y_transitions=y_movements[y_movements[0].between(7,13)]"
      ],
      "metadata": {
        "id": "zl6YNxPxdDWP"
      },
      "execution_count": null,
      "outputs": []
    },
    {
      "cell_type": "code",
      "source": [
        "#predicting for moving and selecting features for it\n",
        "x = df_moving.drop(['position'],axis=1)\n",
        "x = StandardScaler().fit_transform(x)\n",
        "y = y_moving[0]\n",
        "x_train, x_test, y_train, y_test = train_test_split(x, y, test_size=0.2, random_state=40)\n",
        "\n",
        "xTest = test.drop(['position'],axis=1)\n",
        "xTest = StandardScaler().fit_transform(xTest)\n",
        "yTest = test['position']\n",
        "labels = ['WALKING','WALKING_UPSTAIRS','WALKING_DOWNSTAIRS','SITTING','STANDING','LAYING','STAND_TO_SIT','SIT_TO_STAND','SIT_TO_LIE','LIE_TO_SIT','STAND_TO_LIE','LIE_TO_STAND']"
      ],
      "metadata": {
        "id": "QwlTHrcSdSmq"
      },
      "execution_count": null,
      "outputs": []
    },
    {
      "cell_type": "code",
      "source": [
        "# configure to select all features\n",
        "fs = SelectKBest(score_func=f_classif, k='all')\n",
        "# learn relationship from training data\n",
        "fs.fit(x_train, y_train)\n",
        "# transform train input data\n",
        "X_train_fs = fs.transform(x_train)\n",
        "# transform test input data\n",
        "X_test_fs = fs.transform(x_test)"
      ],
      "metadata": {
        "id": "6WVvGEYufi4w"
      },
      "execution_count": null,
      "outputs": []
    },
    {
      "cell_type": "code",
      "source": [
        "# what are scores for the features\n",
        "for i in range(len(fs.scores_)):\n",
        "    print('Feature %d: %f' % (i, fs.scores_[i]))\n",
        "# plot the scores\n",
        "pyplot.bar([i for i in range(len(fs.scores_))], fs.scores_)\n",
        "pyplot.show()"
      ],
      "metadata": {
        "id": "VswTGh3WfvXm"
      },
      "execution_count": null,
      "outputs": []
    },
    {
      "cell_type": "code",
      "source": [
        "# configure to select all features\n",
        "fs = SelectKBest(score_func=mutual_info_classif, k='all')\n",
        "# learn relationship from training data\n",
        "fs.fit(x_train, y_train)\n",
        "# transform train input data\n",
        "X_train_fs = fs.transform(x_train)\n",
        "# transform test input data\n",
        "X_test_fs = fs.transform(x_test)\n",
        "ft=[]\n",
        "\n",
        "# what are scores for the features\n",
        "for i in range(len(fs.scores_)):\n",
        "  if fs.scores_[i] >0.3:\n",
        "    print('Feature %d: %f' % (i, fs.scores_[i]))\n",
        "    ft+=[df_cols_name[0][i]]\n",
        "# plot the scores\n",
        "pyplot.bar([i for i in range(len(fs.scores_))], fs.scores_)\n",
        "pyplot.show()"
      ],
      "metadata": {
        "colab": {
          "base_uri": "https://localhost:8080/",
          "height": 867
        },
        "id": "l5PtLLhJhIH_",
        "outputId": "a2b7d25c-3e6b-45bf-deaf-f22f72b998de"
      },
      "execution_count": null,
      "outputs": [
        {
          "output_type": "stream",
          "name": "stdout",
          "text": [
            "Feature 3: 0.355698\n",
            "Feature 6: 0.308074\n",
            "Feature 9: 0.474624\n",
            "Feature 16: 0.340862\n",
            "Feature 53: 0.355718\n",
            "Feature 69: 0.334351\n",
            "Feature 70: 0.342659\n",
            "Feature 71: 0.307692\n",
            "Feature 73: 0.316881\n",
            "Feature 74: 0.314312\n",
            "Feature 75: 0.302525\n",
            "Feature 89: 0.361502\n",
            "Feature 201: 0.406723\n",
            "Feature 202: 0.387697\n",
            "Feature 203: 0.381060\n",
            "Feature 214: 0.406723\n",
            "Feature 215: 0.387697\n",
            "Feature 216: 0.381060\n",
            "Feature 268: 0.355711\n",
            "Feature 271: 0.321821\n",
            "Feature 274: 0.308578\n",
            "Feature 281: 0.353962\n",
            "Feature 302: 0.382357\n",
            "Feature 310: 0.373117\n",
            "Feature 314: 0.349016\n",
            "Feature 381: 0.303633\n",
            "Feature 450: 0.337164\n",
            "Feature 502: 0.328985\n",
            "Feature 503: 0.441788\n",
            "Feature 504: 0.421538\n",
            "Feature 505: 0.306921\n",
            "Feature 507: 0.328985\n",
            "Feature 508: 0.401893\n"
          ]
        },
        {
          "output_type": "display_data",
          "data": {
            "text/plain": [
              "<Figure size 432x288 with 1 Axes>"
            ],
            "image/png": "[encoded data removed]"
          },
          "metadata": {
            "needs_background": "light"
          }
        }
      ]
    },
    {
      "cell_type": "code",
      "source": [
        "print(len(myunique))\n",
        "myunique = set(ft) # prints the final list without any duplicates\n",
        "for i in myunique:\n",
        "  print(\"'\"+i+\"'\"+\",\")\n",
        "  #These are the features selected for problem 2"
      ],
      "metadata": {
        "id": "ZLVKdq0OhPZX",
        "colab": {
          "base_uri": "https://localhost:8080/"
        },
        "outputId": "ede5c033-8d48-4f84-e5b2-c991282cbc78"
      },
      "execution_count": null,
      "outputs": [
        {
          "output_type": "stream",
          "name": "stdout",
          "text": [
            "17\n",
            "'fBodyAccJerk-Energy-1',\n",
            "'tBodyAccJerk-STD-1',\n",
            "'fBodyAcc-Energy-1',\n",
            "'tGravityAcc-Max-2',\n",
            "'tBodyAccJerk-Energy-1',\n",
            "'tBodyAcc-Max-1',\n",
            "'fBodyAcc-Mad-1',\n",
            "'fBodyAcc-BandsEnergyOld-1',\n",
            "'fBodyAcc-BandsEnergyOld-9',\n",
            "'fBodyAccJerk-BandsEnergyOld-9',\n",
            "'fBodyAccJerk-BandsEnergyOld-13',\n",
            "'fBodyAcc-BandsEnergyOld-13',\n",
            "'tBodyAcc-STD-1',\n",
            "'fBodyAccJerk-BandsEnergyOld-1',\n",
            "'tGravityAcc-Min-2',\n",
            "'fBodyAcc-STD-1',\n",
            "'tBodyAccJerk-Max-1',\n"
          ]
        }
      ]
    },
    {
      "cell_type": "code",
      "source": [
        "xfirstrain=df_moving[['tGravityAccMag-Max-1',\n",
        "'tBodyAccMag-STD-1',\n",
        "'fBodyAcc-STD-1',\n",
        "'fBodyAcc-Mad-1',\n",
        "'fBodyGyro-MaxInds-3',\n",
        "'fBodyAccMag-STD-1',\n",
        "'tGravityAcc-ARCoeff-9',\n",
        "'tBodyAccMag-Mad-1',\n",
        "'tGravityAccMag-STD-1',\n",
        "'fBodyAcc-Max-1',\n",
        "'fBodyAcc-BandsEnergyOld-1',\n",
        "'fBodyAccMag-Mad-1',\n",
        "'fBodyAccJerk-BandsEnergyOld-1',\n",
        "'tGravityAccMag-Mad-1',\n",
        "'tGravityAcc-ARCoeff-6',\n",
        "'fBodyAcc-Energy-1',\n",
        "'tGravityAcc-ARCoeff-5',\n",
        "'fBodyAccMag-Mean-1',\n",
        "'tGravityAcc-ARCoeff-10',\n",
        "'tGravityAcc-ARCoeff-7',\n",
        "'tGravityAcc-ARCoeff-11',\n",
        "'tBodyAccJerk-Max-1',\n",
        "'fBodyAccMag-Energy-1',\n",
        "'fBodyAcc-BandsEnergyOld-9',\n",
        "'fBodyAccMag-Max-1',\n",
        "'tBodyAccMag-Max-1',\n",
        "'tGravityAcc-Min-2',\n",
        "'tBodyAcc-Mad-1',\n",
        "'fBodyAcc-BandsEnergyOld-13',\n",
        "'tBodyAcc-STD-1',\n",
        "'fBodyAccMag-SMA-1',\n",
        "'tBodyAcc-Energy-1',\n",
        "'tBodyAcc-Max-1']]"
      ],
      "metadata": {
        "id": "2Y0JEokjkXIt"
      },
      "execution_count": null,
      "outputs": []
    },
    {
      "cell_type": "code",
      "source": [
        "\n",
        "voting_clf = VotingClassifier(estimators=[('lr', log_clf), ('dt', tree_clf), ('xgb', xgb_clf), ('knn', knn_clf)], voting='soft')"
      ],
      "metadata": {
        "id": "8mv3uFxQkzVm"
      },
      "execution_count": null,
      "outputs": []
    },
    {
      "cell_type": "code",
      "source": [
        "voting_clf.fit(xfirstrain,y)"
      ],
      "metadata": {
        "colab": {
          "base_uri": "https://localhost:8080/"
        },
        "id": "7u4tE9fElWVe",
        "outputId": "c27af7a9-d3d2-429e-8f34-6931fd633d08"
      },
      "execution_count": null,
      "outputs": [
        {
          "output_type": "execute_result",
          "data": {
            "text/plain": [
              "VotingClassifier(estimators=[('lr', LogisticRegression()),\n",
              "                             ('dt', DecisionTreeClassifier()),\n",
              "                             ('xgb', XGBClassifier()),\n",
              "                             ('knn', KNeighborsClassifier())],\n",
              "                 voting='soft')"
            ]
          },
          "metadata": {},
          "execution_count": 601
        }
      ]
    },
    {
      "cell_type": "code",
      "source": [
        "X_train, X_test, y_train, y_test = train_test_split(xfirstrain, y, test_size=0.2)\n",
        "y_pred_proba = voting_clf.predict_proba(xfirstrain)\n",
        "clf = LogisticRegression(solver=\"liblinear\").fit(xfirstrain, y)\n",
        "preds = clf.predict_proba(xfirstrain)\n",
        "roc_auc = roc_auc_score(y,preds, multi_class='ovr')\n",
        "print(roc_auc)\n",
        "#after using the features the model has a logistic regression performance of 99% which is pretty solid"
      ],
      "metadata": {
        "id": "6Z5dm_oOmqyU",
        "colab": {
          "base_uri": "https://localhost:8080/"
        },
        "outputId": "66fb8498-f82c-4da6-8060-e910207bdc98"
      },
      "execution_count": null,
      "outputs": [
        {
          "output_type": "stream",
          "name": "stdout",
          "text": [
            "0.9901896325768501\n"
          ]
        }
      ]
    },
    {
      "cell_type": "code",
      "source": [
        "accuracy = voting_clf.score(X_test, y_test)\n",
        "accuracy\n",
        "#the accuracy of the logistic model is of 1 after the implementation of the features which is weird"
      ],
      "metadata": {
        "id": "-aavRAbMnG03",
        "colab": {
          "base_uri": "https://localhost:8080/"
        },
        "outputId": "d954ccef-6d08-4324-f11f-e6875af735f5"
      },
      "execution_count": null,
      "outputs": [
        {
          "output_type": "execute_result",
          "data": {
            "text/plain": [
              "0.9954407294832827"
            ]
          },
          "metadata": {},
          "execution_count": 603
        }
      ]
    },
    {
      "cell_type": "code",
      "source": [
        "# model definition\n",
        "model_lg = lm.LogisticRegression( n_jobs=-1, random_state=32 )\n",
        "\n",
        "# train model\n",
        "model_lg.fit( X_train, y_train )"
      ],
      "metadata": {
        "colab": {
          "base_uri": "https://localhost:8080/"
        },
        "id": "4XuH99NYnXLd",
        "outputId": "78c49cf8-abb2-4a8d-f2c1-dd43c9da0334"
      },
      "execution_count": null,
      "outputs": [
        {
          "output_type": "execute_result",
          "data": {
            "text/plain": [
              "LogisticRegression(n_jobs=-1, random_state=32)"
            ]
          },
          "metadata": {},
          "execution_count": 604
        }
      ]
    },
    {
      "cell_type": "code",
      "source": [
        "# prediction\n",
        "yhat = model_lg.predict( X_test )\n",
        "# Confusion Matrix\n",
        "mt.plot_confusion_matrix( y_test, yhat, normalize=True, figsize=( 12, 12 ) )\n",
        "plt.xticks(rotation ='vertical')\n",
        "# Accuracy - Precision - Recall - F1 Score - Kappa Metrics - Confusion Matrix\n",
        "print( m.classification_report( y_test, yhat, digits=3 ) )\n",
        "\n",
        "# =========== Balanced Dataframe Metrics =============\n",
        "# Accuracy\n",
        "acc = m.accuracy_score( y_test, yhat )\n",
        "print( 'Accuracy: {}'.format( acc ) )\n",
        "\n",
        "# =========== Unbalanced Dataframe Metrics =============\n",
        "# Weighted F1-Score\n",
        "f1_score = m.f1_score( y_test, yhat, average='weighted' )\n",
        "print( 'Weighted F1-Score: {}'.format( f1_score ) )\n",
        "\n",
        "# Balanced Accuracy Score\n",
        "balanced_acc = m.balanced_accuracy_score( y_test, yhat )\n",
        "print( 'Balanced Accuracy Score: {}'.format( balanced_acc ) )\n",
        "\n",
        "# Kappa Metrics\n",
        "print( 'Kappa Score: {}'.format( m.cohen_kappa_score( y_test, yhat ) ) )\n",
        "#the accuracy in the\n",
        "\n",
        "#The accuracy is 92% which is good.\n"
      ],
      "metadata": {
        "id": "6lK9mBN4ni4Z",
        "colab": {
          "base_uri": "https://localhost:8080/",
          "height": 938
        },
        "outputId": "73ff909c-beee-43b3-ed9a-e1947547d465"
      },
      "execution_count": null,
      "outputs": [
        {
          "output_type": "stream",
          "name": "stdout",
          "text": [
            "              precision    recall  f1-score   support\n",
            "\n",
            "           1      0.949     0.915     0.932       246\n",
            "           2      0.917     0.955     0.936       221\n",
            "           3      0.932     0.932     0.932       191\n",
            "\n",
            "    accuracy                          0.933       658\n",
            "   macro avg      0.933     0.934     0.933       658\n",
            "weighted avg      0.934     0.933     0.933       658\n",
            "\n",
            "Accuracy: 0.9331306990881459\n",
            "Weighted F1-Score: 0.9331031969123555\n",
            "Balanced Accuracy Score: 0.933774150112684\n",
            "Kappa Score: 0.8992451740206229\n"
          ]
        },
        {
          "output_type": "display_data",
          "data": {
            "text/plain": [
              "<Figure size 864x864 with 2 Axes>"
            ],
            "image/png": "[encoded data removed]"
          },
          "metadata": {
            "needs_background": "light"
          }
        }
      ]
    },
    {
      "cell_type": "code",
      "source": [
        "# model definition\n",
        "model_knn = nb.KNeighborsClassifier( n_neighbors=2, n_jobs=-1 )\n",
        "\n",
        "# train model\n",
        "model_knn.fit( xfirstrain, y )"
      ],
      "metadata": {
        "colab": {
          "base_uri": "https://localhost:8080/"
        },
        "id": "4B-lneVjn1T3",
        "outputId": "25f06d30-4a1c-4ac3-8104-cf9ebfeef5df"
      },
      "execution_count": null,
      "outputs": [
        {
          "output_type": "execute_result",
          "data": {
            "text/plain": [
              "KNeighborsClassifier(n_jobs=-1, n_neighbors=2)"
            ]
          },
          "metadata": {},
          "execution_count": 606
        }
      ]
    },
    {
      "cell_type": "code",
      "source": [
        "# prediction\n",
        "yhat = model_knn.predict( X_test )"
      ],
      "metadata": {
        "id": "YYYf8X7On2gs"
      },
      "execution_count": null,
      "outputs": []
    },
    {
      "cell_type": "code",
      "source": [
        "# Confusion Matrix\n",
        "mt.plot_confusion_matrix( y_test, yhat, normalize=True, figsize=( 12, 12 ) )\n",
        "plt.xticks(rotation ='vertical')\n",
        "\n",
        "# Accuracy - Precision - Recall - F1 Score - Kappa Metrics - Confusion Matrix\n",
        "print( m.classification_report( y_test, yhat, digits=3 ) )\n",
        "\n",
        "# =========== Balanced Dataframe Metrics =============\n",
        "# Accuracy\n",
        "acc = m.accuracy_score( y_test, yhat )\n",
        "print( 'Accuracy: {}'.format( acc ) )\n",
        "\n",
        "# =========== Unbalanced Dataframe Metrics =============\n",
        "# Weighted F1-Score\n",
        "f1_score = m.f1_score( y_test, yhat, average='weighted' )\n",
        "print( 'Weighted F1-Score: {}'.format( f1_score ) )\n",
        "\n",
        "# Balanced Accuracy Score\n",
        "balanced_acc = m.balanced_accuracy_score( y_test, yhat )\n",
        "print( 'Balanced Accuracy Score: {}'.format( balanced_acc ) )\n",
        "\n",
        "# Kappa Metrics\n",
        "print( 'Kappa Score: {}'.format( m.cohen_kappa_score( y_test, yhat ) ) )\n",
        "\n",
        "#This model works truly good, with a 96% accuracy."
      ],
      "metadata": {
        "colab": {
          "base_uri": "https://localhost:8080/",
          "height": 948
        },
        "id": "sV2SV5wsoPgM",
        "outputId": "6ae00826-44fc-4d75-ea60-4b408042d4ba"
      },
      "execution_count": null,
      "outputs": [
        {
          "output_type": "stream",
          "name": "stdout",
          "text": [
            "              precision    recall  f1-score   support\n",
            "\n",
            "           1      0.980     1.000     0.990       246\n",
            "           2      0.973     0.995     0.984       221\n",
            "           3      1.000     0.948     0.973       191\n",
            "\n",
            "    accuracy                          0.983       658\n",
            "   macro avg      0.985     0.981     0.982       658\n",
            "weighted avg      0.984     0.983     0.983       658\n",
            "\n",
            "Accuracy: 0.9832826747720365\n",
            "Weighted F1-Score: 0.9831761279504942\n",
            "Balanced Accuracy Score: 0.9810396973932546\n",
            "Kappa Score: 0.9747541864172081\n"
          ]
        },
        {
          "output_type": "display_data",
          "data": {
            "text/plain": [
              "<Figure size 864x864 with 2 Axes>"
            ],
            "image/png": "[encoded data removed]"
          },
          "metadata": {
            "needs_background": "light"
          }
        }
      ]
    },
    {
      "cell_type": "code",
      "source": [
        "balanced_acc_list = []\n",
        "for i in range( 1, 30 ):\n",
        "    print( 'K-value: {}'.format( i ) )\n",
        "    # model definition\n",
        "    model_knn = nb.KNeighborsClassifier( n_neighbors=i, n_jobs=-1 )\n",
        "\n",
        "    # train model\n",
        "    model_knn.fit( xfirstrain, y )\n",
        "\n",
        "    # prediction\n",
        "    yhat = model_knn.predict( X_test )\n",
        "\n",
        "    # Balanced Accuracy Score\n",
        "    balanced_acc_list.append( m.balanced_accuracy_score( y_test, yhat ) )"
      ],
      "metadata": {
        "id": "-Lbl0ZGvouDs",
        "colab": {
          "base_uri": "https://localhost:8080/"
        },
        "outputId": "f88025db-098b-4012-d05f-4ef8436bac28"
      },
      "execution_count": null,
      "outputs": [
        {
          "output_type": "stream",
          "name": "stdout",
          "text": [
            "K-value: 1\n",
            "K-value: 2\n",
            "K-value: 3\n",
            "K-value: 4\n",
            "K-value: 5\n",
            "K-value: 6\n",
            "K-value: 7\n",
            "K-value: 8\n",
            "K-value: 9\n",
            "K-value: 10\n",
            "K-value: 11\n",
            "K-value: 12\n",
            "K-value: 13\n",
            "K-value: 14\n",
            "K-value: 15\n",
            "K-value: 16\n",
            "K-value: 17\n",
            "K-value: 18\n",
            "K-value: 19\n",
            "K-value: 20\n",
            "K-value: 21\n",
            "K-value: 22\n",
            "K-value: 23\n",
            "K-value: 24\n",
            "K-value: 25\n",
            "K-value: 26\n",
            "K-value: 27\n",
            "K-value: 28\n",
            "K-value: 29\n"
          ]
        }
      ]
    },
    {
      "cell_type": "code",
      "source": [
        "plt.figure( figsize=(12, 6) )\n",
        "plt.plot( range( 1, 30 ), balanced_acc_list, color='red', linestyle='dashed', marker='o',\n",
        "                                             markerfacecolor='blue', markersize=10 )\n",
        "plt.xlabel( 'K Value' )\n",
        "plt.ylabel( 'Balanced Accuracy' )\n",
        "#The model works properly, since a good number k would be for instance 8, we could get an accuracy over 96%"
      ],
      "metadata": {
        "colab": {
          "base_uri": "https://localhost:8080/",
          "height": 406
        },
        "id": "uUpjgKJ-o5bt",
        "outputId": "31f2d7d4-53b6-45d7-f3e6-adfdb47ae248"
      },
      "execution_count": null,
      "outputs": [
        {
          "output_type": "execute_result",
          "data": {
            "text/plain": [
              "Text(0, 0.5, 'Balanced Accuracy')"
            ]
          },
          "metadata": {},
          "execution_count": 433
        },
        {
          "output_type": "display_data",
          "data": {
            "text/plain": [
              "<Figure size 864x432 with 1 Axes>"
            ],
            "image/png": "[encoded data removed]"
          },
          "metadata": {
            "needs_background": "light"
          }
        }
      ]
    },
    {
      "cell_type": "code",
      "source": [
        "# model definition\n",
        "model_svm = svm.SVC(random_state=32)\n",
        "\n",
        "# model training\n",
        "model_svm.fit( xfirstrain, y )"
      ],
      "metadata": {
        "colab": {
          "base_uri": "https://localhost:8080/"
        },
        "id": "0pOcLIuYpwyI",
        "outputId": "e24c4ac5-43d5-4491-ae27-4336621cf769"
      },
      "execution_count": null,
      "outputs": [
        {
          "output_type": "execute_result",
          "data": {
            "text/plain": [
              "SVC(random_state=32)"
            ]
          },
          "metadata": {},
          "execution_count": 610
        }
      ]
    },
    {
      "cell_type": "code",
      "source": [
        "# prediction\n",
        "yhat = model_svm.predict( X_test )\n",
        "# Confusion Matrix\n",
        "mt.plot_confusion_matrix( y_test, yhat, normalize=True, figsize=( 12, 12 ) )\n",
        "plt.xticks(rotation ='vertical')\n",
        "\n",
        "# Accuracy - Precision - Recall - F1 Score - Kappa Metrics - Confusion Matrix\n",
        "print( m.classification_report( y_test, yhat, digits=3 ) )\n",
        "\n",
        "# =========== Balanced Dataframe Metrics =============\n",
        "# Accuracy\n",
        "acc = m.accuracy_score( y_test, yhat )\n",
        "print( 'Accuracy: {}'.format( acc ) )\n",
        "\n",
        "# =========== Unbalanced Dataframe Metrics =============\n",
        "# Weighted F1-Score\n",
        "f1_score = m.f1_score( y_test, yhat, average='weighted' )\n",
        "print( 'Weighted F1-Score: {}'.format( f1_score ) )\n",
        "\n",
        "# Balanced Accuracy Score\n",
        "balanced_acc = m.balanced_accuracy_score( y_test, yhat )\n",
        "print( 'Balanced Accuracy Score: {}'.format( balanced_acc ) )\n",
        "\n",
        "# Kappa Metrics\n",
        "print( 'Kappa Score: {}'.format( m.cohen_kappa_score( y_test, yhat ) ) )\n",
        "#The accuracy for SVM is pretty good as well with an accuracy of 96.2%"
      ],
      "metadata": {
        "colab": {
          "base_uri": "https://localhost:8080/",
          "height": 938
        },
        "id": "YHRlWMgnqKMv",
        "outputId": "3dc09797-8916-4166-b734-002f66db09e0"
      },
      "execution_count": null,
      "outputs": [
        {
          "output_type": "stream",
          "name": "stdout",
          "text": [
            "              precision    recall  f1-score   support\n",
            "\n",
            "           1      0.967     0.947     0.957       246\n",
            "           2      0.939     0.968     0.953       221\n",
            "           3      0.963     0.953     0.958       191\n",
            "\n",
            "    accuracy                          0.956       658\n",
            "   macro avg      0.956     0.956     0.956       658\n",
            "weighted avg      0.956     0.956     0.956       658\n",
            "\n",
            "Accuracy: 0.9559270516717325\n",
            "Weighted F1-Score: 0.9559480075482915\n",
            "Balanced Accuracy Score: 0.9561199481839172\n",
            "Kappa Score: 0.933556413675916\n"
          ]
        },
        {
          "output_type": "display_data",
          "data": {
            "text/plain": [
              "<Figure size 864x864 with 2 Axes>"
            ],
            "image/png": "[encoded data removed]"
          },
          "metadata": {
            "needs_background": "light"
          }
        }
      ]
    },
    {
      "cell_type": "code",
      "source": [
        "from sklearn.preprocessing import LabelEncoder, OneHotEncoder\n",
        "import warnings\n",
        "warnings.filterwarnings(\"ignore\")\n",
        "from sklearn.model_selection import train_test_split"
      ],
      "metadata": {
        "id": "gF7w2jgIxYjW"
      },
      "execution_count": null,
      "outputs": []
    },
    {
      "cell_type": "code",
      "source": [
        "data = xfirstest.iloc[:,1:-1]\n",
        "data.info()"
      ],
      "metadata": {
        "colab": {
          "base_uri": "https://localhost:8080/"
        },
        "id": "hHN5I-3mxdGC",
        "outputId": "f78b4171-357a-40db-82ae-1bbdf1664492"
      },
      "execution_count": null,
      "outputs": [
        {
          "output_type": "stream",
          "name": "stdout",
          "text": [
            "<class 'pandas.core.frame.DataFrame'>\n",
            "RangeIndex: 3162 entries, 0 to 3161\n",
            "Data columns (total 15 columns):\n",
            " #   Column                          Non-Null Count  Dtype  \n",
            "---  ------                          --------------  -----  \n",
            " 0   fBodyAccJerk-BandsEnergyOld-1   3162 non-null   float64\n",
            " 1   fBodyAcc-STD-1                  3162 non-null   float64\n",
            " 2   fBodyAcc-Mad-1                  3162 non-null   float64\n",
            " 3   tBodyAccJerk-STD-1              3162 non-null   float64\n",
            " 4   fBodyAcc-Energy-1               3162 non-null   float64\n",
            " 5   tGravityAcc-Min-2               3162 non-null   float64\n",
            " 6   fBodyAcc-BandsEnergyOld-13      3162 non-null   float64\n",
            " 7   fBodyAccJerk-BandsEnergyOld-9   3162 non-null   float64\n",
            " 8   tBodyAcc-STD-1                  3162 non-null   float64\n",
            " 9   tBodyAccJerk-Max-1              3162 non-null   float64\n",
            " 10  tBodyAccJerk-Energy-1           3162 non-null   float64\n",
            " 11  fBodyAcc-BandsEnergyOld-1       3162 non-null   float64\n",
            " 12  fBodyAccJerk-BandsEnergyOld-13  3162 non-null   float64\n",
            " 13  fBodyAcc-BandsEnergyOld-9       3162 non-null   float64\n",
            " 14  tBodyAcc-Max-1                  3162 non-null   float64\n",
            "dtypes: float64(15)\n",
            "memory usage: 370.7 KB\n"
          ]
        }
      ]
    },
    {
      "cell_type": "code",
      "source": [
        "label_encoder = LabelEncoder()\n",
        "data.iloc[:,0] = label_encoder.fit_transform(data.iloc[:,0]).astype('float64')\n",
        "\n",
        "corr = data.corr()\n",
        "sns.heatmap(corr)"
      ],
      "metadata": {
        "colab": {
          "base_uri": "https://localhost:8080/",
          "height": 445
        },
        "id": "PrUyJWXwxpkR",
        "outputId": "ea216330-3ee9-4cab-ea84-6f22e356b553"
      },
      "execution_count": null,
      "outputs": [
        {
          "output_type": "execute_result",
          "data": {
            "text/plain": [
              "<matplotlib.axes._subplots.AxesSubplot at 0x7f31a9fd1730>"
            ]
          },
          "metadata": {},
          "execution_count": 614
        },
        {
          "output_type": "display_data",
          "data": {
            "text/plain": [
              "<Figure size 432x288 with 2 Axes>"
            ],
            "image/png": "[encoded data removed]"
          },
          "metadata": {
            "needs_background": "light"
          }
        }
      ]
    },
    {
      "cell_type": "code",
      "source": [
        "#predicting for stationary and selecting features for it\n",
        "x = df_stationary.drop(['position'],axis=1)\n",
        "x = StandardScaler().fit_transform(x)\n",
        "y = y_stationary[0]\n",
        "x_train, x_test, y_train, y_test = train_test_split(x, y, test_size=0.2, random_state=40)\n",
        "\n",
        "xTest = test.drop(['position'],axis=1)\n",
        "xTest = StandardScaler().fit_transform(xTest)\n",
        "yTest = test['position']\n",
        "labels = ['WALKING','WALKING_UPSTAIRS','WALKING_DOWNSTAIRS','SITTING','STANDING','LAYING','STAND_TO_SIT','SIT_TO_STAND','SIT_TO_LIE','LIE_TO_SIT','STAND_TO_LIE','LIE_TO_STAND']"
      ],
      "metadata": {
        "id": "CvpVZH3ttDib"
      },
      "execution_count": null,
      "outputs": []
    },
    {
      "cell_type": "code",
      "source": [
        "# configure to select all features\n",
        "fs = SelectKBest(score_func=f_classif, k='all')\n",
        "# learn relationship from training data\n",
        "fs.fit(x_train, y_train)\n",
        "# transform train input data\n",
        "X_train_fs = fs.transform(x_train)\n",
        "# transform test input data\n",
        "X_test_fs = fs.transform(x_test)"
      ],
      "metadata": {
        "id": "zW6SJ3r7vYBr"
      },
      "execution_count": null,
      "outputs": []
    },
    {
      "cell_type": "code",
      "source": [
        "# what are scores for the features\n",
        "for i in range(len(fs.scores_)):\n",
        "    print('Feature %d: %f' % (i, fs.scores_[i]))\n",
        "# plot the scores\n",
        "pyplot.bar([i for i in range(len(fs.scores_))], fs.scores_)\n",
        "pyplot.show()"
      ],
      "metadata": {
        "id": "3AGruZyxvs-K",
        "colab": {
          "base_uri": "https://localhost:8080/",
          "height": 1000
        },
        "outputId": "f007cf4d-aee1-46b5-87fe-a075ddfecbb6"
      },
      "execution_count": null,
      "outputs": [
        {
          "output_type": "stream",
          "name": "stdout",
          "text": [
            "Feature 0: 10.168214\n",
            "Feature 1: 6.750236\n",
            "Feature 2: 0.104883\n",
            "Feature 3: 85.320640\n",
            "Feature 4: 0.463807\n",
            "Feature 5: 0.825652\n",
            "Feature 6: 96.858944\n",
            "Feature 7: 0.486184\n",
            "Feature 8: 0.901775\n",
            "Feature 9: 28.309617\n",
            "Feature 10: 4.178929\n",
            "Feature 11: 0.119278\n",
            "Feature 12: 41.503950\n",
            "Feature 13: 7.044253\n",
            "Feature 14: 1.714152\n",
            "Feature 15: 13.512284\n",
            "Feature 16: 25.767672\n",
            "Feature 17: 9.113064\n",
            "Feature 18: 7.248315\n",
            "Feature 19: 109.690701\n",
            "Feature 20: 0.587930\n",
            "Feature 21: 0.877125\n",
            "Feature 22: 128.268177\n",
            "Feature 23: 30.442196\n",
            "Feature 24: 5.520545\n",
            "Feature 25: 198.960030\n",
            "Feature 26: 20.250085\n",
            "Feature 27: 43.889025\n",
            "Feature 28: 5.057099\n",
            "Feature 29: 92.087412\n",
            "Feature 30: 20.489461\n",
            "Feature 31: 3.545250\n",
            "Feature 32: 6.995012\n",
            "Feature 33: 46.972123\n",
            "Feature 34: 5.388109\n",
            "Feature 35: 6.076651\n",
            "Feature 36: 10.296425\n",
            "Feature 37: 216.460780\n",
            "Feature 38: 112.248397\n",
            "Feature 39: 633.489143\n",
            "Feature 40: 29271.406110\n",
            "Feature 41: 3700.809134\n",
            "Feature 42: 1324.769559\n",
            "Feature 43: 73.274347\n",
            "Feature 44: 7.425202\n",
            "Feature 45: 3.379873\n",
            "Feature 46: 73.155058\n",
            "Feature 47: 6.748169\n",
            "Feature 48: 2.901381\n",
            "Feature 49: 25486.823634\n",
            "Feature 50: 3856.682352\n",
            "Feature 51: 1341.183874\n",
            "Feature 52: 28146.678389\n",
            "Feature 53: 3442.843889\n",
            "Feature 54: 1278.071523\n",
            "Feature 55: 366.261833\n",
            "Feature 56: 30611.591768\n",
            "Feature 57: 3021.059524\n",
            "Feature 58: 2339.227776\n",
            "Feature 59: 72.139129\n",
            "Feature 60: 4.627832\n",
            "Feature 61: 1.422891\n",
            "Feature 62: 158.155199\n",
            "Feature 63: 308.734242\n",
            "Feature 64: 49.305952\n",
            "Feature 65: 294.373488\n",
            "Feature 66: 273.161927\n",
            "Feature 67: 245.252384\n",
            "Feature 68: 211.472264\n",
            "Feature 69: 86.842706\n",
            "Feature 70: 86.216197\n",
            "Feature 71: 84.085810\n",
            "Feature 72: 80.257210\n",
            "Feature 73: 87.088245\n",
            "Feature 74: 83.945612\n",
            "Feature 75: 80.053800\n",
            "Feature 76: 75.435235\n",
            "Feature 77: 323.456010\n",
            "Feature 78: 179.464393\n",
            "Feature 79: 564.026837\n",
            "Feature 80: 18.396045\n",
            "Feature 81: 4.564432\n",
            "Feature 82: 0.898195\n",
            "Feature 83: 9.668423\n",
            "Feature 84: 13.819622\n",
            "Feature 85: 3.531838\n",
            "Feature 86: 11.916921\n",
            "Feature 87: 14.133355\n",
            "Feature 88: 3.165350\n",
            "Feature 89: 8.448878\n",
            "Feature 90: 15.952138\n",
            "Feature 91: 5.090173\n",
            "Feature 92: 6.122139\n",
            "Feature 93: 9.423064\n",
            "Feature 94: 3.328235\n",
            "Feature 95: 7.893740\n",
            "Feature 96: 4.828159\n",
            "Feature 97: 3.241786\n",
            "Feature 98: 4.804331\n",
            "Feature 99: 16.050633\n",
            "Feature 100: 14.711759\n",
            "Feature 101: 2.631141\n",
            "Feature 102: 23.960942\n",
            "Feature 103: 32.316175\n",
            "Feature 104: 0.529918\n",
            "Feature 105: 77.638304\n",
            "Feature 106: 34.024815\n",
            "Feature 107: 61.736502\n",
            "Feature 108: 144.459891\n",
            "Feature 109: 57.126991\n",
            "Feature 110: 3.863013\n",
            "Feature 111: 23.725409\n",
            "Feature 112: 7.215550\n",
            "Feature 113: 16.627141\n",
            "Feature 114: 5.317560\n",
            "Feature 115: 8.375428\n",
            "Feature 116: 25.778915\n",
            "Feature 117: 5.878090\n",
            "Feature 118: 36.933918\n",
            "Feature 119: 69.894578\n",
            "Feature 120: 56.090470\n",
            "Feature 121: 32.376400\n",
            "Feature 122: 66.440392\n",
            "Feature 123: 89.270462\n",
            "Feature 124: 1.232105\n",
            "Feature 125: 2.233307\n",
            "Feature 126: 95.425731\n",
            "Feature 127: 0.481585\n",
            "Feature 128: 1.189341\n",
            "Feature 129: 86.664840\n",
            "Feature 130: 9.546086\n",
            "Feature 131: 12.558048\n",
            "Feature 132: 43.769670\n",
            "Feature 133: 5.815596\n",
            "Feature 134: 45.258641\n",
            "Feature 135: 3.579823\n",
            "Feature 136: 8.947028\n",
            "Feature 137: 2.127700\n",
            "Feature 138: 21.937504\n",
            "Feature 139: 80.054492\n",
            "Feature 140: 5.098548\n",
            "Feature 141: 2.224925\n",
            "Feature 142: 188.087516\n",
            "Feature 143: 6.050416\n",
            "Feature 144: 0.608812\n",
            "Feature 145: 244.871975\n",
            "Feature 146: 69.917461\n",
            "Feature 147: 8.139950\n",
            "Feature 148: 62.253725\n",
            "Feature 149: 33.983175\n",
            "Feature 150: 5.891196\n",
            "Feature 151: 7.003001\n",
            "Feature 152: 23.296952\n",
            "Feature 153: 80.436417\n",
            "Feature 154: 31.651896\n",
            "Feature 155: 10.653962\n",
            "Feature 156: 15.720251\n",
            "Feature 157: 87.000106\n",
            "Feature 158: 56.588155\n",
            "Feature 159: 67.463042\n",
            "Feature 160: 12.096791\n",
            "Feature 161: 16.772537\n",
            "Feature 162: 67.463020\n",
            "Feature 163: 63.684012\n",
            "Feature 164: 14.121068\n",
            "Feature 165: 19.202910\n",
            "Feature 166: 75.412524\n",
            "Feature 167: 13.973178\n",
            "Feature 168: 20.958348\n",
            "Feature 169: 42.165522\n",
            "Feature 170: 11.077883\n",
            "Feature 171: 15.955675\n",
            "Feature 172: 41.717278\n",
            "Feature 173: 14.908298\n",
            "Feature 174: 11.734914\n",
            "Feature 175: 30.991196\n",
            "Feature 176: 13.326590\n",
            "Feature 177: 9.172409\n",
            "Feature 178: 4.312734\n",
            "Feature 179: 75.134632\n",
            "Feature 180: 13.939623\n",
            "Feature 181: 21.472631\n",
            "Feature 182: 152.429337\n",
            "Feature 183: 15.100968\n",
            "Feature 184: 67.015836\n",
            "Feature 185: 280.301957\n",
            "Feature 186: 25.428920\n",
            "Feature 187: 192.025442\n",
            "Feature 188: 2.525254\n",
            "Feature 189: 41.291417\n",
            "Feature 190: 33.984514\n",
            "Feature 191: 35.404277\n",
            "Feature 192: 26.412134\n",
            "Feature 193: 84.986311\n",
            "Feature 194: 1.920843\n",
            "Feature 195: 74.140464\n",
            "Feature 196: 19.928252\n",
            "Feature 197: 17.061381\n",
            "Feature 198: 81.051405\n",
            "Feature 199: 73.933907\n",
            "Feature 200: 12.939376\n",
            "Feature 201: 4.877739\n",
            "Feature 202: 5.236816\n",
            "Feature 203: 5.178116\n",
            "Feature 204: 16.358298\n",
            "Feature 205: 12.939376\n",
            "Feature 206: 18.446441\n",
            "Feature 207: 5.367216\n",
            "Feature 208: 4.516460\n",
            "Feature 209: 7.817640\n",
            "Feature 210: 2.230716\n",
            "Feature 211: 4.669826\n",
            "Feature 212: 0.687056\n",
            "Feature 213: 12.939376\n",
            "Feature 214: 4.877739\n",
            "Feature 215: 5.236816\n",
            "Feature 216: 5.178116\n",
            "Feature 217: 16.358298\n",
            "Feature 218: 12.939376\n",
            "Feature 219: 18.446441\n",
            "Feature 220: 5.367216\n",
            "Feature 221: 4.516460\n",
            "Feature 222: 7.817640\n",
            "Feature 223: 2.230716\n",
            "Feature 224: 4.669826\n",
            "Feature 225: 0.687056\n",
            "Feature 226: 7.904234\n",
            "Feature 227: 7.835464\n",
            "Feature 228: 7.269860\n",
            "Feature 229: 8.811095\n",
            "Feature 230: 4.138878\n",
            "Feature 231: 7.904234\n",
            "Feature 232: 4.626960\n",
            "Feature 233: 6.693056\n",
            "Feature 234: 8.810565\n",
            "Feature 235: 6.055630\n",
            "Feature 236: 16.221142\n",
            "Feature 237: 4.575348\n",
            "Feature 238: 13.255033\n",
            "Feature 239: 3.789318\n",
            "Feature 240: 16.867987\n",
            "Feature 241: 14.230245\n",
            "Feature 242: 13.021651\n",
            "Feature 243: 27.172796\n",
            "Feature 244: 3.789318\n",
            "Feature 245: 3.000295\n",
            "Feature 246: 6.186819\n",
            "Feature 247: 20.552790\n",
            "Feature 248: 63.562567\n",
            "Feature 249: 25.727263\n",
            "Feature 250: 0.789636\n",
            "Feature 251: 19.776519\n",
            "Feature 252: 31.474076\n",
            "Feature 253: 24.538676\n",
            "Feature 254: 25.798730\n",
            "Feature 255: 22.551257\n",
            "Feature 256: 25.890723\n",
            "Feature 257: 31.474076\n",
            "Feature 258: 12.905891\n",
            "Feature 259: 25.834905\n",
            "Feature 260: 39.319261\n",
            "Feature 261: 85.039615\n",
            "Feature 262: 138.911718\n",
            "Feature 263: 3.219471\n",
            "Feature 264: 57.969167\n",
            "Feature 265: 48.621764\n",
            "Feature 266: 0.724538\n",
            "Feature 267: 0.117102\n",
            "Feature 268: 97.709542\n",
            "Feature 269: 0.512637\n",
            "Feature 270: 1.169274\n",
            "Feature 271: 59.181824\n",
            "Feature 272: 1.589738\n",
            "Feature 273: 0.593871\n",
            "Feature 274: 120.993030\n",
            "Feature 275: 1.382004\n",
            "Feature 276: 1.377239\n",
            "Feature 277: 30.748966\n",
            "Feature 278: 5.625170\n",
            "Feature 279: 2.642695\n",
            "Feature 280: 3.501889\n",
            "Feature 281: 27.451442\n",
            "Feature 282: 4.517967\n",
            "Feature 283: 2.715300\n",
            "Feature 284: 13.719655\n",
            "Feature 285: 5.828408\n",
            "Feature 286: 0.971298\n",
            "Feature 287: 45.710460\n",
            "Feature 288: 36.491177\n",
            "Feature 289: 9.753639\n",
            "Feature 290: 128.741710\n",
            "Feature 291: 57.345513\n",
            "Feature 292: 27.834675\n",
            "Feature 293: 366.304908\n",
            "Feature 294: 90.422917\n",
            "Feature 295: 69.243036\n",
            "Feature 296: 548.878297\n",
            "Feature 297: 493.875043\n",
            "Feature 298: 0.208328\n",
            "Feature 299: 2.598792\n",
            "Feature 300: 25.570861\n",
            "Feature 301: 17.020533\n",
            "Feature 302: 28.485969\n",
            "Feature 303: 7.033411\n",
            "Feature 304: 8.850599\n",
            "Feature 305: 15.151071\n",
            "Feature 306: 18.032598\n",
            "Feature 307: 19.733838\n",
            "Feature 308: 20.157322\n",
            "Feature 309: 21.823877\n",
            "Feature 310: 27.704905\n",
            "Feature 311: 11.171365\n",
            "Feature 312: 19.090555\n",
            "Feature 313: 21.099074\n",
            "Feature 314: 27.504428\n",
            "Feature 315: 17.989015\n",
            "Feature 316: 4.878531\n",
            "Feature 317: 1.782882\n",
            "Feature 318: 0.850906\n",
            "Feature 319: 3.643659\n",
            "Feature 320: 3.933010\n",
            "Feature 321: 4.263935\n",
            "Feature 322: 6.343986\n",
            "Feature 323: 6.392103\n",
            "Feature 324: 4.548277\n",
            "Feature 325: 1.598612\n",
            "Feature 326: 4.192918\n",
            "Feature 327: 6.437772\n",
            "Feature 328: 4.505795\n",
            "Feature 329: 3.958836\n",
            "Feature 330: 2.698090\n",
            "Feature 331: 4.759647\n",
            "Feature 332: 3.046048\n",
            "Feature 333: 2.959119\n",
            "Feature 334: 2.545820\n",
            "Feature 335: 2.635088\n",
            "Feature 336: 4.213330\n",
            "Feature 337: 3.662854\n",
            "Feature 338: 2.709220\n",
            "Feature 339: 3.165895\n",
            "Feature 340: 2.654714\n",
            "Feature 341: 3.967449\n",
            "Feature 342: 2.708529\n",
            "Feature 343: 2.908025\n",
            "Feature 344: 11.519567\n",
            "Feature 345: 14.164849\n",
            "Feature 346: 3.712306\n",
            "Feature 347: 7.312767\n",
            "Feature 348: 13.141058\n",
            "Feature 349: 3.389685\n",
            "Feature 350: 8.329783\n",
            "Feature 351: 13.278709\n",
            "Feature 352: 3.220176\n",
            "Feature 353: 7.186411\n",
            "Feature 354: 12.217021\n",
            "Feature 355: 3.576054\n",
            "Feature 356: 7.946249\n",
            "Feature 357: 8.207353\n",
            "Feature 358: 1.188525\n",
            "Feature 359: 9.159748\n",
            "Feature 360: 4.741692\n",
            "Feature 361: 3.311201\n",
            "Feature 362: 4.813989\n",
            "Feature 363: 11.388697\n",
            "Feature 364: 13.396314\n",
            "Feature 365: 3.398402\n",
            "Feature 366: 6.227172\n",
            "Feature 367: 15.085677\n",
            "Feature 368: 2.400033\n",
            "Feature 369: 55.381728\n",
            "Feature 370: 27.495182\n",
            "Feature 371: 4.841655\n",
            "Feature 372: 68.633897\n",
            "Feature 373: 65.382880\n",
            "Feature 374: 32.582547\n",
            "Feature 375: 4.804585\n",
            "Feature 376: 8.766826\n",
            "Feature 377: 5.866533\n",
            "Feature 378: 4.159981\n",
            "Feature 379: 5.530489\n",
            "Feature 380: 3.693741\n",
            "Feature 381: 8.735175\n",
            "Feature 382: 2.818352\n",
            "Feature 383: 2.485685\n",
            "Feature 384: 5.208551\n",
            "Feature 385: 8.023203\n",
            "Feature 386: 7.434714\n",
            "Feature 387: 3.803047\n",
            "Feature 388: 3.094721\n",
            "Feature 389: 3.242804\n",
            "Feature 390: 3.831035\n",
            "Feature 391: 8.101985\n",
            "Feature 392: 4.061576\n",
            "Feature 393: 3.129746\n",
            "Feature 394: 6.698753\n",
            "Feature 395: 2.339948\n",
            "Feature 396: 3.996163\n",
            "Feature 397: 1.119188\n",
            "Feature 398: 3.392782\n",
            "Feature 399: 2.486011\n",
            "Feature 400: 4.648296\n",
            "Feature 401: 3.228352\n",
            "Feature 402: 5.473740\n",
            "Feature 403: 3.763858\n",
            "Feature 404: 2.055184\n",
            "Feature 405: 3.062959\n",
            "Feature 406: 3.335330\n",
            "Feature 407: 3.285024\n",
            "Feature 408: 3.349806\n",
            "Feature 409: 0.368892\n",
            "Feature 410: 8.590628\n",
            "Feature 411: 2.901236\n",
            "Feature 412: 2.901275\n",
            "Feature 413: 5.078158\n",
            "Feature 414: 4.099742\n",
            "Feature 415: 4.106296\n",
            "Feature 416: 2.926473\n",
            "Feature 417: 4.283743\n",
            "Feature 418: 3.119564\n",
            "Feature 419: 4.988094\n",
            "Feature 420: 4.163491\n",
            "Feature 421: 4.622893\n",
            "Feature 422: 4.179930\n",
            "Feature 423: 77.117802\n",
            "Feature 424: 5.004034\n",
            "Feature 425: 2.262931\n",
            "Feature 426: 90.939748\n",
            "Feature 427: 0.411978\n",
            "Feature 428: 2.315085\n",
            "Feature 429: 90.624502\n",
            "Feature 430: 3.744808\n",
            "Feature 431: 5.267387\n",
            "Feature 432: 83.534194\n",
            "Feature 433: 1.262535\n",
            "Feature 434: 2.224981\n",
            "Feature 435: 17.651660\n",
            "Feature 436: 0.156463\n",
            "Feature 437: 7.766626\n",
            "Feature 438: 25.882612\n",
            "Feature 439: 21.498312\n",
            "Feature 440: 1.445447\n",
            "Feature 441: 0.412421\n",
            "Feature 442: 38.104346\n",
            "Feature 443: 9.700618\n",
            "Feature 444: 7.137554\n",
            "Feature 445: 147.163570\n",
            "Feature 446: 4.805814\n",
            "Feature 447: 29.489930\n",
            "Feature 448: 5.414300\n",
            "Feature 449: 12.778328\n",
            "Feature 450: 24.845598\n",
            "Feature 451: 309.088617\n",
            "Feature 452: 18.907141\n",
            "Feature 453: 151.486325\n",
            "Feature 454: 74.631106\n",
            "Feature 455: 73.490428\n",
            "Feature 456: 58.747061\n",
            "Feature 457: 81.522123\n",
            "Feature 458: 23.705383\n",
            "Feature 459: 29.531481\n",
            "Feature 460: 21.488685\n",
            "Feature 461: 13.291176\n",
            "Feature 462: 8.406347\n",
            "Feature 463: 7.059439\n",
            "Feature 464: 12.857457\n",
            "Feature 465: 14.204375\n",
            "Feature 466: 12.253195\n",
            "Feature 467: 10.749526\n",
            "Feature 468: 21.339184\n",
            "Feature 469: 8.129417\n",
            "Feature 470: 13.934854\n",
            "Feature 471: 11.536620\n",
            "Feature 472: 21.426176\n",
            "Feature 473: 10.179144\n",
            "Feature 474: 2.603541\n",
            "Feature 475: 8.851443\n",
            "Feature 476: 6.075175\n",
            "Feature 477: 6.220930\n",
            "Feature 478: 8.784021\n",
            "Feature 479: 9.414369\n",
            "Feature 480: 4.782718\n",
            "Feature 481: 0.802278\n",
            "Feature 482: 1.959064\n",
            "Feature 483: 6.367757\n",
            "Feature 484: 9.413490\n",
            "Feature 485: 2.925438\n",
            "Feature 486: 1.525962\n",
            "Feature 487: 7.666514\n",
            "Feature 488: 0.789583\n",
            "Feature 489: 5.094622\n",
            "Feature 490: 0.110834\n",
            "Feature 491: 1.096123\n",
            "Feature 492: 1.023364\n",
            "Feature 493: 0.268128\n",
            "Feature 494: 0.392613\n",
            "Feature 495: 1.157526\n",
            "Feature 496: 0.470265\n",
            "Feature 497: 0.292185\n",
            "Feature 498: 0.676997\n",
            "Feature 499: 0.650206\n",
            "Feature 500: 0.442555\n",
            "Feature 501: 0.923640\n",
            "Feature 502: 3.085347\n",
            "Feature 503: 5.372936\n",
            "Feature 504: 3.327648\n",
            "Feature 505: 6.345265\n",
            "Feature 506: 9.732427\n",
            "Feature 507: 3.085347\n",
            "Feature 508: 11.374131\n",
            "Feature 509: 0.957382\n",
            "Feature 510: 5.876988\n",
            "Feature 511: 6.202858\n",
            "Feature 512: 9.694599\n",
            "Feature 513: 18.032097\n",
            "Feature 514: 19.399550\n",
            "Feature 515: 8.906432\n",
            "Feature 516: 6.673304\n",
            "Feature 517: 7.983014\n",
            "Feature 518: 5.944158\n",
            "Feature 519: 6.211674\n",
            "Feature 520: 8.906432\n",
            "Feature 521: 4.017759\n",
            "Feature 522: 7.718202\n",
            "Feature 523: 10.556097\n",
            "Feature 524: 3.332015\n",
            "Feature 525: 6.956809\n",
            "Feature 526: 3.382721\n",
            "Feature 527: 2.537660\n",
            "Feature 528: 20.007100\n",
            "Feature 529: 15.354106\n",
            "Feature 530: 22.720433\n",
            "Feature 531: 9.050142\n",
            "Feature 532: 2.917752\n",
            "Feature 533: 20.007100\n",
            "Feature 534: 8.218354\n",
            "Feature 535: 23.754541\n",
            "Feature 536: 32.823109\n",
            "Feature 537: 0.738884\n",
            "Feature 538: 59.098073\n",
            "Feature 539: 9.461161\n",
            "Feature 540: 21.483233\n",
            "Feature 541: 24.741389\n",
            "Feature 542: 23.698377\n",
            "Feature 543: 25.337354\n",
            "Feature 544: 20.803396\n",
            "Feature 545: 14.322953\n",
            "Feature 546: 24.741389\n",
            "Feature 547: 10.087417\n",
            "Feature 548: 24.190893\n",
            "Feature 549: 31.498047\n",
            "Feature 550: 3.484925\n",
            "Feature 551: 34.273394\n",
            "Feature 552: 5.369138\n",
            "Feature 553: 3.434038\n",
            "Feature 554: 1.512307\n",
            "Feature 555: 0.680975\n",
            "Feature 556: 0.233783\n",
            "Feature 557: 4.273934\n",
            "Feature 558: 21619.441048\n",
            "Feature 559: 3300.945131\n",
            "Feature 560: 1260.335092\n"
          ]
        },
        {
          "output_type": "display_data",
          "data": {
            "text/plain": [
              "<Figure size 432x288 with 1 Axes>"
            ],
            "image/png": "[encoded data removed]"
          },
          "metadata": {
            "needs_background": "light"
          }
        }
      ]
    },
    {
      "cell_type": "code",
      "source": [
        "# configure to select all features\n",
        "fs = SelectKBest(score_func=mutual_info_classif, k='all')\n",
        "# learn relationship from training data\n",
        "fs.fit(x_train, y_train)\n",
        "# transform train input data\n",
        "X_train_fs = fs.transform(x_train)\n",
        "# transform test input data\n",
        "X_test_fs = fs.transform(x_test)\n",
        "ft=[]\n",
        "\n",
        "# what are scores for the features\n",
        "for i in range(len(fs.scores_)):\n",
        "  if fs.scores_[i] >0.7:\n",
        "    print('Feature %d: %f' % (i, fs.scores_[i]))\n",
        "    ft+=[df_cols_name[0][i]]\n",
        "# plot the scores\n",
        "pyplot.bar([i for i in range(len(fs.scores_))], fs.scores_)\n",
        "pyplot.show()\n"
      ],
      "metadata": {
        "colab": {
          "base_uri": "https://localhost:8080/",
          "height": 429
        },
        "id": "blNyM75YwNKj",
        "outputId": "75e0a024-b36f-40ac-dde9-478d4f0fb4b1"
      },
      "execution_count": null,
      "outputs": [
        {
          "output_type": "stream",
          "name": "stdout",
          "text": [
            "Feature 40: 0.714565\n",
            "Feature 41: 0.820824\n",
            "Feature 49: 0.752670\n",
            "Feature 50: 0.844829\n",
            "Feature 52: 0.752477\n",
            "Feature 53: 0.811691\n",
            "Feature 56: 0.711507\n",
            "Feature 558: 0.732141\n",
            "Feature 559: 0.822715\n"
          ]
        },
        {
          "output_type": "display_data",
          "data": {
            "text/plain": [
              "<Figure size 432x288 with 1 Axes>"
            ],
            "image/png": "[encoded data removed]"
          },
          "metadata": {
            "needs_background": "light"
          }
        }
      ]
    },
    {
      "cell_type": "code",
      "source": [
        "print(len(ft))\n",
        "myunique = set(ft) # prints the final list without any duplicates\n",
        "for i in myunique:\n",
        "  print(\"'\"+i+\"'\"+\",\")"
      ],
      "metadata": {
        "colab": {
          "base_uri": "https://localhost:8080/"
        },
        "id": "DDh-rsY9wwGd",
        "outputId": "a8a41b08-5597-4da9-a0a7-8385969d3db4"
      },
      "execution_count": null,
      "outputs": [
        {
          "output_type": "stream",
          "name": "stdout",
          "text": [
            "9\n",
            "'tGravityAcc-Max-2',\n",
            "'tGravityAcc-Min-1',\n",
            "'tGravityAcc-Mean-1',\n",
            "'tGravityAcc-Max-1',\n",
            "'tGravityAcc-Mean-2',\n",
            "'tYAxisAcc-AngleWRTGravity-1',\n",
            "'tGravityAcc-Min-2',\n",
            "'tGravityAcc-Energy-1',\n",
            "'tXAxisAcc-AngleWRTGravity-1',\n"
          ]
        }
      ]
    },
    {
      "cell_type": "code",
      "source": [
        "xfirstrain=df_stationary[['tGravityAcc-Min-1',\n",
        "'tYAxisAcc-AngleWRTGravity-1',\n",
        "'tXAxisAcc-AngleWRTGravity-1',\n",
        "'tGravityAcc-Max-1',\n",
        "'tGravityAcc-Min-2',\n",
        "'tGravityAcc-Mean-2',\n",
        "'tGravityAcc-Mean-1',\n",
        "'tGravityAcc-Energy-1',\n",
        "'tGravityAcc-Max-2',]]"
      ],
      "metadata": {
        "id": "JQLzsY-zxC0w"
      },
      "execution_count": null,
      "outputs": []
    },
    {
      "cell_type": "code",
      "source": [
        "\n",
        "voting_clf = VotingClassifier(estimators=[('lr', log_clf), ('dt', tree_clf), ('xgb', xgb_clf), ('knn', knn_clf)], voting='soft')"
      ],
      "metadata": {
        "id": "NqScSqpWxRhB"
      },
      "execution_count": null,
      "outputs": []
    },
    {
      "cell_type": "code",
      "source": [
        "voting_clf.fit(xfirstrain,y)"
      ],
      "metadata": {
        "colab": {
          "base_uri": "https://localhost:8080/"
        },
        "id": "YkEJWkctxYLP",
        "outputId": "09b11e23-e97c-48cc-a06a-68e81c4373c2"
      },
      "execution_count": null,
      "outputs": [
        {
          "output_type": "execute_result",
          "data": {
            "text/plain": [
              "VotingClassifier(estimators=[('lr', LogisticRegression()),\n",
              "                             ('dt', DecisionTreeClassifier()),\n",
              "                             ('xgb', XGBClassifier()),\n",
              "                             ('knn', KNeighborsClassifier())],\n",
              "                 voting='soft')"
            ]
          },
          "metadata": {},
          "execution_count": 634
        }
      ]
    },
    {
      "cell_type": "code",
      "source": [
        "X_train, X_test, y_train, y_test = train_test_split(xfirstrain, y, test_size=0.2)\n",
        "y_pred_proba = voting_clf.predict_proba(xfirstrain)\n",
        "clf = LogisticRegression(solver=\"liblinear\").fit(xfirstrain, y)\n",
        "preds = clf.predict_proba(xfirstrain)\n",
        "roc_auc = roc_auc_score(y,preds, multi_class='ovr')\n",
        "print(roc_auc)\n",
        "#after using the features the model has a logistic regression performance of 97.8% which is pretty solid"
      ],
      "metadata": {
        "colab": {
          "base_uri": "https://localhost:8080/"
        },
        "id": "ApxMPCXuyRhB",
        "outputId": "ab66548d-40ed-4045-9246-c3da930522c5"
      },
      "execution_count": null,
      "outputs": [
        {
          "output_type": "stream",
          "name": "stdout",
          "text": [
            "0.9787715662498857\n"
          ]
        }
      ]
    },
    {
      "cell_type": "code",
      "source": [
        "accuracy = voting_clf.score(X_test, y_test)\n",
        "accuracy\n",
        "#the accuracy of the logistic model is of 99.15 %after the implementation of the features which is really good"
      ],
      "metadata": {
        "colab": {
          "base_uri": "https://localhost:8080/"
        },
        "id": "T3rK8VJQyjJk",
        "outputId": "3b7b4e32-2c66-4829-f502-de82d9d7377b"
      },
      "execution_count": null,
      "outputs": [
        {
          "output_type": "execute_result",
          "data": {
            "text/plain": [
              "0.9915254237288136"
            ]
          },
          "metadata": {},
          "execution_count": 636
        }
      ]
    },
    {
      "cell_type": "code",
      "source": [
        "# model definition\n",
        "model_lg = lm.LogisticRegression( n_jobs=-1, random_state=32 )\n",
        "\n",
        "# train model\n",
        "model_lg.fit( X_train, y_train )"
      ],
      "metadata": {
        "colab": {
          "base_uri": "https://localhost:8080/"
        },
        "id": "b2kekisdy7JS",
        "outputId": "2f9c49be-58a9-4939-8bba-7a87f2545ae0"
      },
      "execution_count": null,
      "outputs": [
        {
          "output_type": "execute_result",
          "data": {
            "text/plain": [
              "LogisticRegression(n_jobs=-1, random_state=32)"
            ]
          },
          "metadata": {},
          "execution_count": 637
        }
      ]
    },
    {
      "cell_type": "code",
      "source": [
        "# prediction\n",
        "yhat = model_lg.predict( X_test )\n",
        "# Confusion Matrix\n",
        "mt.plot_confusion_matrix( y_test, yhat, normalize=True, figsize=( 12, 12 ) )\n",
        "plt.xticks(rotation ='vertical')\n",
        "# Accuracy - Precision - Recall - F1 Score - Kappa Metrics - Confusion Matrix\n",
        "print( m.classification_report( y_test, yhat, digits=3 ) )\n",
        "\n",
        "# =========== Balanced Dataframe Metrics =============\n",
        "# Accuracy\n",
        "acc = m.accuracy_score( y_test, yhat )\n",
        "print( 'Accuracy: {}'.format( acc ) )\n",
        "\n",
        "# =========== Unbalanced Dataframe Metrics =============\n",
        "# Weighted F1-Score\n",
        "f1_score = m.f1_score( y_test, yhat, average='weighted' )\n",
        "print( 'Weighted F1-Score: {}'.format( f1_score ) )\n",
        "\n",
        "# Balanced Accuracy Score\n",
        "balanced_acc = m.balanced_accuracy_score( y_test, yhat )\n",
        "print( 'Balanced Accuracy Score: {}'.format( balanced_acc ) )\n",
        "\n",
        "# Kappa Metrics\n",
        "print( 'Kappa Score: {}'.format( m.cohen_kappa_score( y_test, yhat ) ) )\n",
        "#the accuracy in the\n",
        "\n",
        "#The accuracy is 89% it isnt that bad but maybe I can find a better one."
      ],
      "metadata": {
        "id": "Fl65Vh0V0Du8",
        "colab": {
          "base_uri": "https://localhost:8080/",
          "height": 948
        },
        "outputId": "8db6e562-4de1-41ff-cacd-b61889f33cf8"
      },
      "execution_count": null,
      "outputs": [
        {
          "output_type": "stream",
          "name": "stdout",
          "text": [
            "              precision    recall  f1-score   support\n",
            "\n",
            "           4      0.866     0.796     0.830       260\n",
            "           5      0.839     0.894     0.866       292\n",
            "           6      0.989     0.996     0.993       274\n",
            "\n",
            "    accuracy                          0.897       826\n",
            "   macro avg      0.898     0.895     0.896       826\n",
            "weighted avg      0.897     0.897     0.896       826\n",
            "\n",
            "Accuracy: 0.8970944309927361\n",
            "Weighted F1-Score: 0.896482826847396\n",
            "Balanced Accuracy Score: 0.8954466091852353\n",
            "Kappa Score: 0.8452501653074719\n"
          ]
        },
        {
          "output_type": "display_data",
          "data": {
            "text/plain": [
              "<Figure size 864x864 with 2 Axes>"
            ],
            "image/png": "[encoded data removed]"
          },
          "metadata": {
            "needs_background": "light"
          }
        }
      ]
    },
    {
      "cell_type": "code",
      "source": [
        "# model definition\n",
        "model_knn = nb.KNeighborsClassifier( n_neighbors=2, n_jobs=-1 )\n",
        "\n",
        "# train model\n",
        "model_knn.fit( xfirstrain, y )"
      ],
      "metadata": {
        "colab": {
          "base_uri": "https://localhost:8080/"
        },
        "id": "pzvfSfFb0TAL",
        "outputId": "74693b54-cd19-4dfe-cf0e-709aec9fc41f"
      },
      "execution_count": null,
      "outputs": [
        {
          "output_type": "execute_result",
          "data": {
            "text/plain": [
              "KNeighborsClassifier(n_jobs=-1, n_neighbors=2)"
            ]
          },
          "metadata": {},
          "execution_count": 639
        }
      ]
    },
    {
      "cell_type": "code",
      "source": [
        "# prediction\n",
        "yhat = model_knn.predict( X_test )"
      ],
      "metadata": {
        "id": "CbTvftBV0ZAq"
      },
      "execution_count": null,
      "outputs": []
    },
    {
      "cell_type": "code",
      "source": [
        "# Confusion Matrix\n",
        "mt.plot_confusion_matrix( y_test, yhat, normalize=True, figsize=( 12, 12 ) )\n",
        "plt.xticks(rotation ='vertical')\n",
        "\n",
        "# Accuracy - Precision - Recall - F1 Score - Kappa Metrics - Confusion Matrix\n",
        "print( m.classification_report( y_test, yhat, digits=3 ) )\n",
        "\n",
        "# =========== Balanced Dataframe Metrics =============\n",
        "# Accuracy\n",
        "acc = m.accuracy_score( y_test, yhat )\n",
        "print( 'Accuracy: {}'.format( acc ) )\n",
        "\n",
        "# =========== Unbalanced Dataframe Metrics =============\n",
        "# Weighted F1-Score\n",
        "f1_score = m.f1_score( y_test, yhat, average='weighted' )\n",
        "print( 'Weighted F1-Score: {}'.format( f1_score ) )\n",
        "\n",
        "# Balanced Accuracy Score\n",
        "balanced_acc = m.balanced_accuracy_score( y_test, yhat )\n",
        "print( 'Balanced Accuracy Score: {}'.format( balanced_acc ) )\n",
        "\n",
        "# Kappa Metrics\n",
        "print( 'Kappa Score: {}'.format( m.cohen_kappa_score( y_test, yhat ) ) )\n",
        "\n",
        "#This model works truly good, with a 98.7% accuracy which is the best one till now."
      ],
      "metadata": {
        "colab": {
          "base_uri": "https://localhost:8080/",
          "height": 948
        },
        "id": "IU6aFH350dvj",
        "outputId": "1b5b6e24-9577-4ccb-bef5-d6cc99589912"
      },
      "execution_count": null,
      "outputs": [
        {
          "output_type": "stream",
          "name": "stdout",
          "text": [
            "              precision    recall  f1-score   support\n",
            "\n",
            "           4      0.952     1.000     0.976       260\n",
            "           5      1.000     0.955     0.977       292\n",
            "           6      1.000     1.000     1.000       274\n",
            "\n",
            "    accuracy                          0.984       826\n",
            "   macro avg      0.984     0.985     0.984       826\n",
            "weighted avg      0.985     0.984     0.984       826\n",
            "\n",
            "Accuracy: 0.9842615012106537\n",
            "Weighted F1-Score: 0.9842742743291449\n",
            "Balanced Accuracy Score: 0.9851598173515982\n",
            "Kappa Score: 0.9763871296882697\n"
          ]
        },
        {
          "output_type": "display_data",
          "data": {
            "text/plain": [
              "<Figure size 864x864 with 2 Axes>"
            ],
            "image/png": "[encoded data removed]"
          },
          "metadata": {
            "needs_background": "light"
          }
        }
      ]
    },
    {
      "cell_type": "code",
      "source": [
        "balanced_acc_list = []\n",
        "for i in range( 1, 30 ):\n",
        "    print( 'K-value: {}'.format( i ) )\n",
        "    # model definition\n",
        "    model_knn = nb.KNeighborsClassifier( n_neighbors=i, n_jobs=-1 )\n",
        "\n",
        "    # train model\n",
        "    model_knn.fit( xfirstrain, y )\n",
        "\n",
        "    # prediction\n",
        "    yhat = model_knn.predict( X_test )\n",
        "\n",
        "    # Balanced Accuracy Score\n",
        "    balanced_acc_list.append( m.balanced_accuracy_score( y_test, yhat ) )"
      ],
      "metadata": {
        "id": "PJ7azghk03Mq",
        "colab": {
          "base_uri": "https://localhost:8080/"
        },
        "outputId": "d9768001-f226-4d91-e992-abebea684dec"
      },
      "execution_count": null,
      "outputs": [
        {
          "output_type": "stream",
          "name": "stdout",
          "text": [
            "K-value: 1\n",
            "K-value: 2\n",
            "K-value: 3\n",
            "K-value: 4\n",
            "K-value: 5\n",
            "K-value: 6\n",
            "K-value: 7\n",
            "K-value: 8\n",
            "K-value: 9\n",
            "K-value: 10\n",
            "K-value: 11\n",
            "K-value: 12\n",
            "K-value: 13\n",
            "K-value: 14\n",
            "K-value: 15\n",
            "K-value: 16\n",
            "K-value: 17\n",
            "K-value: 18\n",
            "K-value: 19\n",
            "K-value: 20\n",
            "K-value: 21\n",
            "K-value: 22\n",
            "K-value: 23\n",
            "K-value: 24\n",
            "K-value: 25\n",
            "K-value: 26\n",
            "K-value: 27\n",
            "K-value: 28\n",
            "K-value: 29\n"
          ]
        }
      ]
    },
    {
      "cell_type": "code",
      "source": [
        "plt.figure( figsize=(12, 6) )\n",
        "plt.plot( range( 1, 30 ), balanced_acc_list, color='red', linestyle='dashed', marker='o',\n",
        "                                             markerfacecolor='blue', markersize=10 )\n",
        "plt.xlabel( 'K Value' )\n",
        "plt.ylabel( 'Balanced Accuracy' )\n",
        "#The model works properly, since a good number k would be for instance 10, we could get an accuracy over 97.5%"
      ],
      "metadata": {
        "colab": {
          "base_uri": "https://localhost:8080/",
          "height": 406
        },
        "id": "rvdkdQDQ0-we",
        "outputId": "6aab0f6b-3234-4a50-a1e3-d7e1493d1aef"
      },
      "execution_count": null,
      "outputs": [
        {
          "output_type": "execute_result",
          "data": {
            "text/plain": [
              "Text(0, 0.5, 'Balanced Accuracy')"
            ]
          },
          "metadata": {},
          "execution_count": 643
        },
        {
          "output_type": "display_data",
          "data": {
            "text/plain": [
              "<Figure size 864x432 with 1 Axes>"
            ],
            "image/png": "[encoded data removed]"
          },
          "metadata": {
            "needs_background": "light"
          }
        }
      ]
    },
    {
      "cell_type": "code",
      "source": [
        "# model definition\n",
        "model_svm = svm.SVC(random_state=32)\n",
        "\n",
        "# model training\n",
        "model_svm.fit( xfirstrain, y )"
      ],
      "metadata": {
        "colab": {
          "base_uri": "https://localhost:8080/"
        },
        "id": "sXgDqj8X1PwZ",
        "outputId": "63c3c0af-e073-423b-c3dc-4cd933350ed8"
      },
      "execution_count": null,
      "outputs": [
        {
          "output_type": "execute_result",
          "data": {
            "text/plain": [
              "SVC(random_state=32)"
            ]
          },
          "metadata": {},
          "execution_count": 644
        }
      ]
    },
    {
      "cell_type": "code",
      "source": [
        "\n",
        "data = xfirstrain.iloc[:,1:-1]\n",
        "data.info()"
      ],
      "metadata": {
        "colab": {
          "base_uri": "https://localhost:8080/"
        },
        "id": "PQPkeevxzdpz",
        "outputId": "6e55f95b-13f7-45ec-a781-c464998a9607"
      },
      "execution_count": null,
      "outputs": [
        {
          "output_type": "stream",
          "name": "stdout",
          "text": [
            "<class 'pandas.core.frame.DataFrame'>\n",
            "Int64Index: 4129 entries, 0 to 7675\n",
            "Data columns (total 7 columns):\n",
            " #   Column                       Non-Null Count  Dtype  \n",
            "---  ------                       --------------  -----  \n",
            " 0   tYAxisAcc-AngleWRTGravity-1  4129 non-null   float64\n",
            " 1   tXAxisAcc-AngleWRTGravity-1  4129 non-null   float64\n",
            " 2   tGravityAcc-Max-1            4129 non-null   float64\n",
            " 3   tGravityAcc-Min-2            4129 non-null   float64\n",
            " 4   tGravityAcc-Mean-2           4129 non-null   float64\n",
            " 5   tGravityAcc-Mean-1           4129 non-null   float64\n",
            " 6   tGravityAcc-Energy-1         4129 non-null   float64\n",
            "dtypes: float64(7)\n",
            "memory usage: 258.1 KB\n"
          ]
        }
      ]
    },
    {
      "cell_type": "code",
      "source": [
        "label_encoder = LabelEncoder()\n",
        "data.iloc[:,0] = label_encoder.fit_transform(data.iloc[:,0]).astype('float64')\n",
        "\n",
        "corr = data.corr()\n",
        "sns.heatmap(corr)"
      ],
      "metadata": {
        "colab": {
          "base_uri": "https://localhost:8080/",
          "height": 427
        },
        "id": "nb-ndbIqzoBz",
        "outputId": "af636c96-d9a0-4f68-9dc8-b0c46cb22a4b"
      },
      "execution_count": null,
      "outputs": [
        {
          "output_type": "execute_result",
          "data": {
            "text/plain": [
              "<matplotlib.axes._subplots.AxesSubplot at 0x7f319de7aa30>"
            ]
          },
          "metadata": {},
          "execution_count": 646
        },
        {
          "output_type": "display_data",
          "data": {
            "text/plain": [
              "<Figure size 432x288 with 2 Axes>"
            ],
            "image/png": "[encoded data removed]"
          },
          "metadata": {
            "needs_background": "light"
          }
        }
      ]
    },
    {
      "cell_type": "code",
      "source": [
        "# prediction\n",
        "yhat = model_svm.predict( X_test )\n",
        "# Confusion Matrix\n",
        "mt.plot_confusion_matrix( y_test, yhat, normalize=True, figsize=( 12, 12 ) )\n",
        "plt.xticks(rotation ='vertical')\n",
        "\n",
        "# Accuracy - Precision - Recall - F1 Score - Kappa Metrics - Confusion Matrix\n",
        "print( m.classification_report( y_test, yhat, digits=3 ) )\n",
        "\n",
        "# =========== Balanced Dataframe Metrics =============\n",
        "# Accuracy\n",
        "acc = m.accuracy_score( y_test, yhat )\n",
        "print( 'Accuracy: {}'.format( acc ) )\n",
        "\n",
        "# =========== Unbalanced Dataframe Metrics =============\n",
        "# Weighted F1-Score\n",
        "f1_score = m.f1_score( y_test, yhat, average='weighted' )\n",
        "print( 'Weighted F1-Score: {}'.format( f1_score ) )\n",
        "\n",
        "# Balanced Accuracy Score\n",
        "balanced_acc = m.balanced_accuracy_score( y_test, yhat )\n",
        "print( 'Balanced Accuracy Score: {}'.format( balanced_acc ) )\n",
        "\n",
        "# Kappa Metrics\n",
        "print( 'Kappa Score: {}'.format( m.cohen_kappa_score( y_test, yhat ) ) )\n",
        "#The accuracy for SVM is pretty good as well with an accuracy of 89% which isnt bad at all but isnt the best"
      ],
      "metadata": {
        "colab": {
          "base_uri": "https://localhost:8080/",
          "height": 948
        },
        "id": "AmpCmEcO16tB",
        "outputId": "2dc8995f-7e0c-4891-c063-2b11a48e22f2"
      },
      "execution_count": null,
      "outputs": [
        {
          "output_type": "stream",
          "name": "stdout",
          "text": [
            "              precision    recall  f1-score   support\n",
            "\n",
            "           4      0.867     0.831     0.849       260\n",
            "           5      0.855     0.890     0.872       292\n",
            "           6      1.000     0.996     0.998       274\n",
            "\n",
            "    accuracy                          0.907       826\n",
            "   macro avg      0.908     0.906     0.906       826\n",
            "weighted avg      0.907     0.907     0.907       826\n",
            "\n",
            "Accuracy: 0.9067796610169492\n",
            "Weighted F1-Score: 0.9066975339209685\n",
            "Balanced Accuracy Score: 0.9058435182122814\n",
            "Kappa Score: 0.8598969966913822\n"
          ]
        },
        {
          "output_type": "display_data",
          "data": {
            "text/plain": [
              "<Figure size 864x864 with 2 Axes>"
            ],
            "image/png": "[encoded data removed]"
          },
          "metadata": {
            "needs_background": "light"
          }
        }
      ]
    },
    {
      "cell_type": "code",
      "source": [
        "#predicting for stationary and selecting features for it\n",
        "x = df_transitions.drop(['position'],axis=1)\n",
        "x = StandardScaler().fit_transform(x)\n",
        "y = y_transitions[0]\n",
        "x_train, x_test, y_train, y_test = train_test_split(x, y, test_size=0.2, random_state=40)\n",
        "\n",
        "xTest = test.drop(['position'],axis=1)\n",
        "xTest = StandardScaler().fit_transform(xTest)\n",
        "yTest = test['position']\n",
        "labels = ['WALKING','WALKING_UPSTAIRS','WALKING_DOWNSTAIRS','SITTING','STANDING','LAYING','STAND_TO_SIT','SIT_TO_STAND','SIT_TO_LIE','LIE_TO_SIT','STAND_TO_LIE','LIE_TO_STAND']"
      ],
      "metadata": {
        "id": "bAuesXbI3Cq7"
      },
      "execution_count": null,
      "outputs": []
    },
    {
      "cell_type": "code",
      "source": [
        "# configure to select all features\n",
        "fs = SelectKBest(score_func=f_classif, k='all')\n",
        "# learn relationship from training data\n",
        "fs.fit(x_train, y_train)\n",
        "# transform train input data\n",
        "X_train_fs = fs.transform(x_train)\n",
        "# transform test input data\n",
        "X_test_fs = fs.transform(x_test)"
      ],
      "metadata": {
        "id": "_Y1lYbED4Jnz"
      },
      "execution_count": null,
      "outputs": []
    },
    {
      "cell_type": "code",
      "source": [
        "# what are scores for the features\n",
        "for i in range(len(fs.scores_)):\n",
        "    print('Feature %d: %f' % (i, fs.scores_[i]))\n",
        "# plot the scores\n",
        "pyplot.bar([i for i in range(len(fs.scores_))], fs.scores_)\n",
        "pyplot.show()"
      ],
      "metadata": {
        "colab": {
          "base_uri": "https://localhost:8080/",
          "height": 1000
        },
        "id": "QzANfFUX4RLx",
        "outputId": "0fd0af3b-9085-43f1-f96a-32d67b027214"
      },
      "execution_count": null,
      "outputs": [
        {
          "output_type": "stream",
          "name": "stdout",
          "text": [
            "Feature 0: 237.769920\n",
            "Feature 1: 132.170745\n",
            "Feature 2: 73.152452\n",
            "Feature 3: 18.416003\n",
            "Feature 4: 1.786614\n",
            "Feature 5: 6.778135\n",
            "Feature 6: 23.964859\n",
            "Feature 7: 1.753683\n",
            "Feature 8: 6.502514\n",
            "Feature 9: 116.800840\n",
            "Feature 10: 105.413570\n",
            "Feature 11: 51.976681\n",
            "Feature 12: 59.440544\n",
            "Feature 13: 51.122381\n",
            "Feature 14: 29.877886\n",
            "Feature 15: 18.008742\n",
            "Feature 16: 25.158513\n",
            "Feature 17: 6.453216\n",
            "Feature 18: 10.750388\n",
            "Feature 19: 27.445749\n",
            "Feature 20: 2.443729\n",
            "Feature 21: 5.178460\n",
            "Feature 22: 219.425733\n",
            "Feature 23: 112.553203\n",
            "Feature 24: 67.122860\n",
            "Feature 25: 4.517976\n",
            "Feature 26: 1.716135\n",
            "Feature 27: 6.084781\n",
            "Feature 28: 6.137177\n",
            "Feature 29: 5.303016\n",
            "Feature 30: 1.908394\n",
            "Feature 31: 1.472826\n",
            "Feature 32: 2.480279\n",
            "Feature 33: 2.805741\n",
            "Feature 34: 1.574353\n",
            "Feature 35: 3.696596\n",
            "Feature 36: 2.846667\n",
            "Feature 37: 27.711091\n",
            "Feature 38: 13.666460\n",
            "Feature 39: 10.541408\n",
            "Feature 40: 141.315454\n",
            "Feature 41: 107.884638\n",
            "Feature 42: 44.393290\n",
            "Feature 43: 28.762284\n",
            "Feature 44: 16.773472\n",
            "Feature 45: 9.692295\n",
            "Feature 46: 26.025613\n",
            "Feature 47: 15.995332\n",
            "Feature 48: 9.081893\n",
            "Feature 49: 55.801896\n",
            "Feature 50: 85.623921\n",
            "Feature 51: 30.904637\n",
            "Feature 52: 106.054559\n",
            "Feature 53: 110.360222\n",
            "Feature 54: 33.868562\n",
            "Feature 55: 12.791867\n",
            "Feature 56: 143.888705\n",
            "Feature 57: 58.341815\n",
            "Feature 58: 33.362738\n",
            "Feature 59: 17.398009\n",
            "Feature 60: 13.065556\n",
            "Feature 61: 7.692211\n",
            "Feature 62: 13.066318\n",
            "Feature 63: 58.135246\n",
            "Feature 64: 13.447743\n",
            "Feature 65: 27.295010\n",
            "Feature 66: 26.895941\n",
            "Feature 67: 26.175665\n",
            "Feature 68: 25.112467\n",
            "Feature 69: 4.151828\n",
            "Feature 70: 3.858180\n",
            "Feature 71: 3.555377\n",
            "Feature 72: 3.251588\n",
            "Feature 73: 1.866077\n",
            "Feature 74: 1.841226\n",
            "Feature 75: 1.849000\n",
            "Feature 76: 1.892051\n",
            "Feature 77: 40.190000\n",
            "Feature 78: 18.566377\n",
            "Feature 79: 3.531477\n",
            "Feature 80: 13.216825\n",
            "Feature 81: 23.602583\n",
            "Feature 82: 10.012328\n",
            "Feature 83: 6.077515\n",
            "Feature 84: 10.263758\n",
            "Feature 85: 5.700579\n",
            "Feature 86: 7.092078\n",
            "Feature 87: 14.139211\n",
            "Feature 88: 7.063180\n",
            "Feature 89: 6.345279\n",
            "Feature 90: 5.768181\n",
            "Feature 91: 3.588181\n",
            "Feature 92: 6.217316\n",
            "Feature 93: 3.902101\n",
            "Feature 94: 4.019865\n",
            "Feature 95: 10.483221\n",
            "Feature 96: 4.670116\n",
            "Feature 97: 9.890850\n",
            "Feature 98: 3.654637\n",
            "Feature 99: 10.448051\n",
            "Feature 100: 19.339019\n",
            "Feature 101: 9.380628\n",
            "Feature 102: 3.329561\n",
            "Feature 103: 13.162955\n",
            "Feature 104: 8.773007\n",
            "Feature 105: 4.317809\n",
            "Feature 106: 0.380223\n",
            "Feature 107: 0.480030\n",
            "Feature 108: 11.521074\n",
            "Feature 109: 4.980179\n",
            "Feature 110: 1.883647\n",
            "Feature 111: 1.233958\n",
            "Feature 112: 3.048039\n",
            "Feature 113: 2.624507\n",
            "Feature 114: 3.207882\n",
            "Feature 115: 2.327178\n",
            "Feature 116: 1.456046\n",
            "Feature 117: 4.148668\n",
            "Feature 118: 0.591615\n",
            "Feature 119: 6.113513\n",
            "Feature 120: 21.896737\n",
            "Feature 121: 19.076443\n",
            "Feature 122: 74.993732\n",
            "Feature 123: 16.593285\n",
            "Feature 124: 3.082626\n",
            "Feature 125: 3.694284\n",
            "Feature 126: 16.897996\n",
            "Feature 127: 3.719571\n",
            "Feature 128: 2.521886\n",
            "Feature 129: 9.626529\n",
            "Feature 130: 5.808935\n",
            "Feature 131: 31.500559\n",
            "Feature 132: 18.201069\n",
            "Feature 133: 2.301751\n",
            "Feature 134: 19.077723\n",
            "Feature 135: 14.554500\n",
            "Feature 136: 24.664460\n",
            "Feature 137: 3.976797\n",
            "Feature 138: 1.349290\n",
            "Feature 139: 12.245496\n",
            "Feature 140: 3.962535\n",
            "Feature 141: 1.403911\n",
            "Feature 142: 27.134731\n",
            "Feature 143: 5.782667\n",
            "Feature 144: 40.116384\n",
            "Feature 145: 0.939475\n",
            "Feature 146: 0.652444\n",
            "Feature 147: 1.842251\n",
            "Feature 148: 5.543820\n",
            "Feature 149: 2.136461\n",
            "Feature 150: 0.613148\n",
            "Feature 151: 2.555694\n",
            "Feature 152: 2.252082\n",
            "Feature 153: 5.243449\n",
            "Feature 154: 1.434944\n",
            "Feature 155: 2.808703\n",
            "Feature 156: 6.792824\n",
            "Feature 157: 9.293469\n",
            "Feature 158: 10.005090\n",
            "Feature 159: 9.305692\n",
            "Feature 160: 4.529926\n",
            "Feature 161: 2.530131\n",
            "Feature 162: 3.084691\n",
            "Feature 163: 6.511431\n",
            "Feature 164: 2.215597\n",
            "Feature 165: 4.127842\n",
            "Feature 166: 7.003933\n",
            "Feature 167: 2.793394\n",
            "Feature 168: 4.273332\n",
            "Feature 169: 3.533438\n",
            "Feature 170: 1.967653\n",
            "Feature 171: 4.073680\n",
            "Feature 172: 4.619356\n",
            "Feature 173: 1.428056\n",
            "Feature 174: 3.663184\n",
            "Feature 175: 4.518789\n",
            "Feature 176: 4.643389\n",
            "Feature 177: 1.124108\n",
            "Feature 178: 2.844388\n",
            "Feature 179: 6.725253\n",
            "Feature 180: 4.181182\n",
            "Feature 181: 4.530600\n",
            "Feature 182: 4.077678\n",
            "Feature 183: 6.118712\n",
            "Feature 184: 4.988428\n",
            "Feature 185: 0.941538\n",
            "Feature 186: 0.638759\n",
            "Feature 187: 1.771841\n",
            "Feature 188: 2.447082\n",
            "Feature 189: 1.460406\n",
            "Feature 190: 1.400991\n",
            "Feature 191: 0.668638\n",
            "Feature 192: 0.757805\n",
            "Feature 193: 5.077798\n",
            "Feature 194: 3.041006\n",
            "Feature 195: 1.532572\n",
            "Feature 196: 5.729572\n",
            "Feature 197: 7.405150\n",
            "Feature 198: 7.133556\n",
            "Feature 199: 7.923101\n",
            "Feature 200: 18.860596\n",
            "Feature 201: 8.708442\n",
            "Feature 202: 8.725997\n",
            "Feature 203: 11.704501\n",
            "Feature 204: 9.312992\n",
            "Feature 205: 18.860596\n",
            "Feature 206: 15.517460\n",
            "Feature 207: 8.454225\n",
            "Feature 208: 1.364089\n",
            "Feature 209: 2.060857\n",
            "Feature 210: 3.249462\n",
            "Feature 211: 6.564081\n",
            "Feature 212: 7.117154\n",
            "Feature 213: 18.860596\n",
            "Feature 214: 8.708442\n",
            "Feature 215: 8.725997\n",
            "Feature 216: 11.704501\n",
            "Feature 217: 9.312992\n",
            "Feature 218: 18.860596\n",
            "Feature 219: 15.517460\n",
            "Feature 220: 8.454225\n",
            "Feature 221: 1.364089\n",
            "Feature 222: 2.060857\n",
            "Feature 223: 3.249462\n",
            "Feature 224: 6.564081\n",
            "Feature 225: 7.117154\n",
            "Feature 226: 10.180091\n",
            "Feature 227: 4.845891\n",
            "Feature 228: 4.920224\n",
            "Feature 229: 4.854639\n",
            "Feature 230: 11.004576\n",
            "Feature 231: 10.180091\n",
            "Feature 232: 6.068144\n",
            "Feature 233: 5.201059\n",
            "Feature 234: 7.178898\n",
            "Feature 235: 6.465482\n",
            "Feature 236: 5.834452\n",
            "Feature 237: 0.449338\n",
            "Feature 238: 0.929321\n",
            "Feature 239: 14.421098\n",
            "Feature 240: 2.429218\n",
            "Feature 241: 2.178762\n",
            "Feature 242: 3.845950\n",
            "Feature 243: 18.227625\n",
            "Feature 244: 14.421098\n",
            "Feature 245: 11.133769\n",
            "Feature 246: 1.409323\n",
            "Feature 247: 10.216911\n",
            "Feature 248: 1.528546\n",
            "Feature 249: 1.044603\n",
            "Feature 250: 1.604282\n",
            "Feature 251: 1.238146\n",
            "Feature 252: 4.569864\n",
            "Feature 253: 2.790652\n",
            "Feature 254: 2.837658\n",
            "Feature 255: 2.889363\n",
            "Feature 256: 7.379049\n",
            "Feature 257: 4.569864\n",
            "Feature 258: 2.161274\n",
            "Feature 259: 2.771476\n",
            "Feature 260: 5.069821\n",
            "Feature 261: 4.013796\n",
            "Feature 262: 3.090204\n",
            "Feature 263: 3.621319\n",
            "Feature 264: 0.777118\n",
            "Feature 265: 6.885607\n",
            "Feature 266: 4.568803\n",
            "Feature 267: 9.895225\n",
            "Feature 268: 20.068718\n",
            "Feature 269: 1.815325\n",
            "Feature 270: 6.163078\n",
            "Feature 271: 6.516022\n",
            "Feature 272: 2.809876\n",
            "Feature 273: 8.493552\n",
            "Feature 274: 23.645911\n",
            "Feature 275: 2.037780\n",
            "Feature 276: 5.598383\n",
            "Feature 277: 6.149338\n",
            "Feature 278: 3.311602\n",
            "Feature 279: 2.641431\n",
            "Feature 280: 10.135599\n",
            "Feature 281: 13.518649\n",
            "Feature 282: 1.790237\n",
            "Feature 283: 7.134722\n",
            "Feature 284: 5.885746\n",
            "Feature 285: 12.711957\n",
            "Feature 286: 6.702005\n",
            "Feature 287: 5.381406\n",
            "Feature 288: 9.382706\n",
            "Feature 289: 7.944892\n",
            "Feature 290: 3.445792\n",
            "Feature 291: 1.049190\n",
            "Feature 292: 1.960496\n",
            "Feature 293: 8.421478\n",
            "Feature 294: 18.679825\n",
            "Feature 295: 8.415168\n",
            "Feature 296: 22.191039\n",
            "Feature 297: 20.734151\n",
            "Feature 298: 4.057064\n",
            "Feature 299: 4.237546\n",
            "Feature 300: 3.258459\n",
            "Feature 301: 3.581619\n",
            "Feature 302: 14.865129\n",
            "Feature 303: 3.912801\n",
            "Feature 304: 4.103819\n",
            "Feature 305: 5.187748\n",
            "Feature 306: 5.533104\n",
            "Feature 307: 3.903312\n",
            "Feature 308: 5.211504\n",
            "Feature 309: 5.437240\n",
            "Feature 310: 13.812500\n",
            "Feature 311: 3.758534\n",
            "Feature 312: 5.093734\n",
            "Feature 313: 5.337221\n",
            "Feature 314: 13.502612\n",
            "Feature 315: 6.004335\n",
            "Feature 316: 1.553911\n",
            "Feature 317: 6.878584\n",
            "Feature 318: 7.084032\n",
            "Feature 319: 6.376983\n",
            "Feature 320: 5.214080\n",
            "Feature 321: 4.760994\n",
            "Feature 322: 4.093203\n",
            "Feature 323: 3.569376\n",
            "Feature 324: 1.761226\n",
            "Feature 325: 8.212080\n",
            "Feature 326: 5.351877\n",
            "Feature 327: 3.835590\n",
            "Feature 328: 1.782311\n",
            "Feature 329: 6.865140\n",
            "Feature 330: 6.660522\n",
            "Feature 331: 4.602245\n",
            "Feature 332: 4.144324\n",
            "Feature 333: 4.920452\n",
            "Feature 334: 6.745181\n",
            "Feature 335: 6.648241\n",
            "Feature 336: 5.121967\n",
            "Feature 337: 4.532221\n",
            "Feature 338: 6.990340\n",
            "Feature 339: 4.849969\n",
            "Feature 340: 7.296597\n",
            "Feature 341: 4.878309\n",
            "Feature 342: 7.072480\n",
            "Feature 343: 6.844135\n",
            "Feature 344: 6.245269\n",
            "Feature 345: 11.723254\n",
            "Feature 346: 6.114006\n",
            "Feature 347: 5.759114\n",
            "Feature 348: 8.216177\n",
            "Feature 349: 5.022634\n",
            "Feature 350: 6.068118\n",
            "Feature 351: 8.897895\n",
            "Feature 352: 5.355980\n",
            "Feature 353: 4.529656\n",
            "Feature 354: 6.619975\n",
            "Feature 355: 4.719515\n",
            "Feature 356: 3.512263\n",
            "Feature 357: 4.771719\n",
            "Feature 358: 1.469926\n",
            "Feature 359: 8.352144\n",
            "Feature 360: 4.690477\n",
            "Feature 361: 9.864935\n",
            "Feature 362: 3.611459\n",
            "Feature 363: 5.674030\n",
            "Feature 364: 8.978106\n",
            "Feature 365: 5.663690\n",
            "Feature 366: 6.486705\n",
            "Feature 367: 9.639831\n",
            "Feature 368: 7.040988\n",
            "Feature 369: 1.694173\n",
            "Feature 370: 9.431277\n",
            "Feature 371: 4.893902\n",
            "Feature 372: 10.760023\n",
            "Feature 373: 11.794148\n",
            "Feature 374: 5.858490\n",
            "Feature 375: 1.289291\n",
            "Feature 376: 0.955918\n",
            "Feature 377: 4.962746\n",
            "Feature 378: 4.944529\n",
            "Feature 379: 1.940245\n",
            "Feature 380: 1.412303\n",
            "Feature 381: 0.642057\n",
            "Feature 382: 5.557285\n",
            "Feature 383: 5.214751\n",
            "Feature 384: 4.170922\n",
            "Feature 385: 3.686893\n",
            "Feature 386: 4.214058\n",
            "Feature 387: 4.411943\n",
            "Feature 388: 2.806920\n",
            "Feature 389: 3.782594\n",
            "Feature 390: 4.122600\n",
            "Feature 391: 4.291922\n",
            "Feature 392: 4.624882\n",
            "Feature 393: 4.944269\n",
            "Feature 394: 4.712006\n",
            "Feature 395: 2.136599\n",
            "Feature 396: 7.539197\n",
            "Feature 397: 6.013037\n",
            "Feature 398: 6.613663\n",
            "Feature 399: 5.324059\n",
            "Feature 400: 8.734478\n",
            "Feature 401: 7.272029\n",
            "Feature 402: 4.645716\n",
            "Feature 403: 6.572018\n",
            "Feature 404: 8.020253\n",
            "Feature 405: 7.925574\n",
            "Feature 406: 7.907982\n",
            "Feature 407: 7.574366\n",
            "Feature 408: 7.806727\n",
            "Feature 409: 4.172531\n",
            "Feature 410: 2.531057\n",
            "Feature 411: 2.358879\n",
            "Feature 412: 2.773679\n",
            "Feature 413: 3.639135\n",
            "Feature 414: 3.034396\n",
            "Feature 415: 2.998436\n",
            "Feature 416: 1.168229\n",
            "Feature 417: 3.541953\n",
            "Feature 418: 2.830673\n",
            "Feature 419: 4.009326\n",
            "Feature 420: 3.011039\n",
            "Feature 421: 3.390127\n",
            "Feature 422: 3.556895\n",
            "Feature 423: 15.688437\n",
            "Feature 424: 3.288057\n",
            "Feature 425: 1.919844\n",
            "Feature 426: 15.771699\n",
            "Feature 427: 2.985896\n",
            "Feature 428: 4.189240\n",
            "Feature 429: 14.950466\n",
            "Feature 430: 2.556571\n",
            "Feature 431: 3.933464\n",
            "Feature 432: 14.737970\n",
            "Feature 433: 2.863529\n",
            "Feature 434: 3.735130\n",
            "Feature 435: 4.618810\n",
            "Feature 436: 2.429281\n",
            "Feature 437: 1.604621\n",
            "Feature 438: 8.099456\n",
            "Feature 439: 12.335407\n",
            "Feature 440: 2.912410\n",
            "Feature 441: 3.273785\n",
            "Feature 442: 5.653820\n",
            "Feature 443: 2.664087\n",
            "Feature 444: 5.527917\n",
            "Feature 445: 7.937254\n",
            "Feature 446: 5.263256\n",
            "Feature 447: 6.934281\n",
            "Feature 448: 1.882437\n",
            "Feature 449: 1.591114\n",
            "Feature 450: 2.492413\n",
            "Feature 451: 0.423315\n",
            "Feature 452: 5.208879\n",
            "Feature 453: 9.485059\n",
            "Feature 454: 4.819015\n",
            "Feature 455: 4.326618\n",
            "Feature 456: 1.710028\n",
            "Feature 457: 1.552711\n",
            "Feature 458: 3.264756\n",
            "Feature 459: 2.712923\n",
            "Feature 460: 11.839912\n",
            "Feature 461: 6.496630\n",
            "Feature 462: 4.104722\n",
            "Feature 463: 3.167157\n",
            "Feature 464: 6.249232\n",
            "Feature 465: 5.861749\n",
            "Feature 466: 5.805448\n",
            "Feature 467: 5.541260\n",
            "Feature 468: 12.152146\n",
            "Feature 469: 4.099077\n",
            "Feature 470: 6.290525\n",
            "Feature 471: 5.697348\n",
            "Feature 472: 12.236355\n",
            "Feature 473: 4.884317\n",
            "Feature 474: 2.883784\n",
            "Feature 475: 0.975959\n",
            "Feature 476: 1.157202\n",
            "Feature 477: 2.141715\n",
            "Feature 478: 1.488886\n",
            "Feature 479: 1.481641\n",
            "Feature 480: 3.763386\n",
            "Feature 481: 2.208813\n",
            "Feature 482: 2.921293\n",
            "Feature 483: 1.491233\n",
            "Feature 484: 1.523751\n",
            "Feature 485: 3.084732\n",
            "Feature 486: 2.931875\n",
            "Feature 487: 2.013899\n",
            "Feature 488: 3.469630\n",
            "Feature 489: 5.238118\n",
            "Feature 490: 4.201941\n",
            "Feature 491: 3.670689\n",
            "Feature 492: 2.508725\n",
            "Feature 493: 2.114915\n",
            "Feature 494: 2.385272\n",
            "Feature 495: 2.285764\n",
            "Feature 496: 3.388761\n",
            "Feature 497: 4.352525\n",
            "Feature 498: 2.452828\n",
            "Feature 499: 2.349363\n",
            "Feature 500: 3.339595\n",
            "Feature 501: 3.523081\n",
            "Feature 502: 8.350562\n",
            "Feature 503: 9.008714\n",
            "Feature 504: 8.205326\n",
            "Feature 505: 9.351408\n",
            "Feature 506: 7.569776\n",
            "Feature 507: 8.350562\n",
            "Feature 508: 8.279702\n",
            "Feature 509: 7.967210\n",
            "Feature 510: 6.039920\n",
            "Feature 511: 1.553931\n",
            "Feature 512: 13.944846\n",
            "Feature 513: 7.198121\n",
            "Feature 514: 6.761051\n",
            "Feature 515: 5.453435\n",
            "Feature 516: 4.181118\n",
            "Feature 517: 4.633701\n",
            "Feature 518: 3.192067\n",
            "Feature 519: 4.148218\n",
            "Feature 520: 5.453435\n",
            "Feature 521: 3.464859\n",
            "Feature 522: 4.060731\n",
            "Feature 523: 5.523261\n",
            "Feature 524: 2.546472\n",
            "Feature 525: 10.627928\n",
            "Feature 526: 0.302648\n",
            "Feature 527: 0.182860\n",
            "Feature 528: 2.733805\n",
            "Feature 529: 2.287652\n",
            "Feature 530: 3.126196\n",
            "Feature 531: 1.481752\n",
            "Feature 532: 2.057439\n",
            "Feature 533: 2.733805\n",
            "Feature 534: 2.413696\n",
            "Feature 535: 2.702464\n",
            "Feature 536: 3.593648\n",
            "Feature 537: 0.828349\n",
            "Feature 538: 5.087030\n",
            "Feature 539: 1.840464\n",
            "Feature 540: 2.085121\n",
            "Feature 541: 3.210889\n",
            "Feature 542: 2.360824\n",
            "Feature 543: 2.890524\n",
            "Feature 544: 2.065610\n",
            "Feature 545: 1.470130\n",
            "Feature 546: 3.210889\n",
            "Feature 547: 1.511049\n",
            "Feature 548: 3.320991\n",
            "Feature 549: 4.873792\n",
            "Feature 550: 1.722675\n",
            "Feature 551: 4.972121\n",
            "Feature 552: 0.443221\n",
            "Feature 553: 0.558863\n",
            "Feature 554: 6.130150\n",
            "Feature 555: 28.804812\n",
            "Feature 556: 19.829917\n",
            "Feature 557: 4.482295\n",
            "Feature 558: 129.866428\n",
            "Feature 559: 98.068665\n",
            "Feature 560: 43.758839\n"
          ]
        },
        {
          "output_type": "display_data",
          "data": {
            "text/plain": [
              "<Figure size 432x288 with 1 Axes>"
            ],
            "image/png": "[encoded data removed]"
          },
          "metadata": {
            "needs_background": "light"
          }
        }
      ]
    },
    {
      "cell_type": "code",
      "source": [
        "# configure to select all features\n",
        "fs = SelectKBest(score_func=mutual_info_classif, k='all')\n",
        "# learn relationship from training data\n",
        "fs.fit(x_train, y_train)\n",
        "# transform train input data\n",
        "X_train_fs = fs.transform(x_train)\n",
        "# transform test input data\n",
        "X_test_fs = fs.transform(x_test)\n",
        "ft=[]\n",
        "\n",
        "# what are scores for the features\n",
        "for i in range(len(fs.scores_)):\n",
        "  if fs.scores_[i] >0.4:\n",
        "    print('Feature %d: %f' % (i, fs.scores_[i]))\n",
        "    ft+=[df_cols_name[0][i]]\n",
        "# plot the scores\n",
        "pyplot.bar([i for i in range(len(fs.scores_))], fs.scores_)\n",
        "pyplot.show()"
      ],
      "metadata": {
        "id": "g8Zf9NTk4Yi1",
        "colab": {
          "base_uri": "https://localhost:8080/",
          "height": 593
        },
        "outputId": "1b72c573-826b-4dde-9466-8eec4b03de3b"
      },
      "execution_count": null,
      "outputs": [
        {
          "output_type": "stream",
          "name": "stdout",
          "text": [
            "Feature 0: 0.825617\n",
            "Feature 1: 0.634353\n",
            "Feature 2: 0.425244\n",
            "Feature 9: 0.675354\n",
            "Feature 10: 0.585739\n",
            "Feature 12: 0.528359\n",
            "Feature 22: 0.587298\n",
            "Feature 23: 0.489466\n",
            "Feature 40: 0.478974\n",
            "Feature 41: 0.614664\n",
            "Feature 50: 0.554261\n",
            "Feature 52: 0.536591\n",
            "Feature 53: 0.640826\n",
            "Feature 56: 0.494740\n",
            "Feature 120: 0.455414\n",
            "Feature 122: 0.463492\n",
            "Feature 558: 0.454510\n",
            "Feature 559: 0.606614\n"
          ]
        },
        {
          "output_type": "display_data",
          "data": {
            "text/plain": [
              "<Figure size 432x288 with 1 Axes>"
            ],
            "image/png": "[encoded data removed]"
          },
          "metadata": {
            "needs_background": "light"
          }
        }
      ]
    },
    {
      "cell_type": "code",
      "source": [
        "print(len(ft))\n",
        "myunique = set(ft) # prints the final list without any duplicates\n",
        "for i in myunique:\n",
        "  print(\"'\"+i+\"'\"+\",\")"
      ],
      "metadata": {
        "colab": {
          "base_uri": "https://localhost:8080/"
        },
        "id": "259wMBM_4uds",
        "outputId": "c64ed56c-3992-481a-8153-104c57aaa039"
      },
      "execution_count": null,
      "outputs": [
        {
          "output_type": "stream",
          "name": "stdout",
          "text": [
            "18\n",
            "'tBodyAcc-Max-2',\n",
            "'tGravityAcc-Max-2',\n",
            "'tBodyAcc-Max-1',\n",
            "'tGravityAcc-Min-1',\n",
            "'tXAxisAcc-AngleWRTGravity-1',\n",
            "'tBodyGyro-Mean-3',\n",
            "'tBodyAcc-ropy-1',\n",
            "'tGravityAcc-Mean-1',\n",
            "'tBodyAcc-Mean-1',\n",
            "'tGravityAcc-Mean-2',\n",
            "'tBodyAcc-Mean-3',\n",
            "'tBodyGyro-Mean-1',\n",
            "'tYAxisAcc-AngleWRTGravity-1',\n",
            "'tBodyAcc-Mean-2',\n",
            "'tGravityAcc-Min-2',\n",
            "'tGravityAcc-Energy-1',\n",
            "'tBodyAcc-Min-1',\n"
          ]
        }
      ]
    },
    {
      "cell_type": "code",
      "source": [
        "xfirstrain=df_transitions[['tBodyAcc-Max-2',\n",
        "'tGravityAcc-Max-2',\n",
        "'tBodyAcc-Max-1',\n",
        "'tGravityAcc-Min-1',\n",
        "'tBodyAcc-ropy-1',\n",
        "'tBodyAcc-Mean-1',\n",
        "'tGravityAcc-Mean-2',\n",
        "'tYAxisAcc-AngleWRTGravity-1',\n",
        "'tBodyAcc-Mean-2',\n",
        "'tGravityAcc-Min-2',\n",
        "'tBodyAcc-Min-1']]"
      ],
      "metadata": {
        "id": "jlhmiyjM47Up"
      },
      "execution_count": null,
      "outputs": []
    },
    {
      "cell_type": "code",
      "source": [
        "\n",
        "voting_clf = VotingClassifier(estimators=[('lr', log_clf), ('dt', tree_clf), ('xgb', xgb_clf), ('knn', knn_clf)], voting='soft')"
      ],
      "metadata": {
        "id": "Xc66FnPD52Ip"
      },
      "execution_count": null,
      "outputs": []
    },
    {
      "cell_type": "code",
      "source": [
        "xfirstrain = xfirstrain.loc[:,~xfirstrain.columns.duplicated()]"
      ],
      "metadata": {
        "id": "ydg8RAES6oHR"
      },
      "execution_count": null,
      "outputs": []
    },
    {
      "cell_type": "code",
      "source": [
        "voting_clf.fit(xfirstrain,y)"
      ],
      "metadata": {
        "id": "fJ7JEM6H5-Gx",
        "colab": {
          "base_uri": "https://localhost:8080/"
        },
        "outputId": "6bd23703-9aa8-4040-e175-f4a75de7fea5"
      },
      "execution_count": null,
      "outputs": [
        {
          "output_type": "execute_result",
          "data": {
            "text/plain": [
              "VotingClassifier(estimators=[('lr', LogisticRegression()),\n",
              "                             ('dt', DecisionTreeClassifier()),\n",
              "                             ('xgb', XGBClassifier()),\n",
              "                             ('knn', KNeighborsClassifier())],\n",
              "                 voting='soft')"
            ]
          },
          "metadata": {},
          "execution_count": 657
        }
      ]
    },
    {
      "cell_type": "code",
      "source": [
        "X_train, X_test, y_train, y_test = train_test_split(xfirstrain, y, test_size=0.2)\n",
        "y_pred_proba = voting_clf.predict_proba(xfirstrain)\n",
        "clf = LogisticRegression(solver=\"liblinear\").fit(xfirstrain, y)\n",
        "preds = clf.predict_proba(xfirstrain)\n",
        "roc_auc = roc_auc_score(y,preds, multi_class='ovr')\n",
        "print(roc_auc)\n",
        "#after using the features the model has a logistic regression performance of 94.4% which is pretty solid"
      ],
      "metadata": {
        "colab": {
          "base_uri": "https://localhost:8080/"
        },
        "id": "2ErexN9j6zyh",
        "outputId": "4bce35e1-0042-44c3-bdd1-2d38d5073af3"
      },
      "execution_count": null,
      "outputs": [
        {
          "output_type": "stream",
          "name": "stdout",
          "text": [
            "0.9440880801961643\n"
          ]
        }
      ]
    },
    {
      "cell_type": "code",
      "source": [
        "accuracy = voting_clf.score(X_test, y_test)\n",
        "accuracy\n",
        "#the accuracy of the logistic model is of 98.5 which is good"
      ],
      "metadata": {
        "colab": {
          "base_uri": "https://localhost:8080/"
        },
        "id": "jFezT2Uc6-YW",
        "outputId": "83202863-7ad7-435e-8776-cee16bd83cdc"
      },
      "execution_count": null,
      "outputs": [
        {
          "output_type": "execute_result",
          "data": {
            "text/plain": [
              "1.0"
            ]
          },
          "metadata": {},
          "execution_count": 659
        }
      ]
    },
    {
      "cell_type": "code",
      "source": [
        "# model definition\n",
        "model_lg = lm.LogisticRegression( n_jobs=-1, random_state=32 )\n",
        "\n",
        "# train model\n",
        "model_lg.fit( X_train, y_train )\n",
        "\n",
        "# prediction\n",
        "yhat = model_lg.predict( X_test )\n",
        "# Confusion Matrix\n",
        "mt.plot_confusion_matrix( y_test, yhat, normalize=True, figsize=( 12, 12 ) )\n",
        "plt.xticks(rotation ='vertical')\n",
        "# Accuracy - Precision - Recall - F1 Score - Kappa Metrics - Confusion Matrix\n",
        "print( m.classification_report( y_test, yhat, digits=3 ) )\n",
        "\n",
        "# =========== Balanced Dataframe Metrics =============\n",
        "# Accuracy\n",
        "acc = m.accuracy_score( y_test, yhat )\n",
        "print( 'Accuracy: {}'.format( acc ) )\n",
        "\n",
        "# =========== Unbalanced Dataframe Metrics =============\n",
        "# Weighted F1-Score\n",
        "f1_score = m.f1_score( y_test, yhat, average='weighted' )\n",
        "print( 'Weighted F1-Score: {}'.format( f1_score ) )\n",
        "\n",
        "# Balanced Accuracy Score\n",
        "balanced_acc = m.balanced_accuracy_score( y_test, yhat )\n",
        "print( 'Balanced Accuracy Score: {}'.format( balanced_acc ) )\n",
        "\n",
        "# Kappa Metrics\n",
        "print( 'Kappa Score: {}'.format( m.cohen_kappa_score( y_test, yhat ) ) )\n",
        "#the accuracy in the\n",
        "\n",
        "#The accuracy is 64% accurate which is pretty mediocre to say the least"
      ],
      "metadata": {
        "colab": {
          "base_uri": "https://localhost:8080/",
          "height": 999
        },
        "id": "A6DmMaVO7HFq",
        "outputId": "25b8f53a-3256-47d4-d2a7-665d68863d54"
      },
      "execution_count": null,
      "outputs": [
        {
          "output_type": "stream",
          "name": "stdout",
          "text": [
            "              precision    recall  f1-score   support\n",
            "\n",
            "           7      0.769     0.714     0.741        14\n",
            "           8      0.833     0.833     0.833         6\n",
            "           9      1.000     0.846     0.917        13\n",
            "          10      0.625     0.357     0.455        14\n",
            "          11      0.700     0.875     0.778        16\n",
            "          12      0.308     0.500     0.381         8\n",
            "\n",
            "    accuracy                          0.690        71\n",
            "   macro avg      0.706     0.688     0.684        71\n",
            "weighted avg      0.721     0.690     0.692        71\n",
            "\n",
            "Accuracy: 0.6901408450704225\n",
            "Weighted F1-Score: 0.6921512238413646\n",
            "Balanced Accuracy Score: 0.6876526251526252\n",
            "Kappa Score: 0.6230694980694982\n"
          ]
        },
        {
          "output_type": "display_data",
          "data": {
            "text/plain": [
              "<Figure size 864x864 with 2 Axes>"
            ],
            "image/png": "[encoded data removed]"
          },
          "metadata": {
            "needs_background": "light"
          }
        }
      ]
    },
    {
      "cell_type": "code",
      "source": [
        "# model definition\n",
        "model_knn = nb.KNeighborsClassifier( n_neighbors=2, n_jobs=-1 )\n",
        "\n",
        "# train model\n",
        "model_knn.fit( xfirstrain, y )\n",
        "\n",
        "# prediction\n",
        "yhat = model_knn.predict( X_test )\n",
        "\n",
        "\n",
        "# Confusion Matrix\n",
        "mt.plot_confusion_matrix( y_test, yhat, normalize=True, figsize=( 12, 12 ) )\n",
        "plt.xticks(rotation ='vertical')\n",
        "\n",
        "# Accuracy - Precision - Recall - F1 Score - Kappa Metrics - Confusion Matrix\n",
        "print( m.classification_report( y_test, yhat, digits=3 ) )\n",
        "\n",
        "# =========== Balanced Dataframe Metrics =============\n",
        "# Accuracy\n",
        "acc = m.accuracy_score( y_test, yhat )\n",
        "print( 'Accuracy: {}'.format( acc ) )\n",
        "\n",
        "# =========== Unbalanced Dataframe Metrics =============\n",
        "# Weighted F1-Score\n",
        "f1_score = m.f1_score( y_test, yhat, average='weighted' )\n",
        "print( 'Weighted F1-Score: {}'.format( f1_score ) )\n",
        "\n",
        "# Balanced Accuracy Score\n",
        "balanced_acc = m.balanced_accuracy_score( y_test, yhat )\n",
        "print( 'Balanced Accuracy Score: {}'.format( balanced_acc ) )\n",
        "\n",
        "# Kappa Metrics\n",
        "print( 'Kappa Score: {}'.format( m.cohen_kappa_score( y_test, yhat ) ) )\n",
        "\n",
        "#The model works pretty well until it gets to activities 11 and 12"
      ],
      "metadata": {
        "colab": {
          "base_uri": "https://localhost:8080/",
          "height": 1000
        },
        "id": "zNPWBLF_7d4t",
        "outputId": "ffc4bb2b-f9d5-4aa9-ae3c-323597202edb"
      },
      "execution_count": null,
      "outputs": [
        {
          "output_type": "stream",
          "name": "stdout",
          "text": [
            "              precision    recall  f1-score   support\n",
            "\n",
            "           7      0.824     1.000     0.903        14\n",
            "           8      0.833     0.833     0.833         6\n",
            "           9      0.812     1.000     0.897        13\n",
            "          10      0.778     1.000     0.875        14\n",
            "          11      1.000     0.688     0.815        16\n",
            "          12      1.000     0.375     0.545         8\n",
            "\n",
            "    accuracy                          0.845        71\n",
            "   macro avg      0.875     0.816     0.811        71\n",
            "weighted avg      0.873     0.845     0.830        71\n",
            "\n",
            "Accuracy: 0.8450704225352113\n",
            "Weighted F1-Score: 0.8302958747153392\n",
            "Balanced Accuracy Score: 0.8159722222222223\n",
            "Kappa Score: 0.8098368638909179\n"
          ]
        },
        {
          "output_type": "display_data",
          "data": {
            "text/plain": [
              "<Figure size 864x864 with 2 Axes>"
            ],
            "image/png": "[encoded data removed]"
          },
          "metadata": {
            "needs_background": "light"
          }
        }
      ]
    },
    {
      "cell_type": "code",
      "source": [
        "balanced_acc_list = []\n",
        "for i in range( 1, 30 ):\n",
        "    print( 'K-value: {}'.format( i ) )\n",
        "    # model definition\n",
        "    model_knn = nb.KNeighborsClassifier( n_neighbors=i, n_jobs=-1 )\n",
        "\n",
        "    # train model\n",
        "    model_knn.fit( xfirstrain, y )\n",
        "\n",
        "    # prediction\n",
        "    yhat = model_knn.predict( X_test )\n",
        "\n",
        "    # Balanced Accuracy Score\n",
        "    balanced_acc_list.append( m.balanced_accuracy_score( y_test, yhat ) )"
      ],
      "metadata": {
        "id": "MDNUgQOm8TWj",
        "colab": {
          "base_uri": "https://localhost:8080/"
        },
        "outputId": "6e97adf3-0ad9-4596-f213-d65937e743da"
      },
      "execution_count": null,
      "outputs": [
        {
          "output_type": "stream",
          "name": "stdout",
          "text": [
            "K-value: 1\n",
            "K-value: 2\n",
            "K-value: 3\n",
            "K-value: 4\n",
            "K-value: 5\n",
            "K-value: 6\n",
            "K-value: 7\n",
            "K-value: 8\n",
            "K-value: 9\n",
            "K-value: 10\n",
            "K-value: 11\n",
            "K-value: 12\n",
            "K-value: 13\n",
            "K-value: 14\n",
            "K-value: 15\n",
            "K-value: 16\n",
            "K-value: 17\n",
            "K-value: 18\n",
            "K-value: 19\n",
            "K-value: 20\n",
            "K-value: 21\n",
            "K-value: 22\n",
            "K-value: 23\n",
            "K-value: 24\n",
            "K-value: 25\n",
            "K-value: 26\n",
            "K-value: 27\n",
            "K-value: 28\n",
            "K-value: 29\n"
          ]
        }
      ]
    },
    {
      "cell_type": "code",
      "source": [
        "plt.figure( figsize=(12, 6) )\n",
        "plt.plot( range( 1, 30 ), balanced_acc_list, color='red', linestyle='dashed', marker='o',\n",
        "                                             markerfacecolor='blue', markersize=10 )\n",
        "plt.xlabel( 'K Value' )\n",
        "plt.ylabel( 'Balanced Accuracy' )\n",
        "#The model works best when k value is between 8 and 13 apparently"
      ],
      "metadata": {
        "id": "ADgPtzRK8caa",
        "colab": {
          "base_uri": "https://localhost:8080/",
          "height": 406
        },
        "outputId": "14ef1fb2-cc4d-4332-9c61-a8d992a1a6fc"
      },
      "execution_count": null,
      "outputs": [
        {
          "output_type": "execute_result",
          "data": {
            "text/plain": [
              "Text(0, 0.5, 'Balanced Accuracy')"
            ]
          },
          "metadata": {},
          "execution_count": 663
        },
        {
          "output_type": "display_data",
          "data": {
            "text/plain": [
              "<Figure size 864x432 with 1 Axes>"
            ],
            "image/png": "[encoded data removed]"
          },
          "metadata": {
            "needs_background": "light"
          }
        }
      ]
    },
    {
      "cell_type": "code",
      "source": [
        "# model definition\n",
        "model_svm = svm.SVC(random_state=32)\n",
        "\n",
        "# model training\n",
        "model_svm.fit( xfirstrain, y )\n",
        "\n",
        "# prediction\n",
        "yhat = model_svm.predict( X_test )\n",
        "# Confusion Matrix\n",
        "mt.plot_confusion_matrix( y_test, yhat, normalize=True, figsize=( 12, 12 ) )\n",
        "plt.xticks(rotation ='vertical')\n",
        "\n",
        "# Accuracy - Precision - Recall - F1 Score - Kappa Metrics - Confusion Matrix\n",
        "print( m.classification_report( y_test, yhat, digits=3 ) )\n",
        "\n",
        "# =========== Balanced Dataframe Metrics =============\n",
        "# Accuracy\n",
        "acc = m.accuracy_score( y_test, yhat )\n",
        "print( 'Accuracy: {}'.format( acc ) )\n",
        "\n",
        "# =========== Unbalanced Dataframe Metrics =============\n",
        "# Weighted F1-Score\n",
        "f1_score = m.f1_score( y_test, yhat, average='weighted' )\n",
        "print( 'Weighted F1-Score: {}'.format( f1_score ) )\n",
        "\n",
        "# Balanced Accuracy Score\n",
        "balanced_acc = m.balanced_accuracy_score( y_test, yhat )\n",
        "print( 'Balanced Accuracy Score: {}'.format( balanced_acc ) )\n",
        "\n",
        "# Kappa Metrics\n",
        "print( 'Kappa Score: {}'.format( m.cohen_kappa_score( y_test, yhat ) ) )\n",
        "#The accuracy for SVM is pretty good as well with an accuracy of 89% which isnt bad at all but isnt the best"
      ],
      "metadata": {
        "colab": {
          "base_uri": "https://localhost:8080/",
          "height": 999
        },
        "id": "GkMC-EvB8pfC",
        "outputId": "ec837508-727a-41e1-876b-dfd1ee5f4153"
      },
      "execution_count": null,
      "outputs": [
        {
          "output_type": "stream",
          "name": "stdout",
          "text": [
            "              precision    recall  f1-score   support\n",
            "\n",
            "           7      0.786     0.786     0.786        14\n",
            "           8      0.833     0.833     0.833         6\n",
            "           9      0.923     0.923     0.923        13\n",
            "          10      0.769     0.714     0.741        14\n",
            "          11      0.765     0.812     0.788        16\n",
            "          12      0.500     0.500     0.500         8\n",
            "\n",
            "    accuracy                          0.775        71\n",
            "   macro avg      0.763     0.761     0.762        71\n",
            "weighted avg      0.775     0.775     0.774        71\n",
            "\n",
            "Accuracy: 0.7746478873239436\n",
            "Weighted F1-Score: 0.7743159292455069\n",
            "Balanced Accuracy Score: 0.7614850427350427\n",
            "Kappa Score: 0.7244056283357594\n"
          ]
        },
        {
          "output_type": "display_data",
          "data": {
            "text/plain": [
              "<Figure size 864x864 with 2 Axes>"
            ],
            "image/png": "[encoded data removed]"
          },
          "metadata": {
            "needs_background": "light"
          }
        }
      ]
    },
    {
      "cell_type": "code",
      "source": [
        "data = xfirstrain.iloc[:,1:-1]\n",
        "data.info()"
      ],
      "metadata": {
        "colab": {
          "base_uri": "https://localhost:8080/"
        },
        "id": "mKDBC7MV2AqO",
        "outputId": "0703483d-fc1f-4ad0-f4b2-0ff581325c5a"
      },
      "execution_count": null,
      "outputs": [
        {
          "output_type": "stream",
          "name": "stdout",
          "text": [
            "<class 'pandas.core.frame.DataFrame'>\n",
            "Int64Index: 352 entries, 14 to 7676\n",
            "Data columns (total 9 columns):\n",
            " #   Column                       Non-Null Count  Dtype  \n",
            "---  ------                       --------------  -----  \n",
            " 0   tGravityAcc-Max-2            352 non-null    float64\n",
            " 1   tBodyAcc-Max-1               352 non-null    float64\n",
            " 2   tGravityAcc-Min-1            352 non-null    float64\n",
            " 3   tBodyAcc-ropy-1              352 non-null    float64\n",
            " 4   tBodyAcc-Mean-1              352 non-null    float64\n",
            " 5   tGravityAcc-Mean-2           352 non-null    float64\n",
            " 6   tYAxisAcc-AngleWRTGravity-1  352 non-null    float64\n",
            " 7   tBodyAcc-Mean-2              352 non-null    float64\n",
            " 8   tGravityAcc-Min-2            352 non-null    float64\n",
            "dtypes: float64(9)\n",
            "memory usage: 27.5 KB\n"
          ]
        }
      ]
    },
    {
      "cell_type": "code",
      "source": [
        "label_encoder = LabelEncoder()\n",
        "data.iloc[:,0] = label_encoder.fit_transform(data.iloc[:,0]).astype('float64')\n",
        "\n",
        "corr = data.corr()\n",
        "sns.heatmap(corr)"
      ],
      "metadata": {
        "colab": {
          "base_uri": "https://localhost:8080/",
          "height": 425
        },
        "id": "kqbtYUBE2OIB",
        "outputId": "d48d3978-25d0-4afd-fdba-128fb7e68a8a"
      },
      "execution_count": null,
      "outputs": [
        {
          "output_type": "execute_result",
          "data": {
            "text/plain": [
              "<matplotlib.axes._subplots.AxesSubplot at 0x7f31a8f11d90>"
            ]
          },
          "metadata": {},
          "execution_count": 669
        },
        {
          "output_type": "display_data",
          "data": {
            "text/plain": [
              "<Figure size 432x288 with 2 Axes>"
            ],
            "image/png": "[encoded data removed]"
          },
          "metadata": {
            "needs_background": "light"
          }
        }
      ]
    },
    {
      "cell_type": "markdown",
      "source": [
        "ANSWERS:\n",
        "Problem 1\n",
        ">In conclusion the best model for the moving activities is Kneighbors classifiers with a score of almost 96% accuracy.\n",
        "\n",
        ">After analyzing the three accuracy scores and Kappa scores, I determined that without a shadow of a doubt, the best model for the stationary data frame is Kneighbors classification with almost 98% accuracy.\n",
        "\n",
        ">After reviewing the models it is obvious that the best one is KneighborsClassifier, nonetheless. It has a low accuracy score when analyzing the last two activities. It was already mentioned that this might happen because of the big bias that the original df had in the different activities.\n",
        "\n",
        "Problem 2:\n",
        "\n",
        ">The method used for feature selection was ANOVA, given that the data frame lacked many categorical variables that could make correlations easier. Besides having an enormous amount of features that made it hard to understand where could there be a correlation between variables.\n",
        "For choosing the minimal set of features I considered it based on the information gained on them. This was subjective which made me hesitant if it was the right way to approach the problem. Nonetheless not knowing another way I chose this way to answer the question.\n",
        "\n",
        ">For the first group, I noticed that there were low scores on information gain, which is why the standard for selecting the features was set at 40% information gained. From this criteria, we selected 17 features\n",
        "\n",
        ">On the stationary dataset I was a little more strict on the feature selection based on the argument that there was more recollection of data in this one. Besides the fact that these features have greater information gained scores. The requisite to get the feature list was 70% information gained.\n",
        "After these criteria, I selected 9 variables that explained the data frame\n",
        "\n",
        ">On the “transitionary” data frame after viewing the performance of the model on the past data frame I decided to go back and accept an information score of almost 40% again. There were really few variables that could gain information better than 40%. This is clear because of the bias of the data recollection.\n",
        "The features were 18\n",
        "\n",
        "Problem 3:\n",
        "\n",
        "> On moving as seen here all variables work smoothly to separate the activities, I think this one is hard to pinpoint so I would say all variables work almost just as well between 0.8/1 .\n",
        "\n",
        "\n",
        ">For this one, it was quite obvious that the one that explains best and separates properly are feature white and skin color.\n",
        "\n",
        ">On this one again it is easy to identify which are the features that separate properly the data frame\n",
        "\n",
        "\n",
        "\n",
        "\n",
        "\n"
      ],
      "metadata": {
        "id": "GeDHmqlM5Ryf"
      }
    }
  ],
  "metadata": {
    "colab": {
      "provenance": []
    },
    "kernelspec": {
      "display_name": "Python 3",
      "name": "python3"
    },
    "language_info": {
      "name": "python"
    }
  },
  "nbformat": 4,
  "nbformat_minor": 0
}
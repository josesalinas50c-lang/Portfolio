{
  "nbformat": 4,
  "nbformat_minor": 0,
  "metadata": {
    "colab": {
      "provenance": [],
      "collapsed_sections": [
        "IwtjYFAYjgRw",
        "2iGbCcOODvkE",
        "-jkd8Nts7r2C",
        "ZJ-htmPLi3n-",
        "EC8KjOSiS_9I",
        "njpj0Z_VxLii",
        "jM5yqkosu6DM",
        "9OwvMUkKvCVG",
        "KhjzBRNyvChb",
        "gIsswyzavCyw",
        "GUUuRS63wwFS",
        "D8aHclO0w0RE",
        "scneBe8gxVPM",
        "CYE0aNRkeinI"
      ]
    },
    "kernelspec": {
      "name": "python3",
      "display_name": "Python 3"
    },
    "language_info": {
      "name": "python"
    }
  },
  "cells": [
    {
      "cell_type": "markdown",
      "source": [
        "## Librerías necesarias"
      ],
      "metadata": {
        "id": "IwtjYFAYjgRw"
      }
    },
    {
      "cell_type": "code",
      "source": [
        "import pandas as pd\n",
        "import scipy.stats as ss\n",
        "from scipy import stats\n",
        "from scipy.stats import pearsonr\n",
        "import itertools\n",
        "import seaborn as sb\n",
        "import matplotlib.pyplot as plt"
      ],
      "metadata": {
        "id": "8rt2AYg-ji8l"
      },
      "execution_count": null,
      "outputs": []
    },
    {
      "cell_type": "code",
      "source": [
        "import re\n",
        "plt.style.use(\"fivethirtyeight\")\n",
        "pd.set_option('display.max_colwidth', 80)\n",
        "import matplotlib.patheffects as path_effects\n",
        "import gensim\n",
        "from nltk.stem import WordNetLemmatizer\n",
        "from collections import Counter"
      ],
      "metadata": {
        "id": "VLM3v1nicXxo"
      },
      "execution_count": null,
      "outputs": []
    },
    {
      "cell_type": "code",
      "source": [
        "plt.style.use('default')"
      ],
      "metadata": {
        "id": "HWOsoWpkup9X"
      },
      "execution_count": null,
      "outputs": []
    },
    {
      "cell_type": "markdown",
      "metadata": {
        "id": "2iGbCcOODvkE"
      },
      "source": [
        "## Importación del Dataset"
      ]
    },
    {
      "cell_type": "code",
      "execution_count": null,
      "metadata": {
        "id": "MMP0SaonDGp3"
      },
      "outputs": [],
      "source": [
        "import pandas as pd\n",
        "import numpy as np"
      ]
    },
    {
      "cell_type": "code",
      "execution_count": null,
      "metadata": {
        "colab": {
          "base_uri": "https://localhost:8080/",
          "height": 453
        },
        "id": "QvyM3D3oDIDN",
        "outputId": "d673d7fd-a130-4c2b-96fe-8ac0ccd4a52c"
      },
      "outputs": [
        {
          "output_type": "stream",
          "name": "stdout",
          "text": [
            "mkdir: cannot create directory ‘/root/.kaggle’: File exists\n",
            "Mounted at /content/drive\n",
            "linkedin-job-postings.zip: Skipping, found more recently modified local copy (use --force to force download)\n"
          ]
        },
        {
          "output_type": "error",
          "ename": "BadZipFile",
          "evalue": "ignored",
          "traceback": [
            "\u001b[0;31m---------------------------------------------------------------------------\u001b[0m",
            "\u001b[0;31mBadZipFile\u001b[0m                                Traceback (most recent call last)",
            "\u001b[0;32m<ipython-input-9-2e3cbd94ff94>\u001b[0m in \u001b[0;36m<cell line: 23>\u001b[0;34m()\u001b[0m\n\u001b[1;32m     23\u001b[0m \u001b[0;32mfor\u001b[0m \u001b[0mfile\u001b[0m \u001b[0;32min\u001b[0m \u001b[0mos\u001b[0m\u001b[0;34m.\u001b[0m\u001b[0mlistdir\u001b[0m\u001b[0;34m(\u001b[0m\u001b[0;34m)\u001b[0m\u001b[0;34m:\u001b[0m\u001b[0;34m\u001b[0m\u001b[0;34m\u001b[0m\u001b[0m\n\u001b[1;32m     24\u001b[0m     \u001b[0;32mif\u001b[0m \u001b[0mfile\u001b[0m\u001b[0;34m.\u001b[0m\u001b[0mendswith\u001b[0m\u001b[0;34m(\u001b[0m\u001b[0;34m'.zip'\u001b[0m\u001b[0;34m)\u001b[0m\u001b[0;34m:\u001b[0m\u001b[0;34m\u001b[0m\u001b[0;34m\u001b[0m\u001b[0m\n\u001b[0;32m---> 25\u001b[0;31m       \u001b[0mzip_ref\u001b[0m \u001b[0;34m=\u001b[0m \u001b[0mzipfile\u001b[0m\u001b[0;34m.\u001b[0m\u001b[0mZipFile\u001b[0m\u001b[0;34m(\u001b[0m\u001b[0mfile\u001b[0m\u001b[0;34m,\u001b[0m \u001b[0;34m'r'\u001b[0m\u001b[0;34m)\u001b[0m\u001b[0;34m\u001b[0m\u001b[0;34m\u001b[0m\u001b[0m\n\u001b[0m\u001b[1;32m     26\u001b[0m       \u001b[0mzip_ref\u001b[0m\u001b[0;34m.\u001b[0m\u001b[0mextractall\u001b[0m\u001b[0;34m(\u001b[0m\u001b[0;34m)\u001b[0m\u001b[0;34m\u001b[0m\u001b[0;34m\u001b[0m\u001b[0m\n\u001b[1;32m     27\u001b[0m       \u001b[0mzip_ref\u001b[0m\u001b[0;34m.\u001b[0m\u001b[0mclose\u001b[0m\u001b[0;34m(\u001b[0m\u001b[0;34m)\u001b[0m\u001b[0;34m\u001b[0m\u001b[0;34m\u001b[0m\u001b[0m\n",
            "\u001b[0;32m/usr/lib/python3.10/zipfile.py\u001b[0m in \u001b[0;36m__init__\u001b[0;34m(self, file, mode, compression, allowZip64, compresslevel, strict_timestamps)\u001b[0m\n\u001b[1;32m   1267\u001b[0m         \u001b[0;32mtry\u001b[0m\u001b[0;34m:\u001b[0m\u001b[0;34m\u001b[0m\u001b[0;34m\u001b[0m\u001b[0m\n\u001b[1;32m   1268\u001b[0m             \u001b[0;32mif\u001b[0m \u001b[0mmode\u001b[0m \u001b[0;34m==\u001b[0m \u001b[0;34m'r'\u001b[0m\u001b[0;34m:\u001b[0m\u001b[0;34m\u001b[0m\u001b[0;34m\u001b[0m\u001b[0m\n\u001b[0;32m-> 1269\u001b[0;31m                 \u001b[0mself\u001b[0m\u001b[0;34m.\u001b[0m\u001b[0m_RealGetContents\u001b[0m\u001b[0;34m(\u001b[0m\u001b[0;34m)\u001b[0m\u001b[0;34m\u001b[0m\u001b[0;34m\u001b[0m\u001b[0m\n\u001b[0m\u001b[1;32m   1270\u001b[0m             \u001b[0;32melif\u001b[0m \u001b[0mmode\u001b[0m \u001b[0;32min\u001b[0m \u001b[0;34m(\u001b[0m\u001b[0;34m'w'\u001b[0m\u001b[0;34m,\u001b[0m \u001b[0;34m'x'\u001b[0m\u001b[0;34m)\u001b[0m\u001b[0;34m:\u001b[0m\u001b[0;34m\u001b[0m\u001b[0;34m\u001b[0m\u001b[0m\n\u001b[1;32m   1271\u001b[0m                 \u001b[0;31m# set the modified flag so central directory gets written\u001b[0m\u001b[0;34m\u001b[0m\u001b[0;34m\u001b[0m\u001b[0m\n",
            "\u001b[0;32m/usr/lib/python3.10/zipfile.py\u001b[0m in \u001b[0;36m_RealGetContents\u001b[0;34m(self)\u001b[0m\n\u001b[1;32m   1334\u001b[0m             \u001b[0;32mraise\u001b[0m \u001b[0mBadZipFile\u001b[0m\u001b[0;34m(\u001b[0m\u001b[0;34m\"File is not a zip file\"\u001b[0m\u001b[0;34m)\u001b[0m\u001b[0;34m\u001b[0m\u001b[0;34m\u001b[0m\u001b[0m\n\u001b[1;32m   1335\u001b[0m         \u001b[0;32mif\u001b[0m \u001b[0;32mnot\u001b[0m \u001b[0mendrec\u001b[0m\u001b[0;34m:\u001b[0m\u001b[0;34m\u001b[0m\u001b[0;34m\u001b[0m\u001b[0m\n\u001b[0;32m-> 1336\u001b[0;31m             \u001b[0;32mraise\u001b[0m \u001b[0mBadZipFile\u001b[0m\u001b[0;34m(\u001b[0m\u001b[0;34m\"File is not a zip file\"\u001b[0m\u001b[0;34m)\u001b[0m\u001b[0;34m\u001b[0m\u001b[0;34m\u001b[0m\u001b[0m\n\u001b[0m\u001b[1;32m   1337\u001b[0m         \u001b[0;32mif\u001b[0m \u001b[0mself\u001b[0m\u001b[0;34m.\u001b[0m\u001b[0mdebug\u001b[0m \u001b[0;34m>\u001b[0m \u001b[0;36m1\u001b[0m\u001b[0;34m:\u001b[0m\u001b[0;34m\u001b[0m\u001b[0;34m\u001b[0m\u001b[0m\n\u001b[1;32m   1338\u001b[0m             \u001b[0mprint\u001b[0m\u001b[0;34m(\u001b[0m\u001b[0mendrec\u001b[0m\u001b[0;34m)\u001b[0m\u001b[0;34m\u001b[0m\u001b[0;34m\u001b[0m\u001b[0m\n",
            "\u001b[0;31mBadZipFile\u001b[0m: File is not a zip file"
          ]
        }
      ],
      "source": [
        "import json\n",
        "from google.colab import drive\n",
        "\n",
        "!mkdir ~/.kaggle\n",
        "!touch ~/.kaggle/kaggle.json\n",
        "\n",
        "drive.mount('/content/drive', force_remount=True)\n",
        "with open(\"/content/drive/My Drive/kaggle.json\", 'r') as f:\n",
        "    api_token= json.load(f)\n",
        "\n",
        "with open('/root/.kaggle/kaggle.json', 'w') as file:\n",
        "    json.dump(api_token, file)\n",
        "\n",
        "!chmod 600 ~/.kaggle/kaggle.json\n",
        "\n",
        "!kaggle datasets download -d arshkon/linkedin-job-postings\n",
        "\n",
        "import zipfile\n",
        "import os\n",
        "\n",
        "os.listdir()\n",
        "\n",
        "for file in os.listdir():\n",
        "    if file.endswith('.zip'):\n",
        "      zip_ref = zipfile.ZipFile(file, 'r')\n",
        "      zip_ref.extractall()\n",
        "      zip_ref.close()"
      ]
    },
    {
      "cell_type": "code",
      "execution_count": null,
      "metadata": {
        "id": "tv7jqMc7EO8M"
      },
      "outputs": [],
      "source": [
        "base = pd.read_csv(\"/content/drive/MyDrive/job_postings.csv\", sep=\",\")"
      ]
    },
    {
      "cell_type": "code",
      "source": [
        "base = base.drop(columns = 'skills_desc' , axis=1)\n",
        "base = base.drop(columns = 'closed_time' , axis=1)\n",
        "base = base.drop(columns = 'med_salary' , axis=1)\n",
        "base = base.drop(columns = 'remote_allowed' , axis=1)\n",
        "base = base.drop(columns = 'application_type' , axis=1)\n",
        "base = base.drop(columns = 'currency' , axis=1)\n",
        "base = base.drop(columns = 'posting_domain' , axis=1)\n",
        "base = base.drop(columns = 'application_url' , axis=1)\n",
        "base = base.drop(columns = 'compensation_type', axis=1)\n",
        "base = base.drop(columns = 'job_posting_url', axis=1)\n",
        "base = base.drop(columns = 'original_listed_time', axis=1)\n",
        "base = base.drop(columns = 'listed_time', axis=1)\n",
        "base = base.drop(columns = 'sponsored', axis=1)\n",
        "base = base.drop('expiry', axis=1)\n",
        "base = base.drop('work_type', axis=1)"
      ],
      "metadata": {
        "id": "WrgMxHKw6dAN"
      },
      "execution_count": null,
      "outputs": []
    },
    {
      "cell_type": "code",
      "source": [
        "# no se va a trabajar con los trabajos a contrato, voluntarios o temporarios\n",
        "base = base[~((base['formatted_work_type'] == 'Temporary') | (base['formatted_work_type'] == 'Contract') | (base['formatted_work_type'] == 'Volunteer'))]"
      ],
      "metadata": {
        "id": "RJeKMSXrpa3_"
      },
      "execution_count": null,
      "outputs": []
    },
    {
      "cell_type": "markdown",
      "source": [
        "## Analisis Exploratorio de Datos (EDA)"
      ],
      "metadata": {
        "id": "1dn39eychXvi"
      }
    },
    {
      "cell_type": "markdown",
      "source": [
        "#### Tratamiento 'title' y 'description'"
      ],
      "metadata": {
        "id": "2RiGGy-jM_vX"
      }
    },
    {
      "cell_type": "code",
      "source": [
        "base = base.dropna(subset=['description'])"
      ],
      "metadata": {
        "id": "3IL5Z0ATyaga"
      },
      "execution_count": null,
      "outputs": []
    },
    {
      "cell_type": "code",
      "source": [
        "base = base.rename(columns={'formatted_work_type': 'work_type', 'formatted_experience_level': 'experience_level'})"
      ],
      "metadata": {
        "id": "F5pMOpOCbtdC"
      },
      "execution_count": null,
      "outputs": []
    },
    {
      "cell_type": "markdown",
      "source": [
        "Se dejan solo las columnas que son pertinentes para el análisis"
      ],
      "metadata": {
        "id": "C67cvpN0ThKm"
      }
    },
    {
      "cell_type": "code",
      "source": [
        "import nltk\n",
        "from nltk.corpus import stopwords\n",
        "nltk.download('stopwords')\n",
        "nltk.download('wordnet')\n",
        "\n",
        "import warnings\n",
        "warnings.filterwarnings('ignore')"
      ],
      "metadata": {
        "id": "A9UqF7ZKWDPJ",
        "colab": {
          "base_uri": "https://localhost:8080/"
        },
        "outputId": "393794b7-d712-4fb7-fa10-82b52e9a13e9"
      },
      "execution_count": null,
      "outputs": [
        {
          "output_type": "stream",
          "name": "stderr",
          "text": [
            "[nltk_data] Downloading package stopwords to /root/nltk_data...\n",
            "[nltk_data]   Unzipping corpora/stopwords.zip.\n",
            "[nltk_data] Downloading package wordnet to /root/nltk_data...\n"
          ]
        }
      ]
    },
    {
      "cell_type": "code",
      "source": [
        "# A list of contractions from http://stackoverflow.com/questions/19790188/expanding-english-language-contractions-in-python\n",
        "contractions = {\n",
        "\"ain't\": \"am not\",\n",
        "\"aren't\": \"are not\",\n",
        "\"can't\": \"cannot\",\n",
        "\"can't've\": \"cannot have\",\n",
        "\"'cause\": \"because\",\n",
        "\"could've\": \"could have\",\n",
        "\"couldn't\": \"could not\",\n",
        "\"couldn't've\": \"could not have\",\n",
        "\"didn't\": \"did not\",\n",
        "\"doesn't\": \"does not\",\n",
        "\"don't\": \"do not\",\n",
        "\"hadn't\": \"had not\",\n",
        "\"hadn't've\": \"had not have\",\n",
        "\"hasn't\": \"has not\",\n",
        "\"haven't\": \"have not\",\n",
        "\"he'd\": \"he would\",\n",
        "\"he'd've\": \"he would have\",\n",
        "\"he'll\": \"he will\",\n",
        "\"he's\": \"he is\",\n",
        "\"how'd\": \"how did\",\n",
        "\"how'll\": \"how will\",\n",
        "\"how's\": \"how is\",\n",
        "\"i'd\": \"i would\",\n",
        "\"i'll\": \"i will\",\n",
        "\"i'm\": \"i am\",\n",
        "\"i've\": \"i have\",\n",
        "\"isn't\": \"is not\",\n",
        "\"it'd\": \"it would\",\n",
        "\"it'll\": \"it will\",\n",
        "\"it's\": \"it is\",\n",
        "\"let's\": \"let us\",\n",
        "\"ma'am\": \"madam\",\n",
        "\"mayn't\": \"may not\",\n",
        "\"might've\": \"might have\",\n",
        "\"mightn't\": \"might not\",\n",
        "\"must've\": \"must have\",\n",
        "\"mustn't\": \"must not\",\n",
        "\"needn't\": \"need not\",\n",
        "\"oughtn't\": \"ought not\",\n",
        "\"shan't\": \"shall not\",\n",
        "\"sha'n't\": \"shall not\",\n",
        "\"she'd\": \"she would\",\n",
        "\"she'll\": \"she will\",\n",
        "\"she's\": \"she is\",\n",
        "\"should've\": \"should have\",\n",
        "\"shouldn't\": \"should not\",\n",
        "\"that'd\": \"that would\",\n",
        "\"that's\": \"that is\",\n",
        "\"there'd\": \"there had\",\n",
        "\"there's\": \"there is\",\n",
        "\"they'd\": \"they would\",\n",
        "\"they'll\": \"they will\",\n",
        "\"they're\": \"they are\",\n",
        "\"they've\": \"they have\",\n",
        "\"wasn't\": \"was not\",\n",
        "\"we'd\": \"we would\",\n",
        "\"we'll\": \"we will\",\n",
        "\"we're\": \"we are\",\n",
        "\"we've\": \"we have\",\n",
        "\"weren't\": \"were not\",\n",
        "\"what'll\": \"what will\",\n",
        "\"what're\": \"what are\",\n",
        "\"what's\": \"what is\",\n",
        "\"what've\": \"what have\",\n",
        "\"where'd\": \"where did\",\n",
        "\"where's\": \"where is\",\n",
        "\"who'll\": \"who will\",\n",
        "\"who's\": \"who is\",\n",
        "\"won't\": \"will not\",\n",
        "\"wouldn't\": \"would not\",\n",
        "\"you'd\": \"you would\",\n",
        "\"you'll\": \"you will\",\n",
        "\"you're\": \"you are\"\n",
        "}"
      ],
      "metadata": {
        "id": "cAvJuFW6MAYx"
      },
      "execution_count": null,
      "outputs": []
    },
    {
      "cell_type": "code",
      "source": [
        "import re\n",
        "import nltk\n",
        "from nltk.corpus import stopwords\n",
        "from nltk.stem import WordNetLemmatizer\n",
        "\n",
        "def text_preprocessing(text):\n",
        "    '''Remove unwanted characters, stopwords, and format the text to create fewer null word embeddings'''\n",
        "\n",
        "    text = text.lower()\n",
        "    # Expand contractions\n",
        "    if True:\n",
        "        text = text.split()\n",
        "        new_text = []\n",
        "        for word in text:\n",
        "            if word in contractions:\n",
        "                new_text.append(contractions[word])\n",
        "            else:\n",
        "                new_text.append(word)\n",
        "        text = \" \".join(new_text)\n",
        "\n",
        "    # Remove unwanted characters\n",
        "    text = re.sub(r'https?:\\/\\/.*[\\r\\n]*', ' ', text, flags=re.MULTILINE)\n",
        "    text = re.sub(r'\\(.*?\\)|\\[.*?\\]|\\{.*?\\}', ' ', text)  # Remove content within parentheses, square brackets, and curly braces\n",
        "    text = re.sub(r'[^\\x00-\\x7F]+', ' ', text)\n",
        "\n",
        "    # Remove numbers\n",
        "    text = re.sub(r'\\b\\d+\\b', ' ', text)\n",
        "\n",
        "    # Tokenize the text\n",
        "    tokens = nltk.WordPunctTokenizer().tokenize(text)\n",
        "\n",
        "    # Remove short words\n",
        "    tokens = [word for word in tokens if len(word) > 2]\n",
        "\n",
        "    # Lemmatize the text\n",
        "    lemmatizer = nltk.stem.WordNetLemmatizer()\n",
        "    tokens = [lemmatizer.lemmatize(word, pos='v') for word in tokens]\n",
        "\n",
        "    return tokens"
      ],
      "metadata": {
        "id": "L3C8jChnL4UU",
        "colab": {
          "base_uri": "https://localhost:8080/"
        },
        "outputId": "99aa4327-51c6-4075-bf48-2967867a3b99"
      },
      "execution_count": null,
      "outputs": [
        {
          "output_type": "stream",
          "name": "stderr",
          "text": [
            "[nltk_data] Downloading package wordnet to /root/nltk_data...\n",
            "[nltk_data]   Package wordnet is already up-to-date!\n",
            "[nltk_data] Downloading package stopwords to /root/nltk_data...\n",
            "[nltk_data]   Package stopwords is already up-to-date!\n"
          ]
        }
      ]
    },
    {
      "cell_type": "code",
      "source": [
        "def to_string(text):\n",
        "    # Convert list to string\n",
        "    text = ' '.join(map(str, text))\n",
        "\n",
        "    return text"
      ],
      "metadata": {
        "id": "_LBJ-EWGN_x1"
      },
      "execution_count": null,
      "outputs": []
    },
    {
      "cell_type": "code",
      "source": [
        "base['title_clean'] = list(map(text_preprocessing, base.title))\n",
        "base['description_clean'] = list(map(text_preprocessing, base.description))\n",
        "\n",
        "stopwords_list = stopwords.words('english')\n",
        "base['title_clean'] = [[word for word in line if word not in stopwords_list] for line in base['title_clean']]\n",
        "base['description_clean'] = [[word for word in line if word not in stopwords_list] for line in base['description_clean']]\n",
        "\n",
        "base['title'] = list(map(to_string, base['title_clean']))\n",
        "base['description'] = list(map(to_string, base['description_clean']))"
      ],
      "metadata": {
        "id": "7R3uiXQOMJDO"
      },
      "execution_count": null,
      "outputs": []
    },
    {
      "cell_type": "code",
      "source": [
        "# Combine Title with the Description\n",
        "base['description'] = base['title'].str.cat(base['description'], sep = ' ')"
      ],
      "metadata": {
        "id": "mETUin0-cqsb"
      },
      "execution_count": null,
      "outputs": []
    },
    {
      "cell_type": "code",
      "source": [
        "def categorize_experience(base):\n",
        "    lista_executive = ['executive', 'owner', 'president', 'vice', 'vicepresident']\n",
        "    lista_director = ['director', 'senior']\n",
        "    lista_intern = ['practice', 'intern', 'trainee', 'internship', 'spring', 'summer', 'winter']\n",
        "    lista_entry = ['assistant', 'secretary', 'entry']\n",
        "\n",
        "    if any(word in base['title'].lower() for word in lista_executive):\n",
        "      return 'Executive'\n",
        "    elif any(word in base['title'].lower() for word in lista_director):\n",
        "      return 'Director'\n",
        "    elif any(word in base['title'].lower() for word in lista_intern):\n",
        "      return 'Internship'\n",
        "    elif any(word in base['title'].lower() for word in lista_entry):\n",
        "      return 'Entry level'\n",
        "    else:\n",
        "      return base['experience_level']"
      ],
      "metadata": {
        "id": "HKKG4ijzMRjO"
      },
      "execution_count": null,
      "outputs": []
    },
    {
      "cell_type": "code",
      "source": [
        "base['experience'] = base.apply(categorize_experience, axis=1)"
      ],
      "metadata": {
        "id": "ILxiqeZENK0j"
      },
      "execution_count": null,
      "outputs": []
    },
    {
      "cell_type": "code",
      "source": [
        "# la ultima palabra indica la posición, más allá del tipo de laburo\n",
        "base['position'] = base['title_clean'].apply(lambda x: x[-1] if (len(x) > 0 and len(x[-1]) > 4) else None)\n",
        "base[['title', 'position']].head(5)"
      ],
      "metadata": {
        "colab": {
          "base_uri": "https://localhost:8080/",
          "height": 206
        },
        "id": "UeGtDUyV4Qj7",
        "outputId": "49ff458f-d20f-47b3-9170-d334b4095445"
      },
      "execution_count": null,
      "outputs": [
        {
          "output_type": "execute_result",
          "data": {
            "text/plain": [
              "                     title   position\n",
              "0  license insurance agent      agent\n",
              "1            sales manager    manager\n",
              "3         business manager    manager\n",
              "4         studio assistant  assistant\n",
              "5         office associate  associate"
            ],
            "text/html": [
              "\n",
              "  <div id=\"df-bcebd2c0-afed-4ff6-9261-6c3bef8c07b6\" class=\"colab-df-container\">\n",
              "    <div>\n",
              "<style scoped>\n",
              "    .dataframe tbody tr th:only-of-type {\n",
              "        vertical-align: middle;\n",
              "    }\n",
              "\n",
              "    .dataframe tbody tr th {\n",
              "        vertical-align: top;\n",
              "    }\n",
              "\n",
              "    .dataframe thead th {\n",
              "        text-align: right;\n",
              "    }\n",
              "</style>\n",
              "<table border=\"1\" class=\"dataframe\">\n",
              "  <thead>\n",
              "    <tr style=\"text-align: right;\">\n",
              "      <th></th>\n",
              "      <th>title</th>\n",
              "      <th>position</th>\n",
              "    </tr>\n",
              "  </thead>\n",
              "  <tbody>\n",
              "    <tr>\n",
              "      <th>0</th>\n",
              "      <td>license insurance agent</td>\n",
              "      <td>agent</td>\n",
              "    </tr>\n",
              "    <tr>\n",
              "      <th>1</th>\n",
              "      <td>sales manager</td>\n",
              "      <td>manager</td>\n",
              "    </tr>\n",
              "    <tr>\n",
              "      <th>3</th>\n",
              "      <td>business manager</td>\n",
              "      <td>manager</td>\n",
              "    </tr>\n",
              "    <tr>\n",
              "      <th>4</th>\n",
              "      <td>studio assistant</td>\n",
              "      <td>assistant</td>\n",
              "    </tr>\n",
              "    <tr>\n",
              "      <th>5</th>\n",
              "      <td>office associate</td>\n",
              "      <td>associate</td>\n",
              "    </tr>\n",
              "  </tbody>\n",
              "</table>\n",
              "</div>\n",
              "    <div class=\"colab-df-buttons\">\n",
              "\n",
              "  <div class=\"colab-df-container\">\n",
              "    <button class=\"colab-df-convert\" onclick=\"convertToInteractive('df-bcebd2c0-afed-4ff6-9261-6c3bef8c07b6')\"\n",
              "            title=\"Convert this dataframe to an interactive table.\"\n",
              "            style=\"display:none;\">\n",
              "\n",
              "  <svg xmlns=\"http://www.w3.org/2000/svg\" height=\"24px\" viewBox=\"0 -960 960 960\">\n",
              "    <path d=\"M120-120v-720h720v720H120Zm60-500h600v-160H180v160Zm220 220h160v-160H400v160Zm0 220h160v-160H400v160ZM180-400h160v-160H180v160Zm440 0h160v-160H620v160ZM180-180h160v-160H180v160Zm440 0h160v-160H620v160Z\"/>\n",
              "  </svg>\n",
              "    </button>\n",
              "\n",
              "  <style>\n",
              "    .colab-df-container {\n",
              "      display:flex;\n",
              "      gap: 12px;\n",
              "    }\n",
              "\n",
              "    .colab-df-convert {\n",
              "      background-color: #E8F0FE;\n",
              "      border: none;\n",
              "      border-radius: 50%;\n",
              "      cursor: pointer;\n",
              "      display: none;\n",
              "      fill: #1967D2;\n",
              "      height: 32px;\n",
              "      padding: 0 0 0 0;\n",
              "      width: 32px;\n",
              "    }\n",
              "\n",
              "    .colab-df-convert:hover {\n",
              "      background-color: #E2EBFA;\n",
              "      box-shadow: 0px 1px 2px rgba(60, 64, 67, 0.3), 0px 1px 3px 1px rgba(60, 64, 67, 0.15);\n",
              "      fill: #174EA6;\n",
              "    }\n",
              "\n",
              "    .colab-df-buttons div {\n",
              "      margin-bottom: 4px;\n",
              "    }\n",
              "\n",
              "    [theme=dark] .colab-df-convert {\n",
              "      background-color: #3B4455;\n",
              "      fill: #D2E3FC;\n",
              "    }\n",
              "\n",
              "    [theme=dark] .colab-df-convert:hover {\n",
              "      background-color: #434B5C;\n",
              "      box-shadow: 0px 1px 3px 1px rgba(0, 0, 0, 0.15);\n",
              "      filter: drop-shadow(0px 1px 2px rgba(0, 0, 0, 0.3));\n",
              "      fill: #FFFFFF;\n",
              "    }\n",
              "  </style>\n",
              "\n",
              "    <script>\n",
              "      const buttonEl =\n",
              "        document.querySelector('#df-bcebd2c0-afed-4ff6-9261-6c3bef8c07b6 button.colab-df-convert');\n",
              "      buttonEl.style.display =\n",
              "        google.colab.kernel.accessAllowed ? 'block' : 'none';\n",
              "\n",
              "      async function convertToInteractive(key) {\n",
              "        const element = document.querySelector('#df-bcebd2c0-afed-4ff6-9261-6c3bef8c07b6');\n",
              "        const dataTable =\n",
              "          await google.colab.kernel.invokeFunction('convertToInteractive',\n",
              "                                                    [key], {});\n",
              "        if (!dataTable) return;\n",
              "\n",
              "        const docLinkHtml = 'Like what you see? Visit the ' +\n",
              "          '<a target=\"_blank\" href=https://colab.research.google.com/notebooks/data_table.ipynb>data table notebook</a>'\n",
              "          + ' to learn more about interactive tables.';\n",
              "        element.innerHTML = '';\n",
              "        dataTable['output_type'] = 'display_data';\n",
              "        await google.colab.output.renderOutput(dataTable, element);\n",
              "        const docLink = document.createElement('div');\n",
              "        docLink.innerHTML = docLinkHtml;\n",
              "        element.appendChild(docLink);\n",
              "      }\n",
              "    </script>\n",
              "  </div>\n",
              "\n",
              "\n",
              "<div id=\"df-4d03fdfe-d3f8-4af4-9c2e-e48471147a62\">\n",
              "  <button class=\"colab-df-quickchart\" onclick=\"quickchart('df-4d03fdfe-d3f8-4af4-9c2e-e48471147a62')\"\n",
              "            title=\"Suggest charts\"\n",
              "            style=\"display:none;\">\n",
              "\n",
              "<svg xmlns=\"http://www.w3.org/2000/svg\" height=\"24px\"viewBox=\"0 0 24 24\"\n",
              "     width=\"24px\">\n",
              "    <g>\n",
              "        <path d=\"M19 3H5c-1.1 0-2 .9-2 2v14c0 1.1.9 2 2 2h14c1.1 0 2-.9 2-2V5c0-1.1-.9-2-2-2zM9 17H7v-7h2v7zm4 0h-2V7h2v10zm4 0h-2v-4h2v4z\"/>\n",
              "    </g>\n",
              "</svg>\n",
              "  </button>\n",
              "\n",
              "<style>\n",
              "  .colab-df-quickchart {\n",
              "      --bg-color: #E8F0FE;\n",
              "      --fill-color: #1967D2;\n",
              "      --hover-bg-color: #E2EBFA;\n",
              "      --hover-fill-color: #174EA6;\n",
              "      --disabled-fill-color: #AAA;\n",
              "      --disabled-bg-color: #DDD;\n",
              "  }\n",
              "\n",
              "  [theme=dark] .colab-df-quickchart {\n",
              "      --bg-color: #3B4455;\n",
              "      --fill-color: #D2E3FC;\n",
              "      --hover-bg-color: #434B5C;\n",
              "      --hover-fill-color: #FFFFFF;\n",
              "      --disabled-bg-color: #3B4455;\n",
              "      --disabled-fill-color: #666;\n",
              "  }\n",
              "\n",
              "  .colab-df-quickchart {\n",
              "    background-color: var(--bg-color);\n",
              "    border: none;\n",
              "    border-radius: 50%;\n",
              "    cursor: pointer;\n",
              "    display: none;\n",
              "    fill: var(--fill-color);\n",
              "    height: 32px;\n",
              "    padding: 0;\n",
              "    width: 32px;\n",
              "  }\n",
              "\n",
              "  .colab-df-quickchart:hover {\n",
              "    background-color: var(--hover-bg-color);\n",
              "    box-shadow: 0 1px 2px rgba(60, 64, 67, 0.3), 0 1px 3px 1px rgba(60, 64, 67, 0.15);\n",
              "    fill: var(--button-hover-fill-color);\n",
              "  }\n",
              "\n",
              "  .colab-df-quickchart-complete:disabled,\n",
              "  .colab-df-quickchart-complete:disabled:hover {\n",
              "    background-color: var(--disabled-bg-color);\n",
              "    fill: var(--disabled-fill-color);\n",
              "    box-shadow: none;\n",
              "  }\n",
              "\n",
              "  .colab-df-spinner {\n",
              "    border: 2px solid var(--fill-color);\n",
              "    border-color: transparent;\n",
              "    border-bottom-color: var(--fill-color);\n",
              "    animation:\n",
              "      spin 1s steps(1) infinite;\n",
              "  }\n",
              "\n",
              "  @keyframes spin {\n",
              "    0% {\n",
              "      border-color: transparent;\n",
              "      border-bottom-color: var(--fill-color);\n",
              "      border-left-color: var(--fill-color);\n",
              "    }\n",
              "    20% {\n",
              "      border-color: transparent;\n",
              "      border-left-color: var(--fill-color);\n",
              "      border-top-color: var(--fill-color);\n",
              "    }\n",
              "    30% {\n",
              "      border-color: transparent;\n",
              "      border-left-color: var(--fill-color);\n",
              "      border-top-color: var(--fill-color);\n",
              "      border-right-color: var(--fill-color);\n",
              "    }\n",
              "    40% {\n",
              "      border-color: transparent;\n",
              "      border-right-color: var(--fill-color);\n",
              "      border-top-color: var(--fill-color);\n",
              "    }\n",
              "    60% {\n",
              "      border-color: transparent;\n",
              "      border-right-color: var(--fill-color);\n",
              "    }\n",
              "    80% {\n",
              "      border-color: transparent;\n",
              "      border-right-color: var(--fill-color);\n",
              "      border-bottom-color: var(--fill-color);\n",
              "    }\n",
              "    90% {\n",
              "      border-color: transparent;\n",
              "      border-bottom-color: var(--fill-color);\n",
              "    }\n",
              "  }\n",
              "</style>\n",
              "\n",
              "  <script>\n",
              "    async function quickchart(key) {\n",
              "      const quickchartButtonEl =\n",
              "        document.querySelector('#' + key + ' button');\n",
              "      quickchartButtonEl.disabled = true;  // To prevent multiple clicks.\n",
              "      quickchartButtonEl.classList.add('colab-df-spinner');\n",
              "      try {\n",
              "        const charts = await google.colab.kernel.invokeFunction(\n",
              "            'suggestCharts', [key], {});\n",
              "      } catch (error) {\n",
              "        console.error('Error during call to suggestCharts:', error);\n",
              "      }\n",
              "      quickchartButtonEl.classList.remove('colab-df-spinner');\n",
              "      quickchartButtonEl.classList.add('colab-df-quickchart-complete');\n",
              "    }\n",
              "    (() => {\n",
              "      let quickchartButtonEl =\n",
              "        document.querySelector('#df-4d03fdfe-d3f8-4af4-9c2e-e48471147a62 button');\n",
              "      quickchartButtonEl.style.display =\n",
              "        google.colab.kernel.accessAllowed ? 'block' : 'none';\n",
              "    })();\n",
              "  </script>\n",
              "</div>\n",
              "    </div>\n",
              "  </div>\n"
            ]
          },
          "metadata": {},
          "execution_count": 20
        }
      ]
    },
    {
      "cell_type": "code",
      "source": [
        "base[['title', 'position', 'min_salary', 'max_salary']][base['position'].isnull()]"
      ],
      "metadata": {
        "colab": {
          "base_uri": "https://localhost:8080/",
          "height": 424
        },
        "id": "h6_uannFy4cT",
        "outputId": "74f5be59-45e2-4903-8083-36b3087038db"
      },
      "execution_count": null,
      "outputs": [
        {
          "output_type": "execute_result",
          "data": {
            "text/plain": [
              "                                                                  title  \\\n",
              "21     locum critical care physician assistant job atlanta make 110 125   \n",
              "25                                       delivery driver 6696 coral way   \n",
              "109                                 b767 757 first officer non type rat   \n",
              "111                                         project director austin usa   \n",
              "135                                                                aprn   \n",
              "...                                                                 ...   \n",
              "15854    instrument equipment specialist sterile process full time even   \n",
              "15856                                                              cook   \n",
              "15865                  equipment maintenance technician automotive part   \n",
              "15867                                           dispute operations lead   \n",
              "15879                                            warehouse operator iii   \n",
              "\n",
              "      position  min_salary  max_salary  \n",
              "21        None         NaN         NaN  \n",
              "25        None         NaN         NaN  \n",
              "109       None         NaN         NaN  \n",
              "111       None         NaN         NaN  \n",
              "135       None         NaN         NaN  \n",
              "...        ...         ...         ...  \n",
              "15854     None       36.77       55.15  \n",
              "15856     None         NaN         NaN  \n",
              "15865     None       20.00       30.00  \n",
              "15867     None         NaN         NaN  \n",
              "15879     None         NaN         NaN  \n",
              "\n",
              "[1592 rows x 4 columns]"
            ],
            "text/html": [
              "\n",
              "  <div id=\"df-13d1ef7a-07d6-4b31-94dd-485bf400c0d8\" class=\"colab-df-container\">\n",
              "    <div>\n",
              "<style scoped>\n",
              "    .dataframe tbody tr th:only-of-type {\n",
              "        vertical-align: middle;\n",
              "    }\n",
              "\n",
              "    .dataframe tbody tr th {\n",
              "        vertical-align: top;\n",
              "    }\n",
              "\n",
              "    .dataframe thead th {\n",
              "        text-align: right;\n",
              "    }\n",
              "</style>\n",
              "<table border=\"1\" class=\"dataframe\">\n",
              "  <thead>\n",
              "    <tr style=\"text-align: right;\">\n",
              "      <th></th>\n",
              "      <th>title</th>\n",
              "      <th>position</th>\n",
              "      <th>min_salary</th>\n",
              "      <th>max_salary</th>\n",
              "    </tr>\n",
              "  </thead>\n",
              "  <tbody>\n",
              "    <tr>\n",
              "      <th>21</th>\n",
              "      <td>locum critical care physician assistant job atlanta make 110 125</td>\n",
              "      <td>None</td>\n",
              "      <td>NaN</td>\n",
              "      <td>NaN</td>\n",
              "    </tr>\n",
              "    <tr>\n",
              "      <th>25</th>\n",
              "      <td>delivery driver 6696 coral way</td>\n",
              "      <td>None</td>\n",
              "      <td>NaN</td>\n",
              "      <td>NaN</td>\n",
              "    </tr>\n",
              "    <tr>\n",
              "      <th>109</th>\n",
              "      <td>b767 757 first officer non type rat</td>\n",
              "      <td>None</td>\n",
              "      <td>NaN</td>\n",
              "      <td>NaN</td>\n",
              "    </tr>\n",
              "    <tr>\n",
              "      <th>111</th>\n",
              "      <td>project director austin usa</td>\n",
              "      <td>None</td>\n",
              "      <td>NaN</td>\n",
              "      <td>NaN</td>\n",
              "    </tr>\n",
              "    <tr>\n",
              "      <th>135</th>\n",
              "      <td>aprn</td>\n",
              "      <td>None</td>\n",
              "      <td>NaN</td>\n",
              "      <td>NaN</td>\n",
              "    </tr>\n",
              "    <tr>\n",
              "      <th>...</th>\n",
              "      <td>...</td>\n",
              "      <td>...</td>\n",
              "      <td>...</td>\n",
              "      <td>...</td>\n",
              "    </tr>\n",
              "    <tr>\n",
              "      <th>15854</th>\n",
              "      <td>instrument equipment specialist sterile process full time even</td>\n",
              "      <td>None</td>\n",
              "      <td>36.77</td>\n",
              "      <td>55.15</td>\n",
              "    </tr>\n",
              "    <tr>\n",
              "      <th>15856</th>\n",
              "      <td>cook</td>\n",
              "      <td>None</td>\n",
              "      <td>NaN</td>\n",
              "      <td>NaN</td>\n",
              "    </tr>\n",
              "    <tr>\n",
              "      <th>15865</th>\n",
              "      <td>equipment maintenance technician automotive part</td>\n",
              "      <td>None</td>\n",
              "      <td>20.00</td>\n",
              "      <td>30.00</td>\n",
              "    </tr>\n",
              "    <tr>\n",
              "      <th>15867</th>\n",
              "      <td>dispute operations lead</td>\n",
              "      <td>None</td>\n",
              "      <td>NaN</td>\n",
              "      <td>NaN</td>\n",
              "    </tr>\n",
              "    <tr>\n",
              "      <th>15879</th>\n",
              "      <td>warehouse operator iii</td>\n",
              "      <td>None</td>\n",
              "      <td>NaN</td>\n",
              "      <td>NaN</td>\n",
              "    </tr>\n",
              "  </tbody>\n",
              "</table>\n",
              "<p>1592 rows × 4 columns</p>\n",
              "</div>\n",
              "    <div class=\"colab-df-buttons\">\n",
              "\n",
              "  <div class=\"colab-df-container\">\n",
              "    <button class=\"colab-df-convert\" onclick=\"convertToInteractive('df-13d1ef7a-07d6-4b31-94dd-485bf400c0d8')\"\n",
              "            title=\"Convert this dataframe to an interactive table.\"\n",
              "            style=\"display:none;\">\n",
              "\n",
              "  <svg xmlns=\"http://www.w3.org/2000/svg\" height=\"24px\" viewBox=\"0 -960 960 960\">\n",
              "    <path d=\"M120-120v-720h720v720H120Zm60-500h600v-160H180v160Zm220 220h160v-160H400v160Zm0 220h160v-160H400v160ZM180-400h160v-160H180v160Zm440 0h160v-160H620v160ZM180-180h160v-160H180v160Zm440 0h160v-160H620v160Z\"/>\n",
              "  </svg>\n",
              "    </button>\n",
              "\n",
              "  <style>\n",
              "    .colab-df-container {\n",
              "      display:flex;\n",
              "      gap: 12px;\n",
              "    }\n",
              "\n",
              "    .colab-df-convert {\n",
              "      background-color: #E8F0FE;\n",
              "      border: none;\n",
              "      border-radius: 50%;\n",
              "      cursor: pointer;\n",
              "      display: none;\n",
              "      fill: #1967D2;\n",
              "      height: 32px;\n",
              "      padding: 0 0 0 0;\n",
              "      width: 32px;\n",
              "    }\n",
              "\n",
              "    .colab-df-convert:hover {\n",
              "      background-color: #E2EBFA;\n",
              "      box-shadow: 0px 1px 2px rgba(60, 64, 67, 0.3), 0px 1px 3px 1px rgba(60, 64, 67, 0.15);\n",
              "      fill: #174EA6;\n",
              "    }\n",
              "\n",
              "    .colab-df-buttons div {\n",
              "      margin-bottom: 4px;\n",
              "    }\n",
              "\n",
              "    [theme=dark] .colab-df-convert {\n",
              "      background-color: #3B4455;\n",
              "      fill: #D2E3FC;\n",
              "    }\n",
              "\n",
              "    [theme=dark] .colab-df-convert:hover {\n",
              "      background-color: #434B5C;\n",
              "      box-shadow: 0px 1px 3px 1px rgba(0, 0, 0, 0.15);\n",
              "      filter: drop-shadow(0px 1px 2px rgba(0, 0, 0, 0.3));\n",
              "      fill: #FFFFFF;\n",
              "    }\n",
              "  </style>\n",
              "\n",
              "    <script>\n",
              "      const buttonEl =\n",
              "        document.querySelector('#df-13d1ef7a-07d6-4b31-94dd-485bf400c0d8 button.colab-df-convert');\n",
              "      buttonEl.style.display =\n",
              "        google.colab.kernel.accessAllowed ? 'block' : 'none';\n",
              "\n",
              "      async function convertToInteractive(key) {\n",
              "        const element = document.querySelector('#df-13d1ef7a-07d6-4b31-94dd-485bf400c0d8');\n",
              "        const dataTable =\n",
              "          await google.colab.kernel.invokeFunction('convertToInteractive',\n",
              "                                                    [key], {});\n",
              "        if (!dataTable) return;\n",
              "\n",
              "        const docLinkHtml = 'Like what you see? Visit the ' +\n",
              "          '<a target=\"_blank\" href=https://colab.research.google.com/notebooks/data_table.ipynb>data table notebook</a>'\n",
              "          + ' to learn more about interactive tables.';\n",
              "        element.innerHTML = '';\n",
              "        dataTable['output_type'] = 'display_data';\n",
              "        await google.colab.output.renderOutput(dataTable, element);\n",
              "        const docLink = document.createElement('div');\n",
              "        docLink.innerHTML = docLinkHtml;\n",
              "        element.appendChild(docLink);\n",
              "      }\n",
              "    </script>\n",
              "  </div>\n",
              "\n",
              "\n",
              "<div id=\"df-ab861c6c-fe4e-4b89-b80e-d3c671b2b7c0\">\n",
              "  <button class=\"colab-df-quickchart\" onclick=\"quickchart('df-ab861c6c-fe4e-4b89-b80e-d3c671b2b7c0')\"\n",
              "            title=\"Suggest charts\"\n",
              "            style=\"display:none;\">\n",
              "\n",
              "<svg xmlns=\"http://www.w3.org/2000/svg\" height=\"24px\"viewBox=\"0 0 24 24\"\n",
              "     width=\"24px\">\n",
              "    <g>\n",
              "        <path d=\"M19 3H5c-1.1 0-2 .9-2 2v14c0 1.1.9 2 2 2h14c1.1 0 2-.9 2-2V5c0-1.1-.9-2-2-2zM9 17H7v-7h2v7zm4 0h-2V7h2v10zm4 0h-2v-4h2v4z\"/>\n",
              "    </g>\n",
              "</svg>\n",
              "  </button>\n",
              "\n",
              "<style>\n",
              "  .colab-df-quickchart {\n",
              "      --bg-color: #E8F0FE;\n",
              "      --fill-color: #1967D2;\n",
              "      --hover-bg-color: #E2EBFA;\n",
              "      --hover-fill-color: #174EA6;\n",
              "      --disabled-fill-color: #AAA;\n",
              "      --disabled-bg-color: #DDD;\n",
              "  }\n",
              "\n",
              "  [theme=dark] .colab-df-quickchart {\n",
              "      --bg-color: #3B4455;\n",
              "      --fill-color: #D2E3FC;\n",
              "      --hover-bg-color: #434B5C;\n",
              "      --hover-fill-color: #FFFFFF;\n",
              "      --disabled-bg-color: #3B4455;\n",
              "      --disabled-fill-color: #666;\n",
              "  }\n",
              "\n",
              "  .colab-df-quickchart {\n",
              "    background-color: var(--bg-color);\n",
              "    border: none;\n",
              "    border-radius: 50%;\n",
              "    cursor: pointer;\n",
              "    display: none;\n",
              "    fill: var(--fill-color);\n",
              "    height: 32px;\n",
              "    padding: 0;\n",
              "    width: 32px;\n",
              "  }\n",
              "\n",
              "  .colab-df-quickchart:hover {\n",
              "    background-color: var(--hover-bg-color);\n",
              "    box-shadow: 0 1px 2px rgba(60, 64, 67, 0.3), 0 1px 3px 1px rgba(60, 64, 67, 0.15);\n",
              "    fill: var(--button-hover-fill-color);\n",
              "  }\n",
              "\n",
              "  .colab-df-quickchart-complete:disabled,\n",
              "  .colab-df-quickchart-complete:disabled:hover {\n",
              "    background-color: var(--disabled-bg-color);\n",
              "    fill: var(--disabled-fill-color);\n",
              "    box-shadow: none;\n",
              "  }\n",
              "\n",
              "  .colab-df-spinner {\n",
              "    border: 2px solid var(--fill-color);\n",
              "    border-color: transparent;\n",
              "    border-bottom-color: var(--fill-color);\n",
              "    animation:\n",
              "      spin 1s steps(1) infinite;\n",
              "  }\n",
              "\n",
              "  @keyframes spin {\n",
              "    0% {\n",
              "      border-color: transparent;\n",
              "      border-bottom-color: var(--fill-color);\n",
              "      border-left-color: var(--fill-color);\n",
              "    }\n",
              "    20% {\n",
              "      border-color: transparent;\n",
              "      border-left-color: var(--fill-color);\n",
              "      border-top-color: var(--fill-color);\n",
              "    }\n",
              "    30% {\n",
              "      border-color: transparent;\n",
              "      border-left-color: var(--fill-color);\n",
              "      border-top-color: var(--fill-color);\n",
              "      border-right-color: var(--fill-color);\n",
              "    }\n",
              "    40% {\n",
              "      border-color: transparent;\n",
              "      border-right-color: var(--fill-color);\n",
              "      border-top-color: var(--fill-color);\n",
              "    }\n",
              "    60% {\n",
              "      border-color: transparent;\n",
              "      border-right-color: var(--fill-color);\n",
              "    }\n",
              "    80% {\n",
              "      border-color: transparent;\n",
              "      border-right-color: var(--fill-color);\n",
              "      border-bottom-color: var(--fill-color);\n",
              "    }\n",
              "    90% {\n",
              "      border-color: transparent;\n",
              "      border-bottom-color: var(--fill-color);\n",
              "    }\n",
              "  }\n",
              "</style>\n",
              "\n",
              "  <script>\n",
              "    async function quickchart(key) {\n",
              "      const quickchartButtonEl =\n",
              "        document.querySelector('#' + key + ' button');\n",
              "      quickchartButtonEl.disabled = true;  // To prevent multiple clicks.\n",
              "      quickchartButtonEl.classList.add('colab-df-spinner');\n",
              "      try {\n",
              "        const charts = await google.colab.kernel.invokeFunction(\n",
              "            'suggestCharts', [key], {});\n",
              "      } catch (error) {\n",
              "        console.error('Error during call to suggestCharts:', error);\n",
              "      }\n",
              "      quickchartButtonEl.classList.remove('colab-df-spinner');\n",
              "      quickchartButtonEl.classList.add('colab-df-quickchart-complete');\n",
              "    }\n",
              "    (() => {\n",
              "      let quickchartButtonEl =\n",
              "        document.querySelector('#df-ab861c6c-fe4e-4b89-b80e-d3c671b2b7c0 button');\n",
              "      quickchartButtonEl.style.display =\n",
              "        google.colab.kernel.accessAllowed ? 'block' : 'none';\n",
              "    })();\n",
              "  </script>\n",
              "</div>\n",
              "    </div>\n",
              "  </div>\n"
            ]
          },
          "metadata": {},
          "execution_count": 21
        }
      ]
    },
    {
      "cell_type": "code",
      "source": [
        "base = base.dropna(subset=['position'])"
      ],
      "metadata": {
        "id": "KMoQGqwl9e6p"
      },
      "execution_count": null,
      "outputs": []
    },
    {
      "cell_type": "code",
      "source": [
        "base = base.drop('experience_level', axis=1)\n",
        "base = base.drop('title_clean', axis=1)\n",
        "base = base.drop('description_clean', axis=1)"
      ],
      "metadata": {
        "id": "oWztK7ljYAzJ"
      },
      "execution_count": null,
      "outputs": []
    },
    {
      "cell_type": "code",
      "source": [
        "base[['title', 'position', 'work_type', 'location', 'experience', 'min_salary', 'min_salary',]]"
      ],
      "metadata": {
        "colab": {
          "base_uri": "https://localhost:8080/",
          "height": 424
        },
        "id": "Ug1bWYjY7yfE",
        "outputId": "8396300e-3701-4825-c4ea-15704b30cd5d"
      },
      "execution_count": null,
      "outputs": [
        {
          "output_type": "execute_result",
          "data": {
            "text/plain": [
              "                                    title     position  work_type  \\\n",
              "0                 license insurance agent        agent  Full-time   \n",
              "1                           sales manager      manager  Full-time   \n",
              "3                        business manager      manager  Full-time   \n",
              "4                        studio assistant    assistant  Full-time   \n",
              "5                        office associate    associate  Full-time   \n",
              "...                                   ...          ...        ...   \n",
              "15881               sanitation technician   technician  Part-time   \n",
              "15882                      unit secretary    secretary  Full-time   \n",
              "15883              radiology aide perdiem      perdiem  Part-time   \n",
              "15884                         mri manager      manager  Full-time   \n",
              "15885  area director business development  development  Full-time   \n",
              "\n",
              "                location        experience  min_salary  min_salary  \n",
              "0              Chico, CA               NaN     45760.0     45760.0  \n",
              "1      Santa Clarita, CA               NaN         NaN         NaN  \n",
              "3             Forney, TX               NaN         NaN         NaN  \n",
              "4           New York, NY       Entry level         NaN         NaN  \n",
              "5             Albany, GA               NaN     37000.0     37000.0  \n",
              "...                  ...               ...         ...         ...  \n",
              "15881  West Columbia, SC       Entry level         NaN         NaN  \n",
              "15882        Teaneck, NJ       Entry level         NaN         NaN  \n",
              "15883        Teaneck, NJ       Entry level         NaN         NaN  \n",
              "15884       New York, NY  Mid-Senior level    110000.0    110000.0  \n",
              "15885      Vicksburg, MS          Director         NaN         NaN  \n",
              "\n",
              "[12425 rows x 7 columns]"
            ],
            "text/html": [
              "\n",
              "  <div id=\"df-8186b541-0e31-402c-83e3-a1403ac54fed\" class=\"colab-df-container\">\n",
              "    <div>\n",
              "<style scoped>\n",
              "    .dataframe tbody tr th:only-of-type {\n",
              "        vertical-align: middle;\n",
              "    }\n",
              "\n",
              "    .dataframe tbody tr th {\n",
              "        vertical-align: top;\n",
              "    }\n",
              "\n",
              "    .dataframe thead th {\n",
              "        text-align: right;\n",
              "    }\n",
              "</style>\n",
              "<table border=\"1\" class=\"dataframe\">\n",
              "  <thead>\n",
              "    <tr style=\"text-align: right;\">\n",
              "      <th></th>\n",
              "      <th>title</th>\n",
              "      <th>position</th>\n",
              "      <th>work_type</th>\n",
              "      <th>location</th>\n",
              "      <th>experience</th>\n",
              "      <th>min_salary</th>\n",
              "      <th>min_salary</th>\n",
              "    </tr>\n",
              "  </thead>\n",
              "  <tbody>\n",
              "    <tr>\n",
              "      <th>0</th>\n",
              "      <td>license insurance agent</td>\n",
              "      <td>agent</td>\n",
              "      <td>Full-time</td>\n",
              "      <td>Chico, CA</td>\n",
              "      <td>NaN</td>\n",
              "      <td>45760.0</td>\n",
              "      <td>45760.0</td>\n",
              "    </tr>\n",
              "    <tr>\n",
              "      <th>1</th>\n",
              "      <td>sales manager</td>\n",
              "      <td>manager</td>\n",
              "      <td>Full-time</td>\n",
              "      <td>Santa Clarita, CA</td>\n",
              "      <td>NaN</td>\n",
              "      <td>NaN</td>\n",
              "      <td>NaN</td>\n",
              "    </tr>\n",
              "    <tr>\n",
              "      <th>3</th>\n",
              "      <td>business manager</td>\n",
              "      <td>manager</td>\n",
              "      <td>Full-time</td>\n",
              "      <td>Forney, TX</td>\n",
              "      <td>NaN</td>\n",
              "      <td>NaN</td>\n",
              "      <td>NaN</td>\n",
              "    </tr>\n",
              "    <tr>\n",
              "      <th>4</th>\n",
              "      <td>studio assistant</td>\n",
              "      <td>assistant</td>\n",
              "      <td>Full-time</td>\n",
              "      <td>New York, NY</td>\n",
              "      <td>Entry level</td>\n",
              "      <td>NaN</td>\n",
              "      <td>NaN</td>\n",
              "    </tr>\n",
              "    <tr>\n",
              "      <th>5</th>\n",
              "      <td>office associate</td>\n",
              "      <td>associate</td>\n",
              "      <td>Full-time</td>\n",
              "      <td>Albany, GA</td>\n",
              "      <td>NaN</td>\n",
              "      <td>37000.0</td>\n",
              "      <td>37000.0</td>\n",
              "    </tr>\n",
              "    <tr>\n",
              "      <th>...</th>\n",
              "      <td>...</td>\n",
              "      <td>...</td>\n",
              "      <td>...</td>\n",
              "      <td>...</td>\n",
              "      <td>...</td>\n",
              "      <td>...</td>\n",
              "      <td>...</td>\n",
              "    </tr>\n",
              "    <tr>\n",
              "      <th>15881</th>\n",
              "      <td>sanitation technician</td>\n",
              "      <td>technician</td>\n",
              "      <td>Part-time</td>\n",
              "      <td>West Columbia, SC</td>\n",
              "      <td>Entry level</td>\n",
              "      <td>NaN</td>\n",
              "      <td>NaN</td>\n",
              "    </tr>\n",
              "    <tr>\n",
              "      <th>15882</th>\n",
              "      <td>unit secretary</td>\n",
              "      <td>secretary</td>\n",
              "      <td>Full-time</td>\n",
              "      <td>Teaneck, NJ</td>\n",
              "      <td>Entry level</td>\n",
              "      <td>NaN</td>\n",
              "      <td>NaN</td>\n",
              "    </tr>\n",
              "    <tr>\n",
              "      <th>15883</th>\n",
              "      <td>radiology aide perdiem</td>\n",
              "      <td>perdiem</td>\n",
              "      <td>Part-time</td>\n",
              "      <td>Teaneck, NJ</td>\n",
              "      <td>Entry level</td>\n",
              "      <td>NaN</td>\n",
              "      <td>NaN</td>\n",
              "    </tr>\n",
              "    <tr>\n",
              "      <th>15884</th>\n",
              "      <td>mri manager</td>\n",
              "      <td>manager</td>\n",
              "      <td>Full-time</td>\n",
              "      <td>New York, NY</td>\n",
              "      <td>Mid-Senior level</td>\n",
              "      <td>110000.0</td>\n",
              "      <td>110000.0</td>\n",
              "    </tr>\n",
              "    <tr>\n",
              "      <th>15885</th>\n",
              "      <td>area director business development</td>\n",
              "      <td>development</td>\n",
              "      <td>Full-time</td>\n",
              "      <td>Vicksburg, MS</td>\n",
              "      <td>Director</td>\n",
              "      <td>NaN</td>\n",
              "      <td>NaN</td>\n",
              "    </tr>\n",
              "  </tbody>\n",
              "</table>\n",
              "<p>12425 rows × 7 columns</p>\n",
              "</div>\n",
              "    <div class=\"colab-df-buttons\">\n",
              "\n",
              "  <div class=\"colab-df-container\">\n",
              "    <button class=\"colab-df-convert\" onclick=\"convertToInteractive('df-8186b541-0e31-402c-83e3-a1403ac54fed')\"\n",
              "            title=\"Convert this dataframe to an interactive table.\"\n",
              "            style=\"display:none;\">\n",
              "\n",
              "  <svg xmlns=\"http://www.w3.org/2000/svg\" height=\"24px\" viewBox=\"0 -960 960 960\">\n",
              "    <path d=\"M120-120v-720h720v720H120Zm60-500h600v-160H180v160Zm220 220h160v-160H400v160Zm0 220h160v-160H400v160ZM180-400h160v-160H180v160Zm440 0h160v-160H620v160ZM180-180h160v-160H180v160Zm440 0h160v-160H620v160Z\"/>\n",
              "  </svg>\n",
              "    </button>\n",
              "\n",
              "  <style>\n",
              "    .colab-df-container {\n",
              "      display:flex;\n",
              "      gap: 12px;\n",
              "    }\n",
              "\n",
              "    .colab-df-convert {\n",
              "      background-color: #E8F0FE;\n",
              "      border: none;\n",
              "      border-radius: 50%;\n",
              "      cursor: pointer;\n",
              "      display: none;\n",
              "      fill: #1967D2;\n",
              "      height: 32px;\n",
              "      padding: 0 0 0 0;\n",
              "      width: 32px;\n",
              "    }\n",
              "\n",
              "    .colab-df-convert:hover {\n",
              "      background-color: #E2EBFA;\n",
              "      box-shadow: 0px 1px 2px rgba(60, 64, 67, 0.3), 0px 1px 3px 1px rgba(60, 64, 67, 0.15);\n",
              "      fill: #174EA6;\n",
              "    }\n",
              "\n",
              "    .colab-df-buttons div {\n",
              "      margin-bottom: 4px;\n",
              "    }\n",
              "\n",
              "    [theme=dark] .colab-df-convert {\n",
              "      background-color: #3B4455;\n",
              "      fill: #D2E3FC;\n",
              "    }\n",
              "\n",
              "    [theme=dark] .colab-df-convert:hover {\n",
              "      background-color: #434B5C;\n",
              "      box-shadow: 0px 1px 3px 1px rgba(0, 0, 0, 0.15);\n",
              "      filter: drop-shadow(0px 1px 2px rgba(0, 0, 0, 0.3));\n",
              "      fill: #FFFFFF;\n",
              "    }\n",
              "  </style>\n",
              "\n",
              "    <script>\n",
              "      const buttonEl =\n",
              "        document.querySelector('#df-8186b541-0e31-402c-83e3-a1403ac54fed button.colab-df-convert');\n",
              "      buttonEl.style.display =\n",
              "        google.colab.kernel.accessAllowed ? 'block' : 'none';\n",
              "\n",
              "      async function convertToInteractive(key) {\n",
              "        const element = document.querySelector('#df-8186b541-0e31-402c-83e3-a1403ac54fed');\n",
              "        const dataTable =\n",
              "          await google.colab.kernel.invokeFunction('convertToInteractive',\n",
              "                                                    [key], {});\n",
              "        if (!dataTable) return;\n",
              "\n",
              "        const docLinkHtml = 'Like what you see? Visit the ' +\n",
              "          '<a target=\"_blank\" href=https://colab.research.google.com/notebooks/data_table.ipynb>data table notebook</a>'\n",
              "          + ' to learn more about interactive tables.';\n",
              "        element.innerHTML = '';\n",
              "        dataTable['output_type'] = 'display_data';\n",
              "        await google.colab.output.renderOutput(dataTable, element);\n",
              "        const docLink = document.createElement('div');\n",
              "        docLink.innerHTML = docLinkHtml;\n",
              "        element.appendChild(docLink);\n",
              "      }\n",
              "    </script>\n",
              "  </div>\n",
              "\n",
              "\n",
              "<div id=\"df-9c0efa53-deba-4cfb-998b-c9511f59e312\">\n",
              "  <button class=\"colab-df-quickchart\" onclick=\"quickchart('df-9c0efa53-deba-4cfb-998b-c9511f59e312')\"\n",
              "            title=\"Suggest charts\"\n",
              "            style=\"display:none;\">\n",
              "\n",
              "<svg xmlns=\"http://www.w3.org/2000/svg\" height=\"24px\"viewBox=\"0 0 24 24\"\n",
              "     width=\"24px\">\n",
              "    <g>\n",
              "        <path d=\"M19 3H5c-1.1 0-2 .9-2 2v14c0 1.1.9 2 2 2h14c1.1 0 2-.9 2-2V5c0-1.1-.9-2-2-2zM9 17H7v-7h2v7zm4 0h-2V7h2v10zm4 0h-2v-4h2v4z\"/>\n",
              "    </g>\n",
              "</svg>\n",
              "  </button>\n",
              "\n",
              "<style>\n",
              "  .colab-df-quickchart {\n",
              "      --bg-color: #E8F0FE;\n",
              "      --fill-color: #1967D2;\n",
              "      --hover-bg-color: #E2EBFA;\n",
              "      --hover-fill-color: #174EA6;\n",
              "      --disabled-fill-color: #AAA;\n",
              "      --disabled-bg-color: #DDD;\n",
              "  }\n",
              "\n",
              "  [theme=dark] .colab-df-quickchart {\n",
              "      --bg-color: #3B4455;\n",
              "      --fill-color: #D2E3FC;\n",
              "      --hover-bg-color: #434B5C;\n",
              "      --hover-fill-color: #FFFFFF;\n",
              "      --disabled-bg-color: #3B4455;\n",
              "      --disabled-fill-color: #666;\n",
              "  }\n",
              "\n",
              "  .colab-df-quickchart {\n",
              "    background-color: var(--bg-color);\n",
              "    border: none;\n",
              "    border-radius: 50%;\n",
              "    cursor: pointer;\n",
              "    display: none;\n",
              "    fill: var(--fill-color);\n",
              "    height: 32px;\n",
              "    padding: 0;\n",
              "    width: 32px;\n",
              "  }\n",
              "\n",
              "  .colab-df-quickchart:hover {\n",
              "    background-color: var(--hover-bg-color);\n",
              "    box-shadow: 0 1px 2px rgba(60, 64, 67, 0.3), 0 1px 3px 1px rgba(60, 64, 67, 0.15);\n",
              "    fill: var(--button-hover-fill-color);\n",
              "  }\n",
              "\n",
              "  .colab-df-quickchart-complete:disabled,\n",
              "  .colab-df-quickchart-complete:disabled:hover {\n",
              "    background-color: var(--disabled-bg-color);\n",
              "    fill: var(--disabled-fill-color);\n",
              "    box-shadow: none;\n",
              "  }\n",
              "\n",
              "  .colab-df-spinner {\n",
              "    border: 2px solid var(--fill-color);\n",
              "    border-color: transparent;\n",
              "    border-bottom-color: var(--fill-color);\n",
              "    animation:\n",
              "      spin 1s steps(1) infinite;\n",
              "  }\n",
              "\n",
              "  @keyframes spin {\n",
              "    0% {\n",
              "      border-color: transparent;\n",
              "      border-bottom-color: var(--fill-color);\n",
              "      border-left-color: var(--fill-color);\n",
              "    }\n",
              "    20% {\n",
              "      border-color: transparent;\n",
              "      border-left-color: var(--fill-color);\n",
              "      border-top-color: var(--fill-color);\n",
              "    }\n",
              "    30% {\n",
              "      border-color: transparent;\n",
              "      border-left-color: var(--fill-color);\n",
              "      border-top-color: var(--fill-color);\n",
              "      border-right-color: var(--fill-color);\n",
              "    }\n",
              "    40% {\n",
              "      border-color: transparent;\n",
              "      border-right-color: var(--fill-color);\n",
              "      border-top-color: var(--fill-color);\n",
              "    }\n",
              "    60% {\n",
              "      border-color: transparent;\n",
              "      border-right-color: var(--fill-color);\n",
              "    }\n",
              "    80% {\n",
              "      border-color: transparent;\n",
              "      border-right-color: var(--fill-color);\n",
              "      border-bottom-color: var(--fill-color);\n",
              "    }\n",
              "    90% {\n",
              "      border-color: transparent;\n",
              "      border-bottom-color: var(--fill-color);\n",
              "    }\n",
              "  }\n",
              "</style>\n",
              "\n",
              "  <script>\n",
              "    async function quickchart(key) {\n",
              "      const quickchartButtonEl =\n",
              "        document.querySelector('#' + key + ' button');\n",
              "      quickchartButtonEl.disabled = true;  // To prevent multiple clicks.\n",
              "      quickchartButtonEl.classList.add('colab-df-spinner');\n",
              "      try {\n",
              "        const charts = await google.colab.kernel.invokeFunction(\n",
              "            'suggestCharts', [key], {});\n",
              "      } catch (error) {\n",
              "        console.error('Error during call to suggestCharts:', error);\n",
              "      }\n",
              "      quickchartButtonEl.classList.remove('colab-df-spinner');\n",
              "      quickchartButtonEl.classList.add('colab-df-quickchart-complete');\n",
              "    }\n",
              "    (() => {\n",
              "      let quickchartButtonEl =\n",
              "        document.querySelector('#df-9c0efa53-deba-4cfb-998b-c9511f59e312 button');\n",
              "      quickchartButtonEl.style.display =\n",
              "        google.colab.kernel.accessAllowed ? 'block' : 'none';\n",
              "    })();\n",
              "  </script>\n",
              "</div>\n",
              "    </div>\n",
              "  </div>\n"
            ]
          },
          "metadata": {},
          "execution_count": 24
        }
      ]
    },
    {
      "cell_type": "markdown",
      "source": [
        "### Sueldo"
      ],
      "metadata": {
        "id": "-jkd8Nts7r2C"
      }
    },
    {
      "cell_type": "code",
      "source": [
        "def sueldoajustado(periodos, salarios, tipos_contrato):\n",
        "    adjusted = []\n",
        "\n",
        "    for periodo, salario, tipo_contrato in zip(periodos, salarios, tipos_contrato):\n",
        "        if periodo == \"YEARLY\":\n",
        "            yearly = salario\n",
        "        elif periodo == \"MONTHLY\":\n",
        "            yearly = salario * 12\n",
        "        elif periodo == \"HOURLY\":\n",
        "            if tipo_contrato in ['Part-time', 'Internship']:\n",
        "                yearly = salario * 4 * 5 * 52  # 4 horas por día, 5 días por semana, 52 semanas al año\n",
        "            else:\n",
        "                yearly = salario * 8 * 5 * 52  # 8 horas por día, 5 días por semana, 52 semanas al año\n",
        "        else:\n",
        "            yearly = salario  # Si el período no es reconocido, se asume que ya está en formato anual (YEARLY)\n",
        "\n",
        "        adjusted.append(yearly)\n",
        "\n",
        "    return adjusted"
      ],
      "metadata": {
        "id": "CZ4jrzn4nbgo"
      },
      "execution_count": null,
      "outputs": []
    },
    {
      "cell_type": "code",
      "source": [
        "base['min_salary'] = sueldoajustado(base['pay_period'], base['min_salary'], base['work_type'])\n",
        "base['max_salary'] = sueldoajustado(base['pay_period'], base['max_salary'], base['work_type'])"
      ],
      "metadata": {
        "id": "3a5x3dSqndjI"
      },
      "execution_count": null,
      "outputs": []
    },
    {
      "cell_type": "code",
      "source": [
        "base = base.drop(base.loc[base['min_salary'] < 10000].index)\n",
        "base = base.drop(base.loc[base['max_salary'] < 10000].index)\n",
        "base = base.drop('pay_period' , axis=1)"
      ],
      "metadata": {
        "id": "P187OSRh-eSy"
      },
      "execution_count": null,
      "outputs": []
    },
    {
      "cell_type": "markdown",
      "source": [
        "### Missings"
      ],
      "metadata": {
        "id": "ZJ-htmPLi3n-"
      }
    },
    {
      "cell_type": "code",
      "source": [
        "total = base.isnull().sum()\n",
        "total1 = base.isnull().sum().sort_values(ascending = False)\n",
        "percent = (base.isnull().sum() / base.isnull().count()).sort_values(ascending = False)\n",
        "missing_data = pd.concat([total1, percent], axis = 1, keys = ['Total', 'Percent'])\n",
        "missing_data"
      ],
      "metadata": {
        "colab": {
          "base_uri": "https://localhost:8080/",
          "height": 426
        },
        "id": "qREmLMkDibeB",
        "outputId": "2415b8fa-059a-4018-d320-b5c8a0099c0a"
      },
      "execution_count": null,
      "outputs": [
        {
          "output_type": "execute_result",
          "data": {
            "text/plain": [
              "             Total   Percent\n",
              "max_salary    8080  0.652086\n",
              "min_salary    8080  0.652086\n",
              "applies       5479  0.442176\n",
              "experience    2852  0.230167\n",
              "views         2143  0.172948\n",
              "company_id     320  0.025825\n",
              "job_id           0  0.000000\n",
              "title            0  0.000000\n",
              "description      0  0.000000\n",
              "work_type        0  0.000000\n",
              "location         0  0.000000\n",
              "position         0  0.000000"
            ],
            "text/html": [
              "\n",
              "  <div id=\"df-09b8d8af-c0d6-4afa-afd0-f188e456f80f\" class=\"colab-df-container\">\n",
              "    <div>\n",
              "<style scoped>\n",
              "    .dataframe tbody tr th:only-of-type {\n",
              "        vertical-align: middle;\n",
              "    }\n",
              "\n",
              "    .dataframe tbody tr th {\n",
              "        vertical-align: top;\n",
              "    }\n",
              "\n",
              "    .dataframe thead th {\n",
              "        text-align: right;\n",
              "    }\n",
              "</style>\n",
              "<table border=\"1\" class=\"dataframe\">\n",
              "  <thead>\n",
              "    <tr style=\"text-align: right;\">\n",
              "      <th></th>\n",
              "      <th>Total</th>\n",
              "      <th>Percent</th>\n",
              "    </tr>\n",
              "  </thead>\n",
              "  <tbody>\n",
              "    <tr>\n",
              "      <th>max_salary</th>\n",
              "      <td>8080</td>\n",
              "      <td>0.652086</td>\n",
              "    </tr>\n",
              "    <tr>\n",
              "      <th>min_salary</th>\n",
              "      <td>8080</td>\n",
              "      <td>0.652086</td>\n",
              "    </tr>\n",
              "    <tr>\n",
              "      <th>applies</th>\n",
              "      <td>5479</td>\n",
              "      <td>0.442176</td>\n",
              "    </tr>\n",
              "    <tr>\n",
              "      <th>experience</th>\n",
              "      <td>2852</td>\n",
              "      <td>0.230167</td>\n",
              "    </tr>\n",
              "    <tr>\n",
              "      <th>views</th>\n",
              "      <td>2143</td>\n",
              "      <td>0.172948</td>\n",
              "    </tr>\n",
              "    <tr>\n",
              "      <th>company_id</th>\n",
              "      <td>320</td>\n",
              "      <td>0.025825</td>\n",
              "    </tr>\n",
              "    <tr>\n",
              "      <th>job_id</th>\n",
              "      <td>0</td>\n",
              "      <td>0.000000</td>\n",
              "    </tr>\n",
              "    <tr>\n",
              "      <th>title</th>\n",
              "      <td>0</td>\n",
              "      <td>0.000000</td>\n",
              "    </tr>\n",
              "    <tr>\n",
              "      <th>description</th>\n",
              "      <td>0</td>\n",
              "      <td>0.000000</td>\n",
              "    </tr>\n",
              "    <tr>\n",
              "      <th>work_type</th>\n",
              "      <td>0</td>\n",
              "      <td>0.000000</td>\n",
              "    </tr>\n",
              "    <tr>\n",
              "      <th>location</th>\n",
              "      <td>0</td>\n",
              "      <td>0.000000</td>\n",
              "    </tr>\n",
              "    <tr>\n",
              "      <th>position</th>\n",
              "      <td>0</td>\n",
              "      <td>0.000000</td>\n",
              "    </tr>\n",
              "  </tbody>\n",
              "</table>\n",
              "</div>\n",
              "    <div class=\"colab-df-buttons\">\n",
              "\n",
              "  <div class=\"colab-df-container\">\n",
              "    <button class=\"colab-df-convert\" onclick=\"convertToInteractive('df-09b8d8af-c0d6-4afa-afd0-f188e456f80f')\"\n",
              "            title=\"Convert this dataframe to an interactive table.\"\n",
              "            style=\"display:none;\">\n",
              "\n",
              "  <svg xmlns=\"http://www.w3.org/2000/svg\" height=\"24px\" viewBox=\"0 -960 960 960\">\n",
              "    <path d=\"M120-120v-720h720v720H120Zm60-500h600v-160H180v160Zm220 220h160v-160H400v160Zm0 220h160v-160H400v160ZM180-400h160v-160H180v160Zm440 0h160v-160H620v160ZM180-180h160v-160H180v160Zm440 0h160v-160H620v160Z\"/>\n",
              "  </svg>\n",
              "    </button>\n",
              "\n",
              "  <style>\n",
              "    .colab-df-container {\n",
              "      display:flex;\n",
              "      gap: 12px;\n",
              "    }\n",
              "\n",
              "    .colab-df-convert {\n",
              "      background-color: #E8F0FE;\n",
              "      border: none;\n",
              "      border-radius: 50%;\n",
              "      cursor: pointer;\n",
              "      display: none;\n",
              "      fill: #1967D2;\n",
              "      height: 32px;\n",
              "      padding: 0 0 0 0;\n",
              "      width: 32px;\n",
              "    }\n",
              "\n",
              "    .colab-df-convert:hover {\n",
              "      background-color: #E2EBFA;\n",
              "      box-shadow: 0px 1px 2px rgba(60, 64, 67, 0.3), 0px 1px 3px 1px rgba(60, 64, 67, 0.15);\n",
              "      fill: #174EA6;\n",
              "    }\n",
              "\n",
              "    .colab-df-buttons div {\n",
              "      margin-bottom: 4px;\n",
              "    }\n",
              "\n",
              "    [theme=dark] .colab-df-convert {\n",
              "      background-color: #3B4455;\n",
              "      fill: #D2E3FC;\n",
              "    }\n",
              "\n",
              "    [theme=dark] .colab-df-convert:hover {\n",
              "      background-color: #434B5C;\n",
              "      box-shadow: 0px 1px 3px 1px rgba(0, 0, 0, 0.15);\n",
              "      filter: drop-shadow(0px 1px 2px rgba(0, 0, 0, 0.3));\n",
              "      fill: #FFFFFF;\n",
              "    }\n",
              "  </style>\n",
              "\n",
              "    <script>\n",
              "      const buttonEl =\n",
              "        document.querySelector('#df-09b8d8af-c0d6-4afa-afd0-f188e456f80f button.colab-df-convert');\n",
              "      buttonEl.style.display =\n",
              "        google.colab.kernel.accessAllowed ? 'block' : 'none';\n",
              "\n",
              "      async function convertToInteractive(key) {\n",
              "        const element = document.querySelector('#df-09b8d8af-c0d6-4afa-afd0-f188e456f80f');\n",
              "        const dataTable =\n",
              "          await google.colab.kernel.invokeFunction('convertToInteractive',\n",
              "                                                    [key], {});\n",
              "        if (!dataTable) return;\n",
              "\n",
              "        const docLinkHtml = 'Like what you see? Visit the ' +\n",
              "          '<a target=\"_blank\" href=https://colab.research.google.com/notebooks/data_table.ipynb>data table notebook</a>'\n",
              "          + ' to learn more about interactive tables.';\n",
              "        element.innerHTML = '';\n",
              "        dataTable['output_type'] = 'display_data';\n",
              "        await google.colab.output.renderOutput(dataTable, element);\n",
              "        const docLink = document.createElement('div');\n",
              "        docLink.innerHTML = docLinkHtml;\n",
              "        element.appendChild(docLink);\n",
              "      }\n",
              "    </script>\n",
              "  </div>\n",
              "\n",
              "\n",
              "<div id=\"df-8ccb57da-9220-41e1-8d5d-0b8650b54ab4\">\n",
              "  <button class=\"colab-df-quickchart\" onclick=\"quickchart('df-8ccb57da-9220-41e1-8d5d-0b8650b54ab4')\"\n",
              "            title=\"Suggest charts\"\n",
              "            style=\"display:none;\">\n",
              "\n",
              "<svg xmlns=\"http://www.w3.org/2000/svg\" height=\"24px\"viewBox=\"0 0 24 24\"\n",
              "     width=\"24px\">\n",
              "    <g>\n",
              "        <path d=\"M19 3H5c-1.1 0-2 .9-2 2v14c0 1.1.9 2 2 2h14c1.1 0 2-.9 2-2V5c0-1.1-.9-2-2-2zM9 17H7v-7h2v7zm4 0h-2V7h2v10zm4 0h-2v-4h2v4z\"/>\n",
              "    </g>\n",
              "</svg>\n",
              "  </button>\n",
              "\n",
              "<style>\n",
              "  .colab-df-quickchart {\n",
              "      --bg-color: #E8F0FE;\n",
              "      --fill-color: #1967D2;\n",
              "      --hover-bg-color: #E2EBFA;\n",
              "      --hover-fill-color: #174EA6;\n",
              "      --disabled-fill-color: #AAA;\n",
              "      --disabled-bg-color: #DDD;\n",
              "  }\n",
              "\n",
              "  [theme=dark] .colab-df-quickchart {\n",
              "      --bg-color: #3B4455;\n",
              "      --fill-color: #D2E3FC;\n",
              "      --hover-bg-color: #434B5C;\n",
              "      --hover-fill-color: #FFFFFF;\n",
              "      --disabled-bg-color: #3B4455;\n",
              "      --disabled-fill-color: #666;\n",
              "  }\n",
              "\n",
              "  .colab-df-quickchart {\n",
              "    background-color: var(--bg-color);\n",
              "    border: none;\n",
              "    border-radius: 50%;\n",
              "    cursor: pointer;\n",
              "    display: none;\n",
              "    fill: var(--fill-color);\n",
              "    height: 32px;\n",
              "    padding: 0;\n",
              "    width: 32px;\n",
              "  }\n",
              "\n",
              "  .colab-df-quickchart:hover {\n",
              "    background-color: var(--hover-bg-color);\n",
              "    box-shadow: 0 1px 2px rgba(60, 64, 67, 0.3), 0 1px 3px 1px rgba(60, 64, 67, 0.15);\n",
              "    fill: var(--button-hover-fill-color);\n",
              "  }\n",
              "\n",
              "  .colab-df-quickchart-complete:disabled,\n",
              "  .colab-df-quickchart-complete:disabled:hover {\n",
              "    background-color: var(--disabled-bg-color);\n",
              "    fill: var(--disabled-fill-color);\n",
              "    box-shadow: none;\n",
              "  }\n",
              "\n",
              "  .colab-df-spinner {\n",
              "    border: 2px solid var(--fill-color);\n",
              "    border-color: transparent;\n",
              "    border-bottom-color: var(--fill-color);\n",
              "    animation:\n",
              "      spin 1s steps(1) infinite;\n",
              "  }\n",
              "\n",
              "  @keyframes spin {\n",
              "    0% {\n",
              "      border-color: transparent;\n",
              "      border-bottom-color: var(--fill-color);\n",
              "      border-left-color: var(--fill-color);\n",
              "    }\n",
              "    20% {\n",
              "      border-color: transparent;\n",
              "      border-left-color: var(--fill-color);\n",
              "      border-top-color: var(--fill-color);\n",
              "    }\n",
              "    30% {\n",
              "      border-color: transparent;\n",
              "      border-left-color: var(--fill-color);\n",
              "      border-top-color: var(--fill-color);\n",
              "      border-right-color: var(--fill-color);\n",
              "    }\n",
              "    40% {\n",
              "      border-color: transparent;\n",
              "      border-right-color: var(--fill-color);\n",
              "      border-top-color: var(--fill-color);\n",
              "    }\n",
              "    60% {\n",
              "      border-color: transparent;\n",
              "      border-right-color: var(--fill-color);\n",
              "    }\n",
              "    80% {\n",
              "      border-color: transparent;\n",
              "      border-right-color: var(--fill-color);\n",
              "      border-bottom-color: var(--fill-color);\n",
              "    }\n",
              "    90% {\n",
              "      border-color: transparent;\n",
              "      border-bottom-color: var(--fill-color);\n",
              "    }\n",
              "  }\n",
              "</style>\n",
              "\n",
              "  <script>\n",
              "    async function quickchart(key) {\n",
              "      const quickchartButtonEl =\n",
              "        document.querySelector('#' + key + ' button');\n",
              "      quickchartButtonEl.disabled = true;  // To prevent multiple clicks.\n",
              "      quickchartButtonEl.classList.add('colab-df-spinner');\n",
              "      try {\n",
              "        const charts = await google.colab.kernel.invokeFunction(\n",
              "            'suggestCharts', [key], {});\n",
              "      } catch (error) {\n",
              "        console.error('Error during call to suggestCharts:', error);\n",
              "      }\n",
              "      quickchartButtonEl.classList.remove('colab-df-spinner');\n",
              "      quickchartButtonEl.classList.add('colab-df-quickchart-complete');\n",
              "    }\n",
              "    (() => {\n",
              "      let quickchartButtonEl =\n",
              "        document.querySelector('#df-8ccb57da-9220-41e1-8d5d-0b8650b54ab4 button');\n",
              "      quickchartButtonEl.style.display =\n",
              "        google.colab.kernel.accessAllowed ? 'block' : 'none';\n",
              "    })();\n",
              "  </script>\n",
              "</div>\n",
              "    </div>\n",
              "  </div>\n"
            ]
          },
          "metadata": {},
          "execution_count": 28
        }
      ]
    },
    {
      "cell_type": "code",
      "source": [
        "base = base.dropna(subset=['max_salary', 'min_salary', 'experience'], how='all')"
      ],
      "metadata": {
        "id": "TgmthwPIU92q"
      },
      "execution_count": null,
      "outputs": []
    },
    {
      "cell_type": "markdown",
      "source": [
        "***skills_desc*, *closed_time*, *med_salary*, *remote_allowed*** son variables que tienen más del 80% de sus registros nulos, por lo que se decide eliminar las mismas. Además no son pertinentes para el análisis que se quiere realizar"
      ],
      "metadata": {
        "id": "Ie5t4JXg8ET-"
      }
    },
    {
      "cell_type": "code",
      "source": [
        "# Reemplaza los valores faltantes en 'company_id' por la moda\n",
        "moda_company_id = base['company_id'].mode()[0]\n",
        "base['company_id'].fillna(moda_company_id, inplace=True)\n",
        "#en este caso imputamos por la moda ya que solo eran 2% de los datos y creemos que era lo mas sensato"
      ],
      "metadata": {
        "id": "VCf_d-ZFnnhR"
      },
      "execution_count": null,
      "outputs": []
    },
    {
      "cell_type": "code",
      "source": [
        "from scipy.stats import shapiro\n",
        "import numpy as np\n",
        "\n",
        "# Prueba de normalidad Shapiro-Wilk\n",
        "_, p_value = shapiro(base['applies'].dropna())\n",
        "\n",
        "if p_value < 0.05:\n",
        "    # Los datos no siguen una distribución normal\n",
        "    # Imputar por la mediana\n",
        "    median_value = np.median(base['applies'].dropna())\n",
        "    base['applies'] = base['applies'].fillna(median_value)\n",
        "    print(\"Imputado por mediana\")\n",
        "else:\n",
        "    # Los datos siguen una distribución normal\n",
        "    # Imputar por la media\n",
        "    mean_value = np.mean(base['applies'].dropna())\n",
        "    base['applies'] = base['applies'].fillna(mean_value)\n",
        "    print(\"Imputado por media\")"
      ],
      "metadata": {
        "colab": {
          "base_uri": "https://localhost:8080/"
        },
        "id": "6kqH8SfJ8li_",
        "outputId": "3a4fb62b-d67b-407f-d909-b353bfc97dd1"
      },
      "execution_count": null,
      "outputs": [
        {
          "output_type": "stream",
          "name": "stdout",
          "text": [
            "Imputado por mediana\n"
          ]
        }
      ]
    },
    {
      "cell_type": "code",
      "source": [
        "# Prueba de normalidad Shapiro-Wilk\n",
        "_, p_value = shapiro(base['views'].dropna())\n",
        "\n",
        "if p_value < 0.05:\n",
        "    # Los datos no siguen una distribución normal\n",
        "    # Imputar por la mediana\n",
        "    median_value = np.median(base['views'].dropna())\n",
        "    base['views'] = base['views'].fillna(median_value)\n",
        "    print(\"Imputado por mediana\")\n",
        "else:\n",
        "    # Los datos siguen una distribución normal\n",
        "    # Imputar por la media\n",
        "    mean_value = np.mean(base['views'].dropna())\n",
        "    base['views'] = base['views'].fillna(mean_value)\n",
        "    print(\"Imputado por media\")\n"
      ],
      "metadata": {
        "colab": {
          "base_uri": "https://localhost:8080/"
        },
        "id": "Mgrxk1og8nRK",
        "outputId": "5bd4a6ea-2c9e-489f-83e4-614ce372a7b4"
      },
      "execution_count": null,
      "outputs": [
        {
          "output_type": "stream",
          "name": "stdout",
          "text": [
            "Imputado por mediana\n"
          ]
        }
      ]
    },
    {
      "cell_type": "code",
      "source": [
        "import pandas as pd\n",
        "\n",
        "copia = base\n",
        "copia = copia[~copia['experience'].isnull()]\n",
        "\n",
        "# Supongamos que tienes un DataFrame llamado 'df'\n",
        "# Agrupa por 'work_type' y 'position' y calcula la moda de 'experience' si hay valores en el grupo\n",
        "experience_modes = copia.groupby(['work_type', 'position'])['experience'].agg(lambda x: x.mode().iat[0])"
      ],
      "metadata": {
        "id": "ZESjFZ0vyoeU"
      },
      "execution_count": null,
      "outputs": []
    },
    {
      "cell_type": "code",
      "source": [
        "# Itera a través de las filas del DataFrame\n",
        "for index, row in base[base['experience'].isnull()].iterrows():\n",
        "    work_type = row['work_type']\n",
        "    position = row['position']\n",
        "    if (work_type, position) in experience_modes:\n",
        "        base.at[index, 'experience'] = experience_modes[(work_type, position)]"
      ],
      "metadata": {
        "id": "uMZ_rm6rydkb"
      },
      "execution_count": null,
      "outputs": []
    },
    {
      "cell_type": "code",
      "source": [
        "base.isnull().sum()"
      ],
      "metadata": {
        "colab": {
          "base_uri": "https://localhost:8080/"
        },
        "id": "8VjdWB1o0smy",
        "outputId": "856f6f76-7e68-4cac-bc58-b8fbbe8bb450"
      },
      "execution_count": null,
      "outputs": [
        {
          "output_type": "execute_result",
          "data": {
            "text/plain": [
              "job_id            0\n",
              "company_id        0\n",
              "title             0\n",
              "description       0\n",
              "max_salary     6185\n",
              "min_salary     6185\n",
              "work_type         0\n",
              "location          0\n",
              "applies           0\n",
              "views             0\n",
              "experience      117\n",
              "position          0\n",
              "dtype: int64"
            ]
          },
          "metadata": {},
          "execution_count": 35
        }
      ]
    },
    {
      "cell_type": "code",
      "source": [
        "base[base['experience'].isnull()]"
      ],
      "metadata": {
        "colab": {
          "base_uri": "https://localhost:8080/",
          "height": 823
        },
        "id": "4ZCuwjBSYwxo",
        "outputId": "3a2a13f2-83c3-4c29-a2e0-90cf0b1e06d8"
      },
      "execution_count": null,
      "outputs": [
        {
          "output_type": "execute_result",
          "data": {
            "text/plain": [
              "           job_id  company_id                             title  \\\n",
              "8      1029078768     61469.0         register nurse vaccinator   \n",
              "48     3378133231  81149246.0     early education music teacher   \n",
              "52     3422104915  70803322.0                       audiologist   \n",
              "83     3635154108   2144424.0          team lead fashion island   \n",
              "89     3643371518  93094245.0                  graphic designer   \n",
              "...           ...         ...                               ...   \n",
              "14361  3701317055  18779256.0                     dean students   \n",
              "15022  3701324695    164244.0                    parttime tutor   \n",
              "15205  3701346296   3505052.0    physical therapist chevy chase   \n",
              "15359  3701363507   2847303.0       workers comp claim adjustor   \n",
              "15648  3701369805   7597308.0  manager core firmware validation   \n",
              "\n",
              "                                                                           description  \\\n",
              "8      register nurse vaccinator unite staff solutions partner one biggest covid va...   \n",
              "48     early education music teacher remote role applicants must base los angeles c...   \n",
              "52     audiologist send resume dtro partner comoccupation classification requiremen...   \n",
              "83     team lead fashion island salary hour descriptionreporting store manager team...   \n",
              "89     graphic designer station consult market firm dedicate support unique need ti...   \n",
              "...                                                                                ...   \n",
              "14361  dean students purpose statement dean school culture charge inspire teachers ...   \n",
              "15022  parttime tutor look work students huntington learn center livingston immedia...   \n",
              "15205  physical therapist chevy chase sign bonus excellent pay benefitssummary join...   \n",
              "15359  workers comp claim adjustor company overview enlyte family businesses mitche...   \n",
              "15648  manager core firmware validation role core firmware validation engineer mana...   \n",
              "\n",
              "       max_salary  min_salary  work_type                      location  \\\n",
              "8         52000.0     52000.0  Part-time                  Muskegon, MI   \n",
              "48        31200.0     22880.0  Part-time               Los Angeles, CA   \n",
              "52       100000.0     75000.0  Full-time                     Ocala, FL   \n",
              "83        22880.0     18720.0  Part-time             Newport Beach, CA   \n",
              "89        26000.0     20800.0  Part-time               Greater Orlando   \n",
              "...           ...         ...        ...                           ...   \n",
              "14361     75000.0     70000.0  Full-time  Washington DC-Baltimore Area   \n",
              "15022     20800.0     15600.0  Part-time                Livingston, NJ   \n",
              "15205    100000.0     80000.0  Full-time                   Wheaton, MD   \n",
              "15359     39520.0     37440.0  Full-time                Piscataway, NJ   \n",
              "15648    254000.0    200000.0  Full-time               Foster City, CA   \n",
              "\n",
              "       applies  views experience     position  \n",
              "8          6.0    4.0        NaN   vaccinator  \n",
              "48         6.0    2.0        NaN      teacher  \n",
              "52         1.0    6.0        NaN  audiologist  \n",
              "83         6.0    2.0        NaN       island  \n",
              "89       251.0  491.0        NaN     designer  \n",
              "...        ...    ...        ...          ...  \n",
              "14361     29.0   98.0        NaN     students  \n",
              "15022      1.0    4.0        NaN        tutor  \n",
              "15205      1.0   36.0        NaN        chase  \n",
              "15359      1.0    6.0        NaN     adjustor  \n",
              "15648      5.0   45.0        NaN   validation  \n",
              "\n",
              "[117 rows x 12 columns]"
            ],
            "text/html": [
              "\n",
              "  <div id=\"df-bd918533-bed2-45e3-81a9-1b9e1cd3a6f7\" class=\"colab-df-container\">\n",
              "    <div>\n",
              "<style scoped>\n",
              "    .dataframe tbody tr th:only-of-type {\n",
              "        vertical-align: middle;\n",
              "    }\n",
              "\n",
              "    .dataframe tbody tr th {\n",
              "        vertical-align: top;\n",
              "    }\n",
              "\n",
              "    .dataframe thead th {\n",
              "        text-align: right;\n",
              "    }\n",
              "</style>\n",
              "<table border=\"1\" class=\"dataframe\">\n",
              "  <thead>\n",
              "    <tr style=\"text-align: right;\">\n",
              "      <th></th>\n",
              "      <th>job_id</th>\n",
              "      <th>company_id</th>\n",
              "      <th>title</th>\n",
              "      <th>description</th>\n",
              "      <th>max_salary</th>\n",
              "      <th>min_salary</th>\n",
              "      <th>work_type</th>\n",
              "      <th>location</th>\n",
              "      <th>applies</th>\n",
              "      <th>views</th>\n",
              "      <th>experience</th>\n",
              "      <th>position</th>\n",
              "    </tr>\n",
              "  </thead>\n",
              "  <tbody>\n",
              "    <tr>\n",
              "      <th>8</th>\n",
              "      <td>1029078768</td>\n",
              "      <td>61469.0</td>\n",
              "      <td>register nurse vaccinator</td>\n",
              "      <td>register nurse vaccinator unite staff solutions partner one biggest covid va...</td>\n",
              "      <td>52000.0</td>\n",
              "      <td>52000.0</td>\n",
              "      <td>Part-time</td>\n",
              "      <td>Muskegon, MI</td>\n",
              "      <td>6.0</td>\n",
              "      <td>4.0</td>\n",
              "      <td>NaN</td>\n",
              "      <td>vaccinator</td>\n",
              "    </tr>\n",
              "    <tr>\n",
              "      <th>48</th>\n",
              "      <td>3378133231</td>\n",
              "      <td>81149246.0</td>\n",
              "      <td>early education music teacher</td>\n",
              "      <td>early education music teacher remote role applicants must base los angeles c...</td>\n",
              "      <td>31200.0</td>\n",
              "      <td>22880.0</td>\n",
              "      <td>Part-time</td>\n",
              "      <td>Los Angeles, CA</td>\n",
              "      <td>6.0</td>\n",
              "      <td>2.0</td>\n",
              "      <td>NaN</td>\n",
              "      <td>teacher</td>\n",
              "    </tr>\n",
              "    <tr>\n",
              "      <th>52</th>\n",
              "      <td>3422104915</td>\n",
              "      <td>70803322.0</td>\n",
              "      <td>audiologist</td>\n",
              "      <td>audiologist send resume dtro partner comoccupation classification requiremen...</td>\n",
              "      <td>100000.0</td>\n",
              "      <td>75000.0</td>\n",
              "      <td>Full-time</td>\n",
              "      <td>Ocala, FL</td>\n",
              "      <td>1.0</td>\n",
              "      <td>6.0</td>\n",
              "      <td>NaN</td>\n",
              "      <td>audiologist</td>\n",
              "    </tr>\n",
              "    <tr>\n",
              "      <th>83</th>\n",
              "      <td>3635154108</td>\n",
              "      <td>2144424.0</td>\n",
              "      <td>team lead fashion island</td>\n",
              "      <td>team lead fashion island salary hour descriptionreporting store manager team...</td>\n",
              "      <td>22880.0</td>\n",
              "      <td>18720.0</td>\n",
              "      <td>Part-time</td>\n",
              "      <td>Newport Beach, CA</td>\n",
              "      <td>6.0</td>\n",
              "      <td>2.0</td>\n",
              "      <td>NaN</td>\n",
              "      <td>island</td>\n",
              "    </tr>\n",
              "    <tr>\n",
              "      <th>89</th>\n",
              "      <td>3643371518</td>\n",
              "      <td>93094245.0</td>\n",
              "      <td>graphic designer</td>\n",
              "      <td>graphic designer station consult market firm dedicate support unique need ti...</td>\n",
              "      <td>26000.0</td>\n",
              "      <td>20800.0</td>\n",
              "      <td>Part-time</td>\n",
              "      <td>Greater Orlando</td>\n",
              "      <td>251.0</td>\n",
              "      <td>491.0</td>\n",
              "      <td>NaN</td>\n",
              "      <td>designer</td>\n",
              "    </tr>\n",
              "    <tr>\n",
              "      <th>...</th>\n",
              "      <td>...</td>\n",
              "      <td>...</td>\n",
              "      <td>...</td>\n",
              "      <td>...</td>\n",
              "      <td>...</td>\n",
              "      <td>...</td>\n",
              "      <td>...</td>\n",
              "      <td>...</td>\n",
              "      <td>...</td>\n",
              "      <td>...</td>\n",
              "      <td>...</td>\n",
              "      <td>...</td>\n",
              "    </tr>\n",
              "    <tr>\n",
              "      <th>14361</th>\n",
              "      <td>3701317055</td>\n",
              "      <td>18779256.0</td>\n",
              "      <td>dean students</td>\n",
              "      <td>dean students purpose statement dean school culture charge inspire teachers ...</td>\n",
              "      <td>75000.0</td>\n",
              "      <td>70000.0</td>\n",
              "      <td>Full-time</td>\n",
              "      <td>Washington DC-Baltimore Area</td>\n",
              "      <td>29.0</td>\n",
              "      <td>98.0</td>\n",
              "      <td>NaN</td>\n",
              "      <td>students</td>\n",
              "    </tr>\n",
              "    <tr>\n",
              "      <th>15022</th>\n",
              "      <td>3701324695</td>\n",
              "      <td>164244.0</td>\n",
              "      <td>parttime tutor</td>\n",
              "      <td>parttime tutor look work students huntington learn center livingston immedia...</td>\n",
              "      <td>20800.0</td>\n",
              "      <td>15600.0</td>\n",
              "      <td>Part-time</td>\n",
              "      <td>Livingston, NJ</td>\n",
              "      <td>1.0</td>\n",
              "      <td>4.0</td>\n",
              "      <td>NaN</td>\n",
              "      <td>tutor</td>\n",
              "    </tr>\n",
              "    <tr>\n",
              "      <th>15205</th>\n",
              "      <td>3701346296</td>\n",
              "      <td>3505052.0</td>\n",
              "      <td>physical therapist chevy chase</td>\n",
              "      <td>physical therapist chevy chase sign bonus excellent pay benefitssummary join...</td>\n",
              "      <td>100000.0</td>\n",
              "      <td>80000.0</td>\n",
              "      <td>Full-time</td>\n",
              "      <td>Wheaton, MD</td>\n",
              "      <td>1.0</td>\n",
              "      <td>36.0</td>\n",
              "      <td>NaN</td>\n",
              "      <td>chase</td>\n",
              "    </tr>\n",
              "    <tr>\n",
              "      <th>15359</th>\n",
              "      <td>3701363507</td>\n",
              "      <td>2847303.0</td>\n",
              "      <td>workers comp claim adjustor</td>\n",
              "      <td>workers comp claim adjustor company overview enlyte family businesses mitche...</td>\n",
              "      <td>39520.0</td>\n",
              "      <td>37440.0</td>\n",
              "      <td>Full-time</td>\n",
              "      <td>Piscataway, NJ</td>\n",
              "      <td>1.0</td>\n",
              "      <td>6.0</td>\n",
              "      <td>NaN</td>\n",
              "      <td>adjustor</td>\n",
              "    </tr>\n",
              "    <tr>\n",
              "      <th>15648</th>\n",
              "      <td>3701369805</td>\n",
              "      <td>7597308.0</td>\n",
              "      <td>manager core firmware validation</td>\n",
              "      <td>manager core firmware validation role core firmware validation engineer mana...</td>\n",
              "      <td>254000.0</td>\n",
              "      <td>200000.0</td>\n",
              "      <td>Full-time</td>\n",
              "      <td>Foster City, CA</td>\n",
              "      <td>5.0</td>\n",
              "      <td>45.0</td>\n",
              "      <td>NaN</td>\n",
              "      <td>validation</td>\n",
              "    </tr>\n",
              "  </tbody>\n",
              "</table>\n",
              "<p>117 rows × 12 columns</p>\n",
              "</div>\n",
              "    <div class=\"colab-df-buttons\">\n",
              "\n",
              "  <div class=\"colab-df-container\">\n",
              "    <button class=\"colab-df-convert\" onclick=\"convertToInteractive('df-bd918533-bed2-45e3-81a9-1b9e1cd3a6f7')\"\n",
              "            title=\"Convert this dataframe to an interactive table.\"\n",
              "            style=\"display:none;\">\n",
              "\n",
              "  <svg xmlns=\"http://www.w3.org/2000/svg\" height=\"24px\" viewBox=\"0 -960 960 960\">\n",
              "    <path d=\"M120-120v-720h720v720H120Zm60-500h600v-160H180v160Zm220 220h160v-160H400v160Zm0 220h160v-160H400v160ZM180-400h160v-160H180v160Zm440 0h160v-160H620v160ZM180-180h160v-160H180v160Zm440 0h160v-160H620v160Z\"/>\n",
              "  </svg>\n",
              "    </button>\n",
              "\n",
              "  <style>\n",
              "    .colab-df-container {\n",
              "      display:flex;\n",
              "      gap: 12px;\n",
              "    }\n",
              "\n",
              "    .colab-df-convert {\n",
              "      background-color: #E8F0FE;\n",
              "      border: none;\n",
              "      border-radius: 50%;\n",
              "      cursor: pointer;\n",
              "      display: none;\n",
              "      fill: #1967D2;\n",
              "      height: 32px;\n",
              "      padding: 0 0 0 0;\n",
              "      width: 32px;\n",
              "    }\n",
              "\n",
              "    .colab-df-convert:hover {\n",
              "      background-color: #E2EBFA;\n",
              "      box-shadow: 0px 1px 2px rgba(60, 64, 67, 0.3), 0px 1px 3px 1px rgba(60, 64, 67, 0.15);\n",
              "      fill: #174EA6;\n",
              "    }\n",
              "\n",
              "    .colab-df-buttons div {\n",
              "      margin-bottom: 4px;\n",
              "    }\n",
              "\n",
              "    [theme=dark] .colab-df-convert {\n",
              "      background-color: #3B4455;\n",
              "      fill: #D2E3FC;\n",
              "    }\n",
              "\n",
              "    [theme=dark] .colab-df-convert:hover {\n",
              "      background-color: #434B5C;\n",
              "      box-shadow: 0px 1px 3px 1px rgba(0, 0, 0, 0.15);\n",
              "      filter: drop-shadow(0px 1px 2px rgba(0, 0, 0, 0.3));\n",
              "      fill: #FFFFFF;\n",
              "    }\n",
              "  </style>\n",
              "\n",
              "    <script>\n",
              "      const buttonEl =\n",
              "        document.querySelector('#df-bd918533-bed2-45e3-81a9-1b9e1cd3a6f7 button.colab-df-convert');\n",
              "      buttonEl.style.display =\n",
              "        google.colab.kernel.accessAllowed ? 'block' : 'none';\n",
              "\n",
              "      async function convertToInteractive(key) {\n",
              "        const element = document.querySelector('#df-bd918533-bed2-45e3-81a9-1b9e1cd3a6f7');\n",
              "        const dataTable =\n",
              "          await google.colab.kernel.invokeFunction('convertToInteractive',\n",
              "                                                    [key], {});\n",
              "        if (!dataTable) return;\n",
              "\n",
              "        const docLinkHtml = 'Like what you see? Visit the ' +\n",
              "          '<a target=\"_blank\" href=https://colab.research.google.com/notebooks/data_table.ipynb>data table notebook</a>'\n",
              "          + ' to learn more about interactive tables.';\n",
              "        element.innerHTML = '';\n",
              "        dataTable['output_type'] = 'display_data';\n",
              "        await google.colab.output.renderOutput(dataTable, element);\n",
              "        const docLink = document.createElement('div');\n",
              "        docLink.innerHTML = docLinkHtml;\n",
              "        element.appendChild(docLink);\n",
              "      }\n",
              "    </script>\n",
              "  </div>\n",
              "\n",
              "\n",
              "<div id=\"df-dbfc3ec2-6bfb-4a2d-b755-8b1accc0ad4d\">\n",
              "  <button class=\"colab-df-quickchart\" onclick=\"quickchart('df-dbfc3ec2-6bfb-4a2d-b755-8b1accc0ad4d')\"\n",
              "            title=\"Suggest charts\"\n",
              "            style=\"display:none;\">\n",
              "\n",
              "<svg xmlns=\"http://www.w3.org/2000/svg\" height=\"24px\"viewBox=\"0 0 24 24\"\n",
              "     width=\"24px\">\n",
              "    <g>\n",
              "        <path d=\"M19 3H5c-1.1 0-2 .9-2 2v14c0 1.1.9 2 2 2h14c1.1 0 2-.9 2-2V5c0-1.1-.9-2-2-2zM9 17H7v-7h2v7zm4 0h-2V7h2v10zm4 0h-2v-4h2v4z\"/>\n",
              "    </g>\n",
              "</svg>\n",
              "  </button>\n",
              "\n",
              "<style>\n",
              "  .colab-df-quickchart {\n",
              "      --bg-color: #E8F0FE;\n",
              "      --fill-color: #1967D2;\n",
              "      --hover-bg-color: #E2EBFA;\n",
              "      --hover-fill-color: #174EA6;\n",
              "      --disabled-fill-color: #AAA;\n",
              "      --disabled-bg-color: #DDD;\n",
              "  }\n",
              "\n",
              "  [theme=dark] .colab-df-quickchart {\n",
              "      --bg-color: #3B4455;\n",
              "      --fill-color: #D2E3FC;\n",
              "      --hover-bg-color: #434B5C;\n",
              "      --hover-fill-color: #FFFFFF;\n",
              "      --disabled-bg-color: #3B4455;\n",
              "      --disabled-fill-color: #666;\n",
              "  }\n",
              "\n",
              "  .colab-df-quickchart {\n",
              "    background-color: var(--bg-color);\n",
              "    border: none;\n",
              "    border-radius: 50%;\n",
              "    cursor: pointer;\n",
              "    display: none;\n",
              "    fill: var(--fill-color);\n",
              "    height: 32px;\n",
              "    padding: 0;\n",
              "    width: 32px;\n",
              "  }\n",
              "\n",
              "  .colab-df-quickchart:hover {\n",
              "    background-color: var(--hover-bg-color);\n",
              "    box-shadow: 0 1px 2px rgba(60, 64, 67, 0.3), 0 1px 3px 1px rgba(60, 64, 67, 0.15);\n",
              "    fill: var(--button-hover-fill-color);\n",
              "  }\n",
              "\n",
              "  .colab-df-quickchart-complete:disabled,\n",
              "  .colab-df-quickchart-complete:disabled:hover {\n",
              "    background-color: var(--disabled-bg-color);\n",
              "    fill: var(--disabled-fill-color);\n",
              "    box-shadow: none;\n",
              "  }\n",
              "\n",
              "  .colab-df-spinner {\n",
              "    border: 2px solid var(--fill-color);\n",
              "    border-color: transparent;\n",
              "    border-bottom-color: var(--fill-color);\n",
              "    animation:\n",
              "      spin 1s steps(1) infinite;\n",
              "  }\n",
              "\n",
              "  @keyframes spin {\n",
              "    0% {\n",
              "      border-color: transparent;\n",
              "      border-bottom-color: var(--fill-color);\n",
              "      border-left-color: var(--fill-color);\n",
              "    }\n",
              "    20% {\n",
              "      border-color: transparent;\n",
              "      border-left-color: var(--fill-color);\n",
              "      border-top-color: var(--fill-color);\n",
              "    }\n",
              "    30% {\n",
              "      border-color: transparent;\n",
              "      border-left-color: var(--fill-color);\n",
              "      border-top-color: var(--fill-color);\n",
              "      border-right-color: var(--fill-color);\n",
              "    }\n",
              "    40% {\n",
              "      border-color: transparent;\n",
              "      border-right-color: var(--fill-color);\n",
              "      border-top-color: var(--fill-color);\n",
              "    }\n",
              "    60% {\n",
              "      border-color: transparent;\n",
              "      border-right-color: var(--fill-color);\n",
              "    }\n",
              "    80% {\n",
              "      border-color: transparent;\n",
              "      border-right-color: var(--fill-color);\n",
              "      border-bottom-color: var(--fill-color);\n",
              "    }\n",
              "    90% {\n",
              "      border-color: transparent;\n",
              "      border-bottom-color: var(--fill-color);\n",
              "    }\n",
              "  }\n",
              "</style>\n",
              "\n",
              "  <script>\n",
              "    async function quickchart(key) {\n",
              "      const quickchartButtonEl =\n",
              "        document.querySelector('#' + key + ' button');\n",
              "      quickchartButtonEl.disabled = true;  // To prevent multiple clicks.\n",
              "      quickchartButtonEl.classList.add('colab-df-spinner');\n",
              "      try {\n",
              "        const charts = await google.colab.kernel.invokeFunction(\n",
              "            'suggestCharts', [key], {});\n",
              "      } catch (error) {\n",
              "        console.error('Error during call to suggestCharts:', error);\n",
              "      }\n",
              "      quickchartButtonEl.classList.remove('colab-df-spinner');\n",
              "      quickchartButtonEl.classList.add('colab-df-quickchart-complete');\n",
              "    }\n",
              "    (() => {\n",
              "      let quickchartButtonEl =\n",
              "        document.querySelector('#df-dbfc3ec2-6bfb-4a2d-b755-8b1accc0ad4d button');\n",
              "      quickchartButtonEl.style.display =\n",
              "        google.colab.kernel.accessAllowed ? 'block' : 'none';\n",
              "    })();\n",
              "  </script>\n",
              "</div>\n",
              "    </div>\n",
              "  </div>\n"
            ]
          },
          "metadata": {},
          "execution_count": 36
        }
      ]
    },
    {
      "cell_type": "code",
      "source": [
        "# no reconoce esa posicion\n",
        "base = base.dropna(subset=['experience'])"
      ],
      "metadata": {
        "id": "PwQrFnUb1Sdq"
      },
      "execution_count": null,
      "outputs": []
    },
    {
      "cell_type": "code",
      "source": [
        "unique_domains = base['experience'].unique()\n",
        "print(unique_domains)"
      ],
      "metadata": {
        "id": "fZy5zEvTWiOh",
        "colab": {
          "base_uri": "https://localhost:8080/"
        },
        "outputId": "8758597a-2455-4bd7-a6d9-d58076d8bca9"
      },
      "execution_count": null,
      "outputs": [
        {
          "output_type": "stream",
          "name": "stdout",
          "text": [
            "['Entry level' 'Executive' 'Director' 'Mid-Senior level' 'Internship'\n",
            " 'Associate']\n"
          ]
        }
      ]
    },
    {
      "cell_type": "markdown",
      "source": [
        "Variables ***max_salary* , *min_salary***: se imputan los nulos con la mediana de cada una de las variables respectivamente"
      ],
      "metadata": {
        "id": "pbKRuQ-W8-1N"
      }
    },
    {
      "cell_type": "code",
      "source": [
        "filtrado = base[~base['min_salary'].isnull()]\n",
        "filtrado = filtrado.groupby(['work_type', 'experience', 'position'])[['min_salary', 'max_salary']].mean().reset_index()"
      ],
      "metadata": {
        "id": "yeVEp0kd0ryU"
      },
      "execution_count": null,
      "outputs": []
    },
    {
      "cell_type": "code",
      "source": [
        "filtrado.rename(columns={'min_salary': 'minimo', 'max_salary': 'maximo'}, inplace=True)\n",
        "filtrado"
      ],
      "metadata": {
        "colab": {
          "base_uri": "https://localhost:8080/",
          "height": 424
        },
        "id": "xWl0MYLIGvUT",
        "outputId": "2e062c41-c20f-4979-b0c1-a0313627dd98"
      },
      "execution_count": null,
      "outputs": [
        {
          "output_type": "execute_result",
          "data": {
            "text/plain": [
              "      work_type        experience    position    minimo    maximo\n",
              "0     Full-time         Associate      210672   75000.0   95000.0\n",
              "1     Full-time         Associate       26324  110000.0  190000.0\n",
              "2     Full-time         Associate       75474   60000.0   75000.0\n",
              "3     Full-time         Associate      access   79356.0  120000.0\n",
              "4     Full-time         Associate     account  120000.0  120000.0\n",
              "...         ...               ...         ...       ...       ...\n",
              "998   Part-time  Mid-Senior level      rotate   65582.4   73850.4\n",
              "999   Part-time  Mid-Senior level       shift   52041.6   80641.6\n",
              "1000  Part-time  Mid-Senior level  specialist   17160.0   27040.0\n",
              "1001  Part-time  Mid-Senior level  supervisor   17742.4   33280.0\n",
              "1002  Part-time  Mid-Senior level     trainer   17680.0   24440.0\n",
              "\n",
              "[1003 rows x 5 columns]"
            ],
            "text/html": [
              "\n",
              "  <div id=\"df-c3e0a4c5-21f3-4e97-8356-a2561b10c960\" class=\"colab-df-container\">\n",
              "    <div>\n",
              "<style scoped>\n",
              "    .dataframe tbody tr th:only-of-type {\n",
              "        vertical-align: middle;\n",
              "    }\n",
              "\n",
              "    .dataframe tbody tr th {\n",
              "        vertical-align: top;\n",
              "    }\n",
              "\n",
              "    .dataframe thead th {\n",
              "        text-align: right;\n",
              "    }\n",
              "</style>\n",
              "<table border=\"1\" class=\"dataframe\">\n",
              "  <thead>\n",
              "    <tr style=\"text-align: right;\">\n",
              "      <th></th>\n",
              "      <th>work_type</th>\n",
              "      <th>experience</th>\n",
              "      <th>position</th>\n",
              "      <th>minimo</th>\n",
              "      <th>maximo</th>\n",
              "    </tr>\n",
              "  </thead>\n",
              "  <tbody>\n",
              "    <tr>\n",
              "      <th>0</th>\n",
              "      <td>Full-time</td>\n",
              "      <td>Associate</td>\n",
              "      <td>210672</td>\n",
              "      <td>75000.0</td>\n",
              "      <td>95000.0</td>\n",
              "    </tr>\n",
              "    <tr>\n",
              "      <th>1</th>\n",
              "      <td>Full-time</td>\n",
              "      <td>Associate</td>\n",
              "      <td>26324</td>\n",
              "      <td>110000.0</td>\n",
              "      <td>190000.0</td>\n",
              "    </tr>\n",
              "    <tr>\n",
              "      <th>2</th>\n",
              "      <td>Full-time</td>\n",
              "      <td>Associate</td>\n",
              "      <td>75474</td>\n",
              "      <td>60000.0</td>\n",
              "      <td>75000.0</td>\n",
              "    </tr>\n",
              "    <tr>\n",
              "      <th>3</th>\n",
              "      <td>Full-time</td>\n",
              "      <td>Associate</td>\n",
              "      <td>access</td>\n",
              "      <td>79356.0</td>\n",
              "      <td>120000.0</td>\n",
              "    </tr>\n",
              "    <tr>\n",
              "      <th>4</th>\n",
              "      <td>Full-time</td>\n",
              "      <td>Associate</td>\n",
              "      <td>account</td>\n",
              "      <td>120000.0</td>\n",
              "      <td>120000.0</td>\n",
              "    </tr>\n",
              "    <tr>\n",
              "      <th>...</th>\n",
              "      <td>...</td>\n",
              "      <td>...</td>\n",
              "      <td>...</td>\n",
              "      <td>...</td>\n",
              "      <td>...</td>\n",
              "    </tr>\n",
              "    <tr>\n",
              "      <th>998</th>\n",
              "      <td>Part-time</td>\n",
              "      <td>Mid-Senior level</td>\n",
              "      <td>rotate</td>\n",
              "      <td>65582.4</td>\n",
              "      <td>73850.4</td>\n",
              "    </tr>\n",
              "    <tr>\n",
              "      <th>999</th>\n",
              "      <td>Part-time</td>\n",
              "      <td>Mid-Senior level</td>\n",
              "      <td>shift</td>\n",
              "      <td>52041.6</td>\n",
              "      <td>80641.6</td>\n",
              "    </tr>\n",
              "    <tr>\n",
              "      <th>1000</th>\n",
              "      <td>Part-time</td>\n",
              "      <td>Mid-Senior level</td>\n",
              "      <td>specialist</td>\n",
              "      <td>17160.0</td>\n",
              "      <td>27040.0</td>\n",
              "    </tr>\n",
              "    <tr>\n",
              "      <th>1001</th>\n",
              "      <td>Part-time</td>\n",
              "      <td>Mid-Senior level</td>\n",
              "      <td>supervisor</td>\n",
              "      <td>17742.4</td>\n",
              "      <td>33280.0</td>\n",
              "    </tr>\n",
              "    <tr>\n",
              "      <th>1002</th>\n",
              "      <td>Part-time</td>\n",
              "      <td>Mid-Senior level</td>\n",
              "      <td>trainer</td>\n",
              "      <td>17680.0</td>\n",
              "      <td>24440.0</td>\n",
              "    </tr>\n",
              "  </tbody>\n",
              "</table>\n",
              "<p>1003 rows × 5 columns</p>\n",
              "</div>\n",
              "    <div class=\"colab-df-buttons\">\n",
              "\n",
              "  <div class=\"colab-df-container\">\n",
              "    <button class=\"colab-df-convert\" onclick=\"convertToInteractive('df-c3e0a4c5-21f3-4e97-8356-a2561b10c960')\"\n",
              "            title=\"Convert this dataframe to an interactive table.\"\n",
              "            style=\"display:none;\">\n",
              "\n",
              "  <svg xmlns=\"http://www.w3.org/2000/svg\" height=\"24px\" viewBox=\"0 -960 960 960\">\n",
              "    <path d=\"M120-120v-720h720v720H120Zm60-500h600v-160H180v160Zm220 220h160v-160H400v160Zm0 220h160v-160H400v160ZM180-400h160v-160H180v160Zm440 0h160v-160H620v160ZM180-180h160v-160H180v160Zm440 0h160v-160H620v160Z\"/>\n",
              "  </svg>\n",
              "    </button>\n",
              "\n",
              "  <style>\n",
              "    .colab-df-container {\n",
              "      display:flex;\n",
              "      gap: 12px;\n",
              "    }\n",
              "\n",
              "    .colab-df-convert {\n",
              "      background-color: #E8F0FE;\n",
              "      border: none;\n",
              "      border-radius: 50%;\n",
              "      cursor: pointer;\n",
              "      display: none;\n",
              "      fill: #1967D2;\n",
              "      height: 32px;\n",
              "      padding: 0 0 0 0;\n",
              "      width: 32px;\n",
              "    }\n",
              "\n",
              "    .colab-df-convert:hover {\n",
              "      background-color: #E2EBFA;\n",
              "      box-shadow: 0px 1px 2px rgba(60, 64, 67, 0.3), 0px 1px 3px 1px rgba(60, 64, 67, 0.15);\n",
              "      fill: #174EA6;\n",
              "    }\n",
              "\n",
              "    .colab-df-buttons div {\n",
              "      margin-bottom: 4px;\n",
              "    }\n",
              "\n",
              "    [theme=dark] .colab-df-convert {\n",
              "      background-color: #3B4455;\n",
              "      fill: #D2E3FC;\n",
              "    }\n",
              "\n",
              "    [theme=dark] .colab-df-convert:hover {\n",
              "      background-color: #434B5C;\n",
              "      box-shadow: 0px 1px 3px 1px rgba(0, 0, 0, 0.15);\n",
              "      filter: drop-shadow(0px 1px 2px rgba(0, 0, 0, 0.3));\n",
              "      fill: #FFFFFF;\n",
              "    }\n",
              "  </style>\n",
              "\n",
              "    <script>\n",
              "      const buttonEl =\n",
              "        document.querySelector('#df-c3e0a4c5-21f3-4e97-8356-a2561b10c960 button.colab-df-convert');\n",
              "      buttonEl.style.display =\n",
              "        google.colab.kernel.accessAllowed ? 'block' : 'none';\n",
              "\n",
              "      async function convertToInteractive(key) {\n",
              "        const element = document.querySelector('#df-c3e0a4c5-21f3-4e97-8356-a2561b10c960');\n",
              "        const dataTable =\n",
              "          await google.colab.kernel.invokeFunction('convertToInteractive',\n",
              "                                                    [key], {});\n",
              "        if (!dataTable) return;\n",
              "\n",
              "        const docLinkHtml = 'Like what you see? Visit the ' +\n",
              "          '<a target=\"_blank\" href=https://colab.research.google.com/notebooks/data_table.ipynb>data table notebook</a>'\n",
              "          + ' to learn more about interactive tables.';\n",
              "        element.innerHTML = '';\n",
              "        dataTable['output_type'] = 'display_data';\n",
              "        await google.colab.output.renderOutput(dataTable, element);\n",
              "        const docLink = document.createElement('div');\n",
              "        docLink.innerHTML = docLinkHtml;\n",
              "        element.appendChild(docLink);\n",
              "      }\n",
              "    </script>\n",
              "  </div>\n",
              "\n",
              "\n",
              "<div id=\"df-942c1c47-1a38-4b39-90e0-e0c614265b9b\">\n",
              "  <button class=\"colab-df-quickchart\" onclick=\"quickchart('df-942c1c47-1a38-4b39-90e0-e0c614265b9b')\"\n",
              "            title=\"Suggest charts\"\n",
              "            style=\"display:none;\">\n",
              "\n",
              "<svg xmlns=\"http://www.w3.org/2000/svg\" height=\"24px\"viewBox=\"0 0 24 24\"\n",
              "     width=\"24px\">\n",
              "    <g>\n",
              "        <path d=\"M19 3H5c-1.1 0-2 .9-2 2v14c0 1.1.9 2 2 2h14c1.1 0 2-.9 2-2V5c0-1.1-.9-2-2-2zM9 17H7v-7h2v7zm4 0h-2V7h2v10zm4 0h-2v-4h2v4z\"/>\n",
              "    </g>\n",
              "</svg>\n",
              "  </button>\n",
              "\n",
              "<style>\n",
              "  .colab-df-quickchart {\n",
              "      --bg-color: #E8F0FE;\n",
              "      --fill-color: #1967D2;\n",
              "      --hover-bg-color: #E2EBFA;\n",
              "      --hover-fill-color: #174EA6;\n",
              "      --disabled-fill-color: #AAA;\n",
              "      --disabled-bg-color: #DDD;\n",
              "  }\n",
              "\n",
              "  [theme=dark] .colab-df-quickchart {\n",
              "      --bg-color: #3B4455;\n",
              "      --fill-color: #D2E3FC;\n",
              "      --hover-bg-color: #434B5C;\n",
              "      --hover-fill-color: #FFFFFF;\n",
              "      --disabled-bg-color: #3B4455;\n",
              "      --disabled-fill-color: #666;\n",
              "  }\n",
              "\n",
              "  .colab-df-quickchart {\n",
              "    background-color: var(--bg-color);\n",
              "    border: none;\n",
              "    border-radius: 50%;\n",
              "    cursor: pointer;\n",
              "    display: none;\n",
              "    fill: var(--fill-color);\n",
              "    height: 32px;\n",
              "    padding: 0;\n",
              "    width: 32px;\n",
              "  }\n",
              "\n",
              "  .colab-df-quickchart:hover {\n",
              "    background-color: var(--hover-bg-color);\n",
              "    box-shadow: 0 1px 2px rgba(60, 64, 67, 0.3), 0 1px 3px 1px rgba(60, 64, 67, 0.15);\n",
              "    fill: var(--button-hover-fill-color);\n",
              "  }\n",
              "\n",
              "  .colab-df-quickchart-complete:disabled,\n",
              "  .colab-df-quickchart-complete:disabled:hover {\n",
              "    background-color: var(--disabled-bg-color);\n",
              "    fill: var(--disabled-fill-color);\n",
              "    box-shadow: none;\n",
              "  }\n",
              "\n",
              "  .colab-df-spinner {\n",
              "    border: 2px solid var(--fill-color);\n",
              "    border-color: transparent;\n",
              "    border-bottom-color: var(--fill-color);\n",
              "    animation:\n",
              "      spin 1s steps(1) infinite;\n",
              "  }\n",
              "\n",
              "  @keyframes spin {\n",
              "    0% {\n",
              "      border-color: transparent;\n",
              "      border-bottom-color: var(--fill-color);\n",
              "      border-left-color: var(--fill-color);\n",
              "    }\n",
              "    20% {\n",
              "      border-color: transparent;\n",
              "      border-left-color: var(--fill-color);\n",
              "      border-top-color: var(--fill-color);\n",
              "    }\n",
              "    30% {\n",
              "      border-color: transparent;\n",
              "      border-left-color: var(--fill-color);\n",
              "      border-top-color: var(--fill-color);\n",
              "      border-right-color: var(--fill-color);\n",
              "    }\n",
              "    40% {\n",
              "      border-color: transparent;\n",
              "      border-right-color: var(--fill-color);\n",
              "      border-top-color: var(--fill-color);\n",
              "    }\n",
              "    60% {\n",
              "      border-color: transparent;\n",
              "      border-right-color: var(--fill-color);\n",
              "    }\n",
              "    80% {\n",
              "      border-color: transparent;\n",
              "      border-right-color: var(--fill-color);\n",
              "      border-bottom-color: var(--fill-color);\n",
              "    }\n",
              "    90% {\n",
              "      border-color: transparent;\n",
              "      border-bottom-color: var(--fill-color);\n",
              "    }\n",
              "  }\n",
              "</style>\n",
              "\n",
              "  <script>\n",
              "    async function quickchart(key) {\n",
              "      const quickchartButtonEl =\n",
              "        document.querySelector('#' + key + ' button');\n",
              "      quickchartButtonEl.disabled = true;  // To prevent multiple clicks.\n",
              "      quickchartButtonEl.classList.add('colab-df-spinner');\n",
              "      try {\n",
              "        const charts = await google.colab.kernel.invokeFunction(\n",
              "            'suggestCharts', [key], {});\n",
              "      } catch (error) {\n",
              "        console.error('Error during call to suggestCharts:', error);\n",
              "      }\n",
              "      quickchartButtonEl.classList.remove('colab-df-spinner');\n",
              "      quickchartButtonEl.classList.add('colab-df-quickchart-complete');\n",
              "    }\n",
              "    (() => {\n",
              "      let quickchartButtonEl =\n",
              "        document.querySelector('#df-942c1c47-1a38-4b39-90e0-e0c614265b9b button');\n",
              "      quickchartButtonEl.style.display =\n",
              "        google.colab.kernel.accessAllowed ? 'block' : 'none';\n",
              "    })();\n",
              "  </script>\n",
              "</div>\n",
              "    </div>\n",
              "  </div>\n"
            ]
          },
          "metadata": {},
          "execution_count": 40
        }
      ]
    },
    {
      "cell_type": "code",
      "source": [
        "# Unir las tablas por las columnas 'columna1', 'columna2' y 'columna3'\n",
        "base = base.merge(filtrado, on=['work_type', 'experience', 'position'], how='left')\n",
        "base['max_salary'].fillna(base['maximo'], inplace=True)\n",
        "base['min_salary'].fillna(base['minimo'], inplace=True)\n",
        "\n",
        "base = base.drop('maximo', axis=1)\n",
        "base = base.drop('minimo', axis=1)"
      ],
      "metadata": {
        "id": "EEBdtotbM8mM"
      },
      "execution_count": null,
      "outputs": []
    },
    {
      "cell_type": "code",
      "source": [
        "print(base['min_salary'].isnull().sum())\n",
        "print(base['max_salary'].isnull().sum())"
      ],
      "metadata": {
        "colab": {
          "base_uri": "https://localhost:8080/"
        },
        "id": "7KMQcd4JOpTn",
        "outputId": "0294471e-e4bc-4535-90f7-3749f8c4cceb"
      },
      "execution_count": null,
      "outputs": [
        {
          "output_type": "stream",
          "name": "stdout",
          "text": [
            "1713\n",
            "1713\n"
          ]
        }
      ]
    },
    {
      "cell_type": "code",
      "source": [
        "filtrado = base[~base['min_salary'].isnull()]\n",
        "filtrado = filtrado.groupby(['work_type', 'experience'])[['min_salary', 'max_salary']].mean().reset_index()\n",
        "filtrado.rename(columns={'min_salary': 'minimo', 'max_salary': 'maximo'}, inplace=True)\n",
        "\n",
        "# Unir las tablas por las columnas 'columna1', 'columna2' y 'columna3'\n",
        "base = base.merge(filtrado, on=['work_type', 'experience'], how='left')\n",
        "base['max_salary'].fillna(base['maximo'], inplace=True)\n",
        "base['min_salary'].fillna(base['minimo'], inplace=True)\n",
        "\n",
        "base = base.drop('maximo', axis=1)\n",
        "base = base.drop('minimo', axis=1)"
      ],
      "metadata": {
        "id": "4rI5_ZnpBwAd"
      },
      "execution_count": null,
      "outputs": []
    },
    {
      "cell_type": "code",
      "source": [
        "print(base['min_salary'].isnull().sum())\n",
        "print(base['max_salary'].isnull().sum())"
      ],
      "metadata": {
        "colab": {
          "base_uri": "https://localhost:8080/"
        },
        "id": "PUbsMpy7QtEP",
        "outputId": "4ce7ca64-734c-422e-e7fa-c2efb83f8b53"
      },
      "execution_count": null,
      "outputs": [
        {
          "output_type": "stream",
          "name": "stdout",
          "text": [
            "7\n",
            "7\n"
          ]
        }
      ]
    },
    {
      "cell_type": "code",
      "source": [
        "base[base['min_salary'].isnull()].head(10)"
      ],
      "metadata": {
        "colab": {
          "base_uri": "https://localhost:8080/",
          "height": 512
        },
        "id": "GxVIF9ZlB3zK",
        "outputId": "91ea6eee-04a5-4b5f-8ab7-fc21b1abc7bd"
      },
      "execution_count": null,
      "outputs": [
        {
          "output_type": "execute_result",
          "data": {
            "text/plain": [
              "          job_id  company_id                                   title  \\\n",
              "88    3690671407  54945276.0  opportunity private practice therapist   \n",
              "3048  3693587126     23383.0                          civil engineer   \n",
              "3565  3694101312  68672685.0             assistant interior designer   \n",
              "4204  3694118631  76073934.0                               assistant   \n",
              "6307  3699054847      4060.0                           night cleaner   \n",
              "6484  3699059102      4060.0                           night cleaner   \n",
              "9886  3701336367  22330287.0                senior financial auditor   \n",
              "\n",
              "                                                                          description  \\\n",
              "88    opportunity private practice therapist east lyme psychological associate see...   \n",
              "3048  civil engineer langan provide expert land development engineer environmental...   \n",
              "3565  assistant interior designer internship month internship assistant interior d...   \n",
              "4204  assistant look virtual assistant help plan weekly meet schedule content help...   \n",
              "6307  night cleaner job title night cleaner job description summary painter perfor...   \n",
              "6484  night cleaner job title night cleaner job description summary painter perfor...   \n",
              "9886  senior financial auditor company information legend biotech global biotechno...   \n",
              "\n",
              "      max_salary  min_salary   work_type       location  applies  views  \\\n",
              "88           NaN         NaN       Other  East Lyme, CT      1.0   80.0   \n",
              "3048         NaN         NaN  Internship     Austin, TX      6.0    2.0   \n",
              "3565         NaN         NaN  Internship  Montclair, NJ      8.0   22.0   \n",
              "4204         NaN         NaN  Internship  United States      6.0   24.0   \n",
              "6307         NaN         NaN  Internship     Joliet, IL      6.0    2.0   \n",
              "6484         NaN         NaN  Internship      Plano, TX      6.0    1.0   \n",
              "9886         NaN         NaN  Internship   Somerset, NJ      3.0   19.0   \n",
              "\n",
              "       experience   position  \n",
              "88     Internship  therapist  \n",
              "3048  Entry level   engineer  \n",
              "3565  Entry level   designer  \n",
              "4204  Entry level  assistant  \n",
              "6307  Entry level    cleaner  \n",
              "6484  Entry level    cleaner  \n",
              "9886     Director    auditor  "
            ],
            "text/html": [
              "\n",
              "  <div id=\"df-2bd065ac-fe77-440a-96e8-66df50847fd6\" class=\"colab-df-container\">\n",
              "    <div>\n",
              "<style scoped>\n",
              "    .dataframe tbody tr th:only-of-type {\n",
              "        vertical-align: middle;\n",
              "    }\n",
              "\n",
              "    .dataframe tbody tr th {\n",
              "        vertical-align: top;\n",
              "    }\n",
              "\n",
              "    .dataframe thead th {\n",
              "        text-align: right;\n",
              "    }\n",
              "</style>\n",
              "<table border=\"1\" class=\"dataframe\">\n",
              "  <thead>\n",
              "    <tr style=\"text-align: right;\">\n",
              "      <th></th>\n",
              "      <th>job_id</th>\n",
              "      <th>company_id</th>\n",
              "      <th>title</th>\n",
              "      <th>description</th>\n",
              "      <th>max_salary</th>\n",
              "      <th>min_salary</th>\n",
              "      <th>work_type</th>\n",
              "      <th>location</th>\n",
              "      <th>applies</th>\n",
              "      <th>views</th>\n",
              "      <th>experience</th>\n",
              "      <th>position</th>\n",
              "    </tr>\n",
              "  </thead>\n",
              "  <tbody>\n",
              "    <tr>\n",
              "      <th>88</th>\n",
              "      <td>3690671407</td>\n",
              "      <td>54945276.0</td>\n",
              "      <td>opportunity private practice therapist</td>\n",
              "      <td>opportunity private practice therapist east lyme psychological associate see...</td>\n",
              "      <td>NaN</td>\n",
              "      <td>NaN</td>\n",
              "      <td>Other</td>\n",
              "      <td>East Lyme, CT</td>\n",
              "      <td>1.0</td>\n",
              "      <td>80.0</td>\n",
              "      <td>Internship</td>\n",
              "      <td>therapist</td>\n",
              "    </tr>\n",
              "    <tr>\n",
              "      <th>3048</th>\n",
              "      <td>3693587126</td>\n",
              "      <td>23383.0</td>\n",
              "      <td>civil engineer</td>\n",
              "      <td>civil engineer langan provide expert land development engineer environmental...</td>\n",
              "      <td>NaN</td>\n",
              "      <td>NaN</td>\n",
              "      <td>Internship</td>\n",
              "      <td>Austin, TX</td>\n",
              "      <td>6.0</td>\n",
              "      <td>2.0</td>\n",
              "      <td>Entry level</td>\n",
              "      <td>engineer</td>\n",
              "    </tr>\n",
              "    <tr>\n",
              "      <th>3565</th>\n",
              "      <td>3694101312</td>\n",
              "      <td>68672685.0</td>\n",
              "      <td>assistant interior designer</td>\n",
              "      <td>assistant interior designer internship month internship assistant interior d...</td>\n",
              "      <td>NaN</td>\n",
              "      <td>NaN</td>\n",
              "      <td>Internship</td>\n",
              "      <td>Montclair, NJ</td>\n",
              "      <td>8.0</td>\n",
              "      <td>22.0</td>\n",
              "      <td>Entry level</td>\n",
              "      <td>designer</td>\n",
              "    </tr>\n",
              "    <tr>\n",
              "      <th>4204</th>\n",
              "      <td>3694118631</td>\n",
              "      <td>76073934.0</td>\n",
              "      <td>assistant</td>\n",
              "      <td>assistant look virtual assistant help plan weekly meet schedule content help...</td>\n",
              "      <td>NaN</td>\n",
              "      <td>NaN</td>\n",
              "      <td>Internship</td>\n",
              "      <td>United States</td>\n",
              "      <td>6.0</td>\n",
              "      <td>24.0</td>\n",
              "      <td>Entry level</td>\n",
              "      <td>assistant</td>\n",
              "    </tr>\n",
              "    <tr>\n",
              "      <th>6307</th>\n",
              "      <td>3699054847</td>\n",
              "      <td>4060.0</td>\n",
              "      <td>night cleaner</td>\n",
              "      <td>night cleaner job title night cleaner job description summary painter perfor...</td>\n",
              "      <td>NaN</td>\n",
              "      <td>NaN</td>\n",
              "      <td>Internship</td>\n",
              "      <td>Joliet, IL</td>\n",
              "      <td>6.0</td>\n",
              "      <td>2.0</td>\n",
              "      <td>Entry level</td>\n",
              "      <td>cleaner</td>\n",
              "    </tr>\n",
              "    <tr>\n",
              "      <th>6484</th>\n",
              "      <td>3699059102</td>\n",
              "      <td>4060.0</td>\n",
              "      <td>night cleaner</td>\n",
              "      <td>night cleaner job title night cleaner job description summary painter perfor...</td>\n",
              "      <td>NaN</td>\n",
              "      <td>NaN</td>\n",
              "      <td>Internship</td>\n",
              "      <td>Plano, TX</td>\n",
              "      <td>6.0</td>\n",
              "      <td>1.0</td>\n",
              "      <td>Entry level</td>\n",
              "      <td>cleaner</td>\n",
              "    </tr>\n",
              "    <tr>\n",
              "      <th>9886</th>\n",
              "      <td>3701336367</td>\n",
              "      <td>22330287.0</td>\n",
              "      <td>senior financial auditor</td>\n",
              "      <td>senior financial auditor company information legend biotech global biotechno...</td>\n",
              "      <td>NaN</td>\n",
              "      <td>NaN</td>\n",
              "      <td>Internship</td>\n",
              "      <td>Somerset, NJ</td>\n",
              "      <td>3.0</td>\n",
              "      <td>19.0</td>\n",
              "      <td>Director</td>\n",
              "      <td>auditor</td>\n",
              "    </tr>\n",
              "  </tbody>\n",
              "</table>\n",
              "</div>\n",
              "    <div class=\"colab-df-buttons\">\n",
              "\n",
              "  <div class=\"colab-df-container\">\n",
              "    <button class=\"colab-df-convert\" onclick=\"convertToInteractive('df-2bd065ac-fe77-440a-96e8-66df50847fd6')\"\n",
              "            title=\"Convert this dataframe to an interactive table.\"\n",
              "            style=\"display:none;\">\n",
              "\n",
              "  <svg xmlns=\"http://www.w3.org/2000/svg\" height=\"24px\" viewBox=\"0 -960 960 960\">\n",
              "    <path d=\"M120-120v-720h720v720H120Zm60-500h600v-160H180v160Zm220 220h160v-160H400v160Zm0 220h160v-160H400v160ZM180-400h160v-160H180v160Zm440 0h160v-160H620v160ZM180-180h160v-160H180v160Zm440 0h160v-160H620v160Z\"/>\n",
              "  </svg>\n",
              "    </button>\n",
              "\n",
              "  <style>\n",
              "    .colab-df-container {\n",
              "      display:flex;\n",
              "      gap: 12px;\n",
              "    }\n",
              "\n",
              "    .colab-df-convert {\n",
              "      background-color: #E8F0FE;\n",
              "      border: none;\n",
              "      border-radius: 50%;\n",
              "      cursor: pointer;\n",
              "      display: none;\n",
              "      fill: #1967D2;\n",
              "      height: 32px;\n",
              "      padding: 0 0 0 0;\n",
              "      width: 32px;\n",
              "    }\n",
              "\n",
              "    .colab-df-convert:hover {\n",
              "      background-color: #E2EBFA;\n",
              "      box-shadow: 0px 1px 2px rgba(60, 64, 67, 0.3), 0px 1px 3px 1px rgba(60, 64, 67, 0.15);\n",
              "      fill: #174EA6;\n",
              "    }\n",
              "\n",
              "    .colab-df-buttons div {\n",
              "      margin-bottom: 4px;\n",
              "    }\n",
              "\n",
              "    [theme=dark] .colab-df-convert {\n",
              "      background-color: #3B4455;\n",
              "      fill: #D2E3FC;\n",
              "    }\n",
              "\n",
              "    [theme=dark] .colab-df-convert:hover {\n",
              "      background-color: #434B5C;\n",
              "      box-shadow: 0px 1px 3px 1px rgba(0, 0, 0, 0.15);\n",
              "      filter: drop-shadow(0px 1px 2px rgba(0, 0, 0, 0.3));\n",
              "      fill: #FFFFFF;\n",
              "    }\n",
              "  </style>\n",
              "\n",
              "    <script>\n",
              "      const buttonEl =\n",
              "        document.querySelector('#df-2bd065ac-fe77-440a-96e8-66df50847fd6 button.colab-df-convert');\n",
              "      buttonEl.style.display =\n",
              "        google.colab.kernel.accessAllowed ? 'block' : 'none';\n",
              "\n",
              "      async function convertToInteractive(key) {\n",
              "        const element = document.querySelector('#df-2bd065ac-fe77-440a-96e8-66df50847fd6');\n",
              "        const dataTable =\n",
              "          await google.colab.kernel.invokeFunction('convertToInteractive',\n",
              "                                                    [key], {});\n",
              "        if (!dataTable) return;\n",
              "\n",
              "        const docLinkHtml = 'Like what you see? Visit the ' +\n",
              "          '<a target=\"_blank\" href=https://colab.research.google.com/notebooks/data_table.ipynb>data table notebook</a>'\n",
              "          + ' to learn more about interactive tables.';\n",
              "        element.innerHTML = '';\n",
              "        dataTable['output_type'] = 'display_data';\n",
              "        await google.colab.output.renderOutput(dataTable, element);\n",
              "        const docLink = document.createElement('div');\n",
              "        docLink.innerHTML = docLinkHtml;\n",
              "        element.appendChild(docLink);\n",
              "      }\n",
              "    </script>\n",
              "  </div>\n",
              "\n",
              "\n",
              "<div id=\"df-35d98931-0ec9-48d0-b497-a7415bae4fc3\">\n",
              "  <button class=\"colab-df-quickchart\" onclick=\"quickchart('df-35d98931-0ec9-48d0-b497-a7415bae4fc3')\"\n",
              "            title=\"Suggest charts\"\n",
              "            style=\"display:none;\">\n",
              "\n",
              "<svg xmlns=\"http://www.w3.org/2000/svg\" height=\"24px\"viewBox=\"0 0 24 24\"\n",
              "     width=\"24px\">\n",
              "    <g>\n",
              "        <path d=\"M19 3H5c-1.1 0-2 .9-2 2v14c0 1.1.9 2 2 2h14c1.1 0 2-.9 2-2V5c0-1.1-.9-2-2-2zM9 17H7v-7h2v7zm4 0h-2V7h2v10zm4 0h-2v-4h2v4z\"/>\n",
              "    </g>\n",
              "</svg>\n",
              "  </button>\n",
              "\n",
              "<style>\n",
              "  .colab-df-quickchart {\n",
              "      --bg-color: #E8F0FE;\n",
              "      --fill-color: #1967D2;\n",
              "      --hover-bg-color: #E2EBFA;\n",
              "      --hover-fill-color: #174EA6;\n",
              "      --disabled-fill-color: #AAA;\n",
              "      --disabled-bg-color: #DDD;\n",
              "  }\n",
              "\n",
              "  [theme=dark] .colab-df-quickchart {\n",
              "      --bg-color: #3B4455;\n",
              "      --fill-color: #D2E3FC;\n",
              "      --hover-bg-color: #434B5C;\n",
              "      --hover-fill-color: #FFFFFF;\n",
              "      --disabled-bg-color: #3B4455;\n",
              "      --disabled-fill-color: #666;\n",
              "  }\n",
              "\n",
              "  .colab-df-quickchart {\n",
              "    background-color: var(--bg-color);\n",
              "    border: none;\n",
              "    border-radius: 50%;\n",
              "    cursor: pointer;\n",
              "    display: none;\n",
              "    fill: var(--fill-color);\n",
              "    height: 32px;\n",
              "    padding: 0;\n",
              "    width: 32px;\n",
              "  }\n",
              "\n",
              "  .colab-df-quickchart:hover {\n",
              "    background-color: var(--hover-bg-color);\n",
              "    box-shadow: 0 1px 2px rgba(60, 64, 67, 0.3), 0 1px 3px 1px rgba(60, 64, 67, 0.15);\n",
              "    fill: var(--button-hover-fill-color);\n",
              "  }\n",
              "\n",
              "  .colab-df-quickchart-complete:disabled,\n",
              "  .colab-df-quickchart-complete:disabled:hover {\n",
              "    background-color: var(--disabled-bg-color);\n",
              "    fill: var(--disabled-fill-color);\n",
              "    box-shadow: none;\n",
              "  }\n",
              "\n",
              "  .colab-df-spinner {\n",
              "    border: 2px solid var(--fill-color);\n",
              "    border-color: transparent;\n",
              "    border-bottom-color: var(--fill-color);\n",
              "    animation:\n",
              "      spin 1s steps(1) infinite;\n",
              "  }\n",
              "\n",
              "  @keyframes spin {\n",
              "    0% {\n",
              "      border-color: transparent;\n",
              "      border-bottom-color: var(--fill-color);\n",
              "      border-left-color: var(--fill-color);\n",
              "    }\n",
              "    20% {\n",
              "      border-color: transparent;\n",
              "      border-left-color: var(--fill-color);\n",
              "      border-top-color: var(--fill-color);\n",
              "    }\n",
              "    30% {\n",
              "      border-color: transparent;\n",
              "      border-left-color: var(--fill-color);\n",
              "      border-top-color: var(--fill-color);\n",
              "      border-right-color: var(--fill-color);\n",
              "    }\n",
              "    40% {\n",
              "      border-color: transparent;\n",
              "      border-right-color: var(--fill-color);\n",
              "      border-top-color: var(--fill-color);\n",
              "    }\n",
              "    60% {\n",
              "      border-color: transparent;\n",
              "      border-right-color: var(--fill-color);\n",
              "    }\n",
              "    80% {\n",
              "      border-color: transparent;\n",
              "      border-right-color: var(--fill-color);\n",
              "      border-bottom-color: var(--fill-color);\n",
              "    }\n",
              "    90% {\n",
              "      border-color: transparent;\n",
              "      border-bottom-color: var(--fill-color);\n",
              "    }\n",
              "  }\n",
              "</style>\n",
              "\n",
              "  <script>\n",
              "    async function quickchart(key) {\n",
              "      const quickchartButtonEl =\n",
              "        document.querySelector('#' + key + ' button');\n",
              "      quickchartButtonEl.disabled = true;  // To prevent multiple clicks.\n",
              "      quickchartButtonEl.classList.add('colab-df-spinner');\n",
              "      try {\n",
              "        const charts = await google.colab.kernel.invokeFunction(\n",
              "            'suggestCharts', [key], {});\n",
              "      } catch (error) {\n",
              "        console.error('Error during call to suggestCharts:', error);\n",
              "      }\n",
              "      quickchartButtonEl.classList.remove('colab-df-spinner');\n",
              "      quickchartButtonEl.classList.add('colab-df-quickchart-complete');\n",
              "    }\n",
              "    (() => {\n",
              "      let quickchartButtonEl =\n",
              "        document.querySelector('#df-35d98931-0ec9-48d0-b497-a7415bae4fc3 button');\n",
              "      quickchartButtonEl.style.display =\n",
              "        google.colab.kernel.accessAllowed ? 'block' : 'none';\n",
              "    })();\n",
              "  </script>\n",
              "</div>\n",
              "    </div>\n",
              "  </div>\n"
            ]
          },
          "metadata": {},
          "execution_count": 45
        }
      ]
    },
    {
      "cell_type": "code",
      "source": [
        "# solo quedan nulos de pasantias\n",
        "internship = base[base['work_type'] == 'Internship']\n",
        "moda_min = internship['min_salary'].mode().iloc[0]\n",
        "moda_max = internship['max_salary'].mode().iloc[0]\n",
        "\n",
        "base['max_salary'] = base['max_salary'].fillna(moda_max)\n",
        "base['min_salary'] = base['min_salary'].fillna(moda_min)"
      ],
      "metadata": {
        "id": "u926AwNnShuQ"
      },
      "execution_count": null,
      "outputs": []
    },
    {
      "cell_type": "code",
      "source": [
        "base = base[['title', 'description', 'work_type', 'experience', 'max_salary', 'min_salary']]"
      ],
      "metadata": {
        "id": "gu1b-Tsjs4rw"
      },
      "execution_count": null,
      "outputs": []
    },
    {
      "cell_type": "markdown",
      "source": [
        "### Outliers"
      ],
      "metadata": {
        "id": "EC8KjOSiS_9I"
      }
    },
    {
      "cell_type": "code",
      "source": [
        "import seaborn as sns\n",
        "fig, ax = plt.subplots(1, 2, figsize=(13, 4))\n",
        "\n",
        "sns.boxplot(x='experience', y='max_salary', data=base,  ax=ax[0], color ='lightblue', order=['Internship', 'Entry level', 'Associate', 'Mid-Senior level', 'Director', 'Executive'])\n",
        "sns.boxplot(x='experience', y='min_salary', data=base,  ax=ax[1], color ='lightblue', order=['Internship', 'Entry level', 'Associate', 'Mid-Senior level', 'Director', 'Executive'])\n",
        "\n",
        "ax[0].tick_params(axis='x', rotation=45)\n",
        "ax[1].tick_params(axis='x', rotation=45)\n",
        "plt.show()"
      ],
      "metadata": {
        "id": "zsom2AixUGH8",
        "colab": {
          "base_uri": "https://localhost:8080/",
          "height": 477
        },
        "outputId": "3e1cdefd-3eff-4fbc-f2ed-0be57156b890"
      },
      "execution_count": null,
      "outputs": [
        {
          "output_type": "display_data",
          "data": {
            "text/plain": [
              "<Figure size 1300x400 with 2 Axes>"
            ],
            "image/png": "[encoded data removed]"
          },
          "metadata": {}
        }
      ]
    },
    {
      "cell_type": "markdown",
      "source": [
        "Función para evaluar outliers severos para cada uno de los niveles de experiencia.\n",
        "\n",
        "**Método basado en la Desviación Estándar:** Un valor que está a más de 2 o 3 desviaciones estándar de la media se puede considerar un outlier severo."
      ],
      "metadata": {
        "id": "PWU0O5mCpXC4"
      }
    },
    {
      "cell_type": "code",
      "source": [
        "def outliers(columna, experiencia):\n",
        "\n",
        "    filtrado = base[base['experience']==experiencia]\n",
        "    media = np.mean(filtrado[columna])\n",
        "    desvest = np.std(filtrado[columna])\n",
        "\n",
        "    num_desviaciones = 2\n",
        "\n",
        "    # Calcular los límites superior e inferior\n",
        "    limite_superior = media + (num_desviaciones * desvest)\n",
        "    limite_inferior = media - (num_desviaciones * desvest)\n",
        "\n",
        "    return limite_inferior, limite_superior"
      ],
      "metadata": {
        "id": "j6QmSTp4k-wG"
      },
      "execution_count": null,
      "outputs": []
    },
    {
      "cell_type": "markdown",
      "source": [
        "#### **Max Salary Outliers**"
      ],
      "metadata": {
        "id": "njpj0Z_VxLii"
      }
    },
    {
      "cell_type": "markdown",
      "source": [
        "##### Internship"
      ],
      "metadata": {
        "id": "jM5yqkosu6DM"
      }
    },
    {
      "cell_type": "code",
      "source": [
        "columna, experiencia = 'max_salary', 'Internship'\n",
        "lower, upper = outliers(columna, experiencia)\n",
        "print(\"Limite superior: \", upper)\n",
        "print(\"Limite inferior: \", lower)\n",
        "\n",
        "upper_rows = base[(base['experience'] == experiencia) & (base[columna] > upper)].shape[0]\n",
        "print(\"\\nCantidad de registros por encima del límite: \", upper_rows)\n",
        "\n",
        "lower_rows = base[(base['experience'] == experiencia) & (base[columna] < lower)].shape[0]\n",
        "print(\"Cantidad de registros por debajo del límite: \", lower_rows)"
      ],
      "metadata": {
        "id": "dRxwT39_Xv-w",
        "colab": {
          "base_uri": "https://localhost:8080/"
        },
        "outputId": "3e73e5cd-4783-4dcb-e707-d66ad18ea7ba"
      },
      "execution_count": null,
      "outputs": [
        {
          "output_type": "stream",
          "name": "stdout",
          "text": [
            "Limite superior:  177062.79081626883\n",
            "Limite inferior:  -28424.85619994525\n",
            "\n",
            "Cantidad de registros por encima del límite:  9\n",
            "Cantidad de registros por debajo del límite:  0\n"
          ]
        }
      ]
    },
    {
      "cell_type": "code",
      "source": [
        "# Cambiar los valores por encima del límite por el límite\n",
        "base.loc[(base['experience'] == experiencia) & (base[columna] > upper), 'max_salary'] = upper\n",
        "base.loc[(base['experience'] == experiencia) & (base[columna] < lower), 'max_salary'] = lower"
      ],
      "metadata": {
        "id": "9Yjp1XzZqVzY"
      },
      "execution_count": null,
      "outputs": []
    },
    {
      "cell_type": "markdown",
      "source": [
        "##### Entry level"
      ],
      "metadata": {
        "id": "9OwvMUkKvCVG"
      }
    },
    {
      "cell_type": "code",
      "source": [
        "columna, experiencia = 'max_salary', 'Entry level'\n",
        "lower, upper = outliers(columna, experiencia)\n",
        "print(\"Limite superior: \", upper)\n",
        "print(\"Limite inferior: \", lower)\n",
        "\n",
        "upper_rows = base[(base['experience'] == experiencia) & (base[columna] > upper)].shape[0]\n",
        "print(\"\\nCantidad de registros por encima del límite: \", upper_rows)\n",
        "\n",
        "lower_rows = base[(base['experience'] == experiencia) & (base[columna] < lower)].shape[0]\n",
        "print(\"Cantidad de registros por debajo del límite: \", lower_rows)"
      ],
      "metadata": {
        "id": "Gx_CksMcvCVW",
        "colab": {
          "base_uri": "https://localhost:8080/"
        },
        "outputId": "f3111b2a-2b73-461a-9eb7-284c4bcde181"
      },
      "execution_count": null,
      "outputs": [
        {
          "output_type": "stream",
          "name": "stdout",
          "text": [
            "Limite superior:  145707.52654134744\n",
            "Limite inferior:  191.08818331969087\n",
            "\n",
            "Cantidad de registros por encima del límite:  112\n",
            "Cantidad de registros por debajo del límite:  0\n"
          ]
        }
      ]
    },
    {
      "cell_type": "code",
      "source": [
        "# Cambiar los valores por encima del límite por el límite\n",
        "base.loc[(base['experience'] == experiencia) & (base[columna] > upper), 'max_salary'] = upper\n",
        "base.loc[(base['experience'] == experiencia) & (base[columna] < lower), 'max_salary'] = lower"
      ],
      "metadata": {
        "id": "d5Uox0ETvCVW"
      },
      "execution_count": null,
      "outputs": []
    },
    {
      "cell_type": "markdown",
      "source": [
        "##### Associate"
      ],
      "metadata": {
        "id": "KhjzBRNyvChb"
      }
    },
    {
      "cell_type": "code",
      "source": [
        "columna, experiencia = 'max_salary', 'Associate'\n",
        "lower, upper = outliers(columna, experiencia)\n",
        "print(\"Limite superior: \", upper)\n",
        "print(\"Limite inferior: \", lower)\n",
        "\n",
        "upper_rows = base[(base['experience'] == experiencia) & (base[columna] > upper)].shape[0]\n",
        "print(\"\\nCantidad de registros por encima del límite: \", upper_rows)\n",
        "\n",
        "lower_rows = base[(base['experience'] == experiencia) & (base[columna] < lower)].shape[0]\n",
        "print(\"Cantidad de registros por debajo del límite: \", lower_rows)"
      ],
      "metadata": {
        "id": "0O6xVvP-vChc",
        "colab": {
          "base_uri": "https://localhost:8080/"
        },
        "outputId": "a7a03716-5191-44da-ff04-4da497384e00"
      },
      "execution_count": null,
      "outputs": [
        {
          "output_type": "stream",
          "name": "stdout",
          "text": [
            "Limite superior:  178324.73941221565\n",
            "Limite inferior:  12291.163643254651\n",
            "\n",
            "Cantidad de registros por encima del límite:  40\n",
            "Cantidad de registros por debajo del límite:  0\n"
          ]
        }
      ]
    },
    {
      "cell_type": "code",
      "source": [
        "# Cambiar los valores por encima del límite por el límite\n",
        "base.loc[(base['experience'] == experiencia) & (base[columna] > upper), 'max_salary'] = upper\n",
        "base.loc[(base['experience'] == experiencia) & (base[columna] < lower), 'max_salary'] = lower"
      ],
      "metadata": {
        "id": "kYRgkMI1vChc"
      },
      "execution_count": null,
      "outputs": []
    },
    {
      "cell_type": "markdown",
      "source": [
        "##### Mid-Senior level"
      ],
      "metadata": {
        "id": "gIsswyzavCyw"
      }
    },
    {
      "cell_type": "code",
      "source": [
        "columna, experiencia = 'max_salary', 'Mid-Senior level'\n",
        "lower, upper = outliers(columna, experiencia)\n",
        "print(\"Limite superior: \", upper)\n",
        "print(\"Limite inferior: \", lower)\n",
        "\n",
        "upper_rows = base[(base['experience'] == experiencia) & (base[columna] > upper)].shape[0]\n",
        "print(\"\\nCantidad de registros por encima del límite: \", upper_rows)\n",
        "\n",
        "lower_rows = base[(base['experience'] == experiencia) & (base[columna] < lower)].shape[0]\n",
        "print(\"Cantidad de registros por debajo del límite: \", lower_rows)"
      ],
      "metadata": {
        "id": "7DdvJp29vCyx",
        "colab": {
          "base_uri": "https://localhost:8080/"
        },
        "outputId": "850ab305-42a1-4538-d8b9-6a1f77a3beb6"
      },
      "execution_count": null,
      "outputs": [
        {
          "output_type": "stream",
          "name": "stdout",
          "text": [
            "Limite superior:  265353.65886818845\n",
            "Limite inferior:  -11554.929072882805\n",
            "\n",
            "Cantidad de registros por encima del límite:  64\n",
            "Cantidad de registros por debajo del límite:  0\n"
          ]
        }
      ]
    },
    {
      "cell_type": "code",
      "source": [
        "# Cambiar los valores por encima del límite por el límite\n",
        "base.loc[(base['experience'] == experiencia) & (base[columna] > upper), 'max_salary'] = upper\n",
        "base.loc[(base['experience'] == experiencia) & (base[columna] < lower), 'max_salary'] = lower"
      ],
      "metadata": {
        "id": "rTFg-FUSvCyx"
      },
      "execution_count": null,
      "outputs": []
    },
    {
      "cell_type": "markdown",
      "source": [
        "##### Director"
      ],
      "metadata": {
        "id": "GUUuRS63wwFS"
      }
    },
    {
      "cell_type": "code",
      "source": [
        "columna, experiencia = 'max_salary', 'Director'\n",
        "lower, upper = outliers(columna, experiencia)\n",
        "print(\"Limite superior: \", upper)\n",
        "print(\"Limite inferior: \", lower)\n",
        "\n",
        "upper_rows = base[(base['experience'] == experiencia) & (base[columna] > upper)].shape[0]\n",
        "print(\"\\nCantidad de registros por encima del límite: \", upper_rows)\n",
        "\n",
        "lower_rows = base[(base['experience'] == experiencia) & (base[columna] < lower)].shape[0]\n",
        "print(\"Cantidad de registros por debajo del límite: \", lower_rows)"
      ],
      "metadata": {
        "id": "KJXyCtLnwwFh",
        "colab": {
          "base_uri": "https://localhost:8080/"
        },
        "outputId": "f6fe061a-be5a-4520-8de6-308002d3f2d1"
      },
      "execution_count": null,
      "outputs": [
        {
          "output_type": "stream",
          "name": "stdout",
          "text": [
            "Limite superior:  266261.5308513623\n",
            "Limite inferior:  57264.2704761659\n",
            "\n",
            "Cantidad de registros por encima del límite:  61\n",
            "Cantidad de registros por debajo del límite:  10\n"
          ]
        }
      ]
    },
    {
      "cell_type": "code",
      "source": [
        "# Cambiar los valores por encima del límite por el límite\n",
        "base.loc[(base['experience'] == experiencia) & (base[columna] > upper), 'max_salary'] = upper\n",
        "base.loc[(base['experience'] == experiencia) & (base[columna] < lower), 'max_salary'] = lower"
      ],
      "metadata": {
        "id": "hr81VDCRwwFh"
      },
      "execution_count": null,
      "outputs": []
    },
    {
      "cell_type": "markdown",
      "source": [
        "##### Executive"
      ],
      "metadata": {
        "id": "D8aHclO0w0RE"
      }
    },
    {
      "cell_type": "code",
      "source": [
        "columna, experiencia = 'max_salary', 'Executive'\n",
        "lower, upper = outliers(columna, experiencia)\n",
        "print(\"Limite superior: \", upper)\n",
        "print(\"Limite inferior: \", lower)\n",
        "\n",
        "upper_rows = base[(base['experience'] == experiencia) & (base[columna] > upper)].shape[0]\n",
        "print(\"\\nCantidad de registros por encima del límite: \", upper_rows)\n",
        "\n",
        "lower_rows = base[(base['experience'] == experiencia) & (base[columna] < lower)].shape[0]\n",
        "print(\"Cantidad de registros por debajo del límite: \", lower_rows)"
      ],
      "metadata": {
        "id": "tns49DQnw0RS",
        "colab": {
          "base_uri": "https://localhost:8080/"
        },
        "outputId": "085a8227-ee92-4f66-fdb4-0e9dca7ad79d"
      },
      "execution_count": null,
      "outputs": [
        {
          "output_type": "stream",
          "name": "stdout",
          "text": [
            "Limite superior:  224586.4074792476\n",
            "Limite inferior:  -6585.638235277947\n",
            "\n",
            "Cantidad de registros por encima del límite:  51\n",
            "Cantidad de registros por debajo del límite:  0\n"
          ]
        }
      ]
    },
    {
      "cell_type": "code",
      "source": [
        "# Cambiar los valores por encima del límite por el límite\n",
        "base.loc[(base['experience'] == experiencia) & (base[columna] > upper), 'max_salary'] = upper\n",
        "base.loc[(base['experience'] == experiencia) & (base[columna] < lower), 'max_salary'] = lower"
      ],
      "metadata": {
        "id": "nnylLLRQw0RS"
      },
      "execution_count": null,
      "outputs": []
    },
    {
      "cell_type": "markdown",
      "source": [
        "#### **Min Salary Outliers**"
      ],
      "metadata": {
        "id": "scneBe8gxVPM"
      }
    },
    {
      "cell_type": "markdown",
      "source": [
        "##### Internship"
      ],
      "metadata": {
        "id": "EOpyyfzkxY6o"
      }
    },
    {
      "cell_type": "code",
      "source": [
        "columna, experiencia = 'min_salary', 'Internship'\n",
        "lower, upper = outliers(columna, experiencia)\n",
        "print(\"Limite superior: \", upper)\n",
        "print(\"Limite inferior: \", lower)\n",
        "\n",
        "upper_rows = base[(base['experience'] == experiencia) & (base[columna] > upper)].shape[0]\n",
        "print(\"\\nCantidad de registros por encima del límite: \", upper_rows)\n",
        "\n",
        "lower_rows = base[(base['experience'] == experiencia) & (base[columna] < lower)].shape[0]\n",
        "print(\"Cantidad de registros por debajo del límite: \", lower_rows)"
      ],
      "metadata": {
        "id": "tALObpCFxY6p",
        "colab": {
          "base_uri": "https://localhost:8080/"
        },
        "outputId": "41ee98ed-c3bb-400b-d5c7-b7bfdcc21a83"
      },
      "execution_count": null,
      "outputs": [
        {
          "output_type": "stream",
          "name": "stdout",
          "text": [
            "Limite superior:  129405.10236212629\n",
            "Limite inferior:  -18636.53557896094\n",
            "\n",
            "Cantidad de registros por encima del límite:  10\n",
            "Cantidad de registros por debajo del límite:  0\n"
          ]
        }
      ]
    },
    {
      "cell_type": "code",
      "source": [
        "# Cambiar los valores por encima del límite por el límite\n",
        "base.loc[(base['experience'] == experiencia) & (base[columna] > upper), 'max_salary'] = upper\n",
        "base.loc[(base['experience'] == experiencia) & (base[columna] < lower), 'max_salary'] = lower"
      ],
      "metadata": {
        "id": "8l6EFzLtxY6p"
      },
      "execution_count": null,
      "outputs": []
    },
    {
      "cell_type": "markdown",
      "source": [
        "##### Entry level"
      ],
      "metadata": {
        "id": "LC8adXt9xY6p"
      }
    },
    {
      "cell_type": "code",
      "source": [
        "columna, experiencia = 'min_salary', 'Entry level'\n",
        "lower, upper = outliers(columna, experiencia)\n",
        "print(\"Limite superior: \", upper)\n",
        "print(\"Limite inferior: \", lower)\n",
        "\n",
        "upper_rows = base[(base['experience'] == experiencia) & (base[columna] > upper)].shape[0]\n",
        "print(\"\\nCantidad de registros por encima del límite: \", upper_rows)\n",
        "\n",
        "lower_rows = base[(base['experience'] == experiencia) & (base[columna] < lower)].shape[0]\n",
        "print(\"Cantidad de registros por debajo del límite: \", lower_rows)"
      ],
      "metadata": {
        "id": "fvGDSi7mxY6p",
        "colab": {
          "base_uri": "https://localhost:8080/"
        },
        "outputId": "3903f71c-b11a-403e-8e7d-9caf7b4a576a"
      },
      "execution_count": null,
      "outputs": [
        {
          "output_type": "stream",
          "name": "stdout",
          "text": [
            "Limite superior:  101554.52106835306\n",
            "Limite inferior:  6127.1247394203165\n",
            "\n",
            "Cantidad de registros por encima del límite:  115\n",
            "Cantidad de registros por debajo del límite:  0\n"
          ]
        }
      ]
    },
    {
      "cell_type": "code",
      "source": [
        "# Cambiar los valores por encima del límite por el límite\n",
        "base.loc[(base['experience'] == experiencia) & (base[columna] > upper), 'max_salary'] = upper\n",
        "base.loc[(base['experience'] == experiencia) & (base[columna] < lower), 'max_salary'] = lower"
      ],
      "metadata": {
        "id": "qmpf1qE_xY6p"
      },
      "execution_count": null,
      "outputs": []
    },
    {
      "cell_type": "markdown",
      "source": [
        "##### Associate"
      ],
      "metadata": {
        "id": "NdtS0r_ZxY6p"
      }
    },
    {
      "cell_type": "code",
      "source": [
        "columna, experiencia = 'min_salary', 'Associate'\n",
        "lower, upper = outliers(columna, experiencia)\n",
        "print(\"Limite superior: \", upper)\n",
        "print(\"Limite inferior: \", lower)\n",
        "\n",
        "upper_rows = base[(base['experience'] == experiencia) & (base[columna] > upper)].shape[0]\n",
        "print(\"\\nCantidad de registros por encima del límite: \", upper_rows)\n",
        "\n",
        "lower_rows = base[(base['experience'] == experiencia) & (base[columna] < lower)].shape[0]\n",
        "print(\"Cantidad de registros por debajo del límite: \", lower_rows)"
      ],
      "metadata": {
        "id": "xqpiu0PJxY6p",
        "colab": {
          "base_uri": "https://localhost:8080/"
        },
        "outputId": "f945d9e1-2a4e-41b8-8af0-13d7a35ff0ab"
      },
      "execution_count": null,
      "outputs": [
        {
          "output_type": "stream",
          "name": "stdout",
          "text": [
            "Limite superior:  130673.38214449232\n",
            "Limite inferior:  16649.37157174843\n",
            "\n",
            "Cantidad de registros por encima del límite:  30\n",
            "Cantidad de registros por debajo del límite:  0\n"
          ]
        }
      ]
    },
    {
      "cell_type": "code",
      "source": [
        "# Cambiar los valores por encima del límite por el límite\n",
        "base.loc[(base['experience'] == experiencia) & (base[columna] > upper), 'max_salary'] = upper\n",
        "base.loc[(base['experience'] == experiencia) & (base[columna] < lower), 'max_salary'] = lower"
      ],
      "metadata": {
        "id": "CyfJV_OUxY6q"
      },
      "execution_count": null,
      "outputs": []
    },
    {
      "cell_type": "markdown",
      "source": [
        "##### Mid-Senior level"
      ],
      "metadata": {
        "id": "QIexLO4oxY6q"
      }
    },
    {
      "cell_type": "code",
      "source": [
        "columna, experiencia = 'min_salary', 'Mid-Senior level'\n",
        "lower, upper = outliers(columna, experiencia)\n",
        "print(\"Limite superior: \", upper)\n",
        "print(\"Limite inferior: \", lower)\n",
        "\n",
        "upper_rows = base[(base['experience'] == experiencia) & (base[columna] > upper)].shape[0]\n",
        "print(\"\\nCantidad de registros por encima del límite: \", upper_rows)\n",
        "\n",
        "lower_rows = base[(base['experience'] == experiencia) & (base[columna] < lower)].shape[0]\n",
        "print(\"Cantidad de registros por debajo del límite: \", lower_rows)"
      ],
      "metadata": {
        "id": "5QPyVEktxY6q",
        "colab": {
          "base_uri": "https://localhost:8080/"
        },
        "outputId": "8b95e6cf-c560-4b57-adfc-782edc34ad65"
      },
      "execution_count": null,
      "outputs": [
        {
          "output_type": "stream",
          "name": "stdout",
          "text": [
            "Limite superior:  161360.1414652553\n",
            "Limite inferior:  13967.650704662141\n",
            "\n",
            "Cantidad de registros por encima del límite:  71\n",
            "Cantidad de registros por debajo del límite:  5\n"
          ]
        }
      ]
    },
    {
      "cell_type": "code",
      "source": [
        "# Cambiar los valores por encima del límite por el límite\n",
        "base.loc[(base['experience'] == experiencia) & (base[columna] > upper), 'max_salary'] = upper\n",
        "base.loc[(base['experience'] == experiencia) & (base[columna] < lower), 'max_salary'] = lower"
      ],
      "metadata": {
        "id": "CWbbKaHhxY6q"
      },
      "execution_count": null,
      "outputs": []
    },
    {
      "cell_type": "markdown",
      "source": [
        "##### Director"
      ],
      "metadata": {
        "id": "FHjykIUaxY6q"
      }
    },
    {
      "cell_type": "code",
      "source": [
        "columna, experiencia = 'min_salary', 'Director'\n",
        "lower, upper = outliers(columna, experiencia)\n",
        "print(\"Limite superior: \", upper)\n",
        "print(\"Limite inferior: \", lower)\n",
        "\n",
        "upper_rows = base[(base['experience'] == experiencia) & (base[columna] > upper)].shape[0]\n",
        "print(\"\\nCantidad de registros por encima del límite: \", upper_rows)\n",
        "\n",
        "lower_rows = base[(base['experience'] == experiencia) & (base[columna] < lower)].shape[0]\n",
        "print(\"Cantidad de registros por debajo del límite: \", lower_rows)"
      ],
      "metadata": {
        "id": "4oMNn3vVxY6q",
        "colab": {
          "base_uri": "https://localhost:8080/"
        },
        "outputId": "7e42603d-e553-4195-d4b5-53c6768a6236"
      },
      "execution_count": null,
      "outputs": [
        {
          "output_type": "stream",
          "name": "stdout",
          "text": [
            "Limite superior:  184270.34157142907\n",
            "Limite inferior:  51356.601159228856\n",
            "\n",
            "Cantidad de registros por encima del límite:  73\n",
            "Cantidad de registros por debajo del límite:  23\n"
          ]
        }
      ]
    },
    {
      "cell_type": "code",
      "source": [
        "# Cambiar los valores por encima del límite por el límite\n",
        "base.loc[(base['experience'] == experiencia) & (base[columna] > upper), 'max_salary'] = upper\n",
        "base.loc[(base['experience'] == experiencia) & (base[columna] < lower), 'max_salary'] = lower"
      ],
      "metadata": {
        "id": "CSaxQhslxY6q"
      },
      "execution_count": null,
      "outputs": []
    },
    {
      "cell_type": "markdown",
      "source": [
        "##### Executive"
      ],
      "metadata": {
        "id": "3TEs5SF0xY6q"
      }
    },
    {
      "cell_type": "code",
      "source": [
        "columna, experiencia = 'min_salary', 'Executive'\n",
        "lower, upper = outliers(columna, experiencia)\n",
        "print(\"Limite superior: \", upper)\n",
        "print(\"Limite inferior: \", lower)\n",
        "\n",
        "upper_rows = base[(base['experience'] == experiencia) & (base[columna] > upper)].shape[0]\n",
        "print(\"\\nCantidad de registros por encima del límite: \", upper_rows)\n",
        "\n",
        "lower_rows = base[(base['experience'] == experiencia) & (base[columna] < lower)].shape[0]\n",
        "print(\"Cantidad de registros por debajo del límite: \", lower_rows)"
      ],
      "metadata": {
        "id": "Zg_ITotVxY6q",
        "colab": {
          "base_uri": "https://localhost:8080/"
        },
        "outputId": "53c90a08-1d1f-42e0-e294-46a420087f7f"
      },
      "execution_count": null,
      "outputs": [
        {
          "output_type": "stream",
          "name": "stdout",
          "text": [
            "Limite superior:  169358.90465459143\n",
            "Limite inferior:  -5339.201215994835\n",
            "\n",
            "Cantidad de registros por encima del límite:  61\n",
            "Cantidad de registros por debajo del límite:  0\n"
          ]
        }
      ]
    },
    {
      "cell_type": "code",
      "source": [
        "# Cambiar los valores por encima del límite por el límite\n",
        "base.loc[(base['experience'] == experiencia) & (base[columna] > upper), 'max_salary'] = upper\n",
        "base.loc[(base['experience'] == experiencia) & (base[columna] < lower), 'max_salary'] = lower"
      ],
      "metadata": {
        "id": "ssH2Wq1lxY6q"
      },
      "execution_count": null,
      "outputs": []
    },
    {
      "cell_type": "markdown",
      "source": [
        "## Análisis del Salario"
      ],
      "metadata": {
        "id": "BW3RVU_J3K7U"
      }
    },
    {
      "cell_type": "code",
      "source": [
        "df = base[['title', 'description', 'experience', 'max_salary', 'min_salary']]"
      ],
      "metadata": {
        "id": "2NlnXwFa3K7U"
      },
      "execution_count": null,
      "outputs": []
    },
    {
      "cell_type": "code",
      "source": [
        "import plotly.express as px\n",
        "fig = px.scatter(df, x=\"min_salary\", y=\"max_salary\", color=\"experience\", log_x=True, size_max=60, title=\"Salaries by Experience Level\")\n",
        "fig.update_layout(width=1100, height=600)\n",
        "fig.show()"
      ],
      "metadata": {
        "colab": {
          "base_uri": "https://localhost:8080/",
          "height": 617
        },
        "id": "Xz_NZ2Rj13ON",
        "outputId": "a752b792-8c92-4887-9b52-86e02257414b"
      },
      "execution_count": null,
      "outputs": [
        {
          "output_type": "display_data",
          "data": {
            "text/html": [
              "<html>\n",
              "<head><meta charset=\"utf-8\" /></head>\n",
              "<body>\n",
              "    <div>            <script src=\"https://cdnjs.cloudflare.com/ajax/libs/mathjax/2.7.5/MathJax.js?config=TeX-AMS-MML_SVG\"></script><script type=\"text/javascript\">if (window.MathJax && window.MathJax.Hub && window.MathJax.Hub.Config) {window.MathJax.Hub.Config({SVG: {font: \"STIX-Web\"}});}</script>                <script type=\"text/javascript\">window.PlotlyConfig = {MathJaxConfig: 'local'};</script>\n",
              "        <script charset=\"utf-8\" src=\"https://cdn.plot.ly/plotly-2.24.1.min.js\"></script>                <div id=\"7114cefc-3367-452f-b5e8-b17ac8180b45\" class=\"plotly-graph-div\" style=\"height:600px; width:1100px;\"></div>            <script type=\"text/javascript\">                                    window.PLOTLYENV=window.PLOTLYENV || {};                                    if (document.getElementById(\"7114cefc-3367-452f-b5e8-b17ac8180b45\")) {                    Plotly.newPlot(                        \"7114cefc-3367-452f-b5e8-b17ac8180b45\",                        [{\"hovertemplate\":\"experience=Entry level\\u003cbr\\u003emin_salary=%{x}\\u003cbr\\u003emax_salary=%{y}\\u003cextra\\u003e\\u003c\\u002fextra\\u003e\",\"legendgroup\":\"Entry level\",\"marker\":{\"color\":\"#636efa\",\"symbol\":\"circle\"},\"mode\":\"markers\",\"name\":\"Entry level\",\"showlegend\":true,\"x\":[45760.0,53017.385074626865,37000.0,18720.0,40906.666666666664,40906.666666666664,62144.3,55280.0,55280.0,24960.0,37440.0,52000.0,57470.4,45000.0,15600.0,55000.0,67514.9348,60000.0,45000.0,57429.184248361875,52877.72854700855,215000.0,56855.23100000001,57429.184248361875,45350.75555555555,94387.62105263158,35000.0,53017.385074626865,70000.0,83433.0,50000.0,65000.0,53017.385074626865,45000.0,37440.0,41600.0,52015.12,39520.0,67514.9348,60000.0,35000.0,45760.0,57429.184248361875,29120.0,57429.184248361875,45052.0,55999.0,29120.0,62400.0,52000.0,45760.0,57429.184248361875,59000.0,87360.0,50074.2025,41600.0,67514.9348,75000.0,56160.0,41600.0,35360.0,20800.0,40643.2,49000.0,49000.0,37440.0,45760.0,70000.0,54080.0,90000.0,45350.75555555555,45000.0,57429.184248361875,43515.555555555555,50000.0,52877.72854700855,35000.0,45760.0,52000.0,66500.0,57429.184248361875,50432.692307692305,50432.692307692305,55889.6,37618.13333333333,60000.0,17680.0,52877.72854700855,48000.0,45760.0,57429.184248361875,57429.184248361875,41600.0,52877.72854700855,45000.0,60000.0,57429.184248361875,53017.385074626865,100000.0,57429.184248361875,65000.0,45000.0,57429.184248361875,41600.0,52000.0,39253.0,70000.0,65000.0,39520.0,50432.692307692305,22533.333333333332,42640.0,43680.0,69700.0,43515.555555555555,50432.692307692305,62254.4,84225.0,60000.0,53017.385074626865,57429.184248361875,40000.0,94387.62105263158,53017.385074626865,50000.0,67600.0,67514.9348,52877.72854700855,90000.0,57429.184248361875,44324.8,51521.6,43680.0,35318.4,53017.385074626865,54080.0,53017.385074626865,50000.0,53152.00377358491,75000.0,58240.0,53017.385074626865,50000.0,114400.0,57429.184248361875,57429.184248361875,67514.9348,67514.9348,53017.385074626865,45000.0,75000.0,49599.03265306123,44723.520000000004,94387.62105263158,52000.0,45000.0,188000.0,36000.0,39520.0,35360.0,44200.0,48796.76666666666,43680.0,83200.0,43680.0,35360.0,72800.0,55000.0,50000.0,32586.666666666668,77000.0,15600.0,52877.72854700855,15600.0,16296.8,94387.62105263158,45760.0,94387.62105263158,57429.184248361875,57429.184248361875,57429.184248361875,49599.03265306123,70000.0,49599.03265306123,53017.385074626865,40000.0,52877.72854700855,22533.333333333332,60000.0,55000.0,22533.333333333332,45760.0,53152.00377358491,60000.0,94387.62105263158,94387.62105263158,94387.62105263158,86513.0,46382.0,45760.0,43750.0,94387.62105263158,53017.385074626865,70000.0,62400.0,57429.184248361875,55000.0,62144.3,57429.184248361875,37618.13333333333,150000.0,67514.9348,52877.72854700855,52877.72854700855,19196.666666666668,86000.0,52877.72854700855,47669.75102040816,47669.75102040816,45760.0,49599.03265306123,91520.0,55000.0,41600.0,62400.0,65000.0,60000.0,94387.62105263158,37440.0,33696.0,111800.0,55000.0,215000.0,52000.0,64500.0,57843.65714285714,57843.65714285714,45000.0,55000.0,43680.0,80000.0,74284.53333333334,57429.184248361875,66600.0,70000.0,53017.385074626865,48000.0,55000.0,60000.0,40000.0,41000.0,49599.03265306123,53017.385074626865,60000.0,53017.385074626865,57843.65714285714,58240.0,94387.62105263158,52877.72854700855,37618.13333333333,55000.0,37618.13333333333,57429.184248361875,67514.9348,38133.333333333336,57429.184248361875,120000.0,49920.0,23389.6,52877.72854700855,41600.0,53017.385074626865,94387.62105263158,84000.0,39520.0,54000.0,40840.8,57429.184248361875,47669.75102040816,39520.0,49599.03265306123,110602.40000000001,53017.385074626865,57429.184248361875,70969.09090909091,62144.3,67514.9348,35360.0,35360.0,53144.0,76649.46666666666,48796.8,32240.0,94387.62105263158,57429.184248361875,57429.184248361875,48796.8,57429.184248361875,56855.23100000001,49006.666666666664,31200.0,33280.0,47669.75102040816,47669.75102040816,74284.53333333334,48796.8,70000.0,53017.385074626865,101253.0,67514.9348,67514.9348,76190.40000000001,52877.72854700855,47669.75102040816,53017.385074626865,50000.0,62144.3,82500.0,40840.8,34320.0,91500.0,101920.0,32489.6,57429.184248361875,57429.184248361875,57429.184248361875,47669.75102040816,49599.03265306123,72500.0,60320.0,39520.0,33280.0,52877.72854700855,57429.184248361875,47669.75102040816,77265.0,57429.184248361875,47669.75102040816,67514.9348,70969.09090909091,37000.0,31200.0,57429.184248361875,57429.184248361875,37000.0,40840.8,47669.75102040816,67514.9348,76649.46666666666,83981.0,57429.184248361875,57429.184248361875,57429.184248361875,35152.0,31200.0,47669.75102040816,57429.184248361875,57429.184248361875,74284.53333333334,57429.184248361875,52877.72854700855,50432.692307692305,41600.0,57429.184248361875,20800.0,41695.32,57429.184248361875,37696.0,44723.520000000004,44723.520000000004,44723.520000000004,46280.0,21369.55625942685,35412.444444444445,52104.0,57429.184248361875,57429.184248361875,57429.184248361875,57429.184248361875,36379.2,73840.0,52877.72854700855,34153.600000000006,46945.6,44057.0,14040.0,44723.520000000004,57843.65714285714,94387.62105263158,29120.0,57429.184248361875,57429.184248361875,57429.184248361875,57429.184248361875,78374.40000000001,36296.0,44723.520000000004,70969.09090909091,65000.0,57429.184248361875,52000.0,57429.184248361875,48358.0,57429.184248361875,49920.0,95680.0,64480.0,50432.692307692305,44723.520000000004,44723.520000000004,46945.6,37440.0,70696.0,70000.0,91500.0,55000.0,55000.0,55000.0,55000.0,49599.03265306123,21369.55625942685,24408.0,57429.184248361875,21369.55625942685,21369.55625942685,67514.9348,50432.692307692305,57429.184248361875,57429.184248361875,57429.184248361875,57429.184248361875,57429.184248361875,57429.184248361875,41780.0,44723.520000000004,57429.184248361875,78728.0,55000.0,55000.0,55000.0,55000.0,55000.0,57429.184248361875,65000.0,80000.0,56855.23100000001,57429.184248361875,21369.55625942685,39520.0,21369.55625942685,50000.0,21369.55625942685,57429.184248361875,38875.200000000004,67514.9348,24835.199999999997,57429.184248361875,57429.184248361875,41600.0,50432.692307692305,70696.0,49878.4,44723.520000000004,44723.520000000004,44723.520000000004,41600.0,55000.0,55000.0,70100.0,67514.9348,55000.0,55000.0,55000.0,41600.0,94387.62105263158,21369.55625942685,52877.72854700855,57429.184248361875,19916.0,18969.6,14040.0,160000.0,46092.799999999996,57429.184248361875,52877.72854700855,94387.62105263158,44723.520000000004,44723.520000000004,41695.32,70696.0,17333.333333333332,55000.0,55000.0,55000.0,52877.72854700855,52877.72854700855,49920.0,94387.62105263158,94387.62105263158,84000.0,52877.72854700855,67514.9348,16296.8,53017.385074626865,52877.72854700855,70000.0,43763.2,57300.0,53017.385074626865,55000.0,55000.0,55000.0,55000.0,55000.0,44723.520000000004,38133.333333333336,67514.9348,94387.62105263158,37618.13333333333,12480.0,31200.0,53017.385074626865,95000.0,53152.00377358491,24835.199999999997,62144.3,54759.46666666667,36899.2,48000.0,33904.0,160000.0,60000.0,70000.0,53017.385074626865,57429.184248361875,52877.72854700855,33280.0,65000.0,94387.62105263158,55000.0,55000.0,55000.0,55000.0,55000.0,70000.0,33696.0,57429.184248361875,21369.55625942685,21369.55625942685,94387.62105263158,21369.55625942685,77200.0,37980.8,43222.4,54080.0,69822.0,45000.0,45760.0,33280.0,90000.0,55000.0,55000.0,55000.0,62500.0,52877.72854700855,53017.385074626865,94387.62105263158,41695.32,25396.800000000003,37440.0,54080.0,70696.0,57429.184248361875,64372.0,57429.184248361875,34320.0,47669.75102040816,62144.3,53017.385074626865,110000.0,43515.555555555555,43680.0,25000.0,110000.0,50000.0,43264.0,37440.0,55000.0,55000.0,55000.0,55000.0,55000.0,55000.0,57429.184248361875,64000.0,50432.692307692305,47669.75102040816,41695.32,62144.3,24835.199999999997,70000.0,98000.0,16296.8,57429.184248361875,57429.184248361875,57429.184248361875,44723.520000000004,50000.0,50432.692307692305,83200.0,39520.0,98000.0,53017.385074626865,16640.0,57429.184248361875,52877.72854700855,94387.62105263158,31200.0,59500.0,35360.0,52877.72854700855,52015.12,70000.0,45350.75555555555,35000.0,80000.0,67514.9348,67514.9348,95000.0,52000.0,31200.0,52000.0,37618.13333333333,22533.333333333332,74880.0,37440.0,17680.0,30000.0,70000.0,41600.0,58240.0,50432.692307692305,34320.0,60000.0,94387.62105263158,52877.72854700855,94387.62105263158,60000.0,45760.0,65000.0,47669.75102040816,20800.0,57429.184248361875,29120.0,57429.184248361875,57429.184248361875,34008.0,75000.0,67514.9348,67514.9348,53017.385074626865,67800.0,63336.0,49000.0,21369.55625942685,66300.0,57429.184248361875,47669.75102040816,57200.0,26000.0,35360.0,35360.0,57429.184248361875,57429.184248361875,48526.399999999994,38064.0,29120.0,57429.184248361875,35004.0,54800.0,57429.184248361875,46280.0,57429.184248361875,47669.75102040816,17680.0,22533.333333333332,26000.0,74284.53333333334,15795.0,87100.0,36192.0,47669.75102040816,47669.75102040816,53017.385074626865,57200.0,18720.0,39520.0,32240.0,33280.0,63000.0,53152.00377358491,67514.9348,21369.55625942685,37440.0,85000.0,57429.184248361875,52877.72854700855,57429.184248361875,145000.0,17680.0,31200.0,36504.0,15600.0,50432.692307692305,52877.72854700855,94387.62105263158,48048.0,29120.0,22533.333333333332,21369.55625942685,57429.184248361875,57429.184248361875,20800.0,53017.385074626865,40456.0,84200.0,84000.0,114000.0,70696.0,50432.692307692305,52877.72854700855,54759.46666666667,39696.0,20800.0,94387.62105263158,125000.0,41600.0,29120.0,67514.9348,21369.55625942685,21369.55625942685,67514.9348,41600.0,32240.0,57429.184248361875,60000.0,47669.75102040816,87100.0,52000.0,16296.8,33280.0,57429.184248361875,14560.0,75100.0,16296.8,57200.0,54080.0,52877.72854700855,94387.62105263158,50432.692307692305,33280.0,30888.0,33280.0,57429.184248361875,47669.75102040816,39696.0,65000.0,57429.184248361875,53152.00377358491,60000.0,53152.00377358491,21369.55625942685,22533.333333333332,67514.9348,49599.03265306123,21369.55625942685,21369.55625942685,21369.55625942685,47669.75102040816,31200.0,26000.0,26000.0,38480.0,53017.385074626865,17680.0,57429.184248361875,56855.23100000001,94387.62105263158,94387.62105263158,53017.385074626865,41695.32,39696.0,57429.184248361875,67514.9348,45000.0,33280.0,22533.333333333332,21369.55625942685,66000.0,93000.0,57429.184248361875,94387.62105263158,26000.0,46280.0,84200.0,41780.0,50000.0,94387.62105263158,18720.0,94510.0,43680.0,53017.385074626865,47669.75102040816,33280.0,33280.0,180600.0,57429.184248361875,22880.0,50432.692307692305,18720.0,66216.0,65000.0,62144.3,41600.0,57429.184248361875,57429.184248361875,40000.0,43000.0,43000.0,43000.0,43000.0,43000.0,43000.0,43000.0,94387.62105263158,43000.0,43515.555555555555,16296.8,57429.184248361875,21369.55625942685,19510.4,57429.184248361875,95680.0,47669.75102040816,139400.0,36400.0,57429.184248361875,35984.0,57429.184248361875,41600.0,49599.03265306123,48609.600000000006,70000.0,47669.75102040816,94387.62105263158,50074.2025,33280.0,43700.8,22880.0,45350.75555555555,57843.65714285714,18200.0,37440.0,53152.00377358491,43000.0,43000.0,43000.0,43000.0,43000.0,43000.0,43000.0,43000.0,43000.0,16296.8,136760.0,44324.8,33280.0,50432.692307692305,50432.692307692305,41600.0,16296.8,41600.0,45000.0,43000.0,67514.9348,43000.0,43000.0,53017.385074626865,45350.75555555555,33280.0,22880.0,60000.0,65000.0,57429.184248361875,43000.0,94387.62105263158,43000.0,43000.0,43000.0,43000.0,43000.0,43000.0,50432.692307692305,50432.692307692305,39696.0,46280.0,38000.0,47669.75102040816,43000.0,43000.0,43000.0,43000.0,94387.62105263158,43000.0,43000.0,45000.0,30000.0,62144.3,45000.0,43000.0,94387.62105263158,43000.0,43000.0,54080.0,43000.0,43000.0,43000.0,43000.0,43000.0,50432.692307692305,43000.0,45000.0,43000.0,43000.0,67514.9348,40000.0,43000.0,50432.692307692305,43000.0,94387.62105263158,43000.0,43000.0,43000.0,43000.0,43000.0,43000.0,43000.0,37440.0,53017.385074626865,50432.692307692305,79600.0,50432.692307692305,55000.0,45760.0,57429.184248361875,114400.0,22533.333333333332,50074.2025,49920.0,42000.0,33280.0,75000.0,70000.0,53017.385074626865,43680.0,13700.0,93600.0,53017.385074626865,94387.62105263158,62144.3,40000.0,94387.62105263158,56855.23100000001,54080.0,24960.0,72500.0,53017.385074626865,58240.0,115000.0,50000.0,41600.0,44060.82,36400.0,40040.0,44241.6,94387.62105263158,54648.0,22533.333333333332,19344.0,26000.0,60000.0,22533.333333333332,67514.9348,61670.399999999994,65000.0,37440.0,77907.32666666666,39520.0,80000.0,19510.4,53017.385074626865,90000.0,64264.27272727273,45760.0,63336.0,37440.0,16640.0,33280.0,15600.0,39520.0,44723.520000000004,50000.0,37440.0,22533.333333333332,70000.0,20800.0,55000.0,37440.0,45000.0,50000.0,45760.0,45760.0,56855.23100000001,22533.333333333332,87006.4,37440.0,50000.0,55000.0,57429.184248361875,56855.23100000001,50000.0,38133.333333333336,80000.0,50000.0,65000.0,57429.184248361875,55000.0,45000.0,70000.0,45433.333333333336,41600.0,75000.0,57429.184248361875,166225.0,35360.0,52877.72854700855,37440.0,52000.0,67514.9348,14040.0,41695.32,21369.55625942685,175100.0,35360.0,143686.0,44723.520000000004,44946.0,57429.184248361875,90000.0,87006.4,50897.6,55000.0,21369.55625942685,15600.0,41695.32,46000.0,57429.184248361875,57429.184248361875,57429.184248361875,45000.0,67514.9348,53017.385074626865,45433.333333333336,57429.184248361875,57429.184248361875,45000.0,175100.0,175100.0,175100.0,52877.72854700855,40476.0,49599.03265306123,18720.0,16296.8,21369.55625942685,57429.184248361875,57429.184248361875,26000.0,175100.0,43515.555555555555,40476.0,57429.184248361875,52877.72854700855,57429.184248361875,49599.03265306123,44723.520000000004,37618.13333333333,45433.333333333336,23400.0,50432.692307692305,52877.72854700855,62128.0,49599.03265306123,175100.0,175100.0,35360.0,38133.333333333336,55000.0,22533.333333333332,21369.55625942685,166225.0,34000.0,57429.184248361875,57429.184248361875,26000.0,49599.03265306123,57429.184248361875,33280.0,16296.8,22186.666666666668,52877.72854700855,47800.0,49000.0,45593.600000000006,57429.184248361875,18720.0,18720.0,16296.8,50432.692307692305,47669.75102040816,33280.0,33280.0,41695.32,19292.0,21369.55625942685,37440.0,53017.385074626865,35004.0,57429.184248361875,52877.72854700855,16296.8,47669.75102040816,31200.0,43750.0,67514.9348,52877.72854700855,94387.62105263158,15795.0,50432.692307692305,59410.0,100000.0,110602.40000000001,35360.0,37440.0,21369.55625942685,57429.184248361875,50432.692307692305,30888.0,77907.32666666666,16296.8,125000.0,110000.0,53017.385074626865,52877.72854700855,81080.0,47669.75102040816,45350.75555555555,37618.13333333333,77907.32666666666,17680.0,47669.75102040816,23320.0,67514.9348,49599.03265306123,52000.0,33280.0,47669.75102040816,57429.184248361875,45350.75555555555,47840.0,78000.0,44723.520000000004,37696.0,26000.0,35360.0,60000.0,67514.9348,18720.0,16296.8,94387.62105263158,16224.0,57429.184248361875,16224.0,16328.0,52877.72854700855,37618.13333333333,50432.692307692305,94387.62105263158,166225.0,57429.184248361875,94387.62105263158,17680.0,47669.75102040816,33280.0,76649.46666666666,18720.0,166225.0,52877.72854700855,39253.0,50432.692307692305,50432.692307692305,16432.0,58189.54,50432.692307692305,47669.75102040816,90250.0,41780.0,46643.0,57429.184248361875,57429.184248361875,22533.333333333332,43680.0,67514.9348,40000.0,46280.0,21369.55625942685,57429.184248361875,84940.0,19510.4,35360.0,57429.184248361875,21369.55625942685,70600.0,46643.0,67514.9348,44590.0,52877.72854700855,47669.75102040816,21369.55625942685,21369.55625942685,41695.32,22533.333333333332,43680.0,45350.75555555555,21369.55625942685,52877.72854700855,94387.62105263158,94387.62105263158,65000.0,70600.0,41600.0,166225.0,32240.0,57429.184248361875,21369.55625942685,26640.0,21369.55625942685,56231.0,21369.55625942685,21369.55625942685,57429.184248361875,21369.55625942685,21369.55625942685,57429.184248361875,67514.9348,53017.385074626865,57429.184248361875,94387.62105263158,57429.184248361875,60320.0,57429.184248361875,37618.13333333333,57429.184248361875,94387.62105263158,57429.184248361875,57429.184248361875,37618.13333333333,57429.184248361875,37440.0,43555.200000000004,57429.184248361875,53017.385074626865,57429.184248361875,53017.385074626865,41600.0,57429.184248361875,57429.184248361875,57429.184248361875,17680.0,53152.00377358491,38563.2,21369.55625942685,21369.55625942685,35360.0,57429.184248361875,21369.55625942685,52877.72854700855,53017.385074626865,53017.385074626865,45350.75555555555,70000.0,45350.75555555555,45350.75555555555,53152.00377358491,57429.184248361875,41600.0,110000.0,18720.0,65000.0,48000.0,166225.0,166225.0,166225.0,38133.333333333336,166225.0,38133.333333333336,57429.184248361875,21369.55625942685,70000.0,57429.184248361875,61000.0,49006.666666666664,185700.0,94387.62105263158,47669.75102040816,23400.0,23400.0,23400.0,23400.0,23400.0,57429.184248361875,57429.184248361875,23400.0,21369.55625942685,67514.9348,67514.9348,67514.9348,23400.0,23400.0,23400.0,47669.75102040816,23400.0,23400.0,21369.55625942685,67514.9348,17160.0,17160.0,67514.9348,21369.55625942685,67514.9348,67514.9348,67514.9348,94387.62105263158,53017.385074626865,64000.0,94387.62105263158,57429.184248361875,55000.0,185000.0,40906.666666666664,67514.9348,83200.0,57429.184248361875,77907.32666666666,53017.385074626865,57429.184248361875,32240.0,57429.184248361875,57429.184248361875,57429.184248361875,37440.0,31200.0,57429.184248361875,57429.184248361875,52877.72854700855,48796.76666666666,57429.184248361875,63000.0,55400.0,57429.184248361875,19621.333333333332,21369.55625942685,70969.09090909091,52877.72854700855,94387.62105263158,64000.0,94387.62105263158,63000.0,94387.62105263158,57429.184248361875,37440.0,57429.184248361875,53000.0,38480.0,49599.03265306123,75000.0,21369.55625942685,52877.72854700855,90000.0,50432.692307692305,94387.62105263158,57429.184248361875,34444.799999999996,53017.385074626865,50432.692307692305,94387.62105263158,50432.692307692305,31666.666666666668,49599.03265306123,67514.9348,66000.0,67514.9348,67514.9348,67514.9348,52015.12,95000.0,33280.0,52877.72854700855,57429.184248361875,57429.184248361875,45350.75555555555,31666.666666666668,26208.0,50432.692307692305,49599.03265306123,41695.32,44027.265,49599.03265306123,43750.0,58080.0,57843.65714285714,45350.75555555555,105000.0,57429.184248361875,57429.184248361875,50432.692307692305,31666.666666666668,46280.0,94387.62105263158,67514.9348,47669.75102040816,110000.0,57429.184248361875,38251.200000000004,53152.00377358491,64000.0,87700.0,50432.692307692305,50432.692307692305,49599.03265306123,49599.03265306123,58080.0,47669.75102040816,57429.184248361875,53017.385074626865,64000.0,45350.75555555555,21369.55625942685,67514.9348,50432.692307692305,27456.0,50432.692307692305,36608.0,50432.692307692305,50432.692307692305,73340.79999999999,44723.520000000004,67514.9348,220000.0,47669.75102040816,57429.184248361875,32240.0,72907.0,57429.184248361875,52877.72854700855,57429.184248361875,53017.385074626865,71520.0,58080.0,19760.0,67514.9348,66000.0,67514.9348,62144.3,62144.3,67514.9348,56855.23100000001,57429.184248361875,32240.0,57429.184248361875,32240.0,57429.184248361875,57429.184248361875,65000.0,57429.184248361875,50432.692307692305,78000.0,34008.0,67514.9348,94387.62105263158,62144.3,67514.9348,50432.692307692305,45760.0,50432.692307692305,49599.03265306123,94387.62105263158,94387.62105263158,67514.9348,52877.72854700855,67514.9348,67514.9348,67514.9348,82693.33333333333,57429.184248361875,40840.8,41780.0,50432.692307692305,52877.72854700855,52877.72854700855,53017.385074626865,56855.23100000001,40456.0,21369.55625942685,57429.184248361875,49599.03265306123,57429.184248361875,47669.75102040816,32240.0,21369.55625942685,49800.0,53017.385074626865,67514.9348,25740.0,43555.200000000004,57429.184248361875,47669.75102040816,21369.55625942685,46321.6,51001.6,50074.2025,67514.9348,20800.0,40456.0,57429.184248361875,65208.0,46280.0,41695.32,49599.03265306123,21369.55625942685,59654.4,21369.55625942685,57429.184248361875,49691.200000000004,22533.333333333332,57429.184248361875,52877.72854700855,57429.184248361875,39253.0,74284.53333333334,52877.72854700855,45350.75555555555,55000.0,41600.0,37618.13333333333,37618.13333333333,57429.184248361875,52877.72854700855,22533.333333333332,83870.0,67514.9348,57429.184248361875,53017.385074626865,47669.75102040816,94387.62105263158,37618.13333333333,47669.75102040816,43992.0,40456.0,37618.13333333333,57429.184248361875,41695.32,57429.184248361875,47669.75102040816,48744.799999999996,21369.55625942685,47669.75102040816,50074.2025,40456.0,43515.555555555555,17333.333333333332,52877.72854700855,67017.59999999999,44723.520000000004,57429.184248361875,54759.46666666667,29120.0,57429.184248361875,39520.0,22533.333333333332,57429.184248361875,31200.0,31200.0,110602.40000000001,84000.0,65000.0,34000.0,57429.184248361875,54759.46666666667,70400.0,31200.0,31200.0,94387.62105263158,130000.0,80000.0,43680.0,37618.13333333333,57429.184248361875,37618.13333333333,31200.0,31200.0,31200.0,31200.0,57429.184248361875,57429.184248361875,125000.0,75000.0,50432.692307692305,94387.62105263158,66560.0,43515.555555555555,37618.13333333333,40906.666666666664,50432.692307692305,96533.33333333333,21369.55625942685,38480.0,57429.184248361875,57429.184248361875,64900.0,94387.62105263158,57429.184248361875,57429.184248361875,41695.32,50432.692307692305,60756.8,21369.55625942685,94387.62105263158,31200.0,55000.0,95000.0,65000.0,95000.0,80000.0,73240.0,43515.555555555555,43515.555555555555,43515.555555555555,57429.184248361875,82790.0,21369.55625942685,67514.9348,53152.00377358491,57429.184248361875,21369.55625942685,41600.0,31200.0,31200.0,57429.184248361875,60000.0,70000.0,44723.520000000004,57429.184248361875,62400.0,54759.46666666667,41600.0,37618.13333333333,67514.9348,50432.692307692305,53017.385074626865,57429.184248361875,41695.32,53017.385074626865,29120.0,43515.555555555555,39253.0,57429.184248361875,30888.0,41600.0,41600.0,52877.72854700855,62400.0,42432.0,31200.0,57429.184248361875,44723.520000000004,57429.184248361875,74284.53333333334,57429.184248361875,52877.72854700855,57429.184248361875,31200.0,100000.0,125000.0,55000.0,80000.0,145000.0,50432.692307692305,67514.9348,43515.555555555555,67514.9348,43515.555555555555,57429.184248361875,57429.184248361875,44027.265,57429.184248361875,63100.0,57429.184248361875,46800.0,67514.9348,57429.184248361875,57429.184248361875,53017.385074626865,67514.9348,41695.32,57429.184248361875,40906.666666666664,57429.184248361875,44723.520000000004,41695.32,49599.03265306123,44027.265,57429.184248361875,57429.184248361875,50000.0,52877.72854700855,41184.0,57429.184248361875,43000.0,50432.692307692305,57429.184248361875,50432.692307692305,33092.799999999996,94387.62105263158,27040.0,27040.0,57429.184248361875,62144.3,21369.55625942685,57429.184248361875,25740.0,57429.184248361875,57429.184248361875,57429.184248361875,57429.184248361875,53017.385074626865,57429.184248361875,49599.03265306123,29120.0,57429.184248361875,50432.692307692305,58240.0,67514.9348,32240.0,29120.0,50432.692307692305,67514.9348,57429.184248361875,20800.0,34153.600000000006,57429.184248361875,21369.55625942685,21369.55625942685,57429.184248361875,43515.555555555555,26000.0,49599.03265306123,50432.692307692305,21369.55625942685,34320.0,57429.184248361875,52877.72854700855,46280.0,82790.0,52877.72854700855,47840.0,57429.184248361875,57429.184248361875,53017.385074626865,29120.0,41695.32,52877.72854700855,15795.0,50000.0,70969.09090909091,41695.32,94387.62105263158,27040.0,41695.32,29120.0,49599.03265306123,18720.0,57429.184248361875,57429.184248361875,21369.55625942685,67514.9348,43515.555555555555,57429.184248361875,76649.46666666666,41780.0,52877.72854700855,10000.0,41600.0,57429.184248361875,48358.0,57429.184248361875,21369.55625942685,57429.184248361875,33280.0,52877.72854700855,82000.0,70969.09090909091,82000.0,57429.184248361875,41695.32,57429.184248361875,37618.13333333333,52877.72854700855,56700.8,47669.75102040816,21369.55625942685,21369.55625942685,21369.55625942685,57429.184248361875,50432.692307692305,52877.72854700855,43515.555555555555,46280.0,56231.0,41600.0,110000.0,57429.184248361875,22443.199999999997,60000.0,34153.600000000006,52877.72854700855,52877.72854700855,44723.520000000004,57429.184248361875,57429.184248361875,52877.72854700855,50432.692307692305,52000.0,145000.0,57429.184248361875,50000.0,58300.0,57429.184248361875,78000.0,76649.46666666666,52877.72854700855,47669.75102040816,52877.72854700855,52877.72854700855,52877.72854700855,52041.600000000006,55320.0,57429.184248361875,53017.385074626865,57429.184248361875,57429.184248361875,57429.184248361875,74284.53333333334,64798.0,52877.72854700855,57429.184248361875,52877.72854700855,56231.0,57429.184248361875,54759.46666666667,94387.62105263158,40539.2,27040.0,41780.0,57429.184248361875,52877.72854700855,52877.72854700855,57429.184248361875,57429.184248361875,21369.55625942685,50432.692307692305,81500.0,64264.27272727273,84940.0,47840.0,47840.0,47751.0,52877.72854700855,70969.09090909091,34008.0,80300.0,57429.184248361875,21369.55625942685,55000.0,20800.0,57429.184248361875,67514.9348,55000.0,47840.0,47840.0,39253.0,60000.0,94387.62105263158,43680.0,57429.184248361875,55000.0,50000.0,53017.385074626865,55000.0,94387.62105263158,41695.32,67514.9348,70000.0,70000.0,49599.03265306123,70000.0,57429.184248361875,56231.0,55000.0,57429.184248361875,41600.0,52877.72854700855,57429.184248361875,80000.0,70000.0,70000.0,80000.0,50432.692307692305,57429.184248361875,57429.184248361875,57429.184248361875,45760.0,93492.0,22533.333333333332,41600.0,47669.75102040816,57429.184248361875,70000.0,73240.0,70000.0,94387.62105263158,59310.0,46800.0,57429.184248361875,21369.55625942685,52877.72854700855,57429.184248361875,57429.184248361875,49599.03265306123,52015.12,53017.385074626865,43680.0,53152.00377358491,57429.184248361875,44004.0,107520.0,41695.32,62144.3,125000.0,127400.0,54000.0,50432.692307692305,41695.32,47669.75102040816,19708.0,57429.184248361875,57429.184248361875,47669.75102040816,55000.0,160000.0,60000.0,114000.0,52877.72854700855,57429.184248361875,52015.12,57429.184248361875,47669.75102040816,94387.62105263158,41695.32,59500.0,57429.184248361875,57429.184248361875,41695.32,18720.0,53152.00377358491,57200.0,67514.9348,70000.0,70000.0,55000.0,62144.3,50000.0,29120.0,57429.184248361875,41100.8,40102.4,57429.184248361875,17160.0,17160.0,41600.0,47669.75102040816,52877.72854700855,72800.0,55000.0,50432.692307692305,88800.0,43555.200000000004,54000.0,62400.0,67514.9348,67514.9348,17160.0,52000.0,53017.385074626865,53017.385074626865,115000.0,49599.03265306123,41100.8,52000.0,52877.72854700855,50432.692307692305,37440.0,57429.184248361875,68473.6,67514.9348,67514.9348,54000.0,57429.184248361875,57429.184248361875,50432.692307692305,47669.75102040816,44723.520000000004,57429.184248361875,54000.0,67433.6,54000.0,61318.4,54000.0,52877.72854700855,17160.0,47669.75102040816,54000.0,65000.0,57429.184248361875,57429.184248361875,40102.4,57429.184248361875,54000.0,13520.0,13520.0,17160.0,64900.0,19196.666666666668,66560.0,47669.75102040816,44324.8,53017.385074626865,17160.0,19196.666666666668,54000.0,53017.385074626865,43680.0,17160.0,19196.666666666668,53017.385074626865,52520.0,17160.0,19196.666666666668,17160.0,60320.0,58240.0,50432.692307692305,54080.0,52877.72854700855,52877.72854700855,53017.385074626865,122000.0,53017.385074626865,32240.0,57429.184248361875,77000.0,63935.04,84000.0,47669.75102040816,46740.11,19621.333333333332,20800.0,41695.32,57429.184248361875,41314.42,58500.0,30888.0,117200.0,53152.00377358491,109275.58,69200.0,32240.0,117200.0,117200.0,19510.4,57429.184248361875,57429.184248361875,50000.0,67514.9348,52877.72854700855,62400.0,67514.9348,32240.0,30888.0,20800.0,32240.0,41695.32,31200.0,70969.09090909091,57429.184248361875,50432.692307692305,57429.184248361875,39520.0,37440.0,53017.385074626865,63000.0,77907.32666666666,41695.32,117200.0,117200.0,67514.9348,57429.184248361875,39520.0,52877.72854700855,43515.555555555555,63000.0,137009.6,43800.0,21369.55625942685,41695.32,32240.0,67514.9348,43515.555555555555,117200.0,117200.0,117200.0,50432.692307692305,70969.09090909091,46000.0,57429.184248361875,67514.9348,50432.692307692305,47669.75102040816,57429.184248361875,94387.62105263158,57429.184248361875,52877.72854700855,49599.03265306123,43680.0,41695.32,30888.0,117200.0,117200.0,62144.3,94387.62105263158,47669.75102040816,49599.03265306123,38480.0,16640.0,39520.0,39520.0,67514.9348,94387.62105263158,94387.62105263158,62144.3,94387.62105263158,50074.2025,57429.184248361875,32240.0,117200.0,19510.4,50432.692307692305,57429.184248361875,57429.184248361875,16296.8,52877.72854700855,16296.8,37618.13333333333,49599.03265306123,32240.0,117200.0,117200.0,117200.0,57429.184248361875,57429.184248361875,67514.9348,52877.72854700855,40000.0,57429.184248361875,57429.184248361875,18345.600000000002,85000.0,110000.0,39520.0,39520.0,67514.9348,139400.0,53900.0,110000.0,66600.0,94387.62105263158,67017.59999999999,42120.0,41600.0,50107.200000000004,57429.184248361875,57429.184248361875,40456.0,53017.385074626865,52300.0,42900.0,44723.520000000004,52877.72854700855,53017.385074626865,52877.72854700855,16813.333333333332,50432.692307692305,47669.75102040816,57429.184248361875,47669.75102040816,57429.184248361875,33363.2,57429.184248361875,57429.184248361875,49600.0,57429.184248361875,44723.520000000004,50752.0,104440.0,94387.62105263158,57429.184248361875,52877.72854700855,43680.0,47669.75102040816,57429.184248361875,63000.0,41600.0,47669.75102040816,55000.0,52877.72854700855,46280.0,57429.184248361875,53017.385074626865,44324.8,21369.55625942685,50432.692307692305,72500.0,34008.0,52877.72854700855,95000.0,57429.184248361875,29120.0,59800.0,57429.184248361875,53017.385074626865,52877.72854700855,57429.184248361875,53017.385074626865,25740.0,57429.184248361875,52520.0,37440.0,59800.0,57429.184248361875,53017.385074626865,53017.385074626865,59000.0,57429.184248361875,50074.2025,47669.75102040816,43555.200000000004,57429.184248361875,41695.32,59904.0,52877.72854700855,43680.0,42500.0,53152.00377358491,57429.184248361875,74284.53333333334,57429.184248361875,56664.0,47669.75102040816,57429.184248361875,58300.0,55000.0,63686.0,57429.184248361875,56451.2,36712.0,66560.0,53152.00377358491,114000.0,58240.0,45350.75555555555,57843.65714285714,166225.0,59800.0,68000.0,50432.692307692305,57429.184248361875,41695.32,95680.0,57429.184248361875,42400.0,67514.9348,57429.184248361875,57429.184248361875,57429.184248361875,49920.0,67514.9348,81705.0,16640.0,53152.00377358491,13520.0,104000.0,13520.0,52520.0,55656.0,25126.399999999998,55000.0,43515.555555555555,50432.692307692305,16296.8,57429.184248361875,34008.0,44723.520000000004,52877.72854700855,29120.0,81800.0,52015.12,58593.600000000006,47500.0,67514.9348,57429.184248361875,33280.0,49920.0,55000.0,41600.0,17333.333333333332,62400.0,57429.184248361875,57429.184248361875,57429.184248361875,57429.184248361875,94387.62105263158,57429.184248361875,27040.0,33280.0,67514.9348,40102.4,17160.0,57429.184248361875,57000.0,45350.75555555555,57429.184248361875,66600.0,41695.32,57429.184248361875,52877.72854700855,57429.184248361875,53152.00377358491,18720.0,57429.184248361875,53017.385074626865,53017.385074626865,41600.0,53152.00377358491,90000.0,38792.0,67514.9348,47669.75102040816,57429.184248361875,35360.0,13520.0,47669.75102040816,62400.0,93492.0,57429.184248361875,21369.55625942685,84060.0,150000.0,57429.184248361875,57429.184248361875,57429.184248361875,21369.55625942685,47669.75102040816,73100.0,57429.184248361875,17680.0,49006.666666666664,57429.184248361875,50432.692307692305,57429.184248361875,53017.385074626865,58240.0,54080.0,53152.00377358491,57429.184248361875,57429.184248361875,81705.0,38230.399999999994,84864.0,13520.0,94387.62105263158,43555.200000000004,57429.184248361875,57429.184248361875,67514.9348,57429.184248361875,57429.184248361875,111280.0,52300.0,37440.0,95680.0,13520.0,170000.0,13520.0,41600.0,21369.55625942685,94387.62105263158,43576.0,53152.00377358491,47925.0,50074.2025,90000.0,84940.0,50440.0,47669.75102040816,65000.0,40906.666666666664,63336.0,41600.0,57429.184248361875,14040.0,17333.333333333332,34320.0,67514.9348,67514.9348,53152.00377358491,53152.00377358491,28600.0,60000.0,81600.0,21369.55625942685,21369.55625942685,50432.692307692305,29120.0,57429.184248361875,19468.8,52877.72854700855,79996.8,53152.00377358491,21369.55625942685,16296.8,13520.0,60000.0,57429.184248361875,74284.53333333334,55000.0,84940.0,50000.0,40000.0,32240.0,32468.8,34320.0,37618.13333333333,53017.385074626865,62400.0,38916.8,38916.8,32468.8,94387.62105263158,70696.0,37618.13333333333,67017.59999999999,41600.0,48000.0,38916.8,57429.184248361875,67514.9348,57429.184248361875,49599.03265306123,90000.0,94387.62105263158,47669.75102040816,47669.75102040816,37440.0,50432.692307692305,53152.00377358491,31200.0,53152.00377358491,52877.72854700855,53152.00377358491,54759.46666666667,44723.520000000004,31000.0,22128.0,45350.75555555555,45350.75555555555,62144.3,28392.0,39832.0,45350.75555555555,45350.75555555555,44723.520000000004,50432.692307692305,57429.184248361875,52877.72854700855,45350.75555555555,67514.9348,44723.520000000004,58240.0,31200.0,94387.62105263158,41695.32,52877.72854700855,58240.0,45350.75555555555,57429.184248361875,21369.55625942685,67514.9348,57429.184248361875,53017.385074626865,57429.184248361875,32240.0,31200.0,50000.0,57429.184248361875,57429.184248361875,39520.0,53017.385074626865,53900.0,94387.62105263158,41695.32,53017.385074626865,94387.62105263158,21369.55625942685,45000.0,41600.0,37440.0,57429.184248361875,57429.184248361875,41695.32,32240.0,21369.55625942685,57429.184248361875,53017.385074626865,25740.0,45350.75555555555,45350.75555555555,45350.75555555555,33280.0,32240.0,32240.0,50432.692307692305,35880.0,41695.32,67514.9348,21369.55625942685,50432.692307692305,45350.75555555555,45350.75555555555,32240.0,111900.0,62233.600000000006,21369.55625942685,57429.184248361875,52877.72854700855,50432.692307692305,52877.72854700855,41695.32,53388.08,72800.0,21369.55625942685,62144.3,59700.0,57429.184248361875,57429.184248361875,22533.333333333332,70000.0,57429.184248361875,77907.32666666666,67017.59999999999,17333.333333333332,21369.55625942685,57429.184248361875,57429.184248361875,47669.75102040816,52877.72854700855,59700.0,57843.65714285714,49599.03265306123,57429.184248361875,37618.13333333333,67514.9348,32240.0,94387.62105263158,21369.55625942685,53017.385074626865,141100.0,141100.0,41695.32,49599.03265306123,57429.184248361875,53017.385074626865,54759.46666666667,57429.184248361875,53017.385074626865,67514.9348,67514.9348,49599.03265306123,57429.184248361875,37618.13333333333,143000.0,35235.200000000004,21369.55625942685,54759.46666666667,37618.13333333333,56160.0,61000.0,53017.385074626865,78000.0,129444.0,50432.692307692305,40906.666666666664,94387.62105263158,57429.184248361875,57429.184248361875,54080.0,29120.0,57429.184248361875,23400.0,60000.0,57429.184248361875,54759.46666666667,62400.0,41600.0,57429.184248361875,46945.6,41600.0,52877.72854700855,57429.184248361875,44723.520000000004,57429.184248361875,57429.184248361875,106000.0,57429.184248361875,41600.0,25000.0,53388.08,139400.0,74000.0,50432.692307692305,52877.72854700855,53017.385074626865,71600.0,57429.184248361875,52000.0,57429.184248361875,57429.184248361875,46280.0,37440.0,21369.55625942685,21694.399999999998,43326.399999999994,21369.55625942685,50432.692307692305,57429.184248361875,53017.385074626865,49599.03265306123,57429.184248361875,33280.0,77000.0,44723.520000000004,94387.62105263158,67514.9348,40906.666666666664,10000.0,57429.184248361875,49920.0,40906.666666666664,94387.62105263158,53152.00377358491,57429.184248361875,49599.03265306123,47669.75102040816,67514.9348,40906.666666666664,47669.75102040816,17160.0,44723.520000000004,52877.72854700855,40906.666666666664,47669.75102040816,74284.53333333334,21476.0,57429.184248361875,53152.00377358491,57429.184248361875,67514.9348,52877.72854700855,57429.184248361875,61422.0,57429.184248361875,13520.0,84940.0,49000.0,66830.40000000001,57429.184248361875,47669.75102040816,61422.0,31200.0,63293.0,51648.0,49599.03265306123,37440.0,57429.184248361875,37618.13333333333,40906.666666666664,57429.184248361875,41600.0,53152.00377358491,21369.55625942685,61422.0,63293.0,90000.0,21369.55625942685,53017.385074626865,70000.0,32240.0,47669.75102040816,52877.72854700855,53017.385074626865,86100.0,47669.75102040816,42400.0,49006.666666666664,57429.184248361875,21369.55625942685,57429.184248361875,57429.184248361875,37618.13333333333,74284.53333333334,94387.62105263158,42328.0,49599.03265306123,37107.200000000004,57429.184248361875,37618.13333333333,94387.62105263158,37618.13333333333,52877.72854700855,49599.03265306123,55000.0,37980.8,32240.0,60320.0,32240.0,35000.0,70000.0,35360.0,37440.0,58240.0,44723.520000000004,60000.0,94387.62105263158,44723.520000000004,44723.520000000004,23400.0,21320.0,23400.0,21369.55625942685,22533.333333333332,23400.0,23400.0,23400.0,25480.0,57429.184248361875,18720.0,23400.0,23400.0,49920.0,57429.184248361875,68096.31,32240.0,21369.55625942685,62400.0,16296.8,89500.0,62400.0,41600.0,35360.0,70205.71428571429,62400.0,41600.0,94387.62105263158,175200.0,50432.692307692305,37440.0,46000.0,60000.0,104000.0,60000.0,67017.59999999999,72500.0,18720.0,22880.0,18720.0,53017.385074626865,37440.0,76649.46666666666,57429.184248361875,50074.2025,46280.0,50432.692307692305,40000.0,57429.184248361875,57429.184248361875,57429.184248361875,40428.0,53017.385074626865,62144.3,21369.55625942685,44723.520000000004,78000.0,50074.2025,57429.184248361875,58240.0,35360.0,21369.55625942685,23820.0,62400.0,21369.55625942685,57429.184248361875,94387.62105263158,41695.32,52877.72854700855,34164.0,31200.0,58240.0,21369.55625942685,53017.385074626865,37618.13333333333,21369.55625942685,53900.0,57429.184248361875,35360.0,26000.0,31200.0,57429.184248361875,57429.184248361875,18720.0,22533.333333333332,57429.184248361875,57429.184248361875,57429.184248361875,22533.333333333332,57429.184248361875,21369.55625942685,57429.184248361875,57429.184248361875,57429.184248361875,57429.184248361875,57429.184248361875,57429.184248361875,57429.184248361875,52877.72854700855,62144.3,45000.0,43680.0,53017.385074626865,94387.62105263158,53017.385074626865,75000.0,53017.385074626865,50074.2025,53017.385074626865,56160.0,57429.184248361875,67514.9348,55000.0,45000.0,67514.9348,50000.0,57429.184248361875,66560.0,54000.0,53900.0,53017.385074626865,62144.3,35360.0,50000.0,53017.385074626865,130000.0,47669.75102040816,42000.0,104100.0,57429.184248361875,35000.0,57429.184248361875,67514.9348,45000.0,33280.0,53152.00377358491,45000.0,45760.0,67514.9348,68640.0,67514.9348,41600.0,67514.9348,120000.0,39728.0,49599.03265306123,57429.184248361875,78100.0,46786.666666666664,53152.00377358491,85000.0,44000.0,41600.0,47669.75102040816,55000.0,37440.0,70000.0,46786.666666666664,55000.0,80000.0,50000.0,44000.0,94387.62105263158,54080.0,33280.0,60000.0,45350.75555555555,130000.0,53017.385074626865,41600.0,45433.333333333336,84940.0,60000.0,65014.0,52041.600000000006,49000.0,49000.0,73000.0,40840.8,53017.385074626865,57429.184248361875,45000.0,41600.0,49000.0,28475.2,37440.0,52015.12,60000.0,50991.0,90000.0,41600.0,49000.0,32240.0,45000.0,50000.0,57429.184248361875,57429.184248361875,16296.8,29640.0,57429.184248361875,37618.13333333333,70696.0,40840.8,62144.3,62144.3,75000.0,91416.0,16296.8,20800.0,20800.0,45760.0,44850.0,50432.692307692305,53017.385074626865,52877.72854700855,84940.0,57429.184248361875,57429.184248361875,53017.385074626865,50000.0,43680.0,55000.0,53017.385074626865,54648.0,57429.184248361875,50432.692307692305,175200.0,57429.184248361875,39520.0,47669.75102040816,17333.333333333332,41600.0,140000.0,45350.75555555555,50432.692307692305,50432.692307692305,46786.666666666664,215000.0,49712.0,65800.0,44723.520000000004,75600.0,52877.72854700855,62144.3,57429.184248361875,35360.0,17680.0,34320.0,57429.184248361875,57429.184248361875,41600.0,150000.0,60000.0,57429.184248361875,43515.555555555555,50432.692307692305,38133.333333333336,17333.333333333332,52877.72854700855,52877.72854700855,11440.0,54995.200000000004,47669.75102040816,45760.0,55400.0,34320.0,57429.184248361875,94387.62105263158,63293.0,50918.4,53476.8,53017.385074626865,41600.0,57429.184248361875,47669.75102040816,42400.0,19196.666666666668,35360.0,21369.55625942685,70969.09090909091,45000.0,53017.385074626865,52877.72854700855,53017.385074626865,47669.75102040816,44723.520000000004,57429.184248361875,57429.184248361875,108000.0,57429.184248361875,22533.333333333332,17333.333333333332,35360.0,116111.11111111111,94387.62105263158,17160.0,54000.0,96373.33333333333,50315.200000000004,52877.72854700855,16296.8,16296.8,150000.0,50432.692307692305,22533.333333333332,50918.4,36400.0,65000.0,60000.0,15600.0,57429.184248361875,50432.692307692305,77907.32666666666,49599.03265306123,48400.0,53017.385074626865,57429.184248361875,17333.333333333332,116111.11111111111,57429.184248361875,94387.62105263158,37618.13333333333,16296.8,53017.385074626865,50432.692307692305,16296.8,53017.385074626865,50000.0,16640.0,62144.3,57429.184248361875,21369.55625942685,62144.3,65000.0,49599.03265306123,65000.0,52000.0,57429.184248361875,94387.62105263158,50000.0,100000.0,43515.555555555555,41695.32,35360.0,43515.555555555555,53017.385074626865,50000.0,56231.0,50432.692307692305,52000.0,50000.0,57429.184248361875,16296.8,94387.62105263158,76649.46666666666,52877.72854700855,52877.72854700855,62144.3,52877.72854700855,53017.385074626865,50066.0,49920.0,72500.0,41600.0,52000.0,41600.0,94387.62105263158,16296.8,16296.8,16296.8,125000.0,60000.0,53017.385074626865,53017.385074626865,67514.9348,45760.0,57429.184248361875,50000.0,41695.32,77907.32666666666,16296.8,31200.0,72800.0,57429.184248361875,53017.385074626865,45760.0,45760.0,57429.184248361875,16296.8,16296.8,50432.692307692305,21369.55625942685,94387.62105263158,62144.3,94387.62105263158,77907.32666666666,94387.62105263158,57429.184248361875,21369.55625942685,57429.184248361875,50432.692307692305,39644.799999999996,46382.0,52877.72854700855,21369.55625942685,52877.72854700855,51000.0,43680.0,50066.0,150000.0,35000.0,80000.0,49599.03265306123,65000.0,56855.23100000001,63336.0,53017.385074626865,66560.0,57429.184248361875,53017.385074626865,53017.385074626865,49599.03265306123,54995.200000000004,60000.0,67514.9348,53017.385074626865,19240.0,21840.0,52877.72854700855,21840.0,37440.0,67514.9348,85000.0,64500.0,36400.0,44324.8,57429.184248361875,40906.666666666664,57429.184248361875,40906.666666666664,57800.0,14040.0,18460.0,45594.0,53017.385074626865,57843.65714285714,49599.03265306123,52877.72854700855,35360.0,57429.184248361875,57429.184248361875,90272.0,19196.666666666668,84000.0,67514.9348,47669.75102040816,21369.55625942685,112486.0,47669.75102040816,67514.9348,50432.692307692305,57429.184248361875,55000.0,47669.75102040816,57429.184248361875,47669.75102040816,41695.32,67514.9348,49599.03265306123,15600.0,67514.9348,14040.0,94387.62105263158,44324.8,73240.0,62400.0,33904.0,19196.666666666668,82693.33333333333,57429.184248361875,35880.0,44324.8,67514.9348,44324.8,36129.600000000006,57429.184248361875,175200.0,43680.0,21369.55625942685,47669.75102040816,57429.184248361875,63200.0,21369.55625942685,47669.75102040816,19196.666666666668,57429.184248361875,67514.9348,39520.0,33280.0,57429.184248361875,52041.600000000006,57429.184248361875,84000.0,57429.184248361875,21369.55625942685,94387.62105263158,66216.0,21369.55625942685,77907.32666666666,18720.0,38480.0,57429.184248361875,57429.184248361875,63200.0,47840.0,21500.0,44723.520000000004,52877.72854700855,47000.0,34800.0,78900.0,78900.0,52877.72854700855,52877.72854700855,75000.0,21369.55625942685,52877.72854700855,57429.184248361875,38480.0,104500.0,42547.0,57429.184248361875,110000.0,44723.520000000004,57429.184248361875,57429.184248361875,50000.0,42547.0,52877.72854700855,117700.0,21369.55625942685,41695.32,57300.0,42547.0,48000.0,100000.0,57429.184248361875,67514.9348,50432.692307692305,61700.0,67514.9348,50000.0,94387.62105263158,57429.184248361875,57429.184248361875,42547.0,42547.0,50432.692307692305,38480.0,41695.32,60000.0,30000.0,39520.0,70000.0,43515.555555555555,23920.0,57429.184248361875,47669.75102040816,90000.0,57429.184248361875,72800.0,94387.62105263158,50432.692307692305,38480.0,52877.72854700855,50367.0,48358.0,37398.4,57429.184248361875,21369.55625942685,57429.184248361875,57429.184248361875,41695.32,57429.184248361875,76649.46666666666,50432.692307692305,21369.55625942685,50432.692307692305,82000.0,41695.32,85000.0,37440.0,17680.0,94387.62105263158,57429.184248361875,85000.0,52520.0,57429.184248361875,67514.9348,57429.184248361875,69275.0,50432.692307692305,57429.184248361875,47669.75102040816,39253.0,50432.692307692305,39520.0,50432.692307692305,39253.0,72500.0,21369.55625942685],\"xaxis\":\"x\",\"y\":[52000.0,63939.76119402985,42000.0,20800.0,48547.200000000004,48547.200000000004,88372.67,79541.0,79541.0,31200.0,56160.0,93600.0,78062.40000000001,50000.0,22880.0,70000.0,88619.0936,87000.0,65000.0,77872.35272052496,68553.68205128206,101554.52106835306,78177.32800000001,77872.35272052496,62122.666666666664,131820.5859649123,45000.0,63939.76119402985,75000.0,112372.0,50000.0,85000.0,63939.76119402985,65000.0,41600.0,43680.0,65382.96,45760.0,88619.0936,63000.0,48000.0,49920.0,77872.35272052496,33280.0,77872.35272052496,55189.0,67243.0,43680.0,72800.0,55000.0,58240.0,77872.35272052496,70000.0,112320.0,64091.91375,47840.0,88619.0936,95000.0,56160.0,49920.0,37440.0,26000.0,65208.0,51600.0,51600.0,45760.0,49920.0,90000.0,54080.0,115000.0,62122.666666666664,75000.0,77872.35272052496,51421.333333333336,60000.0,68553.68205128206,38000.0,52000.0,52000.0,86000.0,77872.35272052496,66879.68205128206,66879.68205128206,62400.0,64542.13333333333,100000.0,18720.0,68553.68205128206,60000.0,52000.0,77872.35272052496,77872.35272052496,49920.0,68553.68205128206,55000.0,70000.0,77872.35272052496,63939.76119402985,145707.52654134744,77872.35272052496,75000.0,90000.0,77872.35272052496,45760.0,74880.0,53842.5,80000.0,80000.0,47840.0,66879.68205128206,26866.666666666668,46800.0,58240.0,110400.0,51421.333333333336,66879.68205128206,62254.4,122774.0,70000.0,63939.76119402985,77872.35272052496,55000.0,131820.5859649123,63939.76119402985,57000.0,78000.0,88619.0936,68553.68205128206,120000.0,77872.35272052496,57116.8,56014.4,43680.0,44033.600000000006,63939.76119402985,54080.0,63939.76119402985,53000.0,79979.03773584905,100000.0,72800.0,63939.76119402985,80000.0,101554.52106835306,77872.35272052496,77872.35272052496,88619.0936,88619.0936,63939.76119402985,90000.0,95000.0,76901.97551020408,61371.62666666667,131820.5859649123,56000.0,50000.0,101554.52106835306,42000.0,43680.0,39520.0,49774.4,70085.16666666667,54080.0,83200.0,47840.0,39520.0,72800.0,70000.0,80000.0,39520.0,110000.0,20800.0,68553.68205128206,15600.0,20010.9,131820.5859649123,56160.0,131820.5859649123,77872.35272052496,77872.35272052496,77872.35272052496,76901.97551020408,70000.0,76901.97551020408,63939.76119402985,50000.0,68553.68205128206,26866.666666666668,80000.0,75000.0,26866.666666666668,52000.0,79979.03773584905,65000.0,131820.5859649123,131820.5859649123,131820.5859649123,101713.0,76453.33333333333,54080.0,53750.0,131820.5859649123,63939.76119402985,80000.0,66560.0,77872.35272052496,75000.0,88372.67,77872.35272052496,64542.13333333333,101554.52106835306,88619.0936,68553.68205128206,68553.68205128206,23703.333333333332,141000.0,68553.68205128206,62714.67346938775,62714.67346938775,62400.0,76901.97551020408,120640.0,55000.0,45760.0,93600.0,65000.0,65000.0,131820.5859649123,37440.0,33696.0,101554.52106835306,55000.0,101554.52106835306,52000.0,80000.0,66500.34285714287,66500.34285714287,90000.0,55000.0,45760.0,100000.0,93936.08333333333,77872.35272052496,73500.0,70000.0,63939.76119402985,52000.0,65000.0,60000.0,45000.0,62000.0,76901.97551020408,63939.76119402985,64000.0,63939.76119402985,66500.34285714287,64480.0,131820.5859649123,68553.68205128206,64542.13333333333,60000.0,64542.13333333333,77872.35272052496,88619.0936,42986.666666666664,77872.35272052496,101554.52106835306,53760.0,29244.8,68553.68205128206,52000.0,63939.76119402985,131820.5859649123,95000.0,39520.0,71600.0,44480.8,77872.35272052496,62714.67346938775,39520.0,76901.97551020408,101554.52106835306,63939.76119402985,77872.35272052496,101965.45454545454,88372.67,88619.0936,40160.0,41600.0,83512.0,138635.06666666668,92456.0,35360.0,131820.5859649123,77872.35272052496,77872.35272052496,82368.0,77872.35272052496,78177.32800000001,59060.0,104000.0,52000.0,62714.67346938775,62714.67346938775,93936.08333333333,82368.0,90000.0,63939.76119402985,132894.0,88619.0936,88619.0936,84136.0,68553.68205128206,62714.67346938775,63939.76119402985,65000.0,88372.67,101000.0,44480.8,43576.0,108000.0,101554.52106835306,42702.4,77872.35272052496,77872.35272052496,77872.35272052496,62714.67346938775,76901.97551020408,90000.0,66560.0,39520.0,54080.0,68553.68205128206,77872.35272052496,62714.67346938775,123625.0,77872.35272052496,62714.67346938775,88619.0936,101965.45454545454,55500.0,104000.0,77872.35272052496,77872.35272052496,55500.0,44480.8,62714.67346938775,88619.0936,138635.06666666668,110225.0,77872.35272052496,77872.35272052496,77872.35272052496,41600.0,104000.0,62714.67346938775,77872.35272052496,77872.35272052496,93936.08333333333,77872.35272052496,68553.68205128206,66879.68205128206,49920.0,77872.35272052496,28080.0,55011.619999999995,77872.35272052496,60703.0,61371.62666666667,61371.62666666667,61371.62666666667,68640.0,28482.253092006034,54231.11111111111,54724.799999999996,77872.35272052496,77872.35272052496,77872.35272052496,77872.35272052496,37440.0,83158.4,68553.68205128206,54308.8,74880.0,70948.0,16640.0,61371.62666666667,66500.34285714287,131820.5859649123,43680.0,77872.35272052496,77872.35272052496,77872.35272052496,77872.35272052496,88254.40000000001,47611.200000000004,61371.62666666667,101965.45454545454,70000.0,77872.35272052496,52000.0,77872.35272052496,67437.0,77872.35272052496,70720.0,143520.0,70720.0,66879.68205128206,61371.62666666667,61371.62666666667,74880.0,37440.0,95018.84,90000.0,108000.0,60000.0,60000.0,60000.0,60000.0,76901.97551020408,28482.253092006034,26832.0,77872.35272052496,28482.253092006034,28482.253092006034,88619.0936,66879.68205128206,77872.35272052496,77872.35272052496,77872.35272052496,77872.35272052496,77872.35272052496,77872.35272052496,52130.0,61371.62666666667,77872.35272052496,107931.2,60000.0,60000.0,60000.0,60000.0,60000.0,77872.35272052496,85000.0,100000.0,78177.32800000001,77872.35272052496,28482.253092006034,42556.8,28482.253092006034,62500.0,28482.253092006034,77872.35272052496,45011.200000000004,88619.0936,70470.40000000001,77872.35272052496,77872.35272052496,56160.0,66879.68205128206,95018.84,82326.4,61371.62666666667,61371.62666666667,61371.62666666667,45760.0,60000.0,60000.0,85100.0,88619.0936,60000.0,60000.0,60000.0,49920.0,131820.5859649123,28482.253092006034,68553.68205128206,77872.35272052496,33196.8,31626.4,16640.0,101554.52106835306,69139.20000000001,77872.35272052496,68553.68205128206,131820.5859649123,61371.62666666667,61371.62666666667,55011.619999999995,95018.84,22533.333333333332,60000.0,60000.0,60000.0,68553.68205128206,68553.68205128206,53268.8,131820.5859649123,131820.5859649123,126000.0,68553.68205128206,88619.0936,20010.9,63939.76119402985,68553.68205128206,85000.0,46737.6,85900.0,63939.76119402985,60000.0,60000.0,60000.0,60000.0,60000.0,61371.62666666667,42986.666666666664,88619.0936,131820.5859649123,64542.13333333333,14310.4,37440.0,63939.76119402985,119400.0,79979.03773584905,70470.40000000001,88372.67,65866.66666666667,49108.799999999996,48000.0,35360.0,101554.52106835306,80000.0,90000.0,63939.76119402985,77872.35272052496,68553.68205128206,54080.0,75000.0,131820.5859649123,60000.0,60000.0,60000.0,60000.0,60000.0,90000.0,42120.0,77872.35272052496,28482.253092006034,28482.253092006034,131820.5859649123,28482.253092006034,143400.0,52000.0,45302.4,66560.0,104734.0,70000.0,49920.0,45760.0,100000.0,60000.0,60000.0,60000.0,72100.0,68553.68205128206,63939.76119402985,131820.5859649123,55011.619999999995,30347.2,39520.0,58240.0,95018.84,77872.35272052496,109432.0,77872.35272052496,38480.0,62714.67346938775,88372.67,63939.76119402985,101554.52106835306,51421.333333333336,54773.333333333336,145707.52654134744,101554.52106835306,60000.0,43264.0,45760.0,60000.0,60000.0,60000.0,60000.0,60000.0,60000.0,77872.35272052496,84000.0,66879.68205128206,62714.67346938775,55011.619999999995,88372.67,70470.40000000001,80000.0,145707.52654134744,20010.9,77872.35272052496,77872.35272052496,77872.35272052496,61371.62666666667,69000.0,66879.68205128206,114400.0,45760.0,145707.52654134744,63939.76119402985,18720.0,77872.35272052496,68553.68205128206,131820.5859649123,69600.0,143100.0,35360.0,68553.68205128206,65382.96,76000.0,62122.666666666664,60000.0,95000.0,88619.0936,88619.0936,130000.0,52000.0,69600.0,83200.0,64542.13333333333,26866.666666666668,89440.0,41600.0,20800.0,145707.52654134744,75000.0,47840.0,62400.0,66879.68205128206,43576.0,65000.0,131820.5859649123,68553.68205128206,131820.5859649123,70000.0,52000.0,85000.0,62714.67346938775,26000.0,77872.35272052496,29120.0,77872.35272052496,77872.35272052496,40048.0,100000.0,88619.0936,88619.0936,63939.76119402985,88200.0,70210.4,78000.0,28482.253092006034,116000.0,77872.35272052496,62714.67346938775,62400.0,40040.0,37440.0,39520.0,77872.35272052496,77872.35272052496,48526.399999999994,50960.0,37440.0,77872.35272052496,47040.0,95900.0,77872.35272052496,68640.0,77872.35272052496,62714.67346938775,27040.0,26866.666666666668,40040.0,93936.08333333333,19903.0,130700.0,48048.0,62714.67346938775,62714.67346938775,63939.76119402985,62400.0,26000.0,62400.0,42328.0,49920.0,145707.52654134744,79979.03773584905,88619.0936,28482.253092006034,49920.0,145707.52654134744,77872.35272052496,68553.68205128206,77872.35272052496,101554.52106835306,27040.0,32240.0,42744.0,18720.0,66879.68205128206,68553.68205128206,131820.5859649123,48048.0,37440.0,26866.666666666668,28482.253092006034,77872.35272052496,77872.35272052496,33280.0,63939.76119402985,72800.0,145707.52654134744,126000.0,101554.52106835306,95018.84,66879.68205128206,68553.68205128206,65866.66666666667,49740.0,20800.0,131820.5859649123,101554.52106835306,62400.0,37440.0,88619.0936,28482.253092006034,28482.253092006034,88619.0936,49920.0,42328.0,77872.35272052496,65000.0,62714.67346938775,130700.0,62400.0,20010.9,38480.0,77872.35272052496,16088.800000000001,112600.0,20010.9,62400.0,66560.0,68553.68205128206,131820.5859649123,66879.68205128206,49920.0,35692.8,49920.0,77872.35272052496,62714.67346938775,49740.0,90000.0,77872.35272052496,79979.03773584905,64000.0,79979.03773584905,28482.253092006034,26866.666666666668,88619.0936,76901.97551020408,28482.253092006034,28482.253092006034,28482.253092006034,62714.67346938775,46800.0,40040.0,40040.0,61360.0,63939.76119402985,27040.0,77872.35272052496,78177.32800000001,131820.5859649123,131820.5859649123,63939.76119402985,55011.619999999995,49740.0,77872.35272052496,88619.0936,66000.0,45760.0,26866.666666666668,28482.253092006034,91000.0,134000.0,77872.35272052496,131820.5859649123,40040.0,68640.0,145707.52654134744,52130.0,60000.0,131820.5859649123,18720.0,124044.0,66560.0,63939.76119402985,62714.67346938775,49920.0,49920.0,101554.52106835306,77872.35272052496,23920.0,66879.68205128206,18720.0,82884.0,75000.0,88372.67,47840.0,77872.35272052496,77872.35272052496,40000.0,56000.0,56000.0,56000.0,56000.0,56000.0,56000.0,56000.0,131820.5859649123,56000.0,51421.333333333336,20010.9,77872.35272052496,28482.253092006034,22865.7,77872.35272052496,143520.0,62714.67346938775,101554.52106835306,39000.0,77872.35272052496,45344.0,77872.35272052496,47840.0,76901.97551020408,60798.4,87000.0,62714.67346938775,131820.5859649123,64091.91375,49920.0,52748.799999999996,23920.0,62122.666666666664,66500.34285714287,20280.0,41600.0,79979.03773584905,56000.0,56000.0,56000.0,56000.0,56000.0,56000.0,56000.0,56000.0,56000.0,20010.9,101554.52106835306,57116.8,49920.0,66879.68205128206,66879.68205128206,47840.0,20010.9,45760.0,55000.0,56000.0,88619.0936,56000.0,56000.0,63939.76119402985,62122.666666666664,49920.0,23920.0,100000.0,75000.0,77872.35272052496,56000.0,131820.5859649123,56000.0,56000.0,56000.0,56000.0,56000.0,56000.0,66879.68205128206,66879.68205128206,49740.0,68640.0,39000.0,62714.67346938775,56000.0,56000.0,56000.0,56000.0,131820.5859649123,56000.0,56000.0,50000.0,42000.0,88372.67,50000.0,56000.0,131820.5859649123,56000.0,56000.0,71011.2,56000.0,56000.0,56000.0,56000.0,56000.0,66879.68205128206,56000.0,75000.0,56000.0,56000.0,88619.0936,50000.0,56000.0,66879.68205128206,56000.0,131820.5859649123,56000.0,56000.0,56000.0,56000.0,56000.0,56000.0,56000.0,45760.0,63939.76119402985,66879.68205128206,145707.52654134744,66879.68205128206,60000.0,45760.0,77872.35272052496,101554.52106835306,26866.666666666668,64091.91375,58240.0,52000.0,70720.0,75000.0,75000.0,63939.76119402985,47840.0,50000.0,97760.0,63939.76119402985,131820.5859649123,88372.67,60000.0,131820.5859649123,78177.32800000001,72800.0,33280.0,90000.0,63939.76119402985,58240.0,101554.52106835306,55000.0,72800.0,59045.71,36400.0,50960.0,56472.0,131820.5859649123,96000.0,26866.666666666668,21080.8,28080.0,90000.0,26866.666666666668,88619.0936,90736.8,85000.0,54080.0,92395.20333333332,52000.0,113000.0,22865.7,63939.76119402985,105000.0,86524.54545454546,49920.0,70210.4,40539.2,27040.0,54080.0,17680.0,45760.0,61371.62666666667,100000.0,45760.0,26866.666666666668,100000.0,29879.2,93000.0,60320.0,50000.0,70000.0,45760.0,52000.0,78177.32800000001,26866.666666666668,111176.0,41600.0,55000.0,60000.0,77872.35272052496,78177.32800000001,60000.0,42986.666666666664,95000.0,55000.0,83000.0,77872.35272052496,80000.0,55000.0,83000.0,75626.66666666667,47840.0,145707.52654134744,77872.35272052496,101554.52106835306,40160.0,68553.68205128206,47840.0,62400.0,88619.0936,16640.0,55011.619999999995,28482.253092006034,101554.52106835306,37440.0,101554.52106835306,61371.62666666667,57360.0,77872.35272052496,110000.0,111176.0,50897.6,75000.0,28482.253092006034,15600.0,55011.619999999995,48000.0,77872.35272052496,77872.35272052496,77872.35272052496,50000.0,88619.0936,63939.76119402985,75626.66666666667,77872.35272052496,77872.35272052496,65000.0,101554.52106835306,101554.52106835306,101554.52106835306,68553.68205128206,50724.0,76901.97551020408,26000.0,20010.9,28482.253092006034,77872.35272052496,77872.35272052496,36400.0,101554.52106835306,51421.333333333336,50724.0,77872.35272052496,68553.68205128206,77872.35272052496,76901.97551020408,61371.62666666667,64542.13333333333,75626.66666666667,41184.0,66879.68205128206,68553.68205128206,93192.0,76901.97551020408,101554.52106835306,101554.52106835306,40160.0,42986.666666666664,70000.0,26866.666666666668,28482.253092006034,101554.52106835306,55000.0,77872.35272052496,77872.35272052496,40040.0,76901.97551020408,77872.35272052496,49920.0,20010.9,24613.333333333332,68553.68205128206,72000.0,79000.0,65000.0,77872.35272052496,26000.0,26000.0,20010.9,66879.68205128206,62714.67346938775,49920.0,49920.0,55011.619999999995,24180.0,28482.253092006034,52416.0,63939.76119402985,47040.0,77872.35272052496,68553.68205128206,20010.9,62714.67346938775,46800.0,53750.0,88619.0936,68553.68205128206,131820.5859649123,19903.0,66879.68205128206,90730.0,120000.0,101554.52106835306,37440.0,43680.0,28482.253092006034,77872.35272052496,66879.68205128206,35692.8,92395.20333333332,20010.9,101554.52106835306,101554.52106835306,63939.76119402985,68553.68205128206,141650.0,62714.67346938775,62122.666666666664,64542.13333333333,92395.20333333332,27040.0,62714.67346938775,133520.0,88619.0936,76901.97551020408,81120.0,49920.0,62714.67346938775,77872.35272052496,62122.666666666664,54080.0,145000.0,61371.62666666667,60703.0,40040.0,48880.0,80000.0,88619.0936,26000.0,20010.9,131820.5859649123,20280.0,77872.35272052496,20280.0,21216.0,68553.68205128206,64542.13333333333,66879.68205128206,131820.5859649123,101554.52106835306,77872.35272052496,131820.5859649123,24440.0,62714.67346938775,49920.0,138635.06666666668,26000.0,101554.52106835306,68553.68205128206,53842.5,66879.68205128206,66879.68205128206,22204.0,96165.88,66879.68205128206,62714.67346938775,145000.0,52130.0,75111.0,77872.35272052496,77872.35272052496,26866.666666666668,54773.333333333336,88619.0936,60000.0,68640.0,28482.253092006034,77872.35272052496,107160.0,22865.7,39520.0,77872.35272052496,28482.253092006034,145707.52654134744,75111.0,88619.0936,66295.0,68553.68205128206,62714.67346938775,28482.253092006034,28482.253092006034,55011.619999999995,26866.666666666668,47840.0,62122.666666666664,28482.253092006034,68553.68205128206,131820.5859649123,131820.5859649123,90000.0,145707.52654134744,47840.0,101554.52106835306,42328.0,77872.35272052496,28482.253092006034,28932.0,28482.253092006034,75767.0,28482.253092006034,28482.253092006034,77872.35272052496,28482.253092006034,28482.253092006034,77872.35272052496,88619.0936,63939.76119402985,77872.35272052496,131820.5859649123,77872.35272052496,60320.0,77872.35272052496,64542.13333333333,77872.35272052496,131820.5859649123,77872.35272052496,77872.35272052496,64542.13333333333,77872.35272052496,52416.0,65395.200000000004,77872.35272052496,63939.76119402985,77872.35272052496,63939.76119402985,47840.0,77872.35272052496,77872.35272052496,77872.35272052496,20800.0,79979.03773584905,42244.799999999996,28482.253092006034,28482.253092006034,44720.0,77872.35272052496,28482.253092006034,68553.68205128206,63939.76119402985,63939.76119402985,62122.666666666664,90000.0,62122.666666666664,62122.666666666664,79979.03773584905,77872.35272052496,47840.0,101554.52106835306,26000.0,85000.0,96000.0,101554.52106835306,101554.52106835306,101554.52106835306,42986.666666666664,101554.52106835306,42986.666666666664,77872.35272052496,28482.253092006034,145707.52654134744,77872.35272052496,68000.0,59060.0,101554.52106835306,131820.5859649123,62714.67346938775,29640.0,29640.0,29640.0,29640.0,29640.0,77872.35272052496,77872.35272052496,29640.0,28482.253092006034,88619.0936,88619.0936,88619.0936,29640.0,29640.0,29640.0,62714.67346938775,29640.0,29640.0,28482.253092006034,88619.0936,23712.0,23712.0,88619.0936,28482.253092006034,88619.0936,88619.0936,88619.0936,131820.5859649123,63939.76119402985,91000.0,131820.5859649123,77872.35272052496,62000.0,101554.52106835306,48547.200000000004,88619.0936,104000.0,77872.35272052496,92395.20333333332,63939.76119402985,77872.35272052496,37440.0,77872.35272052496,77872.35272052496,77872.35272052496,37440.0,47632.0,77872.35272052496,77872.35272052496,68553.68205128206,70085.16666666667,77872.35272052496,120000.0,69300.0,77872.35272052496,24013.600000000002,28482.253092006034,101965.45454545454,68553.68205128206,131820.5859649123,97000.0,131820.5859649123,120000.0,131820.5859649123,77872.35272052496,38480.0,77872.35272052496,71937.0,40560.0,76901.97551020408,115000.0,28482.253092006034,68553.68205128206,115000.0,66879.68205128206,131820.5859649123,77872.35272052496,46841.6,63939.76119402985,66879.68205128206,131820.5859649123,66879.68205128206,145707.52654134744,76901.97551020408,88619.0936,95795.0,88619.0936,88619.0936,88619.0936,65382.96,115000.0,35360.0,68553.68205128206,77872.35272052496,77872.35272052496,62122.666666666664,145707.52654134744,39312.0,66879.68205128206,76901.97551020408,55011.619999999995,49261.975000000006,76901.97551020408,53750.0,83490.0,66500.34285714287,62122.666666666664,101554.52106835306,77872.35272052496,77872.35272052496,66879.68205128206,145707.52654134744,68640.0,131820.5859649123,88619.0936,62714.67346938775,101554.52106835306,77872.35272052496,59113.600000000006,79979.03773584905,97000.0,131500.0,66879.68205128206,66879.68205128206,76901.97551020408,76901.97551020408,83490.0,62714.67346938775,77872.35272052496,63939.76119402985,97000.0,62122.666666666664,28482.253092006034,88619.0936,66879.68205128206,41184.0,66879.68205128206,54912.0,66879.68205128206,66879.68205128206,81473.6,61371.62666666667,88619.0936,101554.52106835306,62714.67346938775,77872.35272052496,42328.0,109362.0,77872.35272052496,68553.68205128206,77872.35272052496,63939.76119402985,107280.0,83490.0,26000.0,88619.0936,95795.0,88619.0936,88372.67,88372.67,88619.0936,78177.32800000001,77872.35272052496,42328.0,77872.35272052496,42328.0,77872.35272052496,77872.35272052496,115000.0,77872.35272052496,66879.68205128206,145000.0,40048.0,88619.0936,131820.5859649123,88372.67,88619.0936,66879.68205128206,52000.0,66879.68205128206,76901.97551020408,131820.5859649123,131820.5859649123,88619.0936,68553.68205128206,88619.0936,88619.0936,88619.0936,116990.0,77872.35272052496,44480.8,52130.0,66879.68205128206,68553.68205128206,68553.68205128206,63939.76119402985,78177.32800000001,72800.0,28482.253092006034,77872.35272052496,76901.97551020408,77872.35272052496,62714.67346938775,42328.0,28482.253092006034,65000.0,63939.76119402985,88619.0936,35048.0,65395.200000000004,77872.35272052496,62714.67346938775,28482.253092006034,47361.6,63752.0,64091.91375,88619.0936,100006.4,72800.0,77872.35272052496,75857.59999999999,68640.0,55011.619999999995,76901.97551020408,28482.253092006034,79539.20000000001,28482.253092006034,77872.35272052496,59009.6,26866.666666666668,77872.35272052496,68553.68205128206,77872.35272052496,53842.5,93936.08333333333,68553.68205128206,62122.666666666664,70000.0,49920.0,64542.13333333333,64542.13333333333,77872.35272052496,68553.68205128206,26866.666666666668,104837.0,88619.0936,77872.35272052496,63939.76119402985,62714.67346938775,131820.5859649123,64542.13333333333,62714.67346938775,65998.40000000001,72800.0,64542.13333333333,77872.35272052496,55011.619999999995,77872.35272052496,62714.67346938775,51428.0,28482.253092006034,62714.67346938775,64091.91375,72800.0,51421.333333333336,22533.333333333332,68553.68205128206,76606.4,61371.62666666667,77872.35272052496,65866.66666666667,43680.0,77872.35272052496,58240.0,26866.666666666668,77872.35272052496,104000.0,104000.0,101554.52106835306,126000.0,120000.0,55000.0,77872.35272052496,65866.66666666667,96800.0,104000.0,104000.0,131820.5859649123,101554.52106835306,100000.0,54080.0,64542.13333333333,77872.35272052496,64542.13333333333,104000.0,104000.0,104000.0,104000.0,77872.35272052496,77872.35272052496,101554.52106835306,100000.0,66879.68205128206,131820.5859649123,93600.0,51421.333333333336,64542.13333333333,48547.200000000004,66879.68205128206,135185.33333333334,28482.253092006034,45760.0,77872.35272052496,77872.35272052496,85200.0,131820.5859649123,77872.35272052496,77872.35272052496,55011.619999999995,66879.68205128206,75940.79999999999,28482.253092006034,131820.5859649123,104000.0,62500.0,110000.0,120000.0,120000.0,100000.0,82360.0,51421.333333333336,51421.333333333336,51421.333333333336,77872.35272052496,124985.0,28482.253092006034,88619.0936,79979.03773584905,77872.35272052496,28482.253092006034,47840.0,104000.0,104000.0,77872.35272052496,80000.0,80000.0,61371.62666666667,77872.35272052496,93600.0,65866.66666666667,49920.0,64542.13333333333,88619.0936,66879.68205128206,63939.76119402985,77872.35272052496,55011.619999999995,63939.76119402985,43680.0,51421.333333333336,53842.5,77872.35272052496,35692.8,52000.0,49920.0,68553.68205128206,93600.0,52000.0,35360.0,77872.35272052496,61371.62666666667,77872.35272052496,93936.08333333333,77872.35272052496,68553.68205128206,77872.35272052496,104000.0,120000.0,101554.52106835306,70000.0,80000.0,101554.52106835306,66879.68205128206,88619.0936,51421.333333333336,88619.0936,51421.333333333336,77872.35272052496,77872.35272052496,49261.975000000006,77872.35272052496,112100.0,77872.35272052496,57200.0,88619.0936,77872.35272052496,77872.35272052496,63939.76119402985,88619.0936,55011.619999999995,77872.35272052496,48547.200000000004,77872.35272052496,61371.62666666667,55011.619999999995,76901.97551020408,49261.975000000006,77872.35272052496,77872.35272052496,120000.0,68553.68205128206,50336.0,77872.35272052496,56000.0,66879.68205128206,77872.35272052496,66879.68205128206,53185.6,131820.5859649123,29120.0,29120.0,77872.35272052496,88372.67,28482.253092006034,77872.35272052496,35048.0,77872.35272052496,77872.35272052496,77872.35272052496,77872.35272052496,63939.76119402985,77872.35272052496,76901.97551020408,43680.0,77872.35272052496,66879.68205128206,64480.0,88619.0936,42328.0,43680.0,66879.68205128206,88619.0936,77872.35272052496,41600.0,54308.8,77872.35272052496,28482.253092006034,28482.253092006034,77872.35272052496,51421.333333333336,52000.0,76901.97551020408,66879.68205128206,28482.253092006034,43576.0,77872.35272052496,68553.68205128206,68640.0,124985.0,68553.68205128206,60320.0,77872.35272052496,77872.35272052496,63939.76119402985,43680.0,55011.619999999995,68553.68205128206,19903.0,55000.0,101965.45454545454,55011.619999999995,131820.5859649123,29120.0,55011.619999999995,43680.0,76901.97551020408,26000.0,77872.35272052496,77872.35272052496,28482.253092006034,88619.0936,51421.333333333336,77872.35272052496,138635.06666666668,52130.0,68553.68205128206,130000.0,45760.0,77872.35272052496,67437.0,77872.35272052496,28482.253092006034,77872.35272052496,45760.0,68553.68205128206,94000.0,101965.45454545454,94000.0,77872.35272052496,55011.619999999995,77872.35272052496,64542.13333333333,68553.68205128206,85072.0,62714.67346938775,28482.253092006034,28482.253092006034,28482.253092006034,77872.35272052496,66879.68205128206,68553.68205128206,51421.333333333336,68640.0,75767.0,58240.0,101554.52106835306,77872.35272052496,24720.8,65000.0,54308.8,68553.68205128206,68553.68205128206,61371.62666666667,77872.35272052496,77872.35272052496,68553.68205128206,66879.68205128206,74000.0,101554.52106835306,77872.35272052496,62500.0,133000.0,77872.35272052496,145000.0,138635.06666666668,68553.68205128206,62714.67346938775,68553.68205128206,68553.68205128206,68553.68205128206,72925.20000000001,64107.0,77872.35272052496,63939.76119402985,77872.35272052496,77872.35272052496,77872.35272052496,93936.08333333333,89097.8,68553.68205128206,77872.35272052496,68553.68205128206,75767.0,77872.35272052496,65866.66666666667,131820.5859649123,47403.2,29120.0,52130.0,77872.35272052496,68553.68205128206,68553.68205128206,77872.35272052496,77872.35272052496,28482.253092006034,66879.68205128206,142600.0,86524.54545454546,107160.0,58240.0,58240.0,67447.5,68553.68205128206,101965.45454545454,40048.0,128500.0,77872.35272052496,28482.253092006034,62500.0,27040.0,77872.35272052496,88619.0936,70000.0,58240.0,58240.0,53842.5,80000.0,131820.5859649123,47840.0,77872.35272052496,80000.0,62500.0,63939.76119402985,70000.0,131820.5859649123,55011.619999999995,88619.0936,80000.0,80000.0,76901.97551020408,80000.0,77872.35272052496,75767.0,70000.0,77872.35272052496,45760.0,68553.68205128206,77872.35272052496,145707.52654134744,80000.0,80000.0,145707.52654134744,66879.68205128206,77872.35272052496,77872.35272052496,77872.35272052496,62400.0,145707.52654134744,26866.666666666668,62400.0,62714.67346938775,77872.35272052496,80000.0,82360.0,80000.0,131820.5859649123,96660.0,52000.0,77872.35272052496,28482.253092006034,68553.68205128206,77872.35272052496,77872.35272052496,76901.97551020408,65382.96,63939.76119402985,62400.0,79979.03773584905,77872.35272052496,79188.0,101554.52106835306,55011.619999999995,88372.67,101554.52106835306,101554.52106835306,91300.0,66879.68205128206,55011.619999999995,62714.67346938775,30347.2,77872.35272052496,77872.35272052496,62714.67346938775,62500.0,101554.52106835306,80000.0,101554.52106835306,68553.68205128206,77872.35272052496,65382.96,77872.35272052496,62714.67346938775,131820.5859649123,55011.619999999995,143100.0,77872.35272052496,77872.35272052496,55011.619999999995,18720.0,79979.03773584905,76960.0,88619.0936,80000.0,80000.0,70000.0,88372.67,60000.0,37440.0,77872.35272052496,62649.6,60153.600000000006,77872.35272052496,23712.0,23712.0,47840.0,62714.67346938775,68553.68205128206,135200.0,100000.0,66879.68205128206,101000.0,65395.200000000004,91300.0,83200.0,88619.0936,88619.0936,23712.0,58240.0,63939.76119402985,63939.76119402985,101554.52106835306,76901.97551020408,62649.6,66560.0,68553.68205128206,66879.68205128206,45760.0,77872.35272052496,98904.0,88619.0936,88619.0936,91300.0,77872.35272052496,77872.35272052496,66879.68205128206,62714.67346938775,61371.62666666667,77872.35272052496,91300.0,101150.40000000001,91300.0,91977.59999999999,91300.0,68553.68205128206,23712.0,62714.67346938775,91300.0,73320.0,77872.35272052496,77872.35272052496,60153.600000000006,77872.35272052496,91300.0,16640.0,16640.0,23712.0,85200.0,23703.333333333332,74880.0,62714.67346938775,57116.8,63939.76119402985,23712.0,23703.333333333332,91300.0,63939.76119402985,54773.333333333336,23712.0,23703.333333333332,63939.76119402985,56680.0,23712.0,23703.333333333332,23712.0,70720.0,63960.0,66879.68205128206,60320.0,68553.68205128206,68553.68205128206,63939.76119402985,101554.52106835306,63939.76119402985,34320.0,77872.35272052496,110000.0,64272.0,126000.0,62714.67346938775,52164.72,24013.600000000002,24960.0,55011.619999999995,77872.35272052496,46359.23,73912.8,35692.8,101554.52106835306,79979.03773584905,101554.52106835306,85000.0,34320.0,101554.52106835306,101554.52106835306,22865.7,77872.35272052496,77872.35272052496,55000.0,88619.0936,68553.68205128206,79040.0,88619.0936,34320.0,35692.8,24960.0,34320.0,55011.619999999995,34320.0,101965.45454545454,77872.35272052496,66879.68205128206,77872.35272052496,49920.0,39520.0,63939.76119402985,145707.52654134744,92395.20333333332,55011.619999999995,101554.52106835306,101554.52106835306,88619.0936,77872.35272052496,52000.0,68553.68205128206,51421.333333333336,145707.52654134744,101554.52106835306,45000.0,28482.253092006034,55011.619999999995,34320.0,88619.0936,51421.333333333336,101554.52106835306,101554.52106835306,101554.52106835306,66879.68205128206,101965.45454545454,50000.0,77872.35272052496,88619.0936,66879.68205128206,62714.67346938775,77872.35272052496,131820.5859649123,77872.35272052496,68553.68205128206,76901.97551020408,50960.0,55011.619999999995,35692.8,101554.52106835306,101554.52106835306,88372.67,131820.5859649123,62714.67346938775,76901.97551020408,40560.0,18720.0,49920.0,49920.0,88619.0936,131820.5859649123,131820.5859649123,88372.67,131820.5859649123,64091.91375,77872.35272052496,34320.0,101554.52106835306,22865.7,66879.68205128206,77872.35272052496,77872.35272052496,20010.9,68553.68205128206,20010.9,64542.13333333333,76901.97551020408,34320.0,101554.52106835306,101554.52106835306,101554.52106835306,77872.35272052496,77872.35272052496,88619.0936,68553.68205128206,70000.0,77872.35272052496,77872.35272052496,18980.0,105000.0,101554.52106835306,49920.0,49920.0,88619.0936,101554.52106835306,100100.0,101554.52106835306,73500.0,131820.5859649123,76606.4,58635.200000000004,45760.0,69992.0,77872.35272052496,77872.35272052496,72800.0,63939.76119402985,83800.0,145707.52654134744,61371.62666666667,68553.68205128206,63939.76119402985,68553.68205128206,20366.666666666668,66879.68205128206,62714.67346938775,77872.35272052496,62714.67346938775,77872.35272052496,46696.0,77872.35272052496,77872.35272052496,60219.8,77872.35272052496,61371.62666666667,54912.0,101554.52106835306,131820.5859649123,77872.35272052496,68553.68205128206,54773.333333333336,62714.67346938775,77872.35272052496,105000.0,45760.0,62714.67346938775,70000.0,68553.68205128206,68640.0,77872.35272052496,63939.76119402985,57116.8,28482.253092006034,66879.68205128206,90000.0,40048.0,68553.68205128206,110000.0,77872.35272052496,43680.0,89800.0,77872.35272052496,63939.76119402985,68553.68205128206,77872.35272052496,63939.76119402985,35048.0,77872.35272052496,73840.0,41600.0,89800.0,77872.35272052496,63939.76119402985,63939.76119402985,64000.0,77872.35272052496,64091.91375,62714.67346938775,65395.200000000004,77872.35272052496,55011.619999999995,82160.0,68553.68205128206,54773.333333333336,58500.0,79979.03773584905,77872.35272052496,93936.08333333333,77872.35272052496,112541.0,62714.67346938775,77872.35272052496,133000.0,65000.0,75809.0,77872.35272052496,81764.8,66601.6,76960.0,79979.03773584905,101554.52106835306,72800.0,62122.666666666664,66500.34285714287,101554.52106835306,89800.0,75000.0,66879.68205128206,77872.35272052496,55011.619999999995,143520.0,77872.35272052496,68200.0,88619.0936,77872.35272052496,77872.35272052496,77872.35272052496,62400.0,88619.0936,103350.0,18720.0,79979.03773584905,16640.0,101554.52106835306,16640.0,73840.0,100224.0,33904.0,70000.0,51421.333333333336,66879.68205128206,20010.9,77872.35272052496,40048.0,61371.62666666667,68553.68205128206,37440.0,145707.52654134744,65382.96,73736.0,79000.0,88619.0936,77872.35272052496,54080.0,64480.0,70000.0,43000.0,22533.333333333332,72800.0,77872.35272052496,77872.35272052496,77872.35272052496,77872.35272052496,131820.5859649123,77872.35272052496,33280.0,37440.0,88619.0936,60153.600000000006,23712.0,77872.35272052496,104000.0,62122.666666666664,77872.35272052496,73500.0,55011.619999999995,77872.35272052496,68553.68205128206,77872.35272052496,79979.03773584905,20800.0,77872.35272052496,63939.76119402985,63939.76119402985,49920.0,79979.03773584905,130000.0,56097.6,88619.0936,62714.67346938775,77872.35272052496,62400.0,16640.0,62714.67346938775,88400.0,145707.52654134744,77872.35272052496,28482.253092006034,140100.0,101554.52106835306,77872.35272052496,77872.35272052496,77872.35272052496,28482.253092006034,62714.67346938775,145707.52654134744,77872.35272052496,27872.0,59060.0,77872.35272052496,66879.68205128206,77872.35272052496,63939.76119402985,120640.0,56160.0,79979.03773584905,77872.35272052496,77872.35272052496,103350.0,55036.8,145707.52654134744,16640.0,131820.5859649123,65395.200000000004,77872.35272052496,77872.35272052496,88619.0936,77872.35272052496,77872.35272052496,101554.52106835306,83800.0,41600.0,143520.0,16640.0,101554.52106835306,16640.0,58240.0,28482.253092006034,131820.5859649123,65374.4,79979.03773584905,61330.0,64091.91375,100000.0,107160.0,52520.0,62714.67346938775,85000.0,48547.200000000004,70210.4,43000.0,77872.35272052496,16640.0,22533.333333333332,39520.0,88619.0936,88619.0936,79979.03773584905,79979.03773584905,53000.0,90000.0,95556.0,28482.253092006034,28482.253092006034,66879.68205128206,43680.0,77872.35272052496,27778.4,68553.68205128206,145707.52654134744,79979.03773584905,28482.253092006034,20010.9,16640.0,90000.0,77872.35272052496,93936.08333333333,55000.0,107160.0,55000.0,45000.0,37440.0,48692.799999999996,43576.0,64542.13333333333,63939.76119402985,66560.0,62233.600000000006,62233.600000000006,48692.799999999996,131820.5859649123,95018.84,64542.13333333333,76606.4,52000.0,65000.0,62233.600000000006,77872.35272052496,88619.0936,77872.35272052496,76901.97551020408,145707.52654134744,131820.5859649123,62714.67346938775,62714.67346938775,41600.0,66879.68205128206,79979.03773584905,60486.399999999994,79979.03773584905,68553.68205128206,79979.03773584905,65866.66666666667,61371.62666666667,45000.0,31537.0,62122.666666666664,62122.666666666664,88372.67,35776.0,59737.6,62122.666666666664,62122.666666666664,61371.62666666667,66879.68205128206,77872.35272052496,68553.68205128206,62122.666666666664,88619.0936,61371.62666666667,67253.33333333333,47632.0,131820.5859649123,55011.619999999995,68553.68205128206,67253.33333333333,62122.666666666664,77872.35272052496,28482.253092006034,88619.0936,77872.35272052496,63939.76119402985,77872.35272052496,34320.0,45094.4,75000.0,77872.35272052496,77872.35272052496,51376.0,63939.76119402985,100100.0,131820.5859649123,55011.619999999995,63939.76119402985,131820.5859649123,28482.253092006034,50000.0,45760.0,37440.0,77872.35272052496,77872.35272052496,55011.619999999995,34320.0,28482.253092006034,77872.35272052496,63939.76119402985,35048.0,62122.666666666664,62122.666666666664,62122.666666666664,49920.0,34320.0,34320.0,66879.68205128206,58760.0,55011.619999999995,88619.0936,28482.253092006034,66879.68205128206,62122.666666666664,62122.666666666664,34320.0,101554.52106835306,81681.6,28482.253092006034,77872.35272052496,68553.68205128206,66879.68205128206,68553.68205128206,55011.619999999995,56680.84,83200.0,28482.253092006034,88372.67,125000.0,77872.35272052496,77872.35272052496,26866.666666666668,145707.52654134744,77872.35272052496,92395.20333333332,76606.4,22533.333333333332,28482.253092006034,77872.35272052496,77872.35272052496,62714.67346938775,68553.68205128206,125000.0,66500.34285714287,76901.97551020408,77872.35272052496,64542.13333333333,88619.0936,34320.0,131820.5859649123,28482.253092006034,63939.76119402985,101554.52106835306,101554.52106835306,55011.619999999995,76901.97551020408,77872.35272052496,63939.76119402985,65866.66666666667,77872.35272052496,63939.76119402985,88619.0936,88619.0936,76901.97551020408,77872.35272052496,64542.13333333333,101554.52106835306,43617.6,28482.253092006034,65866.66666666667,64542.13333333333,58240.0,99110.0,63939.76119402985,145000.0,101554.52106835306,66879.68205128206,48547.200000000004,131820.5859649123,77872.35272052496,77872.35272052496,66560.0,43680.0,77872.35272052496,29640.0,90000.0,77872.35272052496,65866.66666666667,93600.0,45760.0,77872.35272052496,74880.0,54080.0,68553.68205128206,77872.35272052496,61371.62666666667,77872.35272052496,77872.35272052496,101554.52106835306,77872.35272052496,50960.0,62500.0,56680.84,101554.52106835306,94000.0,66879.68205128206,68553.68205128206,63939.76119402985,119300.0,77872.35272052496,53393.600000000006,77872.35272052496,77872.35272052496,68640.0,37440.0,28482.253092006034,26041.6,54163.2,28482.253092006034,66879.68205128206,77872.35272052496,63939.76119402985,76901.97551020408,77872.35272052496,35360.0,110000.0,61371.62666666667,131820.5859649123,88619.0936,48547.200000000004,99000.0,77872.35272052496,54080.0,48547.200000000004,131820.5859649123,79979.03773584905,77872.35272052496,76901.97551020408,62714.67346938775,88619.0936,48547.200000000004,62714.67346938775,23712.0,61371.62666666667,68553.68205128206,48547.200000000004,62714.67346938775,93936.08333333333,32812.0,77872.35272052496,79979.03773584905,77872.35272052496,88619.0936,68553.68205128206,77872.35272052496,88379.0,77872.35272052496,16640.0,107160.0,51600.0,114275.2,77872.35272052496,62714.67346938775,88379.0,50169.600000000006,91073.0,74337.0,76901.97551020408,49920.0,77872.35272052496,64542.13333333333,48547.200000000004,77872.35272052496,47840.0,79979.03773584905,28482.253092006034,88379.0,91073.0,120000.0,28482.253092006034,63939.76119402985,80000.0,42328.0,62714.67346938775,68553.68205128206,63939.76119402985,128800.0,62714.67346938775,68200.0,59060.0,77872.35272052496,28482.253092006034,77872.35272052496,77872.35272052496,64542.13333333333,93936.08333333333,131820.5859649123,69721.6,76901.97551020408,55390.4,77872.35272052496,64542.13333333333,131820.5859649123,64542.13333333333,68553.68205128206,76901.97551020408,75000.0,52000.0,48880.0,66560.0,48880.0,37000.0,75000.0,39520.0,52000.0,67253.33333333333,61371.62666666667,60000.0,131820.5859649123,61371.62666666667,61371.62666666667,29640.0,28080.0,29640.0,28482.253092006034,26866.666666666668,29640.0,29640.0,29640.0,31200.0,77872.35272052496,20800.0,29640.0,29640.0,58240.0,77872.35272052496,105549.28,42328.0,28482.253092006034,83200.0,20010.9,119400.0,83200.0,53664.0,40160.0,104377.14285714286,83200.0,60944.0,131820.5859649123,101554.52106835306,66879.68205128206,48297.6,49000.0,68000.0,101554.52106835306,110000.0,76606.4,90000.0,31200.0,26000.0,20800.0,63939.76119402985,52000.0,138635.06666666668,77872.35272052496,64091.91375,68640.0,66879.68205128206,45000.0,77872.35272052496,77872.35272052496,77872.35272052496,50604.0,63939.76119402985,88372.67,28482.253092006034,61371.62666666667,145000.0,64091.91375,77872.35272052496,67253.33333333333,39520.0,28482.253092006034,42864.0,93600.0,28482.253092006034,77872.35272052496,131820.5859649123,55011.619999999995,68553.68205128206,60108.0,104000.0,67253.33333333333,28482.253092006034,63939.76119402985,64542.13333333333,28482.253092006034,100100.0,77872.35272052496,39520.0,52000.0,52000.0,77872.35272052496,77872.35272052496,20800.0,26866.666666666668,77872.35272052496,77872.35272052496,77872.35272052496,26866.666666666668,77872.35272052496,28482.253092006034,77872.35272052496,77872.35272052496,77872.35272052496,77872.35272052496,77872.35272052496,77872.35272052496,77872.35272052496,68553.68205128206,88372.67,60000.0,50960.0,63939.76119402985,131820.5859649123,63939.76119402985,95000.0,63939.76119402985,64091.91375,63939.76119402985,62400.0,77872.35272052496,88619.0936,55000.0,50000.0,88619.0936,55000.0,77872.35272052496,74880.0,68000.0,100100.0,63939.76119402985,88372.67,39520.0,65000.0,63939.76119402985,101554.52106835306,62714.67346938775,65000.0,101554.52106835306,77872.35272052496,40000.0,77872.35272052496,88619.0936,49920.0,52000.0,79979.03773584905,52000.0,45760.0,88619.0936,70720.0,88619.0936,47840.0,88619.0936,101554.52106835306,46716.8,76901.97551020408,77872.35272052496,136000.0,56980.0,79979.03773584905,145707.52654134744,59500.0,45760.0,62714.67346938775,78500.0,41600.0,80000.0,56980.0,75000.0,85000.0,60000.0,59500.0,131820.5859649123,83200.0,41600.0,65000.0,62122.666666666664,101554.52106835306,63939.76119402985,45760.0,75626.66666666667,107160.0,100000.0,65014.0,72925.20000000001,51600.0,51600.0,83000.0,44480.8,63939.76119402985,77872.35272052496,55000.0,49920.0,51600.0,42723.2,40560.0,65382.96,100000.0,84134.0,140000.0,52000.0,51600.0,42328.0,52000.0,80000.0,77872.35272052496,77872.35272052496,20010.9,38542.4,77872.35272052496,64542.13333333333,95018.84,44480.8,88372.67,88372.67,90000.0,105000.0,20010.9,26000.0,26000.0,54080.0,78360.0,66879.68205128206,63939.76119402985,68553.68205128206,107160.0,77872.35272052496,77872.35272052496,63939.76119402985,60000.0,49920.0,65000.0,63939.76119402985,96000.0,77872.35272052496,66879.68205128206,101554.52106835306,77872.35272052496,39520.0,62714.67346938775,22533.333333333332,47840.0,101554.52106835306,62122.666666666664,66879.68205128206,66879.68205128206,56980.0,101554.52106835306,52832.0,94000.0,61371.62666666667,108000.0,68553.68205128206,88372.67,77872.35272052496,49088.0,22048.0,43576.0,77872.35272052496,77872.35272052496,45760.0,101554.52106835306,70000.0,77872.35272052496,51421.333333333336,66879.68205128206,42986.666666666664,22533.333333333332,68553.68205128206,68553.68205128206,14872.0,63585.6,62714.67346938775,58240.0,69300.0,34320.0,77872.35272052496,131820.5859649123,91073.0,54100.8,56076.8,63939.76119402985,42640.0,77872.35272052496,62714.67346938775,68200.0,23703.333333333332,49088.0,28482.253092006034,101965.45454545454,45000.0,63939.76119402985,68553.68205128206,63939.76119402985,62714.67346938775,61371.62666666667,77872.35272052496,77872.35272052496,101554.52106835306,77872.35272052496,26866.666666666668,22533.333333333332,49088.0,101554.52106835306,131820.5859649123,23712.0,62400.0,113013.33333333333,64355.200000000004,68553.68205128206,20010.9,20010.9,101554.52106835306,66879.68205128206,26866.666666666668,54100.8,40560.0,75000.0,90000.0,15600.0,77872.35272052496,66879.68205128206,92395.20333333332,76901.97551020408,79800.0,63939.76119402985,77872.35272052496,22533.333333333332,101554.52106835306,77872.35272052496,131820.5859649123,64542.13333333333,20010.9,63939.76119402985,66879.68205128206,20010.9,63939.76119402985,60000.0,25376.0,88372.67,77872.35272052496,28482.253092006034,88372.67,85000.0,76901.97551020408,85000.0,72800.0,77872.35272052496,131820.5859649123,60000.0,130000.0,51421.333333333336,55011.619999999995,39520.0,51421.333333333336,63939.76119402985,100000.0,75767.0,66879.68205128206,60000.0,60000.0,77872.35272052496,20010.9,131820.5859649123,138635.06666666668,68553.68205128206,68553.68205128206,88372.67,68553.68205128206,63939.76119402985,99394.0,69326.4,90000.0,66560.0,56160.0,49920.0,131820.5859649123,20010.9,20010.9,20010.9,101554.52106835306,83000.0,63939.76119402985,63939.76119402985,88619.0936,52000.0,77872.35272052496,100000.0,55011.619999999995,92395.20333333332,20010.9,33280.0,72800.0,77872.35272052496,63939.76119402985,52000.0,66560.0,77872.35272052496,20010.9,20010.9,66879.68205128206,28482.253092006034,131820.5859649123,88372.67,131820.5859649123,92395.20333333332,131820.5859649123,77872.35272052496,28482.253092006034,77872.35272052496,66879.68205128206,59446.399999999994,76453.33333333333,68553.68205128206,28482.253092006034,68553.68205128206,63000.0,49920.0,99394.0,101554.52106835306,50000.0,90000.0,76901.97551020408,75000.0,78177.32800000001,70210.4,63939.76119402985,83200.0,77872.35272052496,63939.76119402985,63939.76119402985,76901.97551020408,65000.0,70000.0,88619.0936,63939.76119402985,25261.6,23920.0,68553.68205128206,23920.0,41600.0,88619.0936,105000.0,91850.0,41600.0,57116.8,77872.35272052496,48547.200000000004,77872.35272052496,48547.200000000004,130200.0,19240.0,27820.0,87000.0,63939.76119402985,66500.34285714287,76901.97551020408,68553.68205128206,39520.0,77872.35272052496,77872.35272052496,101420.79999999999,23703.333333333332,126000.0,88619.0936,62714.67346938775,28482.253092006034,101554.52106835306,62714.67346938775,88619.0936,66879.68205128206,77872.35272052496,62500.0,62714.67346938775,77872.35272052496,62714.67346938775,55011.619999999995,88619.0936,76901.97551020408,24180.0,88619.0936,19240.0,131820.5859649123,57116.8,82360.0,99840.0,45968.0,23703.333333333332,116990.0,77872.35272052496,40560.0,57116.8,88619.0936,57116.8,57553.600000000006,77872.35272052496,101554.52106835306,49150.399999999994,28482.253092006034,62714.67346938775,77872.35272052496,90000.0,28482.253092006034,62714.67346938775,23703.333333333332,77872.35272052496,88619.0936,43680.0,54080.0,77872.35272052496,72925.20000000001,77872.35272052496,126000.0,77872.35272052496,28482.253092006034,131820.5859649123,82884.0,28482.253092006034,92395.20333333332,20800.0,41600.0,77872.35272052496,77872.35272052496,90000.0,74880.0,145707.52654134744,61371.62666666667,68553.68205128206,64920.0,58000.0,143800.0,143800.0,68553.68205128206,68553.68205128206,90000.0,28482.253092006034,68553.68205128206,77872.35272052496,41600.0,101554.52106835306,68515.2,77872.35272052496,101554.52106835306,61371.62666666667,77872.35272052496,77872.35272052496,55000.0,68515.2,68553.68205128206,101554.52106835306,28482.253092006034,55011.619999999995,95400.0,68515.2,52000.0,145707.52654134744,77872.35272052496,88619.0936,66879.68205128206,104900.0,88619.0936,65000.0,131820.5859649123,77872.35272052496,77872.35272052496,68515.2,68515.2,66879.68205128206,41600.0,55011.619999999995,145707.52654134744,50000.0,41600.0,85000.0,51421.333333333336,33280.0,77872.35272052496,62714.67346938775,110000.0,77872.35272052496,97000.0,131820.5859649123,66879.68205128206,41600.0,68553.68205128206,91392.0,67437.0,58240.0,77872.35272052496,28482.253092006034,77872.35272052496,77872.35272052496,55011.619999999995,77872.35272052496,138635.06666666668,66879.68205128206,28482.253092006034,66879.68205128206,94000.0,55011.619999999995,95000.0,47840.0,17680.0,131820.5859649123,77872.35272052496,88000.0,73840.0,77872.35272052496,88619.0936,77872.35272052496,145707.52654134744,66879.68205128206,77872.35272052496,62714.67346938775,53842.5,66879.68205128206,39520.0,66879.68205128206,53842.5,90000.0,28482.253092006034],\"yaxis\":\"y\",\"type\":\"scattergl\"},{\"hovertemplate\":\"experience=Executive\\u003cbr\\u003emin_salary=%{x}\\u003cbr\\u003emax_salary=%{y}\\u003cextra\\u003e\\u003c\\u002fextra\\u003e\",\"legendgroup\":\"Executive\",\"marker\":{\"color\":\"#EF553B\",\"symbol\":\"circle\"},\"mode\":\"markers\",\"name\":\"Executive\",\"showlegend\":true,\"x\":[114880.0,105316.33424242424,77435.77466666668,84433.54469739618,39520.0,82308.66666666667,37000.0,60000.0,82308.66666666667,60000.0,100000.0,70000.0,78000.0,82308.66666666667,73109.8,82308.66666666667,159694.45,150000.0,105316.33424242424,49758.27692307692,47409.142857142855,82308.66666666667,200000.0,84433.54469739618,200000.0,83433.0,110000.0,45000.0,49758.27692307692,185000.0,180000.0,180000.0,250000.0,60000.0,65000.0,82308.66666666667,60000.0,44058.479999999996,84433.54469739618,82308.66666666667,60000.0,60000.0,78376.896,60000.0,64000.0,125000.0,35000.0,84433.54469739618,110000.0,82308.66666666667,82308.66666666667,67000.0,83622.85714285714,85406.0,95000.0,180000.0,82308.66666666667,105316.33424242424,84433.54469739618,82308.66666666667,200000.0,82308.66666666667,82308.66666666667,75000.0,52000.0,80000.0,55000.0,117500.0,90000.0,52000.0,84433.54469739618,19781.85263157895,135000.0,115500.0,50000.0,44058.479999999996,114880.0,90000.0,62400.0,60000.0,52000.0,100000.0,70000.0,82308.66666666667,84433.54469739618,84433.54469739618,44058.479999999996,84433.54469739618,105316.33424242424,82308.66666666667,45000.0,78376.896,65000.0,82308.66666666667,82308.66666666667,84433.54469739618,84433.54469739618,82308.66666666667,52000.0,64126.399999999994,82308.66666666667,70000.0,47840.0,35360.0,19781.85263157895,100000.0,49890.0,122700.0,54435.68000000001,41600.0,78376.896,70720.0,120000.0,190000.0,19364.800000000003,82308.66666666667,82308.66666666667,48796.8,35713.600000000006,45000.0,175000.0,50000.0,82308.66666666667,62400.0,175000.0,26000.0,34424.0,82308.66666666667,60000.0,41600.0,128190.4,82308.66666666667,140000.0,49500.0,35000.0,84433.54469739618,51272.0,70000.0,82308.66666666667,39520.0,47409.142857142855,37440.0,44720.0,114833.22142857143,152464.0,150000.0,81976.66666666667,84433.54469739618,90000.0,35360.0,44058.479999999996,202500.0,33280.0,55000.0,61006.399999999994,105316.33424242424,121200.0,82308.66666666667,84433.54469739618,47409.142857142855,105316.33424242424,70000.0,78376.896,80000.0,65000.0,83134.12,43240.0,62500.0,84433.54469739618,18000.0,70000.0,82308.66666666667,80000.0,105316.33424242424,175000.0,44058.479999999996,75160.785,175000.0,114880.0,78376.896,44058.479999999996,54435.68000000001,54435.68000000001,54435.68000000001,84433.54469739618,41600.0,49758.27692307692,49758.27692307692,43240.0,43240.0,84433.54469739618,82308.66666666667,53779.0,50000.0,53779.0,83160.0,105316.33424242424,75160.785,65000.0,84433.54469739618,152464.0,53779.0,53779.0,70000.0,75160.785,82409.59999999999,152464.0,84433.54469739618,49504.0,82308.66666666667,43240.0,73109.8,84433.54469739618,49758.27692307692,44058.479999999996,49758.27692307692,110000.0,77435.77466666668,58052.8,49758.27692307692,44058.479999999996,145000.0,84433.54469739618,77435.77466666668,44058.479999999996,80000.0,196000.0,105316.33424242424,215000.0,37440.0,84433.54469739618,115000.0,19781.85263157895,60000.0,12000.0,82308.66666666667,110000.0,82308.66666666667,83622.85714285714,82308.66666666667,150000.0,70000.0,114833.22142857143,82308.66666666667,84433.54469739618,122700.0,84433.54469739618,19580.0,47600.0,43680.0,84433.54469739618,84433.54469739618,115500.0,185000.0,76611.11111111111,82308.66666666667,55000.0,100000.0,200000.0,82308.66666666667,84433.54469739618,150000.0,77435.77466666668,150000.0,80000.0,77435.77466666668,84433.54469739618,19580.0,125000.0,150000.0,104249.6,200000.0,83000.0,105316.33424242424,76960.0,78376.896,77435.77466666668,64480.0,44058.479999999996,49758.27692307692,84433.54469739618,60000.0,40144.0,105316.33424242424,114880.0,39600.0,44058.479999999996,60000.0,84433.54469739618,84433.54469739618,84433.54469739618,83622.85714285714,82308.66666666667,33280.0,135000.0,44058.479999999996,84433.54469739618,84433.54469739618,42800.0,45760.0,37440.0,133416.42,44058.479999999996,44058.479999999996,44058.479999999996,84433.54469739618,84433.54469739618,84433.54469739618,84433.54469739618,152464.0,75000.0,39600.0,49758.27692307692,77435.77466666668,44058.479999999996,84433.54469739618,84433.54469739618,78376.896,140197.0,77435.77466666668,84433.54469739618,84433.54469739618,120240.0,105316.33424242424,173407.5,44058.479999999996,40000.0,44058.479999999996,77435.77466666668,84433.54469739618,84433.54469739618,84433.54469739618,70000.0,84433.54469739618,84433.54469739618,84433.54469739618,84433.54469739618,84433.54469739618,84433.54469739618,84433.54469739618,84433.54469739618,84433.54469739618,44058.479999999996,111100.0,122000.0,90000.0,78376.896,84433.54469739618,60000.0,82308.66666666667,82308.66666666667,69600.0,79000.0,76611.11111111111,200000.0,189400.0,81200.0,45000.0,20800.0,37440.0,60000.0,84433.54469739618,84433.54469739618,95000.0,37440.0,108880.0,19781.85263157895,76611.11111111111,82308.66666666667,122000.0,42000.0,152464.0,185000.0,44058.479999999996,78376.896,70000.0,165000.0,122900.0,48609.600000000006,75160.785,44058.479999999996,56000.0,65000.0,80000.0,200000.0,81976.66666666667,84433.54469739618,70000.0,175000.0,180000.0,170000.0,125000.0,54435.68000000001,60643.14,152464.0,105316.33424242424,84433.54469739618,185000.0,140000.0,190000.0,20800.0,115000.0,84433.54469739618,77435.77466666668,44687.82,43240.0,200000.0,105000.0,19781.85263157895,82308.66666666667,84433.54469739618,49758.27692307692,55000.0,77435.77466666668,49758.27692307692,70000.0,18000.0,60000.0,84433.54469739618,84433.54469739618,130000.0,19781.85263157895,105316.33424242424,83622.85714285714,78376.896,82308.66666666667,77435.77466666668,202500.0,37440.0,82308.66666666667,202500.0,202500.0,185000.0,130000.0,202500.0,43240.0,185000.0,114833.22142857143,78700.0,202500.0,99500.0,82308.66666666667,105316.33424242424,82308.66666666667,80000.0,47409.142857142855,41600.0,50000.0,105316.33424242424,55000.0,100000.0,32240.0,250000.0,38440.0,20280.0,44058.479999999996,105472.0,19580.0,84433.54469739618,84433.54469739618,84433.54469739618,43240.0,82308.66666666667,60000.0,60000.0,82308.66666666667,54435.68000000001,19781.85263157895,70000.0,84433.54469739618,49758.27692307692,266815.0,77435.77466666668,49758.27692307692,77435.77466666668,105316.33424242424,63000.0,54435.68000000001,49758.27692307692,54435.68000000001,33176.0,69680.0,105316.33424242424,65000.0,48588.799999999996,83622.85714285714,75000.0,76611.11111111111,54435.68000000001,49758.27692307692,77435.77466666668,83622.85714285714,84433.54469739618,84433.54469739618,84433.54469739618,52000.0,84433.54469739618,78376.896,75000.0,83622.85714285714,105316.33424242424,84433.54469739618,84433.54469739618,69680.0,54435.68000000001,19781.85263157895,77435.77466666668,117500.0,75000.0,102550.0,98945.59999999999,202500.0,105316.33424242424,150000.0,44058.479999999996,43240.0,49608.0,112000.0,19580.0,130000.0,43240.0,43240.0,43240.0,84433.54469739618,43240.0,65000.0,90000.0,105316.33424242424,44058.479999999996,105316.33424242424,65000.0,43240.0,43240.0,43240.0,75160.785,44058.479999999996,43240.0,43240.0,43240.0,140000.0,45000.0,15600.0,105316.33424242424,113700.0,84433.54469739618,182000.0,84433.54469739618,46800.0,43240.0,80000.0,113700.0,49758.27692307692,82308.66666666667,105316.33424242424,82308.66666666667,84433.54469739618,185000.0,84433.54469739618,117000.0,43240.0,84433.54469739618,136200.0,54435.68000000001,152000.0,49800.0,54435.68000000001,185000.0,196000.0,82308.66666666667,152464.0,45400.0,84433.54469739618,65000.0,77435.77466666668,77435.77466666668,55120.0,152464.0,34736.0,34736.0,34736.0,67000.0,140000.0,34736.0,34736.0,84433.54469739618,45760.0,47840.0,34736.0,34736.0,34736.0,34736.0,34736.0,19781.85263157895,84433.54469739618,54435.68000000001,19781.85263157895,34736.0,54435.68000000001,41600.0,34736.0,34736.0,34736.0,34736.0,34736.0,84433.54469739618,34736.0,34736.0,47409.142857142855,84433.54469739618,149500.0,34736.0,34736.0,34736.0,34049.600000000006,170000.0,34736.0,34736.0,58240.0,72800.0,84433.54469739618,110000.0,160000.0,131040.0,49758.27692307692,52000.0,105316.33424242424,105316.33424242424,105316.33424242424,23836.800000000003,200000.0,78376.896,105316.33424242424,105316.33424242424,15600.0,43240.0,315000.0,23836.800000000003,77435.77466666668,105316.33424242424,52000.0,90000.0,105316.33424242424,105316.33424242424,105316.33424242424,44687.82,200000.0,105316.33424242424,54435.68000000001,32240.0,77435.77466666668,23836.800000000003,100000.0,18720.0,105000.0,105316.33424242424,78376.896,82300.0,77435.77466666668,37440.0,90000.0,65000.0,44058.479999999996,84433.54469739618,32240.0,80000.0,77435.77466666668,44058.479999999996,19781.85263157895,84433.54469739618,35000.0,54686.1,84433.54469739618,82308.66666666667,180000.0,44058.479999999996,19781.85263157895,84433.54469739618,64480.0,41600.0,90000.0,19781.85263157895,105316.33424242424,68896.0,45400.0,82308.66666666667,85000.0,78376.896,54435.68000000001,65478.4,45000.0,77435.77466666668,77435.77466666668,77435.77466666668,84433.54469739618,37300.0,43240.0,84433.54469739618,45000.0,84433.54469739618,35880.0,185000.0,77435.77466666668,77435.77466666668,77435.77466666668,105316.33424242424,84433.54469739618,105316.33424242424,35000.0,43240.0,43240.0,19781.85263157895,144206.41,35880.0,58000.0,81976.66666666667,77435.77466666668,77435.77466666668,77435.77466666668,77435.77466666668,77435.77466666668,54435.68000000001,47840.0,100000.0,185000.0,35000.0,133000.0,84433.54469739618,77435.77466666668,77435.77466666668,35360.0,39520.0,114833.22142857143,45000.0,43240.0,77435.77466666668,77435.77466666668,39520.0,77435.77466666668,77435.77466666668,99000.0,82308.66666666667,82308.66666666667,82308.66666666667,105316.33424242424,105316.33424242424,54435.68000000001,82308.66666666667,105316.33424242424,54435.68000000001,78376.896,140000.0,36400.0,105316.33424242424,248000.0,84433.54469739618,32240.0,77435.77466666668,19760.0,105316.33424242424,44058.479999999996,105316.33424242424,55120.0,62400.0,84433.54469739618,100000.0,31200.0,105316.33424242424,17940.0,44058.479999999996,84433.54469739618,44058.479999999996,84433.54469739618,70000.0,84433.54469739618,175200.0,84433.54469739618,43240.0,82308.66666666667,47409.142857142855,35360.0,43240.0,510000.0,72800.0,45760.0,43240.0,95000.0,151000.0,70000.0,43240.0,65000.0,151000.0,70000.0,70000.0,54435.68000000001,151000.0,82308.66666666667,84433.54469739618,151000.0,70000.0,19781.85263157895,77435.77466666668,84433.54469739618,84433.54469739618,84433.54469739618,84433.54469739618,84433.54469739618,84433.54469739618,82308.66666666667,84433.54469739618,84433.54469739618,84433.54469739618,84433.54469739618,77435.77466666668,84433.54469739618,84433.54469739618,84433.54469739618,77435.77466666668,84433.54469739618,84433.54469739618,84433.54469739618,77435.77466666668,84433.54469739618,84433.54469739618,84433.54469739618,84433.54469739618,105316.33424242424,130000.0,65000.0,76611.11111111111,117500.0,115000.0,54435.68000000001,175200.0,85000.0,52000.0,75000.0,84433.54469739618,77435.77466666668,77435.77466666668,82308.66666666667,105316.33424242424,84433.54469739618,84433.54469739618,84433.54469739618,52000.0,65000.0,33280.0,47840.0,82308.66666666667,43680.0,105316.33424242424,49758.27692307692,105316.33424242424,185000.0,84433.54469739618,179500.0,84433.54469739618,114880.0,152464.0,78376.896,175200.0,54435.68000000001,36000.0,40000.0,84433.54469739618,43240.0,84433.54469739618,152464.0,84433.54469739618,44058.479999999996,35000.0,75160.785,75160.785,134000.0,19781.85263157895,47000.0,75160.785,49758.27692307692,77435.77466666668,55125.0,84433.54469739618,84433.54469739618,47000.0,82308.66666666667,60000.0,117500.0,82308.66666666667,65000.0,70400.0,105316.33424242424,44058.479999999996,105316.33424242424,114880.0,40000.0,54435.68000000001,35360.0,81976.66666666667,150000.0,58500.0,66560.0,100000.0,60000.0,114880.0,152464.0,114880.0,76611.11111111111,82308.66666666667,117500.0,114880.0,19580.0,54435.68000000001,114880.0,82308.66666666667,78376.896,114880.0,165000.0,75600.0,80730.0,65000.0,100000.0,77435.77466666668,120000.0,81000.0,80000.0,105316.33424242424,215000.0,77435.77466666668,19580.0,82308.66666666667,105316.33424242424,105316.33424242424,85000.0,35713.600000000006,70000.0,44058.479999999996,105316.33424242424,44058.479999999996,84433.54469739618,175200.0,44058.479999999996,44058.479999999996,105316.33424242424,84433.54469739618,44058.479999999996,44058.479999999996,60000.0,84433.54469739618,55000.0,105316.33424242424,97000.0,43240.0,122700.0,35000.0,84433.54469739618,82308.66666666667,44058.479999999996,28800.0,19781.85263157895,84433.54469739618,84433.54469739618,84433.54469739618,34216.0,84433.54469739618,94200.0,84433.54469739618,84433.54469739618,84433.54469739618,84433.54469739618,84433.54469739618,105316.33424242424,54435.68000000001,84433.54469739618,34216.0,133000.0,84433.54469739618,84433.54469739618,83622.85714285714,65000.0,120000.0,133000.0,54435.68000000001,120000.0,84433.54469739618,37440.0,120000.0,80000.0,240000.0,65000.0,49758.27692307692,44058.479999999996,84433.54469739618,84433.54469739618,84433.54469739618],\"xaxis\":\"x\",\"y\":[167960.0,142002.89090909093,101348.85666666667,112067.691549196,95680.0,111274.5,50000.0,100000.0,111274.5,70000.0,110000.0,120000.0,95500.0,111274.5,130921.0,111274.5,210287.09,175000.0,142002.89090909093,66426.66153846154,57126.857142857145,111274.5,169358.90465459143,112067.691549196,169358.90465459143,112372.0,120000.0,65000.0,66426.66153846154,169358.90465459143,169358.90465459143,169358.90465459143,169358.90465459143,90000.0,75000.0,111274.5,62000.0,61357.02,112067.691549196,111274.5,150000.0,65000.0,97960.704,70000.0,68000.0,175000.0,55000.0,112067.691549196,130000.0,111274.5,111274.5,75000.0,95228.57142857143,104622.0,110000.0,169358.90465459143,111274.5,142002.89090909093,112067.691549196,111274.5,169358.90465459143,111274.5,111274.5,85000.0,57000.0,87000.0,148000.0,173333.33333333334,100000.0,62400.0,112067.691549196,23795.22105263158,155000.0,194500.0,70000.0,61357.02,167960.0,125000.0,72800.0,65000.0,62400.0,100000.0,90000.0,111274.5,112067.691549196,112067.691549196,61357.02,112067.691549196,142002.89090909093,111274.5,55000.0,97960.704,70000.0,111274.5,111274.5,112067.691549196,112067.691549196,111274.5,62400.0,81868.8,111274.5,70000.0,52000.0,41600.0,23795.22105263158,200000.0,83149.0,165300.0,70024.8,41600.0,97960.704,74880.0,200000.0,169358.90465459143,24221.6,111274.5,111274.5,82368.0,47257.6,60000.0,169358.90465459143,60000.0,111274.5,66560.0,169358.90465459143,35963.2,51688.0,111274.5,72000.0,62400.0,136000.0,111274.5,170000.0,61944.0,45000.0,112067.691549196,82368.0,80000.0,111274.5,60320.0,57126.857142857145,45760.0,44720.0,147884.73761904764,204784.0,200000.0,101249.66666666667,112067.691549196,100000.0,37440.0,61357.02,169358.90465459143,83200.0,65000.0,86673.6,142002.89090909093,203300.0,111274.5,112067.691549196,57126.857142857145,142002.89090909093,80000.0,97960.704,87500.0,95000.0,129165.28,59540.0,105000.0,112067.691549196,180000.0,80000.0,111274.5,100000.0,142002.89090909093,169358.90465459143,61357.02,95895.2925,169358.90465459143,167960.0,97960.704,61357.02,70024.8,70024.8,70024.8,112067.691549196,49920.0,66426.66153846154,66426.66153846154,59540.0,59540.0,112067.691549196,111274.5,88744.0,60000.0,88744.0,154440.0,142002.89090909093,95895.2925,85000.0,112067.691549196,204784.0,88744.0,88744.0,80000.0,95895.2925,111508.8,204784.0,112067.691549196,55952.0,111274.5,59540.0,130921.0,112067.691549196,66426.66153846154,61357.02,66426.66153846154,120000.0,101348.85666666667,65124.799999999996,66426.66153846154,61357.02,155000.0,112067.691549196,101348.85666666667,61357.02,90000.0,169358.90465459143,142002.89090909093,169358.90465459143,122720.0,112067.691549196,145000.0,23795.22105263158,62000.0,60000.0,111274.5,125000.0,111274.5,95228.57142857143,111274.5,185000.0,85000.0,147884.73761904764,111274.5,112067.691549196,165300.0,112067.691549196,24400.0,97500.0,43680.0,112067.691549196,112067.691549196,163500.0,169358.90465459143,99388.88888888889,111274.5,65000.0,125000.0,169358.90465459143,111274.5,112067.691549196,185000.0,101348.85666666667,185000.0,110000.0,101348.85666666667,112067.691549196,24400.0,130000.0,185000.0,134243.2,169358.90465459143,130000.0,142002.89090909093,121680.0,97960.704,101348.85666666667,85000.0,61357.02,66426.66153846154,112067.691549196,70000.0,50689.600000000006,142002.89090909093,167960.0,68500.0,61357.02,100000.0,112067.691549196,112067.691549196,112067.691549196,95228.57142857143,111274.5,49920.0,150000.0,61357.02,112067.691549196,112067.691549196,73600.0,58240.0,37440.0,150000.0,61357.02,61357.02,61357.02,112067.691549196,112067.691549196,112067.691549196,112067.691549196,204784.0,85000.0,68500.0,66426.66153846154,101348.85666666667,61357.02,112067.691549196,112067.691549196,97960.704,184008.0,101348.85666666667,112067.691549196,112067.691549196,180372.0,142002.89090909093,169358.90465459143,61357.02,60000.0,61357.02,101348.85666666667,112067.691549196,112067.691549196,112067.691549196,85000.0,112067.691549196,112067.691549196,112067.691549196,112067.691549196,112067.691549196,112067.691549196,112067.691549196,112067.691549196,112067.691549196,61357.02,206500.0,210000.0,110000.0,97960.704,112067.691549196,70000.0,111274.5,111274.5,69600.0,116000.0,99388.88888888889,169358.90465459143,169358.90465459143,87282.0,55000.0,26000.0,63648.0,85000.0,112067.691549196,112067.691549196,155000.0,62400.0,150000.0,23795.22105263158,99388.88888888889,111274.5,210000.0,62000.0,204784.0,169358.90465459143,61357.02,97960.704,90000.0,190000.0,224586.4074792476,93496.0,95895.2925,61357.02,84000.0,70000.0,100000.0,169358.90465459143,101249.66666666667,112067.691549196,90000.0,169358.90465459143,169358.90465459143,169358.90465459143,130000.0,70024.8,98581.17,204784.0,142002.89090909093,112067.691549196,169358.90465459143,150000.0,169358.90465459143,20800.0,130000.0,112067.691549196,101348.85666666667,49968.77,59540.0,169358.90465459143,122000.0,23795.22105263158,111274.5,112067.691549196,66426.66153846154,65000.0,101348.85666666667,66426.66153846154,80000.0,30000.0,65000.0,112067.691549196,112067.691549196,130000.0,23795.22105263158,142002.89090909093,95228.57142857143,97960.704,111274.5,101348.85666666667,169358.90465459143,122720.0,111274.5,169358.90465459143,169358.90465459143,169358.90465459143,165000.0,169358.90465459143,59540.0,169358.90465459143,147884.73761904764,108200.0,169358.90465459143,212800.0,111274.5,142002.89090909093,111274.5,90000.0,57126.857142857145,41600.0,60000.0,142002.89090909093,65000.0,130000.0,35880.0,169358.90465459143,52550.0,23348.0,61357.02,170157.0,24400.0,112067.691549196,112067.691549196,112067.691549196,59540.0,111274.5,80000.0,80000.0,111274.5,70024.8,23795.22105263158,111250.0,112067.691549196,66426.66153846154,169358.90465459143,101348.85666666667,66426.66153846154,101348.85666666667,142002.89090909093,120000.0,70024.8,66426.66153846154,70024.8,49774.4,100165.0,142002.89090909093,78000.0,53976.0,95228.57142857143,90000.0,99388.88888888889,70024.8,66426.66153846154,101348.85666666667,95228.57142857143,112067.691549196,112067.691549196,112067.691549196,62400.0,112067.691549196,97960.704,90000.0,95228.57142857143,142002.89090909093,112067.691549196,112067.691549196,100165.0,70024.8,23795.22105263158,101348.85666666667,173333.33333333334,90000.0,121771.0,115315.2,169358.90465459143,142002.89090909093,224586.4074792476,61357.02,59540.0,52603.2,164850.0,24400.0,160000.0,59540.0,59540.0,59540.0,112067.691549196,59540.0,75000.0,105000.0,142002.89090909093,61357.02,142002.89090909093,85000.0,59540.0,59540.0,59540.0,95895.2925,61357.02,59540.0,59540.0,59540.0,210000.0,55000.0,21320.0,142002.89090909093,191900.0,112067.691549196,169358.90465459143,112067.691549196,56800.0,59540.0,90000.0,191900.0,66426.66153846154,111274.5,142002.89090909093,111274.5,112067.691549196,169358.90465459143,112067.691549196,192390.0,59540.0,112067.691549196,224586.4074792476,70024.8,200000.0,102000.0,70024.8,169358.90465459143,169358.90465459143,111274.5,204784.0,93000.0,112067.691549196,110000.0,101348.85666666667,101348.85666666667,95201.6,204784.0,40560.0,40560.0,40560.0,194000.0,155900.0,40560.0,40560.0,112067.691549196,54080.0,54080.0,40560.0,40560.0,40560.0,40560.0,40560.0,23795.22105263158,112067.691549196,70024.8,23795.22105263158,40560.0,70024.8,45760.0,40560.0,40560.0,40560.0,40560.0,40560.0,112067.691549196,40560.0,40560.0,57126.857142857145,112067.691549196,164500.0,40560.0,40560.0,40560.0,59030.4,169358.90465459143,40560.0,40560.0,79040.0,102523.2,112067.691549196,120000.0,180000.0,145600.0,66426.66153846154,84656.0,142002.89090909093,142002.89090909093,142002.89090909093,26655.2,169358.90465459143,97960.704,142002.89090909093,142002.89090909093,17160.0,59540.0,169358.90465459143,26655.2,101348.85666666667,142002.89090909093,62400.0,117000.0,142002.89090909093,142002.89090909093,142002.89090909093,49968.77,169358.90465459143,142002.89090909093,70024.8,34320.0,101348.85666666667,26655.2,101764.0,20800.0,115000.0,142002.89090909093,97960.704,175000.0,101348.85666666667,41600.0,100000.0,75000.0,61357.02,112067.691549196,34320.0,100000.0,101348.85666666667,61357.02,23795.22105263158,112067.691549196,75000.0,68357.67,112067.691549196,111274.5,169358.90465459143,61357.02,23795.22105263158,112067.691549196,95680.0,47840.0,117000.0,23795.22105263158,142002.89090909093,90417.0,93000.0,111274.5,135000.0,97960.704,70024.8,80333.9,55000.0,101348.85666666667,101348.85666666667,101348.85666666667,112067.691549196,77000.0,59540.0,112067.691549196,58500.0,112067.691549196,48921.6,169358.90465459143,101348.85666666667,101348.85666666667,101348.85666666667,142002.89090909093,112067.691549196,142002.89090909093,85000.0,59540.0,59540.0,23795.22105263158,216320.0,56534.4,70400.0,101249.66666666667,101348.85666666667,101348.85666666667,101348.85666666667,101348.85666666667,101348.85666666667,70024.8,54080.0,180000.0,169358.90465459143,85000.0,182000.0,112067.691549196,101348.85666666667,101348.85666666667,55744.0,43680.0,147884.73761904764,55000.0,59540.0,101348.85666666667,101348.85666666667,45760.0,101348.85666666667,101348.85666666667,128700.0,111274.5,111274.5,111274.5,142002.89090909093,142002.89090909093,70024.8,111274.5,142002.89090909093,70024.8,97960.704,180000.0,38480.0,142002.89090909093,169358.90465459143,112067.691549196,34320.0,101348.85666666667,21840.0,142002.89090909093,61357.02,142002.89090909093,95201.6,104000.0,112067.691549196,200000.0,33280.0,142002.89090909093,20254.0,61357.02,112067.691549196,61357.02,112067.691549196,85000.0,112067.691549196,169358.90465459143,112067.691549196,59540.0,111274.5,57126.857142857145,45760.0,59540.0,169358.90465459143,102523.2,49920.0,59540.0,145000.0,224586.4074792476,80000.0,59540.0,106106.0,224586.4074792476,80000.0,80000.0,70024.8,224586.4074792476,111274.5,112067.691549196,224586.4074792476,80000.0,23795.22105263158,101348.85666666667,112067.691549196,112067.691549196,112067.691549196,112067.691549196,112067.691549196,112067.691549196,111274.5,112067.691549196,112067.691549196,112067.691549196,112067.691549196,101348.85666666667,112067.691549196,112067.691549196,112067.691549196,101348.85666666667,112067.691549196,112067.691549196,112067.691549196,101348.85666666667,112067.691549196,112067.691549196,112067.691549196,112067.691549196,142002.89090909093,130000.0,70000.0,99388.88888888889,173333.33333333334,185000.0,70024.8,169358.90465459143,140000.0,83200.0,125000.0,112067.691549196,101348.85666666667,101348.85666666667,111274.5,142002.89090909093,112067.691549196,112067.691549196,112067.691549196,56160.0,75000.0,45760.0,58240.0,111274.5,43680.0,142002.89090909093,66426.66153846154,142002.89090909093,169358.90465459143,112067.691549196,169358.90465459143,112067.691549196,167960.0,204784.0,97960.704,169358.90465459143,70024.8,120000.0,50000.0,112067.691549196,59540.0,112067.691549196,204784.0,112067.691549196,61357.02,75000.0,95895.2925,95895.2925,173283.33333333334,23795.22105263158,47000.0,95895.2925,66426.66153846154,101348.85666666667,91980.0,112067.691549196,112067.691549196,47000.0,111274.5,100000.0,173333.33333333334,111274.5,73000.0,105600.0,142002.89090909093,61357.02,142002.89090909093,167960.0,52000.0,70024.8,43680.0,101249.66666666667,175000.0,60000.0,72800.0,120000.0,75000.0,167960.0,204784.0,167960.0,99388.88888888889,111274.5,173333.33333333334,167960.0,24400.0,70024.8,167960.0,111274.5,97960.704,167960.0,180000.0,108000.0,86560.0,75000.0,120000.0,101348.85666666667,130000.0,110000.0,100000.0,142002.89090909093,169358.90465459143,101348.85666666667,24400.0,111274.5,142002.89090909093,142002.89090909093,95000.0,47257.6,80000.0,61357.02,142002.89090909093,61357.02,112067.691549196,169358.90465459143,61357.02,61357.02,142002.89090909093,112067.691549196,61357.02,61357.02,80000.0,112067.691549196,65000.0,142002.89090909093,180100.0,59540.0,165300.0,40000.0,112067.691549196,111274.5,61357.02,31200.0,23795.22105263158,112067.691549196,112067.691549196,112067.691549196,63523.2,112067.691549196,151800.0,112067.691549196,112067.691549196,112067.691549196,112067.691549196,112067.691549196,142002.89090909093,70024.8,112067.691549196,63523.2,182000.0,112067.691549196,112067.691549196,95228.57142857143,70000.0,120000.0,182000.0,70024.8,120000.0,112067.691549196,37440.0,140000.0,224586.4074792476,169358.90465459143,75000.0,66426.66153846154,61357.02,112067.691549196,112067.691549196,112067.691549196],\"yaxis\":\"y\",\"type\":\"scattergl\"},{\"hovertemplate\":\"experience=Director\\u003cbr\\u003emin_salary=%{x}\\u003cbr\\u003emax_salary=%{y}\\u003cextra\\u003e\\u003c\\u002fextra\\u003e\",\"legendgroup\":\"Director\",\"marker\":{\"color\":\"#00cc96\",\"symbol\":\"circle\"},\"mode\":\"markers\",\"name\":\"Director\",\"showlegend\":true,\"x\":[126247.31070175438,165000.0,126247.31070175438,40000.0,103950.0,173728.57142857142,93817.25,106666.0,123659.54074074075,160000.0,39312.0,80000.0,60000.0,77500.0,127000.0,65000.0,124238.09523809524,55000.0,200000.0,123659.54074074075,132871.25,100614.28571428571,126616.76543209876,98800.0,123659.54074074075,147064.8,127326.0,70000.0,118250.66854173798,99765.0,93817.25,79060.0,110020.0,100000.0,132871.25,118250.66854173798,124800.0,70000.0,76477.7358490566,118250.66854173798,90000.0,145333.33333333334,104400.0,123659.54074074075,100614.28571428571,180000.0,90638.125,100000.0,100000.0,95000.0,90000.0,121147.7,123659.54074074075,95000.0,76477.7358490566,118250.66854173798,118250.66854173798,160000.0,93817.25,83265.0,100000.0,85000.0,140056.0,125000.0,126247.31070175438,75000.0,160000.0,130000.0,90000.0,123659.54074074075,118250.66854173798,126616.76543209876,118250.66854173798,100614.28571428571,118250.66854173798,126247.31070175438,64336.0,75000.0,115000.0,164000.0,95000.0,93817.25,121147.7,126247.31070175438,127326.0,118250.66854173798,118250.66854173798,93817.25,126616.76543209876,113998.33333333333,118250.66854173798,100000.0,90000.0,50000.0,126616.76543209876,180000.0,75000.0,58500.0,99765.0,126616.76543209876,112072.0,126247.31070175438,161500.0,100614.28571428571,118250.66854173798,127326.0,175000.0,150000.0,118250.66854173798,123659.54074074075,245000.0,45000.0,100000.0,165000.0,125000.0,100000.0,185000.0,65000.0,108900.0,150000.0,80000.0,125000.0,90000.0,90000.0,85000.0,132871.25,58500.0,110020.0,130000.0,65000.0,93817.25,63000.0,155000.0,123659.54074074075,108900.0,100000.0,150000.0,57200.0,145000.0,93817.25,118250.66854173798,118250.66854173798,118250.66854173798,185000.0,100000.0,58500.0,78000.0,108900.0,89100.0,123659.54074074075,150000.0,118250.66854173798,74811.87375,151900.0,118250.66854173798,65900.0,80000.0,126616.76543209876,100614.28571428571,126247.31070175438,118250.66854173798,245000.0,76477.7358490566,126616.76543209876,90000.0,140000.0,110000.0,93817.25,108900.0,200000.0,126247.31070175438,126616.76543209876,126616.76543209876,118250.66854173798,51000.0,126247.31070175438,120000.0,58500.0,115000.0,80000.0,126247.31070175438,100000.0,100000.0,140000.0,140000.0,68000.0,126616.76543209876,80000.0,126247.31070175438,180000.0,58500.0,58500.0,75000.0,123659.54074074075,60000.0,110000.0,119917.28571428571,126247.31070175438,216000.0,127326.0,191000.0,82500.0,90000.0,118250.66854173798,165000.0,113130.0,126247.31070175438,127326.0,90000.0,170000.0,126616.76543209876,275000.0,250000.0,161500.0,51000.0,90000.0,110020.0,123659.54074074075,87000.0,126616.76543209876,103950.0,118250.66854173798,121147.7,180000.0,118250.66854173798,76477.7358490566,140000.0,118250.66854173798,126247.31070175438,121147.7,180000.0,118250.66854173798,118250.66854173798,106666.0,124238.09523809524,76477.7358490566,123659.54074074075,90000.0,118250.66854173798,180000.0,126616.76543209876,210000.0,130000.0,100000.0,123659.54074074075,140000.0,120000.0,136487.66666666666,121147.7,118250.66854173798,200000.0,100000.0,158000.0,115593.678,29329.0,125000.0,123659.54074074075,100000.0,165000.0,90000.0,90700.0,126616.76543209876,130000.0,140000.0,76477.7358490566,80000.0,108900.0,100000.0,126616.76543209876,126616.76543209876,118250.66854173798,71000.0,188200.0,126247.31070175438,108900.0,126247.31070175438,180000.0,93817.25,115593.678,158000.0,130000.0,92201.0,80000.0,52000.0,180000.0,104023.0,116000.0,143766.66666666666,145000.0,82162.0,80000.0,93817.25,106000.0,118250.66854173798,118250.66854173798,125000.0,118250.66854173798,123659.54074074075,126616.76543209876,126616.76543209876,126616.76543209876,50000.0,80000.0,85000.0,127600.0,41600.0,61750.0,127326.0,220000.0,140000.0,54080.0,118250.66854173798,130632.0,118250.66854173798,123659.54074074075,123659.54074074075,120000.0,109500.0,216000.0,100614.28571428571,110020.0,106000.0,106000.0,106000.0,118250.66854173798,87536.07142857143,175000.0,127600.0,127600.0,119917.28571428571,120000.0,100614.28571428571,85000.0,126247.31070175438,78400.0,70144.79999999999,173728.57142857142,123659.54074074075,92500.0,61750.0,140000.0,92500.0,119917.28571428571,55200.0,72900.0,126247.31070175438,100614.28571428571,124238.09523809524,165000.0,190000.0,131500.0,90000.0,123659.54074074075,136500.0,126616.76543209876,60000.0,150000.0,82500.0,100000.0,143766.66666666666,126616.76543209876,80000.0,118250.66854173798,103950.0,118250.66854173798,118250.66854173798,118250.66854173798,126616.76543209876,118250.66854173798,126616.76543209876,126616.76543209876,118250.66854173798,90000.0,126616.76543209876,95000.0,123659.54074074075,95000.0,111666.66666666667,55000.0,61750.0,93817.25,126616.76543209876,118250.66854173798,159100.0,209250.0,126616.76543209876,140000.0,121147.7,126616.76543209876,20000.0,118250.66854173798,180000.0,126247.31070175438,130000.0,118250.66854173798,120000.0,130000.0,83200.0,100000.0,75000.0,118250.66854173798,123659.54074074075,100614.28571428571,80000.0,126616.76543209876,70000.0,120000.0,140000.0,93600.0,120000.0,118250.66854173798,84500.0,126616.76543209876,89840.71,98800.0,126616.76543209876,65000.0,95000.0,90000.0,105000.0,118250.66854173798,60000.0,125000.0,108010.0,158300.0,92300.0,120000.0,165000.0,160000.0,90638.125,170000.0,156850.0,93817.25,225000.0,126616.76543209876,70000.0,80000.0,126616.76543209876,150000.0,93817.25,110020.0,80850.0,132800.0,123659.54074074075,145333.33333333334,125000.0,126616.76543209876,104900.0,76477.7358490566,77500.0,118250.66854173798,123659.54074074075,76477.7358490566,174400.0,110000.0,125000.0,118250.66854173798,70000.0,76477.7358490566,60000.0,169800.0,123659.54074074075,180000.0,137575.0,100614.28571428571,192000.0,192000.0,80850.0,115000.0,108638.0,155000.0,126247.31070175438,115740.0,145333.33333333334,192000.0,125000.0,125000.0,66216.0,65000.0,126616.76543209876,110000.0,110000.0,110710.0,118250.66854173798,60320.0,120000.0,57907.2,125000.0,118250.66854173798,101900.0,90000.0,66200.0,104023.0,126247.31070175438,85000.0,145333.33333333334,126247.31070175438,125000.0,126616.76543209876,126616.76543209876,126247.31070175438,145333.33333333334,126616.76543209876,120888.08,77065.71428571429,118250.66854173798,129741.0,185000.0,76477.7358490566,130000.0,88780.0,118250.66854173798,100614.28571428571,135000.0,126247.31070175438,79700.0,150000.0,132900.0,105000.0,132871.25,124238.09523809524,124000.0,74500.0,82000.0,90000.0,118250.66854173798,101488.0,145333.33333333334,140000.0,120000.0,229000.0,77500.0,126616.76543209876,93000.0,85000.0,40000.0,124000.0,90700.0,126247.31070175438,160000.0,118250.66854173798,118250.66854173798,126616.76543209876,126616.76543209876,126616.76543209876,126616.76543209876,93817.25,90000.0,150000.0,75000.0,90000.0,126616.76543209876,140000.0,135000.0,135000.0,132871.25,135000.0,90000.0,100000.0,124000.0,135000.0,92500.0,147064.8,76477.7358490566,122000.0,115000.0,76477.7358490566,117000.0,158327.0,126247.31070175438,143500.0,125000.0,115000.0,77065.71428571429,237500.0,140800.0,56000.0,150000.0,123778.0,100000.0,118250.66854173798,115000.0,76477.7358490566,110000.0,100614.28571428571,160000.0,88780.0,85000.0,126616.76543209876,190000.0,75794.99,65000.0,119917.28571428571,123659.54074074075,110000.0,119917.28571428571,123659.54074074075,126616.76543209876,125000.0,108900.0,130000.0,124238.09523809524,126616.76543209876,126616.76543209876,118250.66854173798,126616.76543209876,118250.66854173798,158327.0,123778.0,160000.0,123659.54074074075,76477.7358490566,123659.54074074075,125695.0,126247.31070175438,82000.0,108000.0,120000.0,129500.0,150000.0,126616.76543209876,90000.0,130000.0,140000.0,100000.0,65000.0,76477.7358490566,151900.0,90000.0,124800.0,112000.0,115000.0,110000.0,100000.0,170000.0,110000.0,151900.0,101488.0,90000.0,118250.66854173798,147064.8,70000.0,77065.71428571429,118250.66854173798,145600.0,209250.0,64900.0,126247.31070175438,82000.0,85000.0,82500.0,93600.0,126247.31070175438,130000.0,76477.7358490566,80000.0,156300.0,126616.76543209876,108010.0,90000.0,130000.0,106666.0,126247.31070175438,85000.0,123659.54074074075,118250.66854173798,180000.0,101900.0,70000.0,115920.0,64336.0,118250.66854173798,173728.57142857142,195000.0,130000.0,170000.0,90700.0,126616.76543209876,130000.0,108010.0,118250.66854173798,126247.31070175438,60000.0,209250.0,87536.07142857143,87600.0,180000.0,100000.0,121147.7,100614.28571428571,57500.0,55000.0,90000.0,121147.7,126616.76543209876,118250.66854173798,120000.0,65900.0,140000.0,126247.31070175438,118250.66854173798,130000.0,125000.0,123659.54074074075,85000.0,161500.0,118900.0,123659.54074074075,108900.0,85000.0,124238.09523809524,92500.0,54500.0,170000.0,85000.0,85000.0,255000.0,62000.0,126616.76543209876,123000.0,112000.0,199800.0,126616.76543209876,126616.76543209876,70000.0,123659.54074074075,100000.0,140000.0,154000.0,85000.0,120000.0,105000.0,107400.0,75000.0,70000.0,90000.0,180000.0,118250.66854173798,126247.31070175438,200000.0,77065.71428571429,76477.7358490566,100000.0,119000.0,118250.66854173798,126616.76543209876,70000.0,118250.66854173798,118250.66854173798,80850.0,118250.66854173798,100000.0,100000.0,100000.0,214795.0,126616.76543209876,118250.66854173798,100614.28571428571,143766.66666666666,185895.0,57500.0,119917.28571428571,132871.25,123659.54074074075,100614.28571428571,180000.0,132871.25,100614.28571428571,126616.76543209876,126616.76543209876,87536.07142857143,118250.66854173798,77600.0,111000.0,86100.0,126247.31070175438,118250.66854173798,80839.0,90000.0,80800.0,98945.59999999999,116100.0,74900.0,118250.66854173798,170000.0,90638.125,123659.54074074075,90638.125,58500.0,64300.0,93817.25,150000.0,118250.66854173798,123659.54074074075,76477.7358490566,118250.66854173798,85000.0,164000.0,126616.76543209876,90000.0,90000.0,57700.0,118250.66854173798,108040.14499999999,118250.66854173798,126616.76543209876,75000.0,75000.0,84600.0,118250.66854173798,150000.0,100000.0,118250.66854173798,171000.0,48672.0,100614.28571428571,160000.0,162000.0,110000.0,118250.66854173798,130000.0,128000.0,118250.66854173798,129741.0,118250.66854173798,118250.66854173798,110000.0,81279.0,173728.57142857142,145000.0,112000.0,118250.66854173798,192000.0,133000.0,218000.0,126247.31070175438,105000.0,80000.0,120000.0,120000.0,175000.0,215000.0,42224.0,113000.0,180000.0,118250.66854173798,118250.66854173798,120000.0,133000.0,218000.0,123659.54074074075,106000.0,146000.0,77065.71428571429,80879.0,80000.0,103950.0,123290.0,123659.54074074075,120000.0,126247.31070175438,120000.0,139000.0,185000.0,218000.0,147064.8,75000.0,158327.0,106000.0,126247.31070175438,185000.0,185000.0,185000.0,139000.0,123659.54074074075,100000.0,123659.54074074075,118250.66854173798,133000.0,218000.0,218000.0,215000.0,123659.54074074075,80850.0,118250.66854173798,112000.0,218000.0,215000.0,215000.0,90000.0,164000.0,182700.0,118250.66854173798,145000.0,111666.66666666667,81800.0,113000.0,100000.0,123659.54074074075,123659.54074074075,75000.0,77065.71428571429,165000.0,123659.54074074075,120000.0,81800.0,124000.0,126247.31070175438,90000.0,73100.0,123659.54074074075,123659.54074074075,123659.54074074075,88700.0,74500.0,123659.54074074075,123659.54074074075,117500.0,120000.0,123659.54074074075,93817.25,126616.76543209876,170000.0,65900.0,121147.7,123659.54074074075,143766.66666666666,130000.0,118250.66854173798,100000.0,145333.33333333334,103950.0,175000.0,58500.0,101900.0,200000.0,175000.0,120000.0,118250.66854173798,101900.0,126616.76543209876,117042.0,118250.66854173798,80000.0,131248.0,110000.0,72600.0,126616.76543209876,157477.0,101900.0,77700.0,101900.0,150000.0,118250.66854173798,110000.0,70000.0,216000.0,130000.0,101900.0,126616.76543209876,76500.0,150000.0,150000.0,90000.0,126616.76543209876,110000.0,72600.0,150000.0,90638.125,126247.31070175438,124405.0,126247.31070175438,100614.28571428571,126500.0,118250.66854173798,113700.0,118000.0,146000.0,134451.2,147064.8,147064.8,118000.0,114000.0,146000.0,146000.0,92500.0,92500.0,92500.0,106666.0,146000.0,92500.0,92500.0,192000.0,185000.0,146000.0,92500.0,123659.54074074075,185000.0,185000.0,123659.54074074075,61942.4,118000.0,118000.0,146000.0,92500.0,92500.0,185000.0,164000.0,164000.0,147064.8,87536.07142857143,152000.0,118000.0,146000.0,147064.8,147064.8,76477.7358490566,93817.25,92500.0,92500.0,118000.0,92500.0,157000.0,157000.0,164000.0,147064.8,147064.8,185000.0,126247.31070175438,118250.66854173798,70310.0,126247.31070175438,146000.0,92500.0,164000.0,147064.8,156850.0,167800.0,167800.0,133000.0,81800.0,80000.0,80000.0,123659.54074074075,147064.8,147064.8,118250.66854173798,121200.0,81800.0,139000.0,123823.0,92500.0,74500.0,136487.66666666666,56160.0,80850.0,70000.0,95146.0,140000.0,167800.0,80000.0,93300.0,80000.0,76477.7358490566,118250.66854173798,173728.57142857142,123659.54074074075,185000.0,185000.0,133000.0,126247.31070175438,80000.0,80000.0,80000.0,143766.66666666666,126616.76543209876,129741.0,118250.66854173798,81800.0,82243.2,73000.0,126247.31070175438,180000.0,126616.76543209876,108750.0,108750.0,150000.0,170000.0,118250.66854173798,108750.0,108750.0,120000.0,118250.66854173798,124384.0,185000.0,85000.0,94000.0,126616.76543209876,300000.0,123659.54074074075,126616.76543209876,118250.66854173798,76477.7358490566,126616.76543209876,90000.0,87536.07142857143,160000.0,82500.0,127326.0,126616.76543209876,120000.0,115000.0,71250.0,76477.7358490566,93817.25,100614.28571428571,126247.31070175438,126247.31070175438,76477.7358490566,118250.66854173798,64500.0,60000.0,137500.0,132800.0,144920.0,144920.0,145333.33333333334,126616.76543209876,126616.76543209876,102780.0,126616.76543209876,68550.0,82096.0,123659.54074074075,96000.0,144920.0,144920.0,105000.0,144920.0,123659.54074074075,134946.0,96000.0,144920.0,123659.54074074075,172000.0,118250.66854173798,48000.0,118250.66854173798,100614.28571428571,113998.33333333333,70168.39,126616.76543209876,96800.0,265000.0,123659.54074074075,147064.8,118000.0,40560.0,132800.0,95000.0,76477.7358490566,118250.66854173798,106200.0,87536.07142857143,118250.66854173798,80850.0,180000.0,80850.0,103950.0,103950.0,150000.0,103950.0,58800.0,118250.66854173798,103950.0,103950.0,103950.0,70000.0,123659.54074074075,123659.54074074075,65000.0,118250.66854173798,80000.0,118250.66854173798,92500.0,93817.25,118250.66854173798,116400.0,80000.0,76477.7358490566,111251.0,75000.0,65000.0,64336.0,80450.0,80850.0,126247.31070175438,123659.54074074075,93600.0,118250.66854173798,120000.0,80000.0,124238.09523809524,123659.54074074075,126247.31070175438,123659.54074074075,123659.54074074075,123659.54074074075,123659.54074074075,123659.54074074075,126616.76543209876,135000.0,123659.54074074075,123659.54074074075,123659.54074074075,71580.29,119917.28571428571,123659.54074074075,175000.0,118250.66854173798,120000.0,123659.54074074075,123659.54074074075,123659.54074074075,98800.0,123659.54074074075,100614.28571428571,123659.54074074075,123659.54074074075,80000.0,90000.0,123659.54074074075,123659.54074074075,80000.0,123659.54074074075,123659.54074074075,98800.0,123659.54074074075,73000.0,126247.31070175438,118250.66854173798,80000.0,85000.0,150000.0,118250.66854173798,123659.54074074075,90000.0,123659.54074074075,102221.25,123659.54074074075,80000.0,118250.66854173798,95000.0,123659.54074074075,126247.31070175438,90000.0,123659.54074074075,100000.0,123659.54074074075,123659.54074074075,123659.54074074075,123659.54074074075,150000.0,123659.54074074075,123659.54074074075,126616.76543209876,118250.66854173798,123659.54074074075,118250.66854173798,113998.33333333333,123659.54074074075,123659.54074074075,90700.0,110020.0,123659.54074074075,123659.54074074075,123659.54074074075,123659.54074074075,124238.09523809524,110020.0,76477.7358490566,123659.54074074075,119917.28571428571,123659.54074074075,123659.54074074075,123659.54074074075,123659.54074074075,123659.54074074075,123659.54074074075,123659.54074074075,118250.66854173798,123659.54074074075,123659.54074074075,135000.0,76477.7358490566,93817.25,126247.31070175438,123659.54074074075,173728.57142857142,126247.31070175438,180000.0,140000.0,120000.0,130000.0,123659.54074074075,123659.54074074075,123659.54074074075,123659.54074074075,200000.0,93817.25,85000.0,123659.54074074075,108010.0,123659.54074074075,92500.0,70000.0,123659.54074074075,126616.76543209876,90000.0,123659.54074074075,95000.0,135000.0,85000.0,100000.0,123659.54074074075,93817.25,123659.54074074075,123659.54074074075,123659.54074074075,118250.66854173798,140000.0,123659.54074074075,126247.31070175438,126616.76543209876,123659.54074074075,70144.79999999999,118250.66854173798,70000.0,100614.28571428571,123659.54074074075,150000.0,123659.54074074075,123659.54074074075,123659.54074074075,118250.66854173798,126616.76543209876,123659.54074074075,123659.54074074075,118250.66854173798,93817.25,123659.54074074075,123659.54074074075,90000.0,123659.54074074075,85000.0,123659.54074074075,123659.54074074075,123659.54074074075,123659.54074074075,123659.54074074075,188200.0,123659.54074074075,150000.0,123659.54074074075,135000.0,123659.54074074075,123659.54074074075,123659.54074074075,120000.0,115000.0,85000.0,187600.0,126616.76543209876,123659.54074074075,123659.54074074075,118250.66854173798,123659.54074074075,118250.66854173798,80850.0,123659.54074074075,123659.54074074075,40000.0,173600.0,180000.0,123659.54074074075,123659.54074074075,123659.54074074075,75000.0,118250.66854173798,126616.76543209876,77065.71428571429,123659.54074074075,173728.57142857142,123659.54074074075,130000.0,123659.54074074075,123659.54074074075,80850.0,140000.0,123659.54074074075,123659.54074074075,155800.0,123659.54074074075,123659.54074074075,170000.0,123659.54074074075,118250.66854173798,121147.7,123659.54074074075,123659.54074074075,118250.66854173798,123659.54074074075,123659.54074074075,123659.54074074075,123659.54074074075,123659.54074074075,129741.0,120000.0,123659.54074074075,123659.54074074075,75000.0,123659.54074074075,190475.0,123659.54074074075,123659.54074074075,80000.0,147064.8,123659.54074074075,173000.0,133600.0,118250.66854173798,123659.54074074075,118250.66854173798,123659.54074074075,90000.0,123659.54074074075,100000.0,133600.0,123659.54074074075,145000.0,123659.54074074075,123659.54074074075,185000.0,123659.54074074075,123659.54074074075,149600.0,125000.0,173000.0,118250.66854173798,119500.0,133600.0,119917.28571428571,123659.54074074075,123659.54074074075,126616.76543209876,123659.54074074075,123659.54074074075,123659.54074074075,123659.54074074075,110000.0,110000.0,160000.0,123659.54074074075,123659.54074074075,124000.0,173000.0,123659.54074074075,118250.66854173798,123659.54074074075,100000.0,133600.0,149600.0,123659.54074074075,104400.0,118250.66854173798,126616.76543209876,44500.0,123659.54074074075,123659.54074074075,123659.54074074075,129741.0,118250.66854173798,80000.0,90000.0,123659.54074074075,123659.54074074075,100000.0,145333.33333333334,123659.54074074075,118250.66854173798,118250.66854173798,118250.66854173798,118250.66854173798,118250.66854173798,135000.0,123659.54074074075,129741.0,80000.0,173000.0,173000.0,173000.0,123659.54074074075,126247.31070175438,150000.0,135000.0,123659.54074074075,118250.66854173798,118250.66854173798,118250.66854173798,118250.66854173798,118250.66854173798,144500.0,118250.66854173798,126616.76543209876,126616.76543209876,145333.33333333334,118250.66854173798,118250.66854173798,118250.66854173798,118250.66854173798,118250.66854173798,123659.54074074075,123659.54074074075,108900.0,70000.0,80000.0,100000.0,45000.0,123659.54074074075,126616.76543209876,65000.0,118250.66854173798,118250.66854173798,118250.66854173798,123659.54074074075,126616.76543209876,100614.28571428571,123659.54074074075,180000.0,100000.0,123659.54074074075,118250.66854173798,118250.66854173798,120000.0,118250.66854173798,135000.0,118250.66854173798,118250.66854173798,123659.54074074075,93817.25,126616.76543209876,80850.0,126616.76543209876,180000.0,123659.54074074075,123659.54074074075,80850.0,118250.66854173798,118250.66854173798,118250.66854173798,118250.66854173798,118250.66854173798,118250.66854173798,118250.66854173798,93817.25,121147.7,118250.66854173798,123659.54074074075,123659.54074074075,80000.0,123659.54074074075,123659.54074074075,126616.76543209876,118250.66854173798,118250.66854173798,118250.66854173798,118250.66854173798,123659.54074074075,118250.66854173798,123659.54074074075,112970.0,123659.54074074075,182000.0,123659.54074074075,123659.54074074075,140000.0,118250.66854173798,97000.0,118250.66854173798,110000.0,123659.54074074075,101920.0,57200.0,123659.54074074075,90700.0,123659.54074074075,123659.54074074075,123659.54074074075,80000.0,80000.0,123659.54074074075,160000.0,100614.28571428571,123659.54074074075,115000.0,99000.0,123659.54074074075,100000.0,70000.0,123659.54074074075,123659.54074074075,118250.66854173798,123659.54074074075,123659.54074074075,126616.76543209876,123659.54074074075,123659.54074074075,123659.54074074075,200000.0,118250.66854173798,126247.31070175438,132871.25,123659.54074074075,118250.66854173798,132871.25,100000.0,123659.54074074075,119917.28571428571,126247.31070175438,118250.66854173798,200000.0,55000.0,110000.0,50000.0,19510.4,110020.0,118250.66854173798,82500.0,118250.66854173798,118250.66854173798,93000.0,195200.0,93000.0,134100.0,64336.0,80000.0,103950.0,93817.25,93000.0,118250.66854173798,123659.54074074075,93817.25,106666.0,93817.25,75000.0,58800.0,60000.0,350000.0,118250.66854173798,136000.0,63000.0,118250.66854173798,106666.0,93817.25,95100.0,93817.25,124000.0,130796.0,126616.76543209876,87500.0,148000.0,145667.0,54000.0,124238.09523809524,124238.09523809524,300000.0,99000.0,93817.25,80850.0,48360.0,127326.0,175000.0,92395.0,185000.0,130000.0,136487.66666666666,124000.0,93817.25,93400.0,93400.0,148000.0,118250.66854173798,100000.0,126616.76543209876,178346.0,126616.76543209876,126247.31070175438,70144.79999999999,126616.76543209876,150000.0,148000.0,148000.0,118250.66854173798,175000.0,118250.66854173798,93400.0,93400.0,93400.0,93400.0,93400.0,93400.0,93400.0,93400.0,126616.76543209876,118250.66854173798,83200.0,148000.0,133000.0,50000.0,76000.0,13500.0,93400.0,93400.0,93400.0,93400.0,185000.0,75000.0,119917.28571428571],\"xaxis\":\"x\",\"y\":[185050.58315789475,165000.0,185050.58315789475,51356.601159228856,121850.0,243057.14285714287,126932.26428571428,198444.0,160870.12962962964,220000.0,51356.601159228856,100000.0,80000.0,135000.0,190000.0,75000.0,147619.04761904763,65000.0,184270.34157142907,160870.12962962964,172432.0,141928.57142857142,173464.61728395062,116000.0,160870.12962962964,193651.2,189067.6,170000.0,162096.7434994054,119045.0,126932.26428571428,96180.0,141760.0,130000.0,172432.0,162096.7434994054,156000.0,80000.0,94848.67924528301,162096.7434994054,145000.0,213333.33333333334,182700.0,160870.12962962964,141928.57142857142,220000.0,143531.125,150000.0,120000.0,115000.0,145000.0,163250.8,160870.12962962964,120000.0,94848.67924528301,162096.7434994054,162096.7434994054,180000.0,126932.26428571428,126815.0,150000.0,120000.0,184305.0,150000.0,185050.58315789475,85000.0,200000.0,158000.0,135000.0,160870.12962962964,162096.7434994054,173464.61728395062,162096.7434994054,141928.57142857142,162096.7434994054,185050.58315789475,79744.0,82000.0,120000.0,252000.0,125000.0,126932.26428571428,163250.8,185050.58315789475,189067.6,162096.7434994054,162096.7434994054,126932.26428571428,173464.61728395062,149373.33333333334,162096.7434994054,135000.0,145000.0,51356.601159228856,173464.61728395062,200000.0,95000.0,92000.0,119045.0,173464.61728395062,142961.33333333334,185050.58315789475,210000.0,141928.57142857142,162096.7434994054,189067.6,200000.0,200000.0,162096.7434994054,160870.12962962964,184270.34157142907,51356.601159228856,100000.0,175000.0,150000.0,135000.0,184270.34157142907,80000.0,166080.0,175000.0,100000.0,140000.0,145000.0,145000.0,100000.0,172432.0,88000.0,141760.0,160000.0,95000.0,126932.26428571428,63000.0,209000.0,160870.12962962964,166080.0,115000.0,200000.0,57264.2704761659,155000.0,126932.26428571428,162096.7434994054,162096.7434994054,162096.7434994054,184270.34157142907,130000.0,92000.0,85000.0,166080.0,133650.0,160870.12962962964,180000.0,162096.7434994054,102885.3175,187740.0,162096.7434994054,90600.0,120000.0,173464.61728395062,141928.57142857142,185050.58315789475,162096.7434994054,184270.34157142907,94848.67924528301,173464.61728395062,120000.0,170000.0,130000.0,126932.26428571428,166080.0,184270.34157142907,185050.58315789475,173464.61728395062,173464.61728395062,162096.7434994054,51356.601159228856,185050.58315789475,140000.0,92000.0,140000.0,90000.0,185050.58315789475,135000.0,135000.0,160000.0,160000.0,85000.0,173464.61728395062,100000.0,185050.58315789475,220000.0,92000.0,88000.0,100000.0,160870.12962962964,70000.0,170000.0,168014.92857142858,185050.58315789475,184270.34157142907,189067.6,184270.34157142907,105000.0,120000.0,162096.7434994054,165000.0,193138.0,185050.58315789475,189067.6,100000.0,200000.0,173464.61728395062,184270.34157142907,184270.34157142907,210000.0,51356.601159228856,110000.0,141760.0,160870.12962962964,130000.0,173464.61728395062,121850.0,162096.7434994054,163250.8,220000.0,162096.7434994054,94848.67924528301,165000.0,162096.7434994054,185050.58315789475,163250.8,200000.0,162096.7434994054,162096.7434994054,198444.0,147619.04761904763,94848.67924528301,160870.12962962964,120000.0,162096.7434994054,220000.0,173464.61728395062,184270.34157142907,160000.0,135000.0,160870.12962962964,160000.0,130000.0,224416.66666666666,163250.8,162096.7434994054,184270.34157142907,100000.0,217000.0,197030.516,51356.601159228856,145000.0,160870.12962962964,120000.0,181500.0,120000.0,115250.0,173464.61728395062,145000.0,170000.0,94848.67924528301,115000.0,166080.0,120000.0,173464.61728395062,173464.61728395062,162096.7434994054,117000.0,184270.34157142907,185050.58315789475,166080.0,185050.58315789475,220000.0,126932.26428571428,197030.516,217000.0,130000.0,121014.0,85000.0,72800.0,220000.0,136530.0,145000.0,256916.66666666666,155000.0,118201.0,85000.0,126932.26428571428,162250.0,162096.7434994054,162096.7434994054,150000.0,162096.7434994054,160870.12962962964,173464.61728395062,173464.61728395062,173464.61728395062,51356.601159228856,100000.0,100000.0,243300.0,51356.601159228856,85031.5,189067.6,184270.34157142907,170000.0,62400.0,162096.7434994054,163500.0,162096.7434994054,160870.12962962964,160870.12962962964,135000.0,175200.0,184270.34157142907,141928.57142857142,141760.0,162250.0,162250.0,162250.0,162096.7434994054,184918.14285714287,250000.0,243300.0,243300.0,168014.92857142858,140000.0,141928.57142857142,110000.0,185050.58315789475,117600.0,141090.36000000002,243057.14285714287,160870.12962962964,111000.0,85031.5,150000.0,111000.0,168014.92857142858,132900.0,94500.0,185050.58315789475,141928.57142857142,147619.04761904763,165000.0,184270.34157142907,207500.0,120000.0,160870.12962962964,265400.0,173464.61728395062,85000.0,180000.0,105000.0,130000.0,256916.66666666666,173464.61728395062,100000.0,162096.7434994054,121850.0,162096.7434994054,162096.7434994054,162096.7434994054,173464.61728395062,162096.7434994054,173464.61728395062,173464.61728395062,162096.7434994054,130000.0,173464.61728395062,110000.0,160870.12962962964,105000.0,156333.33333333334,65000.0,85031.5,126932.26428571428,173464.61728395062,162096.7434994054,266261.5308513623,184270.34157142907,173464.61728395062,175000.0,163250.8,173464.61728395062,51356.601159228856,162096.7434994054,265000.0,185050.58315789475,175000.0,162096.7434994054,150000.0,150000.0,104000.0,130000.0,105000.0,162096.7434994054,160870.12962962964,141928.57142857142,90000.0,173464.61728395062,75000.0,145000.0,160000.0,145600.0,140000.0,162096.7434994054,204600.0,173464.61728395062,103265.24,116000.0,173464.61728395062,80000.0,110000.0,115000.0,130000.0,162096.7434994054,100000.0,155000.0,175356.66666666666,266261.5308513623,181400.0,145000.0,185000.0,170000.0,143531.125,200000.0,236515.625,126932.26428571428,184270.34157142907,173464.61728395062,90000.0,100000.0,173464.61728395062,175000.0,126932.26428571428,141760.0,109400.0,204200.0,160870.12962962964,213333.33333333334,201000.0,173464.61728395062,223100.0,94848.67924528301,135000.0,162096.7434994054,160870.12962962964,94848.67924528301,261600.0,140000.0,201000.0,162096.7434994054,90000.0,94848.67924528301,70000.0,254800.0,160870.12962962964,200000.0,211975.0,141928.57142857142,184270.34157142907,184270.34157142907,109400.0,130000.0,173373.0,175000.0,185050.58315789475,257280.0,213333.33333333334,184270.34157142907,201000.0,201000.0,82884.0,75000.0,173464.61728395062,151000.0,140000.0,173240.0,162096.7434994054,74880.0,145000.0,84801.6,201000.0,162096.7434994054,152800.0,110000.0,118500.0,136530.0,185050.58315789475,120000.0,213333.33333333334,185050.58315789475,201000.0,173464.61728395062,173464.61728395062,185050.58315789475,213333.33333333334,173464.61728395062,193420.92,138062.85714285713,162096.7434994054,176242.125,184270.34157142907,94848.67924528301,150000.0,154560.0,162096.7434994054,141928.57142857142,250000.0,185050.58315789475,158700.0,180000.0,199300.0,120000.0,172432.0,147619.04761904763,229000.0,88500.0,118000.0,110000.0,162096.7434994054,125338.0,213333.33333333334,196000.0,135000.0,184270.34157142907,135000.0,173464.61728395062,110000.0,90000.0,51356.601159228856,229000.0,115250.0,185050.58315789475,190000.0,162096.7434994054,162096.7434994054,173464.61728395062,173464.61728395062,173464.61728395062,173464.61728395062,126932.26428571428,110000.0,170000.0,105000.0,110000.0,173464.61728395062,160000.0,250000.0,250000.0,172432.0,250000.0,135000.0,140000.0,229000.0,250000.0,185000.0,193651.2,94848.67924528301,152460.0,124800.0,94848.67924528301,140000.0,192906.0,185050.58315789475,205000.0,139500.0,145000.0,138062.85714285713,184270.34157142907,262000.0,84000.0,180000.0,173289.0,135000.0,162096.7434994054,145000.0,94848.67924528301,135000.0,141928.57142857142,180000.0,154560.0,100000.0,173464.61728395062,184270.34157142907,103582.54,75000.0,168014.92857142858,160870.12962962964,125000.0,168014.92857142858,160870.12962962964,173464.61728395062,150000.0,166080.0,140000.0,147619.04761904763,173464.61728395062,173464.61728395062,162096.7434994054,173464.61728395062,162096.7434994054,192906.0,173289.0,200000.0,160870.12962962964,94848.67924528301,160870.12962962964,168120.0,185050.58315789475,88000.0,135000.0,130000.0,192600.0,175000.0,173464.61728395062,110000.0,235000.0,175000.0,120000.0,80000.0,94848.67924528301,187740.0,105000.0,156000.0,165000.0,140000.0,130000.0,110000.0,200000.0,130000.0,187740.0,125338.0,150000.0,162096.7434994054,193651.2,85000.0,138062.85714285713,162096.7434994054,166400.0,184270.34157142907,92700.0,185050.58315789475,105000.0,115000.0,105000.0,93600.0,185050.58315789475,160000.0,94848.67924528301,87500.0,180000.0,173464.61728395062,175356.66666666666,110000.0,150000.0,198444.0,185050.58315789475,100000.0,160870.12962962964,162096.7434994054,250000.0,152800.0,78750.0,222000.0,79744.0,162096.7434994054,243057.14285714287,184270.34157142907,160000.0,212000.0,115250.0,173464.61728395062,160000.0,175356.66666666666,162096.7434994054,185050.58315789475,130000.0,184270.34157142907,184918.14285714287,138900.0,250000.0,200000.0,163250.8,141928.57142857142,82500.0,65000.0,100000.0,163250.8,173464.61728395062,162096.7434994054,150000.0,90600.0,180000.0,185050.58315789475,162096.7434994054,160000.0,140000.0,160870.12962962964,130000.0,225000.0,178400.0,160870.12962962964,166080.0,130000.0,147619.04761904763,111000.0,75000.0,266261.5308513623,130000.0,130000.0,184270.34157142907,124000.0,173464.61728395062,259000.0,236000.0,184270.34157142907,173464.61728395062,173464.61728395062,80000.0,160870.12962962964,130000.0,160000.0,172000.0,100000.0,135000.0,120000.0,196900.0,82000.0,80000.0,100000.0,240000.0,162096.7434994054,185050.58315789475,184270.34157142907,138062.85714285713,94848.67924528301,175000.0,175000.0,162096.7434994054,173464.61728395062,95000.0,162096.7434994054,162096.7434994054,109400.0,162096.7434994054,150000.0,150000.0,150000.0,184270.34157142907,173464.61728395062,162096.7434994054,141928.57142857142,256916.66666666666,184270.34157142907,82500.0,168014.92857142858,172432.0,160870.12962962964,141928.57142857142,220000.0,172432.0,141928.57142857142,173464.61728395062,173464.61728395062,184918.14285714287,162096.7434994054,97000.0,204000.0,172300.0,185050.58315789475,162096.7434994054,137427.0,110000.0,101000.0,115315.2,165000.0,149800.0,162096.7434994054,200000.0,143531.125,160870.12962962964,143531.125,100000.0,75600.0,126932.26428571428,250000.0,162096.7434994054,160870.12962962964,94848.67924528301,162096.7434994054,100000.0,252000.0,173464.61728395062,120000.0,110000.0,79500.0,162096.7434994054,194869.57,162096.7434994054,173464.61728395062,80000.0,85000.0,116300.0,162096.7434994054,180000.0,160000.0,162096.7434994054,180000.0,51356.601159228856,141928.57142857142,200000.0,180000.0,150000.0,162096.7434994054,160000.0,142000.0,162096.7434994054,176242.125,162096.7434994054,162096.7434994054,150000.0,89244.0,243057.14285714287,155000.0,173000.0,162096.7434994054,184270.34157142907,194000.0,184270.34157142907,185050.58315789475,155000.0,90000.0,140000.0,140000.0,225000.0,184270.34157142907,51356.601159228856,165000.0,220000.0,162096.7434994054,162096.7434994054,140000.0,194000.0,184270.34157142907,160870.12962962964,163000.0,220000.0,138062.85714285713,89244.0,102000.0,121850.0,168790.0,160870.12962962964,150000.0,185050.58315789475,140000.0,208000.0,184270.34157142907,184270.34157142907,193651.2,80000.0,192906.0,175000.0,185050.58315789475,184270.34157142907,184270.34157142907,184270.34157142907,213000.0,160870.12962962964,115000.0,160870.12962962964,162096.7434994054,194000.0,184270.34157142907,184270.34157142907,184270.34157142907,160870.12962962964,109400.0,162096.7434994054,173000.0,184270.34157142907,184270.34157142907,184270.34157142907,102000.0,252000.0,243600.0,162096.7434994054,224000.0,156333.33333333334,186000.0,165000.0,110000.0,160870.12962962964,160870.12962962964,95000.0,138062.85714285713,266261.5308513623,160870.12962962964,140000.0,186000.0,224000.0,185050.58315789475,110000.0,166000.0,160870.12962962964,160870.12962962964,160870.12962962964,130300.0,88500.0,160870.12962962964,160870.12962962964,195800.0,150000.0,160870.12962962964,126932.26428571428,173464.61728395062,212000.0,90600.0,163250.8,160870.12962962964,256916.66666666666,150000.0,162096.7434994054,266261.5308513623,213333.33333333334,121850.0,190000.0,92000.0,132800.0,184270.34157142907,215000.0,125000.0,162096.7434994054,132800.0,173464.61728395062,237209.0,162096.7434994054,100000.0,240812.0,130000.0,90750.0,173464.61728395062,238508.0,132800.0,104500.0,132800.0,160000.0,162096.7434994054,130000.0,80000.0,184270.34157142907,135000.0,132800.0,173464.61728395062,76500.0,170000.0,170000.0,110000.0,173464.61728395062,130000.0,90750.0,170000.0,143531.125,185050.58315789475,241649.0,185050.58315789475,141928.57142857142,189735.0,162096.7434994054,266261.5308513623,172000.0,220000.0,219024.0,193651.2,193651.2,177000.0,167000.0,220000.0,220000.0,111000.0,111000.0,111000.0,198444.0,220000.0,111000.0,111000.0,184270.34157142907,184270.34157142907,220000.0,111000.0,160870.12962962964,184270.34157142907,184270.34157142907,160870.12962962964,86091.2,177000.0,172000.0,220000.0,111000.0,111000.0,184270.34157142907,252000.0,252000.0,193651.2,184918.14285714287,228000.0,177000.0,220000.0,193651.2,193651.2,94848.67924528301,126932.26428571428,111000.0,111000.0,172000.0,111000.0,235000.0,235000.0,252000.0,193651.2,193651.2,184270.34157142907,185050.58315789475,162096.7434994054,114254.0,185050.58315789475,220000.0,111000.0,252000.0,193651.2,236515.625,251687.5,251687.5,194000.0,186000.0,100000.0,100000.0,160870.12962962964,193651.2,193651.2,162096.7434994054,266261.5308513623,186000.0,208000.0,131592.0,111000.0,88500.0,224416.66666666666,70720.0,109400.0,75000.0,134392.75,150000.0,251687.5,100000.0,212000.0,100000.0,94848.67924528301,162096.7434994054,243057.14285714287,160870.12962962964,184270.34157142907,184270.34157142907,194000.0,185050.58315789475,100000.0,100000.0,100000.0,256916.66666666666,173464.61728395062,176242.125,162096.7434994054,186000.0,133640.0,166000.0,185050.58315789475,220000.0,173464.61728395062,196000.0,196000.0,172500.0,210000.0,162096.7434994054,196000.0,196000.0,160000.0,162096.7434994054,186784.0,184270.34157142907,90000.0,109000.0,173464.61728395062,184270.34157142907,160870.12962962964,173464.61728395062,162096.7434994054,94848.67924528301,173464.61728395062,100000.0,184918.14285714287,165000.0,105000.0,189067.6,173464.61728395062,140000.0,150000.0,118750.0,94848.67924528301,126932.26428571428,141928.57142857142,185050.58315789475,185050.58315789475,94848.67924528301,162096.7434994054,164900.0,87000.0,207200.0,204200.0,266261.5308513623,266261.5308513623,213333.33333333334,173464.61728395062,173464.61728395062,179820.0,173464.61728395062,154440.0,188800.0,160870.12962962964,120000.0,266261.5308513623,266261.5308513623,115000.0,266261.5308513623,160870.12962962964,189054.0,120000.0,266261.5308513623,160870.12962962964,207000.0,162096.7434994054,51356.601159228856,162096.7434994054,141928.57142857142,149373.33333333334,105252.58,173464.61728395062,185900.0,184270.34157142907,160870.12962962964,193651.2,172000.0,51356.601159228856,204200.0,135000.0,94848.67924528301,162096.7434994054,242000.0,184918.14285714287,162096.7434994054,109400.0,220000.0,109400.0,121850.0,121850.0,200000.0,121850.0,71400.0,162096.7434994054,121850.0,121850.0,121850.0,85000.0,160870.12962962964,160870.12962962964,85000.0,162096.7434994054,85000.0,162096.7434994054,111000.0,126932.26428571428,162096.7434994054,222200.0,110000.0,94848.67924528301,128252.0,82000.0,75000.0,79744.0,154325.0,109400.0,185050.58315789475,160870.12962962964,114400.0,162096.7434994054,170000.0,90000.0,147619.04761904763,160870.12962962964,185050.58315789475,160870.12962962964,160870.12962962964,160870.12962962964,160870.12962962964,160870.12962962964,173464.61728395062,155000.0,160870.12962962964,160870.12962962964,160870.12962962964,194239.14,168014.92857142858,160870.12962962964,225000.0,162096.7434994054,120000.0,160870.12962962964,160870.12962962964,160870.12962962964,116000.0,160870.12962962964,141928.57142857142,160870.12962962964,160870.12962962964,110000.0,95000.0,160870.12962962964,160870.12962962964,100000.0,160870.12962962964,160870.12962962964,116000.0,160870.12962962964,80000.0,185050.58315789475,162096.7434994054,115000.0,145000.0,220000.0,162096.7434994054,160870.12962962964,105000.0,160870.12962962964,141861.75,160870.12962962964,100000.0,162096.7434994054,110000.0,160870.12962962964,185050.58315789475,113000.0,160870.12962962964,120000.0,160870.12962962964,160870.12962962964,160870.12962962964,160870.12962962964,220000.0,160870.12962962964,160870.12962962964,173464.61728395062,162096.7434994054,160870.12962962964,162096.7434994054,149373.33333333334,160870.12962962964,160870.12962962964,115250.0,141760.0,160870.12962962964,160870.12962962964,160870.12962962964,160870.12962962964,147619.04761904763,141760.0,94848.67924528301,160870.12962962964,168014.92857142858,160870.12962962964,160870.12962962964,160870.12962962964,160870.12962962964,160870.12962962964,160870.12962962964,160870.12962962964,162096.7434994054,160870.12962962964,160870.12962962964,190000.0,94848.67924528301,126932.26428571428,185050.58315789475,160870.12962962964,243057.14285714287,185050.58315789475,220000.0,180000.0,140000.0,150000.0,160870.12962962964,160870.12962962964,160870.12962962964,160870.12962962964,184270.34157142907,126932.26428571428,105000.0,160870.12962962964,175356.66666666666,160870.12962962964,111000.0,75000.0,160870.12962962964,173464.61728395062,100000.0,160870.12962962964,118000.0,190000.0,100000.0,120000.0,160870.12962962964,126932.26428571428,160870.12962962964,160870.12962962964,160870.12962962964,162096.7434994054,175000.0,160870.12962962964,185050.58315789475,173464.61728395062,160870.12962962964,141090.36000000002,162096.7434994054,80000.0,141928.57142857142,160870.12962962964,200000.0,160870.12962962964,160870.12962962964,160870.12962962964,162096.7434994054,173464.61728395062,160870.12962962964,160870.12962962964,162096.7434994054,126932.26428571428,160870.12962962964,160870.12962962964,90000.0,160870.12962962964,95000.0,160870.12962962964,160870.12962962964,160870.12962962964,160870.12962962964,160870.12962962964,184270.34157142907,160870.12962962964,150000.0,160870.12962962964,190000.0,160870.12962962964,160870.12962962964,160870.12962962964,140000.0,125000.0,95000.0,184270.34157142907,173464.61728395062,160870.12962962964,160870.12962962964,162096.7434994054,160870.12962962964,162096.7434994054,109400.0,160870.12962962964,160870.12962962964,51356.601159228856,260400.0,220000.0,160870.12962962964,160870.12962962964,160870.12962962964,80000.0,162096.7434994054,173464.61728395062,138062.85714285713,160870.12962962964,243057.14285714287,160870.12962962964,170000.0,160870.12962962964,160870.12962962964,109400.0,160000.0,160870.12962962964,160870.12962962964,210000.0,160870.12962962964,160870.12962962964,220000.0,160870.12962962964,162096.7434994054,163250.8,160870.12962962964,160870.12962962964,162096.7434994054,160870.12962962964,160870.12962962964,160870.12962962964,160870.12962962964,160870.12962962964,176242.125,140000.0,160870.12962962964,160870.12962962964,82000.0,160870.12962962964,184270.34157142907,160870.12962962964,160870.12962962964,85000.0,193651.2,160870.12962962964,246700.0,183700.0,162096.7434994054,160870.12962962964,162096.7434994054,160870.12962962964,100000.0,160870.12962962964,115000.0,183700.0,160870.12962962964,175000.0,160870.12962962964,160870.12962962964,184270.34157142907,160870.12962962964,160870.12962962964,209500.0,250000.0,246700.0,162096.7434994054,209200.0,183700.0,168014.92857142858,160870.12962962964,160870.12962962964,173464.61728395062,160870.12962962964,160870.12962962964,160870.12962962964,160870.12962962964,175000.0,120000.0,180000.0,160870.12962962964,160870.12962962964,155000.0,246700.0,160870.12962962964,162096.7434994054,160870.12962962964,120000.0,183700.0,209500.0,160870.12962962964,182700.0,162096.7434994054,173464.61728395062,51356.601159228856,160870.12962962964,160870.12962962964,160870.12962962964,176242.125,162096.7434994054,105000.0,110000.0,160870.12962962964,160870.12962962964,120000.0,213333.33333333334,160870.12962962964,162096.7434994054,162096.7434994054,162096.7434994054,162096.7434994054,162096.7434994054,150000.0,160870.12962962964,176242.125,85000.0,246700.0,246700.0,246700.0,160870.12962962964,185050.58315789475,250000.0,135000.0,160870.12962962964,162096.7434994054,162096.7434994054,162096.7434994054,162096.7434994054,162096.7434994054,195500.0,162096.7434994054,173464.61728395062,173464.61728395062,213333.33333333334,162096.7434994054,162096.7434994054,162096.7434994054,162096.7434994054,162096.7434994054,160870.12962962964,160870.12962962964,166080.0,90000.0,100000.0,125000.0,51356.601159228856,160870.12962962964,173464.61728395062,120000.0,162096.7434994054,162096.7434994054,162096.7434994054,160870.12962962964,173464.61728395062,141928.57142857142,160870.12962962964,210000.0,110000.0,160870.12962962964,162096.7434994054,162096.7434994054,140000.0,162096.7434994054,155000.0,162096.7434994054,162096.7434994054,160870.12962962964,126932.26428571428,173464.61728395062,109400.0,173464.61728395062,265000.0,160870.12962962964,160870.12962962964,109400.0,162096.7434994054,162096.7434994054,162096.7434994054,162096.7434994054,162096.7434994054,162096.7434994054,162096.7434994054,126932.26428571428,163250.8,162096.7434994054,160870.12962962964,160870.12962962964,85000.0,160870.12962962964,160870.12962962964,173464.61728395062,162096.7434994054,162096.7434994054,162096.7434994054,162096.7434994054,160870.12962962964,162096.7434994054,160870.12962962964,169456.0,160870.12962962964,192000.0,160870.12962962964,160870.12962962964,149000.0,162096.7434994054,145000.0,162096.7434994054,110000.0,160870.12962962964,137280.0,67000.0,160870.12962962964,115250.0,160870.12962962964,160870.12962962964,160870.12962962964,95000.0,100000.0,160870.12962962964,180000.0,141928.57142857142,160870.12962962964,150000.0,140000.0,160870.12962962964,120000.0,75000.0,160870.12962962964,160870.12962962964,162096.7434994054,160870.12962962964,160870.12962962964,173464.61728395062,160870.12962962964,160870.12962962964,160870.12962962964,184270.34157142907,162096.7434994054,185050.58315789475,172432.0,160870.12962962964,162096.7434994054,172432.0,120000.0,160870.12962962964,168014.92857142858,185050.58315789475,162096.7434994054,184270.34157142907,70000.0,110000.0,51356.601159228856,51356.601159228856,141760.0,162096.7434994054,105000.0,162096.7434994054,162096.7434994054,110000.0,184270.34157142907,110000.0,196767.0,79744.0,85000.0,121850.0,126932.26428571428,110000.0,162096.7434994054,160870.12962962964,126932.26428571428,198444.0,126932.26428571428,75000.0,71400.0,87000.0,184270.34157142907,162096.7434994054,200000.0,95000.0,162096.7434994054,198444.0,126932.26428571428,139800.0,126932.26428571428,191000.0,165000.0,173464.61728395062,122500.0,227000.0,266261.5308513623,85000.0,147619.04761904763,147619.04761904763,184270.34157142907,117000.0,126932.26428571428,109400.0,51356.601159228856,189067.6,205000.0,236600.0,184270.34157142907,150000.0,224416.66666666666,191000.0,126932.26428571428,140100.0,140100.0,227000.0,162096.7434994054,110000.0,173464.61728395062,197000.0,173464.61728395062,185050.58315789475,141090.36000000002,173464.61728395062,225000.0,227000.0,227000.0,162096.7434994054,200000.0,162096.7434994054,140100.0,140100.0,140100.0,140100.0,140100.0,140100.0,140100.0,140100.0,173464.61728395062,162096.7434994054,156000.0,227000.0,228000.0,51356.601159228856,108000.0,51356.601159228856,140100.0,140100.0,140100.0,140100.0,184270.34157142907,85000.0,168014.92857142858],\"yaxis\":\"y\",\"type\":\"scattergl\"},{\"hovertemplate\":\"experience=Mid-Senior level\\u003cbr\\u003emin_salary=%{x}\\u003cbr\\u003emax_salary=%{y}\\u003cextra\\u003e\\u003c\\u002fextra\\u003e\",\"legendgroup\":\"Mid-Senior level\",\"marker\":{\"color\":\"#ab63fa\",\"symbol\":\"circle\"},\"mode\":\"markers\",\"name\":\"Mid-Senior level\",\"showlegend\":true,\"x\":[98640.0,91010.65,160000.0,82981.0,77000.0,107605.5748502994,70000.0,37440.0,90658.80213235295,55000.0,200000.0,31200.0,50000.0,107605.5748502994,90000.0,64389.0,55000.0,90658.80213235295,90658.80213235295,65000.0,70000.0,45000.0,70000.0,80097.9655,176250.0,50000.0,70000.0,250000.0,100000.0,65000.0,64578.54852941176,90077.18291041676,89949.0,89949.0,90658.80213235295,55000.0,55000.0,98924.0,62400.0,69002.56,75000.0,120000.0,98400.0,90077.18291041676,74695.0,50340.0,50340.0,50340.0,50340.0,68195.4,50340.0,50340.0,50340.0,50340.0,50340.0,50340.0,80000.0,57679.26666666667,50340.0,50340.0,50340.0,50340.0,68195.4,68195.4,68195.4,50340.0,50340.0,50340.0,68195.4,68195.4,50340.0,50340.0,50340.0,50340.0,50340.0,50340.0,68195.4,90658.80213235295,50340.0,50340.0,50340.0,50340.0,50340.0,50340.0,68195.4,90658.80213235295,90077.18291041676,44000.0,48838.4,75000.0,120000.0,64578.54852941176,90077.18291041676,90000.0,90077.18291041676,60000.0,95000.0,33650.35897435898,130595.23809523809,83200.0,42000.0,110000.0,50000.0,42494.4,65000.0,64578.54852941176,110000.0,80000.0,115000.0,102923.84285714287,100000.0,95000.0,85000.0,130000.0,90077.18291041676,80000.0,75000.0,155000.0,80097.9655,60000.0,125580.0,107605.5748502994,80000.0,60000.0,100000.0,100000.0,125000.0,140000.0,107605.5748502994,70000.0,76213.33333333333,90658.80213235295,90000.0,80000.0,130595.23809523809,75300.0,90658.80213235295,95000.0,60000.0,175000.0,60000.0,60000.0,85000.0,82028.53571428571,90658.80213235295,65000.0,90077.18291041676,90658.80213235295,115000.0,65000.0,90658.80213235295,87360.0,139000.0,150000.0,104000.0,70000.0,90077.18291041676,102923.84285714287,166400.0,65000.0,100000.0,416000.0,90658.80213235295,90077.18291041676,80000.0,75585.85714285714,90658.80213235295,90658.80213235295,120000.0,95300.0,49920.0,90077.18291041676,160000.0,140000.0,150000.0,100000.0,135200.0,80097.9655,135000.0,90658.80213235295,70000.0,70000.0,140000.0,90658.80213235295,58240.0,75000.0,74521.19130434783,80097.9655,80097.9655,60000.0,55000.0,119397.8835,107605.5748502994,90658.80213235295,107605.5748502994,140000.0,110000.0,90658.80213235295,90077.18291041676,145000.0,140000.0,55000.0,83647.2,55000.0,120000.0,80097.9655,131331.0,110000.0,69002.56,90658.80213235295,55000.0,82028.53571428571,90658.80213235295,90658.80213235295,107605.5748502994,96000.0,107605.5748502994,89440.0,70000.0,66000.0,107605.5748502994,115000.0,55000.0,107605.5748502994,90000.0,75000.0,119397.8835,115000.0,60000.0,107605.5748502994,107605.5748502994,90658.80213235295,104000.0,70000.0,90658.80213235295,74521.19130434783,80000.0,75000.0,124800.0,40000.0,120000.0,107605.5748502994,90658.80213235295,60000.0,77226.9,90658.80213235295,82028.53571428571,90077.18291041676,90000.0,90658.80213235295,80000.0,100000.0,75000.0,100000.0,90658.80213235295,60000.0,49071.0,120000.0,80000.0,110000.0,100000.0,120000.0,80097.9655,90658.80213235295,82500.0,64578.54852941176,90658.80213235295,90000.0,75000.0,74480.0,77226.9,110000.0,107605.5748502994,89681.11111111111,180000.0,120000.0,107605.5748502994,45390.0,89681.11111111111,120000.0,90000.0,60000.0,45760.0,57000.0,70000.0,90658.80213235295,80000.0,107605.5748502994,65000.0,72000.0,80097.9655,107605.5748502994,65000.0,150000.0,90000.0,130000.0,93750.0,65000.0,50000.0,120000.0,65000.0,80000.0,130595.23809523809,118534.0,80097.9655,90077.18291041676,90000.0,72800.0,60000.0,95000.0,85000.0,90658.80213235295,69002.56,90658.80213235295,90658.80213235295,80097.9655,285000.0,69002.56,140000.0,90000.0,140000.0,64800.0,85000.0,62766.4,90077.18291041676,80000.0,107605.5748502994,77100.0,40000.0,90658.80213235295,90000.0,102400.0,90658.80213235295,75000.0,90658.80213235295,135200.0,65000.0,43000.0,50000.0,80000.0,80810.0,130595.23809523809,100000.0,90658.80213235295,130000.0,90077.18291041676,80097.9655,80097.9655,90658.80213235295,85000.0,90658.80213235295,107605.5748502994,47500.0,55000.0,90000.0,130000.0,70333.33333333333,85000.0,65000.0,70000.0,90077.18291041676,80000.0,60000.0,90658.80213235295,100000.0,52000.0,70000.0,116900.0,62486.666666666664,107605.5748502994,107605.5748502994,46000.0,130595.23809523809,130595.23809523809,90658.80213235295,54474.240000000005,115000.0,85000.0,56851.759999999995,170000.0,97537.0,165000.0,60000.0,80000.0,90658.80213235295,90658.80213235295,52000.0,96000.0,100000.0,65000.0,107605.5748502994,90658.80213235295,100000.0,90658.80213235295,89681.11111111111,10000.0,90658.80213235295,45000.0,90658.80213235295,60000.0,107605.5748502994,140400.0,90000.0,80097.9655,110000.0,100000.0,110000.0,90658.80213235295,35568.0,104000.0,90658.80213235295,90000.0,52814.666666666664,26000.0,60000.0,98496.0,90658.80213235295,80097.9655,130000.0,90077.18291041676,110000.0,90077.18291041676,69002.56,74521.19130434783,44000.0,90077.18291041676,90077.18291041676,17160.0,90077.18291041676,100000.0,80000.0,120000.0,50000.0,74521.19130434783,90658.80213235295,85000.0,90658.80213235295,41600.0,90658.80213235295,90658.80213235295,135000.0,74521.19130434783,95000.0,81614.0,50000.0,145000.0,76500.0,109000.0,107605.5748502994,80000.0,90658.80213235295,81614.0,90658.80213235295,64578.54852941176,90077.18291041676,90077.18291041676,70720.0,90658.80213235295,48000.0,100000.0,90077.18291041676,110000.0,90077.18291041676,98309.94285714286,146000.0,40000.0,60000.0,114500.0,90077.18291041676,65000.0,90658.80213235295,100000.0,110000.0,65000.0,60000.0,55000.0,85000.0,90077.18291041676,200000.0,87360.0,90658.80213235295,90658.80213235295,115000.0,75000.0,93600.0,90000.0,90077.18291041676,107605.5748502994,74521.19130434783,56851.759999999995,90658.80213235295,90658.80213235295,150000.0,77595.0,75525.0,107605.5748502994,47900.0,90000.0,160000.0,58000.0,64578.54852941176,90658.80213235295,107605.5748502994,90658.80213235295,90000.0,110000.0,80000.0,63000.0,80000.0,107605.5748502994,90658.80213235295,80000.0,90658.80213235295,80097.9655,47900.0,130595.23809523809,90658.80213235295,87651.2,107605.5748502994,145600.0,106000.0,125000.0,75000.0,100000.0,90658.80213235295,107605.5748502994,104633.33333333333,130595.23809523809,90658.80213235295,176250.0,100000.0,134585.0,104000.0,90000.0,90077.18291041676,120640.0,90658.80213235295,90077.18291041676,91145.59999999999,64578.54852941176,90077.18291041676,180000.0,80097.9655,45125.0,115000.0,90658.80213235295,120000.0,90000.0,110000.0,106629.71428571429,64578.54852941176,37000.0,80097.9655,57679.26666666667,116646.4,135000.0,80000.0,97760.0,90077.18291041676,90658.80213235295,90077.18291041676,90077.18291041676,95000.0,55000.0,119271.42857142857,90077.18291041676,90077.18291041676,108218.0,108218.0,50000.0,40000.0,90658.80213235295,57679.26666666667,62486.666666666664,50960.0,90077.18291041676,65582.40000000001,90658.80213235295,64578.54852941176,100000.0,108218.0,90077.18291041676,90658.80213235295,90077.18291041676,70853.84,90077.18291041676,54474.240000000005,60000.0,100000.0,70000.0,90658.80213235295,90077.18291041676,33650.35897435898,100000.0,33650.35897435898,33650.35897435898,90077.18291041676,33650.35897435898,90077.18291041676,90077.18291041676,33650.35897435898,90077.18291041676,33650.35897435898,90077.18291041676,33650.35897435898,33650.35897435898,33650.35897435898,90077.18291041676,107605.5748502994,82083.33333333333,117000.0,56851.759999999995,60000.0,100000.0,90077.18291041676,90077.18291041676,108218.0,78478.4,60000.0,119271.42857142857,110000.0,50000.0,35360.0,139728.0,60000.0,60715.200000000004,33650.35897435898,90077.18291041676,33650.35897435898,33650.35897435898,33650.35897435898,33650.35897435898,90077.18291041676,90077.18291041676,33650.35897435898,90077.18291041676,105000.0,80097.9655,74521.19130434783,107605.5748502994,85000.0,20800.0,75996.0,100000.0,47840.0,90077.18291041676,100000.0,107605.5748502994,55000.0,90077.18291041676,67704.0,90658.80213235295,107605.5748502994,130595.23809523809,85900.0,107605.5748502994,90077.18291041676,90077.18291041676,117000.0,80097.9655,90658.80213235295,55000.0,49000.0,100000.0,90077.18291041676,90077.18291041676,108218.0,90077.18291041676,98945.59999999999,80097.9655,70000.0,90658.80213235295,107605.5748502994,130595.23809523809,95000.0,90658.80213235295,135000.0,90658.80213235295,90658.80213235295,97000.0,90658.80213235295,86000.0,90658.80213235295,121000.0,136000.0,142500.0,95000.0,92500.0,90077.18291041676,105000.0,110000.0,90077.18291041676,33650.35897435898,85923.84000000001,80097.9655,90658.80213235295,75300.0,72800.0,64578.54852941176,90077.18291041676,68000.0,43971.200000000004,62766.4,70000.0,90000.0,74521.19130434783,82500.0,90077.18291041676,87300.0,98754.0,110000.0,55000.0,111600.0,120000.0,107605.5748502994,47840.0,38000.0,40000.0,85000.0,55000.0,90658.80213235295,90658.80213235295,85923.84000000001,45125.0,33650.35897435898,90077.18291041676,90077.18291041676,80097.9655,80097.9655,125000.0,100000.0,90077.18291041676,65000.0,90077.18291041676,90077.18291041676,33650.35897435898,84500.0,105000.0,121000.0,61400.0,90077.18291041676,114000.0,120000.0,85000.0,135701.0,80097.9655,90077.18291041676,80000.0,120000.0,38000.0,170000.0,68000.0,90077.18291041676,90077.18291041676,45760.0,61400.0,90077.18291041676,90077.18291041676,95000.0,62400.0,105000.0,95000.0,85000.0,135200.0,70216.66666666667,145000.0,140000.0,90077.18291041676,70000.0,90077.18291041676,102923.84285714287,89681.11111111111,90658.80213235295,107605.5748502994,54474.240000000005,60000.0,100000.0,100000.0,80000.0,90077.18291041676,90077.18291041676,107605.5748502994,107605.5748502994,100000.0,90658.80213235295,90077.18291041676,61400.0,115000.0,75000.0,111600.0,111600.0,107605.5748502994,75000.0,90658.80213235295,75000.0,80000.0,85923.84000000001,64578.54852941176,83200.0,98000.0,55000.0,86000.0,75000.0,100000.0,33650.35897435898,176250.0,95000.0,90077.18291041676,65000.0,34320.0,83000.0,107605.5748502994,87956.0,70634.0,64480.0,50000.0,74521.19130434783,85923.84000000001,90000.0,70000.0,119271.42857142857,90658.80213235295,100000.0,104633.33333333333,90658.80213235295,75525.0,80000.0,74521.19130434783,89681.11111111111,70000.0,141000.0,150000.0,80000.0,200000.0,60000.0,65000.0,125000.0,60320.0,70000.0,80097.9655,54080.0,98754.0,75525.0,61400.0,80142.40000000001,125000.0,90658.80213235295,150000.0,90658.80213235295,56851.759999999995,50000.0,54860.06666666666,85000.0,90000.0,37440.0,85000.0,135200.0,65100.0,60000.0,55000.0,115000.0,114400.0,74880.0,42000.0,135000.0,130000.0,155000.0,77900.0,120000.0,70000.0,76000.0,110000.0,90658.80213235295,70333.33333333333,90077.18291041676,73000.0,135720.0,45032.0,50000.0,67163.0,93600.0,135200.0,50876.0,90077.18291041676,82083.33333333333,74521.19130434783,33650.35897435898,64578.54852941176,74070.0,90077.18291041676,90077.18291041676,64578.54852941176,51900.0,90000.0,90658.80213235295,107605.5748502994,50000.0,44304.0,90077.18291041676,90077.18291041676,10000.0,90077.18291041676,68195.4,72176.0,70853.84,90077.18291041676,90077.18291041676,90077.18291041676,90658.80213235295,90658.80213235295,120000.0,117000.0,90077.18291041676,90658.80213235295,59300.0,85923.84000000001,33650.35897435898,33650.35897435898,139400.0,36400.0,135720.0,107605.5748502994,101900.0,81614.0,49920.0,100000.0,61211.0,90658.80213235295,90077.18291041676,90077.18291041676,76000.0,80000.0,70000.0,139000.0,90658.80213235295,55500.0,65700.0,80000.0,107605.5748502994,90658.80213235295,90077.18291041676,90658.80213235295,109250.0,69002.56,64480.0,45760.0,82083.33333333333,75000.0,55000.0,276100.0,184000.0,90658.80213235295,47320.0,17680.0,60000.0,57200.0,124800.0,96000.0,110000.0,114500.0,65000.0,45125.0,90658.80213235295,33280.0,37000.0,80810.0,55010.0,90000.0,153000.0,50000.0,90000.0,33650.35897435898,56825.0,83647.2,90077.18291041676,90658.80213235295,63000.0,33650.35897435898,55000.0,60000.0,95000.0,70853.84,110000.0,78478.4,50340.0,84200.0,62766.4,95000.0,153000.0,90077.18291041676,50000.0,110000.0,89000.0,90658.80213235295,90077.18291041676,60000.0,90077.18291041676,90658.80213235295,17680.0,90077.18291041676,87100.0,90658.80213235295,93300.0,90658.80213235295,70216.66666666667,50000.0,90658.80213235295,107605.5748502994,90658.80213235295,50000.0,121000.0,90658.80213235295,90658.80213235295,60000.0,120000.0,90077.18291041676,119397.8835,90658.80213235295,85000.0,90658.80213235295,50000.0,150000.0,50000.0,50000.0,90658.80213235295,70000.0,45000.0,90658.80213235295,90658.80213235295,52000.0,52000.0,90000.0,107605.5748502994,90077.18291041676,50000.0,153000.0,82000.0,74521.19130434783,120000.0,60000.0,80000.0,90077.18291041676,90658.80213235295,45000.0,90077.18291041676,90658.80213235295,90658.80213235295,52000.0,105476.8,80097.9655,153000.0,50000.0,61211.0,140000.0,48000.0,130595.23809523809,90077.18291041676,90077.18291041676,18720.0,120000.0,70216.66666666667,80097.9655,80810.0,107605.5748502994,69002.56,90077.18291041676,90658.80213235295,90658.80213235295,133000.0,90077.18291041676,90658.80213235295,90658.80213235295,90077.18291041676,90658.80213235295,89000.0,133000.0,89000.0,69002.56,121000.0,89000.0,133000.0,107605.5748502994,77300.0,140800.0,10000.0,70216.66666666667,85000.0,70000.0,70200.0,61400.0,33650.35897435898,140000.0,75000.0,64480.0,98000.0,235000.0,115000.0,130000.0,41600.0,145600.0,80000.0,100000.0,61400.0,79600.0,119000.0,52814.666666666664,90658.80213235295,91520.0,80000.0,120000.0,104000.0,104000.0,33650.35897435898,80000.0,91200.0,90077.18291041676,65000.0,37000.0,54000.0,90077.18291041676,107605.5748502994,135000.0,140000.0,98009.59999999999,107605.5748502994,58600.0,49500.0,47500.0,90077.18291041676,106629.71428571429,77300.0,90077.18291041676,90658.80213235295,77000.0,10000.0,150000.0,45000.0,90077.18291041676,83000.0,300000.0,115000.0,114300.0,136000.0,45000.0,70000.0,44500.0,67725.0,225000.0,44000.0,70000.0,82028.53571428571,94199.0,80000.0,102600.0,91000.0,100000.0,140000.0,80000.0,82028.53571428571,100000.0,107605.5748502994,74521.19130434783,130000.0,40000.0,107605.5748502994,52000.0,65000.0,130595.23809523809,90658.80213235295,90000.0,119000.0,92500.0,104300.0,55000.0,90658.80213235295,49920.0,147273.0,90000.0,110240.0,135000.0,102600.0,125000.0,70000.0,85000.0,90658.80213235295,90658.80213235295,205000.0,135000.0,44304.0,85000.0,88780.0,74521.19130434783,90658.80213235295,90077.18291041676,90658.80213235295,160000.0,107605.5748502994,800000.0,25000.0,108000.0,140000.0,60000.0,90000.0,90077.18291041676,64578.54852941176,140000.0,100000.0,105000.0,300000.0,150000.0,95000.0,90658.80213235295,107605.5748502994,90000.0,100000.0,90505.325,90658.80213235295,107605.5748502994,107605.5748502994,79800.0,73000.0,60000.0,80000.0,90077.18291041676,82700.0,69600.0,124800.0,90077.18291041676,90658.80213235295,200000.0,90077.18291041676,90658.80213235295,87360.0,80097.9655,150000.0,90000.0,110000.0,90658.80213235295,110000.0,74521.19130434783,69002.56,77226.9,64578.54852941176,33650.35897435898,107605.5748502994,37440.0,70000.0,112830.0,90658.80213235295,70216.66666666667,90658.80213235295,90658.80213235295,70000.0,64578.54852941176,45000.0,90000.0,56160.0,119397.8835,120000.0,90077.18291041676,90658.80213235295,90077.18291041676,80000.0,162100.0,162100.0,33650.35897435898,85000.0,146000.0,150000.0,44750.0,70853.84,17472.0,107605.5748502994,150000.0,63700.0,33650.35897435898,107605.5748502994,77226.9,64578.54852941176,99411.76470588235,90658.80213235295,75000.0,70000.0,75000.0,70000.0,107605.5748502994,150000.0,90077.18291041676,100000.0,90658.80213235295,90077.18291041676,33650.35897435898,105000.0,33650.35897435898,90658.80213235295,70216.66666666667,75000.0,70000.0,50000.0,46688.0,52041.6,62486.666666666664,107605.5748502994,95000.0,110000.0,69000.0,77659.0,180000.0,63000.0,63000.0,90658.80213235295,70000.0,90077.18291041676,43160.0,90000.0,89681.11111111111,87360.0,75952.67,17742.399999999998,70000.0,90077.18291041676,75000.0,64578.54852941176,85923.84000000001,80000.0,74521.19130434783,80000.0,107605.5748502994,62486.666666666664,90077.18291041676,114000.0,90077.18291041676,70000.0,55110.0,42744.0,62486.666666666664,62486.666666666664,17742.399999999998,17742.399999999998,118000.0,70400.0,89000.0,68000.0,80097.9655,70000.0,90658.80213235295,90077.18291041676,90658.80213235295,64578.54852941176,17742.399999999998,90077.18291041676,80097.9655,90077.18291041676,80000.0,99900.0,85000.0,42744.0,90658.80213235295,82000.0,70400.0,147250.0,64480.0,74521.19130434783,107605.5748502994,64578.54852941176,90658.80213235295,170700.0,120000.0,33650.35897435898,107605.5748502994,109250.0,100000.0,90077.18291041676,33650.35897435898,90077.18291041676,90658.80213235295,17742.399999999998,17742.399999999998,17742.399999999998,81000.0,64578.54852941176,90658.80213235295,90077.18291041676,90077.18291041676,68000.0,90077.18291041676,81000.0,49920.0,108500.0,33280.0,75000.0,47840.0,37000.0,116100.0,116100.0,97537.0,70000.0,132300.0,138900.0,83000.0,90658.80213235295,160000.0,80097.9655,95000.0,107605.5748502994,100000.0,100000.0,90658.80213235295,90658.80213235295,140000.0,90077.18291041676,55000.0,74521.19130434783,130595.23809523809,80000.0,115700.0,107605.5748502994,50000.0,33384.0,65000.0,85000.0,90077.18291041676,140000.0,81614.0,33650.35897435898,90077.18291041676,70000.0,102923.84285714287,90658.80213235295,103000.0,74070.0,90077.18291041676,130595.23809523809,117000.0,87147.0,74070.0,74070.0,56160.0,35360.0,74521.19130434783,90658.80213235295,45125.0,107605.5748502994,200000.0,90077.18291041676,56160.0,200000.0,200000.0,106629.71428571429,107605.5748502994,90077.18291041676,89681.11111111111,33650.35897435898,33650.35897435898,33650.35897435898,33650.35897435898,33650.35897435898,33650.35897435898,33650.35897435898,33650.35897435898,33650.35897435898,75000.0,90077.18291041676,202300.0,90658.80213235295,33650.35897435898,99900.0,90000.0,117000.0,145600.0,100000.0,50000.0,89681.11111111111,64578.54852941176,139000.0,70853.84,130595.23809523809,90658.80213235295,90077.18291041676,85923.84000000001,65000.0,107605.5748502994,107605.5748502994,61000.0,90658.80213235295,62766.4,55000.0,96000.0,33650.35897435898,62400.0,117000.0,80097.9655,90077.18291041676,74521.19130434783,90077.18291041676,58240.0,99102.0,86560.0,63000.0,90658.80213235295,90077.18291041676,17472.0,60846.0,105000.0,99411.76470588235,74521.19130434783,80097.9655,80097.9655,90077.18291041676,90077.18291041676,90658.80213235295,109696.0,82640.0,65000.0,110000.0,90077.18291041676,90077.18291041676,69002.56,90077.18291041676,72000.0,58240.0,86560.0,99102.0,86560.0,58240.0,99102.0,58240.0,99400.0,39226.666666666664,62400.0,90077.18291041676,90658.80213235295,58240.0,62766.4,90658.80213235295,90077.18291041676,90658.80213235295,90658.80213235295,74521.19130434783,90077.18291041676,82083.33333333333,58240.0,58240.0,80097.9655,99102.0,33650.35897435898,107605.5748502994,43160.0,95000.0,109400.0,62400.0,75525.0,107605.5748502994,58240.0,119271.42857142857,90077.18291041676,106629.71428571429,80097.9655,100000.0,90658.80213235295,71410.0,80097.9655,90077.18291041676,90658.80213235295,85923.84000000001,90077.18291041676,300000.0,114500.0,90658.80213235295,17160.0,90658.80213235295,59440.0,33650.35897435898,52814.666666666664,80000.0,64578.54852941176,90077.18291041676,140000.0,107605.5748502994,107605.5748502994,62766.4,90658.80213235295,74521.19130434783,101597.0,90077.18291041676,90077.18291041676,75000.0,52041.6,85923.84000000001,85923.84000000001,90000.0,90077.18291041676,33650.35897435898,106537.6,90658.80213235295,90077.18291041676,107605.5748502994,62766.4,62766.4,64578.54852941176,90077.18291041676,33650.35897435898,90077.18291041676,90658.80213235295,90077.18291041676,39226.666666666664,69002.56,90077.18291041676,65000.0,70000.0,75000.0,90000.0,145000.0,110000.0,150000.0,100000.0,70333.33333333333,90077.18291041676,90000.0,17472.0,90077.18291041676,106320.0,75000.0,75000.0,90000.0,26000.0,54080.0,74521.19130434783,90077.18291041676,90077.18291041676,72250.0,90658.80213235295,102800.0,100500.0,90077.18291041676,140000.0,64578.54852941176,100000.0,130000.0,100000.0,200000.0,37000.0,107605.5748502994,90077.18291041676,90077.18291041676,69002.56,90077.18291041676,90077.18291041676,85923.84000000001,145000.0,49379.2,80097.9655,75000.0,90077.18291041676,59500.0,59500.0,90077.18291041676,107605.5748502994,100500.0,95000.0,107605.5748502994,144300.0,90658.80213235295,200000.0,200000.0,90000.0,37000.0,104000.0,90077.18291041676,90077.18291041676,61880.0,90077.18291041676,90077.18291041676,50960.0,90077.18291041676,74521.19130434783,120000.0,110000.0,110000.0,90000.0,33650.35897435898,90658.80213235295,95000.0,90077.18291041676,90077.18291041676,90077.18291041676,90077.18291041676,54474.240000000005,112000.0,135000.0,90000.0,55000.0,90077.18291041676,107605.5748502994,90000.0,34400.0,74521.19130434783,90077.18291041676,61500.0,90658.80213235295,155250.0,90077.18291041676,161000.0,43680.0,117000.0,74521.19130434783,90077.18291041676,90658.80213235295,90077.18291041676,90658.80213235295,89681.11111111111,90077.18291041676,33650.35897435898,54474.240000000005,79500.0,65000.0,90077.18291041676,80097.9655,80097.9655,80097.9655,74521.19130434783,90658.80213235295,96000.0,136000.0,90077.18291041676,90077.18291041676,90077.18291041676,33650.35897435898,89681.11111111111,112000.0,70000.0,70000.0,90077.18291041676,48048.0,90077.18291041676,38812.799999999996,90658.80213235295,65000.0,90077.18291041676,90077.18291041676,107605.5748502994,98309.94285714286,80097.9655,90077.18291041676,90077.18291041676,80000.0,90077.18291041676,62486.666666666664,118000.0,89681.11111111111,62766.4,90077.18291041676,90000.0,90658.80213235295,90077.18291041676,74521.19130434783,90658.80213235295,65000.0,115000.0,90077.18291041676,33650.35897435898,29640.0,64578.54852941176,29640.0,185000.0,33280.0,92200.0,68400.0,90658.80213235295,90077.18291041676,165000.0,90658.80213235295,90000.0,62766.4,44241.6,74521.19130434783,90077.18291041676,68250.0,72000.0,90658.80213235295,90658.80213235295,90077.18291041676,80097.9655,107605.5748502994,70000.0,90658.80213235295,90658.80213235295,90077.18291041676,119397.8835,90077.18291041676,125000.0,90077.18291041676,90077.18291041676,33650.35897435898,90658.80213235295,75000.0,90077.18291041676,33650.35897435898,81800.0,73100.0,81800.0,73100.0,74521.19130434783,74521.19130434783,67648.0,84700.0,90658.80213235295,119397.8835,90077.18291041676,90077.18291041676,90658.80213235295,185000.0,146000.0,49920.0,165000.0,90658.80213235295,75585.85714285714,106000.0,58400.0,49800.0,81800.0,63000.0,119397.8835,90658.80213235295,90077.18291041676,90077.18291041676,48734.4,90658.80213235295,90658.80213235295,75585.85714285714,83000.0,185000.0,92200.0,90077.18291041676,120000.0,90658.80213235295,33650.35897435898,33650.35897435898,33650.35897435898,90077.18291041676,70333.33333333333,73100.0,73100.0,60000.0,90658.80213235295,90658.80213235295,50000.0,106000.0,106000.0,73100.0,58400.0,81800.0,73100.0,73000.0,64578.54852941176,64578.54852941176,43160.0,90658.80213235295,75525.0,98640.0,98640.0,98640.0,98640.0,90077.18291041676,33280.0,73100.0,102923.84285714287,102923.84285714287,90077.18291041676,54474.240000000005,64578.54852941176,90077.18291041676,90077.18291041676,67557.14285714286,37000.0,64578.54852941176,90077.18291041676,90077.18291041676,73000.0,58400.0,58300.0,62400.0,90658.80213235295,90658.80213235295,69002.56,61650.0,98640.0,98640.0,80097.9655,107605.5748502994,33650.35897435898,52200.0,43680.0,120000.0,176250.0,65000.0,90077.18291041676,90000.0,90658.80213235295,98640.0,90077.18291041676,90077.18291041676,64578.54852941176,65000.0,107605.5748502994,98640.0,98640.0,37000.0,90077.18291041676,80097.9655,38292.799999999996,49920.0,135657.6,33650.35897435898,98640.0,90077.18291041676,90077.18291041676,90077.18291041676,90658.80213235295,90077.18291041676,33650.35897435898,81614.0,33650.35897435898,33650.35897435898,74521.19130434783,98640.0,37000.0,90077.18291041676,187800.0,39343.2,90077.18291041676,219166.66666666666,33650.35897435898,203000.0,80097.9655,90077.18291041676,33650.35897435898,33650.35897435898,33650.35897435898,217000.0,205000.0,37000.0,90658.80213235295,57679.26666666667,46000.0,39226.666666666664,90658.80213235295,90077.18291041676,17742.399999999998,129500.0,205000.0,57679.26666666667,74070.0,186000.0,90658.80213235295,90658.80213235295,33650.35897435898,37440.0,73900.0,33650.35897435898,44304.0,33650.35897435898,90077.18291041676,33650.35897435898,33650.35897435898,124800.0,75000.0,80810.0,55000.0,31200.0,90077.18291041676,72000.0,90077.18291041676,100000.0,90077.18291041676,15600.0,63935.04,90658.80213235295,82083.33333333333,41600.0,73770.8,55000.0,90077.18291041676,68195.4,64578.54852941176,136000.0,68195.4,90077.18291041676,70853.84,90658.80213235295,90077.18291041676,90077.18291041676,74521.19130434783,95000.0,96000.0,80000.0,89681.11111111111,90658.80213235295,136000.0,110500.0,83647.2,90077.18291041676,82028.53571428571,120000.0,114750.0,80097.9655,110500.0,90077.18291041676,103436.0,90658.80213235295,90077.18291041676,139000.0,70000.0,90077.18291041676,156000.0,41600.0,136000.0,136000.0,136000.0,90658.80213235295,64578.54852941176,90658.80213235295,82000.0,81614.0,90077.18291041676,90077.18291041676,80097.9655,180000.0,50000.0,110500.0,74521.19130434783,90077.18291041676,74521.19130434783,90077.18291041676,100000.0,130000.0,99900.0,107605.5748502994,90077.18291041676,20000.0,110500.0,90658.80213235295,107605.5748502994,17742.399999999998,107605.5748502994,70000.0,80000.0,62766.4,108160.0,93600.0,120000.0,95000.0,107605.5748502994,80000.0,136000.0,136000.0,136000.0,107605.5748502994,59440.0,90077.18291041676,107605.5748502994,64578.54852941176,90658.80213235295,90077.18291041676,130000.0,42640.0,95000.0,75000.0,90077.18291041676,80000.0,81614.0,134000.0,107605.5748502994,76250.0,52000.0,90658.80213235295,90658.80213235295,75000.0,90658.80213235295,53102.4,90077.18291041676,90658.80213235295,70000.0,90077.18291041676,59000.0,90658.80213235295,90077.18291041676,63000.0,66996.8,57679.26666666667,80097.9655,112000.0,96000.0,64578.54852941176,90658.80213235295,90077.18291041676,80097.9655,90077.18291041676,59000.0,95000.0,90077.18291041676,90077.18291041676,70853.84,56851.759999999995,90658.80213235295,97537.0,95000.0,90077.18291041676,90077.18291041676,90077.18291041676,80097.9655,80097.9655,90077.18291041676,80097.9655,90077.18291041676,64500.0,62766.4,90658.80213235295,80097.9655,80097.9655,90658.80213235295,62486.666666666664,90077.18291041676,130595.23809523809,65300.0,90658.80213235295,95000.0,33650.35897435898,58400.0,58300.0,55000.0,83647.2,78478.4,57679.26666666667,90077.18291041676,90658.80213235295,85923.84000000001,159430.16,81800.0,39226.666666666664,43160.0,269333.0,81800.0,73100.0,80000.0,91000.0,90658.80213235295,61318.4,86185.0,90077.18291041676,90077.18291041676,70680.0,90658.80213235295,73100.0,72800.0,90658.80213235295,98640.0,40102.4,90077.18291041676,99900.0,99900.0,99900.0,90658.80213235295,74521.19130434783,82083.33333333333,107605.5748502994,146000.0,52100.0,81800.0,90658.80213235295,55000.0,90658.80213235295,90658.80213235295,54474.240000000005,90000.0,136000.0,90658.80213235295,62766.4,99900.0,99900.0,90077.18291041676,85923.84000000001,90658.80213235295,90658.80213235295,80000.0,81800.0,58300.0,55000.0,68768.0,72800.0,72800.0,90658.80213235295,55744.0,98754.0,160000.0,85000.0,98640.0,39998.4,47840.0,63003.2,90292.79999999999,150000.0,99900.0,57679.26666666667,180000.0,82000.0,64578.54852941176,90077.18291041676,57200.0,57200.0,75000.0,148025.0,72800.0,72800.0,90658.80213235295,90658.80213235295,90658.80213235295,20800.0,90658.80213235295,74166.0,33650.35897435898,81800.0,98309.94285714286,74521.19130434783,64578.54852941176,98640.0,98640.0,90658.80213235295,124000.0,80097.9655,99900.0,135000.0,109000.0,135200.0,58400.0,81800.0,52100.0,58400.0,90077.18291041676,55000.0,98640.0,85000.0,98400.0,90077.18291041676,90658.80213235295,99900.0,99900.0,99900.0,99900.0,57679.26666666667,68000.0,56851.759999999995,55010.0,90658.80213235295,119397.8835,79996.8,68195.4,90077.18291041676,90077.18291041676,98945.59999999999,99900.0,99900.0,99222.0,90658.80213235295,90658.80213235295,75525.0,90658.80213235295,99900.0,85000.0,270000.0,50000.0,90658.80213235295,105000.0,60000.0,120000.0,85000.0,99411.76470588235,76960.0,47500.0,90077.18291041676,120000.0,120000.0,54474.240000000005,64578.54852941176,120000.0,90658.80213235295,45000.0,70000.0,90658.80213235295,61672.0,120000.0,90658.80213235295,90077.18291041676,90077.18291041676,90077.18291041676,90077.18291041676,80097.9655,90658.80213235295,62486.666666666664,55000.0,80097.9655,130000.0,120000.0,33650.35897435898,85923.84000000001,90077.18291041676,64578.54852941176,32406.4,78000.0,74521.19130434783,130000.0,114500.0,75000.0,75000.0,32406.4,90658.80213235295,102923.84285714287,107605.5748502994,49496.399999999994,90077.18291041676,69002.56,130000.0,130000.0,130000.0,130000.0,90077.18291041676,33650.35897435898,62766.4,67557.14285714286,58600.0,90658.80213235295,90658.80213235295,118000.0,62000.0,90658.80213235295,90658.80213235295,39400.0,90658.80213235295,85008.0,95000.0,90077.18291041676,33650.35897435898,62766.4,54474.240000000005,117800.0,70100.0,77226.9,90077.18291041676,97000.0,90077.18291041676,90658.80213235295,84000.0,90077.18291041676,74521.19130434783,17742.399999999998,90658.80213235295,90077.18291041676,33650.35897435898,200000.0,108000.0,35360.0,49379.2,90077.18291041676,57679.26666666667,70853.84,90658.80213235295,70100.0,70100.0,70100.0,70100.0,90077.18291041676,70100.0,110000.0,90658.80213235295,90000.0,96250.0,67167.0,77900.0,90077.18291041676,58000.0,57679.26666666667,70100.0,39226.666666666664,50000.0,111700.0,100000.0,150000.0,150000.0,112880.0,90077.18291041676,57679.26666666667,68400.0,110500.0,119397.8835,90658.80213235295,70000.0,90077.18291041676,183000.0,130595.23809523809,150000.0,85000.0,95000.0,80000.0,33650.35897435898,90658.80213235295,90658.80213235295,90077.18291041676,95000.0,219166.66666666666,93750.0,95000.0,90077.18291041676,90077.18291041676,78700.0,90077.18291041676,90077.18291041676,85000.0,72800.0,150000.0,90077.18291041676,90658.80213235295,78700.0,78700.0,90658.80213235295,50000.0,162170.0,78700.0,78700.0,78700.0,78700.0,190560.0,90658.80213235295,90077.18291041676,90658.80213235295,90077.18291041676,85750.0,74521.19130434783,98309.94285714286,17160.0,86465.59999999999,90077.18291041676,90077.18291041676,90077.18291041676,78700.0,78700.0,90658.80213235295,70216.66666666667,90658.80213235295,76000.0,78700.0,33650.35897435898,97537.0,90077.18291041676,90077.18291041676,105000.0,97537.0,70853.84,17160.0,99900.0,93396.0,82083.33333333333,90077.18291041676,90077.18291041676,80756.4,37000.0,97537.0,70241.6,74521.19130434783,64578.54852941176,62486.666666666664,33650.35897435898,97537.0,80000.0,99900.0,75585.85714285714,136800.0,90658.80213235295,90000.0,98640.0,82083.33333333333,110000.0,130595.23809523809,90077.18291041676,110000.0,93750.0,90077.18291041676,87935.0,64578.54852941176,58240.0,125000.0,107605.5748502994,75004.8,90077.18291041676,85000.0,52041.6,93750.0,90077.18291041676,90000.0,93750.0,90077.18291041676,34944.0,90077.18291041676,58000.0,150000.0,69002.56,125000.0,107605.5748502994,102923.84285714287,80097.9655,60000.0,45000.0,68000.0,70000.0,90658.80213235295,33650.35897435898,90658.80213235295,112500.0,119271.42857142857,80097.9655,90077.18291041676,90077.18291041676,90077.18291041676,125000.0,90077.18291041676,90077.18291041676,90077.18291041676,167400.0,90077.18291041676,90077.18291041676,125000.0,33650.35897435898,90077.18291041676,90077.18291041676,90077.18291041676,90077.18291041676,90077.18291041676,90077.18291041676,133300.0,90077.18291041676,90077.18291041676,125000.0,125000.0,125000.0,110000.0,90077.18291041676,73000.0,125000.0,125000.0,74500.0,125000.0,125000.0,33650.35897435898,90077.18291041676,125000.0,125000.0,90077.18291041676,90077.18291041676,90077.18291041676,56851.759999999995,56851.759999999995,276100.0,106400.0,80097.9655,125000.0,125000.0,56851.759999999995,276100.0,125000.0,125000.0,90658.80213235295,90658.80213235295,119397.8835,50000.0,105000.0,150000.0,38000.0,90658.80213235295,74000.0,40000.0,52814.666666666664,115000.0,90658.80213235295,83184.0,33650.35897435898,64578.54852941176,50652.0,119397.8835,145200.0,45760.0,156500.0,65000.0,90077.18291041676,73000.0,33650.35897435898,156500.0,115000.0,64578.54852941176,29120.0,33408.0,90658.80213235295,90658.80213235295,57000.0,65000.0,90077.18291041676,99411.76470588235,90000.0,90658.80213235295,90077.18291041676,71000.0,90658.80213235295,90658.80213235295,47216.0,114500.0,90658.80213235295,50000.0,90658.80213235295,119397.8835,49920.0,90658.80213235295,75000.0,90658.80213235295,90077.18291041676,90077.18291041676,130595.23809523809,60000.0,211600.0,107605.5748502994,90077.18291041676,90000.0,130595.23809523809,115000.0,90000.0,202300.0,90698.0,150000.0,160000.0,90658.80213235295,83184.0,70000.0,90658.80213235295,176250.0,90000.0,90658.80213235295,62400.0,86000.0,70000.0,90077.18291041676,64578.54852941176,145600.0,90658.80213235295,107605.5748502994,107605.5748502994,90658.80213235295,74521.19130434783,90658.80213235295,57679.26666666667,90077.18291041676,107605.5748502994,120000.0,90077.18291041676,90077.18291041676,90077.18291041676,55000.0,70000.0,90000.0,69002.56,52000.0,64578.54852941176,90077.18291041676,90077.18291041676,130595.23809523809,75000.0,80097.9655,90658.80213235295,47840.0,98400.0,90658.80213235295,56851.759999999995,100000.0,62400.0,107605.5748502994,69002.56,62486.666666666664,90658.80213235295,49920.0,119397.8835,100000.0,80097.9655,104633.33333333333,135000.0,69002.56,84000.0,75000.0,85000.0,150000.0,104000.0,117000.0,75000.0,130595.23809523809,135000.0,93600.0,90077.18291041676,65000.0,60000.0,110000.0,75000.0,90000.0,90077.18291041676,130000.0,130000.0,124800.0,90658.80213235295,90658.80213235295,96000.0,90000.0,80000.0,90000.0,130595.23809523809,80000.0,145000.0,120000.0,105000.0,90658.80213235295,93600.0,90000.0,85000.0,90658.80213235295,90658.80213235295,62400.0,90658.80213235295,80097.9655,107605.5748502994,55000.0,73000.0,98000.0,90077.18291041676,90000.0,107605.5748502994,50340.0,165000.0,107605.5748502994,80000.0,80000.0,75000.0,130000.0,80097.9655,68195.4,119397.8835,130000.0,64578.54852941176,107605.5748502994,130595.23809523809,90000.0,60715.200000000004,107605.5748502994,54474.240000000005,36000.0,74521.19130434783,120000.0,104008.0,80000.0,80097.9655,90658.80213235295,43680.0,133400.0,99411.76470588235,85000.0,90658.80213235295,90658.80213235295,110000.0,90077.18291041676,80000.0,107605.5748502994,90077.18291041676,90658.80213235295,70000.0,80000.0,95000.0,60000.0,115000.0,33280.0,74521.19130434783,50000.0,55000.0,90658.80213235295,70000.0,77400.0,80097.9655,40000.0,90077.18291041676,85000.0,55000.0,90077.18291041676,67500.0,81000.0,65000.0,90658.80213235295,91900.0,85000.0,75585.85714285714,107605.5748502994,90077.18291041676,90077.18291041676,95000.0,90077.18291041676,74521.19130434783,80810.0,64578.54852941176,90658.80213235295,130000.0,62766.4,90077.18291041676,107605.5748502994,90000.0,107605.5748502994,74521.19130434783,80810.0,71000.0,90000.0,80097.9655,107605.5748502994,110000.0,147000.0,33280.0,33280.0,70333.33333333333,90077.18291041676,130595.23809523809,90658.80213235295,180000.0,140000.0,70853.84,98309.94285714286,147000.0,57400.0,81614.0,43680.0,63000.0,90658.80213235295,90658.80213235295,57679.26666666667,80000.0,90077.18291041676,90077.18291041676,74521.19130434783,80810.0,107605.5748502994,100000.0,56851.759999999995,107605.5748502994,107605.5748502994,147000.0,72300.0,74521.19130434783,130595.23809523809,70000.0,107605.5748502994,90658.80213235295,69002.56,70000.0,90077.18291041676,79040.0,147000.0,62400.0,72300.0,72300.0,90658.80213235295,53000.0,65000.0,90077.18291041676,74521.19130434783,90658.80213235295,90400.0,90077.18291041676,105000.0,90000.0,62766.4,72300.0,72300.0,90658.80213235295,90077.18291041676,107605.5748502994,63000.0,94400.0,50000.0,108000.0,110000.0,108000.0,80000.0,80810.0,80810.0,52000.0,125000.0,60000.0,90658.80213235295,90658.80213235295,68000.0,49379.2,111920.0,147000.0,66560.0,90658.80213235295,102016.0,72300.0,72300.0,96000.0,107605.5748502994,57679.26666666667,90658.80213235295,90658.80213235295,140400.0,56851.759999999995,107605.5748502994,90658.80213235295,90000.0,147000.0,90658.80213235295,102016.0,62720.0,119397.8835,90000.0,70000.0,83200.0,107605.5748502994,39624.0,70000.0,69002.56,55000.0,115000.0,90658.80213235295,90658.80213235295,90077.18291041676,90077.18291041676,90658.80213235295,80000.0,62766.4,76300.0,140000.0,90077.18291041676,107605.5748502994,90077.18291041676,90658.80213235295,50000.0,74521.19130434783,49331.85,90658.80213235295,90077.18291041676,80000.0,115000.0,65000.0,70333.33333333333,114500.0,74521.19130434783,90077.18291041676,90658.80213235295,78700.0,90077.18291041676,90077.18291041676,84000.0,90658.80213235295,107605.5748502994,95000.0,90077.18291041676,90077.18291041676,74521.19130434783,90077.18291041676,85000.0,74521.19130434783,70000.0,90077.18291041676,65000.0,145000.0,90077.18291041676,90658.80213235295,90077.18291041676,70000.0,60000.0,70000.0,119397.8835,90077.18291041676,90658.80213235295,90658.80213235295,119397.8835,90077.18291041676,107605.5748502994,105000.0,90658.80213235295,76250.0,90000.0,90077.18291041676,90077.18291041676,85000.0,90658.80213235295,90658.80213235295,90077.18291041676,65000.0,90658.80213235295,65000.0,90077.18291041676,90077.18291041676,17472.0,100000.0,70853.84,52041.6,90077.18291041676,105000.0,95000.0,255000.0,100000.0,55000.0,85000.0,43500.0,80080.0,74814.67,80000.0,80000.0,70000.0,81614.0,90658.80213235295,73000.0,90077.18291041676,84000.0,70495.0,110000.0,90077.18291041676,90658.80213235295,116100.0,160000.0,90077.18291041676,93600.0,125000.0,90077.18291041676,66821.0,80000.0,65000.0,68195.4,80000.0,81614.0,130595.23809523809,90658.80213235295,80000.0,33280.0,69002.56,100000.0,107605.5748502994,90658.80213235295,130595.23809523809,107605.5748502994,85923.84000000001,750000.0,90077.18291041676,100000.0,130000.0,90077.18291041676,90077.18291041676,90077.18291041676,75000.0,80000.0,90000.0,70216.66666666667,120000.0,74300.0,140000.0,114000.0,102923.84285714287,90658.80213235295,63440.0,74521.19130434783,105000.0,58600.0,90077.18291041676,74521.19130434783,136800.0,90077.18291041676,74521.19130434783,85000.0,60000.0,55000.0,90000.0,90658.80213235295,90658.80213235295,90077.18291041676,65000.0,90658.80213235295,80810.0,107605.5748502994,80810.0,33280.0,33650.35897435898,80097.9655,54474.240000000005,51000.0,33650.35897435898,106080.0,90658.80213235295,64500.0,89681.11111111111,90658.80213235295,61500.0,60000.0,57528.0,90658.80213235295,90077.18291041676,46700.0,43680.0,90077.18291041676,90658.80213235295,90658.80213235295,63481.6,44096.0,90658.80213235295,78000.0,148600.0,54474.240000000005,70853.84,70853.84,47240.0,90077.18291041676,13520.0,90077.18291041676,80810.0,70853.84,60435.0,139800.0,65000.0,90658.80213235295,93883.0,90077.18291041676,90077.18291041676,126000.0,36400.0,33650.35897435898,97640.0,90658.80213235295,107605.5748502994,33650.35897435898,106080.0,90658.80213235295,90077.18291041676,124000.0,100000.0,76000.0,107605.5748502994,106080.0,90077.18291041676,74521.19130434783,80097.9655,119397.8835,45100.0,89681.11111111111,90077.18291041676,70800.0,90077.18291041676,160000.0,95000.0,90000.0,62486.666666666664,135000.0,90658.80213235295,70853.84,64578.54852941176,85000.0,50340.0,90077.18291041676,48297.6,135000.0,210000.0,54474.240000000005,64578.54852941176,62486.666666666664,93300.0,500000.0,90077.18291041676,90658.80213235295,60000.0,100000.0,85923.84000000001,90658.80213235295,96012.0,138800.0,60500.0,78300.0,46944.0,102400.0,90077.18291041676,107605.5748502994,110000.0,80810.0,80000.0,135000.0,60000.0,90658.80213235295,115000.0,33650.35897435898,90077.18291041676,127870.0,62000.0,78300.0,90658.80213235295,90077.18291041676,56136.0,33650.35897435898,90000.0,90077.18291041676,90658.80213235295,135000.0,70800.0,70800.0,90077.18291041676,60000.0,107605.5748502994,74521.19130434783,91900.0,110000.0],\"xaxis\":\"x\",\"y\":[170976.0,117510.65,190000.0,90309.0,80000.0,156199.30736526946,75000.0,47840.0,120475.77335784314,65000.0,161360.1414652553,35360.0,60000.0,156199.30736526946,110000.0,80000.0,65000.0,120475.77335784314,120475.77335784314,72000.0,70000.0,60000.0,70000.0,108325.05249999999,161360.1414652553,60000.0,100000.0,161360.1414652553,125000.0,75000.0,85165.02294117646,130390.51075707035,115000.0,115000.0,120475.77335784314,65000.0,65000.0,120250.0,87360.0,115941.472,85000.0,135000.0,135300.0,130390.51075707035,127455.5,77073.33333333333,77073.33333333333,77073.33333333333,77073.33333333333,178298.6,77073.33333333333,77073.33333333333,77073.33333333333,77073.33333333333,77073.33333333333,77073.33333333333,85000.0,265353.65886818845,77073.33333333333,77073.33333333333,77073.33333333333,77073.33333333333,178298.6,178298.6,178298.6,77073.33333333333,77073.33333333333,77073.33333333333,178298.6,178298.6,77073.33333333333,77073.33333333333,77073.33333333333,77073.33333333333,77073.33333333333,77073.33333333333,178298.6,120475.77335784314,77073.33333333333,77073.33333333333,77073.33333333333,77073.33333333333,77073.33333333333,77073.33333333333,178298.6,120475.77335784314,130390.51075707035,48000.0,48838.4,85000.0,160000.0,85165.02294117646,130390.51075707035,100000.0,130390.51075707035,65000.0,105000.0,48589.846153846156,189770.7619047619,101920.0,46000.0,160000.0,60000.0,57512.0,74750.0,85165.02294117646,150000.0,95000.0,125000.0,146846.95,126000.0,130000.0,110000.0,150000.0,130390.51075707035,85000.0,95000.0,170000.0,108325.05249999999,70000.0,189735.0,156199.30736526946,85000.0,65000.0,125000.0,125000.0,135000.0,160000.0,156199.30736526946,90000.0,94933.33333333333,120475.77335784314,105000.0,100000.0,189770.7619047619,113000.0,120475.77335784314,100000.0,60000.0,161360.1414652553,75000.0,70000.0,95000.0,136121.57857142857,120475.77335784314,65000.0,130390.51075707035,120475.77335784314,146000.0,85000.0,120475.77335784314,156000.0,196000.0,160000.0,116480.0,80000.0,130390.51075707035,146846.95,161360.1414652553,110000.0,125000.0,161360.1414652553,120475.77335784314,130390.51075707035,220000.0,98610.0,120475.77335784314,120475.77335784314,130000.0,185500.0,54080.0,130390.51075707035,190000.0,160000.0,225000.0,125000.0,166400.0,108325.05249999999,225000.0,120475.77335784314,80000.0,85000.0,160000.0,120475.77335784314,72800.0,85000.0,94741.5452173913,108325.05249999999,108325.05249999999,70000.0,65000.0,166847.595,156199.30736526946,120475.77335784314,156199.30736526946,180000.0,170000.0,120475.77335784314,130390.51075707035,170000.0,160000.0,70000.0,93236.0,75000.0,140000.0,108325.05249999999,136000.0,115000.0,115941.472,120475.77335784314,65000.0,136121.57857142857,120475.77335784314,120475.77335784314,156199.30736526946,132000.0,156199.30736526946,89440.0,125000.0,99000.0,156199.30736526946,135000.0,65000.0,156199.30736526946,120000.0,110000.0,166847.595,140000.0,120000.0,156199.30736526946,156199.30736526946,120475.77335784314,166400.0,100000.0,120475.77335784314,94741.5452173913,120000.0,90000.0,135200.0,40000.0,175000.0,156199.30736526946,120475.77335784314,110000.0,98935.66,120475.77335784314,136121.57857142857,130390.51075707035,145000.0,120475.77335784314,99000.0,100000.0,90000.0,110000.0,120475.77335784314,70000.0,58000.0,140000.0,100000.0,140000.0,200000.0,140000.0,108325.05249999999,120475.77335784314,86500.0,85165.02294117646,120475.77335784314,120000.0,265353.65886818845,95000.0,98935.66,125000.0,156199.30736526946,154154.44444444444,161360.1414652553,150000.0,156199.30736526946,88511.0,154154.44444444444,130000.0,265353.65886818845,78500.0,53976.0,60000.0,100000.0,120475.77335784314,90000.0,156199.30736526946,70000.0,80000.0,108325.05249999999,156199.30736526946,85000.0,150000.0,115000.0,150000.0,117500.0,75000.0,60000.0,150000.0,65000.0,95000.0,189770.7619047619,146900.0,108325.05249999999,130390.51075707035,120000.0,83200.0,80000.0,140000.0,130000.0,120475.77335784314,115941.472,120475.77335784314,120475.77335784314,108325.05249999999,161360.1414652553,115941.472,175000.0,110000.0,175000.0,77746.0,110000.0,85648.4,130390.51075707035,125000.0,156199.30736526946,110200.0,50000.0,120475.77335784314,100000.0,171666.66666666666,120475.77335784314,85000.0,120475.77335784314,156000.0,80000.0,62000.0,55000.0,100000.0,101950.0,189770.7619047619,150000.0,120475.77335784314,150000.0,130390.51075707035,108325.05249999999,108325.05249999999,120475.77335784314,110000.0,120475.77335784314,156199.30736526946,107200.0,65000.0,110000.0,150000.0,78750.0,95000.0,85000.0,100000.0,130390.51075707035,120000.0,60000.0,120475.77335784314,150000.0,55000.0,110000.0,175300.0,204986.66666666666,156199.30736526946,156199.30736526946,50000.0,189770.7619047619,189770.7619047619,120475.77335784314,70951.68000000001,125000.0,95000.0,72875.04000000001,161360.1414652553,106337.0,161360.1414652553,90000.0,90000.0,120475.77335784314,120475.77335784314,60320.0,132000.0,120000.0,75000.0,156199.30736526946,120475.77335784314,150000.0,120475.77335784314,154154.44444444444,13967.650704662141,120475.77335784314,65000.0,120475.77335784314,70000.0,156199.30736526946,211000.0,120000.0,108325.05249999999,130000.0,166000.0,130000.0,120475.77335784314,35568.0,114400.0,120475.77335784314,150000.0,89486.66666666667,29328.0,70000.0,172075.0,120475.77335784314,108325.05249999999,140000.0,130390.51075707035,120000.0,130390.51075707035,115941.472,94741.5452173913,47000.0,130390.51075707035,130390.51075707035,27040.0,130390.51075707035,115000.0,100000.0,130000.0,85000.0,94741.5452173913,120475.77335784314,107500.0,120475.77335784314,47840.0,120475.77335784314,120475.77335784314,145000.0,94741.5452173913,115000.0,106558.0,60000.0,160000.0,143000.0,114000.0,156199.30736526946,80000.0,120475.77335784314,106558.0,120475.77335784314,85165.02294117646,130390.51075707035,130390.51075707035,104000.0,120475.77335784314,60000.0,130000.0,130390.51075707035,115000.0,130390.51075707035,162135.62857142856,220000.0,80000.0,60000.0,130000.0,130390.51075707035,75000.0,120475.77335784314,120000.0,145000.0,85000.0,80000.0,62500.0,105000.0,130390.51075707035,161360.1414652553,91520.0,120475.77335784314,120475.77335784314,125000.0,85000.0,124800.0,100000.0,130390.51075707035,156199.30736526946,94741.5452173913,72875.04000000001,120475.77335784314,120475.77335784314,160000.0,88500.0,100000.0,156199.30736526946,77900.0,120000.0,200000.0,60000.0,85165.02294117646,120475.77335784314,156199.30736526946,120475.77335784314,120000.0,150000.0,90000.0,105000.0,115000.0,156199.30736526946,120475.77335784314,90000.0,120475.77335784314,108325.05249999999,77900.0,189770.7619047619,120475.77335784314,105913.6,156199.30736526946,151840.0,130000.0,150000.0,75000.0,130000.0,120475.77335784314,156199.30736526946,129666.66666666667,189770.7619047619,120475.77335784314,161360.1414652553,140000.0,160726.0,124800.0,110000.0,130390.51075707035,124800.0,120475.77335784314,130390.51075707035,110136.0,85165.02294117646,130390.51075707035,161360.1414652553,108325.05249999999,75208.0,150000.0,120475.77335784314,120000.0,135000.0,120000.0,142748.57142857142,85165.02294117646,48000.0,108325.05249999999,265353.65886818845,164008.0,145000.0,90000.0,164320.0,130390.51075707035,120475.77335784314,130390.51075707035,130390.51075707035,105000.0,65000.0,168571.42857142858,130390.51075707035,130390.51075707035,178577.0,178577.0,90000.0,50000.0,120475.77335784314,265353.65886818845,204986.66666666666,76960.0,130390.51075707035,73850.40000000001,120475.77335784314,85165.02294117646,120000.0,178577.0,130390.51075707035,120475.77335784314,130390.51075707035,127696.96,130390.51075707035,70951.68000000001,66000.0,120000.0,100000.0,120475.77335784314,130390.51075707035,48589.846153846156,110000.0,48589.846153846156,48589.846153846156,130390.51075707035,48589.846153846156,130390.51075707035,130390.51075707035,48589.846153846156,130390.51075707035,48589.846153846156,130390.51075707035,48589.846153846156,48589.846153846156,48589.846153846156,130390.51075707035,156199.30736526946,114416.66666666667,139166.66666666666,72875.04000000001,80000.0,120000.0,130390.51075707035,130390.51075707035,178577.0,113651.2,66000.0,168571.42857142858,213333.33333333334,60000.0,41600.0,179448.0,66000.0,91083.2,48589.846153846156,130390.51075707035,48589.846153846156,48589.846153846156,48589.846153846156,48589.846153846156,130390.51075707035,130390.51075707035,48589.846153846156,130390.51075707035,120000.0,108325.05249999999,94741.5452173913,156199.30736526946,175125.0,32240.0,150000.0,120000.0,62400.0,130390.51075707035,115000.0,156199.30736526946,65000.0,130390.51075707035,111716.8,120475.77335784314,156199.30736526946,189770.7619047619,164600.0,156199.30736526946,130390.51075707035,130390.51075707035,139166.66666666666,108325.05249999999,120475.77335784314,62000.0,51000.0,120000.0,130390.51075707035,130390.51075707035,178577.0,130390.51075707035,110822.4,108325.05249999999,80000.0,120475.77335784314,156199.30736526946,189770.7619047619,110000.0,120475.77335784314,165000.0,120475.77335784314,120475.77335784314,180100.0,120475.77335784314,120000.0,120475.77335784314,235200.0,222200.0,265000.0,110000.0,185000.0,130390.51075707035,120000.0,130000.0,130390.51075707035,48589.846153846156,131429.97333333333,108325.05249999999,120475.77335784314,131700.0,72800.0,85165.02294117646,130390.51075707035,85000.0,73278.4,85648.4,80000.0,100000.0,94741.5452173913,187990.0,130390.51075707035,179600.0,157700.0,125000.0,60000.0,175000.0,130000.0,156199.30736526946,83200.0,40000.0,48000.0,115000.0,65000.0,120475.77335784314,120475.77335784314,131429.97333333333,75208.0,48589.846153846156,130390.51075707035,130390.51075707035,108325.05249999999,108325.05249999999,180000.0,115000.0,130390.51075707035,75000.0,130390.51075707035,130390.51075707035,48589.846153846156,204600.0,120000.0,235200.0,100000.0,130390.51075707035,133000.0,130000.0,150000.0,205394.0,108325.05249999999,130390.51075707035,100000.0,130000.0,45000.0,161360.1414652553,85000.0,130390.51075707035,130390.51075707035,52000.0,100000.0,130390.51075707035,130390.51075707035,110000.0,150100.0,120000.0,125000.0,110000.0,156000.0,89222.22222222222,170000.0,170000.0,130390.51075707035,80000.0,130390.51075707035,146846.95,154154.44444444444,120475.77335784314,156199.30736526946,70951.68000000001,72000.0,120000.0,130000.0,90000.0,130390.51075707035,130390.51075707035,156199.30736526946,156199.30736526946,120000.0,120475.77335784314,130390.51075707035,100000.0,223600.0,95000.0,175000.0,175000.0,156199.30736526946,90000.0,120475.77335784314,85000.0,130000.0,131429.97333333333,85165.02294117646,124800.0,130000.0,61000.0,108000.0,85000.0,160000.0,48589.846153846156,161360.1414652553,110000.0,130390.51075707035,85000.0,39520.0,92000.0,156199.30736526946,131934.0,78482.0,68640.0,65000.0,94741.5452173913,131429.97333333333,100000.0,80000.0,168571.42857142858,120475.77335784314,150000.0,129666.66666666667,120475.77335784314,100000.0,93000.0,94741.5452173913,154154.44444444444,80000.0,191000.0,225000.0,100000.0,161360.1414652553,65000.0,75000.0,125000.0,70720.0,80000.0,108325.05249999999,64480.0,157700.0,100000.0,100000.0,117707.20000000001,125000.0,120475.77335784314,155000.0,120475.77335784314,72875.04000000001,50000.0,71513.46666666667,110000.0,150000.0,43680.0,113000.0,156000.0,79104.0,70000.0,65000.0,125000.0,141440.0,110240.0,48500.0,160000.0,150000.0,185000.0,148800.0,155000.0,72000.0,90000.0,130000.0,120475.77335784314,78750.0,130390.51075707035,86000.0,165530.0,54808.0,91000.0,77875.0,124800.0,156000.0,89481.6,130390.51075707035,114416.66666666667,94741.5452173913,48589.846153846156,85165.02294117646,102985.0,130390.51075707035,130390.51075707035,85165.02294117646,89800.0,115000.0,120475.77335784314,156199.30736526946,265353.65886818845,55411.2,130390.51075707035,130390.51075707035,13967.650704662141,130390.51075707035,178298.6,103043.2,127696.96,130390.51075707035,130390.51075707035,130390.51075707035,120475.77335784314,120475.77335784314,130000.0,139166.66666666666,130390.51075707035,120475.77335784314,77826.0,131429.97333333333,48589.846153846156,48589.846153846156,209100.0,40560.0,165530.0,156199.30736526946,152800.0,106558.0,60320.0,150000.0,74093.0,120475.77335784314,130390.51075707035,130390.51075707035,113173.0,90000.0,85000.0,196000.0,120475.77335784314,77700.0,118300.0,95000.0,156199.30736526946,120475.77335784314,130390.51075707035,120475.77335784314,157033.0,115941.472,70000.0,45760.0,114416.66666666667,100000.0,100000.0,161360.1414652553,161360.1414652553,120475.77335784314,68120.0,24440.0,90000.0,78000.0,156000.0,132000.0,140000.0,130000.0,85000.0,75208.0,120475.77335784314,49920.0,48000.0,101950.0,80750.0,100000.0,210000.0,100000.0,120000.0,48589.846153846156,84630.0,93236.0,130390.51075707035,120475.77335784314,105000.0,48589.846153846156,65000.0,90000.0,106000.0,127696.96,120000.0,113651.2,77073.33333333333,140400.0,85648.4,130000.0,210000.0,130390.51075707035,265353.65886818845,155000.0,181000.0,120475.77335784314,130390.51075707035,75000.0,130390.51075707035,120475.77335784314,24440.0,130390.51075707035,130700.0,120475.77335784314,125900.0,120475.77335784314,89222.22222222222,265353.65886818845,120475.77335784314,156199.30736526946,120475.77335784314,265353.65886818845,224000.0,120475.77335784314,120475.77335784314,100000.0,130000.0,130390.51075707035,166847.595,120475.77335784314,100000.0,120475.77335784314,265353.65886818845,175000.0,265353.65886818845,265353.65886818845,120475.77335784314,75000.0,50000.0,120475.77335784314,120475.77335784314,56160.0,96000.0,100000.0,156199.30736526946,130390.51075707035,265353.65886818845,210000.0,91000.0,94741.5452173913,135000.0,90000.0,100000.0,130390.51075707035,120475.77335784314,55000.0,130390.51075707035,120475.77335784314,120475.77335784314,96000.0,141336.0,108325.05249999999,210000.0,265353.65886818845,74093.0,180000.0,88000.0,189770.7619047619,130390.51075707035,130390.51075707035,18720.0,160000.0,89222.22222222222,108325.05249999999,101950.0,156199.30736526946,115941.472,130390.51075707035,120475.77335784314,120475.77335784314,248000.0,130390.51075707035,120475.77335784314,120475.77335784314,130390.51075707035,120475.77335784314,181000.0,248000.0,181000.0,115941.472,224000.0,181000.0,248000.0,156199.30736526946,219700.0,262000.0,13967.650704662141,89222.22222222222,100000.0,90000.0,150100.0,100000.0,48589.846153846156,160000.0,85000.0,76000.0,120000.0,161360.1414652553,165000.0,160000.0,52000.0,170560.0,85000.0,140000.0,100000.0,185000.0,231400.0,89486.66666666667,120475.77335784314,106080.0,130000.0,165000.0,135200.0,135200.0,48589.846153846156,120000.0,185000.0,130390.51075707035,80000.0,48000.0,91000.0,130390.51075707035,156199.30736526946,147000.0,170000.0,98009.59999999999,156199.30736526946,141100.0,119000.0,107200.0,130390.51075707035,142748.57142857142,219700.0,130390.51075707035,120475.77335784314,83000.0,13967.650704662141,170000.0,65000.0,130390.51075707035,83000.0,161360.1414652553,130000.0,212600.0,247600.0,50000.0,95000.0,64194.0,68725.0,161360.1414652553,48000.0,90000.0,136121.57857142857,104282.0,110000.0,154000.0,112000.0,125000.0,150000.0,120000.0,136121.57857142857,120000.0,156199.30736526946,94741.5452173913,160000.0,60000.0,156199.30736526946,62400.0,70000.0,189770.7619047619,120475.77335784314,110000.0,231400.0,185000.0,202800.0,67500.0,120475.77335784314,49920.0,230000.0,100000.0,124800.0,165000.0,154000.0,140000.0,90000.0,85000.0,120475.77335784314,120475.77335784314,161360.1414652553,147000.0,55411.2,95000.0,176065.0,94741.5452173913,120475.77335784314,130390.51075707035,120475.77335784314,190000.0,156199.30736526946,161360.1414652553,100000.0,157000.0,160000.0,85000.0,118000.0,130390.51075707035,85165.02294117646,170000.0,110000.0,120000.0,161360.1414652553,185000.0,105000.0,120475.77335784314,156199.30736526946,110000.0,125000.0,131255.325,120475.77335784314,156199.30736526946,156199.30736526946,114103.0,73000.0,65000.0,100000.0,130390.51075707035,118100.0,82400.0,139360.0,130390.51075707035,120475.77335784314,161360.1414652553,130390.51075707035,120475.77335784314,87360.0,108325.05249999999,200000.0,110000.0,130000.0,120475.77335784314,140000.0,94741.5452173913,115941.472,98935.66,85165.02294117646,48589.846153846156,156199.30736526946,41932.799999999996,90000.0,173756.0,120475.77335784314,89222.22222222222,120475.77335784314,120475.77335784314,130000.0,85165.02294117646,60000.0,125000.0,68203.2,166847.595,160000.0,130390.51075707035,120475.77335784314,130390.51075707035,85000.0,161360.1414652553,161360.1414652553,48589.846153846156,100000.0,220000.0,190000.0,54000.0,127696.96,19572.8,156199.30736526946,265353.65886818845,109200.0,48589.846153846156,156199.30736526946,98935.66,85165.02294117646,124705.88235294117,120475.77335784314,85000.0,75000.0,85000.0,75000.0,156199.30736526946,170000.0,130390.51075707035,130000.0,120475.77335784314,130390.51075707035,48589.846153846156,170000.0,48589.846153846156,120475.77335784314,89222.22222222222,85000.0,80000.0,265353.65886818845,73072.0,80641.6,204986.66666666666,156199.30736526946,110000.0,130000.0,76000.0,265353.65886818845,161360.1414652553,70000.0,70000.0,120475.77335784314,75000.0,130390.51075707035,59800.0,100000.0,154154.44444444444,114400.0,124954.39,33280.0,100000.0,130390.51075707035,90000.0,85165.02294117646,131429.97333333333,120000.0,94741.5452173913,100000.0,156199.30736526946,204986.66666666666,130390.51075707035,148300.0,130390.51075707035,100000.0,81930.0,104998.4,204986.66666666666,204986.66666666666,33280.0,33280.0,118000.0,88000.0,167000.0,128000.0,108325.05249999999,75000.0,120475.77335784314,130390.51075707035,120475.77335784314,85165.02294117646,33280.0,130390.51075707035,108325.05249999999,130390.51075707035,140000.0,151585.7142857143,115000.0,104998.4,120475.77335784314,154000.0,88000.0,215000.0,70000.0,94741.5452173913,156199.30736526946,85165.02294117646,120475.77335784314,161360.1414652553,140000.0,48589.846153846156,156199.30736526946,145000.0,120000.0,130390.51075707035,48589.846153846156,130390.51075707035,120475.77335784314,33280.0,33280.0,33280.0,151000.0,85165.02294117646,120475.77335784314,130390.51075707035,130390.51075707035,136000.0,130390.51075707035,151000.0,54080.0,206400.0,37440.0,161000.0,58240.0,48000.0,208300.0,208300.0,106337.0,75000.0,241500.0,256500.0,91258.0,120475.77335784314,180000.0,108325.05249999999,120000.0,156199.30736526946,120000.0,120000.0,120475.77335784314,120475.77335784314,180000.0,130390.51075707035,60000.0,94741.5452173913,189770.7619047619,100000.0,144600.0,156199.30736526946,52000.0,53456.0,85000.0,100000.0,130390.51075707035,160000.0,106558.0,48589.846153846156,130390.51075707035,130000.0,146846.95,120475.77335784314,139000.0,102985.0,130390.51075707035,189770.7619047619,139166.66666666666,108934.0,102985.0,102985.0,74880.0,43680.0,94741.5452173913,120475.77335784314,75208.0,156199.30736526946,161360.1414652553,130390.51075707035,74880.0,161360.1414652553,161360.1414652553,142748.57142857142,156199.30736526946,130390.51075707035,154154.44444444444,48589.846153846156,48589.846153846156,48589.846153846156,48589.846153846156,48589.846153846156,48589.846153846156,48589.846153846156,48589.846153846156,48589.846153846156,100000.0,130390.51075707035,161360.1414652553,120475.77335784314,48589.846153846156,151585.7142857143,90000.0,139166.66666666666,176800.0,120000.0,52000.0,154154.44444444444,85165.02294117646,196000.0,127696.96,189770.7619047619,120475.77335784314,130390.51075707035,131429.97333333333,74750.0,156199.30736526946,156199.30736526946,103000.0,120475.77335784314,85648.4,65000.0,132000.0,48589.846153846156,87360.0,139166.66666666666,108325.05249999999,130390.51075707035,94741.5452173913,130390.51075707035,83720.0,137310.0,120000.0,120000.0,120475.77335784314,130390.51075707035,19572.8,82750.0,165000.0,124705.88235294117,94741.5452173913,108325.05249999999,108325.05249999999,130390.51075707035,130390.51075707035,120475.77335784314,186781.0,123960.0,95000.0,130000.0,130390.51075707035,130390.51075707035,115941.472,130390.51075707035,108000.0,83720.0,120000.0,137310.0,120000.0,83720.0,137310.0,83720.0,124200.0,53946.666666666664,87360.0,130390.51075707035,120475.77335784314,83720.0,85648.4,120475.77335784314,130390.51075707035,120475.77335784314,120475.77335784314,94741.5452173913,130390.51075707035,114416.66666666667,83720.0,83720.0,108325.05249999999,137310.0,48589.846153846156,156199.30736526946,59800.0,110000.0,218700.0,87360.0,100000.0,156199.30736526946,83720.0,168571.42857142858,130390.51075707035,142748.57142857142,108325.05249999999,102500.0,120475.77335784314,100000.0,108325.05249999999,130390.51075707035,120475.77335784314,131429.97333333333,130390.51075707035,161360.1414652553,130000.0,120475.77335784314,27040.0,120475.77335784314,70585.0,48589.846153846156,89486.66666666667,90000.0,85165.02294117646,130390.51075707035,216000.0,156199.30736526946,156199.30736526946,85648.4,120475.77335784314,94741.5452173913,126996.0,130390.51075707035,130390.51075707035,112500.0,80641.6,131429.97333333333,131429.97333333333,115000.0,130390.51075707035,48589.846153846156,123864.0,120475.77335784314,130390.51075707035,156199.30736526946,85648.4,85648.4,85165.02294117646,130390.51075707035,48589.846153846156,130390.51075707035,120475.77335784314,130390.51075707035,53946.666666666664,115941.472,130390.51075707035,75000.0,100000.0,95000.0,110000.0,250000.0,130000.0,210000.0,140000.0,78750.0,130390.51075707035,102500.0,19572.8,130390.51075707035,182737.0,90000.0,90000.0,110000.0,29328.0,66560.0,94741.5452173913,130390.51075707035,130390.51075707035,90000.0,120475.77335784314,161500.0,164000.0,130390.51075707035,220000.0,85165.02294117646,180000.0,160000.0,130000.0,161360.1414652553,48000.0,156199.30736526946,130390.51075707035,130390.51075707035,115941.472,130390.51075707035,130390.51075707035,131429.97333333333,250000.0,50419.2,108325.05249999999,130000.0,130390.51075707035,85000.0,85000.0,130390.51075707035,156199.30736526946,164000.0,106000.0,156199.30736526946,205350.0,120475.77335784314,161360.1414652553,161360.1414652553,110000.0,48000.0,142000.0,130390.51075707035,130390.51075707035,72800.0,130390.51075707035,130390.51075707035,76960.0,130390.51075707035,94741.5452173913,170000.0,130000.0,150000.0,110000.0,48589.846153846156,120475.77335784314,155000.0,130390.51075707035,130390.51075707035,130390.51075707035,130390.51075707035,70951.68000000001,157000.0,208000.0,130000.0,65000.0,130390.51075707035,156199.30736526946,180000.0,50000.0,94741.5452173913,130390.51075707035,83500.0,120475.77335784314,195750.0,130390.51075707035,253000.0,59092.8,139166.66666666666,94741.5452173913,130390.51075707035,120475.77335784314,130390.51075707035,120475.77335784314,154154.44444444444,130390.51075707035,48589.846153846156,70951.68000000001,119300.0,70000.0,130390.51075707035,108325.05249999999,108325.05249999999,108325.05249999999,94741.5452173913,120475.77335784314,132000.0,220000.0,130390.51075707035,130390.51075707035,130390.51075707035,48589.846153846156,154154.44444444444,154000.0,86000.0,86000.0,130390.51075707035,67704.0,130390.51075707035,41600.0,120475.77335784314,75000.0,130390.51075707035,130390.51075707035,156199.30736526946,162135.62857142856,108325.05249999999,130390.51075707035,130390.51075707035,100000.0,130390.51075707035,204986.66666666666,183000.0,154154.44444444444,85648.4,130390.51075707035,180000.0,120475.77335784314,130390.51075707035,94741.5452173913,120475.77335784314,74750.0,178000.0,130390.51075707035,48589.846153846156,33800.0,85165.02294117646,33800.0,161360.1414652553,41600.0,161400.0,119700.0,120475.77335784314,130390.51075707035,161360.1414652553,120475.77335784314,120000.0,85648.4,46321.6,94741.5452173913,130390.51075707035,90300.0,119000.0,120475.77335784314,120475.77335784314,130390.51075707035,108325.05249999999,156199.30736526946,110000.0,120475.77335784314,120475.77335784314,130390.51075707035,166847.595,130390.51075707035,133000.0,130390.51075707035,130390.51075707035,48589.846153846156,120475.77335784314,90000.0,130390.51075707035,48589.846153846156,186000.0,166000.0,186000.0,166000.0,94741.5452173913,94741.5452173913,101472.0,265353.65886818845,120475.77335784314,166847.595,130390.51075707035,130390.51075707035,120475.77335784314,161360.1414652553,220000.0,54080.0,161360.1414652553,120475.77335784314,98610.0,189000.0,133000.0,102000.0,186000.0,65000.0,166847.595,120475.77335784314,130390.51075707035,130390.51075707035,58032.0,120475.77335784314,120475.77335784314,98610.0,133000.0,161360.1414652553,161400.0,130390.51075707035,150000.0,120475.77335784314,48589.846153846156,48589.846153846156,48589.846153846156,130390.51075707035,78750.0,166000.0,166000.0,65000.0,120475.77335784314,120475.77335784314,60000.0,189000.0,189000.0,166000.0,133000.0,186000.0,166000.0,166000.0,85165.02294117646,85165.02294117646,59800.0,120475.77335784314,100000.0,170976.0,170976.0,170976.0,170976.0,130390.51075707035,49920.0,166000.0,146846.95,146846.95,130390.51075707035,70951.68000000001,85165.02294117646,130390.51075707035,130390.51075707035,97942.85714285714,48000.0,85165.02294117646,130390.51075707035,130390.51075707035,166000.0,133000.0,133000.0,104000.0,120475.77335784314,120475.77335784314,115941.472,106860.0,170976.0,170976.0,108325.05249999999,156199.30736526946,48589.846153846156,119000.0,52000.0,150000.0,161360.1414652553,70000.0,130390.51075707035,95000.0,120475.77335784314,170976.0,130390.51075707035,130390.51075707035,85165.02294117646,89175.0,156199.30736526946,170976.0,170976.0,48000.0,130390.51075707035,108325.05249999999,57428.8,62400.0,175260.80000000002,48589.846153846156,170976.0,130390.51075707035,130390.51075707035,130390.51075707035,120475.77335784314,130390.51075707035,48589.846153846156,106558.0,48589.846153846156,48589.846153846156,94741.5452173913,170976.0,48000.0,130390.51075707035,161360.1414652553,76856.0,130390.51075707035,161360.1414652553,48589.846153846156,161360.1414652553,108325.05249999999,130390.51075707035,48589.846153846156,48589.846153846156,48589.846153846156,161360.1414652553,161360.1414652553,48000.0,120475.77335784314,265353.65886818845,242880.0,53946.666666666664,120475.77335784314,130390.51075707035,33280.0,133000.0,161360.1414652553,265353.65886818845,102985.0,161360.1414652553,120475.77335784314,120475.77335784314,48589.846153846156,47840.0,105000.0,48589.846153846156,55411.2,48589.846153846156,130390.51075707035,48589.846153846156,48589.846153846156,131601.0,80000.0,101950.0,65000.0,72800.0,130390.51075707035,264000.0,130390.51075707035,265353.65886818845,130390.51075707035,35360.0,64000.0,120475.77335784314,114416.66666666667,44720.0,122951.34,85000.0,130390.51075707035,178298.6,85165.02294117646,185300.0,178298.6,130390.51075707035,127696.96,120475.77335784314,130390.51075707035,130390.51075707035,94741.5452173913,110000.0,132000.0,264000.0,154154.44444444444,120475.77335784314,185300.0,130000.0,93236.0,130390.51075707035,136121.57857142857,130000.0,135000.0,108325.05249999999,130000.0,130390.51075707035,144811.0,120475.77335784314,130390.51075707035,196000.0,80000.0,130390.51075707035,172640.0,44720.0,185300.0,185300.0,185300.0,120475.77335784314,85165.02294117646,120475.77335784314,87000.0,106558.0,130390.51075707035,130390.51075707035,108325.05249999999,161360.1414652553,80000.0,130000.0,94741.5452173913,130390.51075707035,94741.5452173913,130390.51075707035,140000.0,170000.0,151585.7142857143,156199.30736526946,130390.51075707035,115000.0,130000.0,120475.77335784314,156199.30736526946,33280.0,156199.30736526946,80000.0,120000.0,85648.4,145600.0,145600.0,140000.0,110000.0,156199.30736526946,100000.0,185300.0,185300.0,185300.0,156199.30736526946,70585.0,130390.51075707035,156199.30736526946,85165.02294117646,120475.77335784314,130390.51075707035,140000.0,67600.0,105000.0,85000.0,130390.51075707035,130000.0,106558.0,171500.0,156199.30736526946,116250.0,72800.0,120475.77335784314,120475.77335784314,130000.0,120475.77335784314,78000.0,130390.51075707035,120475.77335784314,75000.0,130390.51075707035,91000.0,120475.77335784314,130390.51075707035,105000.0,93828.8,265353.65886818845,108325.05249999999,154000.0,132000.0,85165.02294117646,120475.77335784314,130390.51075707035,108325.05249999999,130390.51075707035,91000.0,106000.0,130390.51075707035,130390.51075707035,127696.96,72875.04000000001,120475.77335784314,106337.0,110000.0,130390.51075707035,130390.51075707035,130390.51075707035,108325.05249999999,108325.05249999999,130390.51075707035,108325.05249999999,130390.51075707035,83800.0,85648.4,120475.77335784314,108325.05249999999,108325.05249999999,120475.77335784314,204986.66666666666,130390.51075707035,189770.7619047619,149000.0,120475.77335784314,110000.0,48589.846153846156,133000.0,133000.0,85000.0,93236.0,113651.2,265353.65886818845,130390.51075707035,120475.77335784314,131429.97333333333,219216.45,186000.0,53946.666666666664,59800.0,161360.1414652553,186000.0,166000.0,100000.0,112000.0,120475.77335784314,91977.59999999999,96958.0,130390.51075707035,130390.51075707035,134100.0,120475.77335784314,166000.0,83200.0,120475.77335784314,170976.0,60153.600000000006,130390.51075707035,151585.7142857143,151585.7142857143,151585.7142857143,120475.77335784314,94741.5452173913,114416.66666666667,156199.30736526946,220000.0,119000.0,186000.0,120475.77335784314,85000.0,120475.77335784314,120475.77335784314,70951.68000000001,115000.0,222200.0,120475.77335784314,85648.4,151585.7142857143,151585.7142857143,130390.51075707035,131429.97333333333,120475.77335784314,120475.77335784314,95000.0,186000.0,133000.0,85000.0,111748.0,83200.0,83200.0,120475.77335784314,83616.0,157700.0,180000.0,105000.0,170976.0,44990.399999999994,52000.0,78000.0,169104.0,160000.0,151585.7142857143,265353.65886818845,161360.1414652553,148000.0,85165.02294117646,130390.51075707035,78000.0,78000.0,112500.0,217103.0,83200.0,83200.0,120475.77335784314,120475.77335784314,120475.77335784314,32240.0,120475.77335784314,120520.0,48589.846153846156,186000.0,162135.62857142856,94741.5452173913,85165.02294117646,170976.0,170976.0,120475.77335784314,157000.0,108325.05249999999,151585.7142857143,165000.0,149000.0,187200.0,133000.0,186000.0,119000.0,133000.0,130390.51075707035,85000.0,170976.0,89000.0,135300.0,130390.51075707035,120475.77335784314,151585.7142857143,151585.7142857143,151585.7142857143,151585.7142857143,265353.65886818845,70000.0,72875.04000000001,80750.0,120475.77335784314,166847.595,149510.4,178298.6,130390.51075707035,130390.51075707035,110822.4,151585.7142857143,151585.7142857143,124027.0,120475.77335784314,120475.77335784314,100000.0,120475.77335784314,151585.7142857143,115000.0,161360.1414652553,50000.0,120475.77335784314,140000.0,85000.0,140000.0,100000.0,124705.88235294117,101920.0,107200.0,130390.51075707035,182500.0,182500.0,70951.68000000001,85165.02294117646,182500.0,120475.77335784314,62400.0,150000.0,120475.77335784314,86611.2,130000.0,120475.77335784314,130390.51075707035,130390.51075707035,130390.51075707035,130390.51075707035,108325.05249999999,120475.77335784314,204986.66666666666,65000.0,108325.05249999999,160000.0,182500.0,48589.846153846156,131429.97333333333,130390.51075707035,85165.02294117646,70408.0,97500.0,94741.5452173913,160000.0,130000.0,105000.0,220000.0,70408.0,120475.77335784314,146846.95,156199.30736526946,108900.0,130390.51075707035,115941.472,160000.0,160000.0,160000.0,160000.0,130390.51075707035,48589.846153846156,85648.4,97942.85714285714,141100.0,120475.77335784314,120475.77335784314,178000.0,99200.0,120475.77335784314,120475.77335784314,45000.0,120475.77335784314,110400.0,125000.0,130390.51075707035,48589.846153846156,85648.4,70951.68000000001,200200.0,142200.0,98935.66,130390.51075707035,160000.0,130390.51075707035,120475.77335784314,110250.0,130390.51075707035,94741.5452173913,33280.0,120475.77335784314,130390.51075707035,48589.846153846156,161360.1414652553,218000.0,58240.0,50419.2,130390.51075707035,265353.65886818845,127696.96,120475.77335784314,142200.0,142200.0,142200.0,142200.0,130390.51075707035,142200.0,213333.33333333334,120475.77335784314,140000.0,125000.0,97393.0,148800.0,130390.51075707035,95000.0,265353.65886818845,142200.0,53946.666666666664,60000.0,167500.0,200000.0,215000.0,200000.0,168960.0,130390.51075707035,265353.65886818845,143700.0,130000.0,166847.595,120475.77335784314,80000.0,130390.51075707035,161360.1414652553,189770.7619047619,200000.0,100000.0,110000.0,120000.0,48589.846153846156,120475.77335784314,120475.77335784314,130390.51075707035,131000.0,161360.1414652553,117500.0,110000.0,130390.51075707035,130390.51075707035,105000.0,130390.51075707035,130390.51075707035,115000.0,89440.0,215000.0,130390.51075707035,120475.77335784314,105000.0,105000.0,120475.77335784314,57000.0,161360.1414652553,105000.0,105000.0,105000.0,105000.0,161360.1414652553,120475.77335784314,130390.51075707035,120475.77335784314,130390.51075707035,141400.0,94741.5452173913,162135.62857142856,27040.0,139443.2,130390.51075707035,130390.51075707035,130390.51075707035,105000.0,105000.0,120475.77335784314,89222.22222222222,120475.77335784314,114000.0,105000.0,48589.846153846156,106337.0,130390.51075707035,130390.51075707035,152000.0,106337.0,127696.96,27040.0,151585.7142857143,125136.0,114416.66666666667,130390.51075707035,130390.51075707035,149399.34,48000.0,106337.0,105352.0,94741.5452173913,85165.02294117646,204986.66666666666,48589.846153846156,106337.0,265353.65886818845,151585.7142857143,98610.0,205000.0,120475.77335784314,140000.0,170976.0,114416.66666666667,156000.0,189770.7619047619,130390.51075707035,156000.0,117500.0,130390.51075707035,131903.0,85165.02294117646,72800.0,225000.0,156199.30736526946,85009.59999999999,130390.51075707035,100000.0,80641.6,117500.0,130390.51075707035,102500.0,117500.0,130390.51075707035,50336.0,130390.51075707035,62000.0,150000.0,115941.472,150000.0,156199.30736526946,146846.95,108325.05249999999,80000.0,55000.0,125000.0,85000.0,120475.77335784314,48589.846153846156,120475.77335784314,205000.0,168571.42857142858,108325.05249999999,130390.51075707035,130390.51075707035,130390.51075707035,175000.0,130390.51075707035,130390.51075707035,130390.51075707035,161360.1414652553,130390.51075707035,130390.51075707035,175000.0,48589.846153846156,130390.51075707035,130390.51075707035,130390.51075707035,130390.51075707035,130390.51075707035,130390.51075707035,247500.0,130390.51075707035,130390.51075707035,175000.0,175000.0,175000.0,150000.0,130390.51075707035,93000.0,175000.0,175000.0,95000.0,175000.0,175000.0,48589.846153846156,130390.51075707035,175000.0,175000.0,130390.51075707035,130390.51075707035,130390.51075707035,72875.04000000001,72875.04000000001,161360.1414652553,203100.0,108325.05249999999,175000.0,175000.0,72875.04000000001,161360.1414652553,175000.0,175000.0,120475.77335784314,120475.77335784314,166847.595,100000.0,150000.0,225000.0,50000.0,120475.77335784314,94500.0,55000.0,89486.66666666667,135000.0,120475.77335784314,108564.0,48589.846153846156,85165.02294117646,84300.0,166847.595,217800.0,52000.0,234500.0,80000.0,130390.51075707035,83000.0,48589.846153846156,234500.0,135000.0,85165.02294117646,31200.0,65520.0,120475.77335784314,120475.77335784314,60000.0,75000.0,130390.51075707035,124705.88235294117,150000.0,120475.77335784314,130390.51075707035,75000.0,120475.77335784314,120475.77335784314,75504.0,158900.0,120475.77335784314,65000.0,120475.77335784314,166847.595,64480.0,120475.77335784314,82000.0,120475.77335784314,130390.51075707035,130390.51075707035,189770.7619047619,70000.0,161360.1414652553,156199.30736526946,130390.51075707035,102000.0,189770.7619047619,130000.0,110000.0,161360.1414652553,110652.0,250000.0,180000.0,120475.77335784314,108564.0,80000.0,120475.77335784314,161360.1414652553,140000.0,120475.77335784314,104000.0,265353.65886818845,80000.0,130390.51075707035,85165.02294117646,156000.0,120475.77335784314,156199.30736526946,156199.30736526946,120475.77335784314,94741.5452173913,120475.77335784314,265353.65886818845,130390.51075707035,156199.30736526946,170000.0,130390.51075707035,130390.51075707035,130390.51075707035,65000.0,80000.0,100000.0,115941.472,62400.0,85165.02294117646,130390.51075707035,130390.51075707035,189770.7619047619,150000.0,108325.05249999999,120475.77335784314,52000.0,135300.0,120475.77335784314,72875.04000000001,135000.0,68640.0,156199.30736526946,115941.472,204986.66666666666,120475.77335784314,52000.0,166847.595,180000.0,108325.05249999999,129666.66666666667,150000.0,115941.472,114000.0,85000.0,95000.0,200000.0,114400.0,139166.66666666666,115000.0,189770.7619047619,168000.0,145600.0,130390.51075707035,74750.0,75000.0,125000.0,75000.0,95000.0,130390.51075707035,130000.0,170000.0,128960.0,120475.77335784314,120475.77335784314,132000.0,170000.0,95000.0,95000.0,189770.7619047619,90000.0,170000.0,154000.0,125000.0,120475.77335784314,104000.0,130000.0,95000.0,120475.77335784314,120475.77335784314,64480.0,120475.77335784314,108325.05249999999,156199.30736526946,60000.0,109000.0,123000.0,130390.51075707035,120000.0,156199.30736526946,77073.33333333333,161360.1414652553,156199.30736526946,90000.0,100000.0,95000.0,150000.0,108325.05249999999,178298.6,166847.595,200000.0,85165.02294117646,156199.30736526946,189770.7619047619,130000.0,91083.2,156199.30736526946,70951.68000000001,240000.0,94741.5452173913,150000.0,155051.0,110000.0,108325.05249999999,120475.77335784314,49920.0,258700.0,124705.88235294117,95000.0,120475.77335784314,120475.77335784314,135000.0,130390.51075707035,95000.0,156199.30736526946,130390.51075707035,120475.77335784314,93068.0,120000.0,100000.0,80000.0,135000.0,35360.0,94741.5452173913,75000.0,65000.0,120475.77335784314,75000.0,120100.0,108325.05249999999,50000.0,130390.51075707035,100000.0,70000.0,130390.51075707035,83928.0,96000.0,74750.0,120475.77335784314,105200.0,100000.0,98610.0,156199.30736526946,130390.51075707035,130390.51075707035,105000.0,130390.51075707035,94741.5452173913,101950.0,85165.02294117646,120475.77335784314,140000.0,85648.4,130390.51075707035,156199.30736526946,110000.0,156199.30736526946,94741.5452173913,101950.0,89000.0,105000.0,108325.05249999999,156199.30736526946,156000.0,204700.0,35360.0,35360.0,78750.0,130390.51075707035,189770.7619047619,120475.77335784314,161360.1414652553,145000.0,127696.96,162135.62857142856,204700.0,82000.0,106558.0,45760.0,70000.0,120475.77335784314,120475.77335784314,265353.65886818845,90000.0,130390.51075707035,130390.51075707035,94741.5452173913,101950.0,156199.30736526946,125000.0,72875.04000000001,156199.30736526946,156199.30736526946,204700.0,143800.0,94741.5452173913,189770.7619047619,80000.0,156199.30736526946,120475.77335784314,115941.472,70000.0,130390.51075707035,83200.0,204700.0,72800.0,143800.0,143800.0,120475.77335784314,112900.0,85000.0,130390.51075707035,94741.5452173913,120475.77335784314,168000.0,130390.51075707035,125000.0,105000.0,85648.4,143800.0,143800.0,120475.77335784314,130390.51075707035,156199.30736526946,70000.0,160000.0,50000.0,139960.0,135000.0,139960.0,90000.0,101950.0,101950.0,150000.0,250000.0,65000.0,120475.77335784314,120475.77335784314,78000.0,50419.2,167880.0,204700.0,79040.0,120475.77335784314,140912.0,143800.0,143800.0,132000.0,156199.30736526946,265353.65886818845,120475.77335784314,120475.77335784314,211000.0,72875.04000000001,156199.30736526946,120475.77335784314,100000.0,204700.0,120475.77335784314,140912.0,76066.66666666667,166847.595,105000.0,80000.0,110240.0,156199.30736526946,54350.4,80000.0,115941.472,65000.0,180000.0,120475.77335784314,120475.77335784314,130390.51075707035,130390.51075707035,120475.77335784314,89000.0,85648.4,109000.0,180000.0,130390.51075707035,156199.30736526946,130390.51075707035,120475.77335784314,90000.0,94741.5452173913,73997.78,120475.77335784314,130390.51075707035,120000.0,132600.0,80500.0,78750.0,130000.0,94741.5452173913,130390.51075707035,120475.77335784314,105000.0,130390.51075707035,130390.51075707035,114000.0,120475.77335784314,156199.30736526946,120000.0,130390.51075707035,130390.51075707035,94741.5452173913,130390.51075707035,120000.0,94741.5452173913,104000.0,130390.51075707035,90000.0,180000.0,130390.51075707035,120475.77335784314,130390.51075707035,100000.0,90000.0,80000.0,166847.595,130390.51075707035,120475.77335784314,120475.77335784314,166847.595,130390.51075707035,156199.30736526946,195000.0,120475.77335784314,116250.0,120000.0,130390.51075707035,130390.51075707035,110000.0,120475.77335784314,120475.77335784314,130390.51075707035,74750.0,120475.77335784314,100000.0,130390.51075707035,130390.51075707035,19572.8,110000.0,127696.96,80641.6,130390.51075707035,145000.0,110000.0,161360.1414652553,140000.0,65000.0,93500.0,47500.0,117520.0,120825.9,86000.0,85000.0,100000.0,106558.0,120475.77335784314,100000.0,130390.51075707035,114000.0,130985.0,125000.0,130390.51075707035,120475.77335784314,161300.0,240000.0,130390.51075707035,145600.0,250000.0,130390.51075707035,94350.0,85000.0,75000.0,178298.6,95000.0,106558.0,189770.7619047619,120475.77335784314,100000.0,49920.0,115941.472,115000.0,156199.30736526946,120475.77335784314,189770.7619047619,156199.30736526946,131429.97333333333,161360.1414652553,130390.51075707035,115000.0,190000.0,130390.51075707035,130390.51075707035,130390.51075707035,95000.0,100000.0,100000.0,89222.22222222222,140000.0,87400.0,180000.0,135000.0,146846.95,120475.77335784314,105747.20000000001,94741.5452173913,160000.0,141100.0,130390.51075707035,94741.5452173913,205000.0,130390.51075707035,94741.5452173913,100000.0,75000.0,80000.0,110000.0,120475.77335784314,120475.77335784314,130390.51075707035,80000.0,120475.77335784314,101950.0,156199.30736526946,101950.0,35360.0,48589.846153846156,108325.05249999999,70951.68000000001,77000.0,48589.846153846156,160160.0,120475.77335784314,98444.0,154154.44444444444,120475.77335784314,83500.0,65000.0,126868.0,120475.77335784314,130390.51075707035,105200.0,47840.0,130390.51075707035,120475.77335784314,120475.77335784314,96220.79999999999,59904.0,120475.77335784314,118000.0,218500.0,70951.68000000001,127696.96,127696.96,70865.0,130390.51075707035,13967.650704662141,130390.51075707035,101950.0,127696.96,79375.0,205500.0,139000.0,120475.77335784314,129089.0,130390.51075707035,130390.51075707035,210000.0,38480.0,48589.846153846156,153160.0,120475.77335784314,156199.30736526946,48589.846153846156,160160.0,120475.77335784314,130390.51075707035,191000.0,125000.0,89000.0,156199.30736526946,160160.0,130390.51075707035,94741.5452173913,108325.05249999999,166847.595,75100.0,154154.44444444444,130390.51075707035,115500.0,130390.51075707035,180000.0,110000.0,115000.0,204986.66666666666,142000.0,120475.77335784314,127696.96,85165.02294117646,95000.0,77073.33333333333,130390.51075707035,89710.40000000001,145000.0,161360.1414652553,70951.68000000001,85165.02294117646,204986.66666666666,120650.0,161360.1414652553,130390.51075707035,120475.77335784314,70000.0,135000.0,131429.97333333333,120475.77335784314,139266.0,180400.0,85500.0,129900.0,84960.0,171666.66666666666,130390.51075707035,156199.30736526946,156000.0,101950.0,100000.0,145000.0,70000.0,120475.77335784314,125000.0,48589.846153846156,130390.51075707035,230167.0,90000.0,129900.0,120475.77335784314,130390.51075707035,138564.0,48589.846153846156,110000.0,130390.51075707035,120475.77335784314,140000.0,115500.0,115500.0,130390.51075707035,70000.0,156199.30736526946,94741.5452173913,105200.0,135000.0],\"yaxis\":\"y\",\"type\":\"scattergl\"},{\"hovertemplate\":\"experience=Internship\\u003cbr\\u003emin_salary=%{x}\\u003cbr\\u003emax_salary=%{y}\\u003cextra\\u003e\\u003c\\u002fextra\\u003e\",\"legendgroup\":\"Internship\",\"marker\":{\"color\":\"#FFA15A\",\"symbol\":\"circle\"},\"mode\":\"markers\",\"name\":\"Internship\",\"showlegend\":true,\"x\":[15600.0,19510.4,52462.22222222222,19510.4,95000.0,49145.0,19510.4,19510.4,55000.0,71663.29664235664,71663.29664235664,14996.8,71663.29664235664,55000.0,14560.0,19510.4,19510.4,19510.4,19510.4,120000.0,50000.0,25872.596875,19510.4,71663.29664235664,19510.4,140000.0,22880.0,71663.29664235664,71663.29664235664,45760.0,20800.0,16708.072727272727,16708.072727272727,52350.62857142858,71663.29664235664,16708.072727272727,93142.4,71663.29664235664,71663.29664235664,71663.29664235664,71663.29664235664,71663.29664235664,71663.29664235664,70000.0,71663.29664235664,71663.29664235664,59200.0,59200.0,25872.596875,71663.29664235664,71663.29664235664,19510.4,19510.4,71663.29664235664,71663.29664235664,15745.6,19510.4,52462.22222222222,19510.4,25872.596875,52462.22222222222,52462.22222222222,18720.0,16708.072727272727,71663.29664235664,171850.0,52350.62857142858,19510.4,71663.29664235664,47507.200000000004,112764.8,20800.0,112764.8,19510.4,71663.29664235664,52462.22222222222,70000.0,52462.22222222222,52462.22222222222,19510.4,19510.4,37440.0,16708.072727272727,15745.6,15745.6,12480.0,50000.0,19510.4,49145.0,71663.29664235664,223700.0,49145.0,71663.29664235664,71663.29664235664,52350.62857142858,71663.29664235664,17680.0,50000.0,174000.0,20800.0,20800.0,71663.29664235664,70000.0,52462.22222222222,71663.29664235664,15745.6,98166.43,25872.596875,16708.072727272727,15745.6,52350.62857142858,59200.0,26332.8,39624.0,25872.596875,52350.62857142858,52350.62857142858,71663.29664235664,52350.62857142858,52350.62857142858,71663.29664235664,52350.62857142858,52350.62857142858,22256.0,71663.29664235664,71663.29664235664,22256.0,70000.0,52350.62857142858,71663.29664235664,71663.29664235664,71663.29664235664,71663.29664235664,22256.0,71663.29664235664,59200.0,71663.29664235664,16708.072727272727,71663.29664235664,71663.29664235664,71663.29664235664,52350.62857142858,52350.62857142858,52350.62857142858,112764.8,70000.0,71663.29664235664,71663.29664235664,47507.200000000004,71663.29664235664,52462.22222222222,71663.29664235664,71663.29664235664,71663.29664235664,71663.29664235664,71663.29664235664,71663.29664235664,71663.29664235664,52350.62857142858,68432.0,71663.29664235664,54080.0,71663.29664235664,19510.4,19510.4,52350.62857142858,54080.0,54080.0,54080.0,54080.0,16640.0,71663.29664235664,63939.2,63935.04,16640.0,16640.0,50000.0,50000.0,70000.0,71663.29664235664,15745.6,15745.6,71663.29664235664,58240.0,71663.29664235664,52462.22222222222,71663.29664235664,73100.0,71663.29664235664,71663.29664235664,71663.29664235664,63294.4,71663.29664235664,52350.62857142858,52350.62857142858,52462.22222222222,19510.4,70000.0,98166.43,52462.22222222222,52462.22222222222,71663.29664235664,19510.4,63935.04,19510.4,19510.4,19510.4,19510.4,19510.4,25872.596875,19510.4,71663.29664235664,16708.072727272727,52350.62857142858,230000.0,71663.29664235664,52350.62857142858,135200.0,52350.62857142858,77490.0,350000.0,52350.62857142858,135200.0,135200.0,16708.072727272727,123855.0,71663.29664235664,71663.29664235664,52350.62857142858,118470.0,70000.0,71663.29664235664,49145.0,37440.0,71663.29664235664,15995.2,71663.29664235664,59200.0,112764.8,71663.29664235664,50000.0,19510.4,70000.0,19510.4,16708.072727272727,20800.0,19510.4,47507.200000000004,120000.0,45760.0,19510.4,17680.0,19510.4,19510.4,180000.0,49145.0,19510.4,71663.29664235664,19510.4,71663.29664235664,52462.22222222222,71663.29664235664,25872.596875,52462.22222222222,19510.4,52462.22222222222,52462.22222222222,52462.22222222222,60320.0,59200.0,71663.29664235664,52462.22222222222,71663.29664235664,71663.29664235664,71663.29664235664,69014.40000000001,71663.29664235664,52350.62857142858,25872.596875,52350.62857142858,19760.0,25872.596875,52350.62857142858,71663.29664235664,16708.072727272727,16708.072727272727,25872.596875,52462.22222222222,19843.199999999997],\"xaxis\":\"x\",\"y\":[20800.0,22865.7,67484.44444444444,22865.7,145000.0,88305.0,22865.7,22865.7,65000.0,95322.06678106678,95322.06678106678,14996.8,95322.06678106678,75000.0,16640.0,22865.7,22865.7,22865.7,22865.7,130000.0,50000.0,37340.8796875,22865.7,95322.06678106678,22865.7,129405.10236212629,29120.0,95322.06678106678,95322.06678106678,66560.0,26000.0,21112.0,21112.0,61214.97142857143,95322.06678106678,21112.0,149032.0,95322.06678106678,95322.06678106678,95322.06678106678,95322.06678106678,95322.06678106678,95322.06678106678,85000.0,95322.06678106678,95322.06678106678,82800.0,82800.0,37340.8796875,95322.06678106678,95322.06678106678,22865.7,22865.7,95322.06678106678,95322.06678106678,19375.2,22865.7,67484.44444444444,22865.7,37340.8796875,67484.44444444444,67484.44444444444,24960.0,21112.0,95322.06678106678,129405.10236212629,61214.97142857143,22865.7,95322.06678106678,109200.0,145361.06666666668,20800.0,145361.06666666668,22865.7,95322.06678106678,67484.44444444444,90000.0,67484.44444444444,67484.44444444444,22865.7,22865.7,41600.0,21112.0,19375.2,19375.2,15600.0,62500.0,22865.7,88305.0,95322.06678106678,129405.10236212629,88305.0,95322.06678106678,95322.06678106678,61214.97142857143,95322.06678106678,26488.8,65000.0,129405.10236212629,22880.0,22880.0,95322.06678106678,80000.0,67484.44444444444,95322.06678106678,19375.2,161616.0,37340.8796875,21112.0,19375.2,61214.97142857143,82800.0,38480.0,90376.0,37340.8796875,61214.97142857143,61214.97142857143,95322.06678106678,61214.97142857143,61214.97142857143,95322.06678106678,61214.97142857143,61214.97142857143,30160.0,95322.06678106678,95322.06678106678,30160.0,80000.0,61214.97142857143,95322.06678106678,95322.06678106678,95322.06678106678,95322.06678106678,30160.0,95322.06678106678,82800.0,95322.06678106678,21112.0,95322.06678106678,95322.06678106678,95322.06678106678,61214.97142857143,61214.97142857143,61214.97142857143,145361.06666666668,74000.0,95322.06678106678,95322.06678106678,109200.0,95322.06678106678,67484.44444444444,95322.06678106678,95322.06678106678,95322.06678106678,95322.06678106678,95322.06678106678,95322.06678106678,95322.06678106678,61214.97142857143,123052.0,95322.06678106678,68640.0,95322.06678106678,22865.7,22865.7,61214.97142857143,68640.0,68640.0,68640.0,68640.0,47840.0,95322.06678106678,93600.0,91052.0,47840.0,47840.0,53000.0,58500.0,90000.0,95322.06678106678,19375.2,19375.2,95322.06678106678,72800.0,95322.06678106678,67484.44444444444,95322.06678106678,166000.0,95322.06678106678,95322.06678106678,95322.06678106678,91083.2,95322.06678106678,61214.97142857143,61214.97142857143,67484.44444444444,22865.7,145000.0,161616.0,67484.44444444444,67484.44444444444,95322.06678106678,22865.7,95000.0,22865.7,22865.7,22865.7,22865.7,22865.7,37340.8796875,22865.7,95322.06678106678,21112.0,61214.97142857143,129405.10236212629,95322.06678106678,61214.97142857143,129405.10236212629,61214.97142857143,155810.0,129405.10236212629,61214.97142857143,129405.10236212629,129405.10236212629,21112.0,177062.79081626883,95322.06678106678,95322.06678106678,61214.97142857143,177062.79081626883,145000.0,95322.06678106678,88305.0,52000.0,95322.06678106678,36004.799999999996,95322.06678106678,82800.0,145361.06666666668,95322.06678106678,60000.0,22865.7,90000.0,22865.7,21112.0,20800.0,22865.7,109200.0,150000.0,45760.0,22865.7,20800.0,22865.7,22865.7,129405.10236212629,88305.0,22865.7,95322.06678106678,22865.7,95322.06678106678,67484.44444444444,95322.06678106678,37340.8796875,67484.44444444444,22865.7,67484.44444444444,67484.44444444444,67484.44444444444,104000.0,82800.0,95322.06678106678,67484.44444444444,95322.06678106678,95322.06678106678,95322.06678106678,75004.8,95322.06678106678,61214.97142857143,37340.8796875,61214.97142857143,24960.0,37340.8796875,61214.97142857143,95322.06678106678,21112.0,21112.0,37340.8796875,67484.44444444444,24845.600000000002],\"yaxis\":\"y\",\"type\":\"scattergl\"},{\"hovertemplate\":\"experience=Associate\\u003cbr\\u003emin_salary=%{x}\\u003cbr\\u003emax_salary=%{y}\\u003cextra\\u003e\\u003c\\u002fextra\\u003e\",\"legendgroup\":\"Associate\",\"marker\":{\"color\":\"#19d3f3\",\"symbol\":\"circle\"},\"mode\":\"markers\",\"name\":\"Associate\",\"showlegend\":true,\"x\":[74587.60971990766,52000.0,37440.0,76645.71538461538,79378.61904761905,79378.61904761905,96817.74117647059,96817.74117647059,79378.61904761905,76645.71538461538,33280.0,71760.0,85000.0,48751.46666666667,48751.46666666667,76645.71538461538,62314.996666666666,90000.0,74587.60971990766,36400.0,62314.996666666666,75000.0,54080.0,100000.0,50000.0,49920.0,100000.0,120000.0,55000.0,83200.0,74587.60971990766,110940.0,62500.0,66216.0,74587.60971990766,56666.666666666664,96817.74117647059,65000.0,65000.0,115000.0,50000.0,70000.0,96817.74117647059,55000.0,79378.61904761905,76645.71538461538,190000.0,175000.0,85000.0,62314.996666666666,52000.0,47840.0,74587.60971990766,50000.0,52000.0,48751.46666666667,79040.0,98455.0,70000.0,62400.0,40000.0,45000.0,190000.0,85000.0,72000.0,36941.0,55470.34285714286,31200.0,79378.61904761905,76645.71538461538,85700.0,45760.0,62000.0,48751.46666666667,74587.60971990766,74587.60971990766,41600.0,66216.0,48751.46666666667,45000.0,74587.60971990766,76645.71538461538,36941.0,190000.0,74692.8,62400.0,79378.61904761905,74587.60971990766,57652.0,89240.0,48751.46666666667,55000.0,54080.0,55470.34285714286,93300.0,50400.0,55470.34285714286,74587.60971990766,96817.74117647059,51514.28571428572,74587.60971990766,76645.71538461538,122500.0,77500.0,60000.0,55000.0,45000.0,110000.0,79378.61904761905,55000.0,59960.0,54050.0,74587.60971990766,50400.0,50400.0,50400.0,74587.60971990766,50400.0,190000.0,120000.0,55000.0,110000.0,74587.60971990766,76645.71538461538,50000.0,90000.0,74587.60971990766,19760.0,85000.0,48751.46666666667,50400.0,89240.0,50400.0,90000.0,79378.61904761905,50400.0,83000.0,76645.71538461538,96817.74117647059,73916.8,74587.60971990766,37440.0,96817.74117647059,124800.0,76645.71538461538,89240.0,63200.0,70000.0,62314.996666666666,18720.0,96817.74117647059,89240.0,90000.0,74587.60971990766,49920.0,89240.0,60000.0,79378.61904761905,114400.0,41600.0,77000.0,50400.0,63000.0,50400.0,41600.0,75000.0,90000.0,56666.666666666664,160000.0,62314.996666666666,79040.0,65000.0,79378.61904761905,56000.0,62400.0,55470.34285714286,96817.74117647059,96817.74117647059,50400.0,50400.0,80579.20000000001,120000.0,74587.60971990766,83200.0,65000.0,55470.34285714286,50400.0,68750.0,75000.0,48751.46666666667,50400.0,50400.0,50400.0,50400.0,50400.0,54080.0,55470.34285714286,45000.0,68000.0,79378.61904761905,130000.0,79378.61904761905,76645.71538461538,74587.60971990766,90792.0,54080.0,50000.0,57652.0,65000.0,96817.74117647059,45760.0,110000.0,41600.0,74587.60971990766,31720.0,79378.61904761905,74587.60971990766,96817.74117647059,144300.0,120000.0,70000.0,31200.0,74587.60971990766,73916.8,23920.0,43680.0,156340.0,48734.4,62800.0,55470.34285714286,90000.0,96817.74117647059,156340.0,76645.71538461538,120000.0,74587.60971990766,130000.0,45760.0,70000.0,56160.0,74587.60971990766,45000.0,156340.0,65000.0,41600.0,55470.34285714286,135000.0,120000.0,56666.666666666664,110000.0,56000.0,75000.0,156340.0,96817.74117647059,70000.0,55000.0,55470.34285714286,55470.34285714286,75000.0,71789.6,79378.61904761905,70300.0,89240.0,54080.0,85000.0,43680.0,144300.0,50000.0,70000.0,62000.0,54080.0,52104.0,55470.34285714286,52000.0,72800.0,65000.0,41600.0,47840.0,100000.0,80000.0,96817.74117647059,95200.0,85440.0,74587.60971990766,195000.0,145000.0,79378.61904761905,45760.0,50400.0,120000.0,100000.0,55470.34285714286,89240.0,74587.60971990766,74587.60971990766,55470.34285714286,74587.60971990766,96817.74117647059,160000.0,55000.0,90000.0,48751.46666666667,75000.0,79378.61904761905,111035.0,74587.60971990766,60000.0,89240.0,45000.0,74587.60971990766,93600.0,93600.0,69000.0,48751.46666666667,74587.60971990766,89240.0,93600.0,51750.399999999994,74587.60971990766,96817.74117647059,73000.0,43000.0,150000.0,56666.666666666664,49088.0,55470.34285714286,96817.74117647059,120000.0,156683.0,79378.61904761905,60000.0,65000.0,79378.61904761905,70000.0,40000.0,74587.60971990766,47840.0,50400.0,48000.0,34320.0,53664.0,63286.0,64480.0,74587.60971990766,175000.0,90000.0,41600.0,62314.996666666666,76645.71538461538,52000.0,41600.0,37440.0,38833.600000000006,73916.8,60099.96,48526.399999999994,120000.0,76645.71538461538,60000.0,85700.0,62500.0,70000.0,75000.0,70000.0,60000.0,89240.0,80000.0,157500.0,50960.0,74587.60971990766,62400.0,85700.0,50000.0,111035.0,96817.74117647059,96817.74117647059,62400.0,60000.0,74587.60971990766,74587.60971990766,50000.0,74587.60971990766,85000.0,37761.23,65000.0,70000.0,49920.0,57652.0,45760.0,56160.0,74587.60971990766,22880.0,120000.0,147000.0,108500.0,62314.996666666666,35480.0,100000.0,55470.34285714286,35480.0,49920.0,35480.0,96817.74117647059,79378.61904761905,55470.34285714286,60000.0,85000.0,62314.996666666666,55470.34285714286,104000.0,50400.0,89240.0,40000.0,76645.71538461538,74587.60971990766,83200.0,83200.0,49920.0,74587.60971990766,74587.60971990766,62314.996666666666,50600.0,85000.0,89240.0,74587.60971990766,94000.0,74587.60971990766,74587.60971990766,41600.0,74587.60971990766,96817.74117647059,45000.0,96817.74117647059,96817.74117647059,55470.34285714286,41995.200000000004,79152.0,50400.0,41995.200000000004,89240.0,65000.0,50400.0,89000.0,56666.666666666664,74587.60971990766,41600.0,76645.71538461538,39998.4,34320.0,41995.200000000004,74587.60971990766,82000.0,74587.60971990766,74587.60971990766,52500.0,74587.60971990766,108000.0,55244.799999999996,48300.0,55244.799999999996,113400.0,90000.0,71789.6,43680.0,55470.34285714286,35480.0,56000.0,17484.0,88500.0,144300.0,80000.0,76645.71538461538,79378.61904761905,77500.0,80000.0,96817.74117647059,79378.61904761905,96817.74117647059,71760.0,61600.0,35480.0,48000.0,88500.0,96817.74117647059,74587.60971990766,74587.60971990766,74587.60971990766,49920.0,74587.60971990766,74587.60971990766,74587.60971990766,74587.60971990766,74587.60971990766,74587.60971990766,79378.61904761905,66216.0,66216.0,62500.0,59436.0,150000.0,93300.0,55920.0,96817.74117647059,79152.0,79378.61904761905,57520.0,47715.200000000004,96817.74117647059,62500.0,50000.0,50000.0,96817.74117647059,95000.0,75000.0,93600.0,96817.74117647059,110000.0,95000.0,63286.0,95000.0,89240.0,75000.0,76645.71538461538,76645.71538461538,50000.0,74587.60971990766,75000.0,107000.0,50000.0,48751.46666666667,55470.34285714286,79378.61904761905,79378.61904761905,79378.61904761905,55900.0,55900.0,79378.61904761905,157768.0,55900.0,48751.46666666667,51514.28571428572,74587.60971990766,74587.60971990766,74587.60971990766,74587.60971990766,110928.0,52308.0,74587.60971990766,96817.74117647059,96817.74117647059,96817.74117647059,96817.74117647059,96817.74117647059,96817.74117647059,96817.74117647059,96817.74117647059,36400.0,96817.74117647059,96817.74117647059,55470.34285714286,83000.0,74587.60971990766,283700.0,74587.60971990766,80000.0,50400.0,74587.60971990766,96817.74117647059,74587.60971990766,45000.0,50000.0,120000.0,80000.0,83200.0,120000.0,76645.71538461538,90000.0,110000.0,60000.0,74692.8,90000.0,54653.0,76645.71538461538,55470.34285714286,96817.74117647059,96817.74117647059,96817.74117647059,55470.34285714286,62314.996666666666,60000.0,80000.0,55470.34285714286,72000.0,79378.61904761905,72000.0,79356.0,49920.0,70000.0,50000.0,150000.0,51438.4,77500.0,35480.0,96006.0,125000.0,55000.0,55470.34285714286,50400.0,66539.2,74692.8,80000.0,50000.0,60000.0,50400.0,45000.0,74692.8,74587.60971990766,79378.61904761905,62314.996666666666,65000.0,76645.71538461538,79378.61904761905,76645.71538461538,100000.0,111035.0,50000.0,56666.666666666664,33000.0,75000.0,63000.0,85000.0,60000.0,55470.34285714286,70000.0,73916.8,63286.0,50400.0,50000.0,48751.46666666667,150000.0,110000.0,70000.0,50400.0,55470.34285714286,43000.0,55470.34285714286,51514.28571428572,74587.60971990766,70128.0,65000.0,48000.0,55000.0,75000.0,45000.0,90000.0,63000.0,75000.0,36400.0,60000.0,22880.0,74587.60971990766,96817.74117647059,50000.0,73600.0,50400.0,35480.0,85000.0,51514.28571428572,45000.0,110700.0,59960.0,74587.60971990766,66000.0,74587.60971990766,79378.61904761905,76645.71538461538,65000.0,90000.0,51514.28571428572,130000.0,74587.60971990766,51514.28571428572,50000.0,55000.0,71760.0,60000.0,188850.0,74587.60971990766,45718.4,110000.0,92435.2,79378.61904761905,74587.60971990766,85000.0,57200.0,96817.74117647059,41600.0,89240.0,48751.46666666667,51514.28571428572,130000.0,74692.8,89240.0,63286.0,39000.0,34424.0,74587.60971990766,76645.71538461538,20800.0,79378.61904761905,70000.0,51514.28571428572,89240.0,51514.28571428572,58661.0,74587.60971990766,55470.34285714286,76645.71538461538,35480.0,76645.71538461538,52000.0,51514.28571428572,48751.46666666667,68000.0,51514.28571428572,74692.8,48751.46666666667,74587.60971990766,90000.0,115000.0,74587.60971990766,65000.0,225000.0,54080.0,50400.0,170000.0,50000.0,79378.61904761905,120000.0,62500.0,74587.60971990766,79378.61904761905,96817.74117647059,74587.60971990766,96817.74117647059,55470.34285714286,41600.0,76645.71538461538,70000.0,33280.0,74587.60971990766,96817.74117647059,65000.0,55470.34285714286,79378.61904761905,55470.34285714286,55000.0,74587.60971990766,85000.0,56666.666666666664],\"xaxis\":\"x\",\"y\":[96653.34118743762,72800.0,37440.0,93245.44615384616,106883.19047619047,106883.19047619047,129497.88235294117,129497.88235294117,106883.19047619047,93245.44615384616,37440.0,107640.0,95000.0,60348.05333333334,60348.05333333334,93245.44615384616,78553.33,120000.0,96653.34118743762,36400.0,78553.33,90000.0,72800.0,120000.0,70000.0,58240.0,150000.0,170000.0,65000.0,93600.0,96653.34118743762,138792.0,72500.0,82884.0,96653.34118743762,81666.66666666667,129497.88235294117,80000.0,80000.0,150000.0,60000.0,90000.0,129497.88235294117,65000.0,106883.19047619047,93245.44615384616,130673.38214449232,130673.38214449232,120000.0,78553.33,60000.0,52000.0,96653.34118743762,65000.0,58000.0,60348.05333333334,89440.0,168218.0,85000.0,72800.0,45000.0,50000.0,130673.38214449232,100000.0,85000.0,62945.0,70680.85714285714,31200.0,106883.19047619047,93245.44615384616,97780.0,52000.0,70000.0,60348.05333333334,96653.34118743762,96653.34118743762,41600.0,85392.0,60348.05333333334,50000.0,96653.34118743762,93245.44615384616,62945.0,130673.38214449232,83420.8,83200.0,106883.19047619047,96653.34118743762,77484.0,108348.18181818182,60348.05333333334,55000.0,91520.0,70680.85714285714,178324.73941221565,55670.0,70680.85714285714,96653.34118743762,129497.88235294117,65548.57142857143,96653.34118743762,93245.44615384616,155000.0,97500.0,70000.0,75000.0,50000.0,140000.0,106883.19047619047,65000.0,69960.0,70150.0,96653.34118743762,55670.0,55670.0,55670.0,96653.34118743762,55670.0,130673.38214449232,120000.0,65000.0,130000.0,96653.34118743762,93245.44615384616,60000.0,110000.0,96653.34118743762,20800.0,120000.0,60348.05333333334,55670.0,108348.18181818182,55670.0,100000.0,106883.19047619047,55670.0,95000.0,93245.44615384616,129497.88235294117,98289.06666666667,96653.34118743762,41600.0,129497.88235294117,141440.0,93245.44615384616,108348.18181818182,94800.0,70000.0,78553.33,24960.0,129497.88235294117,108348.18181818182,110000.0,96653.34118743762,72800.0,108348.18181818182,75000.0,106883.19047619047,124800.0,47840.0,118000.0,55670.0,70000.0,55670.0,43680.0,90000.0,100000.0,81666.66666666667,130673.38214449232,78553.33,83200.0,75000.0,106883.19047619047,60000.0,70720.0,70680.85714285714,129497.88235294117,129497.88235294117,55670.0,55670.0,131248.0,167000.0,96653.34118743762,93600.0,80000.0,70680.85714285714,55670.0,79325.0,85000.0,60348.05333333334,55670.0,55670.0,55670.0,55670.0,55670.0,56160.0,70680.85714285714,50000.0,68000.0,106883.19047619047,178324.73941221565,106883.19047619047,93245.44615384616,96653.34118743762,91915.2,62400.0,58000.0,77484.0,65000.0,129497.88235294117,52000.0,140000.0,62400.0,96653.34118743762,67454.40000000001,106883.19047619047,96653.34118743762,129497.88235294117,130673.38214449232,178324.73941221565,80000.0,47840.0,96653.34118743762,98289.06666666667,28080.0,68640.0,130673.38214449232,53248.0,104500.0,70680.85714285714,120000.0,129497.88235294117,130673.38214449232,93245.44615384616,178324.73941221565,96653.34118743762,175000.0,56160.0,90000.0,62400.0,96653.34118743762,57000.0,130673.38214449232,75000.0,45760.0,70680.85714285714,130673.38214449232,130000.0,81666.66666666667,130000.0,90000.0,90000.0,130673.38214449232,129497.88235294117,86000.0,55000.0,70680.85714285714,70680.85714285714,95000.0,120624.0,106883.19047619047,87100.0,108348.18181818182,64480.0,120000.0,49920.0,130673.38214449232,55000.0,90000.0,80000.0,68640.0,72904.0,70680.85714285714,93600.0,91520.0,90000.0,52000.0,47840.0,100000.0,110000.0,129497.88235294117,178324.73941221565,128200.0,96653.34118743762,130673.38214449232,130673.38214449232,106883.19047619047,56160.0,55670.0,170000.0,110000.0,70680.85714285714,108348.18181818182,96653.34118743762,96653.34118743762,70680.85714285714,96653.34118743762,129497.88235294117,130673.38214449232,65000.0,110000.0,60348.05333333334,85000.0,106883.19047619047,151786.0,96653.34118743762,80000.0,108348.18181818182,60000.0,96653.34118743762,178324.73941221565,178324.73941221565,74000.0,60348.05333333334,96653.34118743762,108348.18181818182,178324.73941221565,69867.20000000001,96653.34118743762,129497.88235294117,95000.0,50000.0,130673.38214449232,81666.66666666667,69576.0,70680.85714285714,129497.88235294117,178324.73941221565,130673.38214449232,106883.19047619047,70000.0,70000.0,106883.19047619047,70000.0,50000.0,96653.34118743762,58240.0,55670.0,55000.0,36400.0,53664.0,71812.66666666667,72000.0,96653.34118743762,130673.38214449232,110000.0,43680.0,78553.33,93245.44615384616,62000.0,62400.0,45760.0,44366.399999999994,98289.06666666667,69999.95999999999,82492.79999999999,138000.0,93245.44615384616,65000.0,97780.0,72500.0,90000.0,85000.0,80000.0,84000.0,108348.18181818182,105000.0,130673.38214449232,55120.0,96653.34118743762,72800.0,97780.0,65000.0,151786.0,129497.88235294117,129497.88235294117,76960.0,75000.0,96653.34118743762,96653.34118743762,65000.0,96653.34118743762,120000.0,68341.37,110000.0,80000.0,66560.0,77484.0,62400.0,72800.0,96653.34118743762,29120.0,175000.0,130673.38214449232,178324.73941221565,78553.33,39848.0,125000.0,70680.85714285714,39848.0,66560.0,39848.0,129497.88235294117,106883.19047619047,70680.85714285714,75000.0,105000.0,78553.33,70680.85714285714,124800.0,55670.0,108348.18181818182,45000.0,93245.44615384616,96653.34118743762,124700.0,124700.0,66560.0,96653.34118743762,96653.34118743762,78553.33,91100.0,120000.0,108348.18181818182,96653.34118743762,165000.0,96653.34118743762,96653.34118743762,43680.0,96653.34118743762,129497.88235294117,50000.0,129497.88235294117,129497.88235294117,70680.85714285714,65707.2,98352.0,55670.0,65707.2,108348.18181818182,80000.0,55670.0,137000.0,76666.66666666667,96653.34118743762,43680.0,93245.44615384616,44990.399999999994,36400.0,65707.2,96653.34118743762,112000.0,96653.34118743762,96653.34118743762,62500.0,96653.34118743762,178324.73941221565,74880.0,55233.333333333336,74880.0,178324.73941221565,95000.0,120624.0,49920.0,70680.85714285714,39848.0,60000.0,85300.0,126400.0,130673.38214449232,90000.0,93245.44615384616,106883.19047619047,97500.0,90000.0,129497.88235294117,106883.19047619047,129497.88235294117,107640.0,103250.0,39848.0,50000.0,126400.0,129497.88235294117,96653.34118743762,96653.34118743762,96653.34118743762,66560.0,96653.34118743762,96653.34118743762,96653.34118743762,96653.34118743762,96653.34118743762,96653.34118743762,106883.19047619047,82884.0,82884.0,72500.0,89112.0,130673.38214449232,178324.73941221565,83880.0,129497.88235294117,98352.0,106883.19047619047,86280.0,81120.0,129497.88235294117,72500.0,65000.0,65000.0,129497.88235294117,117500.0,138000.0,99840.0,129497.88235294117,150000.0,125000.0,71812.66666666667,140000.0,108348.18181818182,85000.0,93245.44615384616,93245.44615384616,65000.0,96653.34118743762,90000.0,121000.0,65000.0,60348.05333333334,70680.85714285714,106883.19047619047,106883.19047619047,106883.19047619047,113700.0,113700.0,106883.19047619047,130673.38214449232,113700.0,60348.05333333334,65548.57142857143,96653.34118743762,96653.34118743762,96653.34118743762,96653.34118743762,138804.0,71976.0,96653.34118743762,129497.88235294117,129497.88235294117,129497.88235294117,129497.88235294117,129497.88235294117,129497.88235294117,129497.88235294117,129497.88235294117,36400.0,129497.88235294117,129497.88235294117,70680.85714285714,95000.0,96653.34118743762,130673.38214449232,96653.34118743762,90000.0,55670.0,96653.34118743762,129497.88235294117,96653.34118743762,100000.0,60000.0,140000.0,80000.0,99840.0,120000.0,93245.44615384616,100000.0,178324.73941221565,120000.0,83420.8,95000.0,81979.0,93245.44615384616,70680.85714285714,129497.88235294117,129497.88235294117,129497.88235294117,70680.85714285714,78553.33,75000.0,100000.0,70680.85714285714,90000.0,106883.19047619047,138000.0,120000.0,49920.0,85000.0,55000.0,130673.38214449232,57158.4,97500.0,39848.0,96006.0,140000.0,70000.0,70680.85714285714,55670.0,83387.20000000001,83420.8,150000.0,55000.0,70000.0,55670.0,48000.0,83420.8,96653.34118743762,106883.19047619047,78553.33,85000.0,93245.44615384616,106883.19047619047,93245.44615384616,145000.0,151786.0,50000.0,81666.66666666667,37000.0,85000.0,110000.0,95000.0,80000.0,70680.85714285714,115000.0,98289.06666666667,71812.66666666667,55670.0,60000.0,60348.05333333334,130673.38214449232,120000.0,100000.0,55670.0,70680.85714285714,48000.0,70680.85714285714,65548.57142857143,96653.34118743762,70128.0,85000.0,55000.0,55000.0,115000.0,45000.0,130000.0,66000.0,80000.0,40560.0,65000.0,29120.0,96653.34118743762,129497.88235294117,55000.0,114400.0,55670.0,39848.0,95000.0,65548.57142857143,50000.0,178324.73941221565,69960.0,96653.34118743762,66000.0,96653.34118743762,106883.19047619047,93245.44615384616,70000.0,135000.0,65548.57142857143,145000.0,96653.34118743762,65548.57142857143,55000.0,60000.0,107640.0,90000.0,130673.38214449232,96653.34118743762,50980.8,125000.0,128232.0,106883.19047619047,96653.34118743762,100000.0,62400.0,129497.88235294117,52000.0,108348.18181818182,60348.05333333334,65548.57142857143,145000.0,83420.8,108348.18181818182,71812.66666666667,52769.600000000006,41600.0,96653.34118743762,93245.44615384616,31200.0,106883.19047619047,90000.0,65548.57142857143,108348.18181818182,65548.57142857143,70000.0,96653.34118743762,70680.85714285714,93245.44615384616,39848.0,93245.44615384616,62400.0,65548.57142857143,60348.05333333334,103000.0,65548.57142857143,83420.8,60348.05333333334,96653.34118743762,120000.0,132600.0,96653.34118743762,75000.0,130673.38214449232,83200.0,55670.0,130673.38214449232,55000.0,106883.19047619047,178324.73941221565,72500.0,96653.34118743762,106883.19047619047,129497.88235294117,96653.34118743762,129497.88235294117,70680.85714285714,49920.0,93245.44615384616,100000.0,41600.0,96653.34118743762,129497.88235294117,70000.0,70680.85714285714,106883.19047619047,70680.85714285714,65000.0,96653.34118743762,120000.0,81666.66666666667],\"yaxis\":\"y\",\"type\":\"scattergl\"}],                        {\"template\":{\"data\":{\"histogram2dcontour\":[{\"type\":\"histogram2dcontour\",\"colorbar\":{\"outlinewidth\":0,\"ticks\":\"\"},\"colorscale\":[[0.0,\"#0d0887\"],[0.1111111111111111,\"#46039f\"],[0.2222222222222222,\"#7201a8\"],[0.3333333333333333,\"#9c179e\"],[0.4444444444444444,\"#bd3786\"],[0.5555555555555556,\"#d8576b\"],[0.6666666666666666,\"#ed7953\"],[0.7777777777777778,\"#fb9f3a\"],[0.8888888888888888,\"#fdca26\"],[1.0,\"#f0f921\"]]}],\"choropleth\":[{\"type\":\"choropleth\",\"colorbar\":{\"outlinewidth\":0,\"ticks\":\"\"}}],\"histogram2d\":[{\"type\":\"histogram2d\",\"colorbar\":{\"outlinewidth\":0,\"ticks\":\"\"},\"colorscale\":[[0.0,\"#0d0887\"],[0.1111111111111111,\"#46039f\"],[0.2222222222222222,\"#7201a8\"],[0.3333333333333333,\"#9c179e\"],[0.4444444444444444,\"#bd3786\"],[0.5555555555555556,\"#d8576b\"],[0.6666666666666666,\"#ed7953\"],[0.7777777777777778,\"#fb9f3a\"],[0.8888888888888888,\"#fdca26\"],[1.0,\"#f0f921\"]]}],\"heatmap\":[{\"type\":\"heatmap\",\"colorbar\":{\"outlinewidth\":0,\"ticks\":\"\"},\"colorscale\":[[0.0,\"#0d0887\"],[0.1111111111111111,\"#46039f\"],[0.2222222222222222,\"#7201a8\"],[0.3333333333333333,\"#9c179e\"],[0.4444444444444444,\"#bd3786\"],[0.5555555555555556,\"#d8576b\"],[0.6666666666666666,\"#ed7953\"],[0.7777777777777778,\"#fb9f3a\"],[0.8888888888888888,\"#fdca26\"],[1.0,\"#f0f921\"]]}],\"heatmapgl\":[{\"type\":\"heatmapgl\",\"colorbar\":{\"outlinewidth\":0,\"ticks\":\"\"},\"colorscale\":[[0.0,\"#0d0887\"],[0.1111111111111111,\"#46039f\"],[0.2222222222222222,\"#7201a8\"],[0.3333333333333333,\"#9c179e\"],[0.4444444444444444,\"#bd3786\"],[0.5555555555555556,\"#d8576b\"],[0.6666666666666666,\"#ed7953\"],[0.7777777777777778,\"#fb9f3a\"],[0.8888888888888888,\"#fdca26\"],[1.0,\"#f0f921\"]]}],\"contourcarpet\":[{\"type\":\"contourcarpet\",\"colorbar\":{\"outlinewidth\":0,\"ticks\":\"\"}}],\"contour\":[{\"type\":\"contour\",\"colorbar\":{\"outlinewidth\":0,\"ticks\":\"\"},\"colorscale\":[[0.0,\"#0d0887\"],[0.1111111111111111,\"#46039f\"],[0.2222222222222222,\"#7201a8\"],[0.3333333333333333,\"#9c179e\"],[0.4444444444444444,\"#bd3786\"],[0.5555555555555556,\"#d8576b\"],[0.6666666666666666,\"#ed7953\"],[0.7777777777777778,\"#fb9f3a\"],[0.8888888888888888,\"#fdca26\"],[1.0,\"#f0f921\"]]}],\"surface\":[{\"type\":\"surface\",\"colorbar\":{\"outlinewidth\":0,\"ticks\":\"\"},\"colorscale\":[[0.0,\"#0d0887\"],[0.1111111111111111,\"#46039f\"],[0.2222222222222222,\"#7201a8\"],[0.3333333333333333,\"#9c179e\"],[0.4444444444444444,\"#bd3786\"],[0.5555555555555556,\"#d8576b\"],[0.6666666666666666,\"#ed7953\"],[0.7777777777777778,\"#fb9f3a\"],[0.8888888888888888,\"#fdca26\"],[1.0,\"#f0f921\"]]}],\"mesh3d\":[{\"type\":\"mesh3d\",\"colorbar\":{\"outlinewidth\":0,\"ticks\":\"\"}}],\"scatter\":[{\"fillpattern\":{\"fillmode\":\"overlay\",\"size\":10,\"solidity\":0.2},\"type\":\"scatter\"}],\"parcoords\":[{\"type\":\"parcoords\",\"line\":{\"colorbar\":{\"outlinewidth\":0,\"ticks\":\"\"}}}],\"scatterpolargl\":[{\"type\":\"scatterpolargl\",\"marker\":{\"colorbar\":{\"outlinewidth\":0,\"ticks\":\"\"}}}],\"bar\":[{\"error_x\":{\"color\":\"#2a3f5f\"},\"error_y\":{\"color\":\"#2a3f5f\"},\"marker\":{\"line\":{\"color\":\"#E5ECF6\",\"width\":0.5},\"pattern\":{\"fillmode\":\"overlay\",\"size\":10,\"solidity\":0.2}},\"type\":\"bar\"}],\"scattergeo\":[{\"type\":\"scattergeo\",\"marker\":{\"colorbar\":{\"outlinewidth\":0,\"ticks\":\"\"}}}],\"scatterpolar\":[{\"type\":\"scatterpolar\",\"marker\":{\"colorbar\":{\"outlinewidth\":0,\"ticks\":\"\"}}}],\"histogram\":[{\"marker\":{\"pattern\":{\"fillmode\":\"overlay\",\"size\":10,\"solidity\":0.2}},\"type\":\"histogram\"}],\"scattergl\":[{\"type\":\"scattergl\",\"marker\":{\"colorbar\":{\"outlinewidth\":0,\"ticks\":\"\"}}}],\"scatter3d\":[{\"type\":\"scatter3d\",\"line\":{\"colorbar\":{\"outlinewidth\":0,\"ticks\":\"\"}},\"marker\":{\"colorbar\":{\"outlinewidth\":0,\"ticks\":\"\"}}}],\"scattermapbox\":[{\"type\":\"scattermapbox\",\"marker\":{\"colorbar\":{\"outlinewidth\":0,\"ticks\":\"\"}}}],\"scatterternary\":[{\"type\":\"scatterternary\",\"marker\":{\"colorbar\":{\"outlinewidth\":0,\"ticks\":\"\"}}}],\"scattercarpet\":[{\"type\":\"scattercarpet\",\"marker\":{\"colorbar\":{\"outlinewidth\":0,\"ticks\":\"\"}}}],\"carpet\":[{\"aaxis\":{\"endlinecolor\":\"#2a3f5f\",\"gridcolor\":\"white\",\"linecolor\":\"white\",\"minorgridcolor\":\"white\",\"startlinecolor\":\"#2a3f5f\"},\"baxis\":{\"endlinecolor\":\"#2a3f5f\",\"gridcolor\":\"white\",\"linecolor\":\"white\",\"minorgridcolor\":\"white\",\"startlinecolor\":\"#2a3f5f\"},\"type\":\"carpet\"}],\"table\":[{\"cells\":{\"fill\":{\"color\":\"#EBF0F8\"},\"line\":{\"color\":\"white\"}},\"header\":{\"fill\":{\"color\":\"#C8D4E3\"},\"line\":{\"color\":\"white\"}},\"type\":\"table\"}],\"barpolar\":[{\"marker\":{\"line\":{\"color\":\"#E5ECF6\",\"width\":0.5},\"pattern\":{\"fillmode\":\"overlay\",\"size\":10,\"solidity\":0.2}},\"type\":\"barpolar\"}],\"pie\":[{\"automargin\":true,\"type\":\"pie\"}]},\"layout\":{\"autotypenumbers\":\"strict\",\"colorway\":[\"#636efa\",\"#EF553B\",\"#00cc96\",\"#ab63fa\",\"#FFA15A\",\"#19d3f3\",\"#FF6692\",\"#B6E880\",\"#FF97FF\",\"#FECB52\"],\"font\":{\"color\":\"#2a3f5f\"},\"hovermode\":\"closest\",\"hoverlabel\":{\"align\":\"left\"},\"paper_bgcolor\":\"white\",\"plot_bgcolor\":\"#E5ECF6\",\"polar\":{\"bgcolor\":\"#E5ECF6\",\"angularaxis\":{\"gridcolor\":\"white\",\"linecolor\":\"white\",\"ticks\":\"\"},\"radialaxis\":{\"gridcolor\":\"white\",\"linecolor\":\"white\",\"ticks\":\"\"}},\"ternary\":{\"bgcolor\":\"#E5ECF6\",\"aaxis\":{\"gridcolor\":\"white\",\"linecolor\":\"white\",\"ticks\":\"\"},\"baxis\":{\"gridcolor\":\"white\",\"linecolor\":\"white\",\"ticks\":\"\"},\"caxis\":{\"gridcolor\":\"white\",\"linecolor\":\"white\",\"ticks\":\"\"}},\"coloraxis\":{\"colorbar\":{\"outlinewidth\":0,\"ticks\":\"\"}},\"colorscale\":{\"sequential\":[[0.0,\"#0d0887\"],[0.1111111111111111,\"#46039f\"],[0.2222222222222222,\"#7201a8\"],[0.3333333333333333,\"#9c179e\"],[0.4444444444444444,\"#bd3786\"],[0.5555555555555556,\"#d8576b\"],[0.6666666666666666,\"#ed7953\"],[0.7777777777777778,\"#fb9f3a\"],[0.8888888888888888,\"#fdca26\"],[1.0,\"#f0f921\"]],\"sequentialminus\":[[0.0,\"#0d0887\"],[0.1111111111111111,\"#46039f\"],[0.2222222222222222,\"#7201a8\"],[0.3333333333333333,\"#9c179e\"],[0.4444444444444444,\"#bd3786\"],[0.5555555555555556,\"#d8576b\"],[0.6666666666666666,\"#ed7953\"],[0.7777777777777778,\"#fb9f3a\"],[0.8888888888888888,\"#fdca26\"],[1.0,\"#f0f921\"]],\"diverging\":[[0,\"#8e0152\"],[0.1,\"#c51b7d\"],[0.2,\"#de77ae\"],[0.3,\"#f1b6da\"],[0.4,\"#fde0ef\"],[0.5,\"#f7f7f7\"],[0.6,\"#e6f5d0\"],[0.7,\"#b8e186\"],[0.8,\"#7fbc41\"],[0.9,\"#4d9221\"],[1,\"#276419\"]]},\"xaxis\":{\"gridcolor\":\"white\",\"linecolor\":\"white\",\"ticks\":\"\",\"title\":{\"standoff\":15},\"zerolinecolor\":\"white\",\"automargin\":true,\"zerolinewidth\":2},\"yaxis\":{\"gridcolor\":\"white\",\"linecolor\":\"white\",\"ticks\":\"\",\"title\":{\"standoff\":15},\"zerolinecolor\":\"white\",\"automargin\":true,\"zerolinewidth\":2},\"scene\":{\"xaxis\":{\"backgroundcolor\":\"#E5ECF6\",\"gridcolor\":\"white\",\"linecolor\":\"white\",\"showbackground\":true,\"ticks\":\"\",\"zerolinecolor\":\"white\",\"gridwidth\":2},\"yaxis\":{\"backgroundcolor\":\"#E5ECF6\",\"gridcolor\":\"white\",\"linecolor\":\"white\",\"showbackground\":true,\"ticks\":\"\",\"zerolinecolor\":\"white\",\"gridwidth\":2},\"zaxis\":{\"backgroundcolor\":\"#E5ECF6\",\"gridcolor\":\"white\",\"linecolor\":\"white\",\"showbackground\":true,\"ticks\":\"\",\"zerolinecolor\":\"white\",\"gridwidth\":2}},\"shapedefaults\":{\"line\":{\"color\":\"#2a3f5f\"}},\"annotationdefaults\":{\"arrowcolor\":\"#2a3f5f\",\"arrowhead\":0,\"arrowwidth\":1},\"geo\":{\"bgcolor\":\"white\",\"landcolor\":\"#E5ECF6\",\"subunitcolor\":\"white\",\"showland\":true,\"showlakes\":true,\"lakecolor\":\"white\"},\"title\":{\"x\":0.05},\"mapbox\":{\"style\":\"light\"}}},\"xaxis\":{\"anchor\":\"y\",\"domain\":[0.0,1.0],\"title\":{\"text\":\"min_salary\"},\"type\":\"log\"},\"yaxis\":{\"anchor\":\"x\",\"domain\":[0.0,1.0],\"title\":{\"text\":\"max_salary\"}},\"legend\":{\"title\":{\"text\":\"experience\"},\"tracegroupgap\":0},\"title\":{\"text\":\"Salaries by Experience Level\"},\"width\":1100,\"height\":600},                        {\"responsive\": true}                    ).then(function(){\n",
              "                            \n",
              "var gd = document.getElementById('7114cefc-3367-452f-b5e8-b17ac8180b45');\n",
              "var x = new MutationObserver(function (mutations, observer) {{\n",
              "        var display = window.getComputedStyle(gd).display;\n",
              "        if (!display || display === 'none') {{\n",
              "            console.log([gd, 'removed!']);\n",
              "            Plotly.purge(gd);\n",
              "            observer.disconnect();\n",
              "        }}\n",
              "}});\n",
              "\n",
              "// Listen for the removal of the full notebook cells\n",
              "var notebookContainer = gd.closest('#notebook-container');\n",
              "if (notebookContainer) {{\n",
              "    x.observe(notebookContainer, {childList: true});\n",
              "}}\n",
              "\n",
              "// Listen for the clearing of the current output cell\n",
              "var outputEl = gd.closest('.output');\n",
              "if (outputEl) {{\n",
              "    x.observe(outputEl, {childList: true});\n",
              "}}\n",
              "\n",
              "                        })                };                            </script>        </div>\n",
              "</body>\n",
              "</html>"
            ]
          },
          "metadata": {}
        }
      ]
    },
    {
      "cell_type": "code",
      "source": [
        "# calculo del salario promedio\n",
        "def salariopromedio(a, b):\n",
        "  ajustado=[]\n",
        "  for x, y in zip(a,b):\n",
        "    avg = (x+y)/2\n",
        "    ajustado.append(avg)\n",
        "\n",
        "  return ajustado"
      ],
      "metadata": {
        "id": "iPIbcVlp3K7V"
      },
      "execution_count": null,
      "outputs": []
    },
    {
      "cell_type": "code",
      "source": [
        "df['avg_salary'] = salariopromedio(df['min_salary'], df['max_salary'])"
      ],
      "metadata": {
        "id": "9RioWJlf3K7V"
      },
      "execution_count": null,
      "outputs": []
    },
    {
      "cell_type": "markdown",
      "source": [
        "### Distribución del salario"
      ],
      "metadata": {
        "id": "qgoEWb41Mi6n"
      }
    },
    {
      "cell_type": "code",
      "source": [
        "df['avg_salary'].describe()"
      ],
      "metadata": {
        "colab": {
          "base_uri": "https://localhost:8080/"
        },
        "id": "6diBZUq_2t8X",
        "outputId": "fba924d7-823b-4317-f723-9072a8c57881"
      },
      "execution_count": null,
      "outputs": [
        {
          "output_type": "execute_result",
          "data": {
            "text/plain": [
              "count     10379.000000\n",
              "mean      91604.441105\n",
              "std       40660.308749\n",
              "min       14040.000000\n",
              "25%       60313.066667\n",
              "50%       85663.207547\n",
              "75%      113157.811765\n",
              "max      339679.452327\n",
              "Name: avg_salary, dtype: float64"
            ]
          },
          "metadata": {},
          "execution_count": 93
        }
      ]
    },
    {
      "cell_type": "code",
      "source": [
        "plt.hist(df['avg_salary'], bins=7, edgecolor='k')\n",
        "plt.xlabel('Salario')\n",
        "plt.ylabel('Frecuencia')\n",
        "plt.title('Histograma de Salarios')\n",
        "plt.show()"
      ],
      "metadata": {
        "colab": {
          "base_uri": "https://localhost:8080/",
          "height": 472
        },
        "id": "xhoKTb6bu_x9",
        "outputId": "63cccbdc-44a1-4bb9-fb4c-ffa9b3e70ccb"
      },
      "execution_count": null,
      "outputs": [
        {
          "output_type": "display_data",
          "data": {
            "text/plain": [
              "<Figure size 640x480 with 1 Axes>"
            ],
            "image/png": "[encoded data removed]"
          },
          "metadata": {}
        }
      ]
    },
    {
      "cell_type": "code",
      "source": [
        "import numpy as np\n",
        "\n",
        "# Calcula los bordes de los bins y el histograma\n",
        "hist, edges = np.histogram(df['avg_salary'], bins=7)\n",
        "\n",
        "# Define el número de decimales al que deseas redondear los intervalos\n",
        "decimales = 2  # Cambia esto al número deseado de decimales\n",
        "\n",
        "print(f\"Intervalos entre los bordes de los bins redondeados a {decimales} decimales:\\n\")\n",
        "for i in range(len(edges) - 1):\n",
        "    interval_start = round(edges[i], decimales)\n",
        "    interval_end = round(edges[i + 1], decimales)\n",
        "    count = hist[i]\n",
        "    print(f\"Del {interval_start} al {interval_end}: {count} valores\")"
      ],
      "metadata": {
        "colab": {
          "base_uri": "https://localhost:8080/"
        },
        "id": "muyEJXPH2_Fe",
        "outputId": "5b94812e-33d1-4818-98b1-a59e88195661"
      },
      "execution_count": null,
      "outputs": [
        {
          "output_type": "stream",
          "name": "stdout",
          "text": [
            "Intervalos entre los bordes de los bins redondeados a 2 decimales:\n",
            "\n",
            "Del 14040.0 al 60559.92: 2614 valores\n",
            "Del 60559.92 al 107079.84: 4490 valores\n",
            "Del 107079.84 al 153599.77: 2470 valores\n",
            "Del 153599.77 al 200119.69: 725 valores\n",
            "Del 200119.69 al 246639.61: 79 valores\n",
            "Del 246639.61 al 293159.53: 0 valores\n",
            "Del 293159.53 al 339679.45: 1 valores\n"
          ]
        }
      ]
    },
    {
      "cell_type": "code",
      "source": [
        "df['title'][df['avg_salary']>200000].unique()\n",
        "# ejecutivos, directores o presidentes, no son outliers"
      ],
      "metadata": {
        "colab": {
          "base_uri": "https://localhost:8080/"
        },
        "id": "wkszbgY2aw32",
        "outputId": "7e836008-03a2-4f63-c95e-84872cb8a183"
      },
      "execution_count": null,
      "outputs": [
        {
          "output_type": "execute_result",
          "data": {
            "text/plain": [
              "array(['director sales market', 'president toa global north america',\n",
              "       'head data science', 'associate medical director',\n",
              "       'director engineer growth', 'director growth product',\n",
              "       'svp group director digital strategy analytics', 'tax director',\n",
              "       'senior manager cyber compliance',\n",
              "       'crocs inc director ecommerce product management',\n",
              "       'director business development drug product',\n",
              "       'director solar engineer', 'senior manager digital market',\n",
              "       'senior manager business intelligence amazon export',\n",
              "       'senior associate compliance',\n",
              "       'principal apply scientist aws market',\n",
              "       'senior software engineer oncology',\n",
              "       'senior manager commerce platform', 'director lifecycle market',\n",
              "       'senior manager global brand market', 'director player engagement',\n",
              "       'senior director field market',\n",
              "       'director audio podcast advertise twitch advertise',\n",
              "       'principal aws strategy business development',\n",
              "       'senior staff principal design expert architect engineer',\n",
              "       'head global channel alliances market',\n",
              "       'senior staff principal automotive functional safety architect',\n",
              "       'director threat response', 'senior counsel employment',\n",
              "       'senior vice president sales',\n",
              "       'senior global financial controller',\n",
              "       'executive director head clinical data management',\n",
              "       'watershed director environmental compliance',\n",
              "       'director obu data science', 'senior manager market',\n",
              "       'director customer engineer apigee google cloud',\n",
              "       'senior product manager project starline',\n",
              "       'director global strategic alliances', 'smts deg hbm design',\n",
              "       'senior director security governance risk compliance',\n",
              "       'vice chief emergency department',\n",
              "       'senior engineer analog product',\n",
              "       'product analyst manager data science',\n",
              "       'director talent plan performance',\n",
              "       'director content product market',\n",
              "       'field base senior project engineer hvac compliance',\n",
              "       'senior labor employment attorney', 'product management databases',\n",
              "       'senior client relationship manager',\n",
              "       'president platforms software engineer', 'head people',\n",
              "       'senior project manager industrial market',\n",
              "       'senior manager technical market', 'director product market',\n",
              "       'global alliance director salesforce',\n",
              "       'medical director medical oncology',\n",
              "       'head corporate development partnerships', 'privacy counsel',\n",
              "       'quantitative prop trade firm senior software engineer',\n",
              "       'chief financial officer private equity'], dtype=object)"
            ]
          },
          "metadata": {},
          "execution_count": 96
        }
      ]
    },
    {
      "cell_type": "code",
      "source": [
        "df2 = df[df['avg_salary']<200000]"
      ],
      "metadata": {
        "id": "VPGnC_3C1aZt"
      },
      "execution_count": null,
      "outputs": []
    },
    {
      "cell_type": "code",
      "source": [
        "import numpy as np\n",
        "\n",
        "# Calcula los bordes de los bins y el histograma\n",
        "hist, edges = np.histogram(df2['avg_salary'], bins=4)\n",
        "\n",
        "# Define el número de decimales al que deseas redondear los intervalos\n",
        "decimales = 2  # Cambia esto al número deseado de decimales\n",
        "\n",
        "print(f\"Intervalos entre los bordes de los bins redondeados a {decimales} decimales:\\n\")\n",
        "for i in range(len(edges) - 1):\n",
        "    interval_start = round(edges[i], decimales)\n",
        "    interval_end = round(edges[i + 1], decimales)\n",
        "    count = hist[i]\n",
        "    print(f\"Del {interval_start} al {interval_end}: {count} valores\")"
      ],
      "metadata": {
        "colab": {
          "base_uri": "https://localhost:8080/"
        },
        "id": "_ka0q6kO1dEF",
        "outputId": "43cd5a99-33d6-42c1-abd7-c9701b036817"
      },
      "execution_count": null,
      "outputs": [
        {
          "output_type": "stream",
          "name": "stdout",
          "text": [
            "Intervalos entre los bordes de los bins redondeados a 2 decimales:\n",
            "\n",
            "Del 14040.0 al 60438.79: 2610 valores\n",
            "Del 60438.79 al 106837.59: 4493 valores\n",
            "Del 106837.59 al 153236.38: 2470 valores\n",
            "Del 153236.38 al 199635.17: 710 valores\n"
          ]
        }
      ]
    },
    {
      "cell_type": "code",
      "source": [
        "# analizando el segundo intervalo, del 60521.15 al 107002.31\n",
        "copia = df2[(df2['avg_salary']>60000) & (df2['avg_salary']<107000)]\n",
        "\n",
        "plt.figure(figsize=(3, 3))\n",
        "plt.hist(copia['avg_salary'], bins=2, edgecolor='k')\n",
        "plt.xlabel('Salario')\n",
        "plt.ylabel('Frecuencia')\n",
        "plt.show()"
      ],
      "metadata": {
        "colab": {
          "base_uri": "https://localhost:8080/",
          "height": 311
        },
        "id": "al1m8I0oFsIV",
        "outputId": "47773a95-a4e7-4907-9e85-7f7afbc14a07"
      },
      "execution_count": null,
      "outputs": [
        {
          "output_type": "display_data",
          "data": {
            "text/plain": [
              "<Figure size 300x300 with 1 Axes>"
            ],
            "image/png": "[encoded data removed]"
          },
          "metadata": {}
        }
      ]
    },
    {
      "cell_type": "code",
      "source": [
        "# Define los límites de los bins y las etiquetas correspondientes\n",
        "bins = [0, 60000, 80000, 100000, 120000, 150000, float('inf')]\n",
        "labels = ['< 60 mil', 'entre 60 y 80 mil', 'entre 80 y 100 mil', 'entre 100 y 120 mil', 'entre 120 y 150 mil', '> 150 mil']\n",
        "\n",
        "# Crea una nueva columna 'salary_range' con las etiquetas de rango\n",
        "df['salary_range'] = pd.cut(df['avg_salary'], bins=bins, labels=labels)"
      ],
      "metadata": {
        "id": "f-Yr6WE0Eh1K"
      },
      "execution_count": null,
      "outputs": []
    },
    {
      "cell_type": "code",
      "source": [
        "df['salary_range'].value_counts()"
      ],
      "metadata": {
        "colab": {
          "base_uri": "https://localhost:8080/"
        },
        "id": "e9NuYqnYEi5G",
        "outputId": "82f8a1ca-7403-42ef-d9c8-d1d54243fab6"
      },
      "execution_count": null,
      "outputs": [
        {
          "output_type": "execute_result",
          "data": {
            "text/plain": [
              "< 60 mil               2586\n",
              "entre 60 y 80 mil      2107\n",
              "entre 100 y 120 mil    1765\n",
              "entre 80 y 100 mil     1544\n",
              "entre 120 y 150 mil    1423\n",
              "> 150 mil               954\n",
              "Name: salary_range, dtype: int64"
            ]
          },
          "metadata": {},
          "execution_count": 101
        }
      ]
    },
    {
      "cell_type": "code",
      "source": [
        "df[['description', 'avg_salary', 'salary_range']]"
      ],
      "metadata": {
        "colab": {
          "base_uri": "https://localhost:8080/",
          "height": 424
        },
        "id": "lA4TviATxZsc",
        "outputId": "11750244-7150-409b-e0f3-47eb758db80e"
      },
      "execution_count": null,
      "outputs": [
        {
          "output_type": "execute_result",
          "data": {
            "text/plain": [
              "                                                                           description  \\\n",
              "0      license insurance agent many industries hurt last years people still need in...   \n",
              "1      studio assistant could one magic makers ken fulk inc seek studio assistant m...   \n",
              "2      office associate provide clerical administrative support management requeste...   \n",
              "3      company owner hvac refrigeration technicians helpers need look someone exper...   \n",
              "4      commercial property manager senior property manager join grow property manag...   \n",
              "...                                                                                ...   \n",
              "10374  sanitation technician location west columbia 29172 29172 job type bakery ope...   \n",
              "10375  unit secretary job title unit secretary department nurse report nurse manage...   \n",
              "10376  radiology aide perdiem job title radiology aide perdiem department cat scan ...   \n",
              "10377  mri manager grade 105 job type officer administrationbargaining unit regular...   \n",
              "10378  area director business development nexion health management affiliate operat...   \n",
              "\n",
              "          avg_salary         salary_range  \n",
              "0       48880.000000             < 60 mil  \n",
              "1       58478.573134             < 60 mil  \n",
              "2       39500.000000             < 60 mil  \n",
              "3      141420.000000  entre 120 y 150 mil  \n",
              "4      155648.946930            > 150 mil  \n",
              "...              ...                  ...  \n",
              "10374   46547.750000             < 60 mil  \n",
              "10375   81250.000000   entre 80 y 100 mil  \n",
              "10376   24925.904676             < 60 mil  \n",
              "10377  122500.000000  entre 120 y 150 mil  \n",
              "10378  143966.107143  entre 120 y 150 mil  \n",
              "\n",
              "[10379 rows x 3 columns]"
            ],
            "text/html": [
              "\n",
              "  <div id=\"df-f231af3d-0000-4de6-80b7-f96a4b5f6e5b\" class=\"colab-df-container\">\n",
              "    <div>\n",
              "<style scoped>\n",
              "    .dataframe tbody tr th:only-of-type {\n",
              "        vertical-align: middle;\n",
              "    }\n",
              "\n",
              "    .dataframe tbody tr th {\n",
              "        vertical-align: top;\n",
              "    }\n",
              "\n",
              "    .dataframe thead th {\n",
              "        text-align: right;\n",
              "    }\n",
              "</style>\n",
              "<table border=\"1\" class=\"dataframe\">\n",
              "  <thead>\n",
              "    <tr style=\"text-align: right;\">\n",
              "      <th></th>\n",
              "      <th>description</th>\n",
              "      <th>avg_salary</th>\n",
              "      <th>salary_range</th>\n",
              "    </tr>\n",
              "  </thead>\n",
              "  <tbody>\n",
              "    <tr>\n",
              "      <th>0</th>\n",
              "      <td>license insurance agent many industries hurt last years people still need in...</td>\n",
              "      <td>48880.000000</td>\n",
              "      <td>&lt; 60 mil</td>\n",
              "    </tr>\n",
              "    <tr>\n",
              "      <th>1</th>\n",
              "      <td>studio assistant could one magic makers ken fulk inc seek studio assistant m...</td>\n",
              "      <td>58478.573134</td>\n",
              "      <td>&lt; 60 mil</td>\n",
              "    </tr>\n",
              "    <tr>\n",
              "      <th>2</th>\n",
              "      <td>office associate provide clerical administrative support management requeste...</td>\n",
              "      <td>39500.000000</td>\n",
              "      <td>&lt; 60 mil</td>\n",
              "    </tr>\n",
              "    <tr>\n",
              "      <th>3</th>\n",
              "      <td>company owner hvac refrigeration technicians helpers need look someone exper...</td>\n",
              "      <td>141420.000000</td>\n",
              "      <td>entre 120 y 150 mil</td>\n",
              "    </tr>\n",
              "    <tr>\n",
              "      <th>4</th>\n",
              "      <td>commercial property manager senior property manager join grow property manag...</td>\n",
              "      <td>155648.946930</td>\n",
              "      <td>&gt; 150 mil</td>\n",
              "    </tr>\n",
              "    <tr>\n",
              "      <th>...</th>\n",
              "      <td>...</td>\n",
              "      <td>...</td>\n",
              "      <td>...</td>\n",
              "    </tr>\n",
              "    <tr>\n",
              "      <th>10374</th>\n",
              "      <td>sanitation technician location west columbia 29172 29172 job type bakery ope...</td>\n",
              "      <td>46547.750000</td>\n",
              "      <td>&lt; 60 mil</td>\n",
              "    </tr>\n",
              "    <tr>\n",
              "      <th>10375</th>\n",
              "      <td>unit secretary job title unit secretary department nurse report nurse manage...</td>\n",
              "      <td>81250.000000</td>\n",
              "      <td>entre 80 y 100 mil</td>\n",
              "    </tr>\n",
              "    <tr>\n",
              "      <th>10376</th>\n",
              "      <td>radiology aide perdiem job title radiology aide perdiem department cat scan ...</td>\n",
              "      <td>24925.904676</td>\n",
              "      <td>&lt; 60 mil</td>\n",
              "    </tr>\n",
              "    <tr>\n",
              "      <th>10377</th>\n",
              "      <td>mri manager grade 105 job type officer administrationbargaining unit regular...</td>\n",
              "      <td>122500.000000</td>\n",
              "      <td>entre 120 y 150 mil</td>\n",
              "    </tr>\n",
              "    <tr>\n",
              "      <th>10378</th>\n",
              "      <td>area director business development nexion health management affiliate operat...</td>\n",
              "      <td>143966.107143</td>\n",
              "      <td>entre 120 y 150 mil</td>\n",
              "    </tr>\n",
              "  </tbody>\n",
              "</table>\n",
              "<p>10379 rows × 3 columns</p>\n",
              "</div>\n",
              "    <div class=\"colab-df-buttons\">\n",
              "\n",
              "  <div class=\"colab-df-container\">\n",
              "    <button class=\"colab-df-convert\" onclick=\"convertToInteractive('df-f231af3d-0000-4de6-80b7-f96a4b5f6e5b')\"\n",
              "            title=\"Convert this dataframe to an interactive table.\"\n",
              "            style=\"display:none;\">\n",
              "\n",
              "  <svg xmlns=\"http://www.w3.org/2000/svg\" height=\"24px\" viewBox=\"0 -960 960 960\">\n",
              "    <path d=\"M120-120v-720h720v720H120Zm60-500h600v-160H180v160Zm220 220h160v-160H400v160Zm0 220h160v-160H400v160ZM180-400h160v-160H180v160Zm440 0h160v-160H620v160ZM180-180h160v-160H180v160Zm440 0h160v-160H620v160Z\"/>\n",
              "  </svg>\n",
              "    </button>\n",
              "\n",
              "  <style>\n",
              "    .colab-df-container {\n",
              "      display:flex;\n",
              "      gap: 12px;\n",
              "    }\n",
              "\n",
              "    .colab-df-convert {\n",
              "      background-color: #E8F0FE;\n",
              "      border: none;\n",
              "      border-radius: 50%;\n",
              "      cursor: pointer;\n",
              "      display: none;\n",
              "      fill: #1967D2;\n",
              "      height: 32px;\n",
              "      padding: 0 0 0 0;\n",
              "      width: 32px;\n",
              "    }\n",
              "\n",
              "    .colab-df-convert:hover {\n",
              "      background-color: #E2EBFA;\n",
              "      box-shadow: 0px 1px 2px rgba(60, 64, 67, 0.3), 0px 1px 3px 1px rgba(60, 64, 67, 0.15);\n",
              "      fill: #174EA6;\n",
              "    }\n",
              "\n",
              "    .colab-df-buttons div {\n",
              "      margin-bottom: 4px;\n",
              "    }\n",
              "\n",
              "    [theme=dark] .colab-df-convert {\n",
              "      background-color: #3B4455;\n",
              "      fill: #D2E3FC;\n",
              "    }\n",
              "\n",
              "    [theme=dark] .colab-df-convert:hover {\n",
              "      background-color: #434B5C;\n",
              "      box-shadow: 0px 1px 3px 1px rgba(0, 0, 0, 0.15);\n",
              "      filter: drop-shadow(0px 1px 2px rgba(0, 0, 0, 0.3));\n",
              "      fill: #FFFFFF;\n",
              "    }\n",
              "  </style>\n",
              "\n",
              "    <script>\n",
              "      const buttonEl =\n",
              "        document.querySelector('#df-f231af3d-0000-4de6-80b7-f96a4b5f6e5b button.colab-df-convert');\n",
              "      buttonEl.style.display =\n",
              "        google.colab.kernel.accessAllowed ? 'block' : 'none';\n",
              "\n",
              "      async function convertToInteractive(key) {\n",
              "        const element = document.querySelector('#df-f231af3d-0000-4de6-80b7-f96a4b5f6e5b');\n",
              "        const dataTable =\n",
              "          await google.colab.kernel.invokeFunction('convertToInteractive',\n",
              "                                                    [key], {});\n",
              "        if (!dataTable) return;\n",
              "\n",
              "        const docLinkHtml = 'Like what you see? Visit the ' +\n",
              "          '<a target=\"_blank\" href=https://colab.research.google.com/notebooks/data_table.ipynb>data table notebook</a>'\n",
              "          + ' to learn more about interactive tables.';\n",
              "        element.innerHTML = '';\n",
              "        dataTable['output_type'] = 'display_data';\n",
              "        await google.colab.output.renderOutput(dataTable, element);\n",
              "        const docLink = document.createElement('div');\n",
              "        docLink.innerHTML = docLinkHtml;\n",
              "        element.appendChild(docLink);\n",
              "      }\n",
              "    </script>\n",
              "  </div>\n",
              "\n",
              "\n",
              "<div id=\"df-5936744f-2b90-44d0-91d3-f3fabfaaa515\">\n",
              "  <button class=\"colab-df-quickchart\" onclick=\"quickchart('df-5936744f-2b90-44d0-91d3-f3fabfaaa515')\"\n",
              "            title=\"Suggest charts\"\n",
              "            style=\"display:none;\">\n",
              "\n",
              "<svg xmlns=\"http://www.w3.org/2000/svg\" height=\"24px\"viewBox=\"0 0 24 24\"\n",
              "     width=\"24px\">\n",
              "    <g>\n",
              "        <path d=\"M19 3H5c-1.1 0-2 .9-2 2v14c0 1.1.9 2 2 2h14c1.1 0 2-.9 2-2V5c0-1.1-.9-2-2-2zM9 17H7v-7h2v7zm4 0h-2V7h2v10zm4 0h-2v-4h2v4z\"/>\n",
              "    </g>\n",
              "</svg>\n",
              "  </button>\n",
              "\n",
              "<style>\n",
              "  .colab-df-quickchart {\n",
              "      --bg-color: #E8F0FE;\n",
              "      --fill-color: #1967D2;\n",
              "      --hover-bg-color: #E2EBFA;\n",
              "      --hover-fill-color: #174EA6;\n",
              "      --disabled-fill-color: #AAA;\n",
              "      --disabled-bg-color: #DDD;\n",
              "  }\n",
              "\n",
              "  [theme=dark] .colab-df-quickchart {\n",
              "      --bg-color: #3B4455;\n",
              "      --fill-color: #D2E3FC;\n",
              "      --hover-bg-color: #434B5C;\n",
              "      --hover-fill-color: #FFFFFF;\n",
              "      --disabled-bg-color: #3B4455;\n",
              "      --disabled-fill-color: #666;\n",
              "  }\n",
              "\n",
              "  .colab-df-quickchart {\n",
              "    background-color: var(--bg-color);\n",
              "    border: none;\n",
              "    border-radius: 50%;\n",
              "    cursor: pointer;\n",
              "    display: none;\n",
              "    fill: var(--fill-color);\n",
              "    height: 32px;\n",
              "    padding: 0;\n",
              "    width: 32px;\n",
              "  }\n",
              "\n",
              "  .colab-df-quickchart:hover {\n",
              "    background-color: var(--hover-bg-color);\n",
              "    box-shadow: 0 1px 2px rgba(60, 64, 67, 0.3), 0 1px 3px 1px rgba(60, 64, 67, 0.15);\n",
              "    fill: var(--button-hover-fill-color);\n",
              "  }\n",
              "\n",
              "  .colab-df-quickchart-complete:disabled,\n",
              "  .colab-df-quickchart-complete:disabled:hover {\n",
              "    background-color: var(--disabled-bg-color);\n",
              "    fill: var(--disabled-fill-color);\n",
              "    box-shadow: none;\n",
              "  }\n",
              "\n",
              "  .colab-df-spinner {\n",
              "    border: 2px solid var(--fill-color);\n",
              "    border-color: transparent;\n",
              "    border-bottom-color: var(--fill-color);\n",
              "    animation:\n",
              "      spin 1s steps(1) infinite;\n",
              "  }\n",
              "\n",
              "  @keyframes spin {\n",
              "    0% {\n",
              "      border-color: transparent;\n",
              "      border-bottom-color: var(--fill-color);\n",
              "      border-left-color: var(--fill-color);\n",
              "    }\n",
              "    20% {\n",
              "      border-color: transparent;\n",
              "      border-left-color: var(--fill-color);\n",
              "      border-top-color: var(--fill-color);\n",
              "    }\n",
              "    30% {\n",
              "      border-color: transparent;\n",
              "      border-left-color: var(--fill-color);\n",
              "      border-top-color: var(--fill-color);\n",
              "      border-right-color: var(--fill-color);\n",
              "    }\n",
              "    40% {\n",
              "      border-color: transparent;\n",
              "      border-right-color: var(--fill-color);\n",
              "      border-top-color: var(--fill-color);\n",
              "    }\n",
              "    60% {\n",
              "      border-color: transparent;\n",
              "      border-right-color: var(--fill-color);\n",
              "    }\n",
              "    80% {\n",
              "      border-color: transparent;\n",
              "      border-right-color: var(--fill-color);\n",
              "      border-bottom-color: var(--fill-color);\n",
              "    }\n",
              "    90% {\n",
              "      border-color: transparent;\n",
              "      border-bottom-color: var(--fill-color);\n",
              "    }\n",
              "  }\n",
              "</style>\n",
              "\n",
              "  <script>\n",
              "    async function quickchart(key) {\n",
              "      const quickchartButtonEl =\n",
              "        document.querySelector('#' + key + ' button');\n",
              "      quickchartButtonEl.disabled = true;  // To prevent multiple clicks.\n",
              "      quickchartButtonEl.classList.add('colab-df-spinner');\n",
              "      try {\n",
              "        const charts = await google.colab.kernel.invokeFunction(\n",
              "            'suggestCharts', [key], {});\n",
              "      } catch (error) {\n",
              "        console.error('Error during call to suggestCharts:', error);\n",
              "      }\n",
              "      quickchartButtonEl.classList.remove('colab-df-spinner');\n",
              "      quickchartButtonEl.classList.add('colab-df-quickchart-complete');\n",
              "    }\n",
              "    (() => {\n",
              "      let quickchartButtonEl =\n",
              "        document.querySelector('#df-5936744f-2b90-44d0-91d3-f3fabfaaa515 button');\n",
              "      quickchartButtonEl.style.display =\n",
              "        google.colab.kernel.accessAllowed ? 'block' : 'none';\n",
              "    })();\n",
              "  </script>\n",
              "</div>\n",
              "    </div>\n",
              "  </div>\n"
            ]
          },
          "metadata": {},
          "execution_count": 102
        }
      ]
    },
    {
      "cell_type": "markdown",
      "source": [
        "# Modelos"
      ],
      "metadata": {
        "id": "awGEhqWmIh4E"
      }
    },
    {
      "cell_type": "markdown",
      "source": [
        "### Word2Vec Model"
      ],
      "metadata": {
        "id": "0k3K71CpMBu4"
      }
    },
    {
      "cell_type": "code",
      "source": [
        "import nltk\n",
        "from nltk.tokenize import word_tokenize\n",
        "from nltk.corpus import stopwords\n",
        "nltk.download('punkt')\n",
        "nltk.download('stopwords')\n",
        "from sklearn.model_selection import train_test_split\n",
        "from sklearn.linear_model import LinearRegression\n",
        "from sklearn.metrics import mean_squared_error"
      ],
      "metadata": {
        "colab": {
          "base_uri": "https://localhost:8080/"
        },
        "id": "jFhSogNWcB4h",
        "outputId": "e7003fb9-e34a-4b2b-d87d-94f1197dc8b3"
      },
      "execution_count": null,
      "outputs": [
        {
          "output_type": "stream",
          "name": "stderr",
          "text": [
            "[nltk_data] Downloading package punkt to /root/nltk_data...\n",
            "[nltk_data]   Unzipping tokenizers/punkt.zip.\n",
            "[nltk_data] Downloading package stopwords to /root/nltk_data...\n",
            "[nltk_data]   Package stopwords is already up-to-date!\n"
          ]
        }
      ]
    },
    {
      "cell_type": "code",
      "source": [
        "def preprocess_text(text):\n",
        "    words = word_tokenize(text.lower())\n",
        "    return words\n",
        "\n",
        "df['processed_description'] = df['description'].apply(preprocess_text)"
      ],
      "metadata": {
        "id": "ycI_2fVeU-Sa"
      },
      "execution_count": null,
      "outputs": []
    },
    {
      "cell_type": "code",
      "source": [
        "from gensim.models import Word2Vec\n",
        "\n",
        "# Entrenar el modelo Word2Vec\n",
        "model = Word2Vec(sentences=df['processed_description'], vector_size=200, window=5, min_count=1, workers=4)"
      ],
      "metadata": {
        "id": "AAwz-RvXVx1g"
      },
      "execution_count": null,
      "outputs": []
    },
    {
      "cell_type": "code",
      "source": [
        "# Función para obtener el vector promedio de una descripción\n",
        "def get_description_vector(description, model):\n",
        "    words = preprocess_text(description)\n",
        "    vectors = [model.wv[word] for word in words if word in model.wv]\n",
        "\n",
        "    if vectors:\n",
        "        return sum(vectors) / len(vectors)\n",
        "    else:\n",
        "        return [0] * model.vector_size\n",
        "\n",
        "# Crear una columna con los vectores de descripciones\n",
        "df['description_vector'] = df['description'].apply(lambda x: get_description_vector(x, model))"
      ],
      "metadata": {
        "id": "f972kHhNK4-2"
      },
      "execution_count": null,
      "outputs": []
    },
    {
      "cell_type": "code",
      "source": [
        "# Convertir las etiquetas de rango salarial a valores numéricos\n",
        "salary_mapping = {\n",
        "    '< 60 mil': 1,\n",
        "    'entre 60 y 80 mil': 2,\n",
        "    'entre 80 y 100 mil': 3,\n",
        "    'entre 100 y 120 mil': 4,\n",
        "    'entre 120 y 150 mil': 5,\n",
        "    '> 150 mil': 6\n",
        "}\n",
        "\n",
        "df['salary_numeric'] = df['salary_range'].map(salary_mapping)"
      ],
      "metadata": {
        "id": "QdhupMrwf_3K"
      },
      "execution_count": null,
      "outputs": []
    },
    {
      "cell_type": "code",
      "source": [
        "# Separar los datos en conjunto de entrenamiento y prueba\n",
        "X_train, X_test, y_train, y_test = train_test_split(df['description_vector'], df['salary_numeric'], test_size=0.2, random_state=42)"
      ],
      "metadata": {
        "id": "BTxSjJwnaajL"
      },
      "execution_count": null,
      "outputs": []
    },
    {
      "cell_type": "code",
      "source": [
        "from sklearn.preprocessing import normalize\n",
        "\n",
        "# Normalizar vectores de descripción\n",
        "X_train_normalized = normalize(X_train.tolist())\n",
        "X_test_normalized = normalize(X_test.tolist())\n"
      ],
      "metadata": {
        "id": "3aP8_tdqaXUY"
      },
      "execution_count": null,
      "outputs": []
    },
    {
      "cell_type": "code",
      "source": [
        "# Entrenar un modelo de regresión lineal\n",
        "reg_model = LinearRegression()\n",
        "reg_model.fit(X_train_normalized, y_train)\n",
        "\n",
        "# Realizar predicciones en el conjunto de prueba\n",
        "predictions = reg_model.predict(X_test_normalized)\n",
        "\n",
        "# Evaluar el rendimiento del modelo\n",
        "mse = mean_squared_error(y_test, predictions)\n",
        "print(f'Mean Squared Error: {mse}')"
      ],
      "metadata": {
        "colab": {
          "base_uri": "https://localhost:8080/"
        },
        "id": "7mX0wBNrLUzY",
        "outputId": "294a00e4-1e0a-4b2b-fe2b-009de1685406"
      },
      "execution_count": null,
      "outputs": [
        {
          "output_type": "stream",
          "name": "stdout",
          "text": [
            "Mean Squared Error: 1.489493704882266\n"
          ]
        }
      ]
    },
    {
      "cell_type": "code",
      "source": [
        "import matplotlib.pyplot as plt\n",
        "import seaborn as sns\n",
        "\n",
        "# Crear un DataFrame con los resultados\n",
        "results_df = pd.DataFrame({'Actual': y_test, 'Predicted': predictions})\n",
        "\n",
        "# Gráfico de dispersión\n",
        "plt.figure(figsize=(10, 6))\n",
        "sns.scatterplot(x='Actual', y='Predicted', data=results_df)\n",
        "plt.title('Predicciones vs. Valores Reales')\n",
        "plt.xlabel('Valores Reales')\n",
        "plt.ylabel('Predicciones')\n",
        "plt.show()\n"
      ],
      "metadata": {
        "colab": {
          "base_uri": "https://localhost:8080/",
          "height": 564
        },
        "id": "zdT1IOjHNMoM",
        "outputId": "c25609f0-f47f-4bca-f6e6-52428255dcc8"
      },
      "execution_count": null,
      "outputs": [
        {
          "output_type": "display_data",
          "data": {
            "text/plain": [
              "<Figure size 1000x600 with 1 Axes>"
            ],
            "image/png": "[encoded data removed]"
          },
          "metadata": {}
        }
      ]
    },
    {
      "cell_type": "code",
      "source": [
        "# Convertir y_test a una lista\n",
        "y_test_list = y_test.tolist()\n",
        "\n",
        "# Calcular los errores\n",
        "errors = y_test_list - predictions\n",
        "\n",
        "# Gráfico de la distribución de errores\n",
        "plt.figure(figsize=(10, 6))\n",
        "sns.histplot(errors, bins=30, kde=True)\n",
        "plt.title('Distribución de Errores')\n",
        "plt.xlabel('Error')\n",
        "plt.ylabel('Frecuencia')\n",
        "plt.show()\n"
      ],
      "metadata": {
        "colab": {
          "base_uri": "https://localhost:8080/",
          "height": 564
        },
        "id": "ZAaEJ5SuNZsJ",
        "outputId": "d6884ec3-a3aa-4ba2-fbb4-4e18a41f2e59"
      },
      "execution_count": null,
      "outputs": [
        {
          "output_type": "display_data",
          "data": {
            "text/plain": [
              "<Figure size 1000x600 with 1 Axes>"
            ],
            "image/png": "[encoded data removed]"
          },
          "metadata": {}
        }
      ]
    },
    {
      "cell_type": "code",
      "source": [
        "from sklearn.ensemble import RandomForestRegressor\n",
        "\n",
        "# Crear y entrenar un modelo de Random Forest\n",
        "rf_model = RandomForestRegressor(n_estimators=100, random_state=42)\n",
        "rf_model.fit(X_train_normalized, y_train)\n",
        "\n",
        "# Realizar predicciones en el conjunto de prueba\n",
        "rf_predictions = rf_model.predict(X_test_normalized)\n",
        "\n",
        "# Evaluar el rendimiento del modelo de Random Forest\n",
        "rf_mse = mean_squared_error(y_test, rf_predictions)\n",
        "print(f'Mean Squared Error (Random Forest): {rf_mse}')\n",
        "\n",
        "# Gráfico de dispersión de predicciones vs. valores reales para Random Forest\n",
        "rf_results_df = pd.DataFrame({'Actual': y_test, 'Predicted': rf_predictions})\n",
        "plt.figure(figsize=(10, 6))\n",
        "sns.scatterplot(x='Actual', y='Predicted', data=rf_results_df)\n",
        "plt.title('Predicciones vs. Valores Reales (Random Forest)')\n",
        "plt.xlabel('Valores Reales')\n",
        "plt.ylabel('Predicciones')\n",
        "plt.show()"
      ],
      "metadata": {
        "colab": {
          "base_uri": "https://localhost:8080/",
          "height": 582
        },
        "id": "jpGotiW3Nl_h",
        "outputId": "b33f14c3-8f86-4403-cb64-8e0498759585"
      },
      "execution_count": null,
      "outputs": [
        {
          "output_type": "stream",
          "name": "stdout",
          "text": [
            "Mean Squared Error (Random Forest): 1.271105372118194\n"
          ]
        },
        {
          "output_type": "display_data",
          "data": {
            "text/plain": [
              "<Figure size 1000x600 with 1 Axes>"
            ],
            "image/png": "[encoded data removed]"
          },
          "metadata": {}
        }
      ]
    },
    {
      "cell_type": "code",
      "source": [
        "from sklearn.svm import SVR\n",
        "\n",
        "# Crear y entrenar un modelo SVR\n",
        "svr_model = SVR()\n",
        "svr_model.fit(X_train_normalized, y_train)\n",
        "\n",
        "# Realizar predicciones\n",
        "svr_predictions = svr_model.predict(X_test_normalized)\n",
        "from sklearn.metrics import mean_squared_error\n",
        "\n",
        "# Calcular el MSE para SVR\n",
        "mse_svr = mean_squared_error(y_test, svr_predictions)\n",
        "print(f'Mean Squared Error (SVR): {mse_svr}')"
      ],
      "metadata": {
        "colab": {
          "base_uri": "https://localhost:8080/"
        },
        "id": "OIDX0Cb6N9oi",
        "outputId": "6336d8cd-01bf-4b15-cfc2-a15ba86c525f"
      },
      "execution_count": null,
      "outputs": [
        {
          "output_type": "stream",
          "name": "stdout",
          "text": [
            "Mean Squared Error (SVR): 1.4135780509639522\n"
          ]
        }
      ]
    },
    {
      "cell_type": "code",
      "source": [
        "# Redondear las predicciones a los valores más cercanos de salario\n",
        "rounded_predictions_linear = predictions.round()\n",
        "\n",
        "# Calcular el porcentaje de predicciones correctas\n",
        "accuracy_linear = (rounded_predictions_linear == y_test).mean() * 100\n",
        "print(f'Porcentaje de Predicciones Correctas (Regresión Lineal): {accuracy_linear:.2f}%')\n"
      ],
      "metadata": {
        "colab": {
          "base_uri": "https://localhost:8080/"
        },
        "id": "5vNBqd_1OJZz",
        "outputId": "87de9e9e-26a6-4782-a19e-a7378442002d"
      },
      "execution_count": null,
      "outputs": [
        {
          "output_type": "stream",
          "name": "stdout",
          "text": [
            "Porcentaje de Predicciones Correctas (Regresión Lineal): 31.31%\n"
          ]
        }
      ]
    },
    {
      "cell_type": "code",
      "source": [
        "# Redondear las predicciones de Random Forest\n",
        "rounded_predictions_rf = rf_predictions.round()\n",
        "\n",
        "# Calcular el porcentaje de predicciones correctas para Random Forest\n",
        "accuracy_rf = (rounded_predictions_rf == y_test).mean() * 100\n",
        "print(f'Porcentaje de Predicciones Correctas (Random Forest): {accuracy_rf:.2f}%')"
      ],
      "metadata": {
        "colab": {
          "base_uri": "https://localhost:8080/"
        },
        "id": "cJX2Gi9sOXhm",
        "outputId": "de5c581c-5d43-46f7-c29c-a67fe66954b1"
      },
      "execution_count": null,
      "outputs": [
        {
          "output_type": "stream",
          "name": "stdout",
          "text": [
            "Porcentaje de Predicciones Correctas (Random Forest): 41.28%\n"
          ]
        }
      ]
    },
    {
      "cell_type": "markdown",
      "source": [
        "### GloVe Model"
      ],
      "metadata": {
        "id": "CYE0aNRkeinI"
      }
    },
    {
      "cell_type": "code",
      "source": [
        "!pip install gensim"
      ],
      "metadata": {
        "colab": {
          "base_uri": "https://localhost:8080/"
        },
        "id": "eba4ZjlIekSM",
        "outputId": "7e0e5d60-9d71-430b-eb42-c2006dcc3e19"
      },
      "execution_count": null,
      "outputs": [
        {
          "output_type": "stream",
          "name": "stdout",
          "text": [
            "Requirement already satisfied: gensim in /usr/local/lib/python3.10/dist-packages (4.3.2)\n",
            "Requirement already satisfied: numpy>=1.18.5 in /usr/local/lib/python3.10/dist-packages (from gensim) (1.23.5)\n",
            "Requirement already satisfied: scipy>=1.7.0 in /usr/local/lib/python3.10/dist-packages (from gensim) (1.11.3)\n",
            "Requirement already satisfied: smart-open>=1.8.1 in /usr/local/lib/python3.10/dist-packages (from gensim) (6.4.0)\n"
          ]
        }
      ]
    },
    {
      "cell_type": "code",
      "source": [
        "from gensim.scripts.glove2word2vec import glove2word2vec\n",
        "\n",
        "# Ruta al archivo de GloVe y ruta de salida para el nuevo archivo Word2Vec\n",
        "glove_file = 'glove.6B.50d.txt'\n",
        "word2vec_output_file = 'glove.6B.50d.word2vec'\n",
        "\n",
        "# Convertir el archivo GloVe a formato Word2Vec\n",
        "glove2word2vec(glove_file, word2vec_output_file)\n",
        "\n",
        "# Cargar el modelo GloVe con Gensim\n",
        "model = KeyedVectors.load_word2vec_format(word2vec_output_file, binary=False)"
      ],
      "metadata": {
        "id": "BjL5dqiHevL9",
        "colab": {
          "base_uri": "https://localhost:8080/",
          "height": 399
        },
        "outputId": "7545adc3-188f-4b06-fa53-9efc8848f557"
      },
      "execution_count": null,
      "outputs": [
        {
          "output_type": "error",
          "ename": "FileNotFoundError",
          "evalue": "ignored",
          "traceback": [
            "\u001b[0;31m---------------------------------------------------------------------------\u001b[0m",
            "\u001b[0;31mFileNotFoundError\u001b[0m                         Traceback (most recent call last)",
            "\u001b[0;32m<ipython-input-120-bbe3c60aec97>\u001b[0m in \u001b[0;36m<cell line: 8>\u001b[0;34m()\u001b[0m\n\u001b[1;32m      6\u001b[0m \u001b[0;34m\u001b[0m\u001b[0m\n\u001b[1;32m      7\u001b[0m \u001b[0;31m# Convertir el archivo GloVe a formato Word2Vec\u001b[0m\u001b[0;34m\u001b[0m\u001b[0;34m\u001b[0m\u001b[0m\n\u001b[0;32m----> 8\u001b[0;31m \u001b[0mglove2word2vec\u001b[0m\u001b[0;34m(\u001b[0m\u001b[0mglove_file\u001b[0m\u001b[0;34m,\u001b[0m \u001b[0mword2vec_output_file\u001b[0m\u001b[0;34m)\u001b[0m\u001b[0;34m\u001b[0m\u001b[0;34m\u001b[0m\u001b[0m\n\u001b[0m\u001b[1;32m      9\u001b[0m \u001b[0;34m\u001b[0m\u001b[0m\n\u001b[1;32m     10\u001b[0m \u001b[0;31m# Cargar el modelo GloVe con Gensim\u001b[0m\u001b[0;34m\u001b[0m\u001b[0;34m\u001b[0m\u001b[0m\n",
            "\u001b[0;32m/usr/local/lib/python3.10/dist-packages/gensim/utils.py\u001b[0m in \u001b[0;36mnew_func1\u001b[0;34m(*args, **kwargs)\u001b[0m\n\u001b[1;32m   1520\u001b[0m                     \u001b[0mstacklevel\u001b[0m\u001b[0;34m=\u001b[0m\u001b[0;36m2\u001b[0m\u001b[0;34m\u001b[0m\u001b[0;34m\u001b[0m\u001b[0m\n\u001b[1;32m   1521\u001b[0m                 )\n\u001b[0;32m-> 1522\u001b[0;31m                 \u001b[0;32mreturn\u001b[0m \u001b[0mfunc\u001b[0m\u001b[0;34m(\u001b[0m\u001b[0;34m*\u001b[0m\u001b[0margs\u001b[0m\u001b[0;34m,\u001b[0m \u001b[0;34m**\u001b[0m\u001b[0mkwargs\u001b[0m\u001b[0;34m)\u001b[0m\u001b[0;34m\u001b[0m\u001b[0;34m\u001b[0m\u001b[0m\n\u001b[0m\u001b[1;32m   1523\u001b[0m \u001b[0;34m\u001b[0m\u001b[0m\n\u001b[1;32m   1524\u001b[0m             \u001b[0;32mreturn\u001b[0m \u001b[0mnew_func1\u001b[0m\u001b[0;34m\u001b[0m\u001b[0;34m\u001b[0m\u001b[0m\n",
            "\u001b[0;32m/usr/local/lib/python3.10/dist-packages/gensim/scripts/glove2word2vec.py\u001b[0m in \u001b[0;36mglove2word2vec\u001b[0;34m(glove_input_file, word2vec_output_file)\u001b[0m\n\u001b[1;32m    107\u001b[0m \u001b[0;34m\u001b[0m\u001b[0m\n\u001b[1;32m    108\u001b[0m     \"\"\"\n\u001b[0;32m--> 109\u001b[0;31m     \u001b[0mglovekv\u001b[0m \u001b[0;34m=\u001b[0m \u001b[0mKeyedVectors\u001b[0m\u001b[0;34m.\u001b[0m\u001b[0mload_word2vec_format\u001b[0m\u001b[0;34m(\u001b[0m\u001b[0mglove_input_file\u001b[0m\u001b[0;34m,\u001b[0m \u001b[0mbinary\u001b[0m\u001b[0;34m=\u001b[0m\u001b[0;32mFalse\u001b[0m\u001b[0;34m,\u001b[0m \u001b[0mno_header\u001b[0m\u001b[0;34m=\u001b[0m\u001b[0;32mTrue\u001b[0m\u001b[0;34m)\u001b[0m\u001b[0;34m\u001b[0m\u001b[0;34m\u001b[0m\u001b[0m\n\u001b[0m\u001b[1;32m    110\u001b[0m \u001b[0;34m\u001b[0m\u001b[0m\n\u001b[1;32m    111\u001b[0m     \u001b[0mnum_lines\u001b[0m\u001b[0;34m,\u001b[0m \u001b[0mnum_dims\u001b[0m \u001b[0;34m=\u001b[0m \u001b[0mlen\u001b[0m\u001b[0;34m(\u001b[0m\u001b[0mglovekv\u001b[0m\u001b[0;34m)\u001b[0m\u001b[0;34m,\u001b[0m \u001b[0mglovekv\u001b[0m\u001b[0;34m.\u001b[0m\u001b[0mvector_size\u001b[0m\u001b[0;34m\u001b[0m\u001b[0;34m\u001b[0m\u001b[0m\n",
            "\u001b[0;32m/usr/local/lib/python3.10/dist-packages/gensim/models/keyedvectors.py\u001b[0m in \u001b[0;36mload_word2vec_format\u001b[0;34m(cls, fname, fvocab, binary, encoding, unicode_errors, limit, datatype, no_header)\u001b[0m\n\u001b[1;32m   1717\u001b[0m \u001b[0;34m\u001b[0m\u001b[0m\n\u001b[1;32m   1718\u001b[0m         \"\"\"\n\u001b[0;32m-> 1719\u001b[0;31m         return _load_word2vec_format(\n\u001b[0m\u001b[1;32m   1720\u001b[0m             \u001b[0mcls\u001b[0m\u001b[0;34m,\u001b[0m \u001b[0mfname\u001b[0m\u001b[0;34m,\u001b[0m \u001b[0mfvocab\u001b[0m\u001b[0;34m=\u001b[0m\u001b[0mfvocab\u001b[0m\u001b[0;34m,\u001b[0m \u001b[0mbinary\u001b[0m\u001b[0;34m=\u001b[0m\u001b[0mbinary\u001b[0m\u001b[0;34m,\u001b[0m \u001b[0mencoding\u001b[0m\u001b[0;34m=\u001b[0m\u001b[0mencoding\u001b[0m\u001b[0;34m,\u001b[0m \u001b[0municode_errors\u001b[0m\u001b[0;34m=\u001b[0m\u001b[0municode_errors\u001b[0m\u001b[0;34m,\u001b[0m\u001b[0;34m\u001b[0m\u001b[0;34m\u001b[0m\u001b[0m\n\u001b[1;32m   1721\u001b[0m             \u001b[0mlimit\u001b[0m\u001b[0;34m=\u001b[0m\u001b[0mlimit\u001b[0m\u001b[0;34m,\u001b[0m \u001b[0mdatatype\u001b[0m\u001b[0;34m=\u001b[0m\u001b[0mdatatype\u001b[0m\u001b[0;34m,\u001b[0m \u001b[0mno_header\u001b[0m\u001b[0;34m=\u001b[0m\u001b[0mno_header\u001b[0m\u001b[0;34m,\u001b[0m\u001b[0;34m\u001b[0m\u001b[0;34m\u001b[0m\u001b[0m\n",
            "\u001b[0;32m/usr/local/lib/python3.10/dist-packages/gensim/models/keyedvectors.py\u001b[0m in \u001b[0;36m_load_word2vec_format\u001b[0;34m(cls, fname, fvocab, binary, encoding, unicode_errors, limit, datatype, no_header, binary_chunk_size)\u001b[0m\n\u001b[1;32m   2046\u001b[0m \u001b[0;34m\u001b[0m\u001b[0m\n\u001b[1;32m   2047\u001b[0m     \u001b[0mlogger\u001b[0m\u001b[0;34m.\u001b[0m\u001b[0minfo\u001b[0m\u001b[0;34m(\u001b[0m\u001b[0;34m\"loading projection weights from %s\"\u001b[0m\u001b[0;34m,\u001b[0m \u001b[0mfname\u001b[0m\u001b[0;34m)\u001b[0m\u001b[0;34m\u001b[0m\u001b[0;34m\u001b[0m\u001b[0m\n\u001b[0;32m-> 2048\u001b[0;31m     \u001b[0;32mwith\u001b[0m \u001b[0mutils\u001b[0m\u001b[0;34m.\u001b[0m\u001b[0mopen\u001b[0m\u001b[0;34m(\u001b[0m\u001b[0mfname\u001b[0m\u001b[0;34m,\u001b[0m \u001b[0;34m'rb'\u001b[0m\u001b[0;34m)\u001b[0m \u001b[0;32mas\u001b[0m \u001b[0mfin\u001b[0m\u001b[0;34m:\u001b[0m\u001b[0;34m\u001b[0m\u001b[0;34m\u001b[0m\u001b[0m\n\u001b[0m\u001b[1;32m   2049\u001b[0m         \u001b[0;32mif\u001b[0m \u001b[0mno_header\u001b[0m\u001b[0;34m:\u001b[0m\u001b[0;34m\u001b[0m\u001b[0;34m\u001b[0m\u001b[0m\n\u001b[1;32m   2050\u001b[0m             \u001b[0;31m# deduce both vocab_size & vector_size from 1st pass over file\u001b[0m\u001b[0;34m\u001b[0m\u001b[0;34m\u001b[0m\u001b[0m\n",
            "\u001b[0;32m/usr/local/lib/python3.10/dist-packages/smart_open/smart_open_lib.py\u001b[0m in \u001b[0;36mopen\u001b[0;34m(uri, mode, buffering, encoding, errors, newline, closefd, opener, compression, transport_params)\u001b[0m\n\u001b[1;32m    175\u001b[0m         \u001b[0mtransport_params\u001b[0m \u001b[0;34m=\u001b[0m \u001b[0;34m{\u001b[0m\u001b[0;34m}\u001b[0m\u001b[0;34m\u001b[0m\u001b[0;34m\u001b[0m\u001b[0m\n\u001b[1;32m    176\u001b[0m \u001b[0;34m\u001b[0m\u001b[0m\n\u001b[0;32m--> 177\u001b[0;31m     fobj = _shortcut_open(\n\u001b[0m\u001b[1;32m    178\u001b[0m         \u001b[0muri\u001b[0m\u001b[0;34m,\u001b[0m\u001b[0;34m\u001b[0m\u001b[0;34m\u001b[0m\u001b[0m\n\u001b[1;32m    179\u001b[0m         \u001b[0mmode\u001b[0m\u001b[0;34m,\u001b[0m\u001b[0;34m\u001b[0m\u001b[0;34m\u001b[0m\u001b[0m\n",
            "\u001b[0;32m/usr/local/lib/python3.10/dist-packages/smart_open/smart_open_lib.py\u001b[0m in \u001b[0;36m_shortcut_open\u001b[0;34m(uri, mode, compression, buffering, encoding, errors, newline)\u001b[0m\n\u001b[1;32m    361\u001b[0m         \u001b[0mopen_kwargs\u001b[0m\u001b[0;34m[\u001b[0m\u001b[0;34m'errors'\u001b[0m\u001b[0;34m]\u001b[0m \u001b[0;34m=\u001b[0m \u001b[0merrors\u001b[0m\u001b[0;34m\u001b[0m\u001b[0;34m\u001b[0m\u001b[0m\n\u001b[1;32m    362\u001b[0m \u001b[0;34m\u001b[0m\u001b[0m\n\u001b[0;32m--> 363\u001b[0;31m     \u001b[0;32mreturn\u001b[0m \u001b[0m_builtin_open\u001b[0m\u001b[0;34m(\u001b[0m\u001b[0mlocal_path\u001b[0m\u001b[0;34m,\u001b[0m \u001b[0mmode\u001b[0m\u001b[0;34m,\u001b[0m \u001b[0mbuffering\u001b[0m\u001b[0;34m=\u001b[0m\u001b[0mbuffering\u001b[0m\u001b[0;34m,\u001b[0m \u001b[0;34m**\u001b[0m\u001b[0mopen_kwargs\u001b[0m\u001b[0;34m)\u001b[0m\u001b[0;34m\u001b[0m\u001b[0;34m\u001b[0m\u001b[0m\n\u001b[0m\u001b[1;32m    364\u001b[0m \u001b[0;34m\u001b[0m\u001b[0m\n\u001b[1;32m    365\u001b[0m \u001b[0;34m\u001b[0m\u001b[0m\n",
            "\u001b[0;31mFileNotFoundError\u001b[0m: [Errno 2] No such file or directory: 'glove.6B.50d.txt'"
          ]
        }
      ]
    },
    {
      "cell_type": "code",
      "source": [
        "salary_mapping = {\n",
        "    '< 60 mil': 1,\n",
        "    'entre 60 y 80 mil': 2,\n",
        "    'entre 80 y 100 mil': 3,\n",
        "    'entre 100 y 120 mil': 4,\n",
        "    'entre 120 y 150 mil': 5,\n",
        "    '> 150 mil': 6\n",
        "}\n",
        "\n",
        "df['salary_numeric'] = df['salary_range'].map(salary_mapping)"
      ],
      "metadata": {
        "id": "XLrlceN-heo-"
      },
      "execution_count": null,
      "outputs": []
    },
    {
      "cell_type": "code",
      "source": [
        "# Obtener las descripciones y los niveles de salario\n",
        "descriptions = df['description'].tolist()\n",
        "salaries = df['salary_numeric']\n",
        "\n",
        "# Crear vectores para las descripciones\n",
        "def get_average_vector(description, model):\n",
        "    words = description.split()\n",
        "    words_in_model = [word for word in words if word in model]\n",
        "    vectors = [model[word] for word in words_in_model]\n",
        "\n",
        "    if vectors:\n",
        "        return sum(vectors) / len(vectors)\n",
        "    else:\n",
        "        return [0] * model.vector_size  # Vector de ceros si no se encuentran palabras en el modelo\n",
        "\n",
        "# Crear una lista de vectores de descripciones\n",
        "description_vectors = [get_average_vector(desc, model) for desc in descriptions]"
      ],
      "metadata": {
        "id": "SaSaAycChIhj"
      },
      "execution_count": null,
      "outputs": []
    },
    {
      "cell_type": "code",
      "source": [
        "from sklearn.model_selection import train_test_split\n",
        "\n",
        "# Dividir los datos en conjuntos de entrenamiento y prueba\n",
        "X_train, X_test, y_train, y_test = train_test_split(description_vectors, salaries, test_size=0.2, random_state=42)\n",
        "\n",
        "# Crear un modelo de Random Forest\n",
        "rf = RandomForestRegressor(n_estimators=100, random_state=42)\n",
        "\n",
        "# Entrenar el modelo con el conjunto de entrenamiento\n",
        "rf.fit(X_train, y_train)\n",
        "\n",
        "# Realizar predicciones en el conjunto de prueba\n",
        "predictions = rf.predict(X_test)\n",
        "\n",
        "# Evaluar el modelo (por ejemplo, con la métrica de error absoluto medio)\n",
        "from sklearn.metrics import mean_absolute_error\n",
        "\n",
        "mae = mean_absolute_error(y_test, predictions)\n",
        "print(\"Error absoluto medio en el conjunto de prueba:\", mae)"
      ],
      "metadata": {
        "colab": {
          "base_uri": "https://localhost:8080/"
        },
        "id": "5JdqSkNwhwJH",
        "outputId": "2bfc7517-6313-41ca-87e1-245a950a11ca"
      },
      "execution_count": null,
      "outputs": [
        {
          "output_type": "stream",
          "name": "stdout",
          "text": [
            "Error absoluto medio en el conjunto de prueba: 0.8977406401268396\n"
          ]
        }
      ]
    },
    {
      "cell_type": "code",
      "source": [
        "# Evaluar el rendimiento del modelo\n",
        "from sklearn.metrics import mean_squared_error\n",
        "mse = mean_squared_error(y_test, predictions)\n",
        "print(f'Mean Squared Error: {mse}')"
      ],
      "metadata": {
        "colab": {
          "base_uri": "https://localhost:8080/"
        },
        "id": "ZcBSCK9diRL8",
        "outputId": "19e4c679-34a5-4705-ab75-b54e4fb4e14b"
      },
      "execution_count": null,
      "outputs": [
        {
          "output_type": "stream",
          "name": "stdout",
          "text": [
            "Mean Squared Error: 1.392047384334187\n"
          ]
        }
      ]
    },
    {
      "cell_type": "code",
      "source": [
        "from sklearn.metrics import r2_score\n",
        "\n",
        "r2 = r2_score(y_test, predictions)\n",
        "print(\"Coeficiente de determinación (R2):\", r2)"
      ],
      "metadata": {
        "colab": {
          "base_uri": "https://localhost:8080/"
        },
        "id": "lr6lCkLNiFbi",
        "outputId": "ec3d3972-b8ae-4e00-92ce-435cc01e75dc"
      },
      "execution_count": null,
      "outputs": [
        {
          "output_type": "stream",
          "name": "stdout",
          "text": [
            "Coeficiente de determinación (R2): 0.47387914470448667\n"
          ]
        }
      ]
    },
    {
      "cell_type": "code",
      "source": [
        "# Redondear las predicciones de Random Forest\n",
        "pred_rf = predictions.round()\n",
        "\n",
        "# Calcular el porcentaje de predicciones correctas para Random Forest\n",
        "accuracy_rf = (pred_rf == y_test).mean() * 100\n",
        "print(f'Porcentaje de Predicciones Correctas (Random Forest): {accuracy_rf:.2f}%')"
      ],
      "metadata": {
        "colab": {
          "base_uri": "https://localhost:8080/"
        },
        "id": "gzCAnx45iwo_",
        "outputId": "3757e567-df6f-4c7d-d262-e217aea57e77"
      },
      "execution_count": null,
      "outputs": [
        {
          "output_type": "stream",
          "name": "stdout",
          "text": [
            "Porcentaje de Predicciones Correctas (Random Forest): 39.35%\n"
          ]
        }
      ]
    },
    {
      "cell_type": "code",
      "source": [
        "import matplotlib.pyplot as plt\n",
        "import seaborn as sns\n",
        "\n",
        "# Crear un DataFrame con los resultados\n",
        "results_df = pd.DataFrame({'Actual': y_test, 'Predicted': predictions})\n",
        "\n",
        "# Gráfico de dispersión\n",
        "plt.figure(figsize=(10, 6))\n",
        "sns.scatterplot(x='Actual', y='Predicted', data=results_df)\n",
        "plt.title('Predicciones vs. Valores Reales')\n",
        "plt.xlabel('Valores Reales')\n",
        "plt.ylabel('Predicciones')\n",
        "plt.show()"
      ],
      "metadata": {
        "colab": {
          "base_uri": "https://localhost:8080/",
          "height": 564
        },
        "id": "M4GbjWqfifhU",
        "outputId": "cf978d88-a376-4fd2-9bee-6fa987f444a1"
      },
      "execution_count": null,
      "outputs": [
        {
          "output_type": "display_data",
          "data": {
            "text/plain": [
              "<Figure size 1000x600 with 1 Axes>"
            ],
            "image/png": "[encoded data removed]"
          },
          "metadata": {}
        }
      ]
    },
    {
      "cell_type": "code",
      "source": [
        "# Convertir y_test a una lista\n",
        "y_test_list = y_test.tolist()\n",
        "\n",
        "# Calcular los errores\n",
        "errors = y_test_list - predictions\n",
        "\n",
        "# Gráfico de la distribución de errores\n",
        "plt.figure(figsize=(10, 6))\n",
        "sns.histplot(errors, bins=30, kde=True)\n",
        "plt.title('Distribución de Errores')\n",
        "plt.xlabel('Error')\n",
        "plt.ylabel('Frecuencia')\n",
        "plt.show()"
      ],
      "metadata": {
        "colab": {
          "base_uri": "https://localhost:8080/",
          "height": 564
        },
        "id": "aZhls87YikFy",
        "outputId": "a95eab2f-92f1-478e-c8af-5bf991589a53"
      },
      "execution_count": null,
      "outputs": [
        {
          "output_type": "display_data",
          "data": {
            "text/plain": [
              "<Figure size 1000x600 with 1 Axes>"
            ],
            "image/png": "[encoded data removed]"
          },
          "metadata": {}
        }
      ]
    },
    {
      "cell_type": "markdown",
      "source": [
        "Grid Search"
      ],
      "metadata": {
        "id": "PxvQag7wjsD8"
      }
    },
    {
      "cell_type": "code",
      "source": [
        "from sklearn.model_selection import GridSearchCV\n",
        "\n",
        "param_grid = {\n",
        "    'n_estimators': [150, 200, 250],  # Prueba con diferentes cantidades de árboles\n",
        "    'max_depth': [20, 30, 35, 45]  # Prueba con diferentes profundidades máximas de los árboles\n",
        "}\n",
        "\n",
        "\n",
        "# Utilizar GridSearchCV para encontrar la mejor combinación de hiperparámetros\n",
        "grid_search = GridSearchCV(estimator = rf, param_grid = param_grid, cv=5, scoring='r2')\n",
        "grid_search.fit(X_train, y_train)\n",
        "\n",
        "# Obtener los mejores hiperparámetros encontrados\n",
        "best_params = grid_search.best_params_\n",
        "print(\"Mejores hiperparámetros:\", best_params)\n",
        "\n",
        "# Entrenar el modelo con los mejores hiperparámetros usando el conjunto de entrenamiento completo\n",
        "best_model = RandomForestRegressor(n_estimators=best_params['n_estimators'], max_depth=best_params['max_depth'], random_state=42)\n",
        "best_model.fit(X_train, y_train)\n",
        "\n",
        "# Realizar predicciones con el mejor modelo en el conjunto de prueba\n",
        "predictions2 = best_model.predict(X_test)\n",
        "\n",
        "# Calcular R^2 con el mejor modelo\n",
        "r2 = r2_score(y_test, predictions2)\n",
        "print(\"Coeficiente de determinación (R^2) con el mejor modelo:\", r2)"
      ],
      "metadata": {
        "colab": {
          "base_uri": "https://localhost:8080/"
        },
        "id": "YSlOjVTXjuN3",
        "outputId": "2577e251-2900-4359-d673-f41c079a2ced"
      },
      "execution_count": null,
      "outputs": [
        {
          "output_type": "stream",
          "name": "stdout",
          "text": [
            "Mejores hiperparámetros: {'max_depth': 30, 'n_estimators': 250}\n",
            "Coeficiente de determinación (R^2) con el mejor modelo: 0.4796666803689824\n"
          ]
        }
      ]
    },
    {
      "cell_type": "code",
      "source": [
        "# Redondear las predicciones de Random Forest\n",
        "pred_rf_gs = predictions2.round()\n",
        "\n",
        "# Calcular el porcentaje de predicciones correctas para Random Forest\n",
        "accuracy_rf = (pred_rf_gs == y_test).mean() * 100\n",
        "print(f'Porcentaje de Predicciones Correctas (Random Forest): {accuracy_rf:.2f}%')"
      ],
      "metadata": {
        "colab": {
          "base_uri": "https://localhost:8080/"
        },
        "id": "-1ERHshWj9sY",
        "outputId": "e176310a-c30b-4a50-a3fe-964d1b8c1670"
      },
      "execution_count": null,
      "outputs": [
        {
          "output_type": "stream",
          "name": "stdout",
          "text": [
            "Porcentaje de Predicciones Correctas (Random Forest): 39.16%\n"
          ]
        }
      ]
    },
    {
      "cell_type": "markdown",
      "source": [
        "No mejora con el Grid Search"
      ],
      "metadata": {
        "id": "3n6hVONY5OHj"
      }
    },
    {
      "cell_type": "markdown",
      "source": [
        "### Count Vectorizer Model"
      ],
      "metadata": {
        "id": "JxacYweIdXMm"
      }
    },
    {
      "cell_type": "code",
      "source": [
        "from sklearn.feature_extraction.text import CountVectorizer, TfidfTransformer\n",
        "from sklearn.model_selection import train_test_split\n",
        "from sklearn.ensemble import RandomForestClassifier\n",
        "from sklearn.linear_model import SGDClassifier\n",
        "from sklearn.svm import SVC\n",
        "from sklearn.metrics import accuracy_score, classification_report, confusion_matrix"
      ],
      "metadata": {
        "id": "WLnnjUKgdnrY"
      },
      "execution_count": null,
      "outputs": []
    },
    {
      "cell_type": "code",
      "source": [
        "y_clase = df['salary_range']\n",
        "\n",
        "# Dividir los datos en conjuntos de entrenamiento y prueba\n",
        "X_texto = df['description']\n",
        "train_text, test_text, y_train_class, y_test_class = train_test_split(X_texto, y_clase, test_size=0.2, random_state=42)"
      ],
      "metadata": {
        "id": "BRZ3t_g5elZJ"
      },
      "execution_count": null,
      "outputs": []
    },
    {
      "cell_type": "code",
      "source": [
        "# Aplicar Count Vectorizer\n",
        "vectorizador_contador = CountVectorizer()\n",
        "X_train_counts = vectorizador_contador.fit_transform(train_text)\n",
        "X_test_counts = vectorizador_contador.transform(test_text)"
      ],
      "metadata": {
        "id": "oJ3nyoJpeowH"
      },
      "execution_count": null,
      "outputs": []
    },
    {
      "cell_type": "code",
      "source": [
        "# Aplicar TF-IDF Transformation\n",
        "transformador_tfidf = TfidfTransformer()\n",
        "X_train_tfidf = transformador_tfidf.fit_transform(X_train_counts)\n",
        "X_test_tfidf = transformador_tfidf.transform(X_test_counts)"
      ],
      "metadata": {
        "id": "ig1WA5GWex0W"
      },
      "execution_count": null,
      "outputs": []
    },
    {
      "cell_type": "code",
      "source": [
        "# Clasificador Random Forest\n",
        "clasificador_rf = RandomForestClassifier(n_estimators=100, random_state=42)\n",
        "clasificador_rf.fit(X_train_tfidf, y_train_class)\n",
        "predicciones_rf = clasificador_rf.predict(X_test_tfidf)"
      ],
      "metadata": {
        "id": "HcKZG2iGexrX"
      },
      "execution_count": null,
      "outputs": []
    },
    {
      "cell_type": "code",
      "source": [
        "# Evaluar el clasificador Random Forest\n",
        "precision_rf = accuracy_score(y_test_class, predicciones_rf)\n",
        "print(f'Precisión del Clasificador Random Forest: {precision_rf}')"
      ],
      "metadata": {
        "colab": {
          "base_uri": "https://localhost:8080/"
        },
        "id": "QB20LIbPe4f8",
        "outputId": "132b3214-7cfa-4945-fce0-17556d30fe7d"
      },
      "execution_count": null,
      "outputs": [
        {
          "output_type": "stream",
          "name": "stdout",
          "text": [
            "Precisión del Clasificador Random Forest: 0.5043352601156069\n"
          ]
        }
      ]
    },
    {
      "cell_type": "code",
      "source": [
        "# Clasificador SGD\n",
        "clasificador_sgd = SGDClassifier(random_state=42)\n",
        "clasificador_sgd.fit(X_train_tfidf, y_train_class)\n",
        "predicciones_sgd = clasificador_sgd.predict(X_test_tfidf)"
      ],
      "metadata": {
        "id": "y0iU3tmae8LJ"
      },
      "execution_count": null,
      "outputs": []
    },
    {
      "cell_type": "code",
      "source": [
        "# Evaluar el clasificador SGD\n",
        "precision_sgd = accuracy_score(y_test_class, predicciones_sgd)\n",
        "print(f'Precisión del Clasificador SGD: {precision_sgd}')"
      ],
      "metadata": {
        "colab": {
          "base_uri": "https://localhost:8080/"
        },
        "id": "EpNjBy06fBhG",
        "outputId": "f8c4e248-1a88-496d-c061-d81c4a9440e7"
      },
      "execution_count": null,
      "outputs": [
        {
          "output_type": "stream",
          "name": "stdout",
          "text": [
            "Precisión del Clasificador SGD: 0.4975915221579961\n"
          ]
        }
      ]
    },
    {
      "cell_type": "code",
      "source": [
        "# Clasificador SVM\n",
        "clasificador_svm = SVC(random_state=42)\n",
        "clasificador_svm.fit(X_train_tfidf, y_train_class)\n",
        "predicciones_svm = clasificador_svm.predict(X_test_tfidf)"
      ],
      "metadata": {
        "id": "C9dJhmvXfHcs"
      },
      "execution_count": null,
      "outputs": []
    },
    {
      "cell_type": "code",
      "source": [
        "# Evaluar el clasificador SVM\n",
        "precision_svm = accuracy_score(y_test_class, predicciones_svm)\n",
        "print(f'Precisión del Clasificador SVM: {precision_svm}')"
      ],
      "metadata": {
        "colab": {
          "base_uri": "https://localhost:8080/"
        },
        "id": "vnwJ0yNgfLUR",
        "outputId": "cf02659c-bced-4fa8-b0db-585e02172d4b"
      },
      "execution_count": null,
      "outputs": [
        {
          "output_type": "stream",
          "name": "stdout",
          "text": [
            "Precisión del Clasificador SVM: 0.5351637764932563\n"
          ]
        }
      ]
    },
    {
      "cell_type": "code",
      "source": [
        "print('\\nInforme del Clasificador Random Forest:')\n",
        "print(classification_report(y_test_class, predicciones_rf))\n",
        "\n",
        "print('\\nInforme del Clasificador SGD:')\n",
        "print(classification_report(y_test_class, predicciones_sgd))\n",
        "\n",
        "print('\\nInforme del Clasificador SVM:')\n",
        "print(classification_report(y_test_class, predicciones_svm))"
      ],
      "metadata": {
        "colab": {
          "base_uri": "https://localhost:8080/"
        },
        "id": "_BSa4B--fOeg",
        "outputId": "35c4fe63-cfab-4e4a-a66c-47b18d73eb54"
      },
      "execution_count": null,
      "outputs": [
        {
          "output_type": "stream",
          "name": "stdout",
          "text": [
            "\n",
            "Informe del Clasificador Random Forest:\n",
            "                     precision    recall  f1-score   support\n",
            "\n",
            "           < 60 mil       0.52      0.84      0.64       509\n",
            "          > 150 mil       0.64      0.48      0.55       163\n",
            "entre 100 y 120 mil       0.44      0.45      0.44       371\n",
            "entre 120 y 150 mil       0.65      0.40      0.49       293\n",
            "  entre 60 y 80 mil       0.44      0.38      0.41       447\n",
            " entre 80 y 100 mil       0.47      0.31      0.37       293\n",
            "\n",
            "           accuracy                           0.50      2076\n",
            "          macro avg       0.53      0.47      0.48      2076\n",
            "       weighted avg       0.51      0.50      0.49      2076\n",
            "\n",
            "\n",
            "Informe del Clasificador SGD:\n",
            "                     precision    recall  f1-score   support\n",
            "\n",
            "           < 60 mil       0.59      0.78      0.67       509\n",
            "          > 150 mil       0.47      0.60      0.53       163\n",
            "entre 100 y 120 mil       0.43      0.40      0.41       371\n",
            "entre 120 y 150 mil       0.48      0.44      0.46       293\n",
            "  entre 60 y 80 mil       0.48      0.36      0.41       447\n",
            " entre 80 y 100 mil       0.40      0.34      0.37       293\n",
            "\n",
            "           accuracy                           0.50      2076\n",
            "          macro avg       0.48      0.49      0.48      2076\n",
            "       weighted avg       0.49      0.50      0.49      2076\n",
            "\n",
            "\n",
            "Informe del Clasificador SVM:\n",
            "                     precision    recall  f1-score   support\n",
            "\n",
            "           < 60 mil       0.62      0.79      0.69       509\n",
            "          > 150 mil       0.62      0.53      0.57       163\n",
            "entre 100 y 120 mil       0.44      0.52      0.48       371\n",
            "entre 120 y 150 mil       0.59      0.43      0.50       293\n",
            "  entre 60 y 80 mil       0.49      0.45      0.47       447\n",
            " entre 80 y 100 mil       0.45      0.36      0.40       293\n",
            "\n",
            "           accuracy                           0.54      2076\n",
            "          macro avg       0.54      0.51      0.52      2076\n",
            "       weighted avg       0.53      0.54      0.53      2076\n",
            "\n"
          ]
        }
      ]
    },
    {
      "cell_type": "markdown",
      "source": [
        "## Mejora de hiperparamtros"
      ],
      "metadata": {
        "id": "8zLJfcHrpjry"
      }
    },
    {
      "cell_type": "code",
      "source": [
        "from sklearn.model_selection import train_test_split, GridSearchCV\n",
        "from sklearn.svm import SVC\n",
        "\n",
        "parametros_svm = {'C': [0.1, 0.5, 1], 'kernel': ['linear', 'rbf'], 'gamma': ['scale', 'auto']}\n",
        "X_train_tfidf_subset, _, y_train_class_subset, _ = train_test_split(X_train_tfidf, y_train_class, test_size=0.2, random_state=42)\n",
        "\n",
        "clasificador_svm = SVC(random_state=42)\n",
        "\n",
        "# Búsqueda de hiperparámetros con un rango reducido y un conjunto de datos reducido\n",
        "grid_search_svm = GridSearchCV(clasificador_svm, parametros_svm, cv=5, scoring='accuracy')\n",
        "grid_search_svm.fit(X_train_tfidf_subset, y_train_class_subset)\n",
        "\n",
        "mejores_parametros = grid_search_svm.best_params_\n",
        "print(\"Mejores parámetros:\", mejores_parametros)"
      ],
      "metadata": {
        "id": "x1WOoZjNVf9W"
      },
      "execution_count": null,
      "outputs": []
    },
    {
      "cell_type": "code",
      "source": [
        "# mejores parametros\n",
        "clasificador_svm = SVC(C = 100, kernel= 'rbf', gamma= 'scale', random_state=42)\n",
        "\n",
        "clasificador_svm.fit(X_train_tfidf, y_train_class)\n",
        "predicciones_svm = clasificador_svm.predict(X_test_tfidf)\n",
        "\n",
        "# Evaluar el rendimiento del modelo\n",
        "accuracy = accuracy_score(y_test_class, predicciones_svm)\n",
        "print(f'Precisión del modelo: {accuracy:.2f}')\n",
        "\n",
        "# Mostrar el informe de clasificación\n",
        "report = classification_report(y_test_class, predicciones_svm)\n",
        "print('Informe de clasificación:\\n', report)"
      ],
      "metadata": {
        "colab": {
          "base_uri": "https://localhost:8080/"
        },
        "id": "SFVuA7Di-8_t",
        "outputId": "50dda77f-2364-49f8-8971-3c9f587eac81"
      },
      "execution_count": null,
      "outputs": [
        {
          "output_type": "stream",
          "name": "stdout",
          "text": [
            "Precisión del modelo: 0.55\n",
            "Informe de clasificación:\n",
            "                      precision    recall  f1-score   support\n",
            "\n",
            "           < 60 mil       0.68      0.66      0.67       479\n",
            "          > 150 mil       0.69      0.45      0.54       164\n",
            "entre 100 y 120 mil       0.57      0.48      0.52       384\n",
            "entre 120 y 150 mil       0.44      0.58      0.50       235\n",
            "  entre 60 y 80 mil       0.49      0.62      0.55       457\n",
            " entre 80 y 100 mil       0.48      0.38      0.43       329\n",
            "\n",
            "           accuracy                           0.55      2048\n",
            "          macro avg       0.56      0.53      0.53      2048\n",
            "       weighted avg       0.56      0.55      0.55      2048\n",
            "\n"
          ]
        }
      ]
    },
    {
      "cell_type": "code",
      "source": [
        "from sklearn.preprocessing import StandardScaler\n",
        "\n",
        "# Normalizar los datos antes de aplicar PCA\n",
        "scaler = StandardScaler()\n",
        "X_train_normalized = scaler.fit_transform(X_train_tfidf.toarray())\n",
        "X_test_normalized = scaler.transform(X_test_tfidf.toarray())\n",
        "from sklearn.decomposition import PCA\n",
        "\n",
        "# Aplicar PCA\n",
        "num_componentes = 500  # ajusta el número de componentes según tus necesidades\n",
        "pca = PCA(n_components=num_componentes)\n",
        "# Aplicar PCA a los datos normalizados\n",
        "pca = PCA(n_components=num_componentes)\n",
        "X_train_pca_normalized = pca.fit_transform(X_train_normalized)\n",
        "X_test_pca_normalized = pca.transform(X_test_normalized)\n",
        "\n",
        "# Clasificador Random Forest con datos normalizados y PCA\n",
        "clasificador_rf_normalized = RandomForestClassifier(n_estimators=100, random_state=42)\n",
        "clasificador_rf_normalized.fit(X_train_pca_normalized, y_train_class)\n",
        "predicciones_rf_normalized = clasificador_rf_normalized.predict(X_test_pca_normalized)\n",
        "\n",
        "# Evaluar el clasificador Random Forest con datos normalizados y PCA\n",
        "precision_rf_normalized = accuracy_score(y_test_class, predicciones_rf_normalized)\n",
        "print(f'Precisión del Clasificador Random Forest con datos normalizados y PCA: {precision_rf_normalized}')\n",
        "\n",
        "# Clasificador SGD con datos normalizados y PCA\n",
        "clasificador_sgd_normalized = SGDClassifier(random_state=42)\n",
        "clasificador_sgd_normalized.fit(X_train_pca_normalized, y_train_class)\n",
        "predicciones_sgd_normalized = clasificador_sgd_normalized.predict(X_test_pca_normalized)\n",
        "\n",
        "# Evaluar el clasificador SGD con datos normalizados y PCA\n",
        "precision_sgd_normalized = accuracy_score(y_test_class, predicciones_sgd_normalized)\n",
        "print(f'Precisión del Clasificador SGD con datos normalizados y PCA: {precision_sgd_normalized}')\n",
        "\n",
        "# Clasificador SVM con datos normalizados y PCA\n",
        "clasificador_svm_normalized = SVC(random_state=42)\n",
        "clasificador_svm_normalized.fit(X_train_pca_normalized, y_train_class)\n",
        "predicciones_svm_normalized = clasificador_svm_normalized.predict(X_test_pca_normalized)\n",
        "\n",
        "# Evaluar el clasificador SVM con datos normalizados y PCA\n",
        "precision_svm_normalized = accuracy_score(y_test_class, predicciones_svm_normalized)\n",
        "print(f'Precisión del Clasificador SVM con datos normalizados y PCA: {precision_svm_normalized}')\n",
        "\n",
        "# Mostrar informes de clasificación\n",
        "print('\\nInforme del Clasificador Random Forest con datos normalizados y PCA:')\n",
        "print(classification_report(y_test_class, predicciones_rf_normalized))\n",
        "\n",
        "print('\\nInforme del Clasificador SGD con datos normalizados y PCA:')\n",
        "print(classification_report(y_test_class, predicciones_sgd_normalized))\n",
        "\n",
        "print('\\nInforme del Clasificador SVM con datos normalizados y PCA:')\n",
        "print(classification_report(y_test_class, predicciones_svm_normalized))\n"
      ],
      "metadata": {
        "id": "XvyW9QIIZLeu"
      },
      "execution_count": null,
      "outputs": []
    }
  ]
}